{
 "cells": [
  {
   "cell_type": "code",
   "execution_count": 4,
   "metadata": {
    "ExecuteTime": {
     "end_time": "2021-05-06T16:05:36.367480Z",
     "start_time": "2021-05-06T16:05:36.338595Z"
    }
   },
   "outputs": [],
   "source": [
    "import tensorflow as tf\n",
    "import tensorflow_probability as tfp\n",
    "tfd = tfp.distributions\n",
    "# x=1\n",
    "# f = lambda x: tfd.Independent(tfd.Normal(\n",
    "# loc=x, scale=1.))\n",
    "# n = x.shape[0].value\n",
    "# kde = tfd.MixtureSameFamily(\n",
    "# mixture_distribution=tfd.Categorical(\n",
    "# probs=[1 / n] * n),\n",
    "# components_distribution=f(x))"
   ]
  },
  {
   "cell_type": "code",
   "execution_count": 5,
   "metadata": {
    "ExecuteTime": {
     "end_time": "2021-05-06T16:05:41.572495Z",
     "start_time": "2021-05-06T16:05:38.710721Z"
    }
   },
   "outputs": [],
   "source": [
    "dist = tfp.distributions.VonMises(loc=[1.0, 2.0], concentration=[0.5, 2.0])"
   ]
  },
  {
   "cell_type": "code",
   "execution_count": 9,
   "metadata": {
    "ExecuteTime": {
     "end_time": "2021-05-06T16:05:58.969630Z",
     "start_time": "2021-05-06T16:05:58.916490Z"
    }
   },
   "outputs": [
    {
     "data": {
      "text/plain": [
       "<tf.Tensor: shape=(3, 2), dtype=float32, numpy=\n",
       "array([[ 1.7845032 , -2.7857533 ],\n",
       "       [-1.2284737 ,  2.4649649 ],\n",
       "       [ 0.88499177,  2.164479  ]], dtype=float32)>"
      ]
     },
     "execution_count": 9,
     "metadata": {},
     "output_type": "execute_result"
    }
   ],
   "source": [
    "dist.sample([3])"
   ]
  }
 ],
 "metadata": {
  "hide_input": false,
  "kernelspec": {
   "display_name": "Python 3",
   "language": "python",
   "name": "python3"
  },
  "language_info": {
   "codemirror_mode": {
    "name": "ipython",
    "version": 3
   },
   "file_extension": ".py",
   "mimetype": "text/x-python",
   "name": "python",
   "nbconvert_exporter": "python",
   "pygments_lexer": "ipython3",
   "version": "3.8.5"
  }
 },
 "nbformat": 4,
 "nbformat_minor": 4
}
