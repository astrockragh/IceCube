{
 "cells": [
  {
   "cell_type": "code",
   "execution_count": 1,
   "metadata": {
    "ExecuteTime": {
     "end_time": "2021-04-15T21:30:01.839940Z",
     "start_time": "2021-04-15T21:29:54.606879Z"
    }
   },
   "outputs": [
    {
     "name": "stdout",
     "output_type": "stream",
     "text": [
      "Notebook\n",
      "GPU detected\n",
      "Not notebook\n"
     ]
    }
   ],
   "source": [
    "import os, sys, argparse, importlib, time, inspect\n",
    "import numpy as np\n",
    "import matplotlib.pyplot as plt\n",
    "import os.path as osp\n",
    "if hasattr(__builtins__,'__IPYTHON__'):\n",
    "    print('Notebook')\n",
    "    from tqdm.notebook import tqdm\n",
    "else:\n",
    "    print('Not notebook')\n",
    "    from tqdm import tqdm\n",
    "from tensorflow.keras import backend as K\n",
    "os.environ['TF_CPP_MIN_LOG_LEVEL'] = '2' \n",
    "import tensorflow as tf\n",
    "import tensorflow_probability as tfp\n",
    "\n",
    "gpu_devices = tf.config.list_physical_devices('GPU') \n",
    "if len(gpu_devices) > 0:\n",
    "    print(\"GPU detected\")\n",
    "    tf.config.experimental.set_memory_growth(gpu_devices[0], True)\n",
    "else:\n",
    "    print('No GPU detected')\n",
    "\n",
    "from tensorflow.keras.optimizers import Adam\n",
    "from tensorflow.keras.losses import MeanSquaredError\n",
    "from tensorflow.keras.models import load_model, Model\n",
    "import spektral\n",
    "from sklearn.preprocessing import normalize\n",
    "from spektral.data import DisjointLoader, BatchLoader, SingleLoader\n",
    "from importlib import reload\n",
    "import winsound\n",
    "import dill\n",
    "import datetime as dt\n",
    "import data_load as dl\n",
    "graph_data=dl.graph_data"
   ]
  },
  {
   "cell_type": "code",
   "execution_count": 2,
   "metadata": {
    "ExecuteTime": {
     "end_time": "2021-04-15T21:30:16.097949Z",
     "start_time": "2021-04-15T21:30:01.841935Z"
    }
   },
   "outputs": [
    {
     "name": "stdout",
     "output_type": "stream",
     "text": [
      "WARNING:tensorflow:No training configuration found in save file, so the model was *not* compiled. Compile it manually.\n"
     ]
    }
   ],
   "source": [
    "model=tf.keras.models.load_model('from_config/trained_models/IceCube/Sage_sage1nonorm_10_2aauycmh')\n",
    "model.compile()"
   ]
  },
  {
   "cell_type": "code",
   "execution_count": 15,
   "metadata": {
    "ExecuteTime": {
     "end_time": "2021-04-16T08:45:42.478916Z",
     "start_time": "2021-04-16T08:43:26.486084Z"
    }
   },
   "outputs": [
    {
     "name": "stdout",
     "output_type": "stream",
     "text": [
      "Removed and ready to reload\n",
      "Connecting to db-file\n",
      "Loading Muons\n",
      "Reading files\n"
     ]
    },
    {
     "name": "stderr",
     "output_type": "stream",
     "text": [
      "C:\\Users\\chris\\anaconda3\\lib\\site-packages\\sklearn\\base.py:329: UserWarning: Trying to unpickle estimator RobustScaler from version 0.19.1 when using version 0.23.2. This might lead to breaking code or invalid results. Use at your own risk.\n",
      "  warnings.warn(\n"
     ]
    },
    {
     "name": "stdout",
     "output_type": "stream",
     "text": [
      "Splitting data to events\n"
     ]
    },
    {
     "name": "stderr",
     "output_type": "stream",
     "text": [
      "  0%|▏                                                                          | 235/100000 [00:00<01:30, 1106.32it/s]"
     ]
    },
    {
     "name": "stdout",
     "output_type": "stream",
     "text": [
      "     dom_x    dom_y    dom_z      time  charge_log10  SRTInIcePulses\n",
      "0  0.11439 -0.46199 -0.14812  1.622453     -0.621035               0\n",
      "1  0.13203  0.20298  0.12828 -0.060393     -1.921554               1\n",
      "2  0.13203  0.20298  0.11126 -0.000741     -1.656923               1\n",
      "3  0.38235  0.23890 -0.38653 -0.212301     -0.280277               0\n",
      "4  0.50527  0.25788 -0.37884 -1.727306      0.162615               0\n",
      "   energy_log10    zenith   azimuth\n",
      "0      2.437721  0.661937  1.697274\n",
      "1      2.584876  0.205041  4.291144\n",
      "2      2.476674  0.661661  1.374715\n",
      "3      2.409273  0.390813  2.876407\n",
      "4      2.356129  0.889406  2.381056\n",
      "Generating adjacency matrices\n"
     ]
    },
    {
     "name": "stderr",
     "output_type": "stream",
     "text": [
      "100%|████████████████████████████████████████████████████████████████████████| 100000/100000 [01:12<00:00, 1386.52it/s]\n"
     ]
    },
    {
     "name": "stdout",
     "output_type": "stream",
     "text": [
      "Saving dataset\n",
      "Loading data to memory\n"
     ]
    }
   ],
   "source": [
    "batch_size=512\n",
    "dataset=graph_data(n_data=100000,skip=int(1.4e6-1), restart=1, transform=True, angle=True, unitvec=False)\n",
    "\n",
    "# print(len(dataset_test))\n",
    "# winsound.Beep(400,300)"
   ]
  },
  {
   "cell_type": "code",
   "execution_count": 28,
   "metadata": {
    "ExecuteTime": {
     "end_time": "2021-04-16T08:49:29.064456Z",
     "start_time": "2021-04-16T08:49:29.051488Z"
    }
   },
   "outputs": [],
   "source": [
    "loader_test = DisjointLoader(dataset, batch_size=batch_size, epochs=1)"
   ]
  },
  {
   "cell_type": "code",
   "execution_count": 17,
   "metadata": {
    "ExecuteTime": {
     "end_time": "2021-04-16T08:45:42.683640Z",
     "start_time": "2021-04-16T08:45:42.670673Z"
    },
    "code_folding": [
     0
    ]
   },
   "outputs": [],
   "source": [
    "def loss_func(y_reco, y_true, re=False):\n",
    "    loss_energy = tf.reduce_mean(abs(tf.subtract(y_reco[:,0], y_true[:,0])))\n",
    "    kappa=tf.math.abs(y_reco[:,3])\n",
    "#     tf.print(tf.reduce_mean(kappa))\n",
    "    azp = y_reco[:,2] #Azimuth prediction\n",
    "    azt = y_true[:,2] #Azimuth target\n",
    "    zep = y_reco[:,1] #Zenith prediction\n",
    "    zet = y_true[:,1] #Zenith target\n",
    "    s1 = tf.math.sin(zet + azt - azp )\n",
    "    s2 = tf.math.sin( zet - azt + azp )\n",
    "    c1 = tf.math.cos( zet - zep )\n",
    "    c2 = tf.math.cos( zet + zep )\n",
    "    cos_angle = 0.5*tf.math.abs(tf.math.sin(zep))*( s1 + s2 ) + 0.5*(c1 + c2)\n",
    "    nlogC = - tf.math.log(kappa) + kappa + tf.math.log( 1 - tf.math.exp( - 2 * kappa) )\n",
    "\n",
    "    loss_angle = tf.reduce_mean( - kappa*cos_angle + nlogC )\n",
    "    if not re:\n",
    "        return loss_angle+loss_energy\n",
    "    if re:\n",
    "        return float(loss_angle+loss_energy), [float(loss_energy), float(loss_angle)]"
   ]
  },
  {
   "cell_type": "code",
   "execution_count": 18,
   "metadata": {
    "ExecuteTime": {
     "end_time": "2021-04-16T08:45:42.714557Z",
     "start_time": "2021-04-16T08:45:42.686631Z"
    }
   },
   "outputs": [],
   "source": [
    "def metrics_angle(y_reco, y_true):\n",
    "    w_energy = tfp.stats.percentile(tf.math.abs(tf.subtract(y_true[:, 0], y_reco[:, 0])), [50-34, 50, 50+34]) \n",
    "#     w_energy         = (energy_quantiles[1] - energy_quantiles[0]) / 1.349\n",
    "    \n",
    "    alpha= tf.math.acos(tf.math.sin(y_reco[:, 1])*tf.math.sin(y_true[:, 1])*tf.math.cos(tf.subtract(y_reco[:, 2],y_true[:, 2]))+tf.math.cos(y_reco[:, 1])*tf.math.cos(y_true[:, 1]))\n",
    "    # tf.print(alpha)\n",
    "    angle_resi = 180 / np.pi * alpha #degrees\n",
    "    u_angle         = tfp.stats.percentile(angle_resi, [50-34,50,50+34])\n",
    "\n",
    "    return w_energy.numpy(), u_angle.numpy()\n",
    "\n",
    "metrics=metrics_angle\n"
   ]
  },
  {
   "cell_type": "code",
   "execution_count": 29,
   "metadata": {
    "ExecuteTime": {
     "end_time": "2021-04-16T08:49:30.914555Z",
     "start_time": "2021-04-16T08:49:30.674023Z"
    }
   },
   "outputs": [],
   "source": [
    "@tf.function(input_signature = loader_test.tf_signature(), experimental_relax_shapes = True)\n",
    "def test_step(inputs, targets):\n",
    "    predictions = model(inputs, training = False)\n",
    "    targets     = tf.cast(targets, tf.float32) \n",
    "\n",
    "    return predictions, targets\n",
    "\n",
    "def performance_e_alpha(loader, plot=True):\n",
    "    '''Function to test and plot performance of Graph DL\n",
    "    input should be dom pos x,y,z , time, charge(log10)\n",
    "    target should be energy(log10),zenith angle, azimuthal angle, NOT unit vec \n",
    "    '''\n",
    "    loss = 0\n",
    "    prediction_list, target_list = [], []\n",
    "    for batch in tqdm(loader):\n",
    "        inputs, targets = batch\n",
    "        predictions, targets = test_step(inputs, targets)\n",
    "        \n",
    "        prediction_list.append(predictions)\n",
    "        target_list.append(targets)\n",
    "\n",
    "    y_reco  = tf.concat(prediction_list, axis = 0).numpy()\n",
    "    y_true  = tf.concat(target_list, axis = 0)\n",
    "    y_true  = tf.cast(y_true, tf.float32).numpy()\n",
    "\n",
    "    energy = y_true[:, 0]\n",
    "    counts, bins = np.histogram(energy, bins = 10)\n",
    "\n",
    "    xs = (bins[1:] + bins[: -1]) / 2\n",
    "\n",
    "    w_energies, u_angles = [], []\n",
    "    e_sig, alpha_sig = [], [] \n",
    "    for i in range(len(bins)-1):\n",
    "        idx = np.logical_and(energy > bins[i], energy < bins[i + 1])\n",
    "\n",
    "        w, u_angle = metrics(y_reco[idx, :], y_true[idx, :])\n",
    "\n",
    "        w_energies.append(w[1])\n",
    "        u_angles.append(u_angle[1])\n",
    "        e_sig.append([w[0], w[2]])\n",
    "        alpha_sig.append([u_angle[0], u_angle[2]])\n",
    "    if plot:\n",
    "        fig, ax = plt.subplots(ncols = 2, nrows = 1, figsize = (12, 6))\n",
    "\n",
    "        for a in ax:\n",
    "            a_ = a.twinx()\n",
    "            a_.step(xs, counts, color = \"gray\", zorder = 10, alpha = 0.7, where = \"mid\")\n",
    "            a_.set_yscale(\"log\")\n",
    "            a.set_xlabel(\"Log Energy\")\n",
    "        \n",
    "        ax_top = ax\n",
    "\n",
    "        # Energy reconstruction\n",
    "        ax_top[0].errorbar(xs, w_energies,yerr=np.array(e_sig).T, fmt='k.',capsize=2,linewidth=1,ecolor='r',label='data')\n",
    "        ax_top[0].set_title(\"Energy Performance\")\n",
    "        ax_top[0].set_ylabel(r\"$\\Delta log(E)$\")\n",
    "\n",
    "        # Angle reconstruction\n",
    "        ax_top[1].errorbar(xs, u_angles,yerr=np.array(alpha_sig).T, fmt='k.',capsize=2,linewidth=1,ecolor='r',label='data')\n",
    "        ax_top[1].set_title(\"Angle Performance\")\n",
    "        ax_top[1].set_ylabel(r\"$\\Delta \\Omega$\")\n",
    "\n",
    "        return fig, ax"
   ]
  },
  {
   "cell_type": "code",
   "execution_count": 30,
   "metadata": {
    "ExecuteTime": {
     "end_time": "2021-04-16T08:52:01.562993Z",
     "start_time": "2021-04-16T08:49:31.924248Z"
    },
    "scrolled": false
   },
   "outputs": [
    {
     "data": {
      "application/vnd.jupyter.widget-view+json": {
       "model_id": "023e5220610c4b3697c9b9c6b124b0cb",
       "version_major": 2,
       "version_minor": 0
      },
      "text/plain": [
       "HBox(children=(HTML(value=''), FloatProgress(value=1.0, bar_style='info', layout=Layout(width='20px'), max=1.0…"
      ]
     },
     "metadata": {},
     "output_type": "display_data"
    },
    {
     "name": "stdout",
     "output_type": "stream",
     "text": [
      "\n"
     ]
    },
    {
     "data": {
      "image/png": "[encoded data removed]",
      "text/plain": [
       "<Figure size 864x432 with 4 Axes>"
      ]
     },
     "metadata": {
      "needs_background": "light"
     },
     "output_type": "display_data"
    }
   ],
   "source": [
    "fig, ax = performance_e_alpha(loader_test)"
   ]
  },
  {
   "cell_type": "code",
   "execution_count": 63,
   "metadata": {
    "ExecuteTime": {
     "end_time": "2021-04-16T09:12:23.832704Z",
     "start_time": "2021-04-16T09:10:03.450876Z"
    }
   },
   "outputs": [
    {
     "name": "stderr",
     "output_type": "stream",
     "text": [
      "<ipython-input-63-80413c393d6b>:10: VisibleDeprecationWarning: Creating an ndarray from ragged nested sequences (which is a list-or-tuple of lists-or-tuples-or ndarrays with different lengths or shapes) is deprecated. If you meant to do this, you must specify 'dtype=object' when creating the ndarray\n",
      "  pred, true=np.array(prediction_list), np.array(target_list)\n"
     ]
    }
   ],
   "source": [
    "loader = DisjointLoader(dataset, batch_size=batch_size, epochs=1)\n",
    "\n",
    "prediction_list, target_list = [], []\n",
    "for batch in loader:\n",
    "    inputs, targets = batch\n",
    "    predictions, targets, out = test_step(inputs, targets)\n",
    "\n",
    "    prediction_list.append(predictions.numpy())\n",
    "    target_list.append(targets.numpy())\n",
    "pred, true=np.array(prediction_list), np.array(target_list)\n",
    "c='start'\n",
    "for p in pred:\n",
    "    if type(c)==str:\n",
    "        c=p\n",
    "    else:\n",
    "        c=np.vstack((c,p))\n",
    "\n",
    "pred=c\n",
    "c='start'\n",
    "for p in true:\n",
    "    if type(c)==str:\n",
    "        c=p\n",
    "    else:\n",
    "        c=np.vstack((c,p))\n",
    "true=c"
   ]
  },
  {
   "cell_type": "code",
   "execution_count": 76,
   "metadata": {
    "ExecuteTime": {
     "end_time": "2021-04-16T09:18:27.217467Z",
     "start_time": "2021-04-16T09:18:27.199516Z"
    }
   },
   "outputs": [],
   "source": [
    "maskzen=pred[:,3]>np.mean(pred[:,3])"
   ]
  },
  {
   "cell_type": "code",
   "execution_count": 77,
   "metadata": {
    "ExecuteTime": {
     "end_time": "2021-04-16T09:18:27.576807Z",
     "start_time": "2021-04-16T09:18:27.428088Z"
    }
   },
   "outputs": [
    {
     "data": {
      "image/png": "[encoded data removed]",
      "text/plain": [
       "<Figure size 432x288 with 1 Axes>"
      ]
     },
     "metadata": {
      "needs_background": "light"
     },
     "output_type": "display_data"
    }
   ],
   "source": [
    "plt.hist2d(true[:,1][maskzen],pred[:,1][maskzen], bins=50);"
   ]
  },
  {
   "cell_type": "code",
   "execution_count": 237,
   "metadata": {
    "ExecuteTime": {
     "end_time": "2021-04-16T13:43:22.982427Z",
     "start_time": "2021-04-16T13:43:21.414243Z"
    }
   },
   "outputs": [],
   "source": [
    "loader = DisjointLoader(dataset, batch_size=1, epochs=1)\n",
    "for i, batch in enumerate(loader):\n",
    "    if i!=0:\n",
    "        break\n",
    "    else:\n",
    "        X,Y=batch\n",
    "def f(X):\n",
    "    return model([X[:,i] for i in range(X.shape[1])]).flatten()"
   ]
  },
  {
   "cell_type": "code",
   "execution_count": 206,
   "metadata": {
    "ExecuteTime": {
     "end_time": "2021-04-16T11:17:07.229844Z",
     "start_time": "2021-04-16T11:17:06.561367Z"
    },
    "scrolled": false
   },
   "outputs": [
    {
     "data": {
      "text/plain": [
       "array([[2.2858586e+00, 8.7564194e-01, 1.4118334e+00, 3.5069420e+00,\n",
       "        2.8451700e+01],\n",
       "       [2.6735671e+00, 7.0045906e-01, 1.2953039e+00, 1.1683338e+02,\n",
       "        5.6951715e+02],\n",
       "       [2.5628908e+00, 3.3952430e-01, 1.8762739e+00, 1.9079247e+01,\n",
       "        2.1348485e+02],\n",
       "       [3.0431426e+00, 3.5632506e-01, 1.9580299e+00, 2.0733351e+01,\n",
       "        1.5503844e+02],\n",
       "       [2.3856163e+00, 1.1657273e+00, 1.1564362e+00, 6.0972668e+01,\n",
       "        1.0032231e+02],\n",
       "       [2.5753064e+00, 1.1205094e+00, 3.5434253e+00, 9.3913597e+01,\n",
       "        1.7786584e+02],\n",
       "       [2.6996746e+00, 2.1114388e-01, 3.4371817e+00, 1.2705321e+01,\n",
       "        4.1107410e+02],\n",
       "       [2.1781392e+00, 1.1001470e+00, 2.3805346e+00, 4.9331999e+00,\n",
       "        3.7613815e+01],\n",
       "       [2.3797405e+00, 1.0322312e+00, 3.0341485e+00, 5.3053002e+00,\n",
       "        3.7415470e+01],\n",
       "       [2.7637661e+00, 5.0368047e-01, 2.3872874e+00, 4.9672779e+01,\n",
       "        2.7815973e+02]], dtype=float32)"
      ]
     },
     "execution_count": 206,
     "metadata": {},
     "output_type": "execute_result"
    }
   ],
   "source": [
    "def wrap(data):\n",
    "    X,Y=data[0], data[1]\n",
    "    pred=np.array(predict(X,Y))\n",
    "    c='start'\n",
    "    for p in pred:\n",
    "        if type(c)==str:\n",
    "            c=p\n",
    "        else:\n",
    "            c=np.vstack((c,p))\n",
    "    return c\n",
    "\n",
    "@tf.function(input_signature = loader.tf_signature(), experimental_relax_shapes = True)\n",
    "def predict(X,Y):\n",
    "    pred = model(X)\n",
    "    return pred\n",
    "\n",
    "wrap([X,Y])"
   ]
  },
  {
   "cell_type": "code",
   "execution_count": 247,
   "metadata": {
    "ExecuteTime": {
     "end_time": "2021-04-16T13:58:52.481627Z",
     "start_time": "2021-04-16T13:58:52.259572Z"
    }
   },
   "outputs": [],
   "source": [
    "# Define grad tracking function function\n",
    "@tf.function(input_signature = loader.tf_signature(), experimental_relax_shapes = True)\n",
    "def gradient_importance(inputs, targets):\n",
    "#     features=tf.Variable(0)\n",
    "    with tf.GradientTape() as tape:\n",
    "        tape.watch(inputs)\n",
    "        predictions = model(inputs)\n",
    "    grads = tape.gradient(predictions,  inputs)\n",
    "#     grads = tf.reduce_mean(grads, axis=1).numpy()[0]\n",
    "    tf.print(grads)\n",
    "    return grads"
   ]
  },
  {
   "cell_type": "code",
   "execution_count": 248,
   "metadata": {
    "ExecuteTime": {
     "end_time": "2021-04-16T13:58:53.060504Z",
     "start_time": "2021-04-16T13:58:52.899727Z"
    }
   },
   "outputs": [
    {
     "name": "stdout",
     "output_type": "stream",
     "text": [
      "WARNING:tensorflow:The dtype of the watched tensor must be floating (e.g. tf.float32), got tf.int64\n",
      "WARNING:tensorflow:The dtype of the watched tensor must be floating (e.g. tf.float32), got tf.int64\n",
      "WARNING:tensorflow:The dtype of the watched tensor must be floating (e.g. tf.float32), got tf.int64\n",
      "WARNING:tensorflow:The dtype of the source tensor must be floating (e.g. tf.float32) when calling GradientTape.gradient, got tf.int64\n"
     ]
    },
    {
     "ename": "AttributeError",
     "evalue": "in user code:\n\n    <ipython-input-247-9bd6ec8c8563>:8 gradient_importance  *\n        grads = tape.gradient(predictions,  inputs)\n    C:\\Users\\chris\\AppData\\Roaming\\Python\\Python38\\site-packages\\tensorflow\\python\\eager\\backprop.py:1080 gradient  **\n        flat_grad = imperative_grad.imperative_grad(\n    C:\\Users\\chris\\AppData\\Roaming\\Python\\Python38\\site-packages\\tensorflow\\python\\eager\\imperative_grad.py:71 imperative_grad\n        return pywrap_tfe.TFE_Py_TapeGradient(\n\n    AttributeError: 'SparseTensor' object has no attribute '_id'\n",
     "output_type": "error",
     "traceback": [
      "\u001b[1;31m---------------------------------------------------------------------------\u001b[0m",
      "\u001b[1;31mAttributeError\u001b[0m                            Traceback (most recent call last)",
      "\u001b[1;32m<ipython-input-248-101bb4b67d29>\u001b[0m in \u001b[0;36m<module>\u001b[1;34m\u001b[0m\n\u001b[1;32m----> 1\u001b[1;33m \u001b[0mgradient_importance\u001b[0m\u001b[1;33m(\u001b[0m\u001b[0mX\u001b[0m\u001b[1;33m,\u001b[0m\u001b[0mY\u001b[0m\u001b[1;33m)\u001b[0m\u001b[1;33m\u001b[0m\u001b[1;33m\u001b[0m\u001b[0m\n\u001b[0m",
      "\u001b[1;32m~\\AppData\\Roaming\\Python\\Python38\\site-packages\\tensorflow\\python\\eager\\def_function.py\u001b[0m in \u001b[0;36m__call__\u001b[1;34m(self, *args, **kwds)\u001b[0m\n\u001b[0;32m    826\u001b[0m     \u001b[0mtracing_count\u001b[0m \u001b[1;33m=\u001b[0m \u001b[0mself\u001b[0m\u001b[1;33m.\u001b[0m\u001b[0mexperimental_get_tracing_count\u001b[0m\u001b[1;33m(\u001b[0m\u001b[1;33m)\u001b[0m\u001b[1;33m\u001b[0m\u001b[1;33m\u001b[0m\u001b[0m\n\u001b[0;32m    827\u001b[0m     \u001b[1;32mwith\u001b[0m \u001b[0mtrace\u001b[0m\u001b[1;33m.\u001b[0m\u001b[0mTrace\u001b[0m\u001b[1;33m(\u001b[0m\u001b[0mself\u001b[0m\u001b[1;33m.\u001b[0m\u001b[0m_name\u001b[0m\u001b[1;33m)\u001b[0m \u001b[1;32mas\u001b[0m \u001b[0mtm\u001b[0m\u001b[1;33m:\u001b[0m\u001b[1;33m\u001b[0m\u001b[1;33m\u001b[0m\u001b[0m\n\u001b[1;32m--> 828\u001b[1;33m       \u001b[0mresult\u001b[0m \u001b[1;33m=\u001b[0m \u001b[0mself\u001b[0m\u001b[1;33m.\u001b[0m\u001b[0m_call\u001b[0m\u001b[1;33m(\u001b[0m\u001b[1;33m*\u001b[0m\u001b[0margs\u001b[0m\u001b[1;33m,\u001b[0m \u001b[1;33m**\u001b[0m\u001b[0mkwds\u001b[0m\u001b[1;33m)\u001b[0m\u001b[1;33m\u001b[0m\u001b[1;33m\u001b[0m\u001b[0m\n\u001b[0m\u001b[0;32m    829\u001b[0m       \u001b[0mcompiler\u001b[0m \u001b[1;33m=\u001b[0m \u001b[1;34m\"xla\"\u001b[0m \u001b[1;32mif\u001b[0m \u001b[0mself\u001b[0m\u001b[1;33m.\u001b[0m\u001b[0m_experimental_compile\u001b[0m \u001b[1;32melse\u001b[0m \u001b[1;34m\"nonXla\"\u001b[0m\u001b[1;33m\u001b[0m\u001b[1;33m\u001b[0m\u001b[0m\n\u001b[0;32m    830\u001b[0m       \u001b[0mnew_tracing_count\u001b[0m \u001b[1;33m=\u001b[0m \u001b[0mself\u001b[0m\u001b[1;33m.\u001b[0m\u001b[0mexperimental_get_tracing_count\u001b[0m\u001b[1;33m(\u001b[0m\u001b[1;33m)\u001b[0m\u001b[1;33m\u001b[0m\u001b[1;33m\u001b[0m\u001b[0m\n",
      "\u001b[1;32m~\\AppData\\Roaming\\Python\\Python38\\site-packages\\tensorflow\\python\\eager\\def_function.py\u001b[0m in \u001b[0;36m_call\u001b[1;34m(self, *args, **kwds)\u001b[0m\n\u001b[0;32m    869\u001b[0m       \u001b[1;31m# This is the first call of __call__, so we have to initialize.\u001b[0m\u001b[1;33m\u001b[0m\u001b[1;33m\u001b[0m\u001b[1;33m\u001b[0m\u001b[0m\n\u001b[0;32m    870\u001b[0m       \u001b[0minitializers\u001b[0m \u001b[1;33m=\u001b[0m \u001b[1;33m[\u001b[0m\u001b[1;33m]\u001b[0m\u001b[1;33m\u001b[0m\u001b[1;33m\u001b[0m\u001b[0m\n\u001b[1;32m--> 871\u001b[1;33m       \u001b[0mself\u001b[0m\u001b[1;33m.\u001b[0m\u001b[0m_initialize\u001b[0m\u001b[1;33m(\u001b[0m\u001b[0margs\u001b[0m\u001b[1;33m,\u001b[0m \u001b[0mkwds\u001b[0m\u001b[1;33m,\u001b[0m \u001b[0madd_initializers_to\u001b[0m\u001b[1;33m=\u001b[0m\u001b[0minitializers\u001b[0m\u001b[1;33m)\u001b[0m\u001b[1;33m\u001b[0m\u001b[1;33m\u001b[0m\u001b[0m\n\u001b[0m\u001b[0;32m    872\u001b[0m     \u001b[1;32mfinally\u001b[0m\u001b[1;33m:\u001b[0m\u001b[1;33m\u001b[0m\u001b[1;33m\u001b[0m\u001b[0m\n\u001b[0;32m    873\u001b[0m       \u001b[1;31m# At this point we know that the initialization is complete (or less\u001b[0m\u001b[1;33m\u001b[0m\u001b[1;33m\u001b[0m\u001b[1;33m\u001b[0m\u001b[0m\n",
      "\u001b[1;32m~\\AppData\\Roaming\\Python\\Python38\\site-packages\\tensorflow\\python\\eager\\def_function.py\u001b[0m in \u001b[0;36m_initialize\u001b[1;34m(self, args, kwds, add_initializers_to)\u001b[0m\n\u001b[0;32m    723\u001b[0m     \u001b[0mself\u001b[0m\u001b[1;33m.\u001b[0m\u001b[0m_graph_deleter\u001b[0m \u001b[1;33m=\u001b[0m \u001b[0mFunctionDeleter\u001b[0m\u001b[1;33m(\u001b[0m\u001b[0mself\u001b[0m\u001b[1;33m.\u001b[0m\u001b[0m_lifted_initializer_graph\u001b[0m\u001b[1;33m)\u001b[0m\u001b[1;33m\u001b[0m\u001b[1;33m\u001b[0m\u001b[0m\n\u001b[0;32m    724\u001b[0m     self._concrete_stateful_fn = (\n\u001b[1;32m--> 725\u001b[1;33m         self._stateful_fn._get_concrete_function_internal_garbage_collected(  # pylint: disable=protected-access\n\u001b[0m\u001b[0;32m    726\u001b[0m             *args, **kwds))\n\u001b[0;32m    727\u001b[0m \u001b[1;33m\u001b[0m\u001b[0m\n",
      "\u001b[1;32m~\\AppData\\Roaming\\Python\\Python38\\site-packages\\tensorflow\\python\\eager\\function.py\u001b[0m in \u001b[0;36m_get_concrete_function_internal_garbage_collected\u001b[1;34m(self, *args, **kwargs)\u001b[0m\n\u001b[0;32m   2967\u001b[0m       \u001b[0margs\u001b[0m\u001b[1;33m,\u001b[0m \u001b[0mkwargs\u001b[0m \u001b[1;33m=\u001b[0m \u001b[1;32mNone\u001b[0m\u001b[1;33m,\u001b[0m \u001b[1;32mNone\u001b[0m\u001b[1;33m\u001b[0m\u001b[1;33m\u001b[0m\u001b[0m\n\u001b[0;32m   2968\u001b[0m     \u001b[1;32mwith\u001b[0m \u001b[0mself\u001b[0m\u001b[1;33m.\u001b[0m\u001b[0m_lock\u001b[0m\u001b[1;33m:\u001b[0m\u001b[1;33m\u001b[0m\u001b[1;33m\u001b[0m\u001b[0m\n\u001b[1;32m-> 2969\u001b[1;33m       \u001b[0mgraph_function\u001b[0m\u001b[1;33m,\u001b[0m \u001b[0m_\u001b[0m \u001b[1;33m=\u001b[0m \u001b[0mself\u001b[0m\u001b[1;33m.\u001b[0m\u001b[0m_maybe_define_function\u001b[0m\u001b[1;33m(\u001b[0m\u001b[0margs\u001b[0m\u001b[1;33m,\u001b[0m \u001b[0mkwargs\u001b[0m\u001b[1;33m)\u001b[0m\u001b[1;33m\u001b[0m\u001b[1;33m\u001b[0m\u001b[0m\n\u001b[0m\u001b[0;32m   2970\u001b[0m     \u001b[1;32mreturn\u001b[0m \u001b[0mgraph_function\u001b[0m\u001b[1;33m\u001b[0m\u001b[1;33m\u001b[0m\u001b[0m\n\u001b[0;32m   2971\u001b[0m \u001b[1;33m\u001b[0m\u001b[0m\n",
      "\u001b[1;32m~\\AppData\\Roaming\\Python\\Python38\\site-packages\\tensorflow\\python\\eager\\function.py\u001b[0m in \u001b[0;36m_maybe_define_function\u001b[1;34m(self, args, kwargs)\u001b[0m\n\u001b[0;32m   3359\u001b[0m \u001b[1;33m\u001b[0m\u001b[0m\n\u001b[0;32m   3360\u001b[0m           \u001b[0mself\u001b[0m\u001b[1;33m.\u001b[0m\u001b[0m_function_cache\u001b[0m\u001b[1;33m.\u001b[0m\u001b[0mmissed\u001b[0m\u001b[1;33m.\u001b[0m\u001b[0madd\u001b[0m\u001b[1;33m(\u001b[0m\u001b[0mcall_context_key\u001b[0m\u001b[1;33m)\u001b[0m\u001b[1;33m\u001b[0m\u001b[1;33m\u001b[0m\u001b[0m\n\u001b[1;32m-> 3361\u001b[1;33m           \u001b[0mgraph_function\u001b[0m \u001b[1;33m=\u001b[0m \u001b[0mself\u001b[0m\u001b[1;33m.\u001b[0m\u001b[0m_create_graph_function\u001b[0m\u001b[1;33m(\u001b[0m\u001b[0margs\u001b[0m\u001b[1;33m,\u001b[0m \u001b[0mkwargs\u001b[0m\u001b[1;33m)\u001b[0m\u001b[1;33m\u001b[0m\u001b[1;33m\u001b[0m\u001b[0m\n\u001b[0m\u001b[0;32m   3362\u001b[0m           \u001b[0mself\u001b[0m\u001b[1;33m.\u001b[0m\u001b[0m_function_cache\u001b[0m\u001b[1;33m.\u001b[0m\u001b[0mprimary\u001b[0m\u001b[1;33m[\u001b[0m\u001b[0mcache_key\u001b[0m\u001b[1;33m]\u001b[0m \u001b[1;33m=\u001b[0m \u001b[0mgraph_function\u001b[0m\u001b[1;33m\u001b[0m\u001b[1;33m\u001b[0m\u001b[0m\n\u001b[0;32m   3363\u001b[0m \u001b[1;33m\u001b[0m\u001b[0m\n",
      "\u001b[1;32m~\\AppData\\Roaming\\Python\\Python38\\site-packages\\tensorflow\\python\\eager\\function.py\u001b[0m in \u001b[0;36m_create_graph_function\u001b[1;34m(self, args, kwargs, override_flat_arg_shapes)\u001b[0m\n\u001b[0;32m   3194\u001b[0m     \u001b[0marg_names\u001b[0m \u001b[1;33m=\u001b[0m \u001b[0mbase_arg_names\u001b[0m \u001b[1;33m+\u001b[0m \u001b[0mmissing_arg_names\u001b[0m\u001b[1;33m\u001b[0m\u001b[1;33m\u001b[0m\u001b[0m\n\u001b[0;32m   3195\u001b[0m     graph_function = ConcreteFunction(\n\u001b[1;32m-> 3196\u001b[1;33m         func_graph_module.func_graph_from_py_func(\n\u001b[0m\u001b[0;32m   3197\u001b[0m             \u001b[0mself\u001b[0m\u001b[1;33m.\u001b[0m\u001b[0m_name\u001b[0m\u001b[1;33m,\u001b[0m\u001b[1;33m\u001b[0m\u001b[1;33m\u001b[0m\u001b[0m\n\u001b[0;32m   3198\u001b[0m             \u001b[0mself\u001b[0m\u001b[1;33m.\u001b[0m\u001b[0m_python_function\u001b[0m\u001b[1;33m,\u001b[0m\u001b[1;33m\u001b[0m\u001b[1;33m\u001b[0m\u001b[0m\n",
      "\u001b[1;32m~\\AppData\\Roaming\\Python\\Python38\\site-packages\\tensorflow\\python\\framework\\func_graph.py\u001b[0m in \u001b[0;36mfunc_graph_from_py_func\u001b[1;34m(name, python_func, args, kwargs, signature, func_graph, autograph, autograph_options, add_control_dependencies, arg_names, op_return_value, collections, capture_by_value, override_flat_arg_shapes)\u001b[0m\n\u001b[0;32m    988\u001b[0m         \u001b[0m_\u001b[0m\u001b[1;33m,\u001b[0m \u001b[0moriginal_func\u001b[0m \u001b[1;33m=\u001b[0m \u001b[0mtf_decorator\u001b[0m\u001b[1;33m.\u001b[0m\u001b[0munwrap\u001b[0m\u001b[1;33m(\u001b[0m\u001b[0mpython_func\u001b[0m\u001b[1;33m)\u001b[0m\u001b[1;33m\u001b[0m\u001b[1;33m\u001b[0m\u001b[0m\n\u001b[0;32m    989\u001b[0m \u001b[1;33m\u001b[0m\u001b[0m\n\u001b[1;32m--> 990\u001b[1;33m       \u001b[0mfunc_outputs\u001b[0m \u001b[1;33m=\u001b[0m \u001b[0mpython_func\u001b[0m\u001b[1;33m(\u001b[0m\u001b[1;33m*\u001b[0m\u001b[0mfunc_args\u001b[0m\u001b[1;33m,\u001b[0m \u001b[1;33m**\u001b[0m\u001b[0mfunc_kwargs\u001b[0m\u001b[1;33m)\u001b[0m\u001b[1;33m\u001b[0m\u001b[1;33m\u001b[0m\u001b[0m\n\u001b[0m\u001b[0;32m    991\u001b[0m \u001b[1;33m\u001b[0m\u001b[0m\n\u001b[0;32m    992\u001b[0m       \u001b[1;31m# invariant: `func_outputs` contains only Tensors, CompositeTensors,\u001b[0m\u001b[1;33m\u001b[0m\u001b[1;33m\u001b[0m\u001b[1;33m\u001b[0m\u001b[0m\n",
      "\u001b[1;32m~\\AppData\\Roaming\\Python\\Python38\\site-packages\\tensorflow\\python\\eager\\def_function.py\u001b[0m in \u001b[0;36mwrapped_fn\u001b[1;34m(*args, **kwds)\u001b[0m\n\u001b[0;32m    632\u001b[0m             \u001b[0mxla_context\u001b[0m\u001b[1;33m.\u001b[0m\u001b[0mExit\u001b[0m\u001b[1;33m(\u001b[0m\u001b[1;33m)\u001b[0m\u001b[1;33m\u001b[0m\u001b[1;33m\u001b[0m\u001b[0m\n\u001b[0;32m    633\u001b[0m         \u001b[1;32melse\u001b[0m\u001b[1;33m:\u001b[0m\u001b[1;33m\u001b[0m\u001b[1;33m\u001b[0m\u001b[0m\n\u001b[1;32m--> 634\u001b[1;33m           \u001b[0mout\u001b[0m \u001b[1;33m=\u001b[0m \u001b[0mweak_wrapped_fn\u001b[0m\u001b[1;33m(\u001b[0m\u001b[1;33m)\u001b[0m\u001b[1;33m.\u001b[0m\u001b[0m__wrapped__\u001b[0m\u001b[1;33m(\u001b[0m\u001b[1;33m*\u001b[0m\u001b[0margs\u001b[0m\u001b[1;33m,\u001b[0m \u001b[1;33m**\u001b[0m\u001b[0mkwds\u001b[0m\u001b[1;33m)\u001b[0m\u001b[1;33m\u001b[0m\u001b[1;33m\u001b[0m\u001b[0m\n\u001b[0m\u001b[0;32m    635\u001b[0m         \u001b[1;32mreturn\u001b[0m \u001b[0mout\u001b[0m\u001b[1;33m\u001b[0m\u001b[1;33m\u001b[0m\u001b[0m\n\u001b[0;32m    636\u001b[0m \u001b[1;33m\u001b[0m\u001b[0m\n",
      "\u001b[1;32m~\\AppData\\Roaming\\Python\\Python38\\site-packages\\tensorflow\\python\\framework\\func_graph.py\u001b[0m in \u001b[0;36mwrapper\u001b[1;34m(*args, **kwargs)\u001b[0m\n\u001b[0;32m    975\u001b[0m           \u001b[1;32mexcept\u001b[0m \u001b[0mException\u001b[0m \u001b[1;32mas\u001b[0m \u001b[0me\u001b[0m\u001b[1;33m:\u001b[0m  \u001b[1;31m# pylint:disable=broad-except\u001b[0m\u001b[1;33m\u001b[0m\u001b[1;33m\u001b[0m\u001b[0m\n\u001b[0;32m    976\u001b[0m             \u001b[1;32mif\u001b[0m \u001b[0mhasattr\u001b[0m\u001b[1;33m(\u001b[0m\u001b[0me\u001b[0m\u001b[1;33m,\u001b[0m \u001b[1;34m\"ag_error_metadata\"\u001b[0m\u001b[1;33m)\u001b[0m\u001b[1;33m:\u001b[0m\u001b[1;33m\u001b[0m\u001b[1;33m\u001b[0m\u001b[0m\n\u001b[1;32m--> 977\u001b[1;33m               \u001b[1;32mraise\u001b[0m \u001b[0me\u001b[0m\u001b[1;33m.\u001b[0m\u001b[0mag_error_metadata\u001b[0m\u001b[1;33m.\u001b[0m\u001b[0mto_exception\u001b[0m\u001b[1;33m(\u001b[0m\u001b[0me\u001b[0m\u001b[1;33m)\u001b[0m\u001b[1;33m\u001b[0m\u001b[1;33m\u001b[0m\u001b[0m\n\u001b[0m\u001b[0;32m    978\u001b[0m             \u001b[1;32melse\u001b[0m\u001b[1;33m:\u001b[0m\u001b[1;33m\u001b[0m\u001b[1;33m\u001b[0m\u001b[0m\n\u001b[0;32m    979\u001b[0m               \u001b[1;32mraise\u001b[0m\u001b[1;33m\u001b[0m\u001b[1;33m\u001b[0m\u001b[0m\n",
      "\u001b[1;31mAttributeError\u001b[0m: in user code:\n\n    <ipython-input-247-9bd6ec8c8563>:8 gradient_importance  *\n        grads = tape.gradient(predictions,  inputs)\n    C:\\Users\\chris\\AppData\\Roaming\\Python\\Python38\\site-packages\\tensorflow\\python\\eager\\backprop.py:1080 gradient  **\n        flat_grad = imperative_grad.imperative_grad(\n    C:\\Users\\chris\\AppData\\Roaming\\Python\\Python38\\site-packages\\tensorflow\\python\\eager\\imperative_grad.py:71 imperative_grad\n        return pywrap_tfe.TFE_Py_TapeGradient(\n\n    AttributeError: 'SparseTensor' object has no attribute '_id'\n"
     ]
    }
   ],
   "source": [
    "gradient_importance(X,Y)"
   ]
  },
  {
   "cell_type": "code",
   "execution_count": 240,
   "metadata": {
    "ExecuteTime": {
     "end_time": "2021-04-16T13:43:53.934989Z",
     "start_time": "2021-04-16T13:43:53.921025Z"
    }
   },
   "outputs": [
    {
     "data": {
      "text/plain": [
       "array([[ 0.361     , -0.42282999, -0.38556   ,  1.27010004, -0.08802844,\n",
       "         0.        ],\n",
       "       [-0.20055   , -0.07403   ,  0.06386   ,  1.65320489, -1.92155384,\n",
       "         0.        ],\n",
       "       [ 0.19434   , -0.03092   ,  0.21474001,  0.73842164,  0.68454405,\n",
       "         0.        ],\n",
       "       [ 0.19434   , -0.03092   , -0.48310999,  2.51130048,  0.16261479,\n",
       "         0.        ],\n",
       "       [-0.52663   , -0.0156    ,  0.16225   ,  0.69099667, -0.62103541,\n",
       "         0.        ],\n",
       "       [-0.40314001,  0.00349   ,  0.19542999, -0.64727677,  0.        ,\n",
       "         0.        ],\n",
       "       [-0.27953   ,  0.02317   , -0.28035001, -1.14449796, -0.89722936,\n",
       "         0.        ],\n",
       "       [-0.15623   ,  0.04337   , -0.38423999,  0.77287884, -0.18123792,\n",
       "         0.        ],\n",
       "       [ 0.47204999,  0.1279    , -0.17656   ,  1.49314561,  0.23806267,\n",
       "         0.        ],\n",
       "       [-0.35844   ,  0.12056   , -0.01256   ,  0.10967025,  0.08339316,\n",
       "         0.        ],\n",
       "       [-0.23495   ,  0.14044   ,  0.43198001, -0.92849203,  0.23806267,\n",
       "         0.        ],\n",
       "       [ 0.01187   ,  0.17919   ,  0.46829999, -1.00815117,  0.31007972,\n",
       "         0.        ],\n",
       "       [ 0.13203   ,  0.20298   ,  0.19636   ,  0.8829196 , -1.0557719 ,\n",
       "         0.        ],\n",
       "       [-0.20055   , -0.07403   ,  0.06386   , -0.33123379,  0.        ,\n",
       "         0.        ],\n",
       "       [ 0.50526999,  0.25788   , -0.48097   , -1.6050389 , -1.23196479,\n",
       "         0.        ],\n",
       "       [-0.18998   ,  0.25742001, -0.06033   ,  0.71915524, -1.23196479,\n",
       "         0.        ],\n",
       "       [-0.18998   ,  0.25742001, -0.14542999, -1.22489811, -1.43023626,\n",
       "         0.        ],\n",
       "       [-0.0667    ,  0.27692001,  0.03826   ,  2.52056317, -0.08802844,\n",
       "         0.        ],\n",
       "       [ 0.17447   ,  0.31554001, -0.35531   ,  1.25083364, -0.18123792,\n",
       "         0.        ],\n",
       "       [-0.14545   ,  0.37423999, -0.07662   ,  1.68951464,  0.16261479,\n",
       "         0.        ],\n",
       "       [-0.14545   ,  0.37423999, -0.12768   ,  1.66543164,  0.08339316,\n",
       "         0.        ],\n",
       "       [-0.14545   ,  0.37423999, -0.38298999,  0.05742868, -0.28027669,\n",
       "         0.        ],\n",
       "       [-0.02197   ,  0.39323999, -0.47037   , -0.46535754,  1.16096988,\n",
       "         0.        ],\n",
       "       [-0.34788   ,  0.45151999,  0.48498001, -0.91478325,  0.23806267,\n",
       "         0.        ],\n",
       "       [-0.10106   ,  0.49022   , -0.43466   ,  1.59762875,  0.16261479,\n",
       "         0.        ],\n",
       "       [ 0.02211   ,  0.5095    , -0.38041   , -0.77658392, -1.43023626,\n",
       "         0.        ],\n",
       "       [ 0.0416    ,  0.03549   , -0.34713   ,  0.80918859, -0.08802844,\n",
       "         0.        ],\n",
       "       [-0.18998   ,  0.25742001,  0.45029001, -0.09892553, -2.23943714,\n",
       "         0.        ],\n",
       "       [ 0.11319   , -0.06047   , -0.26623001,  2.23230826,  0.44497857,\n",
       "         0.        ],\n",
       "       [-0.32439001, -0.09343   ,  0.10866   ,  2.60133383,  0.31007972,\n",
       "         0.        ],\n",
       "       [-0.32439001, -0.09343   ,  0.10866   ,  0.58614302, -0.89722936,\n",
       "         1.        ],\n",
       "       [ 0.03554   , -0.36482999,  0.24239999,  1.61689515, -0.38592265,\n",
       "         0.        ],\n",
       "       [ 0.28217999, -0.32573999,  0.43035999, -0.07632456, -0.75312057,\n",
       "         1.        ],\n",
       "       [-0.16639999, -0.28779001,  0.49778   , -1.33716191,  0.37896459,\n",
       "         0.        ],\n",
       "       [-0.16639999, -0.28779001,  0.49778   , -1.32530567, -1.65692291,\n",
       "         0.        ],\n",
       "       [ 0.07941   , -0.24824001, -0.11384   ,  2.06780289,  0.        ,\n",
       "         0.        ],\n",
       "       [ 0.21047   , -0.20977   ,  0.41184   , -0.30307521,  0.16261479,\n",
       "         1.        ],\n",
       "       [ 0.21047   , -0.20977   ,  0.37779999, -0.22675065,  0.16261479,\n",
       "         1.        ],\n",
       "       [ 0.21047   , -0.20977   ,  0.37779999, -0.16302334, -0.08802844,\n",
       "         1.        ],\n",
       "       [ 0.21047   , -0.20977   ,  0.36078   , -0.26046684,  0.08339316,\n",
       "         1.        ],\n",
       "       [ 0.21047   , -0.20977   ,  0.34376001, -0.23453131,  0.56928578,\n",
       "         1.        ],\n",
       "       [ 0.21047   , -0.20977   ,  0.34376001, -0.22897369, -3.17055223,\n",
       "         1.        ],\n",
       "       [ 0.21047   , -0.20977   ,  0.34376001, -0.13560578, -1.92155384,\n",
       "         1.        ],\n",
       "       [-0.32439001, -0.09343   ,  0.10866   ,  1.08929233, -0.28027669,\n",
       "         1.        ],\n",
       "       [ 0.32685001, -0.20907001,  0.27714999, -0.06928492,  0.23806267,\n",
       "         1.        ],\n",
       "       [ 0.32685001, -0.20907001,  0.15800999,  0.18154872,  0.31007972,\n",
       "         1.        ],\n",
       "       [-0.24564999, -0.19049001,  0.22914999,  2.21081882,  0.23806267,\n",
       "         0.        ],\n",
       "       [ 0.12497   , -0.13125   ,  0.06814   ,  1.35791034,  0.37896459,\n",
       "         0.        ],\n",
       "       [ 0.37156   , -0.09218   ,  0.16117   ,  0.17265654,  0.89259397,\n",
       "         1.        ],\n",
       "       [ 0.37156   , -0.09218   ,  0.12713   ,  0.15153761,  0.50835111,\n",
       "         1.        ],\n",
       "       [ 0.50042999, -0.05845   ,  0.11038   , -0.26861801,  0.08339316,\n",
       "         0.        ],\n",
       "       [ 0.50042999, -0.05845   , -0.14492999,  1.33975546, -2.23943714,\n",
       "         0.        ],\n",
       "       [-0.57090002, -0.12514   , -0.26632999, -0.82252686,  0.31007972,\n",
       "         0.        ],\n",
       "       [-0.57090002, -0.12514   , -0.41951999,  0.03519822,  0.23806267,\n",
       "         0.        ],\n",
       "       [-0.32439001, -0.09343   ,  0.12568   , -0.98295665,  0.        ,\n",
       "         0.        ],\n",
       "       [-0.32439001, -0.09343   ,  0.12568   ,  0.805113  ,  0.        ,\n",
       "         1.        ],\n",
       "       [-0.32439001, -0.09343   ,  0.10866   ,  0.5757688 , -1.92155384,\n",
       "         1.        ],\n",
       "       [ 0.32685001, -0.20907001,  0.27714999, -0.05742868, -1.23196479,\n",
       "         1.        ],\n",
       "       [-0.01097   ,  0.00672   ,  0.11033   ,  0.98925528, -0.28027669,\n",
       "         0.        ]])"
      ]
     },
     "execution_count": 240,
     "metadata": {},
     "output_type": "execute_result"
    }
   ],
   "source": [
    "X[0]"
   ]
  }
 ],
 "metadata": {
  "hide_input": false,
  "kernelspec": {
   "display_name": "Python 3",
   "language": "python",
   "name": "python3"
  },
  "language_info": {
   "codemirror_mode": {
    "name": "ipython",
    "version": 3
   },
   "file_extension": ".py",
   "mimetype": "text/x-python",
   "name": "python",
   "nbconvert_exporter": "python",
   "pygments_lexer": "ipython3",
   "version": "3.8.5"
  }
 },
 "nbformat": 4,
 "nbformat_minor": 4
}
