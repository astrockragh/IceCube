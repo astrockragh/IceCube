{
 "cells": [
  {
   "cell_type": "code",
   "execution_count": 8,
   "metadata": {
    "ExecuteTime": {
     "end_time": "2021-03-12T14:24:44.873834Z",
     "start_time": "2021-03-12T14:24:44.866816Z"
    }
   },
   "outputs": [
    {
     "name": "stdout",
     "output_type": "stream",
     "text": [
      "Notebook\n",
      "GPU detected\n"
     ]
    }
   ],
   "source": [
    "import os, sys, argparse, importlib, time, inspect\n",
    "import numpy as np\n",
    "import matplotlib.pyplot as plt\n",
    "import os.path as osp\n",
    "if hasattr(__builtins__,'__IPYTHON__'):\n",
    "    print('Notebook')\n",
    "    from tqdm.notebook import tqdm\n",
    "else:\n",
    "    print('Not notebook')\n",
    "    from tqdm import tqdm\n",
    "from tensorflow.keras import backend as K\n",
    "os.environ['TF_CPP_MIN_LOG_LEVEL'] = '2' \n",
    "import tensorflow as tf\n",
    "import tensorflow_probability as tfp\n",
    "\n",
    "gpu_devices = tf.config.list_physical_devices('GPU') \n",
    "if len(gpu_devices) > 0:\n",
    "    print(\"GPU detected\")\n",
    "    tf.config.experimental.set_memory_growth(gpu_devices[0], True)\n",
    "else:\n",
    "    print('No GPU detected')\n",
    "\n",
    "from tensorflow.keras.optimizers import Adam\n",
    "from tensorflow.keras.losses import MeanSquaredError\n",
    "from tensorflow.keras.models import load_model, Model\n",
    "import spektral\n",
    "from sklearn.preprocessing import normalize\n",
    "from spektral.data import DisjointLoader, BatchLoader, SingleLoader\n",
    "from importlib import reload\n",
    "import winsound\n",
    "import dill\n",
    "import datetime as dt\n",
    "import data_load as dl\n",
    "graph_data=dl.graph_data"
   ]
  },
  {
   "cell_type": "code",
   "execution_count": 9,
   "metadata": {
    "ExecuteTime": {
     "end_time": "2021-03-12T14:24:49.986646Z",
     "start_time": "2021-03-12T14:24:45.103794Z"
    }
   },
   "outputs": [
    {
     "name": "stdout",
     "output_type": "stream",
     "text": [
      "WARNING:tensorflow:No training configuration found in save file, so the model was *not* compiled. Compile it manually.\n"
     ]
    }
   ],
   "source": [
    "model=tf.keras.models.load_model('trained_models/probreg_test0')\n",
    "model.compile()"
   ]
  },
  {
   "cell_type": "code",
   "execution_count": 10,
   "metadata": {
    "ExecuteTime": {
     "end_time": "2021-03-12T14:24:50.750598Z",
     "start_time": "2021-03-12T14:24:49.988523Z"
    }
   },
   "outputs": [
    {
     "name": "stdout",
     "output_type": "stream",
     "text": [
      "Loading data to memory\n",
      "1000\n"
     ]
    }
   ],
   "source": [
    "batch_size=512\n",
    "dataset=graph_data(restart=0, transform=True, angle=True, unitvec=False)\n",
    "idx_lists = dataset.index_lists\n",
    "# Split data\n",
    "dataset_train = dataset[idx_lists[0]]\n",
    "dataset_val   = dataset[idx_lists[1]]\n",
    "dataset_test  = dataset[idx_lists[2]]\n",
    "\n",
    "# the different loaders work very very differently, beware\n",
    "loader_test = DisjointLoader(dataset_test, batch_size=batch_size, epochs=1)\n",
    "print(len(dataset_test))\n",
    "winsound.Beep(400,300)"
   ]
  },
  {
   "cell_type": "code",
   "execution_count": 11,
   "metadata": {
    "ExecuteTime": {
     "end_time": "2021-03-12T14:24:50.760571Z",
     "start_time": "2021-03-12T14:24:50.753553Z"
    }
   },
   "outputs": [],
   "source": [
    "def loss_func(y_reco, y_true, re=False):\n",
    "    loss_energy = tf.reduce_mean(abs(tf.subtract(y_reco[:,0], y_true[:,0])))\n",
    "    kappa=tf.math.abs(y_reco[:,3])\n",
    "#     tf.print(tf.reduce_mean(kappa))\n",
    "    azp = y_reco[:,2] #Azimuth prediction\n",
    "    azt = y_true[:,2] #Azimuth target\n",
    "    zep = y_reco[:,1] #Zenith prediction\n",
    "    zet = y_true[:,1] #Zenith target\n",
    "    s1 = tf.math.sin(zet + azt - azp )\n",
    "    s2 = tf.math.sin( zet - azt + azp )\n",
    "    c1 = tf.math.cos( zet - zep )\n",
    "    c2 = tf.math.cos( zet + zep )\n",
    "    cos_angle = 0.5*tf.math.abs(tf.math.sin(zep))*( s1 + s2 ) + 0.5*(c1 + c2)\n",
    "    nlogC = - tf.math.log(kappa) + kappa + tf.math.log( 1 - tf.math.exp( - 2 * kappa) )\n",
    "\n",
    "    loss_angle = tf.reduce_mean( - kappa*cos_angle + nlogC )\n",
    "    if not re:\n",
    "        return loss_angle+loss_energy\n",
    "    if re:\n",
    "        return float(loss_angle+loss_energy), [float(loss_energy), float(loss_angle)]"
   ]
  },
  {
   "cell_type": "code",
   "execution_count": 12,
   "metadata": {
    "ExecuteTime": {
     "end_time": "2021-03-12T14:24:50.774496Z",
     "start_time": "2021-03-12T14:24:50.762529Z"
    }
   },
   "outputs": [],
   "source": [
    "def metrics_angle(y_reco, y_true):\n",
    "    w_energy = tfp.stats.percentile(tf.math.abs(tf.subtract(y_true[:, 0], y_reco[:, 0])), [50-34, 50, 50+34]) \n",
    "#     w_energy         = (energy_quantiles[1] - energy_quantiles[0]) / 1.349\n",
    "    \n",
    "    alpha= tf.math.acos(tf.math.sin(y_reco[:, 1])*tf.math.sin(y_true[:, 1])*tf.math.cos(tf.subtract(y_reco[:, 2],y_true[:, 2]))+tf.math.cos(y_reco[:, 1])*tf.math.cos(y_true[:, 1]))\n",
    "    # tf.print(alpha)\n",
    "    angle_resi = 180 / np.pi * alpha #degrees\n",
    "    u_angle         = tfp.stats.percentile(angle_resi, [50-34,50,50+34])\n",
    "\n",
    "    return w_energy.numpy(), u_angle.numpy()\n",
    "\n",
    "metrics=metrics_angle\n"
   ]
  },
  {
   "cell_type": "code",
   "execution_count": 13,
   "metadata": {
    "ExecuteTime": {
     "end_time": "2021-03-12T14:24:50.795439Z",
     "start_time": "2021-03-12T14:24:50.776521Z"
    }
   },
   "outputs": [],
   "source": [
    "@tf.function(input_signature = loader_test.tf_signature(), experimental_relax_shapes = True)\n",
    "def test_step(inputs, targets):\n",
    "    predictions = model(inputs, training = False)\n",
    "    targets     = tf.cast(targets, tf.float32) \n",
    "    out         = loss_func(predictions, targets)\n",
    "\n",
    "    return predictions, targets, out\n",
    "\n",
    "def performance_e_alpha(loader, plot=True):\n",
    "    '''Function to test and plot performance of Graph DL\n",
    "    input should be dom pos x,y,z , time, charge(log10)\n",
    "    target should be energy(log10),zenith angle, azimuthal angle, NOT unit vec \n",
    "    '''\n",
    "    loss = 0\n",
    "    prediction_list, target_list = [], []\n",
    "    for batch in loader:\n",
    "        inputs, targets = batch\n",
    "        predictions, targets, out = test_step(inputs, targets)\n",
    "        loss           += out\n",
    "        \n",
    "        prediction_list.append(predictions)\n",
    "        target_list.append(targets)\n",
    "\n",
    "    y_reco  = tf.concat(prediction_list, axis = 0).numpy()\n",
    "    y_true  = tf.concat(target_list, axis = 0)\n",
    "    y_true  = tf.cast(y_true, tf.float32).numpy()\n",
    "\n",
    "    energy = y_true[:, 0]\n",
    "    counts, bins = np.histogram(energy, bins = 10)\n",
    "\n",
    "    xs = (bins[1:] + bins[: -1]) / 2\n",
    "\n",
    "    w_energies, u_angles = [], []\n",
    "    e_sig, alpha_sig = [], [] \n",
    "    for i in range(len(bins)-1):\n",
    "        idx = np.logical_and(energy > bins[i], energy < bins[i + 1])\n",
    "\n",
    "        w, u_angle = metrics(y_reco[idx, :], y_true[idx, :])\n",
    "\n",
    "        w_energies.append(w[1])\n",
    "        u_angles.append(u_angle[1])\n",
    "        e_sig.append([w[0], w[2]])\n",
    "        alpha_sig.append([u_angle[0], u_angle[2]])\n",
    "    if plot:\n",
    "        fig, ax = plt.subplots(ncols = 2, nrows = 1, figsize = (12, 6))\n",
    "\n",
    "        for a in ax:\n",
    "            a_ = a.twinx()\n",
    "            a_.step(xs, counts, color = \"gray\", zorder = 10, alpha = 0.7, where = \"mid\")\n",
    "            a_.set_yscale(\"log\")\n",
    "            a.set_xlabel(\"Log Energy\")\n",
    "        \n",
    "        ax_top = ax\n",
    "\n",
    "        # Energy reconstruction\n",
    "        ax_top[0].errorbar(xs, w_energies,yerr=np.array(e_sig).T, fmt='k.',capsize=2,linewidth=1,ecolor='r',label='data')\n",
    "        ax_top[0].set_title(\"Energy Performance\")\n",
    "        ax_top[0].set_ylabel(r\"$\\Delta log(E)$\")\n",
    "\n",
    "        # Angle reconstruction\n",
    "        ax_top[1].errorbar(xs, u_angles,yerr=np.array(alpha_sig).T, fmt='k.',capsize=2,linewidth=1,ecolor='r',label='data')\n",
    "        ax_top[1].set_title(\"Angle Performance\")\n",
    "        ax_top[1].set_ylabel(r\"$\\Delta \\Omega$\")\n",
    "\n",
    "        return fig, ax"
   ]
  },
  {
   "cell_type": "code",
   "execution_count": 14,
   "metadata": {
    "ExecuteTime": {
     "end_time": "2021-03-12T14:24:54.628135Z",
     "start_time": "2021-03-12T14:24:52.094939Z"
    },
    "scrolled": false
   },
   "outputs": [
    {
     "data": {
      "image/png": "[encoded data removed]",
      "text/plain": [
       "<Figure size 864x432 with 4 Axes>"
      ]
     },
     "metadata": {
      "needs_background": "light"
     },
     "output_type": "display_data"
    }
   ],
   "source": [
    "fig, ax = performance_e_alpha(loader_test)"
   ]
  },
  {
   "cell_type": "code",
   "execution_count": null,
   "metadata": {},
   "outputs": [],
   "source": []
  }
 ],
 "metadata": {
  "hide_input": false,
  "kernelspec": {
   "display_name": "Python 3",
   "language": "python",
   "name": "python3"
  },
  "language_info": {
   "codemirror_mode": {
    "name": "ipython",
    "version": 3
   },
   "file_extension": ".py",
   "mimetype": "text/x-python",
   "name": "python",
   "nbconvert_exporter": "python",
   "pygments_lexer": "ipython3",
   "version": "3.8.5"
  }
 },
 "nbformat": 4,
 "nbformat_minor": 4
}
