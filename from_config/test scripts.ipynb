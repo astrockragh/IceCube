{
 "cells": [
  {
   "cell_type": "code",
   "execution_count": 1,
   "metadata": {
    "ExecuteTime": {
     "end_time": "2021-03-17T15:33:29.618372Z",
     "start_time": "2021-03-17T15:33:27.570925Z"
    }
   },
   "outputs": [],
   "source": [
    "import json, wandb\n",
    "from importlib import reload"
   ]
  },
  {
   "cell_type": "code",
   "execution_count": 2,
   "metadata": {
    "ExecuteTime": {
     "end_time": "2021-03-17T15:33:29.625353Z",
     "start_time": "2021-03-17T15:33:29.619371Z"
    }
   },
   "outputs": [],
   "source": [
    "with open('experiments/todo/0GCN.json') as file:\n",
    "        construct_dict = json.load(file)"
   ]
  },
  {
   "cell_type": "code",
   "execution_count": 3,
   "metadata": {
    "ExecuteTime": {
     "end_time": "2021-03-17T15:33:29.638353Z",
     "start_time": "2021-03-17T15:33:29.628347Z"
    }
   },
   "outputs": [
    {
     "data": {
      "text/plain": [
       "1000000.0"
      ]
     },
     "execution_count": 3,
     "metadata": {},
     "output_type": "execute_result"
    }
   ],
   "source": [
    "construct_dict['data_params']['n_data']"
   ]
  },
  {
   "cell_type": "code",
   "execution_count": 4,
   "metadata": {
    "ExecuteTime": {
     "end_time": "2021-03-17T15:33:29.644307Z",
     "start_time": "2021-03-17T15:33:29.640359Z"
    }
   },
   "outputs": [],
   "source": [
    "# !wandb login b5b917a9390932e56fccfcbff6f528ccd85c44bf\n",
    "# run=wandb.init(project=\"test\", entity=\"chri862z\", config=construct_dict)"
   ]
  },
  {
   "cell_type": "code",
   "execution_count": 5,
   "metadata": {
    "ExecuteTime": {
     "end_time": "2021-03-17T15:33:29.655275Z",
     "start_time": "2021-03-17T15:33:29.645299Z"
    }
   },
   "outputs": [
    {
     "data": {
      "text/plain": [
       "{'experiment': 'IceCube',\n",
       " 'group': 'GCN_nlayers',\n",
       " 'model_name': 'GCN_nlayers',\n",
       " 'angle_unitvec': 'angle',\n",
       " 'wandblog': True,\n",
       " 'run_params': {'epochs': 100,\n",
       "  'batch_size': 512,\n",
       "  'early_stop': True,\n",
       "  'patience': 20,\n",
       "  'lr_schedule': 'classic',\n",
       "  'learning_rate': 0.001,\n",
       "  'warm_up': 3,\n",
       "  'lr_decay': 0.9,\n",
       "  'val_epoch': 20,\n",
       "  'loss_func': 'abs_vonMises_angle',\n",
       "  'metrics': 'energy_angle',\n",
       "  'performance_plot': 'performance_e_alpha'},\n",
       " 'hyper_params': {'n_out': 4,\n",
       "  'hidden_states': 64,\n",
       "  'conv_layers': 0,\n",
       "  'conv_activation': 'relu',\n",
       "  'decode_layers': 3,\n",
       "  'decode_activation': 'relu',\n",
       "  'dropout': 0.1,\n",
       "  'regularization': 'l2',\n",
       "  'batch_norm': True,\n",
       "  'forward': True,\n",
       "  'edgeconv': 1},\n",
       " 'data_params': {'n_data': 1000000.0,\n",
       "  'graph_construction': 'classic',\n",
       "  'muon': True,\n",
       "  'n_neighbors': 6,\n",
       "  'data_split': [0.8, 0.1, 0.1],\n",
       "  'restart': True,\n",
       "  'transform_path': '../db_files/muongun/transformers.pkl',\n",
       "  'db_path': '../db_files/muongun/rasmus_classification_muon_3neutrino_3mio.db',\n",
       "  'features': ['dom_x', 'dom_y', 'dom_z', 'time', 'charge_log10'],\n",
       "  'targets': ['energy_log10', 'zenith', 'azimuth'],\n",
       "  'skip': 0,\n",
       "  'SRT': 1,\n",
       "  'database': 'MuonGun'}}"
      ]
     },
     "execution_count": 5,
     "metadata": {},
     "output_type": "execute_result"
    }
   ],
   "source": [
    "construct_dict"
   ]
  },
  {
   "cell_type": "code",
   "execution_count": 18,
   "metadata": {
    "ExecuteTime": {
     "end_time": "2021-03-17T15:38:45.406239Z",
     "start_time": "2021-03-17T15:38:45.395236Z"
    }
   },
   "outputs": [
    {
     "name": "stdout",
     "output_type": "stream",
     "text": [
      "Not notebook\n"
     ]
    }
   ],
   "source": [
    "import dev.data_load as dl\n",
    "reload(dl)\n",
    "data=dl.graph_data"
   ]
  },
  {
   "cell_type": "code",
   "execution_count": 19,
   "metadata": {
    "ExecuteTime": {
     "end_time": "2021-03-17T15:38:45.705380Z",
     "start_time": "2021-03-17T15:38:45.554600Z"
    }
   },
   "outputs": [
    {
     "name": "stdout",
     "output_type": "stream",
     "text": [
      "Connecting to db-file\n",
      "Loading Muons\n",
      "Reading files\n"
     ]
    },
    {
     "name": "stderr",
     "output_type": "stream",
     "text": [
      "C:\\Users\\chris\\anaconda3\\lib\\site-packages\\sklearn\\utils\\deprecation.py:143: FutureWarning: The sklearn.preprocessing.data module is  deprecated in version 0.22 and will be removed in version 0.24. The corresponding classes / functions should instead be imported from sklearn.preprocessing. Anything that cannot be imported from sklearn.preprocessing is now part of the private API.\n",
      "  warnings.warn(message, FutureWarning)\n",
      "C:\\Users\\chris\\anaconda3\\lib\\site-packages\\sklearn\\base.py:329: UserWarning: Trying to unpickle estimator RobustScaler from version 0.19.1 when using version 0.23.2. This might lead to breaking code or invalid results. Use at your own risk.\n",
      "  warnings.warn(\n",
      "100%|███████████████████████████████████████████████████████████████████████████████████| 1/1 [00:00<00:00, 143.22it/s]"
     ]
    },
    {
     "name": "stdout",
     "output_type": "stream",
     "text": [
      "Splitting data to events\n",
      "     dom_x    dom_y    dom_z      time  charge_log10\n",
      "0 -0.26890  0.35424 -0.34950  0.344943      0.444979\n",
      "1 -0.26890  0.35424 -0.48567  0.140052     -0.897229\n",
      "2 -0.34788  0.45152 -0.50262 -0.070026      0.791982\n",
      "3 -0.22409  0.47086 -0.33159 -0.155243      0.083393\n",
      "4 -0.22409  0.47086 -0.39968 -0.045943      0.508351\n",
      "   energy_log10    zenith   azimuth\n",
      "0      2.422178  0.914194  0.967663\n",
      "Generating adjacency matrices\n",
      "Saving dataset\n",
      "Loading data to memory\n"
     ]
    },
    {
     "name": "stderr",
     "output_type": "stream",
     "text": [
      "\n"
     ]
    },
    {
     "data": {
      "text/plain": [
       "graph_data(n_graphs=1)"
      ]
     },
     "execution_count": 19,
     "metadata": {},
     "output_type": "execute_result"
    }
   ],
   "source": [
    "data(restart=0)"
   ]
  },
  {
   "cell_type": "code",
   "execution_count": null,
   "metadata": {
    "ExecuteTime": {
     "end_time": "2021-03-17T15:33:32.235124Z",
     "start_time": "2021-03-17T15:33:27.578Z"
    }
   },
   "outputs": [],
   "source": [
    "from dev.utils import list_experiments, check_dataset"
   ]
  },
  {
   "cell_type": "code",
   "execution_count": null,
   "metadata": {
    "ExecuteTime": {
     "end_time": "2021-03-17T15:33:32.236121Z",
     "start_time": "2021-03-17T15:33:27.579Z"
    }
   },
   "outputs": [],
   "source": [
    "check_dataset(construct_dict['data_params']['database'], construct_dict['data_params']['muon'], construct_dict['data_params']['n_data'], construct_dict['data_params']['graph_construction'])"
   ]
  },
  {
   "cell_type": "code",
   "execution_count": null,
   "metadata": {
    "ExecuteTime": {
     "end_time": "2021-03-17T15:33:32.238115Z",
     "start_time": "2021-03-17T15:33:27.583Z"
    },
    "scrolled": false
   },
   "outputs": [],
   "source": [
    "%run run_trainings.py"
   ]
  },
  {
   "cell_type": "code",
   "execution_count": null,
   "metadata": {},
   "outputs": [],
   "source": []
  }
 ],
 "metadata": {
  "hide_input": false,
  "kernelspec": {
   "display_name": "Python 3",
   "language": "python",
   "name": "python3"
  },
  "language_info": {
   "codemirror_mode": {
    "name": "ipython",
    "version": 3
   },
   "file_extension": ".py",
   "mimetype": "text/x-python",
   "name": "python",
   "nbconvert_exporter": "python",
   "pygments_lexer": "ipython3",
   "version": "3.8.5"
  }
 },
 "nbformat": 4,
 "nbformat_minor": 4
}
