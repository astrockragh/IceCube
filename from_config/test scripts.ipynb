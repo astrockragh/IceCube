{
 "cells": [
  {
   "cell_type": "code",
   "execution_count": 1,
   "metadata": {
    "ExecuteTime": {
     "end_time": "2021-03-18T14:52:44.935695Z",
     "start_time": "2021-03-18T14:52:43.619777Z"
    }
   },
   "outputs": [],
   "source": [
    "import json, wandb\n",
    "from importlib import reload"
   ]
  },
  {
   "cell_type": "code",
   "execution_count": 2,
   "metadata": {
    "ExecuteTime": {
     "end_time": "2021-03-18T14:52:44.942308Z",
     "start_time": "2021-03-18T14:52:44.937320Z"
    }
   },
   "outputs": [],
   "source": [
    "with open('experiments/todo/0GCN.json') as file:\n",
    "        construct_dict = json.load(file)"
   ]
  },
  {
   "cell_type": "code",
   "execution_count": 3,
   "metadata": {
    "ExecuteTime": {
     "end_time": "2021-03-18T14:52:44.959297Z",
     "start_time": "2021-03-18T14:52:44.945299Z"
    }
   },
   "outputs": [
    {
     "data": {
      "text/plain": [
       "100.0"
      ]
     },
     "execution_count": 3,
     "metadata": {},
     "output_type": "execute_result"
    }
   ],
   "source": [
    "construct_dict['data_params']['n_data']"
   ]
  },
  {
   "cell_type": "code",
   "execution_count": 4,
   "metadata": {
    "ExecuteTime": {
     "end_time": "2021-03-18T14:52:44.964249Z",
     "start_time": "2021-03-18T14:52:44.961256Z"
    }
   },
   "outputs": [],
   "source": [
    "# !wandb login b5b917a9390932e56fccfcbff6f528ccd85c44bf\n",
    "# run=wandb.init(project=\"test\", entity=\"chri862z\", config=construct_dict)"
   ]
  },
  {
   "cell_type": "code",
   "execution_count": 12,
   "metadata": {
    "ExecuteTime": {
     "end_time": "2021-03-18T14:51:49.430743Z",
     "start_time": "2021-03-18T14:51:49.424721Z"
    }
   },
   "outputs": [
    {
     "data": {
      "text/plain": [
       "{'experiment': 'IceCube',\n",
       " 'group': 'GCN_nlayers',\n",
       " 'model_name': 'GCN_nlayers',\n",
       " 'angle_unitvec': 'angle',\n",
       " 'wandblog': True,\n",
       " 'run_params': {'epochs': 100,\n",
       "  'batch_size': 512,\n",
       "  'early_stop': True,\n",
       "  'patience': 20,\n",
       "  'lr_schedule': 'classic',\n",
       "  'learning_rate': 0.001,\n",
       "  'warm_up': 3,\n",
       "  'lr_decay': 0.9,\n",
       "  'val_epoch': 20,\n",
       "  'loss_func': 'abs_vonMises_angle',\n",
       "  'metrics': 'energy_angle',\n",
       "  'performance_plot': 'performance_e_alpha'},\n",
       " 'hyper_params': {'n_out': 4,\n",
       "  'hidden_states': 64,\n",
       "  'conv_layers': 0,\n",
       "  'conv_activation': 'relu',\n",
       "  'decode_layers': 3,\n",
       "  'decode_activation': 'relu',\n",
       "  'dropout': 0.1,\n",
       "  'regularization': 'l2',\n",
       "  'batch_norm': True,\n",
       "  'forward': True,\n",
       "  'edgeconv': 1},\n",
       " 'data_params': {'n_data': 1000000.0,\n",
       "  'graph_construction': 'classic',\n",
       "  'muon': True,\n",
       "  'n_neighbors': 6,\n",
       "  'data_split': [0.8, 0.1, 0.1],\n",
       "  'restart': False,\n",
       "  'transform_path': '../db_files/muongun/transformers.pkl',\n",
       "  'db_path': '../db_files/muongun/rasmus_classification_muon_3neutrino_3mio.db',\n",
       "  'features': ['dom_x',\n",
       "   'dom_y',\n",
       "   'dom_z',\n",
       "   'time',\n",
       "   'charge_log10',\n",
       "   'SRTInIcePulses'],\n",
       "  'targets': ['energy_log10', 'zenith', 'azimuth'],\n",
       "  'skip': 0,\n",
       "  'SRT': 1,\n",
       "  'database': 'MuonGun'}}"
      ]
     },
     "execution_count": 12,
     "metadata": {},
     "output_type": "execute_result"
    }
   ],
   "source": [
    "construct_dict"
   ]
  },
  {
   "cell_type": "code",
   "execution_count": 6,
   "metadata": {
    "ExecuteTime": {
     "end_time": "2021-03-18T14:49:29.998617Z",
     "start_time": "2021-03-18T14:49:26.181451Z"
    }
   },
   "outputs": [
    {
     "name": "stdout",
     "output_type": "stream",
     "text": [
      "Not notebook\n",
      "Not notebook\n"
     ]
    }
   ],
   "source": [
    "import dev.data_load as dl\n",
    "reload(dl)\n",
    "data=dl.graph_data"
   ]
  },
  {
   "cell_type": "code",
   "execution_count": 7,
   "metadata": {
    "ExecuteTime": {
     "end_time": "2021-03-18T14:49:31.481970Z",
     "start_time": "2021-03-18T14:49:30.000612Z"
    }
   },
   "outputs": [
    {
     "name": "stdout",
     "output_type": "stream",
     "text": [
      "Loading data to memory\n"
     ]
    },
    {
     "ename": "FileNotFoundError",
     "evalue": "[Errno 2] No such file or directory: 'C:\\\\Users\\\\chris\\\\Christian\\\\3YR-UNI\\\\Bachelor\\\\IceCube\\\\from_config\\\\processed/MuonGun_muon_True_n_data_1000000_type_classic\\\\data.dat'",
     "output_type": "error",
     "traceback": [
      "\u001b[1;31m---------------------------------------------------------------------------\u001b[0m",
      "\u001b[1;31mFileNotFoundError\u001b[0m                         Traceback (most recent call last)",
      "\u001b[1;32m<ipython-input-7-dc853609a8a5>\u001b[0m in \u001b[0;36m<module>\u001b[1;34m\u001b[0m\n\u001b[1;32m----> 1\u001b[1;33m \u001b[0mdata\u001b[0m\u001b[1;33m(\u001b[0m\u001b[1;33m**\u001b[0m\u001b[0mconstruct_dict\u001b[0m\u001b[1;33m[\u001b[0m\u001b[1;34m'data_params'\u001b[0m\u001b[1;33m]\u001b[0m\u001b[1;33m)\u001b[0m\u001b[1;33m\u001b[0m\u001b[1;33m\u001b[0m\u001b[0m\n\u001b[0m",
      "\u001b[1;32m~\\Christian\\3YR-UNI\\Bachelor\\IceCube\\from_config\\dev\\data_load.py\u001b[0m in \u001b[0;36m__init__\u001b[1;34m(self, n_data, features, targets, muon, skip, transform_path, db_path, n_neighbors, restart, data_split, SRT, graph_construction, database, **kwargs)\u001b[0m\n\u001b[0;32m     51\u001b[0m         \u001b[0mself\u001b[0m\u001b[1;33m.\u001b[0m\u001b[0mdatabase\u001b[0m\u001b[1;33m=\u001b[0m\u001b[0mdatabase\u001b[0m\u001b[1;33m\u001b[0m\u001b[1;33m\u001b[0m\u001b[0m\n\u001b[0;32m     52\u001b[0m         \u001b[0mself\u001b[0m\u001b[1;33m.\u001b[0m\u001b[0mk\u001b[0m\u001b[1;33m=\u001b[0m\u001b[1;36m0\u001b[0m\u001b[1;33m\u001b[0m\u001b[1;33m\u001b[0m\u001b[0m\n\u001b[1;32m---> 53\u001b[1;33m         \u001b[0msuper\u001b[0m\u001b[1;33m(\u001b[0m\u001b[1;33m)\u001b[0m\u001b[1;33m.\u001b[0m\u001b[0m__init__\u001b[0m\u001b[1;33m(\u001b[0m\u001b[1;33m**\u001b[0m\u001b[0mkwargs\u001b[0m\u001b[1;33m)\u001b[0m\u001b[1;33m\u001b[0m\u001b[1;33m\u001b[0m\u001b[0m\n\u001b[0m\u001b[0;32m     54\u001b[0m \u001b[1;33m\u001b[0m\u001b[0m\n\u001b[0;32m     55\u001b[0m     \u001b[1;33m@\u001b[0m\u001b[0mproperty\u001b[0m\u001b[1;33m\u001b[0m\u001b[1;33m\u001b[0m\u001b[0m\n",
      "\u001b[1;32m~\\AppData\\Roaming\\Python\\Python38\\site-packages\\spektral\\data\\dataset.py\u001b[0m in \u001b[0;36m__init__\u001b[1;34m(self, transforms, **kwargs)\u001b[0m\n\u001b[0;32m     96\u001b[0m \u001b[1;33m\u001b[0m\u001b[0m\n\u001b[0;32m     97\u001b[0m         \u001b[1;31m# Read graphs\u001b[0m\u001b[1;33m\u001b[0m\u001b[1;33m\u001b[0m\u001b[1;33m\u001b[0m\u001b[0m\n\u001b[1;32m---> 98\u001b[1;33m         \u001b[0mself\u001b[0m\u001b[1;33m.\u001b[0m\u001b[0mgraphs\u001b[0m \u001b[1;33m=\u001b[0m \u001b[0mself\u001b[0m\u001b[1;33m.\u001b[0m\u001b[0mread\u001b[0m\u001b[1;33m(\u001b[0m\u001b[1;33m)\u001b[0m\u001b[1;33m\u001b[0m\u001b[1;33m\u001b[0m\u001b[0m\n\u001b[0m\u001b[0;32m     99\u001b[0m         \u001b[1;32mif\u001b[0m \u001b[0mlen\u001b[0m\u001b[1;33m(\u001b[0m\u001b[0mself\u001b[0m\u001b[1;33m.\u001b[0m\u001b[0mgraphs\u001b[0m\u001b[1;33m)\u001b[0m \u001b[1;33m==\u001b[0m \u001b[1;36m0\u001b[0m\u001b[1;33m:\u001b[0m\u001b[1;33m\u001b[0m\u001b[1;33m\u001b[0m\u001b[0m\n\u001b[0;32m    100\u001b[0m             \u001b[1;32mraise\u001b[0m \u001b[0mValueError\u001b[0m\u001b[1;33m(\u001b[0m\u001b[1;34m'Datasets cannot be empty'\u001b[0m\u001b[1;33m)\u001b[0m\u001b[1;33m\u001b[0m\u001b[1;33m\u001b[0m\u001b[0m\n",
      "\u001b[1;32m~\\Christian\\3YR-UNI\\Bachelor\\IceCube\\from_config\\dev\\data_load.py\u001b[0m in \u001b[0;36mread\u001b[1;34m(self)\u001b[0m\n\u001b[0;32m    161\u001b[0m             \u001b[0mself\u001b[0m\u001b[1;33m.\u001b[0m\u001b[0mk\u001b[0m\u001b[1;33m+=\u001b[0m\u001b[1;36m1\u001b[0m\u001b[1;33m\u001b[0m\u001b[1;33m\u001b[0m\u001b[0m\n\u001b[0;32m    162\u001b[0m         \u001b[0mprint\u001b[0m\u001b[1;33m(\u001b[0m\u001b[1;34m\"Loading data to memory\"\u001b[0m\u001b[1;33m)\u001b[0m\u001b[1;33m\u001b[0m\u001b[1;33m\u001b[0m\u001b[0m\n\u001b[1;32m--> 163\u001b[1;33m         \u001b[0mdata\u001b[0m   \u001b[1;33m=\u001b[0m \u001b[0mpickle\u001b[0m\u001b[1;33m.\u001b[0m\u001b[0mload\u001b[0m\u001b[1;33m(\u001b[0m\u001b[0mopen\u001b[0m\u001b[1;33m(\u001b[0m\u001b[0mosp\u001b[0m\u001b[1;33m.\u001b[0m\u001b[0mjoin\u001b[0m\u001b[1;33m(\u001b[0m\u001b[0mself\u001b[0m\u001b[1;33m.\u001b[0m\u001b[0mpath\u001b[0m\u001b[1;33m,\u001b[0m \u001b[1;34m\"data.dat\"\u001b[0m\u001b[1;33m)\u001b[0m\u001b[1;33m,\u001b[0m \u001b[1;34m'rb'\u001b[0m\u001b[1;33m)\u001b[0m\u001b[1;33m)\u001b[0m\u001b[1;33m\u001b[0m\u001b[1;33m\u001b[0m\u001b[0m\n\u001b[0m\u001b[0;32m    164\u001b[0m \u001b[1;33m\u001b[0m\u001b[0m\n\u001b[0;32m    165\u001b[0m \u001b[1;33m\u001b[0m\u001b[0m\n",
      "\u001b[1;31mFileNotFoundError\u001b[0m: [Errno 2] No such file or directory: 'C:\\\\Users\\\\chris\\\\Christian\\\\3YR-UNI\\\\Bachelor\\\\IceCube\\\\from_config\\\\processed/MuonGun_muon_True_n_data_1000000_type_classic\\\\data.dat'"
     ]
    }
   ],
   "source": [
    "data(**construct_dict['data_params'])"
   ]
  },
  {
   "cell_type": "code",
   "execution_count": null,
   "metadata": {
    "ExecuteTime": {
     "end_time": "2021-03-18T14:49:31.482932Z",
     "start_time": "2021-03-18T14:49:24.755Z"
    }
   },
   "outputs": [],
   "source": [
    "import tensorflow as tf\n",
    "tf.math.acos(1.1)"
   ]
  },
  {
   "cell_type": "code",
   "execution_count": null,
   "metadata": {
    "ExecuteTime": {
     "end_time": "2021-03-18T14:49:31.483928Z",
     "start_time": "2021-03-18T14:49:24.756Z"
    }
   },
   "outputs": [],
   "source": [
    "eps=1\n",
    "tf.math.acos"
   ]
  },
  {
   "cell_type": "code",
   "execution_count": 5,
   "metadata": {
    "ExecuteTime": {
     "end_time": "2021-03-18T14:53:39.551271Z",
     "start_time": "2021-03-18T14:52:50.079479Z"
    }
   },
   "outputs": [
    {
     "name": "stdout",
     "output_type": "stream",
     "text": [
      "GPU detected\n",
      "Starting process with 6 experiments\n",
      "['0GCN.json', '1GCN.json', '2GCN.json', '3GCN.json', '3GCN0ECCC.json', '4GCN.json']\n",
      "Starting experiment from 0GCN\n"
     ]
    },
    {
     "name": "stderr",
     "output_type": "stream",
     "text": [
      "wandb: Currently logged in as: chri862z (use `wandb login --relogin` to force relogin)\n"
     ]
    },
    {
     "data": {
      "text/html": [
       "\n",
       "                Tracking run with wandb version 0.10.22<br/>\n",
       "                Syncing run <strong style=\"color:#cdcd00\">spring-sponge-87</strong> to <a href=\"https://wandb.ai\" target=\"_blank\">Weights & Biases</a> <a href=\"https://docs.wandb.com/integrations/jupyter.html\" target=\"_blank\">(Documentation)</a>.<br/>\n",
       "                Project page: <a href=\"https://wandb.ai/chri862z/icecube\" target=\"_blank\">https://wandb.ai/chri862z/icecube</a><br/>\n",
       "                Run page: <a href=\"https://wandb.ai/chri862z/icecube/runs/32odusq0\" target=\"_blank\">https://wandb.ai/chri862z/icecube/runs/32odusq0</a><br/>\n",
       "                Run data is saved locally in <code>C:\\Users\\chris\\Christian\\3YR-UNI\\Bachelor\\IceCube\\from_config\\wandb\\run-20210318_155254-32odusq0</code><br/><br/>\n",
       "            "
      ],
      "text/plain": [
       "<IPython.core.display.HTML object>"
      ]
     },
     "metadata": {},
     "output_type": "display_data"
    },
    {
     "name": "stdout",
     "output_type": "stream",
     "text": [
      "Not notebook\n"
     ]
    },
    {
     "name": "stderr",
     "output_type": "stream",
     "text": [
      "C:\\Users\\chris\\anaconda3\\lib\\site-packages\\sklearn\\utils\\deprecation.py:143: FutureWarning: The sklearn.preprocessing.data module is  deprecated in version 0.22 and will be removed in version 0.24. The corresponding classes / functions should instead be imported from sklearn.preprocessing. Anything that cannot be imported from sklearn.preprocessing is now part of the private API.\n",
      "  warnings.warn(message, FutureWarning)\n",
      "C:\\Users\\chris\\anaconda3\\lib\\site-packages\\sklearn\\base.py:329: UserWarning: Trying to unpickle estimator RobustScaler from version 0.19.1 when using version 0.23.2. This might lead to breaking code or invalid results. Use at your own risk.\n",
      "  warnings.warn(\n",
      "\r",
      "  0%|                                                                                          | 0/100 [00:00<?, ?it/s]"
     ]
    },
    {
     "name": "stdout",
     "output_type": "stream",
     "text": [
      "Connecting to db-file\n",
      "Loading Muons\n",
      "Reading files\n",
      "Splitting data to events\n",
      "     dom_x    dom_y    dom_z      time  charge_log10  SRTInIcePulses\n",
      "0 -0.26890  0.35424 -0.34950  0.344943      0.444979               1\n",
      "1 -0.26890  0.35424 -0.48567  0.140052     -0.897229               1\n",
      "2 -0.34788  0.45152 -0.50262 -0.070026      0.791982               1\n",
      "3 -0.22409  0.47086 -0.33159 -0.155243      0.083393               1\n",
      "4 -0.22409  0.47086 -0.39968 -0.045943      0.508351               1\n",
      "   energy_log10    zenith   azimuth\n",
      "0      2.422178  0.914194  0.967663\n",
      "1      2.311812  1.155833  5.953112\n",
      "2      3.433424  1.205342  2.802480\n",
      "3      2.582473  0.518382  4.915968\n",
      "4      2.783172  0.709137  5.187095\n",
      "Generating adjacency matrices\n"
     ]
    },
    {
     "name": "stderr",
     "output_type": "stream",
     "text": [
      "100%|███████████████████████████████████████████████████████████████████████████████| 100/100 [00:00<00:00, 895.12it/s]\n",
      "C:\\Users\\chris\\anaconda3\\lib\\site-packages\\sklearn\\base.py:329: UserWarning: Trying to unpickle estimator RobustScaler from version 0.19.1 when using version 0.23.2. This might lead to breaking code or invalid results. Use at your own risk.\n",
      "  warnings.warn(\n",
      "100%|██████████████████████████████████████████████████████████████████████████████| 100/100 [00:00<00:00, 1391.92it/s]\n"
     ]
    },
    {
     "name": "stdout",
     "output_type": "stream",
     "text": [
      "Saving dataset\n",
      "Removed and ready to reload\n",
      "Connecting to db-file\n",
      "Loading Muons\n",
      "Reading files\n",
      "Splitting data to events\n",
      "     dom_x    dom_y    dom_z      time  charge_log10  SRTInIcePulses\n",
      "0 -0.26890  0.35424 -0.34950  0.344943      0.444979               1\n",
      "1 -0.26890  0.35424 -0.48567  0.140052     -0.897229               1\n",
      "2 -0.34788  0.45152 -0.50262 -0.070026      0.791982               1\n",
      "3 -0.22409  0.47086 -0.33159 -0.155243      0.083393               1\n",
      "4 -0.22409  0.47086 -0.39968 -0.045943      0.508351               1\n",
      "   energy_log10    zenith   azimuth\n",
      "0      2.422178  0.914194  0.967663\n",
      "1      2.311812  1.155833  5.953112\n",
      "2      3.433424  1.205342  2.802480\n",
      "3      2.582473  0.518382  4.915968\n",
      "4      2.783172  0.709137  5.187095\n",
      "Generating adjacency matrices\n",
      "Saving dataset\n",
      "Loading data to memory\n",
      "check\n"
     ]
    },
    {
     "name": "stderr",
     "output_type": "stream",
     "text": [
      "\r",
      "  0%|                                                                                            | 0/1 [00:00<?, ?it/s]"
     ]
    },
    {
     "name": "stdout",
     "output_type": "stream",
     "text": [
      "New folder for saving run made\n"
     ]
    },
    {
     "name": "stderr",
     "output_type": "stream",
     "text": [
      "Epoch 1 / 100; Avg_loss: 4.949242: 100%|█████████████████████████████████████████████████| 1/1 [00:05<00:00,  5.09s/it]"
     ]
    },
    {
     "name": "stdout",
     "output_type": "stream",
     "text": [
      "Model: \"gcn_nlayers\"\n",
      "_________________________________________________________________\n",
      "Layer (type)                 Output Shape              Param #   \n",
      "=================================================================\n",
      "ecc_conv (ECCConv)           multiple                  33984     \n",
      "_________________________________________________________________\n",
      "global_max_pool (GlobalMaxPo multiple                  0         \n",
      "_________________________________________________________________\n",
      "global_avg_pool (GlobalAvgPo multiple                  0         \n",
      "_________________________________________________________________\n",
      "global_sum_pool (GlobalSumPo multiple                  0         \n",
      "_________________________________________________________________\n",
      "dense (Dense)                multiple                  12352     \n",
      "_________________________________________________________________\n",
      "dense_1 (Dense)              multiple                  8320      \n",
      "_________________________________________________________________\n",
      "dense_2 (Dense)              multiple                  33024     \n",
      "_________________________________________________________________\n",
      "dropout (Dropout)            multiple                  0         \n",
      "_________________________________________________________________\n",
      "dropout_1 (Dropout)          multiple                  0         \n",
      "_________________________________________________________________\n",
      "dropout_2 (Dropout)          multiple                  0         \n",
      "_________________________________________________________________\n",
      "batch_normalization (BatchNo multiple                  256       \n",
      "_________________________________________________________________\n",
      "batch_normalization_1 (Batch multiple                  512       \n",
      "_________________________________________________________________\n",
      "batch_normalization_2 (Batch multiple                  1024      \n",
      "_________________________________________________________________\n",
      "dense_3 (Dense)              multiple                  1028      \n",
      "=================================================================\n",
      "Total params: 90,500\n",
      "Trainable params: 89,604\n",
      "Non-trainable params: 896\n",
      "_________________________________________________________________\n",
      "Epoch 1 of 100 done in 5.09 seconds using learning rate: 1.25E-04\n",
      "Avg loss of train: 4.949242\n"
     ]
    },
    {
     "name": "stderr",
     "output_type": "stream",
     "text": [
      "  0%|                                                                                            | 0/1 [00:00<?, ?it/s]"
     ]
    },
    {
     "name": "stdout",
     "output_type": "stream",
     "text": [
      "Avg loss of validation: 2.881740\n",
      "Loss from:  Energy: 2.347986 \t Angle: 0.533755 \n",
      "Energy: bias = 2.160657 sig_range = 1.517021<->2.315320, old metric 0.477806                \n",
      " Angle: bias = 61.698105 sig_range = 23.134550<->130.693802, old metric 63.047325\n",
      "Early stop counter: 0/20, lowest val loss was 2.881740\n",
      "Epoch 2 of 100 done in 0.04 seconds using learning rate: 2.50E-04\n",
      "Avg loss of train: 4.707488\n",
      "Avg loss of validation: 3.309092\n",
      "Loss from:  Energy: 2.221998 \t Angle: 1.087093 \n",
      "Energy: bias = 2.230222 sig_range = 1.667688<->2.347379, old metric 0.454419                \n",
      " Angle: bias = 54.246952 sig_range = 29.004265<->150.897964, old metric 99.388771\n",
      "Early stop counter: 1/20, lowest val loss was 2.881740\n",
      "Epoch 3 of 100 done in 0.04 seconds using learning rate: 5.00E-04\n",
      "Avg loss of train: 4.722960\n",
      "Avg loss of validation: 2.876946\n",
      "Loss from:  Energy: 2.191790 \t Angle: 0.685155 \n",
      "Energy: bias = 2.308121 sig_range = 1.794978<->2.413013, old metric 0.428184                \n",
      " Angle: bias = 48.959595 sig_range = 23.642517<->92.796356, old metric 86.903465\n",
      "Early stop counter: 0/20, lowest val loss was 2.876946\n"
     ]
    },
    {
     "name": "stderr",
     "output_type": "stream",
     "text": [
      "Epoch 3 / 100; Avg_loss: 4.722960: 100%|█████████████████████████████████████████████████| 1/1 [00:00<00:00,  6.36it/s]\n",
      "Epoch 6 / 100; Avg_loss: 4.669140: 100%|█████████████████████████████████████████████████| 1/1 [00:00<00:00, 23.32it/s]"
     ]
    },
    {
     "name": "stdout",
     "output_type": "stream",
     "text": [
      "Epoch 4 of 100 done in 0.04 seconds using learning rate: 1.00E-03\n",
      "Avg loss of train: 4.825784\n",
      "Avg loss of validation: 2.823747\n",
      "Loss from:  Energy: 2.211099 \t Angle: 0.612647 \n",
      "Energy: bias = 2.406928 sig_range = 1.833617<->2.582439, old metric 0.365552                \n",
      " Angle: bias = 40.106781 sig_range = 29.031193<->73.996849, old metric 59.870159\n",
      "Early stop counter: 0/20, lowest val loss was 2.823747\n",
      "Epoch 5 of 100 done in 0.04 seconds using learning rate: 9.00E-04\n",
      "Avg loss of train: 4.680206\n",
      "Avg loss of validation: 2.784013\n",
      "Loss from:  Energy: 2.227100 \t Angle: 0.556912 \n",
      "Energy: bias = 2.480670 sig_range = 1.756749<->2.688729, old metric 0.394338                \n",
      " Angle: bias = 41.006184 sig_range = 29.917150<->67.897888, old metric 45.878895\n",
      "Early stop counter: 0/20, lowest val loss was 2.784013\n",
      "Epoch 6 of 100 done in 0.04 seconds using learning rate: 8.10E-04\n",
      "Avg loss of train: 4.669140\n"
     ]
    },
    {
     "name": "stderr",
     "output_type": "stream",
     "text": [
      "Epoch 5 / 100; Avg_loss: 4.680206: 100%|█████████████████████████████████████████████████| 1/1 [00:00<00:00,  6.20it/s]\n",
      "Epoch 7 / 100; Avg_loss: 4.503919: 100%|█████████████████████████████████████████████████| 1/1 [00:00<00:00,  6.36it/s]\n",
      "  0%|                                                                                            | 0/1 [00:00<?, ?it/s]"
     ]
    },
    {
     "name": "stdout",
     "output_type": "stream",
     "text": [
      "Avg loss of validation: 2.954931\n",
      "Loss from:  Energy: 2.383378 \t Angle: 0.571553 \n",
      "Energy: bias = 2.526845 sig_range = 2.134579<->2.898557, old metric 0.472139                \n",
      " Angle: bias = 36.390110 sig_range = 28.138716<->49.080528, old metric 43.079037\n",
      "Early stop counter: 1/20, lowest val loss was 2.784013\n",
      "Epoch 7 of 100 done in 0.04 seconds using learning rate: 7.29E-04\n",
      "Avg loss of train: 4.503919\n",
      "Avg loss of validation: 3.163970\n",
      "Loss from:  Energy: 2.556436 \t Angle: 0.607533 \n",
      "Energy: bias = 2.555599 sig_range = 2.145528<->3.120123, old metric 0.396900                \n",
      " Angle: bias = 36.814552 sig_range = 27.331495<->63.147560, old metric 44.032497\n",
      "Early stop counter: 2/20, lowest val loss was 2.784013\n",
      "Epoch 8 of 100 done in 0.04 seconds using learning rate: 6.56E-04\n",
      "Avg loss of train: 4.525127\n",
      "Avg loss of validation: 3.326880\n",
      "Loss from:  Energy: 2.685134 \t Angle: 0.641746 \n",
      "Energy: bias = 2.582014 sig_range = 2.388977<->3.254342, old metric 0.364674                \n",
      " Angle: bias = 38.828220 sig_range = 27.018446<->62.290070, old metric 45.531090\n",
      "Early stop counter: 3/20, lowest val loss was 2.784013\n"
     ]
    },
    {
     "name": "stderr",
     "output_type": "stream",
     "text": [
      "Epoch 9 / 100; Avg_loss: 4.533760: 100%|█████████████████████████████████████████████████| 1/1 [00:00<00:00,  6.31it/s]\n",
      "Epoch 11 / 100; Avg_loss: 4.564937: 100%|████████████████████████████████████████████████| 1/1 [00:00<00:00, 17.57it/s]"
     ]
    },
    {
     "name": "stdout",
     "output_type": "stream",
     "text": [
      "Epoch 9 of 100 done in 0.04 seconds using learning rate: 5.90E-04\n",
      "Avg loss of train: 4.533760\n",
      "Avg loss of validation: 3.450752\n",
      "Loss from:  Energy: 2.784806 \t Angle: 0.665945 \n",
      "Energy: bias = 2.678252 sig_range = 2.408381<->3.354531, old metric 0.431615                \n",
      " Angle: bias = 34.510204 sig_range = 26.692253<->61.727810, old metric 47.648975\n",
      "Early stop counter: 4/20, lowest val loss was 2.784013\n",
      "Epoch 10 of 100 done in 0.04 seconds using learning rate: 5.31E-04\n",
      "Avg loss of train: 4.600847\n",
      "Avg loss of validation: 3.528814\n",
      "Loss from:  Energy: 2.881254 \t Angle: 0.647560 \n",
      "Energy: bias = 2.777484 sig_range = 2.401971<->3.610356, old metric 0.679559                \n",
      " Angle: bias = 32.669857 sig_range = 26.091465<->61.318756, old metric 50.217007\n",
      "Early stop counter: 5/20, lowest val loss was 2.784013\n"
     ]
    },
    {
     "name": "stderr",
     "output_type": "stream",
     "text": [
      "  0%|                                                                                            | 0/1 [00:00<?, ?it/s]"
     ]
    },
    {
     "name": "stdout",
     "output_type": "stream",
     "text": [
      "Epoch 11 of 100 done in 0.06 seconds using learning rate: 4.78E-04\n",
      "Avg loss of train: 4.564937\n",
      "Avg loss of validation: 3.613048\n",
      "Loss from:  Energy: 2.952391 \t Angle: 0.660656 \n",
      "Energy: bias = 2.841604 sig_range = 2.398810<->3.735344, old metric 0.685235                \n",
      " Angle: bias = 33.058853 sig_range = 26.085905<->61.278790, old metric 49.463749\n",
      "Early stop counter: 6/20, lowest val loss was 2.784013\n",
      "Epoch 12 of 100 done in 0.06 seconds using learning rate: 4.30E-04\n",
      "Avg loss of train: 4.513202\n",
      "Avg loss of validation: 3.635997\n",
      "Loss from:  Energy: 2.986703 \t Angle: 0.649294 \n",
      "Energy: bias = 2.814357 sig_range = 2.392804<->3.766413, old metric 0.688841                \n",
      " Angle: bias = 31.087240 sig_range = 21.506258<->60.687748, old metric 48.218975\n",
      "Early stop counter: 7/20, lowest val loss was 2.784013\n"
     ]
    },
    {
     "name": "stderr",
     "output_type": "stream",
     "text": [
      "Epoch 11 / 100; Avg_loss: 4.564937: 100%|████████████████████████████████████████████████| 1/1 [00:00<00:00,  2.65it/s]\n",
      "Epoch 12 / 100; Avg_loss: 4.513202: 100%|████████████████████████████████████████████████| 1/1 [00:00<00:00,  3.50it/s]\n",
      "Epoch 13 / 100; Avg_loss: 4.526757: 100%|████████████████████████████████████████████████| 1/1 [00:00<00:00,  5.99it/s]\n",
      "  0%|                                                                                            | 0/1 [00:00<?, ?it/s]"
     ]
    },
    {
     "name": "stdout",
     "output_type": "stream",
     "text": [
      "Epoch 13 of 100 done in 0.07 seconds using learning rate: 3.87E-04\n",
      "Avg loss of train: 4.526757\n",
      "Avg loss of validation: 3.657497\n",
      "Loss from:  Energy: 3.022665 \t Angle: 0.634833 \n",
      "Energy: bias = 2.842268 sig_range = 2.388443<->3.797558, old metric 0.695372                \n",
      " Angle: bias = 30.847536 sig_range = 21.145414<->62.341946, old metric 46.547993\n",
      "Early stop counter: 8/20, lowest val loss was 2.784013\n",
      "Epoch 14 of 100 done in 0.06 seconds using learning rate: 3.49E-04\n",
      "Avg loss of train: 4.427630\n",
      "Avg loss of validation: 3.666238\n",
      "Loss from:  Energy: 3.045891 \t Angle: 0.620347 \n",
      "Energy: bias = 2.860028 sig_range = 2.381773<->3.821913, old metric 0.702550                \n",
      " Angle: bias = 30.547802 sig_range = 22.463226<->63.788742, old metric 45.656517\n",
      "Early stop counter: 9/20, lowest val loss was 2.784013\n"
     ]
    },
    {
     "name": "stderr",
     "output_type": "stream",
     "text": [
      "Epoch 17 / 100; Avg_loss: 4.344612: 100%|████████████████████████████████████████████████| 1/1 [00:00<00:00, 22.79it/s]"
     ]
    },
    {
     "name": "stdout",
     "output_type": "stream",
     "text": [
      "Epoch 15 of 100 done in 0.04 seconds using learning rate: 3.14E-04\n",
      "Avg loss of train: 4.378304\n",
      "Avg loss of validation: 3.668611\n",
      "Loss from:  Energy: 3.060762 \t Angle: 0.607849 \n",
      "Energy: bias = 2.869546 sig_range = 2.373403<->3.839835, old metric 0.709466                \n",
      " Angle: bias = 30.091871 sig_range = 24.159122<->65.481506, old metric 44.825516\n",
      "Early stop counter: 10/20, lowest val loss was 2.784013\n",
      "Epoch 16 of 100 done in 0.04 seconds using learning rate: 2.82E-04\n",
      "Avg loss of train: 4.438658\n",
      "Avg loss of validation: 3.703739\n",
      "Loss from:  Energy: 3.083397 \t Angle: 0.620342 \n",
      "Energy: bias = 2.891228 sig_range = 2.364883<->3.863121, old metric 0.721414                \n",
      " Angle: bias = 31.570896 sig_range = 24.005243<->64.908173, old metric 43.234299\n",
      "Early stop counter: 11/20, lowest val loss was 2.784013\n",
      "Epoch 17 of 100 done in 0.04 seconds using learning rate: 2.54E-04\n",
      "Avg loss of train: 4.344612\n"
     ]
    },
    {
     "name": "stderr",
     "output_type": "stream",
     "text": [
      "Epoch 15 / 100; Avg_loss: 4.378304: 100%|████████████████████████████████████████████████| 1/1 [00:00<00:00,  2.80it/s]\n",
      "Epoch 16 / 100; Avg_loss: 4.438658: 100%|████████████████████████████████████████████████| 1/1 [00:00<00:00,  3.70it/s]\n",
      "Epoch 17 / 100; Avg_loss: 4.344612: 100%|████████████████████████████████████████████████| 1/1 [00:00<00:00,  5.22it/s]\n",
      "Epoch 18 / 100; Avg_loss: 4.219899: 100%|████████████████████████████████████████████████| 1/1 [00:00<00:00,  9.46it/s]\n",
      "Epoch 19 / 100; Avg_loss: 4.384778: 100%|████████████████████████████████████████████████| 1/1 [00:00<00:00, 15.92it/s]"
     ]
    },
    {
     "name": "stdout",
     "output_type": "stream",
     "text": [
      "Avg loss of validation: 3.755362\n",
      "Loss from:  Energy: 3.109541 \t Angle: 0.645821 \n",
      "Energy: bias = 2.889687 sig_range = 2.353187<->3.865215, old metric 0.729337                \n",
      " Angle: bias = 30.480450 sig_range = 24.106756<->64.682663, old metric 43.094509\n",
      "Early stop counter: 12/20, lowest val loss was 2.784013\n",
      "Epoch 18 of 100 done in 0.04 seconds using learning rate: 2.29E-04\n",
      "Avg loss of train: 4.219899\n",
      "Avg loss of validation: 3.767949\n",
      "Loss from:  Energy: 3.112427 \t Angle: 0.655522 \n",
      "Energy: bias = 2.882260 sig_range = 2.342502<->3.882679, old metric 0.731944                \n",
      " Angle: bias = 31.920218 sig_range = 23.028790<->63.240864, old metric 42.470825\n",
      "Early stop counter: 13/20, lowest val loss was 2.784013\n",
      "Epoch 19 of 100 done in 0.06 seconds using learning rate: 2.06E-04\n",
      "Avg loss of train: 4.384778\n"
     ]
    },
    {
     "name": "stderr",
     "output_type": "stream",
     "text": [
      "Epoch 2 / 100; Avg_loss: 4.707488: 100%|█████████████████████████████████████████████████| 1/1 [00:01<00:00,  1.81s/it]\n",
      "Epoch 4 / 100; Avg_loss: 4.825784: 100%|█████████████████████████████████████████████████| 1/1 [00:01<00:00,  1.65s/it]\n",
      "Epoch 6 / 100; Avg_loss: 4.669140: 100%|█████████████████████████████████████████████████| 1/1 [00:01<00:00,  1.48s/it]\n",
      "Epoch 8 / 100; Avg_loss: 4.525127: 100%|█████████████████████████████████████████████████| 1/1 [00:01<00:00,  1.32s/it]\n",
      "Epoch 10 / 100; Avg_loss: 4.600847: 100%|████████████████████████████████████████████████| 1/1 [00:01<00:00,  1.16s/it]\n",
      "Epoch 14 / 100; Avg_loss: 4.427630: 100%|████████████████████████████████████████████████| 1/1 [00:00<00:00,  1.40it/s]\n",
      "Epoch 19 / 100; Avg_loss: 4.384778: 100%|████████████████████████████████████████████████| 1/1 [00:00<00:00,  3.62it/s]\n",
      "Epoch 20 / 100; Avg_loss: 4.577627: 100%|████████████████████████████████████████████████| 1/1 [00:00<00:00,  6.63it/s]"
     ]
    },
    {
     "name": "stdout",
     "output_type": "stream",
     "text": [
      "Avg loss of validation: 3.781910\n",
      "Loss from:  Energy: 3.122811 \t Angle: 0.659100 \n",
      "Energy: bias = 2.889825 sig_range = 2.333455<->3.878824, old metric 0.744460                \n",
      " Angle: bias = 31.856970 sig_range = 22.998930<->62.911331, old metric 41.995171\n",
      "Early stop counter: 14/20, lowest val loss was 2.784013\n",
      "Epoch 20 of 100 done in 0.06 seconds using learning rate: 1.85E-04\n",
      "Avg loss of train: 4.577627\n",
      "Avg loss of validation: 3.783903\n",
      "Loss from:  Energy: 3.127155 \t Angle: 0.656748 \n",
      "Energy: bias = 2.894387 sig_range = 2.322789<->3.872299, old metric 0.749127                \n",
      " Angle: bias = 30.944136 sig_range = 22.949295<->62.756298, old metric 41.525314\n",
      "Early stop counter: 15/20, lowest val loss was 2.784013\n"
     ]
    },
    {
     "name": "stderr",
     "output_type": "stream",
     "text": [
      "\n",
      "Epoch 1 / 100; Avg_loss: 4.949242: 100%|█████████████████████████████████████████████████| 1/1 [00:09<00:00,  9.82s/it]\n",
      "WARNING:absl:Found untraced functions such as FGN_0_layer_call_and_return_conditional_losses, FGN_0_layer_call_fn, FGN_1_layer_call_and_return_conditional_losses, FGN_1_layer_call_fn, FGN_2_layer_call_and_return_conditional_losses while saving (showing 5 of 20). These functions will not be directly callable after loading.\n",
      "WARNING:absl:Found untraced functions such as FGN_0_layer_call_and_return_conditional_losses, FGN_0_layer_call_fn, FGN_1_layer_call_and_return_conditional_losses, FGN_1_layer_call_fn, FGN_2_layer_call_and_return_conditional_losses while saving (showing 5 of 20). These functions will not be directly callable after loading.\n"
     ]
    },
    {
     "name": "stdout",
     "output_type": "stream",
     "text": [
      "INFO:tensorflow:Assets written to: C:\\Users\\chris\\Christian\\3YR-UNI\\Bachelor\\IceCube\\from_config\\trained_models\\IceCubeGCN_nlayers32odusq0\\assets\n"
     ]
    },
    {
     "name": "stderr",
     "output_type": "stream",
     "text": [
      "INFO:tensorflow:Assets written to: C:\\Users\\chris\\Christian\\3YR-UNI\\Bachelor\\IceCube\\from_config\\trained_models\\IceCubeGCN_nlayers32odusq0\\assets\n"
     ]
    },
    {
     "name": "stdout",
     "output_type": "stream",
     "text": [
      "Model saved\n"
     ]
    },
    {
     "name": "stderr",
     "output_type": "stream",
     "text": [
      "WARNING:matplotlib.legend:No handles with labels found to put in legend.\n",
      "WARNING:matplotlib.legend:No handles with labels found to put in legend.\n",
      "WARNING:matplotlib.legend:No handles with labels found to put in legend.\n",
      "WARNING:matplotlib.legend:No handles with labels found to put in legend.\n",
      "Epoch 22 / 100; Avg_loss: 4.289158: 100%|████████████████████████████████████████████████| 1/1 [00:00<00:00,  9.28it/s]"
     ]
    },
    {
     "name": "stdout",
     "output_type": "stream",
     "text": [
      "Epoch 21 of 100 done in 0.05 seconds using learning rate: 1.67E-04\n",
      "Avg loss of train: 4.323527\n",
      "Avg loss of validation: 3.776101\n",
      "Loss from:  Energy: 3.116878 \t Angle: 0.659223 \n",
      "Energy: bias = 2.876354 sig_range = 2.311508<->3.862494, old metric 0.759687                \n",
      " Angle: bias = 30.396191 sig_range = 23.667650<->63.045181, old metric 41.286777\n",
      "Early stop counter: 16/20, lowest val loss was 2.784013\n",
      "Epoch 22 of 100 done in 0.04 seconds using learning rate: 1.50E-04\n",
      "Avg loss of train: 4.289158\n",
      "Avg loss of validation: 3.774700\n",
      "Loss from:  Energy: 3.110421 \t Angle: 0.664278 \n",
      "Energy: bias = 2.860327 sig_range = 2.300622<->3.858644, old metric 0.761736                \n",
      " Angle: bias = 30.222641 sig_range = 23.367565<->62.839272, old metric 41.103844\n",
      "Early stop counter: 17/20, lowest val loss was 2.784013\n"
     ]
    },
    {
     "name": "stderr",
     "output_type": "stream",
     "text": [
      "\n",
      "Epoch 23 / 100; Avg_loss: 4.376997: 100%|████████████████████████████████████████████████| 1/1 [00:00<00:00,  4.99it/s]\n",
      "Epoch 24 / 100; Avg_loss: 4.217197: 100%|████████████████████████████████████████████████| 1/1 [00:00<00:00,  9.28it/s]\n"
     ]
    },
    {
     "name": "stdout",
     "output_type": "stream",
     "text": [
      "Epoch 23 of 100 done in 0.05 seconds using learning rate: 1.35E-04\n",
      "Avg loss of train: 4.376997\n",
      "Avg loss of validation: 3.764817\n",
      "Loss from:  Energy: 3.103164 \t Angle: 0.661653 \n",
      "Energy: bias = 2.850526 sig_range = 2.286122<->3.860248, old metric 0.769930                \n",
      " Angle: bias = 30.173615 sig_range = 23.421726<->62.664936, old metric 41.218788\n",
      "Early stop counter: 18/20, lowest val loss was 2.784013\n",
      "Epoch 24 of 100 done in 0.04 seconds using learning rate: 1.22E-04\n",
      "Avg loss of train: 4.217197\n",
      "Avg loss of validation: 3.764624\n",
      "Loss from:  Energy: 3.104154 \t Angle: 0.660470 \n",
      "Energy: bias = 2.860085 sig_range = 2.274426<->3.850241, old metric 0.779357                \n",
      " Angle: bias = 30.028593 sig_range = 23.442568<->62.229443, old metric 40.919579\n",
      "Early stop counter: 19/20, lowest val loss was 2.784013\n"
     ]
    },
    {
     "name": "stderr",
     "output_type": "stream",
     "text": [
      "\r",
      "Epoch 25 / 100; Avg_loss: 4.349931: 100%|████████████████████████████████████████████████| 1/1 [00:00<00:00, 19.28it/s]"
     ]
    },
    {
     "name": "stdout",
     "output_type": "stream",
     "text": [
      "Epoch 25 of 100 done in 0.05 seconds using learning rate: 1.09E-04\n",
      "Avg loss of train: 4.349931\n",
      "Avg loss of validation: 3.757226\n",
      "Loss from:  Energy: 3.097070 \t Angle: 0.660155 \n",
      "Energy: bias = 2.852215 sig_range = 2.265875<->3.842668, old metric 0.787981                \n",
      " Angle: bias = 29.939032 sig_range = 23.670580<->62.371964, old metric 40.915257\n",
      "Early stop counter: 20/20, lowest val loss was 2.784013\n"
     ]
    },
    {
     "name": "stderr",
     "output_type": "stream",
     "text": [
      "Epoch 21 / 100; Avg_loss: 4.323527: 100%|████████████████████████████████████████████████| 1/1 [00:13<00:00, 13.61s/it]\n",
      "WARNING:absl:Found untraced functions such as FGN_0_layer_call_and_return_conditional_losses, FGN_0_layer_call_fn, FGN_1_layer_call_and_return_conditional_losses, FGN_1_layer_call_fn, FGN_2_layer_call_and_return_conditional_losses while saving (showing 5 of 20). These functions will not be directly callable after loading.\n",
      "WARNING:absl:Found untraced functions such as FGN_0_layer_call_and_return_conditional_losses, FGN_0_layer_call_fn, FGN_1_layer_call_and_return_conditional_losses, FGN_1_layer_call_fn, FGN_2_layer_call_and_return_conditional_losses while saving (showing 5 of 20). These functions will not be directly callable after loading.\n"
     ]
    },
    {
     "name": "stdout",
     "output_type": "stream",
     "text": [
      "INFO:tensorflow:Assets written to: C:\\Users\\chris\\Christian\\3YR-UNI\\Bachelor\\IceCube\\from_config\\trained_models\\IceCubeGCN_nlayers32odusq0\\assets\n"
     ]
    },
    {
     "name": "stderr",
     "output_type": "stream",
     "text": [
      "INFO:tensorflow:Assets written to: C:\\Users\\chris\\Christian\\3YR-UNI\\Bachelor\\IceCube\\from_config\\trained_models\\IceCubeGCN_nlayers32odusq0\\assets\n"
     ]
    },
    {
     "name": "stdout",
     "output_type": "stream",
     "text": [
      "Stopped training. No improvement was seen in 20 epochs\n",
      "Exited training after 25 epochs\n",
      "Experiment 0GCN done \t 0GCN.json: 1 / 6\n",
      "No data construction required\n",
      "Starting experiment from 1GCN\n"
     ]
    },
    {
     "data": {
      "text/html": [
       "Finishing last run (ID:32odusq0) before initializing another..."
      ],
      "text/plain": [
       "<IPython.core.display.HTML object>"
      ]
     },
     "metadata": {},
     "output_type": "display_data"
    },
    {
     "data": {
      "text/html": [
       "<br/>Waiting for W&B process to finish, PID 87592<br/>Program ended successfully."
      ],
      "text/plain": [
       "<IPython.core.display.HTML object>"
      ]
     },
     "metadata": {},
     "output_type": "display_data"
    },
    {
     "data": {
      "application/vnd.jupyter.widget-view+json": {
       "model_id": "",
       "version_major": 2,
       "version_minor": 0
      },
      "text/plain": [
       "VBox(children=(Label(value=' 0.10MB of 0.10MB uploaded (0.00MB deduped)\\r'), FloatProgress(value=1.0, max=1.0)…"
      ]
     },
     "metadata": {},
     "output_type": "display_data"
    },
    {
     "data": {
      "text/html": [
       "Find user logs for this run at: <code>C:\\Users\\chris\\Christian\\3YR-UNI\\Bachelor\\IceCube\\from_config\\wandb\\run-20210318_155254-32odusq0\\logs\\debug.log</code>"
      ],
      "text/plain": [
       "<IPython.core.display.HTML object>"
      ]
     },
     "metadata": {},
     "output_type": "display_data"
    },
    {
     "data": {
      "text/html": [
       "Find internal logs for this run at: <code>C:\\Users\\chris\\Christian\\3YR-UNI\\Bachelor\\IceCube\\from_config\\wandb\\run-20210318_155254-32odusq0\\logs\\debug-internal.log</code>"
      ],
      "text/plain": [
       "<IPython.core.display.HTML object>"
      ]
     },
     "metadata": {},
     "output_type": "display_data"
    },
    {
     "data": {
      "text/html": [
       "<h3>Run summary:</h3><br/><style>\n",
       "    table.wandb td:nth-child(1) { padding: 0 10px; text-align: right }\n",
       "    </style><table class=\"wandb\">\n",
       "<tr><td>_runtime</td><td>27</td></tr><tr><td>_timestamp</td><td>1616079202</td></tr><tr><td>_step</td><td>26</td></tr><tr><td>Train Loss</td><td>4.34993</td></tr><tr><td>Validation Loss</td><td>3.75723</td></tr><tr><td>Energy metric</td><td>0.78798</td></tr><tr><td>Energy bias</td><td>2.85222</td></tr><tr><td>Energy sig-1</td><td>2.26588</td></tr><tr><td>Energy sig+1</td><td>3.84267</td></tr><tr><td>Angle metric</td><td>40.91526</td></tr><tr><td>Angle bias</td><td>29.93903</td></tr><tr><td>Angle sig-1</td><td>23.67058</td></tr><tr><td>Angle sig+1</td><td>62.37196</td></tr><tr><td>Learning rate</td><td>0.00011</td></tr></table>"
      ],
      "text/plain": [
       "<IPython.core.display.HTML object>"
      ]
     },
     "metadata": {},
     "output_type": "display_data"
    },
    {
     "data": {
      "text/html": [
       "<h3>Run history:</h3><br/><style>\n",
       "    table.wandb td:nth-child(1) { padding: 0 10px; text-align: right }\n",
       "    </style><table class=\"wandb\">\n",
       "<tr><td>_runtime</td><td>▁▁▁▁▁▁▁▁▁▁▁▁▁▁▁▁▂▂▂▂▂▇▇▇▇▇█</td></tr><tr><td>_timestamp</td><td>▁▁▁▁▁▁▁▁▁▁▁▁▁▁▁▁▂▂▂▂▂▇▇▇▇▇█</td></tr><tr><td>_step</td><td>▁▁▂▂▂▂▃▃▃▃▄▄▄▅▅▅▅▆▆▆▆▇▇▇▇██</td></tr><tr><td>Train Loss</td><td>█▆▆▇▅▅▄▄▄▅▄▄▄▃▃▃▂▁▃▄▂▂▃▁▂</td></tr><tr><td>Validation Loss</td><td>▂▅▂▁▁▂▄▅▆▆▇▇▇▇▇▇█████████</td></tr><tr><td>Energy metric</td><td>▃▂▂▁▁▃▂▁▂▆▆▆▆▇▇▇▇▇▇▇█████</td></tr><tr><td>Energy bias</td><td>▁▂▂▃▄▄▅▅▆▇▇▇█████████████</td></tr><tr><td>Energy sig-1</td><td>▁▂▃▃▃▆▆██████████▇▇▇▇▇▇▇▇</td></tr><tr><td>Energy sig+1</td><td>▁▁▁▂▃▄▅▅▆▇▇▇█████████████</td></tr><tr><td>Angle metric</td><td>▄█▇▃▂▁▁▂▂▂▂▂▂▂▁▁▁▁▁▁▁▁▁▁▁</td></tr><tr><td>Angle bias</td><td>█▆▅▃▃▂▃▃▂▂▂▁▁▁▁▁▁▁▁▁▁▁▁▁▁</td></tr><tr><td>Angle sig-1</td><td>▃▇▃▇█▇▆▆▅▅▅▁▁▂▃▃▃▃▂▂▃▃▃▃▃</td></tr><tr><td>Angle sig+1</td><td>▇█▄▃▂▁▂▂▂▂▂▂▂▂▂▂▂▂▂▂▂▂▂▂▂</td></tr><tr><td>Learning rate</td><td>▁▂▄█▇▇▆▅▅▄▄▄▃▃▃▂▂▂▂▂▁▁▁▁▁</td></tr></table><br/>"
      ],
      "text/plain": [
       "<IPython.core.display.HTML object>"
      ]
     },
     "metadata": {},
     "output_type": "display_data"
    },
    {
     "data": {
      "text/html": [
       "Synced 6 W&B file(s), 2 media file(s), 0 artifact file(s) and 2 other file(s)"
      ],
      "text/plain": [
       "<IPython.core.display.HTML object>"
      ]
     },
     "metadata": {},
     "output_type": "display_data"
    },
    {
     "data": {
      "text/html": [
       "\n",
       "                    <br/>Synced <strong style=\"color:#cdcd00\">spring-sponge-87</strong>: <a href=\"https://wandb.ai/chri862z/icecube/runs/32odusq0\" target=\"_blank\">https://wandb.ai/chri862z/icecube/runs/32odusq0</a><br/>\n",
       "                "
      ],
      "text/plain": [
       "<IPython.core.display.HTML object>"
      ]
     },
     "metadata": {},
     "output_type": "display_data"
    },
    {
     "data": {
      "text/html": [
       "...Successfully finished last run (ID:32odusq0). Initializing new run:<br/><br/>"
      ],
      "text/plain": [
       "<IPython.core.display.HTML object>"
      ]
     },
     "metadata": {},
     "output_type": "display_data"
    },
    {
     "data": {
      "text/html": [
       "\n",
       "                Tracking run with wandb version 0.10.22<br/>\n",
       "                Syncing run <strong style=\"color:#cdcd00\">lyric-oath-88</strong> to <a href=\"https://wandb.ai\" target=\"_blank\">Weights & Biases</a> <a href=\"https://docs.wandb.com/integrations/jupyter.html\" target=\"_blank\">(Documentation)</a>.<br/>\n",
       "                Project page: <a href=\"https://wandb.ai/chri862z/icecube\" target=\"_blank\">https://wandb.ai/chri862z/icecube</a><br/>\n",
       "                Run page: <a href=\"https://wandb.ai/chri862z/icecube/runs/8oq2iz0o\" target=\"_blank\">https://wandb.ai/chri862z/icecube/runs/8oq2iz0o</a><br/>\n",
       "                Run data is saved locally in <code>C:\\Users\\chris\\Christian\\3YR-UNI\\Bachelor\\IceCube\\from_config\\wandb\\run-20210318_155327-8oq2iz0o</code><br/><br/>\n",
       "            "
      ],
      "text/plain": [
       "<IPython.core.display.HTML object>"
      ]
     },
     "metadata": {},
     "output_type": "display_data"
    },
    {
     "name": "stdout",
     "output_type": "stream",
     "text": [
      "Loading data to memory\n"
     ]
    },
    {
     "ename": "FileNotFoundError",
     "evalue": "[Errno 2] No such file or directory: 'C:\\\\Users\\\\chris\\\\Christian\\\\3YR-UNI\\\\Bachelor\\\\IceCube\\\\from_config\\\\processed/MuonGun_muon_True_n_data_1000000_type_classic\\\\data.dat'",
     "output_type": "error",
     "traceback": [
      "\u001b[1;31m---------------------------------------------------------------------------\u001b[0m",
      "\u001b[1;31mFileNotFoundError\u001b[0m                         Traceback (most recent call last)",
      "\u001b[1;32m~\\Christian\\3YR-UNI\\Bachelor\\IceCube\\from_config\\run_trainings.py\u001b[0m in \u001b[0;36m<module>\u001b[1;34m\u001b[0m\n\u001b[0;32m     43\u001b[0m     \u001b[0mprint\u001b[0m\u001b[1;33m(\u001b[0m\u001b[1;34mf\"Starting experiment from {experiment[:-5]}\"\u001b[0m\u001b[1;33m)\u001b[0m\u001b[1;33m\u001b[0m\u001b[1;33m\u001b[0m\u001b[0m\n\u001b[0;32m     44\u001b[0m \u001b[1;33m\u001b[0m\u001b[0m\n\u001b[1;32m---> 45\u001b[1;33m     \u001b[0mepochexit\u001b[0m\u001b[1;33m=\u001b[0m\u001b[0mtrain_model\u001b[0m\u001b[1;33m(\u001b[0m\u001b[0mconstruct_dict\u001b[0m\u001b[1;33m)\u001b[0m\u001b[1;33m\u001b[0m\u001b[1;33m\u001b[0m\u001b[0m\n\u001b[0m\u001b[0;32m     46\u001b[0m     \u001b[0mprint\u001b[0m\u001b[1;33m(\u001b[0m\u001b[1;34mf'Exited training after {epochexit} epochs'\u001b[0m\u001b[1;33m)\u001b[0m\u001b[1;33m\u001b[0m\u001b[1;33m\u001b[0m\u001b[0m\n\u001b[0;32m     47\u001b[0m     \u001b[0mshutil\u001b[0m\u001b[1;33m.\u001b[0m\u001b[0mmove\u001b[0m\u001b[1;33m(\u001b[0m\u001b[0mosp\u001b[0m\u001b[1;33m.\u001b[0m\u001b[0mjoin\u001b[0m\u001b[1;33m(\u001b[0m\u001b[0mexp_folder\u001b[0m\u001b[1;33m,\u001b[0m \u001b[0mexperiment\u001b[0m\u001b[1;33m)\u001b[0m\u001b[1;33m,\u001b[0m \u001b[1;34m\"experiments/done\"\u001b[0m\u001b[1;33m)\u001b[0m\u001b[1;33m\u001b[0m\u001b[1;33m\u001b[0m\u001b[0m\n",
      "\u001b[1;32m~\\Christian\\3YR-UNI\\Bachelor\\IceCube\\from_config\\dev\\train_script.py\u001b[0m in \u001b[0;36mtrain_model\u001b[1;34m(construct_dict)\u001b[0m\n\u001b[0;32m     32\u001b[0m     \u001b[0mbatch_size\u001b[0m  \u001b[1;33m=\u001b[0m \u001b[0mconstruct_dict\u001b[0m\u001b[1;33m[\u001b[0m\u001b[1;34m'run_params'\u001b[0m\u001b[1;33m]\u001b[0m\u001b[1;33m[\u001b[0m\u001b[1;34m'batch_size'\u001b[0m\u001b[1;33m]\u001b[0m\u001b[1;33m\u001b[0m\u001b[1;33m\u001b[0m\u001b[0m\n\u001b[0;32m     33\u001b[0m \u001b[1;33m\u001b[0m\u001b[0m\n\u001b[1;32m---> 34\u001b[1;33m     \u001b[0mdataset\u001b[0m\u001b[1;33m=\u001b[0m\u001b[0mgraph_data\u001b[0m\u001b[1;33m(\u001b[0m\u001b[1;33m**\u001b[0m\u001b[0mconstruct_dict\u001b[0m\u001b[1;33m[\u001b[0m\u001b[1;34m'data_params'\u001b[0m\u001b[1;33m]\u001b[0m\u001b[1;33m)\u001b[0m\u001b[1;33m\u001b[0m\u001b[1;33m\u001b[0m\u001b[0m\n\u001b[0m\u001b[0;32m     35\u001b[0m \u001b[1;33m\u001b[0m\u001b[0m\n\u001b[0;32m     36\u001b[0m     \u001b[0midx_lists\u001b[0m \u001b[1;33m=\u001b[0m \u001b[0mdataset\u001b[0m\u001b[1;33m.\u001b[0m\u001b[0mindex_lists\u001b[0m\u001b[1;33m\u001b[0m\u001b[1;33m\u001b[0m\u001b[0m\n",
      "\u001b[1;32m~\\Christian\\3YR-UNI\\Bachelor\\IceCube\\from_config\\dev\\data_load.py\u001b[0m in \u001b[0;36m__init__\u001b[1;34m(self, n_data, features, targets, muon, skip, transform_path, db_path, n_neighbors, restart, data_split, SRT, graph_construction, database, **kwargs)\u001b[0m\n\u001b[0;32m     51\u001b[0m         \u001b[0mself\u001b[0m\u001b[1;33m.\u001b[0m\u001b[0mdatabase\u001b[0m\u001b[1;33m=\u001b[0m\u001b[0mdatabase\u001b[0m\u001b[1;33m\u001b[0m\u001b[1;33m\u001b[0m\u001b[0m\n\u001b[0;32m     52\u001b[0m         \u001b[0mself\u001b[0m\u001b[1;33m.\u001b[0m\u001b[0mk\u001b[0m\u001b[1;33m=\u001b[0m\u001b[1;36m0\u001b[0m\u001b[1;33m\u001b[0m\u001b[1;33m\u001b[0m\u001b[0m\n\u001b[1;32m---> 53\u001b[1;33m         \u001b[0msuper\u001b[0m\u001b[1;33m(\u001b[0m\u001b[1;33m)\u001b[0m\u001b[1;33m.\u001b[0m\u001b[0m__init__\u001b[0m\u001b[1;33m(\u001b[0m\u001b[1;33m**\u001b[0m\u001b[0mkwargs\u001b[0m\u001b[1;33m)\u001b[0m\u001b[1;33m\u001b[0m\u001b[1;33m\u001b[0m\u001b[0m\n\u001b[0m\u001b[0;32m     54\u001b[0m \u001b[1;33m\u001b[0m\u001b[0m\n\u001b[0;32m     55\u001b[0m     \u001b[1;33m@\u001b[0m\u001b[0mproperty\u001b[0m\u001b[1;33m\u001b[0m\u001b[1;33m\u001b[0m\u001b[0m\n",
      "\u001b[1;32m~\\AppData\\Roaming\\Python\\Python38\\site-packages\\spektral\\data\\dataset.py\u001b[0m in \u001b[0;36m__init__\u001b[1;34m(self, transforms, **kwargs)\u001b[0m\n\u001b[0;32m     96\u001b[0m \u001b[1;33m\u001b[0m\u001b[0m\n\u001b[0;32m     97\u001b[0m         \u001b[1;31m# Read graphs\u001b[0m\u001b[1;33m\u001b[0m\u001b[1;33m\u001b[0m\u001b[1;33m\u001b[0m\u001b[0m\n\u001b[1;32m---> 98\u001b[1;33m         \u001b[0mself\u001b[0m\u001b[1;33m.\u001b[0m\u001b[0mgraphs\u001b[0m \u001b[1;33m=\u001b[0m \u001b[0mself\u001b[0m\u001b[1;33m.\u001b[0m\u001b[0mread\u001b[0m\u001b[1;33m(\u001b[0m\u001b[1;33m)\u001b[0m\u001b[1;33m\u001b[0m\u001b[1;33m\u001b[0m\u001b[0m\n\u001b[0m\u001b[0;32m     99\u001b[0m         \u001b[1;32mif\u001b[0m \u001b[0mlen\u001b[0m\u001b[1;33m(\u001b[0m\u001b[0mself\u001b[0m\u001b[1;33m.\u001b[0m\u001b[0mgraphs\u001b[0m\u001b[1;33m)\u001b[0m \u001b[1;33m==\u001b[0m \u001b[1;36m0\u001b[0m\u001b[1;33m:\u001b[0m\u001b[1;33m\u001b[0m\u001b[1;33m\u001b[0m\u001b[0m\n\u001b[0;32m    100\u001b[0m             \u001b[1;32mraise\u001b[0m \u001b[0mValueError\u001b[0m\u001b[1;33m(\u001b[0m\u001b[1;34m'Datasets cannot be empty'\u001b[0m\u001b[1;33m)\u001b[0m\u001b[1;33m\u001b[0m\u001b[1;33m\u001b[0m\u001b[0m\n",
      "\u001b[1;32m~\\Christian\\3YR-UNI\\Bachelor\\IceCube\\from_config\\dev\\data_load.py\u001b[0m in \u001b[0;36mread\u001b[1;34m(self)\u001b[0m\n\u001b[0;32m    161\u001b[0m             \u001b[0mself\u001b[0m\u001b[1;33m.\u001b[0m\u001b[0mk\u001b[0m\u001b[1;33m+=\u001b[0m\u001b[1;36m1\u001b[0m\u001b[1;33m\u001b[0m\u001b[1;33m\u001b[0m\u001b[0m\n\u001b[0;32m    162\u001b[0m         \u001b[0mprint\u001b[0m\u001b[1;33m(\u001b[0m\u001b[1;34m\"Loading data to memory\"\u001b[0m\u001b[1;33m)\u001b[0m\u001b[1;33m\u001b[0m\u001b[1;33m\u001b[0m\u001b[0m\n\u001b[1;32m--> 163\u001b[1;33m         \u001b[0mdata\u001b[0m   \u001b[1;33m=\u001b[0m \u001b[0mpickle\u001b[0m\u001b[1;33m.\u001b[0m\u001b[0mload\u001b[0m\u001b[1;33m(\u001b[0m\u001b[0mopen\u001b[0m\u001b[1;33m(\u001b[0m\u001b[0mosp\u001b[0m\u001b[1;33m.\u001b[0m\u001b[0mjoin\u001b[0m\u001b[1;33m(\u001b[0m\u001b[0mself\u001b[0m\u001b[1;33m.\u001b[0m\u001b[0mpath\u001b[0m\u001b[1;33m,\u001b[0m \u001b[1;34m\"data.dat\"\u001b[0m\u001b[1;33m)\u001b[0m\u001b[1;33m,\u001b[0m \u001b[1;34m'rb'\u001b[0m\u001b[1;33m)\u001b[0m\u001b[1;33m)\u001b[0m\u001b[1;33m\u001b[0m\u001b[1;33m\u001b[0m\u001b[0m\n\u001b[0m\u001b[0;32m    164\u001b[0m \u001b[1;33m\u001b[0m\u001b[0m\n\u001b[0;32m    165\u001b[0m \u001b[1;33m\u001b[0m\u001b[0m\n",
      "\u001b[1;31mFileNotFoundError\u001b[0m: [Errno 2] No such file or directory: 'C:\\\\Users\\\\chris\\\\Christian\\\\3YR-UNI\\\\Bachelor\\\\IceCube\\\\from_config\\\\processed/MuonGun_muon_True_n_data_1000000_type_classic\\\\data.dat'"
     ]
    },
    {
     "data": {
      "image/png": "[encoded data removed]",
      "text/plain": [
       "<Figure size 864x1440 with 18 Axes>"
      ]
     },
     "metadata": {
      "needs_background": "light"
     },
     "output_type": "display_data"
    }
   ],
   "source": [
    "%run run_trainings.py"
   ]
  },
  {
   "cell_type": "code",
   "execution_count": null,
   "metadata": {},
   "outputs": [],
   "source": []
  }
 ],
 "metadata": {
  "hide_input": false,
  "kernelspec": {
   "display_name": "Python 3",
   "language": "python",
   "name": "python3"
  },
  "language_info": {
   "codemirror_mode": {
    "name": "ipython",
    "version": 3
   },
   "file_extension": ".py",
   "mimetype": "text/x-python",
   "name": "python",
   "nbconvert_exporter": "python",
   "pygments_lexer": "ipython3",
   "version": "3.8.5"
  }
 },
 "nbformat": 4,
 "nbformat_minor": 4
}
