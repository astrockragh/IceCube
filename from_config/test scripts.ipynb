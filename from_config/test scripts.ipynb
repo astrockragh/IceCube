{
 "cells": [
  {
   "cell_type": "code",
   "execution_count": 1,
   "metadata": {
    "ExecuteTime": {
     "end_time": "2021-03-22T17:37:17.059124Z",
     "start_time": "2021-03-22T17:37:15.335317Z"
    }
   },
   "outputs": [],
   "source": [
    "import json, wandb\n",
    "from importlib import reload"
   ]
  },
  {
   "cell_type": "code",
   "execution_count": 2,
   "metadata": {
    "ExecuteTime": {
     "end_time": "2021-03-22T17:37:28.490881Z",
     "start_time": "2021-03-22T17:37:17.061118Z"
    },
    "scrolled": false
   },
   "outputs": [],
   "source": [
    "# %run run_trainings.py experiments"
   ]
  },
  {
   "cell_type": "code",
   "execution_count": 3,
   "metadata": {
    "ExecuteTime": {
     "end_time": "2021-03-21T16:43:35.864018Z",
     "start_time": "2021-03-21T16:43:35.853047Z"
    }
   },
   "outputs": [
    {
     "output_type": "error",
     "ename": "Error",
     "evalue": "Pip module Unable to parse debugpy output, please log an issue with https://github.com/microsoft/vscode-jupyter is required for debugging cells. You will need to install it to debug cells.",
     "traceback": [
      "Error: Pip module Unable to parse debugpy output, please log an issue with https://github.com/microsoft/vscode-jupyter is required for debugging cells. You will need to install it to debug cells.",
      "at b.parseConnectInfo (/lustre/hpc/hep/chri862z/.vscode-server/extensions/ms-toolsai.jupyter-2021.5.745244803/out/client/extension.js:49:478177)",
      "at b.connectToLocal (/lustre/hpc/hep/chri862z/.vscode-server/extensions/ms-toolsai.jupyter-2021.5.745244803/out/client/extension.js:49:478704)",
      "at async b.connect (/lustre/hpc/hep/chri862z/.vscode-server/extensions/ms-toolsai.jupyter-2021.5.745244803/out/client/extension.js:49:476581)",
      "at async b.startDebugSession (/lustre/hpc/hep/chri862z/.vscode-server/extensions/ms-toolsai.jupyter-2021.5.745244803/out/client/extension.js:49:475728)",
      "at async T.submitCode (/lustre/hpc/hep/chri862z/.vscode-server/extensions/ms-toolsai.jupyter-2021.5.745244803/out/client/extension.js:32:663261)",
      "at async T.handleRunByLine (/lustre/hpc/hep/chri862z/.vscode-server/extensions/ms-toolsai.jupyter-2021.5.745244803/out/client/extension.js:32:651205)"
     ]
    }
   ],
   "source": [
    "%time\n",
    "import dev.data_load2 as dl\n",
    "reload(dl)\n",
    "data=dl.graph_data(n_data=3e5)"
   ]
  },
  {
   "cell_type": "code",
   "execution_count": 4,
   "metadata": {},
   "outputs": [
    {
     "output_type": "stream",
     "name": "stdout",
     "text": [
      "CPU times: user 2 µs, sys: 0 ns, total: 2 µs\n",
      "Wall time: 4.77 µs\n",
      "Not notebook\n",
      "Not notebook\n",
      "Connecting to db-file\n",
      "Loading Muons\n",
      "Reading files\n"
     ]
    }
   ],
   "source": [
    "%time\n",
    "import dev.data_load as dl\n",
    "reload(dl)\n",
    "data=dl.graph_data(n_data=3e5)"
   ]
  },
  {
   "cell_type": "code",
   "execution_count": null,
   "metadata": {
    "ExecuteTime": {
     "start_time": "2021-03-21T16:42:40.609Z"
    }
   },
   "outputs": [],
   "source": [
    "gpu_devices = tf.config.list_physical_devices('GPU') \n",
    "if len(gpu_devices) > 0:\n",
    "    print(\"GPU detected\")\n",
    "    tf.config.experimental.set_memory_growth(gpu_devices[0], True)"
   ]
  },
  {
   "cell_type": "code",
   "execution_count": null,
   "metadata": {},
   "outputs": [],
   "source": []
  }
 ],
 "metadata": {
  "hide_input": false,
  "kernelspec": {
   "name": "python385jvsc74a57bd0ee7ae0cce42568ffbe792829a147e8b26e32fc5929320da4cac6b0f8a68675f6",
   "display_name": "Python 3.8.5 64-bit ('base': conda)"
  },
  "language_info": {
   "codemirror_mode": {
    "name": "ipython",
    "version": 3
   },
   "file_extension": ".py",
   "mimetype": "text/x-python",
   "name": "python",
   "nbconvert_exporter": "python",
   "pygments_lexer": "ipython3",
   "version": "3.8.5"
  },
  "metadata": {
   "interpreter": {
    "hash": "ee7ae0cce42568ffbe792829a147e8b26e32fc5929320da4cac6b0f8a68675f6"
   }
  }
 },
 "nbformat": 4,
 "nbformat_minor": 4
}