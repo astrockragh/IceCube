{
 "metadata": {
  "language_info": {
   "codemirror_mode": {
    "name": "ipython",
    "version": 3
   },
   "file_extension": ".py",
   "mimetype": "text/x-python",
   "name": "python",
   "nbconvert_exporter": "python",
   "pygments_lexer": "ipython3",
   "version": "3.8.5"
  },
  "orig_nbformat": 2,
  "kernelspec": {
   "name": "python385jvsc74a57bd0ee7ae0cce42568ffbe792829a147e8b26e32fc5929320da4cac6b0f8a68675f6",
   "display_name": "Python 3.8.5 64-bit ('base': conda)"
  },
  "metadata": {
   "interpreter": {
    "hash": "ee7ae0cce42568ffbe792829a147e8b26e32fc5929320da4cac6b0f8a68675f6"
   }
  }
 },
 "nbformat": 4,
 "nbformat_minor": 2,
 "cells": [
  {
   "cell_type": "code",
   "execution_count": 4,
   "metadata": {},
   "outputs": [],
   "source": [
    "from spektral.data import DisjointLoader"
   ]
  },
  {
   "cell_type": "code",
   "execution_count": 5,
   "metadata": {},
   "outputs": [],
   "source": [
    "from importlib import reload"
   ]
  },
  {
   "cell_type": "code",
   "execution_count": 63,
   "metadata": {
    "tags": []
   },
   "outputs": [
    {
     "output_type": "stream",
     "name": "stdout",
     "text": [
      "Removed and ready to reload\n",
      "Connecting to db-file\n",
      "Reading files\n",
      "Reading sets\n",
      "Events read\n",
      "Features read\n",
      "Targets read, transforming\n",
      "Splitting data to events\n",
      "     dom_x    dom_y    dom_z  dom_time  charge_log10  width   rqe  event_no\n",
      "0  0.00171 -0.15063 -0.28570 -0.659176     -0.666667    1.0 -0.35  13188817\n",
      "1  0.03125 -0.07293 -0.17315  0.262172      0.583333    1.0 -0.35  13188817\n",
      "2  0.03125 -0.07293 -0.25725  0.413858     -0.333333    0.0 -0.35  13188817\n",
      "3  0.03125 -0.07293 -0.27127  0.116105     -0.166667    0.0 -0.35  13188817\n",
      "4  0.03125 -0.07293 -0.31332 -0.043071      0.166667    1.0  0.00  13188817\n",
      "   energy_log10    zenith   azimuth  event_no\n",
      "0      2.340637  1.027825  4.888147  13188817\n",
      "1      2.416496  1.107861  4.361933  13188820\n",
      "2      2.409569  1.011339  4.044844  13188832\n",
      "3      2.405540  0.917276  5.294104  13188856\n",
      "4      2.333035  1.197129  1.402828  13188860\n"
     ]
    },
    {
     "output_type": "display_data",
     "data": {
      "text/plain": "HBox(children=(HTML(value='Transform train 0'), FloatProgress(value=0.0, max=10000.0), HTML(value='')))",
      "application/vnd.jupyter.widget-view+json": {
       "version_major": 2,
       "version_minor": 0,
       "model_id": "0f8d6f480472438ba292dbe5386e6835"
      }
     },
     "metadata": {}
    },
    {
     "output_type": "stream",
     "name": "stdout",
     "text": [
      "\n",
      "List->array\n",
      "Saving dataset train 0: 10000 train\n",
      "Events read\n",
      "Features read\n",
      "Targets read, transforming\n",
      "Saving test event nos\n",
      "Splitting data to events\n",
      "     dom_x    dom_y    dom_z  dom_time  charge_log10  width   rqe  event_no\n",
      "0  0.00171 -0.15063 -0.35378  0.792135      0.250000    1.0 -0.35  13188814\n",
      "1  0.12497 -0.13125 -0.34036  1.413858      0.333333    1.0 -0.35  13188814\n",
      "2 -0.07780 -0.05433 -0.28025  0.249064     -0.750000    1.0 -0.35  13188814\n",
      "3 -0.07780 -0.05433 -0.33131 -0.357678      0.166667    0.0 -0.35  13188814\n",
      "4 -0.07780 -0.05433 -0.34833 -0.479401      2.833334    0.0 -0.35  13188814\n",
      "   energy_log10    zenith   azimuth  event_no\n",
      "0      2.393187  0.918106  4.251641  13188814\n",
      "1      2.339276  0.951963  5.965024  13188815\n",
      "2      2.328557  1.026269  5.065084  13188818\n",
      "3      2.291836  0.956157  0.055570  13188840\n",
      "4      2.361583  0.831754  4.538415  13188842\n"
     ]
    },
    {
     "output_type": "display_data",
     "data": {
      "text/plain": "HBox(children=(HTML(value='Transform test 0'), FloatProgress(value=0.0, max=10000.0), HTML(value='')))",
      "application/vnd.jupyter.widget-view+json": {
       "version_major": 2,
       "version_minor": 0,
       "model_id": "19d1cddcf57341e7b470b51eb33f35c3"
      }
     },
     "metadata": {}
    },
    {
     "output_type": "stream",
     "name": "stdout",
     "text": [
      "\n",
      "List->array\n",
      "Saving dataset test 0: 10000 test\n",
      "Events read\n",
      "Features read\n",
      "Targets read, transforming\n",
      "Splitting data to events\n",
      "     dom_x    dom_y    dom_z  dom_time  charge_log10  width   rqe  event_no\n",
      "0 -0.07780 -0.05433 -0.12706  1.767790      0.166667    1.0 -0.35   7131088\n",
      "1  0.03125 -0.07293 -0.18716 -0.058052     -0.250000    0.0 -0.35   7131088\n",
      "2  0.03125 -0.07293 -0.19417 -0.292135     -0.250000    0.0 -0.35   7131088\n",
      "3  0.03125 -0.07293 -0.21520 -0.471910     -0.166667    0.0 -0.35   7131088\n",
      "4  0.03125 -0.07293 -0.22922 -0.501873     -1.083333    0.0 -0.35   7131088\n",
      "   energy_log10    zenith   azimuth  event_no\n",
      "0      0.552450  1.649225  2.948259   7131088\n",
      "1      1.014110  1.593360  0.610405   7131283\n",
      "2      1.067136  3.081000  0.966540   7131749\n",
      "3      1.392008  2.732288  6.273338   7132233\n",
      "4      1.435409  1.593949  0.712296   7132626\n"
     ]
    },
    {
     "output_type": "display_data",
     "data": {
      "text/plain": "HBox(children=(HTML(value='Transform train 1'), FloatProgress(value=0.0, max=10000.0), HTML(value='')))",
      "application/vnd.jupyter.widget-view+json": {
       "version_major": 2,
       "version_minor": 0,
       "model_id": "bed7e752b7a64103945a754aa835df45"
      }
     },
     "metadata": {}
    },
    {
     "output_type": "stream",
     "name": "stdout",
     "text": [
      "\n",
      "List->array\n",
      "Saving dataset train 1: 10000 train\n",
      "Events read\n"
     ]
    },
    {
     "output_type": "error",
     "ename": "KeyboardInterrupt",
     "evalue": "",
     "traceback": [
      "\u001b[0;31m---------------------------------------------------------------------------\u001b[0m",
      "\u001b[0;31mKeyboardInterrupt\u001b[0m                         Traceback (most recent call last)",
      "\u001b[0;32m<ipython-input-63-61e64ad44b52>\u001b[0m in \u001b[0;36m<module>\u001b[0;34m\u001b[0m\n\u001b[1;32m      2\u001b[0m \u001b[0mreload\u001b[0m\u001b[0;34m(\u001b[0m\u001b[0mdl\u001b[0m\u001b[0;34m)\u001b[0m\u001b[0;34m\u001b[0m\u001b[0;34m\u001b[0m\u001b[0m\n\u001b[1;32m      3\u001b[0m \u001b[0mgraph_data\u001b[0m\u001b[0;34m=\u001b[0m\u001b[0mdl\u001b[0m\u001b[0;34m.\u001b[0m\u001b[0mgraph_data\u001b[0m\u001b[0;34m\u001b[0m\u001b[0;34m\u001b[0m\u001b[0m\n\u001b[0;32m----> 4\u001b[0;31m \u001b[0mdataset_train\u001b[0m\u001b[0;34m=\u001b[0m\u001b[0mgraph_data\u001b[0m\u001b[0;34m(\u001b[0m\u001b[0mn_neighbors\u001b[0m\u001b[0;34m=\u001b[0m\u001b[0;36m30\u001b[0m\u001b[0;34m,\u001b[0m \u001b[0mrestart\u001b[0m\u001b[0;34m=\u001b[0m\u001b[0;36m1\u001b[0m\u001b[0;34m,\u001b[0m \u001b[0mtype\u001b[0m\u001b[0;34m=\u001b[0m\u001b[0;34m'classic'\u001b[0m\u001b[0;34m,\u001b[0m \u001b[0mn_steps\u001b[0m\u001b[0;34m=\u001b[0m\u001b[0;36m10\u001b[0m\u001b[0;34m)\u001b[0m\u001b[0;34m\u001b[0m\u001b[0;34m\u001b[0m\u001b[0m\n\u001b[0m\u001b[1;32m      5\u001b[0m \u001b[0mdataset_test\u001b[0m\u001b[0;34m=\u001b[0m\u001b[0mgraph_data\u001b[0m\u001b[0;34m(\u001b[0m\u001b[0mn_neighbors\u001b[0m\u001b[0;34m=\u001b[0m\u001b[0;36m30\u001b[0m\u001b[0;34m,\u001b[0m \u001b[0mrestart\u001b[0m\u001b[0;34m=\u001b[0m\u001b[0;32mFalse\u001b[0m\u001b[0;34m,\u001b[0m \u001b[0mtype\u001b[0m\u001b[0;34m=\u001b[0m\u001b[0;34m'classic'\u001b[0m\u001b[0;34m,\u001b[0m \u001b[0mn_steps\u001b[0m\u001b[0;34m=\u001b[0m\u001b[0;36m10\u001b[0m\u001b[0;34m,\u001b[0m \u001b[0mtraintest\u001b[0m\u001b[0;34m=\u001b[0m\u001b[0;34m'test'\u001b[0m\u001b[0;34m,\u001b[0m \u001b[0mi_test\u001b[0m\u001b[0;34m=\u001b[0m\u001b[0;36m0\u001b[0m\u001b[0;34m)\u001b[0m\u001b[0;34m\u001b[0m\u001b[0;34m\u001b[0m\u001b[0m\n\u001b[1;32m      6\u001b[0m \u001b[0mepochs\u001b[0m      \u001b[0;34m=\u001b[0m \u001b[0;36m20\u001b[0m\u001b[0;34m\u001b[0m\u001b[0;34m\u001b[0m\u001b[0m\n",
      "\u001b[0;32m/lustre/hpc/hep/chri862z/work/IceCube/from_config/dev/datawhere.py\u001b[0m in \u001b[0;36m__init__\u001b[0;34m(self, n_steps, features, targets, transform_path, db_path, set_path, n_neighbors, restart, graph_construction, traintest, i_train, i_test, **kwargs)\u001b[0m\n\u001b[1;32m     39\u001b[0m         \u001b[0mself\u001b[0m\u001b[0;34m.\u001b[0m\u001b[0mi_test\u001b[0m\u001b[0;34m=\u001b[0m\u001b[0mi_test\u001b[0m\u001b[0;34m\u001b[0m\u001b[0;34m\u001b[0m\u001b[0m\n\u001b[1;32m     40\u001b[0m         \u001b[0mself\u001b[0m\u001b[0;34m.\u001b[0m\u001b[0mi_train\u001b[0m\u001b[0;34m=\u001b[0m\u001b[0mi_train\u001b[0m\u001b[0;34m\u001b[0m\u001b[0;34m\u001b[0m\u001b[0m\n\u001b[0;32m---> 41\u001b[0;31m         \u001b[0msuper\u001b[0m\u001b[0;34m(\u001b[0m\u001b[0;34m)\u001b[0m\u001b[0;34m.\u001b[0m\u001b[0m__init__\u001b[0m\u001b[0;34m(\u001b[0m\u001b[0;34m**\u001b[0m\u001b[0mkwargs\u001b[0m\u001b[0;34m)\u001b[0m\u001b[0;34m\u001b[0m\u001b[0;34m\u001b[0m\u001b[0m\n\u001b[0m\u001b[1;32m     42\u001b[0m \u001b[0;34m\u001b[0m\u001b[0m\n\u001b[1;32m     43\u001b[0m     \u001b[0;34m@\u001b[0m\u001b[0mproperty\u001b[0m\u001b[0;34m\u001b[0m\u001b[0;34m\u001b[0m\u001b[0m\n",
      "\u001b[0;32m~/anaconda3/lib/python3.8/site-packages/spektral/data/dataset.py\u001b[0m in \u001b[0;36m__init__\u001b[0;34m(self, transforms, **kwargs)\u001b[0m\n\u001b[1;32m    116\u001b[0m \u001b[0;34m\u001b[0m\u001b[0m\n\u001b[1;32m    117\u001b[0m         \u001b[0;31m# Read graphs\u001b[0m\u001b[0;34m\u001b[0m\u001b[0;34m\u001b[0m\u001b[0;34m\u001b[0m\u001b[0m\n\u001b[0;32m--> 118\u001b[0;31m         \u001b[0mself\u001b[0m\u001b[0;34m.\u001b[0m\u001b[0mgraphs\u001b[0m \u001b[0;34m=\u001b[0m \u001b[0mself\u001b[0m\u001b[0;34m.\u001b[0m\u001b[0mread\u001b[0m\u001b[0;34m(\u001b[0m\u001b[0;34m)\u001b[0m\u001b[0;34m\u001b[0m\u001b[0;34m\u001b[0m\u001b[0m\n\u001b[0m\u001b[1;32m    119\u001b[0m         \u001b[0;32mif\u001b[0m \u001b[0mself\u001b[0m\u001b[0;34m.\u001b[0m\u001b[0ma\u001b[0m \u001b[0;32mis\u001b[0m \u001b[0;32mNone\u001b[0m \u001b[0;32mand\u001b[0m \u001b[0mself\u001b[0m\u001b[0;34m.\u001b[0m\u001b[0m__len__\u001b[0m\u001b[0;34m(\u001b[0m\u001b[0;34m)\u001b[0m \u001b[0;34m>\u001b[0m \u001b[0;36m0\u001b[0m \u001b[0;32mand\u001b[0m \u001b[0;34m\"a\"\u001b[0m \u001b[0;32mnot\u001b[0m \u001b[0;32min\u001b[0m \u001b[0mself\u001b[0m\u001b[0;34m.\u001b[0m\u001b[0mgraphs\u001b[0m\u001b[0;34m[\u001b[0m\u001b[0;36m0\u001b[0m\u001b[0;34m]\u001b[0m\u001b[0;34m:\u001b[0m\u001b[0;34m\u001b[0m\u001b[0;34m\u001b[0m\u001b[0m\n\u001b[1;32m    120\u001b[0m             warnings.warn(\n",
      "\u001b[0;32m/lustre/hpc/hep/chri862z/work/IceCube/from_config/dev/datawhere.py\u001b[0m in \u001b[0;36mread\u001b[0;34m(self)\u001b[0m\n\u001b[1;32m    142\u001b[0m         \u001b[0;32mif\u001b[0m \u001b[0mself\u001b[0m\u001b[0;34m.\u001b[0m\u001b[0mrestart\u001b[0m \u001b[0;32mand\u001b[0m \u001b[0mself\u001b[0m\u001b[0;34m.\u001b[0m\u001b[0mk\u001b[0m\u001b[0;34m==\u001b[0m\u001b[0;36m0\u001b[0m\u001b[0;34m:\u001b[0m\u001b[0;34m\u001b[0m\u001b[0;34m\u001b[0m\u001b[0m\n\u001b[1;32m    143\u001b[0m             \u001b[0mself\u001b[0m\u001b[0;34m.\u001b[0m\u001b[0mreload\u001b[0m\u001b[0;34m(\u001b[0m\u001b[0;34m)\u001b[0m\u001b[0;34m\u001b[0m\u001b[0;34m\u001b[0m\u001b[0m\n\u001b[0;32m--> 144\u001b[0;31m             \u001b[0mself\u001b[0m\u001b[0;34m.\u001b[0m\u001b[0mdownload\u001b[0m\u001b[0;34m(\u001b[0m\u001b[0;34m)\u001b[0m\u001b[0;34m\u001b[0m\u001b[0;34m\u001b[0m\u001b[0m\n\u001b[0m\u001b[1;32m    145\u001b[0m             \u001b[0mself\u001b[0m\u001b[0;34m.\u001b[0m\u001b[0mk\u001b[0m\u001b[0;34m+=\u001b[0m\u001b[0;36m1\u001b[0m\u001b[0;34m\u001b[0m\u001b[0;34m\u001b[0m\u001b[0m\n\u001b[1;32m    146\u001b[0m \u001b[0;34m\u001b[0m\u001b[0m\n",
      "\u001b[0;32m/lustre/hpc/hep/chri862z/work/IceCube/from_config/dev/datawhere.py\u001b[0m in \u001b[0;36mdownload\u001b[0;34m(self)\u001b[0m\n\u001b[1;32m     92\u001b[0m                     \u001b[0mdf_event\u001b[0m \u001b[0;34m=\u001b[0m \u001b[0mread_sql\u001b[0m\u001b[0;34m(\u001b[0m\u001b[0;34mf\"select event_no from features where event_no in {tuple(events)}\"\u001b[0m\u001b[0;34m,\u001b[0m \u001b[0mconn\u001b[0m\u001b[0;34m)\u001b[0m\u001b[0;34m\u001b[0m\u001b[0;34m\u001b[0m\u001b[0m\n\u001b[1;32m     93\u001b[0m                     \u001b[0mprint\u001b[0m\u001b[0;34m(\u001b[0m\u001b[0;34m'Events read'\u001b[0m\u001b[0;34m)\u001b[0m\u001b[0;34m\u001b[0m\u001b[0;34m\u001b[0m\u001b[0m\n\u001b[0;32m---> 94\u001b[0;31m                     \u001b[0mdf_feat\u001b[0m  \u001b[0;34m=\u001b[0m \u001b[0mread_sql\u001b[0m\u001b[0;34m(\u001b[0m\u001b[0;34mf\"select {feature_call}, event_no from features where event_no in {tuple(events)}\"\u001b[0m\u001b[0;34m,\u001b[0m \u001b[0mconn\u001b[0m\u001b[0;34m)\u001b[0m\u001b[0;34m\u001b[0m\u001b[0;34m\u001b[0m\u001b[0m\n\u001b[0m\u001b[1;32m     95\u001b[0m                     \u001b[0mprint\u001b[0m\u001b[0;34m(\u001b[0m\u001b[0;34m'Features read'\u001b[0m\u001b[0;34m)\u001b[0m\u001b[0;34m\u001b[0m\u001b[0;34m\u001b[0m\u001b[0m\n\u001b[1;32m     96\u001b[0m                     \u001b[0mdf_targ\u001b[0m  \u001b[0;34m=\u001b[0m \u001b[0mread_sql\u001b[0m\u001b[0;34m(\u001b[0m\u001b[0;34mf\"select {target_call} from truth where event_no in {tuple(events)}\"\u001b[0m\u001b[0;34m,\u001b[0m \u001b[0mconn\u001b[0m\u001b[0;34m)\u001b[0m\u001b[0;34m\u001b[0m\u001b[0;34m\u001b[0m\u001b[0m\n",
      "\u001b[0;32m~/anaconda3/lib/python3.8/site-packages/pandas/io/sql.py\u001b[0m in \u001b[0;36mread_sql\u001b[0;34m(sql, con, index_col, coerce_float, params, parse_dates, columns, chunksize)\u001b[0m\n\u001b[1;32m    481\u001b[0m \u001b[0;34m\u001b[0m\u001b[0m\n\u001b[1;32m    482\u001b[0m     \u001b[0;32mif\u001b[0m \u001b[0misinstance\u001b[0m\u001b[0;34m(\u001b[0m\u001b[0mpandas_sql\u001b[0m\u001b[0;34m,\u001b[0m \u001b[0mSQLiteDatabase\u001b[0m\u001b[0;34m)\u001b[0m\u001b[0;34m:\u001b[0m\u001b[0;34m\u001b[0m\u001b[0;34m\u001b[0m\u001b[0m\n\u001b[0;32m--> 483\u001b[0;31m         return pandas_sql.read_query(\n\u001b[0m\u001b[1;32m    484\u001b[0m             \u001b[0msql\u001b[0m\u001b[0;34m,\u001b[0m\u001b[0;34m\u001b[0m\u001b[0;34m\u001b[0m\u001b[0m\n\u001b[1;32m    485\u001b[0m             \u001b[0mindex_col\u001b[0m\u001b[0;34m=\u001b[0m\u001b[0mindex_col\u001b[0m\u001b[0;34m,\u001b[0m\u001b[0;34m\u001b[0m\u001b[0;34m\u001b[0m\u001b[0m\n",
      "\u001b[0;32m~/anaconda3/lib/python3.8/site-packages/pandas/io/sql.py\u001b[0m in \u001b[0;36mread_query\u001b[0;34m(self, sql, index_col, coerce_float, params, parse_dates, chunksize)\u001b[0m\n\u001b[1;32m   1738\u001b[0m             )\n\u001b[1;32m   1739\u001b[0m         \u001b[0;32melse\u001b[0m\u001b[0;34m:\u001b[0m\u001b[0;34m\u001b[0m\u001b[0;34m\u001b[0m\u001b[0m\n\u001b[0;32m-> 1740\u001b[0;31m             \u001b[0mdata\u001b[0m \u001b[0;34m=\u001b[0m \u001b[0mself\u001b[0m\u001b[0;34m.\u001b[0m\u001b[0m_fetchall_as_list\u001b[0m\u001b[0;34m(\u001b[0m\u001b[0mcursor\u001b[0m\u001b[0;34m)\u001b[0m\u001b[0;34m\u001b[0m\u001b[0;34m\u001b[0m\u001b[0m\n\u001b[0m\u001b[1;32m   1741\u001b[0m             \u001b[0mcursor\u001b[0m\u001b[0;34m.\u001b[0m\u001b[0mclose\u001b[0m\u001b[0;34m(\u001b[0m\u001b[0;34m)\u001b[0m\u001b[0;34m\u001b[0m\u001b[0;34m\u001b[0m\u001b[0m\n\u001b[1;32m   1742\u001b[0m \u001b[0;34m\u001b[0m\u001b[0m\n",
      "\u001b[0;32m~/anaconda3/lib/python3.8/site-packages/pandas/io/sql.py\u001b[0m in \u001b[0;36m_fetchall_as_list\u001b[0;34m(self, cur)\u001b[0m\n\u001b[1;32m   1751\u001b[0m \u001b[0;34m\u001b[0m\u001b[0m\n\u001b[1;32m   1752\u001b[0m     \u001b[0;32mdef\u001b[0m \u001b[0m_fetchall_as_list\u001b[0m\u001b[0;34m(\u001b[0m\u001b[0mself\u001b[0m\u001b[0;34m,\u001b[0m \u001b[0mcur\u001b[0m\u001b[0;34m)\u001b[0m\u001b[0;34m:\u001b[0m\u001b[0;34m\u001b[0m\u001b[0;34m\u001b[0m\u001b[0m\n\u001b[0;32m-> 1753\u001b[0;31m         \u001b[0mresult\u001b[0m \u001b[0;34m=\u001b[0m \u001b[0mcur\u001b[0m\u001b[0;34m.\u001b[0m\u001b[0mfetchall\u001b[0m\u001b[0;34m(\u001b[0m\u001b[0;34m)\u001b[0m\u001b[0;34m\u001b[0m\u001b[0;34m\u001b[0m\u001b[0m\n\u001b[0m\u001b[1;32m   1754\u001b[0m         \u001b[0;32mif\u001b[0m \u001b[0;32mnot\u001b[0m \u001b[0misinstance\u001b[0m\u001b[0;34m(\u001b[0m\u001b[0mresult\u001b[0m\u001b[0;34m,\u001b[0m \u001b[0mlist\u001b[0m\u001b[0;34m)\u001b[0m\u001b[0;34m:\u001b[0m\u001b[0;34m\u001b[0m\u001b[0;34m\u001b[0m\u001b[0m\n\u001b[1;32m   1755\u001b[0m             \u001b[0mresult\u001b[0m \u001b[0;34m=\u001b[0m \u001b[0mlist\u001b[0m\u001b[0;34m(\u001b[0m\u001b[0mresult\u001b[0m\u001b[0;34m)\u001b[0m\u001b[0;34m\u001b[0m\u001b[0;34m\u001b[0m\u001b[0m\n",
      "\u001b[0;31mKeyboardInterrupt\u001b[0m: "
     ]
    }
   ],
   "source": [
    "import dev.datawhere as dl\n",
    "reload(dl)\n",
    "graph_data=dl.graph_data\n",
    "dataset_train=graph_data(n_neighbors=30, restart=1, type='classic', n_steps=10)\n",
    "dataset_test=graph_data(n_neighbors=30, restart=False, type='classic', n_steps=10, traintest='test', i_test=0)\n",
    "epochs      = 20\n",
    "batch_size  = 512\n",
    "\n",
    "\n",
    "print('Loaded datasets')\n",
    "dataset_val   = dataset_test"
   ]
  },
  {
   "cell_type": "code",
   "execution_count": 40,
   "metadata": {},
   "outputs": [
    {
     "output_type": "execute_result",
     "data": {
      "text/plain": [
       "((TensorSpec(shape=(None, 8), dtype=tf.float64, name=None),\n",
       "  SparseTensorSpec(TensorShape([None, None]), tf.float64),\n",
       "  TensorSpec(shape=(None,), dtype=tf.int64, name=None)),\n",
       " TensorSpec(shape=(None, 4), dtype=tf.float64, name=None))"
      ]
     },
     "metadata": {},
     "execution_count": 40
    }
   ],
   "source": [
    "loader_train = DisjointLoader(dataset_train, epochs=10, batch_size=batch_size)\n",
    "loader_test = DisjointLoader(dataset_test, batch_size=batch_size, epochs=1)\n",
    "loader_train.tf_signature()"
   ]
  },
  {
   "cell_type": "code",
   "execution_count": 24,
   "metadata": {},
   "outputs": [
    {
     "output_type": "execute_result",
     "data": {
      "text/plain": [
       "100"
      ]
     },
     "metadata": {},
     "execution_count": 24
    }
   ],
   "source": []
  },
  {
   "cell_type": "code",
   "execution_count": 1,
   "metadata": {},
   "outputs": [],
   "source": [
    "a, b=[i for i in range(0,10)],[i for i in range(0,100,10)]"
   ]
  },
  {
   "cell_type": "code",
   "execution_count": 41,
   "metadata": {},
   "outputs": [],
   "source": [
    "def get_event_no(set_path='../db_files/dev_lvl7/sets.pkl'):\n",
    "    from pandas import read_pickle\n",
    "    print('Reading sets')\n",
    "    sets = read_pickle(set_path)\n",
    "    train_events = sets['train']\n",
    "    test_events = sets['test']\n",
    "    return train_events['event_no'].to_numpy(), test_events['event_no'].to_numpy()"
   ]
  },
  {
   "cell_type": "code",
   "execution_count": 42,
   "metadata": {},
   "outputs": [
    {
     "output_type": "stream",
     "name": "stdout",
     "text": [
      "Reading sets\n"
     ]
    }
   ],
   "source": [
    "train, test=get_event_no()"
   ]
  },
  {
   "cell_type": "code",
   "execution_count": 43,
   "metadata": {},
   "outputs": [
    {
     "output_type": "execute_result",
     "data": {
      "text/plain": [
       "array([ 27026074,  18018600,  21018872,  72065686,  78067166,  45042485,\n",
       "        87076071, 111097795,  33030421, 102091342,  57051566, 102090961,\n",
       "        45039916, 114101811, 108094746,  75066914,  96086439,  39035000,\n",
       "        33029734,  63054936,  21019107,  78067825,  75065451,  54048210,\n",
       "        75065432,  87077797, 117102626,  63055505,  27025475,  33031699,\n",
       "        27026971,  78067158,  18019217,  33031988, 111095421,  78068402,\n",
       "        72063679,  39033912,  99089150,  81071807,  90080429,  45041266,\n",
       "        75067580,  48044241,  57052019,  90080739,  48045198,  99086910,\n",
       "        96085286,  21018297,  24023933,  75065885,  42037297, 102088660,\n",
       "        33030227,  24021789, 111098255,  51045848,  54050324,  69059890,\n",
       "       102091166,  27024700,  75064776,  51047108,  66059895,  57052748,\n",
       "        45040519,  72065839,  66057843,  75064995,  90078976, 111096425,\n",
       "       102091206,  21019847,  75064531,  45039703, 105092892,  72065854,\n",
       "        93081904,  93080968,  42040178,  39033534,  78068963, 114100530,\n",
       "        39035311,  39037152,  75066772,  69061936,  78067600,  66060973,\n",
       "        66057786,  15015440,  33031910, 111099506,  30027797,  78069927,\n",
       "        69059251,  13190200,  81072664,  57052533])"
      ]
     },
     "metadata": {},
     "execution_count": 43
    }
   ],
   "source": [
    "test[:100]"
   ]
  },
  {
   "cell_type": "code",
   "execution_count": 49,
   "metadata": {},
   "outputs": [],
   "source": [
    "testid=[]\n",
    "for i in range(len(dataset_test)):\n",
    "    testid.append(int(dataset_test[i].y[3]))\n",
    "testid=np.array(testid)"
   ]
  },
  {
   "cell_type": "code",
   "execution_count": 53,
   "metadata": {},
   "outputs": [],
   "source": [
    "testid2=[]\n",
    "for i in range(len(dataset_test)):\n",
    "    testid2.append(int(dataset_test[i].x[-1][7]))\n",
    "testid2=np.array(testid2)\n",
    "# dataset_test[0].x[0][7]"
   ]
  },
  {
   "cell_type": "code",
   "execution_count": 54,
   "metadata": {},
   "outputs": [
    {
     "output_type": "execute_result",
     "data": {
      "text/plain": [
       "(array([ 13190200,  15015440,  18018600,  18019217,  21018297,  21018872,\n",
       "         21019107,  21019847,  24021789,  24023933,  27024700,  27025475,\n",
       "         27026074,  27026971,  30027797,  33029734,  33030227,  33030421,\n",
       "         33031699,  33031910,  33031988,  39033534,  39033912,  39035000,\n",
       "         39035311,  39037152,  42037297,  42040178,  45039703,  45039916,\n",
       "         45040519,  45041266,  45042485,  48044241,  48045198,  51045848,\n",
       "         51047108,  54048210,  54050324,  57051566,  57052019,  57052533,\n",
       "         57052748,  63054936,  63055505,  66057786,  66057843,  66059895,\n",
       "         66060973,  69059251,  69059890,  69061936,  72063679,  72065686,\n",
       "         72065839,  72065854,  75064531,  75064776,  75064995,  75065432,\n",
       "         75065451,  75065885,  75066772,  75066914,  75067580,  78067158,\n",
       "         78067166,  78067600,  78067825,  78068402,  78068963,  78069927,\n",
       "         81071807,  81072664,  87076071,  87077797,  90078976,  90080429,\n",
       "         90080739,  93080968,  93081904,  96085286,  96086439,  99086910,\n",
       "         99089150, 102088660, 102090961, 102091166, 102091206, 102091342,\n",
       "        105092892, 108094746, 111095421, 111096425, 111097795, 111098255,\n",
       "        111099506, 114100530, 114101811, 117102626]),\n",
       " array([ 13190200,  15015440,  18018600,  18019217,  21018297,  21018872,\n",
       "         21019107,  21019847,  24021789,  24023933,  27024700,  27025475,\n",
       "         27026074,  27026971,  30027797,  33029734,  33030227,  33030421,\n",
       "         33031699,  33031910,  33031988,  39033534,  39033912,  39035000,\n",
       "         39035311,  39037152,  42037297,  42040178,  45039703,  45039916,\n",
       "         45040519,  45041266,  45042485,  48044241,  48045198,  51045848,\n",
       "         51047108,  54048210,  54050324,  57051566,  57052019,  57052533,\n",
       "         57052748,  63054936,  63055505,  66057786,  66057843,  66059895,\n",
       "         66060973,  69059251,  69059890,  69061936,  72063679,  72065686,\n",
       "         72065839,  72065854,  75064531,  75064776,  75064995,  75065432,\n",
       "         75065451,  75065885,  75066772,  75066914,  75067580,  78067158,\n",
       "         78067166,  78067600,  78067825,  78068402,  78068963,  78069927,\n",
       "         81071807,  81072664,  87076071,  87077797,  90078976,  90080429,\n",
       "         90080739,  93080968,  93081904,  96085286,  96086439,  99086910,\n",
       "         99089150, 102088660, 102090961, 102091166, 102091206, 102091342,\n",
       "        105092892, 108094746, 111095421, 111096425, 111097795, 111098255,\n",
       "        111099506, 114100530, 114101811, 117102626]),\n",
       " array([ 13190200,  15015440,  18018600,  18019217,  21018297,  21018872,\n",
       "         21019107,  21019847,  24021789,  24023933,  27024700,  27025475,\n",
       "         27026074,  27026971,  30027797,  33029734,  33030227,  33030421,\n",
       "         33031699,  33031910,  33031988,  39033534,  39033912,  39035000,\n",
       "         39035311,  39037152,  42037297,  42040178,  45039703,  45039916,\n",
       "         45040519,  45041266,  45042485,  48044241,  48045198,  51045848,\n",
       "         51047108,  54048210,  54050324,  57051566,  57052019,  57052533,\n",
       "         57052748,  63054936,  63055505,  66057786,  66057843,  66059895,\n",
       "         66060973,  69059251,  69059890,  69061936,  72063679,  72065686,\n",
       "         72065839,  72065854,  75064531,  75064776,  75064995,  75065432,\n",
       "         75065451,  75065885,  75066772,  75066914,  75067580,  78067158,\n",
       "         78067166,  78067600,  78067825,  78068402,  78068963,  78069927,\n",
       "         81071807,  81072664,  87076071,  87077797,  90078976,  90080429,\n",
       "         90080739,  93080968,  93081904,  96085286,  96086439,  99086910,\n",
       "         99089150, 102088660, 102090961, 102091166, 102091206, 102091342,\n",
       "        105092892, 108094746, 111095421, 111096425, 111097795, 111098255,\n",
       "        111099506, 114100530, 114101811, 117102626]))"
      ]
     },
     "metadata": {},
     "execution_count": 54
    }
   ],
   "source": [
    "import numpy as np\n",
    "testid, testid2, np.sort(test[:100])"
   ]
  },
  {
   "cell_type": "code",
   "execution_count": null,
   "metadata": {},
   "outputs": [],
   "source": []
  }
 ]
}