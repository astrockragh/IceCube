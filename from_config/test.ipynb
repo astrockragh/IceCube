{
 "metadata": {
  "language_info": {
   "codemirror_mode": {
    "name": "ipython",
    "version": 3
   },
   "file_extension": ".py",
   "mimetype": "text/x-python",
   "name": "python",
   "nbconvert_exporter": "python",
   "pygments_lexer": "ipython3",
   "version": "3.8.5"
  },
  "orig_nbformat": 2,
  "kernelspec": {
   "name": "python385jvsc74a57bd0ee7ae0cce42568ffbe792829a147e8b26e32fc5929320da4cac6b0f8a68675f6",
   "display_name": "Python 3.8.5 64-bit ('base': conda)"
  },
  "metadata": {
   "interpreter": {
    "hash": "ee7ae0cce42568ffbe792829a147e8b26e32fc5929320da4cac6b0f8a68675f6"
   }
  }
 },
 "nbformat": 4,
 "nbformat_minor": 2,
 "cells": [
  {
   "cell_type": "code",
   "execution_count": 20,
   "metadata": {},
   "outputs": [],
   "source": [
    "from spektral.data import DisjointLoader\n",
    "from importlib import reload"
   ]
  },
  {
   "cell_type": "code",
   "execution_count": 21,
   "metadata": {},
   "outputs": [
    {
     "output_type": "stream",
     "name": "stdout",
     "text": [
      "Not notebook\n",
      "Loading train data 0 to memory\n",
      "Loading test data to memory\n",
      "Loaded datasets\n"
     ]
    }
   ],
   "source": [
    "import dev.testtraindata as dl\n",
    "reload(dl)\n",
    "graph_data=dl.graph_data\n",
    "dataset_train=graph_data(n_neighbors=30, restart=False, type='classic', n_steps=10)\n",
    "dataset_test=graph_data(n_neighbors=30, restart=False, type='classic', n_steps=10, traintest='test')\n",
    "epochs      = 20\n",
    "batch_size  = 512\n",
    "\n",
    "\n",
    "print('Loaded datasets')\n",
    "dataset_val   = dataset_test"
   ]
  },
  {
   "cell_type": "code",
   "execution_count": 13,
   "metadata": {},
   "outputs": [],
   "source": [
    "loader_train = DisjointLoader(dataset_train, epochs=10, batch_size=batch_size)\n",
    "loader_test = DisjointLoader(dataset_test, batch_size=batch_size, epochs=1)\n",
    "# loader_train.tf_signature()"
   ]
  },
  {
   "cell_type": "code",
   "execution_count": 17,
   "metadata": {},
   "outputs": [
    {
     "output_type": "execute_result",
     "data": {
      "text/plain": [
       "(Graph(n_nodes=75, n_node_features=7, n_edge_features=None, n_labels=4),\n",
       " Graph(n_nodes=19, n_node_features=7, n_edge_features=None, n_labels=4))"
      ]
     },
     "metadata": {},
     "execution_count": 17
    }
   ],
   "source": [
    "dataset_test[0],dataset_train[0]"
   ]
  }
 ]
}