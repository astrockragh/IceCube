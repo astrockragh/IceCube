{
 "cells": [
  {
   "cell_type": "code",
   "execution_count": 13,
   "metadata": {
    "ExecuteTime": {
     "end_time": "2021-05-10T22:58:16.207482Z",
     "start_time": "2021-05-10T22:58:10.384212Z"
    }
   },
   "outputs": [
    {
     "output_type": "stream",
     "name": "stdout",
     "text": [
      "Notebook\n",
      "GPU detected\n",
      "\u001b[34m\u001b[1mwandb\u001b[0m: Appending key for api.wandb.ai to your netrc file: /home/htd809/.netrc\n"
     ]
    }
   ],
   "source": [
    "import os, sys, argparse, importlib, time, inspect\n",
    "import numpy as np\n",
    "import matplotlib.pyplot as plt\n",
    "import os.path as osp\n",
    "if hasattr(__builtins__,'__IPYTHON__'):\n",
    "    print('Notebook')\n",
    "    from tqdm.notebook import tqdm\n",
    "else:\n",
    "    print('Not notebook')\n",
    "    from tqdm import tqdm\n",
    "from tensorflow.keras import backend as K\n",
    "os.environ['TF_CPP_MIN_LOG_LEVEL'] = '2' \n",
    "import tensorflow as tf\n",
    "import tensorflow_probability as tfp\n",
    "\n",
    "gpu_devices = tf.config.list_physical_devices('GPU') \n",
    "if len(gpu_devices) > 0:\n",
    "    print(\"GPU detected\")\n",
    "    tf.config.experimental.set_memory_growth(gpu_devices[0], True)\n",
    "    tf.config.experimental.set_memory_growth(gpu_devices[1], True)\n",
    "else:\n",
    "    print('No GPU detected')\n",
    "\n",
    "from tensorflow.keras.optimizers import Adam\n",
    "from tensorflow.keras.losses import MeanSquaredError\n",
    "from tensorflow.keras.models import load_model, Model\n",
    "import spektral\n",
    "from sklearn.preprocessing import normalize\n",
    "from spektral.data import DisjointLoader, BatchLoader, SingleLoader\n",
    "from importlib import reload\n",
    "# import winsound\n",
    "import wandb\n",
    "import datetime as dt\n",
    "wandblog=1\n",
    "if wandblog:\n",
    "    !wandb login b5b917a9390932e56fccfcbff6f528ccd85c44bf\n",
    "run_counter=0"
   ]
  },
  {
   "cell_type": "code",
   "execution_count": 14,
   "metadata": {
    "ExecuteTime": {
     "end_time": "2021-05-10T22:58:16.223409Z",
     "start_time": "2021-05-10T22:58:16.208447Z"
    }
   },
   "outputs": [
    {
     "output_type": "execute_result",
     "data": {
      "text/plain": [
       "('2.4.1', '1.0.6')"
      ]
     },
     "metadata": {},
     "execution_count": 14
    }
   ],
   "source": [
    "tf.__version__, spektral.__version__"
   ]
  },
  {
   "cell_type": "code",
   "execution_count": 15,
   "metadata": {
    "ExecuteTime": {
     "end_time": "2021-05-10T22:58:16.239398Z",
     "start_time": "2021-05-10T22:58:16.225404Z"
    }
   },
   "outputs": [],
   "source": [
    "################################################\n",
    "# Setup Deafult Variables                       # \n",
    "################################################\n",
    "learning_rate = 1e-4\n",
    "batch_size    = 1024\n",
    "epochs        = 10\n",
    "scenario    = \"2d->3d\"\n",
    "patience = 2\n",
    "\n",
    "################################################\n",
    "# Setup Hyperparameters                        # \n",
    "################################################\n",
    "loss_method   = \"abs_vonMises_angle2\""
   ]
  },
  {
   "cell_type": "code",
   "execution_count": 16,
   "metadata": {},
   "outputs": [
    {
     "output_type": "stream",
     "name": "stdout",
     "text": [
      "WARNING:tensorflow:No training configuration found in save file, so the model was *not* compiled. Compile it manually.\n"
     ]
    }
   ],
   "source": [
    "with tf.device('/gpu:0'):\n",
    "    save_options = tf.saved_model.SaveOptions(experimental_io_device='/job:localhost')\n",
    "    model=tf.keras.models.load_model(\"trained_models/IceCube_neutrino/KHop_base_max_3fsagz9i\", options=save_options)\n",
    "model.compile()"
   ]
  },
  {
   "cell_type": "code",
   "execution_count": 17,
   "metadata": {},
   "outputs": [],
   "source": [
    "def get_metrics(metric_name):\n",
    "    # Returns a list of functions\n",
    "    import dev.metrics as metrics\n",
    "    metrics=getattr(metrics, metric_name)\n",
    "    return metrics\n",
    "\n",
    "\n",
    "def get_loss_func(name):\n",
    "    # Return loss func from the loss functions file given a function name\n",
    "    import dev.loss_funcs as loss_func_module\n",
    "    loss_func = getattr(loss_func_module, name)\n",
    "    return loss_func\n",
    "\n",
    "\n",
    "def get_performance(name):\n",
    "    # Return performance plotter from the eval_model file given a name\n",
    "    import dev.eval_model as evals\n",
    "    performance_plot = getattr(evals, name)\n",
    "    return performance_plot \n"
   ]
  },
  {
   "cell_type": "code",
   "execution_count": 18,
   "metadata": {
    "ExecuteTime": {
     "end_time": "2021-05-10T22:58:59.832256Z",
     "start_time": "2021-05-10T22:58:37.837696Z"
    }
   },
   "outputs": [
    {
     "output_type": "stream",
     "name": "stdout",
     "text": [
      "Not notebook\n",
      "Loading train data 0 to memory\n",
      "Loading mixed data to memory\n"
     ]
    }
   ],
   "source": [
    "################################################\n",
    "# Load data                      # \n",
    "################################################\n",
    "data_params={ \"n_steps\": 10,\n",
    "        \"graph_construction\":       \"classic\",\n",
    "        \"muon\":             False,\n",
    "        \"n_neighbors\":       31,\n",
    "        \"restart\":   False,\n",
    "        \"transform_path\": \"../db_files/dev_lvl7/transformers.pkl\",\n",
    "        \"db_path\": \"../db_files/dev_lvl7/dev_lvl7_mu_nu_e_classification_v003.db\",\n",
    "        \"features\":   [\"dom_x\", \"dom_y\", \"dom_z\", \"dom_time\", \"charge_log10\", \"width\", \"rqe\"],\n",
    "        \"targets\":    [\"energy_log10\", \"zenith\",\"azimuth\",\"event_no\"],\n",
    "        \"database\": \"submit\"\n",
    "    }\n",
    "import dev.testtraindata as dl\n",
    "reload(dl)\n",
    "graph_data=dl.graph_data\n",
    "dataset_train=graph_data(**data_params, traintest='train')\n",
    "dataset_test=graph_data(**data_params, traintest='mix')\n",
    "\n",
    "loader_train = DisjointLoader(dataset_train, epochs=epochs, batch_size=batch_size) # the different loaders work very very differently, beware\n",
    "loader_test = DisjointLoader(dataset_test, batch_size=batch_size, epochs=1)"
   ]
  },
  {
   "cell_type": "code",
   "execution_count": 19,
   "metadata": {
    "ExecuteTime": {
     "end_time": "2021-04-23T15:08:23.981021Z",
     "start_time": "2021-04-23T15:08:23.935144Z"
    }
   },
   "outputs": [],
   "source": [
    "loss_func             = get_loss_func(loss_method)\n",
    "metrics               = get_metrics('energy_angle_zeniazi')\n",
    "performance_plot      = get_performance(\"performance_vM2D\")\n",
    "import dev.lr_schedules as lr_module\n",
    "\n",
    "lr_generator = getattr(lr_module, 'classic')\n",
    "\n",
    "lr_schedule  = lr_generator(1e-4, 2, 0.9)()\n"
   ]
  },
  {
   "cell_type": "code",
   "execution_count": 20,
   "metadata": {
    "ExecuteTime": {
     "end_time": "2021-04-23T15:08:23.996978Z",
     "start_time": "2021-04-23T15:08:23.985012Z"
    }
   },
   "outputs": [
    {
     "output_type": "display_data",
     "data": {
      "text/plain": "<IPython.core.display.HTML object>",
      "text/html": "Finishing last run (ID:9empbaim) before initializing another..."
     },
     "metadata": {}
    },
    {
     "output_type": "display_data",
     "data": {
      "text/plain": "<IPython.core.display.HTML object>",
      "text/html": "<br/>Waiting for W&B process to finish, PID 20226<br/>Program ended successfully."
     },
     "metadata": {}
    },
    {
     "output_type": "display_data",
     "data": {
      "text/plain": "VBox(children=(Label(value=' 0.02MB of 0.02MB uploaded (0.00MB deduped)\\r'), FloatProgress(value=1.0, max=1.0)…",
      "application/vnd.jupyter.widget-view+json": {
       "version_major": 2,
       "version_minor": 0,
       "model_id": "c66add2226034eefa3130318a1ac406d"
      }
     },
     "metadata": {}
    },
    {
     "output_type": "display_data",
     "data": {
      "text/plain": "<IPython.core.display.HTML object>",
      "text/html": "Find user logs for this run at: <code>/home/htd809/hep/work/IceCube/from_config/wandb/run-20210603_181615-9empbaim/logs/debug.log</code>"
     },
     "metadata": {}
    },
    {
     "output_type": "display_data",
     "data": {
      "text/plain": "<IPython.core.display.HTML object>",
      "text/html": "Find internal logs for this run at: <code>/home/htd809/hep/work/IceCube/from_config/wandb/run-20210603_181615-9empbaim/logs/debug-internal.log</code>"
     },
     "metadata": {}
    },
    {
     "output_type": "display_data",
     "data": {
      "text/plain": "<IPython.core.display.HTML object>",
      "text/html": "Synced 6 W&B file(s), 0 media file(s), 0 artifact file(s) and 1 other file(s)"
     },
     "metadata": {}
    },
    {
     "output_type": "display_data",
     "data": {
      "text/plain": "<IPython.core.display.HTML object>",
      "text/html": "\n                    <br/>Synced <strong style=\"color:#cdcd00\">comfy-bush-246</strong>: <a href=\"https://wandb.ai/chri862z/IceCube_neutrino/runs/9empbaim\" target=\"_blank\">https://wandb.ai/chri862z/IceCube_neutrino/runs/9empbaim</a><br/>\n                "
     },
     "metadata": {}
    },
    {
     "output_type": "display_data",
     "data": {
      "text/plain": "<IPython.core.display.HTML object>",
      "text/html": "...Successfully finished last run (ID:9empbaim). Initializing new run:<br/><br/>"
     },
     "metadata": {}
    },
    {
     "output_type": "stream",
     "name": "stderr",
     "text": [
      "\u001b[34m\u001b[1mwandb\u001b[0m: wandb version 0.10.31 is available!  To upgrade, please run:\n\u001b[34m\u001b[1mwandb\u001b[0m:  $ pip install wandb --upgrade\n"
     ]
    },
    {
     "output_type": "display_data",
     "data": {
      "text/plain": "<IPython.core.display.HTML object>",
      "text/html": "\n                Tracking run with wandb version 0.10.23<br/>\n                Syncing run <strong style=\"color:#cdcd00\">lively-jazz-247</strong> to <a href=\"https://wandb.ai\" target=\"_blank\">Weights & Biases</a> <a href=\"https://docs.wandb.com/integrations/jupyter.html\" target=\"_blank\">(Documentation)</a>.<br/>\n                Project page: <a href=\"https://wandb.ai/chri862z/IceCube_neutrino\" target=\"_blank\">https://wandb.ai/chri862z/IceCube_neutrino</a><br/>\n                Run page: <a href=\"https://wandb.ai/chri862z/IceCube_neutrino/runs/1fav6a82\" target=\"_blank\">https://wandb.ai/chri862z/IceCube_neutrino/runs/1fav6a82</a><br/>\n                Run data is saved locally in <code>/home/htd809/hep/work/IceCube/from_config/wandb/run-20210603_181734-1fav6a82</code><br/><br/>\n            "
     },
     "metadata": {}
    }
   ],
   "source": [
    "if wandblog:\n",
    "    import wandb\n",
    "    run = wandb.init(project = 'IceCube_neutrino', entity = \"chri862z\", group='new_loss', reinit=True, settings=wandb.Settings(start_method=\"fork\"))\n",
    "    wandb.run.name = scenario+'_'+str(wandb.run.id)"
   ]
  },
  {
   "cell_type": "code",
   "execution_count": 21,
   "metadata": {
    "ExecuteTime": {
     "end_time": "2021-04-23T15:09:50.411681Z",
     "start_time": "2021-04-23T15:09:50.363808Z"
    }
   },
   "outputs": [],
   "source": [
    "# Define training function\n",
    "@tf.function(input_signature = loader_test.tf_signature(), experimental_relax_shapes = True)\n",
    "def train_step(inputs, targets):\n",
    "    with tf.GradientTape() as tape:\n",
    "        predictions = model(inputs, training = True)\n",
    "        targets     = tf.cast(targets, tf.float32)\n",
    "        loss        = loss_func(predictions, targets)\n",
    "        loss       += sum(model.losses)\n",
    "\n",
    "    gradients = tape.gradient(loss, model.trainable_variables)\n",
    "    opt.apply_gradients(zip(gradients, model.trainable_variables))\n",
    "    return loss\n",
    "\n",
    "@tf.function(input_signature = loader_test.tf_signature(), experimental_relax_shapes = True)\n",
    "def test_step(inputs, targets):\n",
    "    predictions = model(inputs, training = False)\n",
    "    targets     = tf.cast(targets, tf.float32) \n",
    "    out         = loss_func(predictions, targets)\n",
    "\n",
    "    return predictions, targets, out\n",
    "\n",
    "\n",
    "def validation(loader):\n",
    "    loss = 0\n",
    "    prediction_list, target_list = [], []\n",
    "    for batch in loader:\n",
    "        inputs, targets = batch\n",
    "        predictions, targets, out = test_step(inputs, targets)\n",
    "        loss           += out\n",
    "        \n",
    "        prediction_list.append(predictions)\n",
    "        target_list.append(targets)\n",
    "    \n",
    "    y_reco  = tf.concat(prediction_list, axis = 0)\n",
    "    y_true  = tf.concat(target_list, axis = 0)\n",
    "    y_true  = tf.cast(y_true, tf.float32)\n",
    "\n",
    "    loss, loss_from = loss_func(y_reco, y_true, re=True)\n",
    "    \n",
    "    energy, e_old, alpha, zeni, azi= metrics(y_reco, y_true)\n",
    "    \n",
    "    return loss, loss_from, [energy, e_old, alpha, zeni, azi]"
   ]
  },
  {
   "cell_type": "code",
   "execution_count": null,
   "metadata": {
    "ExecuteTime": {
     "end_time": "2021-04-23T15:09:51.389084Z",
     "start_time": "2021-04-23T15:09:51.118807Z"
    },
    "scrolled": false
   },
   "outputs": [],
   "source": [
    "n_steps=10\n",
    "model_path='trained_models/IceCube_neutrino/'+wandb.run.name\n",
    "save_path=model_path\n",
    "\n",
    "loader_train = DisjointLoader(dataset_train, epochs=epochs, batch_size=batch_size)\n",
    "\n",
    "if not osp.isdir(save_path):\n",
    "    os.makedirs(save_path)\n",
    "    print('New folder for saving run made')\n",
    "\n",
    "    # Learning rate and optimizer\n",
    "    learning_rate            = next(lr_schedule)\n",
    "    opt           = Adam(learning_rate)\n",
    "steps_per_epoch=loader_train.steps_per_epoch\n",
    "val_epoch=1\n",
    "tot_time=0\n",
    "current_batch = 0\n",
    "current_epoch = 1\n",
    "loss          = 0\n",
    "lowest_loss   = np.inf\n",
    "early_stop    = 1\n",
    "early_stop_counter    = 0\n",
    "pbar          = tqdm(total = steps_per_epoch*n_steps, position=0, leave = True)\n",
    "start_time    = time.time()\n",
    "summarylist=[]\n",
    "for j in range(epochs):\n",
    "    for i in range(n_steps):\n",
    "        # if n_steps!=10:\n",
    "        #     i_t=np.random.randint(0,10)\n",
    "        # else:\n",
    "        #     i_t=i\n",
    "        start=time.time()\n",
    "        dataset_train=graph_data(**data_params, traintest='train', i_train=i)\n",
    "        stop=time.time()\n",
    "        print(f'Loaded dataset in {np.round(stop-start, 2)} s')\n",
    "        loader_train = DisjointLoader(dataset_train, epochs=1, batch_size=batch_size)\n",
    "        loader_train=loader_train.load().prefetch(1)\n",
    "        for batch in loader_train:\n",
    "            inputs, targets = batch\n",
    "            out             = train_step(inputs, targets)\n",
    "            loss           += out\n",
    "            if current_epoch==1 and current_batch==0:\n",
    "                model.summary()\n",
    "                if wandblog:\n",
    "                    summary=model.summary(print_fn=summarylist.append)\n",
    "                    table=wandb.Table(columns=[\"Layers\"])\n",
    "                    for s in summarylist:\n",
    "                        table.add_data(s)\n",
    "                    wandb.log({'Model summary': table})\n",
    "            current_batch  += 1\n",
    "            pbar.update(1)\n",
    "            pbar.set_description(f\"Epoch {current_epoch} / {epochs}; Avg_loss: {loss / current_batch:.6f}\")\n",
    "            \n",
    "            if current_batch == steps_per_epoch*n_steps:\n",
    "            # if current_batch == :\n",
    "                t=time.time() - start_time\n",
    "                tot_time+=t\n",
    "                print(f\"Epoch {current_epoch} of {epochs} done in {t:.2f} seconds using learning rate: {learning_rate:.2E}\")\n",
    "                print(f\"Avg loss of train: {loss / (steps_per_epoch*n_steps):.6f}\")\n",
    "\n",
    "                loader_val    = DisjointLoader(dataset_val, epochs = 1,      batch_size = batch_size)\n",
    "                val_loss, val_loss_from, val_metric = validation(loader_val)\n",
    "                if wandblog:\n",
    "                    wandb.log({\"Train Loss\":      loss / (steps_per_epoch*n_steps),\n",
    "                            \"Validation Loss\": val_loss, \n",
    "                            \"w(log(E))\":   val_metric[1],\n",
    "                            \"Energy bias\":   val_metric[0][1],\n",
    "                            \"Energy sig-1\":   val_metric[0][0],\n",
    "                            \"Energy sig+1\":   val_metric[0][2],\n",
    "                            \"Solid angle 68th\":    val_metric[2][3],\n",
    "                            \"Angle bias\":   val_metric[2][1],\n",
    "                            \"Angle sig-1\":   val_metric[2][0],\n",
    "                            \"Angle sig+1\":   val_metric[2][2],\n",
    "                            \"zenith 68th\":    val_metric[3][3],\n",
    "                            \"zenith bias\":   val_metric[3][1],\n",
    "                            \"zenith sig-1\":   val_metric[3][0],\n",
    "                            \"zenith sig+1\":   val_metric[3][2],\n",
    "                            \"azimuth 68th\":    val_metric[4][3],\n",
    "                            \"azimuth bias\":   val_metric[4][1],\n",
    "                            \"azimuth sig-1\":   val_metric[4][0],\n",
    "                            \"azimuth sig+1\":   val_metric[4][2],\n",
    "                            \"Learning rate\":   learning_rate})\n",
    "                print(\"\\n\")\n",
    "                if construct_dict['run_params']['print_metric']=='base':\n",
    "                    print(f\"Avg loss of validation: {val_loss:.6f}\")\n",
    "                    print(f\"Loss from:  Energy: {val_loss_from[0]:.6f} \\t Angle: {val_loss_from[1]:.6f} \")\n",
    "                    print(f\"Energy: bias = {val_metric[0][1]:.6f} sig_range = {val_metric[0][0]:.6f}<->{val_metric[0][2]:.6f}, old metric {val_metric[1]:.6f}\\\n",
    "                        \\n Angle: bias = {val_metric[2][1]:.6f} sig_range = {val_metric[2][0]:.6f}<->{val_metric[2][2]:.6f}, old metric {val_metric[2][3]:.6f}\")\n",
    "\n",
    "                if construct_dict['run_params']['print_metric']=='zeniazi':                    \n",
    "                    print(f\"Avg loss of validation: {val_loss:.6f}\")\n",
    "                    print(f\"Loss from:  Energy: {val_loss_from[0]:.6f} \\t Zenith: {val_loss_from[1]:.6f} \\t Azimuth {val_loss_from[2]:.6f}\")\n",
    "                    print(f\"Energy: bias = {val_metric[0][1]:.6f} sig_range = {val_metric[0][0]:.6f}<->{val_metric[0][2]:.6f}, old metric {val_metric[1]:.6f}\\\n",
    "                        \\n Angle: bias = {val_metric[2][1]:.6f} sig_range = {val_metric[2][0]:.6f}<->{val_metric[2][2]:.6f}, old metric {val_metric[2][3]:.6f}\\\n",
    "                        \\n Zenith: bias = {val_metric[3][1]:.6f} sig_range = {val_metric[3][0]:.6f}<->{val_metric[3][2]:.6f}, old metric {val_metric[3][3]:.6f}\\\n",
    "                        \\n Azimuth: bias = {val_metric[4][1]:.6f} sig_range = {val_metric[4][0]:.6f}<->{val_metric[4][2]:.6f}, old metric {val_metric[4][3]:.6f}\")\n",
    "\n",
    "                if construct_dict['run_params']['print_metric']=='zeniaziangle':\n",
    "                    print(f\"Avg loss of validation: {val_loss:.6f}\")\n",
    "                    print(f\"Loss from:  Energy: {val_loss_from[0]:.6f} \\t Zenith: {val_loss_from[1]:.6f} \\t Azimuth {val_loss_from[2]:.6f}, \\t Angle {val_loss_from[3]:.6f}\")\n",
    "                    print(f\"Energy: bias = {val_metric[0][1]:.6f} sig_range = {val_metric[0][0]:.6f}<->{val_metric[0][2]:.6f}, old metric {val_metric[1]:.6f}\\\n",
    "                        \\n Angle: bias = {val_metric[2][1]:.6f} sig_range = {val_metric[2][0]:.6f}<->{val_metric[2][2]:.6f}, old metric {val_metric[2][3]:.6f}\\\n",
    "                        \\n Zenith: bias = {val_metric[3][1]:.6f} sig_range = {val_metric[3][0]:.6f}<->{val_metric[3][2]:.6f}, old metric {val_metric[3][3]:.6f}\\\n",
    "                        \\n Azimuth: bias = {val_metric[4][1]:.6f} sig_range = {val_metric[4][0]:.6f}<->{val_metric[4][2]:.6f}, old metric {val_metric[4][3]:.6f}\")\n",
    "\n",
    "                if val_loss < lowest_loss:\n",
    "                    early_stop_counter = 0\n",
    "                    lowest_loss        = val_loss\n",
    "                else:\n",
    "                    early_stop_counter += 1\n",
    "                print(f'Early stop counter: {early_stop_counter}/{patience}, lowest val loss was {lowest_loss:.6f}')\n",
    "                if early_stop and (early_stop_counter >= patience):\n",
    "                    model.save(save_path)\n",
    "                    print(f\"Stopped training. No improvement was seen in {patience} epochs\")\n",
    "\n",
    "                if current_epoch != epochs:\n",
    "                    pbar          = tqdm(total = steps_per_epoch*n_steps, position=0, leave = True)\n",
    "\n",
    "                learning_rate = next(lr_schedule)\n",
    "                opt.learning_rate.assign(learning_rate)\n",
    "\n",
    "                time_avg=tot_time/current_epoch\n",
    "                if current_epoch % val_epoch == 0:\n",
    "                    model.save(save_path)\n",
    "                    print(\"Model saved\")\n",
    "                    if wandblog:\n",
    "                        loader_test = DisjointLoader(dataset_test, batch_size=batch_size, epochs=1)\n",
    "                        fig, _ = performance_plot(loader_test, test_step, metrics, bins=20, save=True, save_path=save_path)\n",
    "                        title=\"performanceplot_\"+str(current_epoch)\n",
    "                        wandb.log({title: [wandb.Image(fig, caption=title)]})\n",
    "            \n",
    "                loss            = 0\n",
    "                start_time      = time.time()\n",
    "                current_epoch  += 1\n",
    "                current_batch   = 0"
   ]
  },
  {
   "cell_type": "code",
   "execution_count": null,
   "metadata": {
    "ExecuteTime": {
     "end_time": "2021-03-09T20:20:59.345198Z",
     "start_time": "2021-03-09T20:20:56.693534Z"
    }
   },
   "outputs": [],
   "source": [
    "# fig, ax = test_angle(loader_test)\n",
    "# if wandblog:\n",
    "#     fig.savefig(f\"model_tests/{scenario}_test.pdf\")"
   ]
  },
  {
   "cell_type": "code",
   "execution_count": null,
   "metadata": {},
   "outputs": [],
   "source": []
  }
 ],
 "metadata": {
  "hide_input": false,
  "kernelspec": {
   "display_name": "Python 2",
   "language": "python",
   "name": "python2"
  }
 },
 "nbformat": 4,
 "nbformat_minor": 4
}