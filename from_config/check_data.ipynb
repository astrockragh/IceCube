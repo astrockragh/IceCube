{
 "cells": [
  {
   "cell_type": "code",
   "execution_count": 69,
   "metadata": {
    "ExecuteTime": {
     "end_time": "2021-05-26T15:34:41.010891Z",
     "start_time": "2021-05-26T15:34:40.984960Z"
    }
   },
   "outputs": [
    {
     "name": "stdout",
     "output_type": "stream",
     "text": [
      "Notebook\n"
     ]
    }
   ],
   "source": [
    "import numpy as np\n",
    "import os, sqlite3, pickle, sys, gzip, shutil\n",
    "if hasattr(__builtins__,'__IPYTHON__'):\n",
    "    print('Notebook')\n",
    "    from tqdm.notebook import tqdm\n",
    "else:\n",
    "    print('Not notebook')\n",
    "    from tqdm import tqdm\n",
    "import os.path as osp\n",
    "\n",
    "from pandas import read_sql, read_pickle, concat, read_csv, DataFrame\n",
    "from sklearn.preprocessing import normalize, RobustScaler\n",
    "from sklearn.neighbors import kneighbors_graph as knn\n",
    "import matplotlib.pyplot as plt\n",
    "\n",
    "os.environ['TF_CPP_MIN_LOG_LEVEL'] = '2' \n",
    "from spektral.data import Dataset, Graph\n",
    "from scipy.sparse import csr_matrix\n",
    "\n",
    "n_steps=50\n",
    "features=[\"dom_x\", \"dom_y\", \"dom_z\", \"dom_time\", \"charge_log10\", \"width\", \"rqe\"]\n",
    "targets= [\"energy_log10\", \"zenith\",\"azimuth\", \"event_no\"]\n",
    "transform_path='../db_files/dev_lvl7/transformers.pkl'\n",
    "db_path= '../db_files/dev_lvl7/dev_lvl7_mu_nu_e_classification_v003.db'\n",
    "set_path='../db_files/dev_lvl7/sets.pkl'\n",
    "n_neighbors = 30\n",
    "traintest='train'\n",
    "i_train=0\n",
    "i_test=0\n",
    "\n",
    "def get_event_no():\n",
    "    print('Reading sets')\n",
    "    sets = read_pickle(set_path)\n",
    "    train_events = sets['train']\n",
    "    test_events = sets['test']\n",
    "    return train_events['event_no'].to_numpy(), test_events['event_no'].to_numpy()"
   ]
  },
  {
   "cell_type": "code",
   "execution_count": 70,
   "metadata": {
    "ExecuteTime": {
     "end_time": "2021-05-26T15:53:49.439043Z",
     "start_time": "2021-05-26T15:37:30.013763Z"
    }
   },
   "outputs": [
    {
     "name": "stdout",
     "output_type": "stream",
     "text": [
      "Connecting to db-file\n",
      "Reading files\n",
      "Reading sets\n",
      "Saving test/train IDs\n",
      "Starting loop\n",
      "[0, 165837, 331674, 497511, 663348, 829184, 995020, 1160856, 1326692, 1492528, 3049864, 3215700, 3381536, 3547372, 3713208, 3879044, 4044880, 4210716, 4376552, 4542388, 6101874, 6267710, 6433546, 6599382, 6765218, 6931054, 7096890, 7262726, 7428562, 7594398, 9113884, 9279720, 9445556, 9611392, 9777228, 9943064, 10108900, 10274736, 10440572, 10606408, 10772244, 10938080, 12022539, 12188375, 12354211, 12520047, 12685883, 12851719, 13017555, 13183391] [165836, 331673, 497510, 663347, 829183, 995019, 1160855, 1326691, 1492527, 3049863, 3215699, 3381535, 3547371, 3713207, 3879043, 4044879, 4210715, 4376551, 4542387, 6101873, 6267709, 6433545, 6599381, 6765217, 6931053, 7096889, 7262725, 7428561, 7594397, 9113883, 9279719, 9445555, 9611391, 9777227, 9943063, 10108899, 10274735, 10440571, 10606407, 10772243, 10938079, 12022538, 12188374, 12354210, 12520046, 12685882, 12851718, 13017554, 13183390, 117104763]\n",
      "Events read\n",
      "Features read\n",
      "Targets read, transforming\n",
      "Splitting data to events\n",
      "     dom_x    dom_y    dom_z  dom_time  charge_log10  width   rqe\n",
      "0  0.07941 -0.24824 -0.31809  0.228464      0.166667    1.0 -0.35\n",
      "1  0.03125 -0.07293 -0.35537 -0.503745      0.000000    0.0  0.00\n",
      "2  0.03125 -0.07293 -0.36939 -0.415730      1.000000    0.0 -0.35\n",
      "3  0.03125 -0.07293 -0.37640 -0.406367      1.000000    0.0  0.00\n",
      "4  0.05720 -0.10552 -0.28756  1.425094      0.083333    1.0  0.00\n",
      "   energy_log10    zenith   azimuth  event_no\n",
      "0      0.526180  2.654448  0.190388         0\n",
      "1      0.421948  2.676098  1.044445         1\n",
      "2      0.650951  2.769452  3.474142         2\n",
      "3      0.474153  1.986612  3.843793         3\n",
      "4      0.620465  2.613257  4.754485         4\n"
     ]
    },
    {
     "data": {
      "application/vnd.jupyter.widget-view+json": {
       "model_id": "482f6d438f2c4d99a85f432fabebe060",
       "version_major": 2,
       "version_minor": 0
      },
      "text/plain": [
       "HBox(children=(HTML(value=''), FloatProgress(value=0.0, max=165837.0), HTML(value='')))"
      ]
     },
     "metadata": {},
     "output_type": "display_data"
    },
    {
     "name": "stdout",
     "output_type": "stream",
     "text": [
      "\n",
      "List->array\n",
      "Events read\n",
      "Features read\n",
      "Targets read, transforming\n",
      "Splitting data to events\n",
      "     dom_x    dom_y    dom_z  dom_time  charge_log10  width   rqe\n",
      "0  0.00171 -0.15063 -0.43889 -0.529963      0.166667    0.0 -0.35\n",
      "1  0.00171 -0.15063 -0.45591 -0.430712      0.583333    0.0 -0.35\n",
      "2  0.03125 -0.07293 -0.34836  2.157303     -0.666667    1.0  0.00\n",
      "3  0.03125 -0.07293 -0.39742  1.387640      0.500000    1.0 -0.35\n",
      "4  0.03125 -0.07293 -0.49554  2.084270     -0.416667    1.0 -0.35\n",
      "   energy_log10    zenith   azimuth  event_no\n",
      "0      1.632209  1.097939  2.654670    165837\n",
      "1      1.048916  1.080239  3.165756    165838\n",
      "2      0.742656  2.225398  4.262146    165839\n",
      "3      1.256873  0.799320  1.277917    165840\n",
      "4      1.514665  0.836001  1.552987    165841\n"
     ]
    },
    {
     "data": {
      "application/vnd.jupyter.widget-view+json": {
       "model_id": "8b018c925f6642d5a8e61d28c869d749",
       "version_major": 2,
       "version_minor": 0
      },
      "text/plain": [
       "HBox(children=(HTML(value=''), FloatProgress(value=0.0, max=165837.0), HTML(value='')))"
      ]
     },
     "metadata": {},
     "output_type": "display_data"
    },
    {
     "name": "stdout",
     "output_type": "stream",
     "text": [
      "\n",
      "List->array\n",
      "Events read\n",
      "Features read\n",
      "Targets read, transforming\n",
      "Splitting data to events\n",
      "     dom_x    dom_y    dom_z  dom_time  charge_log10  width   rqe\n",
      "0  0.04629 -0.03488 -0.36708  1.044944     -0.416667    1.0  0.00\n",
      "1  0.03125 -0.07293 -0.25725 -0.153558      0.583333    1.0 -0.35\n",
      "2  0.04160  0.03549 -0.22799  0.046816      0.333333    1.0  0.00\n",
      "3  0.11319 -0.06047 -0.26623  0.887640     -0.416667    1.0  0.00\n",
      "4 -0.00968 -0.07950 -0.20547  1.780899      0.416667    1.0  0.00\n",
      "   energy_log10    zenith   azimuth  event_no\n",
      "0      1.683983  1.620525  5.277000    331674\n",
      "1      1.755312  1.683496  0.531419    331675\n",
      "2      0.821207  1.693390  4.711780    331676\n",
      "3      1.568033  1.809342  0.906927    331677\n",
      "4      1.210022  1.539435  3.951813    331678\n"
     ]
    },
    {
     "data": {
      "application/vnd.jupyter.widget-view+json": {
       "model_id": "56685d973c4f41ad8ad4c851751ca205",
       "version_major": 2,
       "version_minor": 0
      },
      "text/plain": [
       "HBox(children=(HTML(value=''), FloatProgress(value=0.0, max=165837.0), HTML(value='')))"
      ]
     },
     "metadata": {},
     "output_type": "display_data"
    },
    {
     "name": "stdout",
     "output_type": "stream",
     "text": [
      "\n",
      "List->array\n",
      "Events read\n",
      "Features read\n",
      "Targets read, transforming\n",
      "Splitting data to events\n",
      "     dom_x    dom_y    dom_z  dom_time  charge_log10  width  rqe\n",
      "0  0.07237 -0.06660 -0.30701  0.653558      0.750000    1.0  0.0\n",
      "1  0.07237 -0.06660 -0.32804  0.189139     -0.916667    0.0  0.0\n",
      "2  0.07237 -0.06660 -0.34205  0.814607     -0.416667    0.0  0.0\n",
      "3  0.07237 -0.06660 -0.38410  0.391386      0.500000    1.0  0.0\n",
      "4  0.04160  0.03549 -0.38217 -0.404494     -0.333333    1.0  0.0\n",
      "   energy_log10    zenith   azimuth  event_no\n",
      "0      0.858973  1.155964  2.131158    497511\n",
      "1      1.902080  0.637631  1.083060    497512\n",
      "2      1.127586  1.028787  0.357357    497513\n",
      "3      1.030833  1.164146  4.825155    497514\n",
      "4      0.947284  2.262021  0.639454    497515\n"
     ]
    },
    {
     "data": {
      "application/vnd.jupyter.widget-view+json": {
       "model_id": "d5900e150ef04f74890ad42dcf97c3e7",
       "version_major": 2,
       "version_minor": 0
      },
      "text/plain": [
       "HBox(children=(HTML(value=''), FloatProgress(value=0.0, max=165837.0), HTML(value='')))"
      ]
     },
     "metadata": {},
     "output_type": "display_data"
    },
    {
     "name": "stdout",
     "output_type": "stream",
     "text": [
      "\n",
      "List->array\n",
      "Events read\n",
      "Features read\n",
      "Targets read, transforming\n",
      "Splitting data to events\n",
      "     dom_x    dom_y    dom_z  dom_time  charge_log10  width   rqe\n",
      "0 -0.07780 -0.05433 -0.50152  1.915730      0.666667    1.0 -0.35\n",
      "1  0.04629 -0.03488 -0.41815  0.531835     -0.333333    1.0  0.00\n",
      "2  0.03125 -0.07293 -0.40443  0.059925      0.750000    1.0 -0.35\n",
      "3  0.03125 -0.07293 -0.42545 -0.108614     -0.500000    1.0 -0.35\n",
      "4  0.03125 -0.07293 -0.49554 -0.282772      0.000000    1.0 -0.35\n",
      "   energy_log10    zenith   azimuth  event_no\n",
      "0      1.331997  1.778370  4.517724    663348\n",
      "1      1.248558  0.274977  6.280253    663349\n",
      "2      1.125666  2.651380  2.772573    663350\n",
      "3      1.093367  2.750240  5.057547    663351\n",
      "4      1.778567  2.393655  2.645987    663352\n"
     ]
    },
    {
     "data": {
      "application/vnd.jupyter.widget-view+json": {
       "model_id": "f55216210c014d849ac0349b40045143",
       "version_major": 2,
       "version_minor": 0
      },
      "text/plain": [
       "HBox(children=(HTML(value=''), FloatProgress(value=0.0, max=165836.0), HTML(value='')))"
      ]
     },
     "metadata": {},
     "output_type": "display_data"
    },
    {
     "name": "stdout",
     "output_type": "stream",
     "text": [
      "\n",
      "List->array\n",
      "Events read\n",
      "Features read\n",
      "Targets read, transforming\n",
      "Splitting data to events\n",
      "     dom_x    dom_y    dom_z  dom_time  charge_log10  width   rqe\n",
      "0  0.07941 -0.24824 -0.36915 -0.106742     -0.333333    1.0 -0.35\n",
      "1  0.00171 -0.15063 -0.28570  1.029963     -0.583333    1.0 -0.35\n",
      "2  0.00171 -0.15063 -0.33676  0.653558     -0.916667    1.0 -0.35\n",
      "3  0.12497 -0.13125 -0.27228  1.041199      0.583333    1.0 -0.35\n",
      "4  0.12497 -0.13125 -0.40845  1.445693      0.000000    1.0 -0.35\n",
      "   energy_log10    zenith   azimuth  event_no\n",
      "0      1.812697  2.022997  2.989641    829184\n",
      "1      1.886296  2.300012  2.758065    829185\n",
      "2      1.846559  3.039526  0.582286    829186\n",
      "3      1.686604  1.774123  0.493501    829187\n",
      "4      0.942275  2.005075  2.488980    829188\n"
     ]
    },
    {
     "data": {
      "application/vnd.jupyter.widget-view+json": {
       "model_id": "b99f769207ee495eab1a700ed837e59b",
       "version_major": 2,
       "version_minor": 0
      },
      "text/plain": [
       "HBox(children=(HTML(value=''), FloatProgress(value=0.0, max=165836.0), HTML(value='')))"
      ]
     },
     "metadata": {},
     "output_type": "display_data"
    },
    {
     "name": "stdout",
     "output_type": "stream",
     "text": [
      "\n",
      "List->array\n",
      "Events read\n",
      "Features read\n",
      "Targets read, transforming\n",
      "Splitting data to events\n",
      "     dom_x    dom_y    dom_z  dom_time  charge_log10  width   rqe\n",
      "0  0.04629 -0.03488 -0.33304  0.219101      0.166667    1.0  0.00\n",
      "1  0.19434 -0.03092 -0.14269  3.153558     -0.500000    1.0 -0.35\n",
      "2  0.03125 -0.07293 -0.29930  0.114232      0.750000    0.0  0.00\n",
      "3  0.03125 -0.07293 -0.31332  0.001873      0.000000    0.0  0.00\n",
      "4  0.03125 -0.07293 -0.32033 -0.091760     -1.083333    0.0  0.00\n",
      "   energy_log10    zenith   azimuth  event_no\n",
      "0      1.417009  2.443839  2.992347    995020\n",
      "1      1.218718  1.868808  3.474688    995021\n",
      "2      1.846489  2.620414  2.635571    995022\n",
      "3      1.726707  2.221184  4.388748    995023\n",
      "4      1.482853  1.756255  4.155227    995024\n"
     ]
    },
    {
     "data": {
      "application/vnd.jupyter.widget-view+json": {
       "model_id": "f8e32004218343128f240aad66930b21",
       "version_major": 2,
       "version_minor": 0
      },
      "text/plain": [
       "HBox(children=(HTML(value=''), FloatProgress(value=0.0, max=165836.0), HTML(value='')))"
      ]
     },
     "metadata": {},
     "output_type": "display_data"
    },
    {
     "name": "stdout",
     "output_type": "stream",
     "text": [
      "\n",
      "List->array\n",
      "Events read\n",
      "Features read\n",
      "Targets read, transforming\n",
      "Splitting data to events\n",
      "     dom_x    dom_y    dom_z  dom_time  charge_log10  width   rqe\n",
      "0  0.12497 -0.13125 -0.37440 -0.147940      0.000000    0.0 -0.35\n",
      "1  0.12497 -0.13125 -0.39142 -0.477528     -0.833333    0.0 -0.35\n",
      "2  0.12497 -0.13125 -0.39142 -0.455056      0.583333    0.0 -0.35\n",
      "3  0.12497 -0.13125 -0.39142 -0.436330     -0.916667    0.0 -0.35\n",
      "4  0.24815 -0.11187 -0.31896  1.505618      0.250000    1.0 -0.35\n",
      "   energy_log10    zenith   azimuth  event_no\n",
      "0      1.572222  1.327346  3.893821   1160856\n",
      "1      1.297468  1.795847  3.094765   1160857\n",
      "2      0.944986  2.796375  1.960719   1160858\n",
      "3      0.837844  1.325572  0.401802   1160859\n",
      "4      1.487119  1.427525  4.169186   1160860\n"
     ]
    },
    {
     "data": {
      "application/vnd.jupyter.widget-view+json": {
       "model_id": "8945e13aac1b49f0859d47155937fa9d",
       "version_major": 2,
       "version_minor": 0
      },
      "text/plain": [
       "HBox(children=(HTML(value=''), FloatProgress(value=0.0, max=165836.0), HTML(value='')))"
      ]
     },
     "metadata": {},
     "output_type": "display_data"
    },
    {
     "name": "stdout",
     "output_type": "stream",
     "text": [
      "\n",
      "List->array\n",
      "Events read\n",
      "Features read\n",
      "Targets read, transforming\n",
      "Splitting data to events\n",
      "     dom_x    dom_y    dom_z  dom_time  charge_log10  width   rqe\n",
      "0  0.04629 -0.03488 -0.36708  2.500000     -0.083333    1.0  0.00\n",
      "1 -0.03296  0.06244 -0.45735  0.365169     -0.833333    0.0 -0.35\n",
      "2 -0.03296  0.06244 -0.47437  0.838951      0.500000    0.0 -0.35\n",
      "3 -0.03296  0.06244 -0.50841  1.483146      0.083333    0.0 -0.35\n",
      "4  0.04160  0.03549 -0.45226  1.307116      0.416667    1.0  0.00\n",
      "   energy_log10    zenith   azimuth  event_no\n",
      "0      1.683881  0.285779  6.186256   1326692\n",
      "1      1.412262  2.345044  1.782284   1326693\n",
      "2      1.565177  2.706756  4.326798   1326694\n",
      "3      0.822042  2.408181  2.249201   1326695\n",
      "4      1.023354  2.239803  0.805475   1326696\n"
     ]
    },
    {
     "data": {
      "application/vnd.jupyter.widget-view+json": {
       "model_id": "4c39d2ab245b4bd3b6092cc38e0a2db9",
       "version_major": 2,
       "version_minor": 0
      },
      "text/plain": [
       "HBox(children=(HTML(value=''), FloatProgress(value=0.0, max=165836.0), HTML(value='')))"
      ]
     },
     "metadata": {},
     "output_type": "display_data"
    },
    {
     "name": "stdout",
     "output_type": "stream",
     "text": [
      "\n",
      "List->array\n",
      "Events read\n",
      "Features read\n",
      "Targets read, transforming\n",
      "Splitting data to events\n",
      "     dom_x    dom_y    dom_z  dom_time  charge_log10  width  rqe\n",
      "0  0.04629 -0.03488 -0.38410  0.653558     -0.083333    1.0  0.0\n",
      "1  0.04629 -0.03488 -0.45219 -0.234082      0.750000    0.0  0.0\n",
      "2  0.04629 -0.03488 -0.45219 -0.211610     -1.250000    0.0  0.0\n",
      "3  0.04629 -0.03488 -0.45219 -0.007491     -0.250000    0.0  0.0\n",
      "4  0.04629 -0.03488 -0.46921 -0.387640     -1.166667    0.0  0.0\n",
      "   energy_log10    zenith   azimuth  event_no\n",
      "0      1.260988  2.658666  2.334869   1492528\n",
      "1      1.533949  1.456936  1.889017   1492529\n",
      "2      1.461374  1.697669  4.717784   1492530\n",
      "3      1.229914  1.059398  1.160550   1492531\n",
      "4      1.553517  2.169752  2.341257   1492532\n"
     ]
    },
    {
     "data": {
      "application/vnd.jupyter.widget-view+json": {
       "model_id": "f1ad1934579444609835452915c7795b",
       "version_major": 2,
       "version_minor": 0
      },
      "text/plain": [
       "HBox(children=(HTML(value=''), FloatProgress(value=0.0, max=165836.0), HTML(value='')))"
      ]
     },
     "metadata": {},
     "output_type": "display_data"
    },
    {
     "name": "stdout",
     "output_type": "stream",
     "text": [
      "\n",
      "List->array\n"
     ]
    }
   ],
   "source": [
    "db_file   = db_path\n",
    "\n",
    "tls=[]\n",
    "tals=[]\n",
    "mix_list=[]\n",
    "print(\"Connecting to db-file\")\n",
    "with sqlite3.connect(db_file) as conn:\n",
    "    # Find indices to cut after\n",
    "\n",
    "    # SQL queries format\n",
    "    feature_call = \", \".join(features)\n",
    "    target_call  = \", \".join(targets)\n",
    "\n",
    "    # Load data from db-file\n",
    "    print(\"Reading files\")\n",
    "    df_truth=read_sql(f\"select event_no from truth\", conn)\n",
    "    splits=np.array_split(df_truth['event_no'].to_numpy(),n_steps)\n",
    "    start_ids, stop_ids=[],[]\n",
    "    for i in range(n_steps):\n",
    "        start_ids.append(splits[i][0])\n",
    "        stop_ids.append(splits[i][-1])\n",
    "\n",
    "    train_events, test_events=get_event_no()\n",
    "    df_test=df_truth[df_truth['event_no'].isin(test_events)]\n",
    "    df_train=df_truth[df_truth['event_no'].isin(train_events)]\n",
    "#     testid, trainid=df_test.index.to_numpy(), df_train.index.to_numpy()\n",
    "    mask_test, mask_train= [], []\n",
    "    for i in range(n_steps):\n",
    "        mask_test.append(np.in1d(splits[i], test_events))\n",
    "        mask_train.append(np.in1d(splits[i], train_events))\n",
    "\n",
    "    print('Saving test/train IDs')\n",
    "#     pickle.dump(df_test, open(osp.join(self.path, \"testid.pkl\"), 'wb'))\n",
    "#     pickle.dump(df_train, open(osp.join(self.path, \"trainid.pkl\"), 'wb'))\n",
    "    print('Starting loop')\n",
    "    print(start_ids, stop_ids)\n",
    "    for i, (start_id, stop_id) in enumerate(zip(start_ids, stop_ids)):\n",
    "        if i<10:\n",
    "            df_event = read_sql(f\"select event_no from features where event_no >= {start_id} and event_no <= {stop_id}\", conn)\n",
    "            print('Events read')\n",
    "            df_feat  = read_sql(f\"select {feature_call} from features where event_no >= {start_id} and event_no <= {stop_id}\", conn)\n",
    "            print('Features read')\n",
    "            df_targ  = read_sql(f\"select {target_call} from truth    where event_no >= {start_id} and event_no <= {stop_id}\", conn)\n",
    "            print('Targets read, transforming')\n",
    "            transformers = pickle.load(open(transform_path, 'rb'))\n",
    "            trans_x      = transformers['features']\n",
    "            trans_y      = transformers['truth']\n",
    "\n",
    "\n",
    "            for col in [\"dom_x\", \"dom_y\", \"dom_z\"]:\n",
    "                df_feat[col] = trans_x[col].inverse_transform(np.array(df_feat[col]).reshape(1, -1)).T/1000\n",
    "\n",
    "            for col in [\"energy_log10\", \"zenith\",\"azimuth\"]:\n",
    "                # print(col)\n",
    "                df_targ[col] = trans_y[col].inverse_transform(np.array(df_targ[col]).reshape(1, -1)).T\n",
    "\n",
    "\n",
    "\n",
    "            # Cut indices\n",
    "            print(\"Splitting data to events\")\n",
    "            idx_list    = np.array(df_event)\n",
    "            x_not_split = np.array(df_feat)\n",
    "\n",
    "            _, idx, counts = np.unique(idx_list.flatten(), return_index = True, return_counts = True) \n",
    "            xs          = np.split(x_not_split, np.cumsum(counts)[:-1])\n",
    "\n",
    "            ys          = np.array(df_targ)\n",
    "            print(df_feat.head())\n",
    "            print(df_targ.head())\n",
    "\n",
    "            graph_list=[]\n",
    "            # Generate adjacency matrices\n",
    "            for x, y in tqdm(zip(xs, ys), total = len(xs)):\n",
    "                try:\n",
    "                    a = knn(x[:, :3], self.n_neighbors)\n",
    "                except:\n",
    "                    a = csr_matrix(np.ones(shape = (x.shape[0], x.shape[0])) - np.eye(x.shape[0]))\n",
    "                graph_list.append(Graph(x = x, a = a, y = y))\n",
    "            print('List->array')\n",
    "            graph_list = np.array(graph_list, dtype = object)\n",
    "            test_list = graph_list[mask_test[i]]\n",
    "            tls.append(test_list)\n",
    "            train_list = graph_list[mask_train[i]]\n",
    "            tals.append(train_list)\n",
    "            mix_list.append(test_list[::10])"
   ]
  },
  {
   "cell_type": "code",
   "execution_count": 63,
   "metadata": {
    "ExecuteTime": {
     "end_time": "2021-05-26T15:31:35.433323Z",
     "start_time": "2021-05-26T15:31:34.286554Z"
    }
   },
   "outputs": [],
   "source": [
    "tl=[]\n",
    "for i in range(len(test_list)):\n",
    "    tl.append(test_list[i].y[3])"
   ]
  },
  {
   "cell_type": "code",
   "execution_count": 64,
   "metadata": {
    "ExecuteTime": {
     "end_time": "2021-05-26T15:31:35.528087Z",
     "start_time": "2021-05-26T15:31:35.441300Z"
    }
   },
   "outputs": [],
   "source": [
    "df1=df_test[(df_test['event_no']<=stop_ids[2]) & (df_test['event_no']>=start_ids[2])]['event_no']"
   ]
  },
  {
   "cell_type": "code",
   "execution_count": 67,
   "metadata": {
    "ExecuteTime": {
     "end_time": "2021-05-26T15:33:24.717861Z",
     "start_time": "2021-05-26T15:33:24.325991Z"
    }
   },
   "outputs": [],
   "source": [
    "tal=[]\n",
    "for i in range(len(train_list)):\n",
    "    tal.append(train_list[i].y[3])"
   ]
  },
  {
   "cell_type": "code",
   "execution_count": 66,
   "metadata": {
    "ExecuteTime": {
     "end_time": "2021-05-26T15:33:03.681414Z",
     "start_time": "2021-05-26T15:33:03.525959Z"
    }
   },
   "outputs": [],
   "source": [
    "df2=df_train[(df_train['event_no']<=stop_ids[2]) & (df_train['event_no']>=start_ids[2])]['event_no']"
   ]
  },
  {
   "cell_type": "code",
   "execution_count": 71,
   "metadata": {
    "ExecuteTime": {
     "end_time": "2021-05-26T15:53:49.582087Z",
     "start_time": "2021-05-26T15:53:49.452276Z"
    }
   },
   "outputs": [],
   "source": [
    "tal=[]\n",
    "for i in range(len(train_list)):\n",
    "    tal.append(train_list[i].y[3])"
   ]
  },
  {
   "cell_type": "code",
   "execution_count": 81,
   "metadata": {
    "ExecuteTime": {
     "end_time": "2021-05-26T16:00:47.669988Z",
     "start_time": "2021-05-26T16:00:44.711044Z"
    }
   },
   "outputs": [],
   "source": [
    "ml=[]\n",
    "for j in range(len(mix_list)):\n",
    "    for i in range(len(mix_list[j])):\n",
    "        ml.append(mix_list[j][i].y[3])"
   ]
  },
  {
   "cell_type": "code",
   "execution_count": 86,
   "metadata": {
    "ExecuteTime": {
     "end_time": "2021-05-26T16:06:01.437695Z",
     "start_time": "2021-05-26T16:06:01.402710Z"
    }
   },
   "outputs": [],
   "source": [
    "m_list = [graph for gl in mix_list for graph in gl]"
   ]
  },
  {
   "cell_type": "code",
   "execution_count": null,
   "metadata": {},
   "outputs": [],
   "source": [
    "flat_list = []\n",
    "for sublist in t:\n",
    "    for item in sublist:\n",
    "        flat_list.append(item)"
   ]
  },
  {
   "cell_type": "code",
   "execution_count": 18,
   "metadata": {
    "ExecuteTime": {
     "end_time": "2021-05-26T14:44:19.449763Z",
     "start_time": "2021-05-26T14:44:10.693018Z"
    }
   },
   "outputs": [
    {
     "name": "stdout",
     "output_type": "stream",
     "text": [
      "Reading files\n"
     ]
    }
   ],
   "source": [
    "with sqlite3.connect(db_file) as conn:\n",
    "    # Find indices to cut after\n",
    "\n",
    "    # SQL queries format\n",
    "    feature_call = \", \".join(features)\n",
    "    target_call  = \", \".join(targets)\n",
    "\n",
    "    # Load data from db-file\n",
    "    print(\"Reading files\")\n",
    "    df_truth=read_sql(f\"select event_no from truth\", conn)"
   ]
  },
  {
   "cell_type": "code",
   "execution_count": 23,
   "metadata": {
    "ExecuteTime": {
     "end_time": "2021-05-26T14:45:50.502455Z",
     "start_time": "2021-05-26T14:45:50.488494Z"
    }
   },
   "outputs": [
    {
     "data": {
      "text/plain": [
       "(          event_no\n",
       " 0                0\n",
       " 1                1\n",
       " 2                2\n",
       " 3                3\n",
       " 4                4\n",
       " ...            ...\n",
       " 8291799  117104759\n",
       " 8291800  117104760\n",
       " 8291801  117104761\n",
       " 8291802  117104762\n",
       " 8291803  117104763\n",
       " \n",
       " [6633442 rows x 1 columns],\n",
       "           event_no\n",
       " 8                8\n",
       " 10              10\n",
       " 15              15\n",
       " 29              29\n",
       " 32              32\n",
       " ...            ...\n",
       " 8291786  117104746\n",
       " 8291787  117104747\n",
       " 8291790  117104750\n",
       " 8291792  117104752\n",
       " 8291798  117104758\n",
       " \n",
       " [1658362 rows x 1 columns])"
      ]
     },
     "execution_count": 23,
     "metadata": {},
     "output_type": "execute_result"
    }
   ],
   "source": [
    "df_train, df_test"
   ]
  },
  {
   "cell_type": "code",
   "execution_count": 29,
   "metadata": {
    "ExecuteTime": {
     "end_time": "2021-05-26T14:48:13.122809Z",
     "start_time": "2021-05-26T14:48:13.107848Z"
    }
   },
   "outputs": [
    {
     "data": {
      "text/plain": [
       "True"
      ]
     },
     "execution_count": 29,
     "metadata": {},
     "output_type": "execute_result"
    }
   ],
   "source": [
    "mask_test[9][-6]"
   ]
  }
 ],
 "metadata": {
  "hide_input": false,
  "kernelspec": {
   "display_name": "Python 3",
   "language": "python",
   "name": "python3"
  },
  "language_info": {
   "codemirror_mode": {
    "name": "ipython",
    "version": 3
   },
   "file_extension": ".py",
   "mimetype": "text/x-python",
   "name": "python",
   "nbconvert_exporter": "python",
   "pygments_lexer": "ipython3",
   "version": "3.8.5"
  }
 },
 "nbformat": 4,
 "nbformat_minor": 4
}
