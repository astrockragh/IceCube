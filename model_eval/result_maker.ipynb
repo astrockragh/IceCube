{
 "cells": [
  {
   "cell_type": "code",
   "execution_count": 38,
   "metadata": {
    "ExecuteTime": {
     "end_time": "2021-04-22T19:22:27.006321Z",
     "start_time": "2021-04-22T19:22:27.001334Z"
    }
   },
   "outputs": [],
   "source": [
    "import pandas as pd\n",
    "import numpy as np"
   ]
  },
  {
   "cell_type": "code",
   "execution_count": 42,
   "metadata": {
    "ExecuteTime": {
     "end_time": "2021-04-22T19:22:39.168118Z",
     "start_time": "2021-04-22T19:22:39.094444Z"
    }
   },
   "outputs": [],
   "source": [
    "sets = pd.read_pickle('../db_files/dev_lvl7_mu_nu_e_classification_v003/sets.pkl')\n",
    "train = sets['train']\n",
    "test = sets['test']"
   ]
  },
  {
   "cell_type": "code",
   "execution_count": 40,
   "metadata": {
    "ExecuteTime": {
     "end_time": "2021-04-22T19:22:28.081145Z",
     "start_time": "2021-04-22T19:22:28.065189Z"
    }
   },
   "outputs": [
    {
     "data": {
      "text/plain": [
       "(6633442, 1658362, 8291804)"
      ]
     },
     "execution_count": 40,
     "metadata": {},
     "output_type": "execute_result"
    }
   ],
   "source": [
    "len(train_events), len(test_events), len(train_events)+len(test_events) #80-20 split"
   ]
  },
  {
   "cell_type": "code",
   "execution_count": 36,
   "metadata": {
    "ExecuteTime": {
     "end_time": "2021-04-22T19:12:50.529870Z",
     "start_time": "2021-04-22T19:12:49.992884Z"
    }
   },
   "outputs": [],
   "source": [
    "val=np.unique(train_events['event_no'])"
   ]
  },
  {
   "cell_type": "code",
   "execution_count": 32,
   "metadata": {
    "ExecuteTime": {
     "end_time": "2021-04-22T19:01:54.306952Z",
     "start_time": "2021-04-22T19:01:52.818909Z"
    }
   },
   "outputs": [
    {
     "data": {
      "text/html": [
       "<div>\n",
       "<style scoped>\n",
       "    .dataframe tbody tr th:only-of-type {\n",
       "        vertical-align: middle;\n",
       "    }\n",
       "\n",
       "    .dataframe tbody tr th {\n",
       "        vertical-align: top;\n",
       "    }\n",
       "\n",
       "    .dataframe thead th {\n",
       "        text-align: right;\n",
       "    }\n",
       "</style>\n",
       "<table border=\"1\" class=\"dataframe\">\n",
       "  <thead>\n",
       "    <tr style=\"text-align: right;\">\n",
       "      <th></th>\n",
       "      <th>event_no</th>\n",
       "    </tr>\n",
       "  </thead>\n",
       "  <tbody>\n",
       "    <tr>\n",
       "      <th>0</th>\n",
       "      <td>890000</td>\n",
       "    </tr>\n",
       "    <tr>\n",
       "      <th>0</th>\n",
       "      <td>15012865</td>\n",
       "    </tr>\n",
       "    <tr>\n",
       "      <th>0</th>\n",
       "      <td>10967719</td>\n",
       "    </tr>\n",
       "    <tr>\n",
       "      <th>0</th>\n",
       "      <td>7235146</td>\n",
       "    </tr>\n",
       "    <tr>\n",
       "      <th>1</th>\n",
       "      <td>10967720</td>\n",
       "    </tr>\n",
       "    <tr>\n",
       "      <th>...</th>\n",
       "      <td>...</td>\n",
       "    </tr>\n",
       "    <tr>\n",
       "      <th>4345829</th>\n",
       "      <td>979994</td>\n",
       "    </tr>\n",
       "    <tr>\n",
       "      <th>4345830</th>\n",
       "      <td>979995</td>\n",
       "    </tr>\n",
       "    <tr>\n",
       "      <th>4345831</th>\n",
       "      <td>979996</td>\n",
       "    </tr>\n",
       "    <tr>\n",
       "      <th>4345832</th>\n",
       "      <td>979997</td>\n",
       "    </tr>\n",
       "    <tr>\n",
       "      <th>4345834</th>\n",
       "      <td>979999</td>\n",
       "    </tr>\n",
       "  </tbody>\n",
       "</table>\n",
       "<p>6633442 rows × 1 columns</p>\n",
       "</div>"
      ],
      "text/plain": [
       "         event_no\n",
       "0          890000\n",
       "0        15012865\n",
       "0        10967719\n",
       "0         7235146\n",
       "1        10967720\n",
       "...           ...\n",
       "4345829    979994\n",
       "4345830    979995\n",
       "4345831    979996\n",
       "4345832    979997\n",
       "4345834    979999\n",
       "\n",
       "[6633442 rows x 1 columns]"
      ]
     },
     "execution_count": 32,
     "metadata": {},
     "output_type": "execute_result"
    }
   ],
   "source": [
    "train_events.sort_index()"
   ]
  },
  {
   "cell_type": "code",
   "execution_count": 35,
   "metadata": {
    "ExecuteTime": {
     "end_time": "2021-04-22T19:11:14.004943Z",
     "start_time": "2021-04-22T19:11:13.292900Z"
    }
   },
   "outputs": [
    {
     "data": {
      "text/plain": [
       "(6633442, 3843740)"
      ]
     },
     "execution_count": 35,
     "metadata": {},
     "output_type": "execute_result"
    }
   ],
   "source": [
    "val, count=np.unique(np.sort(sets['train'].index), return_counts=1)\n",
    "np.sum(count), len(val)"
   ]
  },
  {
   "cell_type": "code",
   "execution_count": 16,
   "metadata": {
    "ExecuteTime": {
     "end_time": "2021-04-22T18:14:30.015483Z",
     "start_time": "2021-04-22T18:14:29.937051Z"
    }
   },
   "outputs": [],
   "source": [
    "zeni_pred=np.random.uniform(0,np.pi, len(test))\n",
    "zeni_sig=abs(np.random.normal(0.2,0.2, len(test)))"
   ]
  },
  {
   "cell_type": "code",
   "execution_count": 17,
   "metadata": {
    "ExecuteTime": {
     "end_time": "2021-04-22T18:14:42.278241Z",
     "start_time": "2021-04-22T18:14:42.258269Z"
    }
   },
   "outputs": [],
   "source": [
    "pred=pd.DataFrame(test)\n",
    "pred['zenith_pred']=zeni_pred\n",
    "pred['zenith_sigma']=zeni_sig"
   ]
  }
 ],
 "metadata": {
  "hide_input": false,
  "kernelspec": {
   "display_name": "Python 3",
   "language": "python",
   "name": "python3"
  },
  "language_info": {
   "codemirror_mode": {
    "name": "ipython",
    "version": 3
   },
   "file_extension": ".py",
   "mimetype": "text/x-python",
   "name": "python",
   "nbconvert_exporter": "python",
   "pygments_lexer": "ipython3",
   "version": "3.8.5"
  }
 },
 "nbformat": 4,
 "nbformat_minor": 4
}
