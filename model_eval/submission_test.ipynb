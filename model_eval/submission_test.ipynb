{
 "cells": [
  {
   "cell_type": "code",
   "execution_count": 4,
   "metadata": {
    "ExecuteTime": {
     "end_time": "2021-04-29T21:00:32.088823Z",
     "start_time": "2021-04-29T21:00:32.053903Z"
    }
   },
   "outputs": [
    {
     "name": "stdout",
     "output_type": "stream",
     "text": [
      "Notebook\n",
      "Not notebook\n",
      "Not notebook\n"
     ]
    }
   ],
   "source": [
    "import os, sys, argparse, importlib, time, inspect, json\n",
    "import numpy as np\n",
    "import matplotlib.pyplot as plt\n",
    "import os.path as osp\n",
    "if hasattr(__builtins__,'__IPYTHON__'):\n",
    "    print('Notebook')\n",
    "    from tqdm.notebook import tqdm\n",
    "else:\n",
    "    print('Not notebook')\n",
    "    from tqdm import tqdm\n",
    "from tensorflow.keras import backend as K\n",
    "os.environ['TF_CPP_MIN_LOG_LEVEL'] = '2' \n",
    "import tensorflow as tf\n",
    "import tensorflow_probability as tfp\n",
    "import pandas as pd\n",
    "\n",
    "# gpu_devices = tf.config.list_physical_devices('GPU') \n",
    "# if len(gpu_devices) > 0:\n",
    "#     print(\"GPU detected\")\n",
    "#     for i in range(len(gpu_devices)):\n",
    "#         tf.config.experimental.set_memory_growth(gpu_devices[i], True)\n",
    "# else:\n",
    "#     print('No GPU detected')\n",
    "import spektral\n",
    "from sklearn.preprocessing import normalize\n",
    "from spektral.data import DisjointLoader, BatchLoader, SingleLoader\n",
    "from importlib import reload\n",
    "os.chdir('../from_config')\n",
    "import dev.data_load as dl\n",
    "reload(dl)\n",
    "graph_data=dl.graph_data"
   ]
  },
  {
   "cell_type": "code",
   "execution_count": 6,
   "metadata": {
    "ExecuteTime": {
     "end_time": "2021-04-29T21:01:23.283867Z",
     "start_time": "2021-04-29T21:01:23.278845Z"
    }
   },
   "outputs": [],
   "source": [
    "os.chdir('../model_eval')"
   ]
  },
  {
   "cell_type": "code",
   "execution_count": 7,
   "metadata": {
    "ExecuteTime": {
     "end_time": "2021-04-29T21:01:36.156578Z",
     "start_time": "2021-04-29T21:01:23.861320Z"
    }
   },
   "outputs": [
    {
     "name": "stdout",
     "output_type": "stream",
     "text": [
      "WARNING:tensorflow:No training configuration found in save file, so the model was *not* compiled. Compile it manually.\n"
     ]
    }
   ],
   "source": [
    "with tf.device('/cpu:0'): # if on the cpu\n",
    "    model=tf.keras.models.load_model('../from_config/trained_models/IceCube/Sage_sage1nonorm_10_2aauycmh')\n",
    "    model.compile()"
   ]
  },
  {
   "cell_type": "code",
   "execution_count": 6,
   "metadata": {
    "ExecuteTime": {
     "end_time": "2021-04-29T19:38:28.382617Z",
     "start_time": "2021-04-29T19:36:14.914229Z"
    },
    "tags": []
   },
   "outputs": [
    {
     "name": "stdout",
     "output_type": "stream",
     "text": [
      "Removed and ready to reload\n",
      "Connecting to db-file\n",
      "Loading Muons\n",
      "ERROR! Session/line number was not unique in database. History logging moved to new session 1394\n",
      "Reading files\n"
     ]
    },
    {
     "name": "stderr",
     "output_type": "stream",
     "text": [
      "C:\\Users\\chris\\anaconda3\\lib\\site-packages\\sklearn\\utils\\deprecation.py:143: FutureWarning: The sklearn.preprocessing.data module is  deprecated in version 0.22 and will be removed in version 0.24. The corresponding classes / functions should instead be imported from sklearn.preprocessing. Anything that cannot be imported from sklearn.preprocessing is now part of the private API.\n",
      "  warnings.warn(message, FutureWarning)\n",
      "C:\\Users\\chris\\anaconda3\\lib\\site-packages\\sklearn\\base.py:329: UserWarning: Trying to unpickle estimator RobustScaler from version 0.19.1 when using version 0.23.2. This might lead to breaking code or invalid results. Use at your own risk.\n",
      "  warnings.warn(\n"
     ]
    },
    {
     "name": "stdout",
     "output_type": "stream",
     "text": [
      "Splitting data to events\n"
     ]
    },
    {
     "name": "stderr",
     "output_type": "stream",
     "text": [
      "  0%|                                                                           | 136/100000 [00:00<01:13, 1349.52it/s]"
     ]
    },
    {
     "name": "stdout",
     "output_type": "stream",
     "text": [
      "     dom_x    dom_y    dom_z      time  charge_log10  SRTInIcePulses\n",
      "0  0.11439 -0.46199 -0.14812  1.622453     -0.621035               0\n",
      "1  0.13203  0.20298  0.12828 -0.060393     -1.921554               1\n",
      "2  0.13203  0.20298  0.11126 -0.000741     -1.656923               1\n",
      "3  0.38235  0.23890 -0.38653 -0.212301     -0.280277               0\n",
      "4  0.50527  0.25788 -0.37884 -1.727306      0.162615               0\n",
      "   energy_log10    zenith   azimuth\n",
      "0      2.437721  0.661937  1.697274\n",
      "1      2.584876  0.205041  4.291144\n",
      "2      2.476674  0.661661  1.374715\n",
      "3      2.409273  0.390813  2.876407\n",
      "4      2.356129  0.889406  2.381056\n",
      "Generating adjacency matrices\n"
     ]
    },
    {
     "name": "stderr",
     "output_type": "stream",
     "text": [
      "100%|████████████████████████████████████████████████████████████████████████| 100000/100000 [01:10<00:00, 1420.47it/s]\n"
     ]
    },
    {
     "name": "stdout",
     "output_type": "stream",
     "text": [
      "Saving dataset\n",
      "Loading data to memory\n"
     ]
    }
   ],
   "source": [
    "batch_size=512\n",
    "#just give the same database as you would normally run it on\n",
    "dataset =graph_data(n_data=100000,skip=0, restart=1, transform=True,\\\n",
    "                    transform_path='db_files/muongun/transformers.pkl', db_path= 'db_files/muongun/rasmus_classification_muon_3neutrino_3mio.db')"
   ]
  },
  {
   "cell_type": "code",
   "execution_count": 33,
   "metadata": {
    "ExecuteTime": {
     "end_time": "2021-04-29T20:35:57.264664Z",
     "start_time": "2021-04-29T20:35:57.246713Z"
    }
   },
   "outputs": [],
   "source": [
    "df_event=dataset.df_event\n",
    "train, val, test=dataset.index_lists\n",
    "dataset_test=dataset[test]\n",
    "loader = DisjointLoader(dataset_test, batch_size=batch_size, epochs=1)"
   ]
  },
  {
   "cell_type": "code",
   "execution_count": 29,
   "metadata": {
    "ExecuteTime": {
     "end_time": "2021-04-29T20:35:02.806841Z",
     "start_time": "2021-04-29T20:35:02.572976Z"
    }
   },
   "outputs": [],
   "source": [
    "@tf.function(input_signature = loader.tf_signature(), experimental_relax_shapes = True)\n",
    "def test_step(inputs, targets):\n",
    "    predictions = model(inputs, training = False)\n",
    "    targets     = tf.cast(targets, tf.float32) \n",
    "\n",
    "    return predictions, targets"
   ]
  },
  {
   "cell_type": "code",
   "execution_count": 30,
   "metadata": {
    "ExecuteTime": {
     "end_time": "2021-04-29T20:35:03.353852Z",
     "start_time": "2021-04-29T20:35:03.334685Z"
    }
   },
   "outputs": [],
   "source": [
    "def predict(loader):\n",
    "    prediction_list, target_list = [], []\n",
    "    for batch in loader:\n",
    "        inputs, targets = batch\n",
    "        predictions, targets = test_step(inputs, targets)\n",
    "\n",
    "        prediction_list.append(predictions.numpy())\n",
    "        target_list.append(targets.numpy())\n",
    "        y_reco  = tf.concat(prediction_list, axis = 0).numpy()\n",
    "        y_true  = tf.concat(target_list, axis = 0)\n",
    "        y_true  = tf.cast(y_true, tf.float32).numpy()\n",
    "    return y_reco, y_true"
   ]
  },
  {
   "cell_type": "code",
   "execution_count": 31,
   "metadata": {
    "ExecuteTime": {
     "end_time": "2021-04-29T20:35:12.443257Z",
     "start_time": "2021-04-29T20:35:04.990446Z"
    }
   },
   "outputs": [],
   "source": [
    "reco, true=predict(loader)"
   ]
  },
  {
   "cell_type": "code",
   "execution_count": 35,
   "metadata": {
    "ExecuteTime": {
     "end_time": "2021-04-29T20:36:07.946509Z",
     "start_time": "2021-04-29T20:36:07.935504Z"
    }
   },
   "outputs": [
    {
     "data": {
      "text/html": [
       "<div>\n",
       "<style scoped>\n",
       "    .dataframe tbody tr th:only-of-type {\n",
       "        vertical-align: middle;\n",
       "    }\n",
       "\n",
       "    .dataframe tbody tr th {\n",
       "        vertical-align: top;\n",
       "    }\n",
       "\n",
       "    .dataframe thead th {\n",
       "        text-align: right;\n",
       "    }\n",
       "</style>\n",
       "<table border=\"1\" class=\"dataframe\">\n",
       "  <thead>\n",
       "    <tr style=\"text-align: right;\">\n",
       "      <th></th>\n",
       "      <th>energy_log10_pred</th>\n",
       "      <th>zenith_pred</th>\n",
       "      <th>azimuth_pred</th>\n",
       "      <th>zenith_sigma</th>\n",
       "      <th>azimuth_sigma</th>\n",
       "    </tr>\n",
       "  </thead>\n",
       "  <tbody>\n",
       "    <tr>\n",
       "      <th>0</th>\n",
       "      <td>2.188606</td>\n",
       "      <td>0.736117</td>\n",
       "      <td>2.854449</td>\n",
       "      <td>3.116380</td>\n",
       "      <td>40.258015</td>\n",
       "    </tr>\n",
       "    <tr>\n",
       "      <th>1</th>\n",
       "      <td>2.392092</td>\n",
       "      <td>0.694575</td>\n",
       "      <td>2.097234</td>\n",
       "      <td>13.151760</td>\n",
       "      <td>123.957085</td>\n",
       "    </tr>\n",
       "    <tr>\n",
       "      <th>2</th>\n",
       "      <td>2.709592</td>\n",
       "      <td>0.167352</td>\n",
       "      <td>5.992949</td>\n",
       "      <td>2.947436</td>\n",
       "      <td>290.215179</td>\n",
       "    </tr>\n",
       "    <tr>\n",
       "      <th>3</th>\n",
       "      <td>2.680294</td>\n",
       "      <td>0.603433</td>\n",
       "      <td>4.233559</td>\n",
       "      <td>5.062509</td>\n",
       "      <td>32.112453</td>\n",
       "    </tr>\n",
       "    <tr>\n",
       "      <th>4</th>\n",
       "      <td>2.274279</td>\n",
       "      <td>1.069631</td>\n",
       "      <td>5.443553</td>\n",
       "      <td>3.917409</td>\n",
       "      <td>29.682205</td>\n",
       "    </tr>\n",
       "  </tbody>\n",
       "</table>\n",
       "</div>"
      ],
      "text/plain": [
       "   energy_log10_pred  zenith_pred  azimuth_pred  zenith_sigma  azimuth_sigma\n",
       "0           2.188606     0.736117      2.854449      3.116380      40.258015\n",
       "1           2.392092     0.694575      2.097234     13.151760     123.957085\n",
       "2           2.709592     0.167352      5.992949      2.947436     290.215179\n",
       "3           2.680294     0.603433      4.233559      5.062509      32.112453\n",
       "4           2.274279     1.069631      5.443553      3.917409      29.682205"
      ]
     },
     "execution_count": 35,
     "metadata": {},
     "output_type": "execute_result"
    }
   ],
   "source": [
    "reco_str=['energy_log10_pred', 'zenith_pred', 'azimuth_pred', 'zenith_sigma', 'azimuth_sigma']\n",
    "recos=pd.DataFrame(reco)\n",
    "recos.columns=reco_str\n",
    "recos.head() ### change azi/zeni sigma to real sig"
   ]
  },
  {
   "cell_type": "code",
   "execution_count": 42,
   "metadata": {
    "ExecuteTime": {
     "end_time": "2021-04-29T20:37:15.736126Z",
     "start_time": "2021-04-29T20:37:15.721108Z"
    }
   },
   "outputs": [],
   "source": [
    "recos['event_no']=np.array(df_event['event_no'][test])"
   ]
  },
  {
   "cell_type": "code",
   "execution_count": null,
   "metadata": {},
   "outputs": [],
   "source": [
    "recos.head()\n",
    "recos.to_csv('predictions_')"
   ]
  }
 ],
 "metadata": {
  "hide_input": false,
  "kernelspec": {
   "display_name": "Python 3",
   "language": "python",
   "name": "python3"
  },
  "language_info": {
   "codemirror_mode": {
    "name": "ipython",
    "version": 3
   },
   "file_extension": ".py",
   "mimetype": "text/x-python",
   "name": "python",
   "nbconvert_exporter": "python",
   "pygments_lexer": "ipython3",
   "version": "3.8.5"
  },
  "metadata": {
   "interpreter": {
    "hash": "ee7ae0cce42568ffbe792829a147e8b26e32fc5929320da4cac6b0f8a68675f6"
   }
  }
 },
 "nbformat": 4,
 "nbformat_minor": 4
}
