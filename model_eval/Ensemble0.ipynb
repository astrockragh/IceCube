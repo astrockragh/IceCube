{
 "cells": [
  {
   "cell_type": "code",
   "execution_count": 1,
   "metadata": {
    "ExecuteTime": {
     "end_time": "2021-06-09T10:50:45.030263Z",
     "start_time": "2021-06-09T10:50:38.796495Z"
    }
   },
   "outputs": [
    {
     "name": "stdout",
     "output_type": "stream",
     "text": [
      "GPU detected\n"
     ]
    }
   ],
   "source": [
    "import os, sys, argparse, importlib, time, inspect\n",
    "import numpy as np\n",
    "import matplotlib.pyplot as plt\n",
    "import os.path as osp\n",
    "from tqdm.notebook import tqdm\n",
    "os.environ['TF_CPP_MIN_LOG_LEVEL'] = '2' \n",
    "import tensorflow as tf\n",
    "import tensorflow_probability as tfp\n",
    "\n",
    "gpu_devices = tf.config.list_physical_devices('GPU') \n",
    "if len(gpu_devices) > 0:\n",
    "    print(\"GPU detected\")\n",
    "    for i in range(len(gpu_devices)):\n",
    "        tf.config.experimental.set_memory_growth(gpu_devices[i], True)\n",
    "else:\n",
    "    print('No GPU detected')\n",
    "\n",
    "from tensorflow.keras.optimizers import Adam\n",
    "from tensorflow.keras.losses import MeanSquaredError\n",
    "from tensorflow.keras import Sequential\n",
    "from tensorflow.keras.layers import Dense\n",
    "\n",
    "import pandas as pd"
   ]
  },
  {
   "cell_type": "code",
   "execution_count": 39,
   "metadata": {
    "ExecuteTime": {
     "end_time": "2021-06-09T11:24:10.545747Z",
     "start_time": "2021-06-09T11:24:07.232614Z"
    }
   },
   "outputs": [],
   "source": [
    "dfjv=pd.read_csv('../predictions/jv_0406.csv').sort_values('event_no')\n",
    "dfjbs=pd.read_csv('../predictions/GraphSageFullOscNext.csv').sort_values('event_no')"
   ]
  },
  {
   "cell_type": "code",
   "execution_count": 68,
   "metadata": {
    "ExecuteTime": {
     "end_time": "2021-06-09T11:35:20.555804Z",
     "start_time": "2021-06-09T11:35:20.521897Z"
    }
   },
   "outputs": [],
   "source": [
    "x=np.hstack([dfjv['zenith_pred'],dfjbs['zenith_pred']]).reshape(len(dfjv['zenith_pred']), 2)\n",
    "y=dfjbs['zenith'].to_numpy()"
   ]
  },
  {
   "cell_type": "code",
   "execution_count": null,
   "metadata": {
    "ExecuteTime": {
     "start_time": "2021-06-09T11:54:37.308Z"
    }
   },
   "outputs": [
    {
     "name": "stdout",
     "output_type": "stream",
     "text": [
      "Epoch 1/10\n",
      "1522/1522 [==============================] - 15s 9ms/step - loss: 0.4833\n",
      "Epoch 2/10\n",
      "1522/1522 [==============================] - 13s 9ms/step - loss: 0.4407\n",
      "Epoch 3/10\n",
      "1522/1522 [==============================] - 15s 10ms/step - loss: 0.4406\n",
      "Epoch 4/10\n",
      " 569/1522 [==========>...................] - ETA: 9s - loss: 0.4406"
     ]
    }
   ],
   "source": [
    "val=int(1e5)\n",
    "hidden=64\n",
    "model = tf.keras.Sequential()\n",
    "for i in range(3):\n",
    "    model.add(tf.keras.layers.Dense(hidden))\n",
    "model.add(Dense(32))\n",
    "model.add(Dense(1))\n",
    "model.compile(optimizer='Adam', loss='mse')\n",
    "# This builds the model for the first time:\n",
    "model.fit(x[val:], y[val:], batch_size=1024, epochs=10)"
   ]
  },
  {
   "cell_type": "code",
   "execution_count": 76,
   "metadata": {
    "ExecuteTime": {
     "end_time": "2021-06-09T11:54:06.156855Z",
     "start_time": "2021-06-09T11:54:00.926853Z"
    }
   },
   "outputs": [],
   "source": [
    "yreco=model.predict(x[:val])\n",
    "ytrue=y[:val]"
   ]
  },
  {
   "cell_type": "code",
   "execution_count": 77,
   "metadata": {
    "ExecuteTime": {
     "end_time": "2021-06-09T11:54:06.726365Z",
     "start_time": "2021-06-09T11:54:06.158850Z"
    }
   },
   "outputs": [
    {
     "data": {
      "image/png": "[encoded data removed]",
      "text/plain": [
       "<Figure size 432x288 with 1 Axes>"
      ]
     },
     "metadata": {
      "needs_background": "light"
     },
     "output_type": "display_data"
    }
   ],
   "source": [
    "res=(abs(yreco.T-ytrue)).T\n",
    "plt.hist(res, bins=100);\n",
    "plt.hist(abs(yreco.flatten()), bins=100);\n",
    "# plt.hist(ytrue, bins=100);"
   ]
  },
  {
   "cell_type": "code",
   "execution_count": null,
   "metadata": {},
   "outputs": [],
   "source": []
  }
 ],
 "metadata": {
  "hide_input": false,
  "kernelspec": {
   "display_name": "Python 3",
   "language": "python",
   "name": "python3"
  },
  "language_info": {
   "codemirror_mode": {
    "name": "ipython",
    "version": 3
   },
   "file_extension": ".py",
   "mimetype": "text/x-python",
   "name": "python",
   "nbconvert_exporter": "python",
   "pygments_lexer": "ipython3",
   "version": "3.8.5"
  }
 },
 "nbformat": 4,
 "nbformat_minor": 4
}
