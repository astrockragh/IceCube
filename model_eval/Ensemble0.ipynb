{
 "cells": [
  {
   "cell_type": "code",
   "execution_count": 1,
   "metadata": {
    "ExecuteTime": {
     "end_time": "2021-06-09T14:01:57.281716Z",
     "start_time": "2021-06-09T14:01:51.535501Z"
    }
   },
   "outputs": [
    {
     "name": "stdout",
     "output_type": "stream",
     "text": [
      "GPU detected\n"
     ]
    }
   ],
   "source": [
    "import os, sys, argparse, importlib, time, inspect\n",
    "import numpy as np\n",
    "import matplotlib.pyplot as plt\n",
    "import os.path as osp\n",
    "from tqdm.notebook import tqdm\n",
    "os.environ['TF_CPP_MIN_LOG_LEVEL'] = '2' \n",
    "import tensorflow as tf\n",
    "import tensorflow_probability as tfp\n",
    "\n",
    "gpu_devices = tf.config.list_physical_devices('GPU') \n",
    "if len(gpu_devices) > 0:\n",
    "    print(\"GPU detected\")\n",
    "    for i in range(len(gpu_devices)):\n",
    "        tf.config.experimental.set_memory_growth(gpu_devices[i], True)\n",
    "else:\n",
    "    print('No GPU detected')\n",
    "\n",
    "from tensorflow.keras.optimizers import Adam\n",
    "from tensorflow.keras.losses import MeanSquaredError\n",
    "from tensorflow.keras import Sequential\n",
    "from tensorflow.keras.layers import Dense, BatchNormalization\n",
    "\n",
    "import pandas as pd"
   ]
  },
  {
   "cell_type": "code",
   "execution_count": 144,
   "metadata": {
    "ExecuteTime": {
     "end_time": "2021-06-09T13:58:29.303942Z",
     "start_time": "2021-06-09T13:58:25.034369Z"
    }
   },
   "outputs": [],
   "source": [
    "dfjv=pd.read_csv('../predictions/long_3D.csv').sort_values('event_no')\n",
    "dfjbs=pd.read_csv('../predictions/current_best_predictions.csv').sort_values('event_no')"
   ]
  },
  {
   "cell_type": "code",
   "execution_count": 145,
   "metadata": {
    "ExecuteTime": {
     "end_time": "2021-06-09T13:58:30.692970Z",
     "start_time": "2021-06-09T13:58:30.629103Z"
    }
   },
   "outputs": [],
   "source": [
    "x=pd.concat([dfjv['zenith_pred'], dfjv['angle_kap'], dfjv['energy_log10_pred'], dfjbs['zenith_pred'], dfjbs['zenith_kap'], dfjbs['energy_log10_pred']], axis=1)\n",
    "y=dfjbs['zenith'].to_numpy()"
   ]
  },
  {
   "cell_type": "code",
   "execution_count": null,
   "metadata": {
    "ExecuteTime": {
     "start_time": "2021-06-09T14:01:21.307Z"
    }
   },
   "outputs": [],
   "source": [
    "val=int(1e5)\n",
    "hidden=64\n",
    "model = tf.keras.Sequential()\n",
    "for i in range(3):\n",
    "    model.add(tf.keras.layers.Dense(hidden*i))\n",
    "    model.add(BatchNormalization())\n",
    "model.add(Dense(32))\n",
    "model.add(BatchNormalization())\n",
    "model.add(Dense(1))\n",
    "model.compile(optimizer='Adam', loss='mse', metrics='mae')\n",
    "# This builds the model for the first time:\n",
    "# model.fit(x[val:], y[val:], batch_size=1024, epochs=5)\n",
    "model.fit(x, y, batch_size=1024, epochs=1)\n",
    "\n",
    "model.summary()"
   ]
  },
  {
   "cell_type": "code",
   "execution_count": null,
   "metadata": {
    "ExecuteTime": {
     "start_time": "2021-06-09T14:01:23.530Z"
    }
   },
   "outputs": [],
   "source": [
    "yreco=model.predict(x[:val])\n",
    "ytrue=y[:val]"
   ]
  },
  {
   "cell_type": "code",
   "execution_count": null,
   "metadata": {
    "ExecuteTime": {
     "start_time": "2021-06-09T14:01:23.977Z"
    }
   },
   "outputs": [],
   "source": [
    "res=(abs(yreco.T-ytrue)).T\n",
    "plt.hist(res, bins=100);\n",
    "plt.hist(abs(yreco.flatten()), bins=100);\n",
    "plt.hist(np.mean(x[:val], axis=1), alpha=0.4, bins=100);\n",
    "plt.hist(ytrue, bins=100, alpha=0.4);"
   ]
  },
  {
   "cell_type": "code",
   "execution_count": null,
   "metadata": {},
   "outputs": [],
   "source": []
  }
 ],
 "metadata": {
  "hide_input": false,
  "kernelspec": {
   "display_name": "Python 3",
   "language": "python",
   "name": "python3"
  },
  "language_info": {
   "codemirror_mode": {
    "name": "ipython",
    "version": 3
   },
   "file_extension": ".py",
   "mimetype": "text/x-python",
   "name": "python",
   "nbconvert_exporter": "python",
   "pygments_lexer": "ipython3",
   "version": "3.8.5"
  }
 },
 "nbformat": 4,
 "nbformat_minor": 4
}
