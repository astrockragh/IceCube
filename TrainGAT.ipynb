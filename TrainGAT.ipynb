{
 "cells": [
  {
   "cell_type": "code",
   "execution_count": 1,
   "metadata": {
    "ExecuteTime": {
     "end_time": "2021-03-09T19:30:09.743770Z",
     "start_time": "2021-03-09T19:30:04.375205Z"
    }
   },
   "outputs": [
    {
     "name": "stdout",
     "output_type": "stream",
     "text": [
      "Notebook\n",
      "GPU detected\n"
     ]
    }
   ],
   "source": [
    "import os, sys, argparse, importlib, time, inspect\n",
    "import numpy as np\n",
    "import matplotlib.pyplot as plt\n",
    "import os.path as osp\n",
    "if hasattr(__builtins__,'__IPYTHON__'):\n",
    "    print('Notebook')\n",
    "    from tqdm.notebook import tqdm\n",
    "else:\n",
    "    print('Not notebook')\n",
    "    from tqdm import tqdm\n",
    "from tensorflow.keras import backend as K\n",
    "os.environ['TF_CPP_MIN_LOG_LEVEL'] = '2' \n",
    "import tensorflow as tf\n",
    "import tensorflow_probability as tfp\n",
    "\n",
    "gpu_devices = tf.config.list_physical_devices('GPU') \n",
    "if len(gpu_devices) > 0:\n",
    "    print(\"GPU detected\")\n",
    "    tf.config.experimental.set_memory_growth(gpu_devices[0], True)\n",
    "else:\n",
    "    print('No GPU detected')\n",
    "\n",
    "from tensorflow.keras.optimizers import Adam\n",
    "from tensorflow.keras.losses import MeanSquaredError\n",
    "from tensorflow.keras.models import load_model, Model\n",
    "import spektral\n",
    "\n",
    "from spektral.data import DisjointLoader, BatchLoader, SingleLoader\n",
    "from importlib import reload\n",
    "import winsound\n",
    "import dill, wandb\n",
    "import datetime as dt\n",
    "wandblog=0\n",
    "if wandblog:\n",
    "    !wandb login b5b917a9390932e56fccfcbff6f528ccd85c44bf\n",
    "run_counter=0"
   ]
  },
  {
   "cell_type": "code",
   "execution_count": 2,
   "metadata": {
    "ExecuteTime": {
     "end_time": "2021-03-09T19:30:09.752711Z",
     "start_time": "2021-03-09T19:30:09.745729Z"
    }
   },
   "outputs": [
    {
     "data": {
      "text/plain": [
       "('2.4.1', '1.0.3')"
      ]
     },
     "execution_count": 2,
     "metadata": {},
     "output_type": "execute_result"
    }
   ],
   "source": [
    "tf.__version__, spektral.__version__"
   ]
  },
  {
   "cell_type": "code",
   "execution_count": 3,
   "metadata": {
    "ExecuteTime": {
     "end_time": "2021-03-09T19:30:09.762709Z",
     "start_time": "2021-03-09T19:30:09.755701Z"
    }
   },
   "outputs": [],
   "source": [
    "################################################\n",
    "# Setup Deafult Variables                       # \n",
    "################################################\n",
    "learning_rate = 5e-4\n",
    "batch_size    = 512\n",
    "epochs        = 20\n",
    "n_data       = 1e4\n",
    "scenario    = \"GAT_test\"+str(run_counter)\n",
    "patience = 5\n",
    "\n",
    "################################################\n",
    "# Setup Hyperparameters                        # \n",
    "################################################\n",
    "hidden_states = 'N/A'\n",
    "forward       = False\n",
    "dropout       = 'None'\n",
    "loss_method   = \"loss_func_linear_angle\"\n",
    "n_neighbors   = 6 # SKRIV SELV IND"
   ]
  },
  {
   "cell_type": "code",
   "execution_count": 4,
   "metadata": {
    "ExecuteTime": {
     "end_time": "2021-03-09T19:30:20.908593Z",
     "start_time": "2021-03-09T19:30:09.763679Z"
    }
   },
   "outputs": [
    {
     "name": "stdout",
     "output_type": "stream",
     "text": [
      "Removed and ready to reload\n",
      "Connecting to db-file\n",
      "Loading Muons\n",
      "Reading files\n",
      "Splitting data to events\n",
      "   energy_log10  direction_x  direction_y  direction_z\n",
      "0      2.311812    -0.865731     0.296605    -0.403157\n",
      "1      3.433424     0.880773    -0.310683    -0.357373\n",
      "2      2.582473    -0.100173     0.485243    -0.868622\n",
      "3      2.783172    -0.297639     0.579176    -0.758924\n",
      "4      2.531798    -0.523105     0.089420    -0.847565\n",
      "Generating adjacency matrices\n"
     ]
    },
    {
     "name": "stderr",
     "output_type": "stream",
     "text": [
      "C:\\Users\\chris\\anaconda3\\lib\\site-packages\\sklearn\\utils\\deprecation.py:143: FutureWarning: The sklearn.preprocessing.data module is  deprecated in version 0.22 and will be removed in version 0.24. The corresponding classes / functions should instead be imported from sklearn.preprocessing. Anything that cannot be imported from sklearn.preprocessing is now part of the private API.\n",
      "  warnings.warn(message, FutureWarning)\n",
      "C:\\Users\\chris\\anaconda3\\lib\\site-packages\\sklearn\\base.py:329: UserWarning: Trying to unpickle estimator RobustScaler from version 0.19.1 when using version 0.23.2. This might lead to breaking code or invalid results. Use at your own risk.\n",
      "  warnings.warn(\n"
     ]
    },
    {
     "data": {
      "application/vnd.jupyter.widget-view+json": {
       "model_id": "2809a9f9a91b44cd984bea73611dbb82",
       "version_major": 2,
       "version_minor": 0
      },
      "text/plain": [
       "HBox(children=(HTML(value=''), FloatProgress(value=0.0, max=10000.0), HTML(value='')))"
      ]
     },
     "metadata": {},
     "output_type": "display_data"
    },
    {
     "name": "stdout",
     "output_type": "stream",
     "text": [
      "\n",
      "Saving dataset\n",
      "Loading data to memory\n"
     ]
    }
   ],
   "source": [
    "################################################\n",
    "# Load data                      # \n",
    "################################################\n",
    "import data_load as dl\n",
    "reload(dl)\n",
    "graph_data=dl.graph_data\n",
    "dataset=graph_data(n_data=n_data, restart=1, transform=True, skip=0)\n",
    "idx_lists = dataset.index_lists\n",
    "# Split data\n",
    "dataset_train = dataset[idx_lists[0]]\n",
    "dataset_val   = dataset[idx_lists[1]]\n",
    "dataset_test  = dataset[idx_lists[2]]\n",
    "\n",
    "loader_train = DisjointLoader(dataset_train, epochs=epochs, batch_size=batch_size) # the different loaders work very very differently, beware\n",
    "loader_test = DisjointLoader(dataset_test, batch_size=batch_size, epochs=1)\n",
    "\n",
    "winsound.Beep(400,300)"
   ]
  },
  {
   "cell_type": "code",
   "execution_count": 5,
   "metadata": {
    "ExecuteTime": {
     "end_time": "2021-03-09T19:30:20.916578Z",
     "start_time": "2021-03-09T19:30:20.910595Z"
    },
    "code_folding": [
     0
    ]
   },
   "outputs": [],
   "source": [
    "# from evals import metricsxpos3 as metrics\n",
    "\n",
    "# def test_angle(loader, plot=True):\n",
    "#     '''Function to test and plot performance of Graph DL\n",
    "#     input should be dom pos x,y,z , time, charge(log10)\n",
    "#     target should be energy(log10),zenith angle, azimuthal angle, NOT unit vec \n",
    "#     '''\n",
    "#     loss = 0\n",
    "#     prediction_list, target_list = [], []\n",
    "#     for batch in loader:\n",
    "#         inputs, targets = batch\n",
    "#         inputs[0][:, :3] = inputs[0][:, :3] / 1000 #always pay attention to these two normalizations\n",
    "#         predictions, targets, out = test_step(inputs, targets)\n",
    "#         loss           += out\n",
    "        \n",
    "#         prediction_list.append(predictions)\n",
    "#         target_list.append(targets)\n",
    "\n",
    "#     y_reco  = tf.concat(prediction_list, axis = 0).numpy()\n",
    "#     y_true  = tf.concat(target_list, axis = 0)\n",
    "#     y_true  = tf.cast(y_true, tf.float32).numpy()\n",
    "\n",
    "#     energy = y_true[:, 0]\n",
    "#     counts, bins = np.histogram(energy, bins = 10)\n",
    "\n",
    "#     xs = (bins[1:] + bins[: -1]) / 2\n",
    "\n",
    "#     w_energies, u_angles = [], []\n",
    "\n",
    "#     for i in range(len(bins)-1):\n",
    "#         idx = np.logical_and(energy > bins[i], energy < bins[i + 1])\n",
    "\n",
    "#         w, u_angle = metrics(y_true[idx, :], y_reco[idx, :])\n",
    "\n",
    "#         w_energies.append(w)\n",
    "#         u_angles.append(u_angle)\n",
    "\n",
    "#     if plot:\n",
    "#         fig, ax = plt.subplots(ncols = 2, nrows = 1, figsize = (12, 6))\n",
    "\n",
    "#         for a in ax:\n",
    "#             a_ = a.twinx()\n",
    "#             a_.step(xs, counts, color = \"gray\", zorder = 10, alpha = 0.7, where = \"mid\")\n",
    "#             a_.set_yscale(\"log\")\n",
    "#             a.set_xlabel(\"Log Energy\")\n",
    "        \n",
    "#         ax_top = ax\n",
    "\n",
    "#         # Energy reconstruction\n",
    "#         ax_top[0].scatter(xs, w_energies)\n",
    "#         ax_top[0].set_title(\"Energy Performance\")\n",
    "#         ax_top[0].set_ylabel(r\"$w(\\Delta log(E)$\")\n",
    "\n",
    "#         # Angle reconstruction\n",
    "#         ax_top[1].scatter(xs, u_angles)\n",
    "#         ax_top[1].set_title(\"Angle Performance\")\n",
    "#         ax_top[1].set_ylabel(r\"$u(\\Delta \\Omega)$\")\n",
    "\n",
    "#         return fig, ax"
   ]
  },
  {
   "cell_type": "code",
   "execution_count": 6,
   "metadata": {
    "ExecuteTime": {
     "end_time": "2021-03-09T19:30:20.929542Z",
     "start_time": "2021-03-09T19:30:20.920566Z"
    }
   },
   "outputs": [],
   "source": [
    "if wandblog:\n",
    "    #checks\n",
    "    wandb.init(project=\"icecube\", name=scenario,entity=\"chri862z\")\n",
    "\n",
    "    # Declare for log\n",
    "    wandb.config.hidden_states = hidden_states\n",
    "    wandb.config.hidden_states = n_data\n",
    "    wandb.config.forward = forward\n",
    "    wandb.config.dropout = dropout\n",
    "    wandb.config.learning_rate = learning_rate\n",
    "    wandb.config.batch_size = batch_size\n",
    "    wandb.config.loss_func = loss_method\n",
    "    wandb.config.n_neighbors = n_neighbors\n",
    "    wandb.config.optimizer = 'Adam'"
   ]
  },
  {
   "cell_type": "code",
   "execution_count": 7,
   "metadata": {
    "ExecuteTime": {
     "end_time": "2021-03-09T19:30:22.365173Z",
     "start_time": "2021-03-09T19:30:20.931535Z"
    }
   },
   "outputs": [],
   "source": [
    "################################################\n",
    "# Load Model and do checks                      # \n",
    "################################################\n",
    "# import models.GCN0 as m\n",
    "import models.GCN_johann as m\n",
    "reload(m)\n",
    "# model=m.GCN0(6)\n",
    "model=m.model()\n",
    "import evals as evals\n",
    "reload(evals)\n",
    "metrics=evals.metricsxpos3\n",
    "# model.compile('adam', 'categorical_crossentropy') ## this is a basic setup with predetermined optimizers and so on"
   ]
  },
  {
   "cell_type": "code",
   "execution_count": 8,
   "metadata": {
    "ExecuteTime": {
     "end_time": "2021-03-09T19:30:22.403107Z",
     "start_time": "2021-03-09T19:30:22.367167Z"
    }
   },
   "outputs": [],
   "source": [
    "# ################################################\n",
    "# # Setup functions                            # \n",
    "# ################################################\n",
    "import loss.loss_funcs as loss_funcs\n",
    "reload(loss_funcs)\n",
    "loss_func=loss_funcs.loss_funcunit\n",
    "\n",
    "def lr_schedule(epochs = epochs, initial = learning_rate, decay = 0.9):\n",
    "    n = 1\n",
    "    lr = initial\n",
    "    yield lr\n",
    "    while n < 3:\n",
    "        lr *= 2\n",
    "        n  += 1\n",
    "        yield lr\n",
    "    while True:\n",
    "        lr *= decay\n",
    "        n  += 1 \n",
    "        yield lr\n",
    "\n",
    "\n",
    "#make functions into tf functions\n",
    "alist0 = tf.TensorArray(dtype=tf.float32, size=0, dynamic_size=True)\n",
    "@tf.function(input_signature = loader_train.tf_signature(), experimental_relax_shapes = True)\n",
    "def train_step(inputs, targets, alist=alist0):\n",
    "    with tf.GradientTape() as tape:\n",
    "        predictions = model(inputs, training = True)\n",
    "        targets     = tf.cast(targets, tf.float32)\n",
    "        loss        = loss_func(predictions, targets)\n",
    "        loss       += sum(model.losses)\n",
    "#     alist=tf.concat(alist, alpha) \n",
    "    gradients = tape.gradient(loss, model.trainable_variables)\n",
    "    opt.apply_gradients(zip(gradients, model.trainable_variables))\n",
    "    return loss\n",
    "\n",
    "@tf.function(input_signature = loader_test.tf_signature(), experimental_relax_shapes = True)\n",
    "def test_step(inputs, targets):\n",
    "    predictions = model(inputs, training = False)\n",
    "    targets     = tf.cast(targets, tf.float32) \n",
    "    out         = loss_func(predictions, targets)\n",
    "\n",
    "    return predictions, targets, out\n",
    "\n",
    "\n",
    "def validation(loader):\n",
    "    loss = 0\n",
    "    prediction_list, target_list = [], []\n",
    "    for batch in loader:\n",
    "        inputs, targets = batch\n",
    "        inputs[0][:, :3] = inputs[0][:, :3] / 1000\n",
    "#         inputs[0][:, 3] = inputs[0][:, 3] / 1000\n",
    "        # targets[:, 1:4] = targets[:, 1:4] / 1000\n",
    "        predictions, targets, out = test_step(inputs, targets)\n",
    "        loss           += out\n",
    "        \n",
    "        prediction_list.append(predictions)\n",
    "        target_list.append(targets)\n",
    "    \n",
    "    y_reco  = tf.concat(prediction_list, axis = 0)\n",
    "    y_true  = tf.concat(target_list, axis = 0)\n",
    "    y_true  = tf.cast(y_true, tf.float32)\n",
    "\n",
    "    # w_energy, u_pos, u_angle = metrics(y_reco, y_true) #still missing something\n",
    "    loss, losses = loss_func(y_reco, y_true, re=True)\n",
    "\n",
    "    return loss, losses, metrics(y_reco, y_true)\n",
    "\n",
    "\n",
    "\n",
    "opt = Adam(learning_rate)"
   ]
  },
  {
   "cell_type": "code",
   "execution_count": 9,
   "metadata": {
    "ExecuteTime": {
     "end_time": "2021-03-09T19:31:58.331594Z",
     "start_time": "2021-03-09T19:30:22.405066Z"
    },
    "scrolled": false
   },
   "outputs": [
    {
     "data": {
      "application/vnd.jupyter.widget-view+json": {
       "model_id": "2b4bace2001c4dce940513f15fb2bb05",
       "version_major": 2,
       "version_minor": 0
      },
      "text/plain": [
       "HBox(children=(HTML(value=''), FloatProgress(value=0.0, max=20.0), HTML(value='')))"
      ]
     },
     "metadata": {},
     "output_type": "display_data"
    },
    {
     "data": {
      "application/vnd.jupyter.widget-view+json": {
       "model_id": "7547f3a20f004a22a0b9bb2963811b9f",
       "version_major": 2,
       "version_minor": 0
      },
      "text/plain": [
       "HBox(children=(HTML(value=''), FloatProgress(value=0.0, max=16.0), HTML(value='')))"
      ]
     },
     "metadata": {},
     "output_type": "display_data"
    },
    {
     "name": "stdout",
     "output_type": "stream",
     "text": [
      "Model: \"model\"\n",
      "_________________________________________________________________\n",
      "Layer (type)                 Output Shape              Param #   \n",
      "=================================================================\n",
      "ecc_conv (ECCConv)           multiple                  29696     \n",
      "_________________________________________________________________\n",
      "gcn_conv (GCNConv)           multiple                  4096      \n",
      "_________________________________________________________________\n",
      "gcn_conv_1 (GCNConv)         multiple                  8192      \n",
      "_________________________________________________________________\n",
      "gcn_conv_2 (GCNConv)         multiple                  32768     \n",
      "_________________________________________________________________\n",
      "gcn_conv_3 (GCNConv)         multiple                  131072    \n",
      "_________________________________________________________________\n",
      "global_max_pool (GlobalMaxPo multiple                  0         \n",
      "_________________________________________________________________\n",
      "global_avg_pool (GlobalAvgPo multiple                  0         \n",
      "_________________________________________________________________\n",
      "global_sum_pool (GlobalSumPo multiple                  0         \n",
      "_________________________________________________________________\n",
      "dense (Dense)                multiple                  1573888   \n",
      "_________________________________________________________________\n",
      "dense_1 (Dense)              multiple                  524800    \n",
      "_________________________________________________________________\n",
      "dense_2 (Dense)              multiple                  131328    \n",
      "_________________________________________________________________\n",
      "dense_3 (Dense)              multiple                  32896     \n",
      "_________________________________________________________________\n",
      "dense_4 (Dense)              multiple                  16512     \n",
      "_________________________________________________________________\n",
      "batch_normalization (BatchNo multiple                  4096      \n",
      "_________________________________________________________________\n",
      "batch_normalization_1 (Batch multiple                  2048      \n",
      "_________________________________________________________________\n",
      "batch_normalization_2 (Batch multiple                  1024      \n",
      "_________________________________________________________________\n",
      "batch_normalization_3 (Batch multiple                  512       \n",
      "_________________________________________________________________\n",
      "batch_normalization_4 (Batch multiple                  512       \n",
      "_________________________________________________________________\n",
      "dense_5 (Dense)              multiple                  516       \n",
      "=================================================================\n",
      "Total params: 2,493,956\n",
      "Trainable params: 2,489,860\n",
      "Non-trainable params: 4,096\n",
      "_________________________________________________________________\n",
      "Epoch 1 of 20 done in 14.82 seconds using learning rate: 1.00E-04\n",
      "Avg loss of train: 3.892158\n",
      "[1000 3] [1000 3]\n",
      "Avg loss of validation: 3.055490\n",
      "Loss from:  Energy: 2.065520 \t Angle: 0.989971 \n",
      "Energy: w = 0.483167 \t Angle: u = 68.448456\n",
      "Early stop counter: 0/5, lowest loss was 3.055490\n"
     ]
    },
    {
     "data": {
      "application/vnd.jupyter.widget-view+json": {
       "model_id": "32832b5662df41b9bcc4f16488cc4a14",
       "version_major": 2,
       "version_minor": 0
      },
      "text/plain": [
       "HBox(children=(HTML(value=''), FloatProgress(value=0.0, max=16.0), HTML(value='')))"
      ]
     },
     "metadata": {},
     "output_type": "display_data"
    },
    {
     "name": "stdout",
     "output_type": "stream",
     "text": [
      "Epoch 2 of 20 done in 11.13 seconds using learning rate: 2.00E-04\n",
      "Avg loss of train: 3.623509\n",
      "[1000 3] [1000 3]\n",
      "Avg loss of validation: 4.312655\n",
      "Loss from:  Energy: 2.602915 \t Angle: 1.709741 \n",
      "Energy: w = 0.330609 \t Angle: u = 128.735489\n",
      "Early stop counter: 1/5, lowest loss was 3.055490\n"
     ]
    },
    {
     "data": {
      "application/vnd.jupyter.widget-view+json": {
       "model_id": "05bbb2a0db0743839f3f7d28f482fe37",
       "version_major": 2,
       "version_minor": 0
      },
      "text/plain": [
       "HBox(children=(HTML(value=''), FloatProgress(value=0.0, max=16.0), HTML(value='')))"
      ]
     },
     "metadata": {},
     "output_type": "display_data"
    },
    {
     "name": "stdout",
     "output_type": "stream",
     "text": [
      "Epoch 3 of 20 done in 13.17 seconds using learning rate: 4.00E-04\n",
      "Avg loss of train: 3.457915\n",
      "[1000 3] [1000 3]\n",
      "Avg loss of validation: 4.595119\n",
      "Loss from:  Energy: 2.992236 \t Angle: 1.602883 \n",
      "Energy: w = 0.632569 \t Angle: u = 125.357986\n",
      "Early stop counter: 2/5, lowest loss was 3.055490\n"
     ]
    },
    {
     "data": {
      "application/vnd.jupyter.widget-view+json": {
       "model_id": "37aa5b4406c643009c9da14d3221ee57",
       "version_major": 2,
       "version_minor": 0
      },
      "text/plain": [
       "HBox(children=(HTML(value=''), FloatProgress(value=0.0, max=16.0), HTML(value='')))"
      ]
     },
     "metadata": {},
     "output_type": "display_data"
    },
    {
     "name": "stdout",
     "output_type": "stream",
     "text": [
      "Epoch 4 of 20 done in 15.04 seconds using learning rate: 3.60E-04\n",
      "Avg loss of train: 3.288037\n",
      "[1000 3] [1000 3]\n",
      "Avg loss of validation: 4.205562\n",
      "Loss from:  Energy: 2.845999 \t Angle: 1.359562 \n",
      "Energy: w = 0.577999 \t Angle: u = 101.334290\n",
      "Early stop counter: 3/5, lowest loss was 3.055490\n"
     ]
    },
    {
     "data": {
      "application/vnd.jupyter.widget-view+json": {
       "model_id": "4e42f33f77f9442fba8ac6d888282184",
       "version_major": 2,
       "version_minor": 0
      },
      "text/plain": [
       "HBox(children=(HTML(value=''), FloatProgress(value=0.0, max=16.0), HTML(value='')))"
      ]
     },
     "metadata": {},
     "output_type": "display_data"
    },
    {
     "name": "stdout",
     "output_type": "stream",
     "text": [
      "Epoch 5 of 20 done in 15.42 seconds using learning rate: 3.24E-04\n",
      "Avg loss of train: 3.149001\n",
      "[1000 3] [1000 3]\n",
      "Avg loss of validation: 4.258471\n",
      "Loss from:  Energy: 3.008071 \t Angle: 1.250401 \n",
      "Energy: w = 0.929198 \t Angle: u = 86.293457\n",
      "Early stop counter: 4/5, lowest loss was 3.055490\n"
     ]
    },
    {
     "data": {
      "application/vnd.jupyter.widget-view+json": {
       "model_id": "c810fa568d634c10955731a4a1b5bde9",
       "version_major": 2,
       "version_minor": 0
      },
      "text/plain": [
       "HBox(children=(HTML(value=''), FloatProgress(value=0.0, max=16.0), HTML(value='')))"
      ]
     },
     "metadata": {},
     "output_type": "display_data"
    },
    {
     "name": "stdout",
     "output_type": "stream",
     "text": [
      "Epoch 6 of 20 done in 13.30 seconds using learning rate: 2.92E-04\n",
      "Avg loss of train: 3.019034\n",
      "[1000 3] [1000 3]\n",
      "Avg loss of validation: 4.390513\n",
      "Loss from:  Energy: 3.181934 \t Angle: 1.208580 \n",
      "Energy: w = 1.042107 \t Angle: u = 77.033134\n",
      "Early stop counter: 5/5, lowest loss was 3.055490\n",
      "\n",
      "\n",
      "\n",
      "\n",
      "\n"
     ]
    },
    {
     "name": "stderr",
     "output_type": "stream",
     "text": [
      "WARNING:absl:Found untraced functions such as FGN_0_layer_call_fn, FGN_0_layer_call_and_return_conditional_losses, FGN_1_layer_call_fn, FGN_1_layer_call_and_return_conditional_losses, FGN_2_layer_call_fn while saving (showing 5 of 20). These functions will not be directly callable after loading.\n",
      "WARNING:absl:Found untraced functions such as FGN_0_layer_call_fn, FGN_0_layer_call_and_return_conditional_losses, FGN_1_layer_call_fn, FGN_1_layer_call_and_return_conditional_losses, FGN_2_layer_call_fn while saving (showing 5 of 20). These functions will not be directly callable after loading.\n"
     ]
    },
    {
     "name": "stdout",
     "output_type": "stream",
     "text": [
      "INFO:tensorflow:Assets written to: C:\\Users\\chris\\Christian\\3YR-UNI\\Bachelor\\IceCube\\trained_models/GAT_test0\\assets\n"
     ]
    },
    {
     "name": "stderr",
     "output_type": "stream",
     "text": [
      "INFO:tensorflow:Assets written to: C:\\Users\\chris\\Christian\\3YR-UNI\\Bachelor\\IceCube\\trained_models/GAT_test0\\assets\n"
     ]
    },
    {
     "name": "stdout",
     "output_type": "stream",
     "text": [
      "Stopped training. No improvement was seen in 5 epochs\n"
     ]
    }
   ],
   "source": [
    "run_counter+=1\n",
    "k=0.2\n",
    "tot_time=0\n",
    "current_batch = 0\n",
    "current_epoch = 1\n",
    "loss          = 0\n",
    "lowest_loss   = np.inf\n",
    "early_stop    = 1\n",
    "early_stop_counter    = 0\n",
    "pbar0          = tqdm(total = epochs, position = 0, leave = True)\n",
    "pbar0.set_description(f\"Epochbar\")\n",
    "pbar          = tqdm(total = loader_train.steps_per_epoch, position = k, leave = True)\n",
    "start_time    = time.time()\n",
    "lr_gen        = lr_schedule(initial=learning_rate)\n",
    "learning_Rate = next(lr_gen)\n",
    "cwd = osp.abspath('')\n",
    "save_path = osp.join(cwd, 'trained_models/'+scenario)\n",
    "if not osp.isdir(save_path):\n",
    "    os.makedirs(save_path)\n",
    "    print('New folder for saving '+scenario+' made')\n",
    "# Implement saving model archictecture to wandb\n",
    "for batch in loader_train:\n",
    "    inputs, targets = batch\n",
    "    inputs[0][:, :3] = inputs[0][:, :3] / 1000 #normalize position\n",
    "#     inputs[0][:, 3] = inputs[0][:, 3] / 1000 #normalize time\n",
    "    out             = train_step(inputs, targets)\n",
    "    loss           += out\n",
    "    if current_epoch==1 and current_batch==0:\n",
    "        model.summary()\n",
    "    \n",
    "    current_batch  += 1\n",
    "    pbar.update(1)\n",
    "    pbar.set_description(f\"Epoch {current_epoch} / {epochs}; Avg_loss: {loss / current_batch:.6f}\")\n",
    "    \n",
    "    \n",
    "    if current_batch == loader_train.steps_per_epoch:\n",
    "        t=time.time() - start_time\n",
    "        tot_time+=t\n",
    "        print(f\"Epoch {current_epoch} of {epochs} done in {t:.2f} seconds using learning rate: {learning_rate:.2E}\")\n",
    "        print(f\"Avg loss of train: {loss / loader_train.steps_per_epoch:.6f}\")\n",
    "\n",
    "        loader_val    = DisjointLoader(dataset_val, epochs = 1,      batch_size = batch_size)\n",
    "#         val_loss, val_loss_from, val_metric = validation(loader_val)\n",
    "        val_loss, val_loss_from, val_metric = validation(loader_val)\n",
    "        if wandblog:\n",
    "            wandb.log({\"Train Loss\":      loss / loader_train.steps_per_epoch,\n",
    "                       \"Validation Loss\": val_loss, \n",
    "                       \"Energy metric\":   val_metric[0],\n",
    "                       \"Angle metric\":    val_metric[1],\n",
    "                       \"Learning rate\":   learning_rate})\n",
    "\n",
    "        print(f\"Avg loss of validation: {val_loss:.6f}\")\n",
    "        print(f\"Loss from:  Energy: {val_loss_from[0]:.6f} \\t Angle: {val_loss_from[1]:.6f} \")\n",
    "        print(f\"Energy: w = {val_metric[0]:.6f} \\t Angle: u = {val_metric[1]:.6f}\")\n",
    "\n",
    "        if val_loss < lowest_loss:\n",
    "            early_stop_counter = 0\n",
    "            lowest_loss        = val_loss\n",
    "        else:\n",
    "            early_stop_counter += 1\n",
    "        print(f'Early stop counter: {early_stop_counter}/{patience}, lowest loss was {lowest_loss:.6f}')\n",
    "        if early_stop and (early_stop_counter >= patience):\n",
    "            model.save(save_path)\n",
    "            print(f\"Stopped training. No improvement was seen in {patience} epochs\")\n",
    "            break\n",
    "\n",
    "        if current_epoch != epochs:\n",
    "            pbar          = tqdm(total = loader_train.steps_per_epoch, position = k, leave = True)\n",
    "\n",
    "        learning_rate = next(lr_gen)\n",
    "        opt.learning_rate.assign(learning_rate)\n",
    "        pbar0.update(1)\n",
    "        time_avg=tot_time/current_epoch\n",
    "        delta=dt.timedelta(seconds=time_avg*(epochs-current_epoch))\n",
    "        now = dt.datetime.now()\n",
    "        then=now+delta\n",
    "        time_e = then.strftime(\"%H:%M:%S\")\n",
    "        pbar0.set_description(f\"Expect to finish at {time_e}\")\n",
    "#         if current_epoch % 10 == 0:\n",
    "#             model.save(save_path)\n",
    "#             print(\"Model saved\")\n",
    "\n",
    "        loss            = 0\n",
    "        start_time      = time.time()\n",
    "        current_epoch  += 1\n",
    "        current_batch   = 0\n",
    "winsound.Beep(400,300)"
   ]
  },
  {
   "cell_type": "code",
   "execution_count": 10,
   "metadata": {
    "ExecuteTime": {
     "end_time": "2021-03-09T19:31:59.517302Z",
     "start_time": "2021-03-09T19:31:58.331594Z"
    }
   },
   "outputs": [
    {
     "name": "stdout",
     "output_type": "stream",
     "text": [
      "lol\n",
      "lol\n"
     ]
    }
   ],
   "source": [
    "\n",
    "for batch in loader_test:\n",
    "    inputs, targets = batch\n",
    "    inputs[0][:, :3] = inputs[0][:, :3] / 1000#normalize position\n",
    "    predictions=model(inputs, training = False)\n",
    "    print('lol')"
   ]
  },
  {
   "cell_type": "code",
   "execution_count": 15,
   "metadata": {
    "ExecuteTime": {
     "end_time": "2021-03-09T19:32:06.445448Z",
     "start_time": "2021-03-09T19:32:06.273128Z"
    }
   },
   "outputs": [
    {
     "data": {
      "text/plain": [
       "(array([ 14.,  58., 126., 141.,  71.,  40.,  23.,   7.,   5.,   3.]),\n",
       " array([1.83661235, 2.04767451, 2.25873667, 2.46979884, 2.680861  ,\n",
       "        2.89192316, 3.10298533, 3.31404749, 3.52510966, 3.73617182,\n",
       "        3.94723398]),\n",
       " <BarContainer object of 10 artists>)"
      ]
     },
     "execution_count": 15,
     "metadata": {},
     "output_type": "execute_result"
    },
    {
     "data": {
      "image/png": "[encoded data removed]",
      "text/plain": [
       "<Figure size 432x288 with 1 Axes>"
      ]
     },
     "metadata": {
      "needs_background": "light"
     },
     "output_type": "display_data"
    }
   ],
   "source": [
    "plt.hist(predictions[:,0].numpy(), bins=10, alpha=0.5)\n",
    "plt.hist(targets[:,0], bins=10, alpha=0.3)"
   ]
  },
  {
   "cell_type": "code",
   "execution_count": 18,
   "metadata": {
    "ExecuteTime": {
     "end_time": "2021-03-09T19:34:47.728813Z",
     "start_time": "2021-03-09T19:34:47.258275Z"
    }
   },
   "outputs": [
    {
     "data": {
      "text/plain": [
       "(array([21., 50., 45., 58., 81., 69., 62., 49., 39., 14.]),\n",
       " array([-0.95910376, -0.76624785, -0.57339194, -0.38053603, -0.18768012,\n",
       "         0.00517579,  0.1980317 ,  0.39088761,  0.58374352,  0.77659943,\n",
       "         0.96945534]),\n",
       " <BarContainer object of 10 artists>)"
      ]
     },
     "execution_count": 18,
     "metadata": {},
     "output_type": "execute_result"
    },
    {
     "data": {
      "image/png": "[encoded data removed]",
      "text/plain": [
       "<Figure size 432x288 with 1 Axes>"
      ]
     },
     "metadata": {
      "needs_background": "light"
     },
     "output_type": "display_data"
    }
   ],
   "source": [
    "plt.hist(predictions[:,1].numpy(), bins=100)\n",
    "plt.hist(targets[:,1], bins=10, alpha=0.5)"
   ]
  },
  {
   "cell_type": "code",
   "execution_count": 19,
   "metadata": {
    "ExecuteTime": {
     "end_time": "2021-03-09T19:35:06.171211Z",
     "start_time": "2021-03-09T19:35:05.808081Z"
    }
   },
   "outputs": [
    {
     "data": {
      "text/plain": [
       "(array([424.,  36.,  13.,   7.,   2.,   1.,   3.,   0.,   1.,   1.]),\n",
       " array([-1.2890164,  2.9558837,  7.2007837, 11.4456835, 15.690584 ,\n",
       "        19.935484 , 24.180384 , 28.425283 , 32.670185 , 36.915085 ,\n",
       "        41.159985 ], dtype=float32),\n",
       " <BarContainer object of 10 artists>)"
      ]
     },
     "execution_count": 19,
     "metadata": {},
     "output_type": "execute_result"
    },
    {
     "data": {
      "image/png": "[encoded data removed]",
      "text/plain": [
       "<Figure size 432x288 with 1 Axes>"
      ]
     },
     "metadata": {
      "needs_background": "light"
     },
     "output_type": "display_data"
    }
   ],
   "source": [
    "plt.hist(predictions[:,3].numpy(), bins=10)\n",
    "# plt.hist(target[], bins=10)"
   ]
  },
  {
   "cell_type": "code",
   "execution_count": 14,
   "metadata": {
    "ExecuteTime": {
     "end_time": "2021-03-09T19:32:01.648955Z",
     "start_time": "2021-03-09T19:32:00.119138Z"
    }
   },
   "outputs": [
    {
     "ename": "NameError",
     "evalue": "name 'test_angle' is not defined",
     "output_type": "error",
     "traceback": [
      "\u001b[1;31m---------------------------------------------------------------------------\u001b[0m",
      "\u001b[1;31mNameError\u001b[0m                                 Traceback (most recent call last)",
      "\u001b[1;32m<ipython-input-14-ae02af623832>\u001b[0m in \u001b[0;36m<module>\u001b[1;34m\u001b[0m\n\u001b[1;32m----> 1\u001b[1;33m \u001b[0mfig\u001b[0m\u001b[1;33m,\u001b[0m \u001b[0max\u001b[0m \u001b[1;33m=\u001b[0m \u001b[0mtest_angle\u001b[0m\u001b[1;33m(\u001b[0m\u001b[0mloader_test\u001b[0m\u001b[1;33m)\u001b[0m\u001b[1;33m\u001b[0m\u001b[1;33m\u001b[0m\u001b[0m\n\u001b[0m\u001b[0;32m      2\u001b[0m \u001b[1;32mif\u001b[0m \u001b[0mwandblog\u001b[0m\u001b[1;33m:\u001b[0m\u001b[1;33m\u001b[0m\u001b[1;33m\u001b[0m\u001b[0m\n\u001b[0;32m      3\u001b[0m     \u001b[0mfig\u001b[0m\u001b[1;33m.\u001b[0m\u001b[0msavefig\u001b[0m\u001b[1;33m(\u001b[0m\u001b[1;34mf\"model_tests/{scenario}_test.pdf\"\u001b[0m\u001b[1;33m)\u001b[0m\u001b[1;33m\u001b[0m\u001b[1;33m\u001b[0m\u001b[0m\n",
      "\u001b[1;31mNameError\u001b[0m: name 'test_angle' is not defined"
     ]
    }
   ],
   "source": [
    "fig, ax = test_angle(loader_test)\n",
    "if wandblog:\n",
    "    fig.savefig(f\"model_tests/{scenario}_test.pdf\")"
   ]
  },
  {
   "cell_type": "code",
   "execution_count": null,
   "metadata": {
    "ExecuteTime": {
     "end_time": "2021-03-09T19:32:01.649953Z",
     "start_time": "2021-03-09T19:30:04.401Z"
    }
   },
   "outputs": [],
   "source": [
    "################################################\n",
    "# Evaluating our model                 # \n",
    "################################################\n",
    "\n",
    "trainable_count = int(\n",
    "    np.sum([K.count_params(p) for p in model.trainable_weights]))\n",
    "non_trainable_count = int(\n",
    "    np.sum([K.count_params(p) for p in model.non_trainable_weights]))\n",
    "\n",
    "print('Total params: {:,}'.format(trainable_count + non_trainable_count))\n",
    "print('Trainable params: {:,}'.format(trainable_count))\n",
    "print('Non-trainable params: {:,}'.format(non_trainable_count))"
   ]
  },
  {
   "cell_type": "code",
   "execution_count": null,
   "metadata": {},
   "outputs": [],
   "source": []
  }
 ],
 "metadata": {
  "hide_input": false,
  "kernelspec": {
   "display_name": "Python 3",
   "language": "python",
   "name": "python3"
  },
  "language_info": {
   "codemirror_mode": {
    "name": "ipython",
    "version": 3
   },
   "file_extension": ".py",
   "mimetype": "text/x-python",
   "name": "python",
   "nbconvert_exporter": "python",
   "pygments_lexer": "ipython3",
   "version": "3.8.5"
  }
 },
 "nbformat": 4,
 "nbformat_minor": 4
}
