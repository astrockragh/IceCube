{
 "cells": [
  {
   "cell_type": "code",
   "execution_count": 9,
   "metadata": {
    "ExecuteTime": {
     "end_time": "2021-04-23T15:08:09.393025Z",
     "start_time": "2021-04-23T15:08:09.314692Z"
    }
   },
   "outputs": [
    {
     "name": "stdout",
     "output_type": "stream",
     "text": [
      "Notebook\n",
      "GPU detected\n"
     ]
    }
   ],
   "source": [
    "import os, sys, argparse, importlib, time, inspect\n",
    "import numpy as np\n",
    "import matplotlib.pyplot as plt\n",
    "import os.path as osp\n",
    "if hasattr(__builtins__,'__IPYTHON__'):\n",
    "    print('Notebook')\n",
    "    from tqdm.notebook import tqdm\n",
    "else:\n",
    "    print('Not notebook')\n",
    "    from tqdm import tqdm\n",
    "from tensorflow.keras import backend as K\n",
    "os.environ['TF_CPP_MIN_LOG_LEVEL'] = '2' \n",
    "import tensorflow as tf\n",
    "import tensorflow_probability as tfp\n",
    "\n",
    "gpu_devices = tf.config.list_physical_devices('GPU') \n",
    "if len(gpu_devices) > 0:\n",
    "    print(\"GPU detected\")\n",
    "    tf.config.experimental.set_memory_growth(gpu_devices[0], True)\n",
    "else:\n",
    "    print('No GPU detected')\n",
    "\n",
    "from tensorflow.keras.optimizers import Adam\n",
    "from tensorflow.keras.losses import MeanSquaredError\n",
    "from tensorflow.keras.models import load_model, Model\n",
    "import spektral\n",
    "from sklearn.preprocessing import normalize\n",
    "from spektral.data import DisjointLoader, BatchLoader, SingleLoader\n",
    "from importlib import reload\n",
    "import winsound\n",
    "import dill, wandb\n",
    "import datetime as dt\n",
    "wandblog=0\n",
    "if wandblog:\n",
    "    !wandb login b5b917a9390932e56fccfcbff6f528ccd85c44bf\n",
    "run_counter=0"
   ]
  },
  {
   "cell_type": "code",
   "execution_count": 10,
   "metadata": {
    "ExecuteTime": {
     "end_time": "2021-04-23T15:08:09.641251Z",
     "start_time": "2021-04-23T15:08:09.620305Z"
    }
   },
   "outputs": [
    {
     "data": {
      "text/plain": [
       "('2.4.1', '1.0.3')"
      ]
     },
     "execution_count": 10,
     "metadata": {},
     "output_type": "execute_result"
    }
   ],
   "source": [
    "tf.__version__, spektral.__version__"
   ]
  },
  {
   "cell_type": "code",
   "execution_count": 11,
   "metadata": {
    "ExecuteTime": {
     "end_time": "2021-04-23T15:08:09.999024Z",
     "start_time": "2021-04-23T15:08:09.983068Z"
    }
   },
   "outputs": [],
   "source": [
    "################################################\n",
    "# Setup Deafult Variables                       # \n",
    "################################################\n",
    "learning_rate = 5e-4\n",
    "batch_size    = 512/4\n",
    "epochs        = 20\n",
    "n_data       = 1e4\n",
    "scenario    = \"GAT_test\"+str(run_counter)\n",
    "patience = 20\n",
    "\n",
    "################################################\n",
    "# Setup Hyperparameters                        # \n",
    "################################################\n",
    "hidden_states = 'N/A'\n",
    "forward       = False\n",
    "dropout       = 'None'\n",
    "loss_method   = \"loss_func_linear_angle\"\n",
    "n_neighbors   = 6 # SKRIV SELV IND"
   ]
  },
  {
   "cell_type": "code",
   "execution_count": 12,
   "metadata": {
    "ExecuteTime": {
     "end_time": "2021-04-23T15:08:23.933154Z",
     "start_time": "2021-04-23T15:08:10.609424Z"
    }
   },
   "outputs": [
    {
     "name": "stdout",
     "output_type": "stream",
     "text": [
      "Not notebook\n",
      "Removed and ready to reload\n",
      "Connecting to db-file\n",
      "Loading Muons\n",
      "Reading files\n"
     ]
    },
    {
     "name": "stderr",
     "output_type": "stream",
     "text": [
      "C:\\Users\\chris\\anaconda3\\lib\\site-packages\\sklearn\\base.py:329: UserWarning: Trying to unpickle estimator RobustScaler from version 0.19.1 when using version 0.23.2. This might lead to breaking code or invalid results. Use at your own risk.\n",
      "  warnings.warn(\n",
      "  1%|▌                                                                             | 72/10000 [00:00<00:13, 718.19it/s]"
     ]
    },
    {
     "name": "stdout",
     "output_type": "stream",
     "text": [
      "Splitting data to events\n",
      "     dom_x    dom_y    dom_z      time  charge_log10  SRTInIcePulses\n",
      "0 -0.25614 -0.52108  0.29178 -0.902557     -0.088028               0\n",
      "1  0.50527  0.25788 -0.20864 -1.099296      0.378965               0\n",
      "2 -0.06670  0.27692  0.00422  0.424602      0.791982               0\n",
      "3  0.30341  0.33564  0.03637 -0.125602      1.160970               0\n",
      "4  0.30341  0.33564  0.03637 -0.114116     -1.656923               0\n",
      "   energy_log10    zenith   azimuth\n",
      "0      2.422178  0.914194  0.967663\n",
      "1      2.311812  1.155833  5.953112\n",
      "2      3.433424  1.205342  2.802480\n",
      "3      2.582473  0.518382  4.915968\n",
      "4      2.783172  0.709137  5.187095\n",
      "Generating adjacency matrices\n"
     ]
    },
    {
     "name": "stderr",
     "output_type": "stream",
     "text": [
      "100%|██████████████████████████████████████████████████████████████████████████| 10000/10000 [00:07<00:00, 1318.54it/s]\n"
     ]
    },
    {
     "name": "stdout",
     "output_type": "stream",
     "text": [
      "Saving dataset\n",
      "Loading data to memory\n"
     ]
    }
   ],
   "source": [
    "################################################\n",
    "# Load data                      # \n",
    "################################################\n",
    "\n",
    "import data_load as dl\n",
    "reload(dl)\n",
    "graph_data=dl.graph_data\n",
    "dataset=graph_data(n_data=n_data, restart=1, transform=True)\n",
    "idx_lists = dataset.index_lists\n",
    "# Split data\n",
    "dataset_train = dataset[idx_lists[0]]\n",
    "dataset_val   = dataset[idx_lists[1]]\n",
    "dataset_test  = dataset[idx_lists[2]]\n",
    "\n",
    "loader_train = DisjointLoader(dataset_train, epochs=epochs, batch_size=batch_size) # the different loaders work very very differently, beware\n",
    "loader_test = DisjointLoader(dataset_test, batch_size=batch_size, epochs=1)\n",
    "\n",
    "winsound.Beep(400,300)"
   ]
  },
  {
   "cell_type": "code",
   "execution_count": 13,
   "metadata": {
    "ExecuteTime": {
     "end_time": "2021-04-23T15:08:23.981021Z",
     "start_time": "2021-04-23T15:08:23.935144Z"
    }
   },
   "outputs": [],
   "source": [
    "from evals import metricsxpos3 as metrics\n",
    "\n",
    "def test_angle(loader, plot=True):\n",
    "    '''Function to test and plot performance of Graph DL\n",
    "    input should be dom pos x,y,z , time, charge(log10)\n",
    "    target should be energy(log10),zenith angle, azimuthal angle, NOT unit vec \n",
    "    '''\n",
    "    loss = 0\n",
    "    prediction_list, target_list = [], []\n",
    "    for batch in loader:\n",
    "        inputs, targets = batch\n",
    "        inputs[0][:, :3] = inputs[0][:, :3] / 1000 #always pay attention to these two normalizations\n",
    "        predictions, targets, out = test_step(inputs, targets)\n",
    "        loss           += out\n",
    "        \n",
    "        prediction_list.append(predictions)\n",
    "        target_list.append(targets)\n",
    "\n",
    "    y_reco  = tf.concat(prediction_list, axis = 0).numpy()\n",
    "    y_true  = tf.concat(target_list, axis = 0)\n",
    "    y_true  = tf.cast(y_true, tf.float32).numpy()\n",
    "\n",
    "    energy = y_true[:, 0]\n",
    "    counts, bins = np.histogram(energy, bins = 10)\n",
    "\n",
    "    xs = (bins[1:] + bins[: -1]) / 2\n",
    "\n",
    "    w_energies, u_angles = [], []\n",
    "\n",
    "    for i in range(len(bins)-1):\n",
    "        idx = np.logical_and(energy > bins[i], energy < bins[i + 1])\n",
    "\n",
    "        w, u_angle = metrics(y_true[idx, :], y_reco[idx, :])\n",
    "\n",
    "        w_energies.append(w)\n",
    "        u_angles.append(u_angle)\n",
    "\n",
    "    if plot:\n",
    "        fig, ax = plt.subplots(ncols = 2, nrows = 1, figsize = (12, 6))\n",
    "\n",
    "        for a in ax:\n",
    "            a_ = a.twinx()\n",
    "            a_.step(xs, counts, color = \"gray\", zorder = 10, alpha = 0.7, where = \"mid\")\n",
    "            a_.set_yscale(\"log\")\n",
    "            a.set_xlabel(\"Log Energy\")\n",
    "        \n",
    "        ax_top = ax\n",
    "\n",
    "        # Energy reconstruction\n",
    "        ax_top[0].scatter(xs, w_energies)\n",
    "        ax_top[0].set_title(\"Energy Performance\")\n",
    "        ax_top[0].set_ylabel(r\"$w(\\Delta log(E)$\")\n",
    "\n",
    "        # Angle reconstruction\n",
    "        ax_top[1].scatter(xs, u_angles)\n",
    "        ax_top[1].set_title(\"Angle Performance\")\n",
    "        ax_top[1].set_ylabel(r\"$u(\\Delta \\Omega)$\")\n",
    "\n",
    "        return fig, ax"
   ]
  },
  {
   "cell_type": "code",
   "execution_count": 14,
   "metadata": {
    "ExecuteTime": {
     "end_time": "2021-04-23T15:08:23.996978Z",
     "start_time": "2021-04-23T15:08:23.985012Z"
    }
   },
   "outputs": [],
   "source": [
    "if wandblog:\n",
    "    #checks\n",
    "    wandb.init(project=\"icecube\", name=scenario,entity=\"chri862z\")\n",
    "\n",
    "    # Declare for log\n",
    "    wandb.config.hidden_states = hidden_states\n",
    "    wandb.config.hidden_states = n_data\n",
    "    wandb.config.forward = forward\n",
    "    wandb.config.dropout = dropout\n",
    "    wandb.config.learning_rate = learning_rate\n",
    "    wandb.config.batch_size = batch_size\n",
    "    wandb.config.loss_func = loss_method\n",
    "    wandb.config.n_neighbors = n_neighbors\n",
    "    wandb.config.optimizer = 'Adam'"
   ]
  },
  {
   "cell_type": "code",
   "execution_count": 20,
   "metadata": {
    "ExecuteTime": {
     "end_time": "2021-04-23T15:09:16.963851Z",
     "start_time": "2021-04-23T15:09:14.628327Z"
    }
   },
   "outputs": [],
   "source": [
    "################################################\n",
    "# Load Model and do checks                      # \n",
    "################################################\n",
    "# import models.GCN0 as m\n",
    "import models.GCS as m\n",
    "reload(m)\n",
    "# model=m.GCN0(6)\n",
    "model=m.model()\n",
    "# model.compile('adam', 'categorical_crossentropy') ## this is a basic setup with predetermined optimizers and so on"
   ]
  },
  {
   "cell_type": "code",
   "execution_count": 24,
   "metadata": {
    "ExecuteTime": {
     "end_time": "2021-04-23T15:09:50.411681Z",
     "start_time": "2021-04-23T15:09:50.363808Z"
    }
   },
   "outputs": [],
   "source": [
    "# ################################################\n",
    "# # Setup functions                            # \n",
    "# ################################################\n",
    "import loss_funcs as loss_funcs\n",
    "reload(loss_funcs)\n",
    "loss_func=loss_funcs.loss_funcxpos2\n",
    "\n",
    "def lr_schedule(epochs = epochs, initial = learning_rate, decay = 0.9):\n",
    "    n = 1\n",
    "    lr = initial\n",
    "    yield lr\n",
    "    while n < 3:\n",
    "        lr *= 2\n",
    "        n  += 1\n",
    "        yield lr\n",
    "    while True:\n",
    "        lr *= decay\n",
    "        n  += 1 \n",
    "        yield lr\n",
    "\n",
    "\n",
    "#make functions into tf functions\n",
    "\n",
    "@tf.function(input_signature = loader_train.tf_signature(), experimental_relax_shapes = True)\n",
    "def train_step(inputs, targets):\n",
    "    with tf.GradientTape() as tape:\n",
    "        predictions = model(inputs, training = True)\n",
    "        targets     = tf.cast(targets, tf.float32)\n",
    "        loss        = loss_func(predictions, targets)\n",
    "        loss       += sum(model.losses)\n",
    "\n",
    "    gradients = tape.gradient(loss, model.trainable_variables)\n",
    "    opt.apply_gradients(zip(gradients, model.trainable_variables))\n",
    "    return loss\n",
    "\n",
    "@tf.function(input_signature = loader_test.tf_signature(), experimental_relax_shapes = True)\n",
    "def test_step(inputs, targets):\n",
    "    predictions = model(inputs, training = False)\n",
    "    targets     = tf.cast(targets, tf.float32) \n",
    "    out         = loss_func(predictions, targets)\n",
    "\n",
    "    return predictions, targets, out\n",
    "\n",
    "\n",
    "def validation(loader):\n",
    "    loss = 0\n",
    "    prediction_list, target_list = [], []\n",
    "    for batch in loader:\n",
    "        inputs, targets = batch\n",
    "        inputs[0][:, :3] = inputs[0][:, :3] / 1000\n",
    "        # inputs[0][:, 3] = inputs[0][:, 3]\n",
    "        # targets[:, 1:4] = targets[:, 1:4] / 1000\n",
    "        predictions, targets, out = test_step(inputs, targets)\n",
    "        loss           += out\n",
    "        \n",
    "        prediction_list.append(predictions)\n",
    "        target_list.append(targets)\n",
    "    \n",
    "    y_reco  = tf.concat(prediction_list, axis = 0)\n",
    "    y_true  = tf.concat(target_list, axis = 0)\n",
    "    y_true  = tf.cast(y_true, tf.float32)\n",
    "\n",
    "    # w_energy, u_pos, u_angle = metrics(y_reco, y_true) #still missing something\n",
    "    loss, losses = loss_func(y_reco, y_true, re=True)\n",
    "\n",
    "    return loss, losses, metrics(y_reco, y_true)\n",
    "\n",
    "\n",
    "\n",
    "opt = Adam(learning_rate)"
   ]
  },
  {
   "cell_type": "code",
   "execution_count": 25,
   "metadata": {
    "ExecuteTime": {
     "end_time": "2021-04-23T15:09:51.389084Z",
     "start_time": "2021-04-23T15:09:51.118807Z"
    },
    "scrolled": false
   },
   "outputs": [
    {
     "data": {
      "application/vnd.jupyter.widget-view+json": {
       "model_id": "be71c750c6d44f6cbf63edc853fc63ef",
       "version_major": 2,
       "version_minor": 0
      },
      "text/plain": [
       "HBox(children=(HTML(value=''), FloatProgress(value=0.0, max=20.0), HTML(value='')))"
      ]
     },
     "metadata": {},
     "output_type": "display_data"
    },
    {
     "data": {
      "application/vnd.jupyter.widget-view+json": {
       "model_id": "7371fdf093ad4fe7a728e0a7fa862930",
       "version_major": 2,
       "version_minor": 0
      },
      "text/plain": [
       "HBox(children=(HTML(value=''), FloatProgress(value=0.0, max=63.0), HTML(value='')))"
      ]
     },
     "metadata": {},
     "output_type": "display_data"
    },
    {
     "name": "stdout",
     "output_type": "stream",
     "text": [
      "New folder for saving GAT_test0 made\n"
     ]
    },
    {
     "ename": "TypeError",
     "evalue": "slice indices must be integers or None or have an __index__ method",
     "output_type": "error",
     "traceback": [
      "\u001b[1;31m---------------------------------------------------------------------------\u001b[0m",
      "\u001b[1;31mTypeError\u001b[0m                                 Traceback (most recent call last)",
      "\u001b[1;32m<ipython-input-25-cf50a796f0bc>\u001b[0m in \u001b[0;36m<module>\u001b[1;34m\u001b[0m\n\u001b[0;32m     20\u001b[0m     \u001b[0mprint\u001b[0m\u001b[1;33m(\u001b[0m\u001b[1;34m'New folder for saving '\u001b[0m\u001b[1;33m+\u001b[0m\u001b[0mscenario\u001b[0m\u001b[1;33m+\u001b[0m\u001b[1;34m' made'\u001b[0m\u001b[1;33m)\u001b[0m\u001b[1;33m\u001b[0m\u001b[1;33m\u001b[0m\u001b[0m\n\u001b[0;32m     21\u001b[0m \u001b[1;31m# Implement saving model archictecture to wandb\u001b[0m\u001b[1;33m\u001b[0m\u001b[1;33m\u001b[0m\u001b[1;33m\u001b[0m\u001b[0m\n\u001b[1;32m---> 22\u001b[1;33m \u001b[1;32mfor\u001b[0m \u001b[0mbatch\u001b[0m \u001b[1;32min\u001b[0m \u001b[0mloader_train\u001b[0m\u001b[1;33m:\u001b[0m\u001b[1;33m\u001b[0m\u001b[1;33m\u001b[0m\u001b[0m\n\u001b[0m\u001b[0;32m     23\u001b[0m     \u001b[0minputs\u001b[0m\u001b[1;33m,\u001b[0m \u001b[0mtargets\u001b[0m \u001b[1;33m=\u001b[0m \u001b[0mbatch\u001b[0m\u001b[1;33m\u001b[0m\u001b[1;33m\u001b[0m\u001b[0m\n\u001b[0;32m     24\u001b[0m     \u001b[0minputs\u001b[0m\u001b[1;33m[\u001b[0m\u001b[1;36m0\u001b[0m\u001b[1;33m]\u001b[0m\u001b[1;33m[\u001b[0m\u001b[1;33m:\u001b[0m\u001b[1;33m,\u001b[0m \u001b[1;33m:\u001b[0m\u001b[1;36m3\u001b[0m\u001b[1;33m]\u001b[0m \u001b[1;33m=\u001b[0m \u001b[0minputs\u001b[0m\u001b[1;33m[\u001b[0m\u001b[1;36m0\u001b[0m\u001b[1;33m]\u001b[0m\u001b[1;33m[\u001b[0m\u001b[1;33m:\u001b[0m\u001b[1;33m,\u001b[0m \u001b[1;33m:\u001b[0m\u001b[1;36m3\u001b[0m\u001b[1;33m]\u001b[0m \u001b[1;33m/\u001b[0m \u001b[1;36m1000\u001b[0m \u001b[1;31m#normalize position\u001b[0m\u001b[1;33m\u001b[0m\u001b[1;33m\u001b[0m\u001b[0m\n",
      "\u001b[1;32m~\\AppData\\Roaming\\Python\\Python38\\site-packages\\spektral\\data\\loaders.py\u001b[0m in \u001b[0;36m__next__\u001b[1;34m(self)\u001b[0m\n\u001b[0;32m     98\u001b[0m \u001b[1;33m\u001b[0m\u001b[0m\n\u001b[0;32m     99\u001b[0m     \u001b[1;32mdef\u001b[0m \u001b[0m__next__\u001b[0m\u001b[1;33m(\u001b[0m\u001b[0mself\u001b[0m\u001b[1;33m)\u001b[0m\u001b[1;33m:\u001b[0m\u001b[1;33m\u001b[0m\u001b[1;33m\u001b[0m\u001b[0m\n\u001b[1;32m--> 100\u001b[1;33m         \u001b[0mnxt\u001b[0m \u001b[1;33m=\u001b[0m \u001b[0mself\u001b[0m\u001b[1;33m.\u001b[0m\u001b[0m_generator\u001b[0m\u001b[1;33m.\u001b[0m\u001b[0m__next__\u001b[0m\u001b[1;33m(\u001b[0m\u001b[1;33m)\u001b[0m\u001b[1;33m\u001b[0m\u001b[1;33m\u001b[0m\u001b[0m\n\u001b[0m\u001b[0;32m    101\u001b[0m         \u001b[1;32mreturn\u001b[0m \u001b[0mself\u001b[0m\u001b[1;33m.\u001b[0m\u001b[0mcollate\u001b[0m\u001b[1;33m(\u001b[0m\u001b[0mnxt\u001b[0m\u001b[1;33m)\u001b[0m\u001b[1;33m\u001b[0m\u001b[1;33m\u001b[0m\u001b[0m\n\u001b[0;32m    102\u001b[0m \u001b[1;33m\u001b[0m\u001b[0m\n",
      "\u001b[1;32m~\\AppData\\Roaming\\Python\\Python38\\site-packages\\spektral\\data\\utils.py\u001b[0m in \u001b[0;36mbatch_generator\u001b[1;34m(data, batch_size, epochs, shuffle)\u001b[0m\n\u001b[0;32m    159\u001b[0m             \u001b[0mstart\u001b[0m \u001b[1;33m=\u001b[0m \u001b[0mbatch\u001b[0m \u001b[1;33m*\u001b[0m \u001b[0mbatch_size\u001b[0m\u001b[1;33m\u001b[0m\u001b[1;33m\u001b[0m\u001b[0m\n\u001b[0;32m    160\u001b[0m             \u001b[0mstop\u001b[0m \u001b[1;33m=\u001b[0m \u001b[0mmin\u001b[0m\u001b[1;33m(\u001b[0m\u001b[0mstart\u001b[0m \u001b[1;33m+\u001b[0m \u001b[0mbatch_size\u001b[0m\u001b[1;33m,\u001b[0m \u001b[0mlen_data\u001b[0m\u001b[1;33m)\u001b[0m\u001b[1;33m\u001b[0m\u001b[1;33m\u001b[0m\u001b[0m\n\u001b[1;32m--> 161\u001b[1;33m             \u001b[0mto_yield\u001b[0m \u001b[1;33m=\u001b[0m \u001b[1;33m[\u001b[0m\u001b[0mitem\u001b[0m\u001b[1;33m[\u001b[0m\u001b[0mstart\u001b[0m\u001b[1;33m:\u001b[0m\u001b[0mstop\u001b[0m\u001b[1;33m]\u001b[0m \u001b[1;32mfor\u001b[0m \u001b[0mitem\u001b[0m \u001b[1;32min\u001b[0m \u001b[0mdata\u001b[0m\u001b[1;33m]\u001b[0m\u001b[1;33m\u001b[0m\u001b[1;33m\u001b[0m\u001b[0m\n\u001b[0m\u001b[0;32m    162\u001b[0m             \u001b[1;32mif\u001b[0m \u001b[0mlen\u001b[0m\u001b[1;33m(\u001b[0m\u001b[0mdata\u001b[0m\u001b[1;33m)\u001b[0m \u001b[1;33m==\u001b[0m \u001b[1;36m1\u001b[0m\u001b[1;33m:\u001b[0m\u001b[1;33m\u001b[0m\u001b[1;33m\u001b[0m\u001b[0m\n\u001b[0;32m    163\u001b[0m                 \u001b[0mto_yield\u001b[0m \u001b[1;33m=\u001b[0m \u001b[0mto_yield\u001b[0m\u001b[1;33m[\u001b[0m\u001b[1;36m0\u001b[0m\u001b[1;33m]\u001b[0m\u001b[1;33m\u001b[0m\u001b[1;33m\u001b[0m\u001b[0m\n",
      "\u001b[1;32m~\\AppData\\Roaming\\Python\\Python38\\site-packages\\spektral\\data\\utils.py\u001b[0m in \u001b[0;36m<listcomp>\u001b[1;34m(.0)\u001b[0m\n\u001b[0;32m    159\u001b[0m             \u001b[0mstart\u001b[0m \u001b[1;33m=\u001b[0m \u001b[0mbatch\u001b[0m \u001b[1;33m*\u001b[0m \u001b[0mbatch_size\u001b[0m\u001b[1;33m\u001b[0m\u001b[1;33m\u001b[0m\u001b[0m\n\u001b[0;32m    160\u001b[0m             \u001b[0mstop\u001b[0m \u001b[1;33m=\u001b[0m \u001b[0mmin\u001b[0m\u001b[1;33m(\u001b[0m\u001b[0mstart\u001b[0m \u001b[1;33m+\u001b[0m \u001b[0mbatch_size\u001b[0m\u001b[1;33m,\u001b[0m \u001b[0mlen_data\u001b[0m\u001b[1;33m)\u001b[0m\u001b[1;33m\u001b[0m\u001b[1;33m\u001b[0m\u001b[0m\n\u001b[1;32m--> 161\u001b[1;33m             \u001b[0mto_yield\u001b[0m \u001b[1;33m=\u001b[0m \u001b[1;33m[\u001b[0m\u001b[0mitem\u001b[0m\u001b[1;33m[\u001b[0m\u001b[0mstart\u001b[0m\u001b[1;33m:\u001b[0m\u001b[0mstop\u001b[0m\u001b[1;33m]\u001b[0m \u001b[1;32mfor\u001b[0m \u001b[0mitem\u001b[0m \u001b[1;32min\u001b[0m \u001b[0mdata\u001b[0m\u001b[1;33m]\u001b[0m\u001b[1;33m\u001b[0m\u001b[1;33m\u001b[0m\u001b[0m\n\u001b[0m\u001b[0;32m    162\u001b[0m             \u001b[1;32mif\u001b[0m \u001b[0mlen\u001b[0m\u001b[1;33m(\u001b[0m\u001b[0mdata\u001b[0m\u001b[1;33m)\u001b[0m \u001b[1;33m==\u001b[0m \u001b[1;36m1\u001b[0m\u001b[1;33m:\u001b[0m\u001b[1;33m\u001b[0m\u001b[1;33m\u001b[0m\u001b[0m\n\u001b[0;32m    163\u001b[0m                 \u001b[0mto_yield\u001b[0m \u001b[1;33m=\u001b[0m \u001b[0mto_yield\u001b[0m\u001b[1;33m[\u001b[0m\u001b[1;36m0\u001b[0m\u001b[1;33m]\u001b[0m\u001b[1;33m\u001b[0m\u001b[1;33m\u001b[0m\u001b[0m\n",
      "\u001b[1;32m~\\AppData\\Roaming\\Python\\Python38\\site-packages\\spektral\\data\\dataset.py\u001b[0m in \u001b[0;36m__getitem__\u001b[1;34m(self, key)\u001b[0m\n\u001b[0;32m    148\u001b[0m             \u001b[0mdataset\u001b[0m \u001b[1;33m=\u001b[0m \u001b[0mcopy\u001b[0m\u001b[1;33m.\u001b[0m\u001b[0mcopy\u001b[0m\u001b[1;33m(\u001b[0m\u001b[0mself\u001b[0m\u001b[1;33m)\u001b[0m\u001b[1;33m\u001b[0m\u001b[1;33m\u001b[0m\u001b[0m\n\u001b[0;32m    149\u001b[0m             \u001b[1;32mif\u001b[0m \u001b[0misinstance\u001b[0m\u001b[1;33m(\u001b[0m\u001b[0mkey\u001b[0m\u001b[1;33m,\u001b[0m \u001b[0mslice\u001b[0m\u001b[1;33m)\u001b[0m\u001b[1;33m:\u001b[0m\u001b[1;33m\u001b[0m\u001b[1;33m\u001b[0m\u001b[0m\n\u001b[1;32m--> 150\u001b[1;33m                 \u001b[0mdataset\u001b[0m\u001b[1;33m.\u001b[0m\u001b[0mgraphs\u001b[0m \u001b[1;33m=\u001b[0m \u001b[0mself\u001b[0m\u001b[1;33m.\u001b[0m\u001b[0mgraphs\u001b[0m\u001b[1;33m[\u001b[0m\u001b[0mkey\u001b[0m\u001b[1;33m]\u001b[0m\u001b[1;33m\u001b[0m\u001b[1;33m\u001b[0m\u001b[0m\n\u001b[0m\u001b[0;32m    151\u001b[0m             \u001b[1;32melse\u001b[0m\u001b[1;33m:\u001b[0m\u001b[1;33m\u001b[0m\u001b[1;33m\u001b[0m\u001b[0m\n\u001b[0;32m    152\u001b[0m                 \u001b[0mdataset\u001b[0m\u001b[1;33m.\u001b[0m\u001b[0mgraphs\u001b[0m \u001b[1;33m=\u001b[0m \u001b[1;33m[\u001b[0m\u001b[0mself\u001b[0m\u001b[1;33m.\u001b[0m\u001b[0mgraphs\u001b[0m\u001b[1;33m[\u001b[0m\u001b[0mi\u001b[0m\u001b[1;33m]\u001b[0m \u001b[1;32mfor\u001b[0m \u001b[0mi\u001b[0m \u001b[1;32min\u001b[0m \u001b[0mkey\u001b[0m\u001b[1;33m]\u001b[0m\u001b[1;33m\u001b[0m\u001b[1;33m\u001b[0m\u001b[0m\n",
      "\u001b[1;31mTypeError\u001b[0m: slice indices must be integers or None or have an __index__ method"
     ]
    }
   ],
   "source": [
    "run_counter+=1\n",
    "k=0.2\n",
    "tot_time=0\n",
    "current_batch = 0\n",
    "current_epoch = 1\n",
    "loss          = 0\n",
    "lowest_loss   = np.inf\n",
    "early_stop    = 1\n",
    "early_stop_counter    = 0\n",
    "pbar0          = tqdm(total = epochs, position = 0, leave = True)\n",
    "pbar0.set_description(f\"Epochbar\")\n",
    "pbar          = tqdm(total = loader_train.steps_per_epoch, position = k, leave = True)\n",
    "start_time    = time.time()\n",
    "lr_gen        = lr_schedule(initial=learning_rate)\n",
    "learning_Rate = next(lr_gen)\n",
    "cwd = osp.abspath('')\n",
    "save_path = osp.join(cwd, 'trained_models/'+scenario)\n",
    "if not osp.isdir(save_path):\n",
    "    os.makedirs(save_path)\n",
    "    print('New folder for saving '+scenario+' made')\n",
    "# Implement saving model archictecture to wandb\n",
    "for batch in loader_train:\n",
    "    inputs, targets = batch\n",
    "    inputs[0][:, :3] = inputs[0][:, :3] / 1000 #normalize position\n",
    "    out             = train_step(inputs, targets)\n",
    "    loss           += out\n",
    "    if current_epoch==1 and current_batch==0:\n",
    "        model.summary()\n",
    "    \n",
    "    current_batch  += 1\n",
    "    pbar.update(1)\n",
    "    pbar.set_description(f\"Epoch {current_epoch} / {epochs}; Avg_loss: {loss / current_batch:.6f}\")\n",
    "    \n",
    "    \n",
    "    if current_batch == loader_train.steps_per_epoch:\n",
    "        t=time.time() - start_time\n",
    "        tot_time+=t\n",
    "        print(f\"Epoch {current_epoch} of {epochs} done in {t:.2f} seconds using learning rate: {learning_rate:.2E}\")\n",
    "        print(f\"Avg loss of train: {loss / loader_train.steps_per_epoch:.6f}\")\n",
    "\n",
    "        loader_val    = DisjointLoader(dataset_val, epochs = 1,      batch_size = batch_size)\n",
    "#         val_loss, val_loss_from, val_metric = validation(loader_val)\n",
    "        val_loss, val_loss_from, val_metric = validation(loader_val)\n",
    "        if wandblog:\n",
    "            wandb.log({\"Train Loss\":      loss / loader_train.steps_per_epoch,\n",
    "                       \"Validation Loss\": val_loss, \n",
    "                       \"Energy metric\":   val_metric[0],\n",
    "                       \"Angle metric\":    val_metric[1],\n",
    "                       \"Learning rate\":   learning_rate})\n",
    "\n",
    "        print(f\"Avg loss of validation: {val_loss:.6f}\")\n",
    "        print(f\"Loss from:  Energy: {val_loss_from[0]:.6f} \\t Angle: {val_loss_from[1]:.6f} \")\n",
    "        print(f\"Energy: w = {val_metric[0]:.6f} \\t Angle: u = {val_metric[1]:.6f}\")\n",
    "\n",
    "        if val_loss < lowest_loss:\n",
    "            early_stop_counter = 0\n",
    "            lowest_loss        = val_loss\n",
    "        else:\n",
    "            early_stop_counter += 1\n",
    "        print(f'Early stop counter: {early_stop_counter}/{patience}, lowest loss was {lowest_loss:.6f}')\n",
    "        if early_stop and (early_stop_counter >= patience):\n",
    "            model.save(save_path)\n",
    "            print(f\"Stopped training. No improvement was seen in {patience} epochs\")\n",
    "            break\n",
    "\n",
    "        if current_epoch != epochs:\n",
    "            pbar          = tqdm(total = loader_train.steps_per_epoch, position = k, leave = True)\n",
    "\n",
    "        learning_rate = next(lr_gen)\n",
    "        opt.learning_rate.assign(learning_rate)\n",
    "        pbar0.update(1)\n",
    "        time_avg=tot_time/current_epoch\n",
    "        delta=dt.timedelta(seconds=time_avg*(epochs-current_epoch))\n",
    "        now = dt.datetime.now()\n",
    "        then=now+delta\n",
    "        time_e = then.strftime(\"%H:%M:%S\")\n",
    "        pbar0.set_description(f\"Expect to finish at {time_e}\")\n",
    "#         if current_epoch % 10 == 0:\n",
    "#             model.save(save_path)\n",
    "#             print(\"Model saved\")\n",
    "\n",
    "        loss            = 0\n",
    "        start_time      = time.time()\n",
    "        current_epoch  += 1\n",
    "        current_batch   = 0\n",
    "winsound.Beep(400,300)"
   ]
  },
  {
   "cell_type": "code",
   "execution_count": 10,
   "metadata": {
    "ExecuteTime": {
     "end_time": "2021-03-09T20:20:59.345198Z",
     "start_time": "2021-03-09T20:20:56.693534Z"
    }
   },
   "outputs": [
    {
     "name": "stdout",
     "output_type": "stream",
     "text": [
      "\n",
      "\n",
      "\n",
      "\n",
      "\n",
      "\n"
     ]
    },
    {
     "data": {
      "image/png": "[encoded data removed]",
      "text/plain": [
       "<Figure size 864x432 with 4 Axes>"
      ]
     },
     "metadata": {
      "needs_background": "light"
     },
     "output_type": "display_data"
    }
   ],
   "source": [
    "fig, ax = test_angle(loader_test)\n",
    "if wandblog:\n",
    "    fig.savefig(f\"model_tests/{scenario}_test.pdf\")"
   ]
  },
  {
   "cell_type": "code",
   "execution_count": 27,
   "metadata": {
    "ExecuteTime": {
     "end_time": "2021-03-09T20:27:49.533536Z",
     "start_time": "2021-03-09T20:27:48.870632Z"
    }
   },
   "outputs": [],
   "source": [
    "loader = DisjointLoader(dataset_test, batch_size=batch_size, epochs=1)\n",
    "loss = 0\n",
    "prediction_list, target_list = [], []\n",
    "for batch in loader:\n",
    "    inputs, targets = batch\n",
    "    inputs[0][:, :3] = inputs[0][:, :3] / 1000\n",
    "    predictions, targets, out = test_step(inputs, targets)\n",
    "    loss           += out\n",
    "\n",
    "    prediction_list.append(predictions)\n",
    "    target_list.append(targets)\n",
    "y_reco  = tf.concat(prediction_list, axis = 0).numpy()\n",
    "y_true  = tf.concat(target_list, axis = 0)\n",
    "y_true  = tf.cast(y_true, tf.float32).numpy()"
   ]
  },
  {
   "cell_type": "code",
   "execution_count": 28,
   "metadata": {
    "ExecuteTime": {
     "end_time": "2021-03-09T20:28:01.631065Z",
     "start_time": "2021-03-09T20:28:01.627073Z"
    }
   },
   "outputs": [],
   "source": [
    "res=y_reco-y_true"
   ]
  },
  {
   "cell_type": "code",
   "execution_count": 44,
   "metadata": {
    "ExecuteTime": {
     "end_time": "2021-03-09T20:44:08.991995Z",
     "start_time": "2021-03-09T20:44:08.729696Z"
    }
   },
   "outputs": [
    {
     "data": {
      "text/plain": [
       "(array([ 2.,  6.,  5.,  6., 14., 17., 22., 25., 23., 28., 24., 23., 26.,\n",
       "        42., 37., 29., 27., 22., 32., 36., 30., 22., 36., 29., 30., 25.,\n",
       "        23., 24., 19., 36., 26., 30., 21., 23., 22., 15., 20., 14., 12.,\n",
       "        13., 11., 13., 11.,  8.,  3., 13.,  8.,  8.,  6.,  3.]),\n",
       " array([0.01495625, 0.04316867, 0.07138108, 0.09959349, 0.1278059 ,\n",
       "        0.15601832, 0.18423073, 0.21244314, 0.24065556, 0.26886797,\n",
       "        0.2970804 , 0.3252928 , 0.35350522, 0.38171762, 0.40993005,\n",
       "        0.43814245, 0.46635488, 0.49456728, 0.5227797 , 0.55099213,\n",
       "        0.5792045 , 0.6074169 , 0.63562936, 0.6638418 , 0.69205415,\n",
       "        0.7202666 , 0.748479  , 0.77669144, 0.8049038 , 0.83311623,\n",
       "        0.86132866, 0.8895411 , 0.91775346, 0.9459659 , 0.9741783 ,\n",
       "        1.0023907 , 1.0306032 , 1.0588156 , 1.0870279 , 1.1152403 ,\n",
       "        1.1434528 , 1.1716652 , 1.1998776 , 1.22809   , 1.2563025 ,\n",
       "        1.2845149 , 1.3127272 , 1.3409396 , 1.3691521 , 1.3973645 ,\n",
       "        1.4255769 ], dtype=float32),\n",
       " <BarContainer object of 50 artists>)"
      ]
     },
     "execution_count": 44,
     "metadata": {},
     "output_type": "execute_result"
    },
    {
     "data": {
      "image/png": "[encoded data removed]",
      "text/plain": [
       "<Figure size 432x288 with 1 Axes>"
      ]
     },
     "metadata": {
      "needs_background": "light"
     },
     "output_type": "display_data"
    }
   ],
   "source": [
    "plt.hist(y_reco[:,1], bins=50)\n",
    "plt.hist(y_true[:,1], bins=50)"
   ]
  },
  {
   "cell_type": "code",
   "execution_count": null,
   "metadata": {},
   "outputs": [],
   "source": [
    "def test(loader):\n",
    "    loss = 0\n",
    "    prediction_list, target_list = [], []\n",
    "    for batch in loader:\n",
    "        inputs, targets = batch\n",
    "        inputs[0][:, :3] = inputs[0][:, :3] / 1000\n",
    "        predictions, targets, out = test_step(inputs, targets)\n",
    "        loss           += out\n",
    "        \n",
    "        prediction_list.append(predictions)\n",
    "        target_list.append(targets)\n",
    "\n",
    "    y_reco  = tf.concat(prediction_list, axis = 0).numpy()\n",
    "    y_true  = tf.concat(target_list, axis = 0)\n",
    "    y_true  = tf.cast(y_true, tf.float32).numpy()\n",
    "\n",
    "\n",
    "#     # Unit vects to angles\n",
    "#     reco_vects = normalize(y_reco[:, 1:])    \n",
    "#     true_vects = normalize(y_true[:, 1:])\n",
    "\n",
    "\n",
    "#     reco_azi   = np.arctan2(reco_vects[:, 1], reco_vects[:, 0])\n",
    "#     reco_zen   = np.arctan2(reco_vects[:, 2], np.sqrt((reco_vects[:, :2] ** 2).sum(1)))\n",
    "\n",
    "#     true_azi   = np.arctan2(true_vects[:, 1], true_vects[:, 0])\n",
    "#     true_zen   = np.arctan2(true_vects[:, 2], np.sqrt((true_vects[:, :2] ** 2).sum(1)))\n",
    "\n",
    "\n",
    "\n",
    "\n",
    "\n",
    "    energy = y_true[:, 0]\n",
    "    counts, bins = np.histogram(energy, bins = 10)\n",
    "\n",
    "    xs = (bins[1:] + bins[: -1]) / 2\n",
    "\n",
    "    w_energies, u_angles = [], []\n",
    "\n",
    "    for i in range(len(bins)-1):\n",
    "        idx = np.logical_and(energy > bins[i], energy < bins[i + 1])\n",
    "\n",
    "        w, u_angle = metrics(y_true[idx, :], y_reco[idx, :])\n",
    "\n",
    "        w_energies.append(w)\n",
    "        u_angles.append(u_angle)\n",
    "\n",
    "\n",
    "    fig, ax = plt.subplots(ncols = 3, nrows = 3, figsize = (12, 12))\n",
    "\n",
    "    for a in ax[0]:\n",
    "        a_ = a.twinx()\n",
    "        a_.step(xs, counts, color = \"gray\", zorder = 10, alpha = 0.7, where = \"mid\")\n",
    "        a_.set_yscale(\"log\")\n",
    "        a.set_xlabel(\"Log Energy\")\n",
    "    \n",
    "    ax_top = ax[0]\n",
    "\n",
    "    # Energy reconstruction\n",
    "    ax_top[0].scatter(xs, w_energies)\n",
    "    ax_top[0].set_title(\"Energy Performance\")\n",
    "    ax_top[0].set_ylabel(r\"$w(\\Delta log(E)$\")\n",
    "\n",
    "\n",
    "    # Angle reconstruction\n",
    "    ax_top[1].scatter(xs, u_angles)\n",
    "    ax_top[1].set_title(\"Angle Performance\")\n",
    "    ax_top[1].set_ylabel(r\"$u(\\Delta \\Omega)$\")\n",
    "\n",
    "\n",
    "    # truth - pred plots\n",
    "    ax_mid = ax[1]\n",
    "\n",
    "    # Energy\n",
    "    ax_mid[0].set_title(\"Energy\")\n",
    "    ax_mid[0].plot(y_true[:, 0], y_reco[:, 0], 'b.', alpha = 0.25)\n",
    "\n",
    "\n",
    "    # Zenith\n",
    "    ax_mid[1].set_title(\"Zenith angle\")\n",
    "    ax_mid[1].plot(true_zen, reco_zen, 'b.', alpha = 0.25)\n",
    "    \n",
    "\n",
    "    # Azimuthal\n",
    "    ax_mid[2].set_title(\"Azimuthal angle\")\n",
    "    ax_mid[2].plot(true_azi, reco_azi, 'b.', alpha = 0.25)\n",
    "\n",
    "\n",
    "\n",
    "\n",
    "\n",
    "    # Histogram of guesses\n",
    "    ax_bot = ax[2]\n",
    "\n",
    "    # Energy\n",
    "    ax_bot[0].set_title(\"Energy\")\n",
    "    ax_bot[0].hist(y_reco[:, 0] - y_true[:, 0], label = \"reco - true\", histtype = \"step\", bins = 50)\n",
    "    ax_bot[0].hist(y_reco[:, 0], label = \"reco\", histtype = \"step\", bins = 50)\n",
    "    ax_bot[0].hist(y_true[:, 0], label = \"true\", histtype = \"step\", bins = 50)\n",
    "\n",
    "    # Zenith\n",
    "    ax_bot[1].set_title(\"Zenith angle\")\n",
    "    ax_bot[1].hist(reco_zen - true_zen, label = \"reco - true\", histtype = \"step\", bins = 50)\n",
    "    ax_bot[1].hist(reco_zen, label = \"reco\", histtype = \"step\", bins = 50)\n",
    "    ax_bot[1].hist(true_zen, label = \"true\", histtype = \"step\", bins = 50)\n",
    "\n",
    "    # Azimuthal\n",
    "    ax_bot[2].set_title(\"Azimuthal angle\")\n",
    "    ax_bot[2].hist(reco_azi - true_azi, label = \"reco - true\", histtype = \"step\", bins = 50)\n",
    "    ax_bot[2].hist(reco_azi, label = \"reco\", histtype = \"step\", bins = 50)\n",
    "    ax_bot[2].hist(true_azi, label = \"true\", histtype = \"step\", bins = 50)\n",
    "    ax_bot[2].legend()\n",
    "\n",
    "    fig.tight_layout()\n",
    "\n",
    "    return fig, ax"
   ]
  },
  {
   "cell_type": "code",
   "execution_count": 16,
   "metadata": {
    "ExecuteTime": {
     "end_time": "2021-03-09T20:24:12.089394Z",
     "start_time": "2021-03-09T20:24:12.068451Z"
    },
    "code_folding": [
     0
    ]
   },
   "outputs": [],
   "source": [
    "def test(loader):\n",
    "    loss = 0\n",
    "    prediction_list, target_list = [], []\n",
    "    for batch in loader:\n",
    "        inputs, targets = batch\n",
    "        inputs[0][:, :3] = inputs[0][:, :3] / 1000\n",
    "        predictions, targets, out = test_step(inputs, targets)\n",
    "        loss           += out\n",
    "        \n",
    "        prediction_list.append(predictions)\n",
    "        target_list.append(targets)\n",
    "\n",
    "    y_reco  = tf.concat(prediction_list, axis = 0).numpy()\n",
    "    y_true  = tf.concat(target_list, axis = 0)\n",
    "    y_true  = tf.cast(y_true, tf.float32).numpy()\n",
    "\n",
    "\n",
    "#     # Unit vects to angles\n",
    "#     reco_vects = normalize(y_reco[:, 1:])    \n",
    "#     true_vects = normalize(y_true[:, 1:])\n",
    "\n",
    "\n",
    "#     reco_azi   = np.arctan2(reco_vects[:, 1], reco_vects[:, 0])\n",
    "#     reco_zen   = np.arctan2(reco_vects[:, 2], np.sqrt((reco_vects[:, :2] ** 2).sum(1)))\n",
    "\n",
    "#     true_azi   = np.arctan2(true_vects[:, 1], true_vects[:, 0])\n",
    "#     true_zen   = np.arctan2(true_vects[:, 2], np.sqrt((true_vects[:, :2] ** 2).sum(1)))\n",
    "\n",
    "\n",
    "\n",
    "\n",
    "\n",
    "    energy = y_true[:, 0]\n",
    "    counts, bins = np.histogram(energy, bins = 10)\n",
    "\n",
    "    xs = (bins[1:] + bins[: -1]) / 2\n",
    "\n",
    "    w_energies, u_angles = [], []\n",
    "\n",
    "    for i in range(len(bins)-1):\n",
    "        idx = np.logical_and(energy > bins[i], energy < bins[i + 1])\n",
    "\n",
    "        w, u_angle = metrics(y_true[idx, :], y_reco[idx, :])\n",
    "\n",
    "        w_energies.append(w)\n",
    "        u_angles.append(u_angle)\n",
    "\n",
    "\n",
    "    fig, ax = plt.subplots(ncols = 3, nrows = 3, figsize = (12, 12))\n",
    "\n",
    "    for a in ax[0]:\n",
    "        a_ = a.twinx()\n",
    "        a_.step(xs, counts, color = \"gray\", zorder = 10, alpha = 0.7, where = \"mid\")\n",
    "        a_.set_yscale(\"log\")\n",
    "        a.set_xlabel(\"Log Energy\")\n",
    "    \n",
    "    ax_top = ax[0]\n",
    "\n",
    "    # Energy reconstruction\n",
    "    ax_top[0].scatter(xs, w_energies)\n",
    "    ax_top[0].set_title(\"Energy Performance\")\n",
    "    ax_top[0].set_ylabel(r\"$w(\\Delta log(E)$\")\n",
    "\n",
    "\n",
    "    # Angle reconstruction\n",
    "    ax_top[1].scatter(xs, u_angles)\n",
    "    ax_top[1].set_title(\"Angle Performance\")\n",
    "    ax_top[1].set_ylabel(r\"$u(\\Delta \\Omega)$\")\n",
    "\n",
    "\n",
    "    # truth - pred plots\n",
    "    ax_mid = ax[1]\n",
    "\n",
    "    # Energy\n",
    "    ax_mid[0].set_title(\"Energy\")\n",
    "    ax_mid[0].plot(y_true[:, 0], y_reco[:, 0], 'b.', alpha = 0.25)\n",
    "\n",
    "\n",
    "    # Zenith\n",
    "    ax_mid[1].set_title(\"Zenith angle\")\n",
    "    ax_mid[1].plot(true_zen, reco_zen, 'b.', alpha = 0.25)\n",
    "    \n",
    "\n",
    "    # Azimuthal\n",
    "    ax_mid[2].set_title(\"Azimuthal angle\")\n",
    "    ax_mid[2].plot(true_azi, reco_azi, 'b.', alpha = 0.25)\n",
    "\n",
    "\n",
    "\n",
    "\n",
    "\n",
    "    # Histogram of guesses\n",
    "    ax_bot = ax[2]\n",
    "\n",
    "    # Energy\n",
    "    ax_bot[0].set_title(\"Energy\")\n",
    "    ax_bot[0].hist(y_reco[:, 0] - y_true[:, 0], label = \"reco - true\", histtype = \"step\", bins = 50)\n",
    "    ax_bot[0].hist(y_reco[:, 0], label = \"reco\", histtype = \"step\", bins = 50)\n",
    "    ax_bot[0].hist(y_true[:, 0], label = \"true\", histtype = \"step\", bins = 50)\n",
    "\n",
    "    # Zenith\n",
    "    ax_bot[1].set_title(\"Zenith angle\")\n",
    "    ax_bot[1].hist(reco_zen - true_zen, label = \"reco - true\", histtype = \"step\", bins = 50)\n",
    "    ax_bot[1].hist(reco_zen, label = \"reco\", histtype = \"step\", bins = 50)\n",
    "    ax_bot[1].hist(true_zen, label = \"true\", histtype = \"step\", bins = 50)\n",
    "\n",
    "    # Azimuthal\n",
    "    ax_bot[2].set_title(\"Azimuthal angle\")\n",
    "    ax_bot[2].hist(reco_azi - true_azi, label = \"reco - true\", histtype = \"step\", bins = 50)\n",
    "    ax_bot[2].hist(reco_azi, label = \"reco\", histtype = \"step\", bins = 50)\n",
    "    ax_bot[2].hist(true_azi, label = \"true\", histtype = \"step\", bins = 50)\n",
    "    ax_bot[2].legend()\n",
    "\n",
    "    fig.tight_layout()\n",
    "\n",
    "    return fig, ax"
   ]
  },
  {
   "cell_type": "code",
   "execution_count": 17,
   "metadata": {
    "ExecuteTime": {
     "end_time": "2021-03-09T20:24:13.305594Z",
     "start_time": "2021-03-09T20:24:12.439767Z"
    }
   },
   "outputs": [
    {
     "ename": "IndexError",
     "evalue": "index 2 is out of bounds for axis 1 with size 2",
     "output_type": "error",
     "traceback": [
      "\u001b[1;31m---------------------------------------------------------------------------\u001b[0m",
      "\u001b[1;31mIndexError\u001b[0m                                Traceback (most recent call last)",
      "\u001b[1;32m<ipython-input-17-4afc0f5dfe59>\u001b[0m in \u001b[0;36m<module>\u001b[1;34m\u001b[0m\n\u001b[1;32m----> 1\u001b[1;33m \u001b[0mtest\u001b[0m\u001b[1;33m(\u001b[0m\u001b[0mloader_test\u001b[0m\u001b[1;33m)\u001b[0m\u001b[1;33m\u001b[0m\u001b[1;33m\u001b[0m\u001b[0m\n\u001b[0m",
      "\u001b[1;32m<ipython-input-16-1656a77d2c8d>\u001b[0m in \u001b[0;36mtest\u001b[1;34m(loader)\u001b[0m\n\u001b[0;32m     22\u001b[0m \u001b[1;33m\u001b[0m\u001b[0m\n\u001b[0;32m     23\u001b[0m     \u001b[0mreco_azi\u001b[0m   \u001b[1;33m=\u001b[0m \u001b[0mnp\u001b[0m\u001b[1;33m.\u001b[0m\u001b[0marctan2\u001b[0m\u001b[1;33m(\u001b[0m\u001b[0mreco_vects\u001b[0m\u001b[1;33m[\u001b[0m\u001b[1;33m:\u001b[0m\u001b[1;33m,\u001b[0m \u001b[1;36m1\u001b[0m\u001b[1;33m]\u001b[0m\u001b[1;33m,\u001b[0m \u001b[0mreco_vects\u001b[0m\u001b[1;33m[\u001b[0m\u001b[1;33m:\u001b[0m\u001b[1;33m,\u001b[0m \u001b[1;36m0\u001b[0m\u001b[1;33m]\u001b[0m\u001b[1;33m)\u001b[0m\u001b[1;33m\u001b[0m\u001b[1;33m\u001b[0m\u001b[0m\n\u001b[1;32m---> 24\u001b[1;33m     \u001b[0mreco_zen\u001b[0m   \u001b[1;33m=\u001b[0m \u001b[0mnp\u001b[0m\u001b[1;33m.\u001b[0m\u001b[0marctan2\u001b[0m\u001b[1;33m(\u001b[0m\u001b[0mreco_vects\u001b[0m\u001b[1;33m[\u001b[0m\u001b[1;33m:\u001b[0m\u001b[1;33m,\u001b[0m \u001b[1;36m2\u001b[0m\u001b[1;33m]\u001b[0m\u001b[1;33m,\u001b[0m \u001b[0mnp\u001b[0m\u001b[1;33m.\u001b[0m\u001b[0msqrt\u001b[0m\u001b[1;33m(\u001b[0m\u001b[1;33m(\u001b[0m\u001b[0mreco_vects\u001b[0m\u001b[1;33m[\u001b[0m\u001b[1;33m:\u001b[0m\u001b[1;33m,\u001b[0m \u001b[1;33m:\u001b[0m\u001b[1;36m2\u001b[0m\u001b[1;33m]\u001b[0m \u001b[1;33m**\u001b[0m \u001b[1;36m2\u001b[0m\u001b[1;33m)\u001b[0m\u001b[1;33m.\u001b[0m\u001b[0msum\u001b[0m\u001b[1;33m(\u001b[0m\u001b[1;36m1\u001b[0m\u001b[1;33m)\u001b[0m\u001b[1;33m)\u001b[0m\u001b[1;33m)\u001b[0m\u001b[1;33m\u001b[0m\u001b[1;33m\u001b[0m\u001b[0m\n\u001b[0m\u001b[0;32m     25\u001b[0m \u001b[1;33m\u001b[0m\u001b[0m\n\u001b[0;32m     26\u001b[0m     \u001b[0mtrue_azi\u001b[0m   \u001b[1;33m=\u001b[0m \u001b[0mnp\u001b[0m\u001b[1;33m.\u001b[0m\u001b[0marctan2\u001b[0m\u001b[1;33m(\u001b[0m\u001b[0mtrue_vects\u001b[0m\u001b[1;33m[\u001b[0m\u001b[1;33m:\u001b[0m\u001b[1;33m,\u001b[0m \u001b[1;36m1\u001b[0m\u001b[1;33m]\u001b[0m\u001b[1;33m,\u001b[0m \u001b[0mtrue_vects\u001b[0m\u001b[1;33m[\u001b[0m\u001b[1;33m:\u001b[0m\u001b[1;33m,\u001b[0m \u001b[1;36m0\u001b[0m\u001b[1;33m]\u001b[0m\u001b[1;33m)\u001b[0m\u001b[1;33m\u001b[0m\u001b[1;33m\u001b[0m\u001b[0m\n",
      "\u001b[1;31mIndexError\u001b[0m: index 2 is out of bounds for axis 1 with size 2"
     ]
    }
   ],
   "source": [
    "test(loader_test)"
   ]
  },
  {
   "cell_type": "code",
   "execution_count": null,
   "metadata": {},
   "outputs": [],
   "source": []
  }
 ],
 "metadata": {
  "hide_input": false,
  "kernelspec": {
   "display_name": "Python 3",
   "language": "python",
   "name": "python3"
  },
  "language_info": {
   "codemirror_mode": {
    "name": "ipython",
    "version": 3
   },
   "file_extension": ".py",
   "mimetype": "text/x-python",
   "name": "python",
   "nbconvert_exporter": "python",
   "pygments_lexer": "ipython3",
   "version": "3.8.5"
  }
 },
 "nbformat": 4,
 "nbformat_minor": 4
}
