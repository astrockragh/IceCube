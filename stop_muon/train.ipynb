{
 "cells": [
  {
   "cell_type": "code",
   "execution_count": 1,
   "metadata": {
    "ExecuteTime": {
     "end_time": "2021-03-21T17:50:28.056956Z",
     "start_time": "2021-03-21T17:50:23.846390Z"
    }
   },
   "outputs": [
    {
     "name": "stdout",
     "output_type": "stream",
     "text": [
      "Notebook\n",
      "GPU detected\n"
     ]
    }
   ],
   "source": [
    "import os, sys, argparse, importlib, time, inspect\n",
    "import numpy as np\n",
    "import matplotlib.pyplot as plt\n",
    "import os.path as osp\n",
    "if hasattr(__builtins__,'__IPYTHON__'):\n",
    "    print('Notebook')\n",
    "    notebook=1\n",
    "    from tqdm.notebook import tqdm\n",
    "else:\n",
    "    print('Not notebook')\n",
    "    notebook=0\n",
    "    from tqdm import tqdm\n",
    "from tensorflow.keras import backend as K\n",
    "os.environ['TF_CPP_MIN_LOG_LEVEL'] = '2' \n",
    "import tensorflow as tf\n",
    "import tensorflow_probability as tfp\n",
    "\n",
    "gpu_devices = tf.config.list_physical_devices('GPU') \n",
    "if len(gpu_devices) > 0:\n",
    "    print(\"GPU detected\")\n",
    "    tf.config.experimental.set_memory_growth(gpu_devices[0], True)\n",
    "else:\n",
    "    print('No GPU detected')\n",
    "\n",
    "from tensorflow.keras.optimizers import Adam\n",
    "from tensorflow.keras.losses import MeanSquaredError\n",
    "from tensorflow.keras.models import load_model, Model\n",
    "import spektral\n",
    "from sklearn.preprocessing import normalize\n",
    "from spektral.data import DisjointLoader, BatchLoader, SingleLoader\n",
    "from importlib import reload\n",
    "if notebook:\n",
    "    import winsound\n",
    "import dill\n",
    "import datetime as dt\n",
    "import plotly"
   ]
  },
  {
   "cell_type": "code",
   "execution_count": 2,
   "metadata": {
    "ExecuteTime": {
     "end_time": "2021-03-21T17:50:28.072293Z",
     "start_time": "2021-03-21T17:50:28.056956Z"
    }
   },
   "outputs": [],
   "source": [
    "#everything here could be JSON\n",
    "\n",
    "################################################\n",
    "# Setup Deafult Variables                       # \n",
    "################################################\n",
    "learning_rate = 2.5e-4\n",
    "warm_up       = 4\n",
    "batch_size    = 512\n",
    "epochs        = 100\n",
    "n_data       = 5e5\n",
    "scenario    = \"stop_muon\"\n",
    "patience = 5\n",
    "\n",
    "################################################\n",
    "# Setup Model hyperparameters                  # \n",
    "################################################\n",
    "\n",
    "# make in model\n",
    "\n",
    "################################################\n",
    "# Setup Other Hyperparameters                   # \n",
    "################################################\n",
    "\n",
    "\n",
    "loss_method   = \"von Mises\"\n",
    "n_neighbors   = 6 # SKRIV SELV IND\n",
    "wandblog      = 0\n",
    "opt = Adam(learning_rate)\n",
    "\n",
    "if wandblog:\n",
    "    import wandb\n",
    "    !wandb login b5b917a9390932e56fccfcbff6f528ccd85c44bf\n",
    "    #checks\n",
    "    wandb.init(project=\"icecube\", group=scenario,entity=\"chri862z\")\n",
    "\n",
    "    # Declare for log\n",
    "    wandb.config.angleunit=angleunit\n",
    "    wandb.config.hidden_states = hidden_states\n",
    "    wandb.config.n_data = n_data\n",
    "    wandb.config.forward = forward\n",
    "    wandb.config.dropout = dropout\n",
    "    wandb.config.learning_rate = learning_rate\n",
    "    wandb.config.warm_up = warm_up\n",
    "    wandb.config.batch_size = batch_size\n",
    "    wandb.config.loss_func = loss_method\n",
    "    wandb.config.n_neighbors = n_neighbors\n",
    "    wandb.config.optimizer = 'Adam'\n",
    "    wandb.run.name = wandb.run.id\n",
    "    wandbname=wandb.run.id"
   ]
  },
  {
   "cell_type": "code",
   "execution_count": 3,
   "metadata": {
    "ExecuteTime": {
     "end_time": "2021-03-21T18:01:31.428413Z",
     "start_time": "2021-03-21T17:50:28.077280Z"
    }
   },
   "outputs": [
    {
     "name": "stdout",
     "output_type": "stream",
     "text": [
      "Not notebook\n",
      "Not notebook\n",
      "Connecting to db-file\n",
      "Loading Muons\n",
      "Reading files\n"
     ]
    },
    {
     "name": "stderr",
     "output_type": "stream",
     "text": [
      "C:\\Users\\chris\\anaconda3\\lib\\site-packages\\sklearn\\utils\\deprecation.py:143: FutureWarning: The sklearn.preprocessing.data module is  deprecated in version 0.22 and will be removed in version 0.24. The corresponding classes / functions should instead be imported from sklearn.preprocessing. Anything that cannot be imported from sklearn.preprocessing is now part of the private API.\n",
      "  warnings.warn(message, FutureWarning)\n",
      "C:\\Users\\chris\\anaconda3\\lib\\site-packages\\sklearn\\base.py:329: UserWarning: Trying to unpickle estimator RobustScaler from version 0.19.1 when using version 0.23.2. This might lead to breaking code or invalid results. Use at your own risk.\n",
      "  warnings.warn(\n"
     ]
    },
    {
     "name": "stdout",
     "output_type": "stream",
     "text": [
      "Splitting data to events\n",
      "[ 45  56 323 ...  52  47  30]\n"
     ]
    },
    {
     "name": "stderr",
     "output_type": "stream",
     "text": [
      "\r",
      "  0%|                                                                                       | 0/500000 [00:00<?, ?it/s]"
     ]
    },
    {
     "name": "stdout",
     "output_type": "stream",
     "text": [
      "     dom_x    dom_y    dom_z      time  charge_log10  SRTInIcePulses\n",
      "0 -0.25614 -0.52108  0.29178 -0.902557     -0.088028               0\n",
      "1  0.50527  0.25788 -0.20864 -1.099296      0.378965               0\n",
      "2 -0.06670  0.27692  0.00422  0.424602      0.791982               0\n",
      "3  0.30341  0.33564  0.03637 -0.125602      1.160970               0\n",
      "4  0.30341  0.33564  0.03637 -0.114116     -1.656923               0\n",
      "   stopped_muon\n",
      "0             1\n",
      "1             1\n",
      "2             0\n",
      "3             1\n",
      "4             0\n",
      "Generating adjacency matrices\n"
     ]
    },
    {
     "name": "stderr",
     "output_type": "stream",
     "text": [
      "100%|████████████████████████████████████████████████████████████████████████| 500000/500000 [05:49<00:00, 1431.41it/s]\n"
     ]
    },
    {
     "name": "stdout",
     "output_type": "stream",
     "text": [
      "Saving dataset\n",
      "Loading data to memory\n"
     ]
    }
   ],
   "source": [
    "################################################\n",
    "# Load data                      # \n",
    "################################################\n",
    "\n",
    "import dev.data_load as dl\n",
    "reload(dl)\n",
    "graph_data=dl.graph_data\n",
    "dataset=graph_data(n_data=n_data, n_neighbors=n_neighbors, restart=0)\n",
    "idx_lists = dataset.index_lists\n",
    "# Split data\n",
    "dataset_train = dataset[idx_lists[0]]\n",
    "dataset_val   = dataset[idx_lists[1]]\n",
    "dataset_test  = dataset[idx_lists[2]]\n",
    "loader_train = DisjointLoader(dataset_train, epochs=epochs, batch_size=batch_size) # the different loaders work very very differently, beware\n",
    "loader_test = DisjointLoader(dataset_test, batch_size=batch_size, epochs=1)\n",
    "if notebook:\n",
    "    winsound.Beep(400,300)"
   ]
  },
  {
   "cell_type": "code",
   "execution_count": 4,
   "metadata": {
    "ExecuteTime": {
     "end_time": "2021-03-21T18:01:34.242161Z",
     "start_time": "2021-03-21T18:01:31.444332Z"
    }
   },
   "outputs": [],
   "source": [
    "import dev.stopGCN as m\n",
    "reload(m)\n",
    "# model=m.GCN0(6)\n",
    "model=m.stopGCN(n_out=1)"
   ]
  },
  {
   "cell_type": "code",
   "execution_count": 5,
   "metadata": {
    "ExecuteTime": {
     "end_time": "2021-03-21T18:01:34.249747Z",
     "start_time": "2021-03-21T18:01:34.243760Z"
    }
   },
   "outputs": [],
   "source": [
    "from sklearn.metrics import roc_curve, roc_auc_score\n",
    "def metrics(y_reco, y_true):\n",
    "    FPR, TPR, _ = roc_curve(y_true, y_reco)\n",
    "    AUC=roc_auc_score(y_true, y_reco)\n",
    "    return FPR, TPR, AUC\n"
   ]
  },
  {
   "cell_type": "code",
   "execution_count": 6,
   "metadata": {
    "ExecuteTime": {
     "end_time": "2021-03-21T18:01:34.261748Z",
     "start_time": "2021-03-21T18:01:34.251741Z"
    }
   },
   "outputs": [],
   "source": [
    "def plot_roc(loader, save=False, save_path=''):\n",
    "    '''Function to test and plot performance of Graph DL\n",
    "    input should be dom pos x,y,z , time, charge(log10)\n",
    "    target should be energy(log10),zenith angle, azimuthal angle, NOT unit vec \n",
    "    '''\n",
    "    loss = 0\n",
    "    prediction_list, target_list = [], []\n",
    "    for batch in loader:\n",
    "        inputs, targets = batch\n",
    "        predictions, targets, out = test_step(inputs, targets)\n",
    "        loss           += out\n",
    "        \n",
    "        prediction_list.append(predictions)\n",
    "        target_list.append(targets)\n",
    "\n",
    "    y_reco  = tf.concat(prediction_list, axis = 0).numpy()\n",
    "    y_true  = tf.concat(target_list, axis = 0)\n",
    "    y_true  = tf.cast(y_true, tf.float32).numpy()\n",
    "    FPR, TPR, AUC = metrics(y_reco, y_true)\n",
    "    fig, ax = plt.subplots(nrows=1, ncols=2, figsize=(12,7))\n",
    "    ax[0].plot(FPR, TPR, label=f'ROC with AUC: {AUC}')\n",
    "    ax[1].hist(y_reco, histtype='step', bins=100)\n",
    "    if save:\n",
    "        plt.savefig(save_path)"
   ]
  },
  {
   "cell_type": "code",
   "execution_count": 7,
   "metadata": {
    "ExecuteTime": {
     "end_time": "2021-03-21T18:01:35.543420Z",
     "start_time": "2021-03-21T18:01:34.265701Z"
    }
   },
   "outputs": [],
   "source": [
    "# ################################################\n",
    "# # Setup functions                            # \n",
    "# ################################################\n",
    "from tensorflow_addons.losses import SigmoidFocalCrossEntropy as loss_func\n",
    "loss_func=loss_func()\n",
    "# import tensorflow.keras.losses as bc\n",
    "\n",
    "# loss_func=bc.BinaryCrossentropy(from_logits=False, label_smoothing=0, reduction=tf.keras.losses.Reduction.NONE)\n",
    "\n",
    "def lr_schedule(epochs = epochs, initial = learning_rate, warm_up=warm_up, decay = 0.9):\n",
    "    n = 1\n",
    "    lr = initial\n",
    "    yield lr\n",
    "    while n < warm_up:\n",
    "        lr *= 2\n",
    "        n  += 1\n",
    "        yield lr\n",
    "    while True:\n",
    "        lr *= decay\n",
    "        n  += 1 \n",
    "        yield lr\n",
    "\n",
    "\n",
    "#make functions into tf functions\n",
    "\n",
    "@tf.function(input_signature = loader_train.tf_signature(), experimental_relax_shapes = True)\n",
    "def train_step(inputs, targets):\n",
    "    with tf.GradientTape() as tape:\n",
    "        predictions = model(inputs, training = True)\n",
    "        targets     = tf.cast(targets, tf.float32)\n",
    "        loss        = loss_func(targets, predictions)\n",
    "        loss = tf.reduce_mean(loss)\n",
    "        loss       += sum(model.losses)\n",
    "\n",
    "    gradients = tape.gradient(loss, model.trainable_variables)\n",
    "    opt.apply_gradients(zip(gradients, model.trainable_variables))\n",
    "    return loss\n",
    "\n",
    "@tf.function(input_signature = loader_test.tf_signature(), experimental_relax_shapes = True)\n",
    "def test_step(inputs, targets):\n",
    "    predictions = model(inputs, training = False)\n",
    "    targets     = tf.cast(targets, tf.float32) \n",
    "    \n",
    "    loss       = loss_func(targets, predictions)\n",
    "    out = tf.reduce_mean(loss)\n",
    "\n",
    "    return predictions, targets, out\n",
    "\n",
    "\n",
    "def validation(loader):\n",
    "    loss = 0\n",
    "    prediction_list, target_list = [], []\n",
    "    for batch in loader:\n",
    "        inputs, targets = batch\n",
    "        predictions, targets, out = test_step(inputs, targets)\n",
    "        loss           += out\n",
    "        \n",
    "        prediction_list.append(predictions)\n",
    "        target_list.append(targets)\n",
    "    \n",
    "    y_reco  = tf.concat(prediction_list, axis = 0)\n",
    "    y_true  = tf.concat(target_list, axis = 0)\n",
    "    y_true  = tf.cast(y_true, tf.float32)\n",
    "    \n",
    "    _,_, auc= metrics(y_reco, y_true)\n",
    "    \n",
    "    return loss, auc"
   ]
  },
  {
   "cell_type": "code",
   "execution_count": 8,
   "metadata": {
    "ExecuteTime": {
     "end_time": "2021-03-22T10:35:01.653246Z",
     "start_time": "2021-03-21T18:01:35.545408Z"
    },
    "scrolled": false
   },
   "outputs": [
    {
     "data": {
      "application/vnd.jupyter.widget-view+json": {
       "model_id": "c886ad4538f6435096a141121fc523f9",
       "version_major": 2,
       "version_minor": 0
      },
      "text/plain": [
       "HBox(children=(HTML(value=''), FloatProgress(value=0.0), HTML(value='')))"
      ]
     },
     "metadata": {},
     "output_type": "display_data"
    },
    {
     "data": {
      "application/vnd.jupyter.widget-view+json": {
       "model_id": "1909ea9e968449d2a25b82cd11cc2cfc",
       "version_major": 2,
       "version_minor": 0
      },
      "text/plain": [
       "HBox(children=(HTML(value=''), FloatProgress(value=0.0, max=782.0), HTML(value='')))"
      ]
     },
     "metadata": {},
     "output_type": "display_data"
    },
    {
     "name": "stdout",
     "output_type": "stream",
     "text": [
      "Model: \"stop_gcn\"\n",
      "_________________________________________________________________\n",
      "Layer (type)                 Output Shape              Param #   \n",
      "=================================================================\n",
      "ecc_conv (ECCConv)           multiple                  33984     \n",
      "_________________________________________________________________\n",
      "gcn_conv (GCNConv)           multiple                  4096      \n",
      "_________________________________________________________________\n",
      "gcn_conv_1 (GCNConv)         multiple                  8192      \n",
      "_________________________________________________________________\n",
      "global_max_pool (GlobalMaxPo multiple                  0         \n",
      "_________________________________________________________________\n",
      "global_avg_pool (GlobalAvgPo multiple                  0         \n",
      "_________________________________________________________________\n",
      "global_sum_pool (GlobalSumPo multiple                  0         \n",
      "_________________________________________________________________\n",
      "dense (Dense)                multiple                  24640     \n",
      "_________________________________________________________________\n",
      "dense_1 (Dense)              multiple                  8320      \n",
      "_________________________________________________________________\n",
      "dropout (Dropout)            multiple                  0         \n",
      "_________________________________________________________________\n",
      "dropout_1 (Dropout)          multiple                  0         \n",
      "_________________________________________________________________\n",
      "batch_normalization (BatchNo multiple                  256       \n",
      "_________________________________________________________________\n",
      "batch_normalization_1 (Batch multiple                  512       \n",
      "_________________________________________________________________\n",
      "dense_2 (Dense)              multiple                  129       \n",
      "=================================================================\n",
      "Total params: 80,129\n",
      "Trainable params: 79,745\n",
      "Non-trainable params: 384\n",
      "_________________________________________________________________\n",
      "Epoch 1 of 100 done in 1712.24 seconds using learning rate: 2.50E-04\n",
      "Avg loss of train: 0.751219\n",
      "Avg loss of validation: 9.696671\n",
      "AUC: 0.4915040427300204\n",
      "Early stop counter: 0/5, lowest val loss was 9.696671\n"
     ]
    },
    {
     "data": {
      "application/vnd.jupyter.widget-view+json": {
       "model_id": "d3c74389c45b432495d8e49129050d07",
       "version_major": 2,
       "version_minor": 0
      },
      "text/plain": [
       "HBox(children=(HTML(value=''), FloatProgress(value=0.0, max=782.0), HTML(value='')))"
      ]
     },
     "metadata": {},
     "output_type": "display_data"
    },
    {
     "name": "stdout",
     "output_type": "stream",
     "text": [
      "\n",
      "Epoch 2 of 100 done in 1725.88 seconds using learning rate: 5.00E-04\n",
      "Avg loss of train: 0.180567\n",
      "Avg loss of validation: 6.459653\n",
      "AUC: 0.7638075420686207\n",
      "Early stop counter: 0/5, lowest val loss was 6.459653\n"
     ]
    },
    {
     "data": {
      "application/vnd.jupyter.widget-view+json": {
       "model_id": "02e3b35e7558408185e701850cc61f82",
       "version_major": 2,
       "version_minor": 0
      },
      "text/plain": [
       "HBox(children=(HTML(value=''), FloatProgress(value=0.0, max=782.0), HTML(value='')))"
      ]
     },
     "metadata": {},
     "output_type": "display_data"
    },
    {
     "name": "stdout",
     "output_type": "stream",
     "text": [
      "Epoch 3 of 100 done in 1789.60 seconds using learning rate: 1.00E-03\n",
      "Avg loss of train: 0.092080\n",
      "Avg loss of validation: 5.971189\n",
      "AUC: 0.7719301343588716\n",
      "Early stop counter: 0/5, lowest val loss was 5.971189\n"
     ]
    },
    {
     "data": {
      "application/vnd.jupyter.widget-view+json": {
       "model_id": "7d1092743d6648c49b915a732502a030",
       "version_major": 2,
       "version_minor": 0
      },
      "text/plain": [
       "HBox(children=(HTML(value=''), FloatProgress(value=0.0, max=782.0), HTML(value='')))"
      ]
     },
     "metadata": {},
     "output_type": "display_data"
    },
    {
     "name": "stdout",
     "output_type": "stream",
     "text": [
      "Epoch 4 of 100 done in 1747.08 seconds using learning rate: 2.00E-03\n",
      "Avg loss of train: 0.083389\n",
      "Avg loss of validation: 5.839273\n",
      "AUC: 0.7729989067565507\n",
      "Early stop counter: 0/5, lowest val loss was 5.839273\n"
     ]
    },
    {
     "data": {
      "application/vnd.jupyter.widget-view+json": {
       "model_id": "821118b595c948b2b524f76498c3eb2f",
       "version_major": 2,
       "version_minor": 0
      },
      "text/plain": [
       "HBox(children=(HTML(value=''), FloatProgress(value=0.0, max=782.0), HTML(value='')))"
      ]
     },
     "metadata": {},
     "output_type": "display_data"
    },
    {
     "name": "stdout",
     "output_type": "stream",
     "text": [
      "\n",
      "\n",
      "\n",
      "Epoch 5 of 100 done in 1738.31 seconds using learning rate: 1.80E-03\n",
      "Avg loss of train: 0.128851\n",
      "Avg loss of validation: 5.756549\n",
      "AUC: 0.7801300188657015\n",
      "Early stop counter: 0/5, lowest val loss was 5.756549\n"
     ]
    },
    {
     "data": {
      "application/vnd.jupyter.widget-view+json": {
       "model_id": "3d1874d7bc0a44fbaa57126851a13ccb",
       "version_major": 2,
       "version_minor": 0
      },
      "text/plain": [
       "HBox(children=(HTML(value=''), FloatProgress(value=0.0, max=782.0), HTML(value='')))"
      ]
     },
     "metadata": {},
     "output_type": "display_data"
    },
    {
     "name": "stderr",
     "output_type": "stream",
     "text": [
      "WARNING:absl:Found untraced functions such as FGN_0_layer_call_and_return_conditional_losses, FGN_0_layer_call_fn, FGN_1_layer_call_and_return_conditional_losses, FGN_1_layer_call_fn, FGN_2_layer_call_and_return_conditional_losses while saving (showing 5 of 20). These functions will not be directly callable after loading.\n",
      "WARNING:absl:Found untraced functions such as FGN_0_layer_call_and_return_conditional_losses, FGN_0_layer_call_fn, FGN_1_layer_call_and_return_conditional_losses, FGN_1_layer_call_fn, FGN_2_layer_call_and_return_conditional_losses while saving (showing 5 of 20). These functions will not be directly callable after loading.\n"
     ]
    },
    {
     "name": "stdout",
     "output_type": "stream",
     "text": [
      "\n",
      "INFO:tensorflow:Assets written to: C:\\Users\\chris\\Christian\\3YR-UNI\\Bachelor\\IceCube\\stop_muon\\trained_models/stop_muon\\assets\n"
     ]
    },
    {
     "name": "stderr",
     "output_type": "stream",
     "text": [
      "INFO:tensorflow:Assets written to: C:\\Users\\chris\\Christian\\3YR-UNI\\Bachelor\\IceCube\\stop_muon\\trained_models/stop_muon\\assets\n"
     ]
    },
    {
     "name": "stdout",
     "output_type": "stream",
     "text": [
      "Model saved\n",
      "Epoch 6 of 100 done in 1711.74 seconds using learning rate: 1.62E-03\n",
      "Avg loss of train: 0.114821\n",
      "Avg loss of validation: 15.217114\n",
      "AUC: 0.703928813959944\n",
      "Early stop counter: 1/5, lowest val loss was 5.756549\n"
     ]
    },
    {
     "data": {
      "application/vnd.jupyter.widget-view+json": {
       "model_id": "1b039bbad8164e9ea25346f6a9fa46d4",
       "version_major": 2,
       "version_minor": 0
      },
      "text/plain": [
       "HBox(children=(HTML(value=''), FloatProgress(value=0.0, max=782.0), HTML(value='')))"
      ]
     },
     "metadata": {},
     "output_type": "display_data"
    },
    {
     "name": "stdout",
     "output_type": "stream",
     "text": [
      "Epoch 7 of 100 done in 1700.64 seconds using learning rate: 1.46E-03\n",
      "Avg loss of train: 0.078035\n",
      "Avg loss of validation: 5.795012\n",
      "AUC: 0.7971174643131328\n",
      "Early stop counter: 2/5, lowest val loss was 5.756549\n"
     ]
    },
    {
     "data": {
      "application/vnd.jupyter.widget-view+json": {
       "model_id": "1a4be615cf0047f7b01f90e63f5f2d4c",
       "version_major": 2,
       "version_minor": 0
      },
      "text/plain": [
       "HBox(children=(HTML(value=''), FloatProgress(value=0.0, max=782.0), HTML(value='')))"
      ]
     },
     "metadata": {},
     "output_type": "display_data"
    },
    {
     "name": "stdout",
     "output_type": "stream",
     "text": [
      "\n",
      "\n",
      "Epoch 8 of 100 done in 1685.11 seconds using learning rate: 1.31E-03\n",
      "Avg loss of train: 0.059842\n",
      "Avg loss of validation: 5.300053\n",
      "AUC: 0.8246626699412138\n",
      "Early stop counter: 0/5, lowest val loss was 5.300053\n"
     ]
    },
    {
     "data": {
      "application/vnd.jupyter.widget-view+json": {
       "model_id": "e4d978908c0a4a608304af5fc31cf8f7",
       "version_major": 2,
       "version_minor": 0
      },
      "text/plain": [
       "HBox(children=(HTML(value=''), FloatProgress(value=0.0, max=782.0), HTML(value='')))"
      ]
     },
     "metadata": {},
     "output_type": "display_data"
    },
    {
     "name": "stdout",
     "output_type": "stream",
     "text": [
      "Epoch 9 of 100 done in 1701.19 seconds using learning rate: 1.18E-03\n",
      "Avg loss of train: 0.055500\n",
      "Avg loss of validation: 6.482031\n",
      "AUC: 0.7827252208967173\n",
      "Early stop counter: 1/5, lowest val loss was 5.300053\n"
     ]
    },
    {
     "data": {
      "application/vnd.jupyter.widget-view+json": {
       "model_id": "aa649613a5cf42fda3d954936e02989e",
       "version_major": 2,
       "version_minor": 0
      },
      "text/plain": [
       "HBox(children=(HTML(value=''), FloatProgress(value=0.0, max=782.0), HTML(value='')))"
      ]
     },
     "metadata": {},
     "output_type": "display_data"
    },
    {
     "name": "stdout",
     "output_type": "stream",
     "text": [
      "Epoch 10 of 100 done in 1686.78 seconds using learning rate: 1.06E-03\n",
      "Avg loss of train: 0.054738\n",
      "Avg loss of validation: 5.393996\n",
      "AUC: 0.8351339818057999\n",
      "Early stop counter: 2/5, lowest val loss was 5.300053\n"
     ]
    },
    {
     "data": {
      "application/vnd.jupyter.widget-view+json": {
       "model_id": "3b1741574a704da68c68272ff7fbd13f",
       "version_major": 2,
       "version_minor": 0
      },
      "text/plain": [
       "HBox(children=(HTML(value=''), FloatProgress(value=0.0, max=782.0), HTML(value='')))"
      ]
     },
     "metadata": {},
     "output_type": "display_data"
    },
    {
     "name": "stdout",
     "output_type": "stream",
     "text": [
      "\n",
      "\n",
      "\n"
     ]
    },
    {
     "name": "stderr",
     "output_type": "stream",
     "text": [
      "WARNING:absl:Found untraced functions such as FGN_0_layer_call_and_return_conditional_losses, FGN_0_layer_call_fn, FGN_1_layer_call_and_return_conditional_losses, FGN_1_layer_call_fn, FGN_2_layer_call_and_return_conditional_losses while saving (showing 5 of 20). These functions will not be directly callable after loading.\n",
      "WARNING:absl:Found untraced functions such as FGN_0_layer_call_and_return_conditional_losses, FGN_0_layer_call_fn, FGN_1_layer_call_and_return_conditional_losses, FGN_1_layer_call_fn, FGN_2_layer_call_and_return_conditional_losses while saving (showing 5 of 20). These functions will not be directly callable after loading.\n"
     ]
    },
    {
     "name": "stdout",
     "output_type": "stream",
     "text": [
      "INFO:tensorflow:Assets written to: C:\\Users\\chris\\Christian\\3YR-UNI\\Bachelor\\IceCube\\stop_muon\\trained_models/stop_muon\\assets\n"
     ]
    },
    {
     "name": "stderr",
     "output_type": "stream",
     "text": [
      "INFO:tensorflow:Assets written to: C:\\Users\\chris\\Christian\\3YR-UNI\\Bachelor\\IceCube\\stop_muon\\trained_models/stop_muon\\assets\n"
     ]
    },
    {
     "name": "stdout",
     "output_type": "stream",
     "text": [
      "Model saved\n",
      "Epoch 11 of 100 done in 1679.39 seconds using learning rate: 9.57E-04\n",
      "Avg loss of train: 0.118466\n",
      "Avg loss of validation: 7.683432\n",
      "AUC: 0.7785514929099621\n",
      "Early stop counter: 3/5, lowest val loss was 5.300053\n"
     ]
    },
    {
     "data": {
      "application/vnd.jupyter.widget-view+json": {
       "model_id": "b02efadaec8f41aea757349f2bb363be",
       "version_major": 2,
       "version_minor": 0
      },
      "text/plain": [
       "HBox(children=(HTML(value=''), FloatProgress(value=0.0, max=782.0), HTML(value='')))"
      ]
     },
     "metadata": {},
     "output_type": "display_data"
    },
    {
     "name": "stdout",
     "output_type": "stream",
     "text": [
      "Epoch 12 of 100 done in 1667.19 seconds using learning rate: 8.61E-04\n",
      "Avg loss of train: 0.074265\n",
      "Avg loss of validation: 5.711841\n",
      "AUC: 0.786140017562721\n",
      "Early stop counter: 4/5, lowest val loss was 5.300053\n"
     ]
    },
    {
     "data": {
      "application/vnd.jupyter.widget-view+json": {
       "model_id": "49dc6afc4f8a4da4a8b1015a00dbe59e",
       "version_major": 2,
       "version_minor": 0
      },
      "text/plain": [
       "HBox(children=(HTML(value=''), FloatProgress(value=0.0, max=782.0), HTML(value='')))"
      ]
     },
     "metadata": {},
     "output_type": "display_data"
    },
    {
     "name": "stdout",
     "output_type": "stream",
     "text": [
      "Epoch 13 of 100 done in 1675.78 seconds using learning rate: 7.75E-04\n",
      "Avg loss of train: 0.061668\n",
      "Avg loss of validation: 5.273730\n",
      "AUC: 0.836511254552648\n",
      "Early stop counter: 0/5, lowest val loss was 5.273730\n"
     ]
    },
    {
     "data": {
      "application/vnd.jupyter.widget-view+json": {
       "model_id": "be9cdf33b3ff405c8347d96ad0d3e60c",
       "version_major": 2,
       "version_minor": 0
      },
      "text/plain": [
       "HBox(children=(HTML(value=''), FloatProgress(value=0.0, max=782.0), HTML(value='')))"
      ]
     },
     "metadata": {},
     "output_type": "display_data"
    },
    {
     "name": "stdout",
     "output_type": "stream",
     "text": [
      "\n",
      "\n",
      "\n",
      "Epoch 14 of 100 done in 1686.72 seconds using learning rate: 6.97E-04\n",
      "Avg loss of train: 0.052331\n",
      "Avg loss of validation: 5.001725\n",
      "AUC: 0.8442945679273588\n",
      "Early stop counter: 0/5, lowest val loss was 5.001725\n"
     ]
    },
    {
     "data": {
      "application/vnd.jupyter.widget-view+json": {
       "model_id": "ee487dd02178440fa17233ca89ca712f",
       "version_major": 2,
       "version_minor": 0
      },
      "text/plain": [
       "HBox(children=(HTML(value=''), FloatProgress(value=0.0, max=782.0), HTML(value='')))"
      ]
     },
     "metadata": {},
     "output_type": "display_data"
    },
    {
     "name": "stdout",
     "output_type": "stream",
     "text": [
      "Epoch 15 of 100 done in 1685.30 seconds using learning rate: 6.28E-04\n",
      "Avg loss of train: 0.050427\n",
      "Avg loss of validation: 4.921578\n",
      "AUC: 0.8536151263239973\n",
      "Early stop counter: 0/5, lowest val loss was 4.921578\n"
     ]
    },
    {
     "data": {
      "application/vnd.jupyter.widget-view+json": {
       "model_id": "4c0e1df2d325474ba5e9e969e6062147",
       "version_major": 2,
       "version_minor": 0
      },
      "text/plain": [
       "HBox(children=(HTML(value=''), FloatProgress(value=0.0, max=782.0), HTML(value='')))"
      ]
     },
     "metadata": {},
     "output_type": "display_data"
    },
    {
     "name": "stderr",
     "output_type": "stream",
     "text": [
      "WARNING:absl:Found untraced functions such as FGN_0_layer_call_and_return_conditional_losses, FGN_0_layer_call_fn, FGN_1_layer_call_and_return_conditional_losses, FGN_1_layer_call_fn, FGN_2_layer_call_and_return_conditional_losses while saving (showing 5 of 20). These functions will not be directly callable after loading.\n",
      "WARNING:absl:Found untraced functions such as FGN_0_layer_call_and_return_conditional_losses, FGN_0_layer_call_fn, FGN_1_layer_call_and_return_conditional_losses, FGN_1_layer_call_fn, FGN_2_layer_call_and_return_conditional_losses while saving (showing 5 of 20). These functions will not be directly callable after loading.\n"
     ]
    },
    {
     "name": "stdout",
     "output_type": "stream",
     "text": [
      "\n",
      "\n",
      "INFO:tensorflow:Assets written to: C:\\Users\\chris\\Christian\\3YR-UNI\\Bachelor\\IceCube\\stop_muon\\trained_models/stop_muon\\assets\n"
     ]
    },
    {
     "name": "stderr",
     "output_type": "stream",
     "text": [
      "INFO:tensorflow:Assets written to: C:\\Users\\chris\\Christian\\3YR-UNI\\Bachelor\\IceCube\\stop_muon\\trained_models/stop_muon\\assets\n"
     ]
    },
    {
     "name": "stdout",
     "output_type": "stream",
     "text": [
      "Model saved\n",
      "Epoch 16 of 100 done in 1681.05 seconds using learning rate: 5.65E-04\n",
      "Avg loss of train: 0.061523\n",
      "Avg loss of validation: 4.913006\n",
      "AUC: 0.8522031137696737\n",
      "Early stop counter: 0/5, lowest val loss was 4.913006\n"
     ]
    },
    {
     "data": {
      "application/vnd.jupyter.widget-view+json": {
       "model_id": "3e7f53531cd1426d855a8d3c0ada5a3e",
       "version_major": 2,
       "version_minor": 0
      },
      "text/plain": [
       "HBox(children=(HTML(value=''), FloatProgress(value=0.0, max=782.0), HTML(value='')))"
      ]
     },
     "metadata": {},
     "output_type": "display_data"
    },
    {
     "name": "stdout",
     "output_type": "stream",
     "text": [
      "Epoch 17 of 100 done in 1682.39 seconds using learning rate: 5.08E-04\n",
      "Avg loss of train: 0.049088\n",
      "\n",
      "Avg loss of validation: 4.819979\n",
      "AUC: 0.8643377166094356\n",
      "Early stop counter: 0/5, lowest val loss was 4.819979\n"
     ]
    },
    {
     "data": {
      "application/vnd.jupyter.widget-view+json": {
       "model_id": "ef6c607043aa40618cb470fa244a2231",
       "version_major": 2,
       "version_minor": 0
      },
      "text/plain": [
       "HBox(children=(HTML(value=''), FloatProgress(value=0.0, max=782.0), HTML(value='')))"
      ]
     },
     "metadata": {},
     "output_type": "display_data"
    },
    {
     "name": "stdout",
     "output_type": "stream",
     "text": [
      "Epoch 18 of 100 done in 1696.20 seconds using learning rate: 4.58E-04\n",
      "Avg loss of train: 0.047686\n",
      "Avg loss of validation: 4.551798\n",
      "AUC: 0.8704521886545933\n",
      "Early stop counter: 0/5, lowest val loss was 4.551798\n"
     ]
    },
    {
     "data": {
      "application/vnd.jupyter.widget-view+json": {
       "model_id": "b4f9396735a94e32b9c145846e7537fa",
       "version_major": 2,
       "version_minor": 0
      },
      "text/plain": [
       "HBox(children=(HTML(value=''), FloatProgress(value=0.0, max=782.0), HTML(value='')))"
      ]
     },
     "metadata": {},
     "output_type": "display_data"
    },
    {
     "name": "stdout",
     "output_type": "stream",
     "text": [
      "Epoch 19 of 100 done in 1684.73 seconds using learning rate: 4.12E-04\n",
      "Avg loss of train: 0.047017\n",
      "Avg loss of validation: 4.543890\n",
      "AUC: 0.871068760911003\n",
      "Early stop counter: 0/5, lowest val loss was 4.543890\n"
     ]
    },
    {
     "data": {
      "application/vnd.jupyter.widget-view+json": {
       "model_id": "880018801dd145a3b91b9b43327d6ca9",
       "version_major": 2,
       "version_minor": 0
      },
      "text/plain": [
       "HBox(children=(HTML(value=''), FloatProgress(value=0.0, max=782.0), HTML(value='')))"
      ]
     },
     "metadata": {},
     "output_type": "display_data"
    },
    {
     "name": "stdout",
     "output_type": "stream",
     "text": [
      "\n",
      "\n",
      "\n",
      "Epoch 20 of 100 done in 1689.95 seconds using learning rate: 3.71E-04\n",
      "Avg loss of train: 0.046135\n",
      "Avg loss of validation: 4.581362\n",
      "AUC: 0.8761866881113178\n",
      "Early stop counter: 1/5, lowest val loss was 4.543890\n"
     ]
    },
    {
     "data": {
      "application/vnd.jupyter.widget-view+json": {
       "model_id": "62d598824e3a4f18a7b13c9431401be4",
       "version_major": 2,
       "version_minor": 0
      },
      "text/plain": [
       "HBox(children=(HTML(value=''), FloatProgress(value=0.0, max=782.0), HTML(value='')))"
      ]
     },
     "metadata": {},
     "output_type": "display_data"
    },
    {
     "name": "stderr",
     "output_type": "stream",
     "text": [
      "WARNING:absl:Found untraced functions such as FGN_0_layer_call_and_return_conditional_losses, FGN_0_layer_call_fn, FGN_1_layer_call_and_return_conditional_losses, FGN_1_layer_call_fn, FGN_2_layer_call_and_return_conditional_losses while saving (showing 5 of 20). These functions will not be directly callable after loading.\n",
      "WARNING:absl:Found untraced functions such as FGN_0_layer_call_and_return_conditional_losses, FGN_0_layer_call_fn, FGN_1_layer_call_and_return_conditional_losses, FGN_1_layer_call_fn, FGN_2_layer_call_and_return_conditional_losses while saving (showing 5 of 20). These functions will not be directly callable after loading.\n"
     ]
    },
    {
     "name": "stdout",
     "output_type": "stream",
     "text": [
      "INFO:tensorflow:Assets written to: C:\\Users\\chris\\Christian\\3YR-UNI\\Bachelor\\IceCube\\stop_muon\\trained_models/stop_muon\\assets\n"
     ]
    },
    {
     "name": "stderr",
     "output_type": "stream",
     "text": [
      "INFO:tensorflow:Assets written to: C:\\Users\\chris\\Christian\\3YR-UNI\\Bachelor\\IceCube\\stop_muon\\trained_models/stop_muon\\assets\n"
     ]
    },
    {
     "name": "stdout",
     "output_type": "stream",
     "text": [
      "Model saved\n",
      "\n",
      "Epoch 21 of 100 done in 1685.93 seconds using learning rate: 3.34E-04\n",
      "Avg loss of train: 0.051858\n",
      "Avg loss of validation: 26.440769\n",
      "AUC: 0.7800758800572094\n",
      "Early stop counter: 2/5, lowest val loss was 4.543890\n"
     ]
    },
    {
     "data": {
      "application/vnd.jupyter.widget-view+json": {
       "model_id": "b5018b3696b84ed69bba515e269ed24f",
       "version_major": 2,
       "version_minor": 0
      },
      "text/plain": [
       "HBox(children=(HTML(value=''), FloatProgress(value=0.0, max=782.0), HTML(value='')))"
      ]
     },
     "metadata": {},
     "output_type": "display_data"
    },
    {
     "name": "stdout",
     "output_type": "stream",
     "text": [
      "Epoch 22 of 100 done in 1683.88 seconds using learning rate: 3.00E-04\n",
      "Avg loss of train: 0.050696\n",
      "Avg loss of validation: 4.484899\n",
      "AUC: 0.8771260017941818\n",
      "Early stop counter: 0/5, lowest val loss was 4.484899\n"
     ]
    },
    {
     "data": {
      "application/vnd.jupyter.widget-view+json": {
       "model_id": "11f13811cd3e456cb0b4657f15bc24d3",
       "version_major": 2,
       "version_minor": 0
      },
      "text/plain": [
       "HBox(children=(HTML(value=''), FloatProgress(value=0.0, max=782.0), HTML(value='')))"
      ]
     },
     "metadata": {},
     "output_type": "display_data"
    },
    {
     "name": "stdout",
     "output_type": "stream",
     "text": [
      "\n",
      "\n",
      "Epoch 23 of 100 done in 1690.53 seconds using learning rate: 2.70E-04\n",
      "Avg loss of train: 0.045324\n",
      "Avg loss of validation: 4.426564\n",
      "AUC: 0.8795818577048474\n",
      "Early stop counter: 0/5, lowest val loss was 4.426564\n"
     ]
    },
    {
     "data": {
      "application/vnd.jupyter.widget-view+json": {
       "model_id": "c195fc1e880641238744d20416e6b95e",
       "version_major": 2,
       "version_minor": 0
      },
      "text/plain": [
       "HBox(children=(HTML(value=''), FloatProgress(value=0.0, max=782.0), HTML(value='')))"
      ]
     },
     "metadata": {},
     "output_type": "display_data"
    },
    {
     "name": "stdout",
     "output_type": "stream",
     "text": [
      "Epoch 24 of 100 done in 1688.54 seconds using learning rate: 2.43E-04\n",
      "Avg loss of train: 0.044841\n",
      "Avg loss of validation: 4.470270\n",
      "AUC: 0.8810481041743843\n",
      "Early stop counter: 1/5, lowest val loss was 4.426564\n"
     ]
    },
    {
     "data": {
      "application/vnd.jupyter.widget-view+json": {
       "model_id": "62349e81829d435fb50d8a12c7d4af37",
       "version_major": 2,
       "version_minor": 0
      },
      "text/plain": [
       "HBox(children=(HTML(value=''), FloatProgress(value=0.0, max=782.0), HTML(value='')))"
      ]
     },
     "metadata": {},
     "output_type": "display_data"
    },
    {
     "name": "stdout",
     "output_type": "stream",
     "text": [
      "Epoch 25 of 100 done in 1684.88 seconds using learning rate: 2.19E-04\n",
      "Avg loss of train: 0.044711\n",
      "Avg loss of validation: 4.392567\n",
      "AUC: 0.8810873426221071\n",
      "Early stop counter: 0/5, lowest val loss was 4.392567\n"
     ]
    },
    {
     "data": {
      "application/vnd.jupyter.widget-view+json": {
       "model_id": "c49dfbb0c8414405866e52b3dff8c6f7",
       "version_major": 2,
       "version_minor": 0
      },
      "text/plain": [
       "HBox(children=(HTML(value=''), FloatProgress(value=0.0, max=782.0), HTML(value='')))"
      ]
     },
     "metadata": {},
     "output_type": "display_data"
    },
    {
     "name": "stdout",
     "output_type": "stream",
     "text": [
      "\n",
      "\n",
      "\n"
     ]
    },
    {
     "name": "stderr",
     "output_type": "stream",
     "text": [
      "WARNING:absl:Found untraced functions such as FGN_0_layer_call_and_return_conditional_losses, FGN_0_layer_call_fn, FGN_1_layer_call_and_return_conditional_losses, FGN_1_layer_call_fn, FGN_2_layer_call_and_return_conditional_losses while saving (showing 5 of 20). These functions will not be directly callable after loading.\n",
      "WARNING:absl:Found untraced functions such as FGN_0_layer_call_and_return_conditional_losses, FGN_0_layer_call_fn, FGN_1_layer_call_and_return_conditional_losses, FGN_1_layer_call_fn, FGN_2_layer_call_and_return_conditional_losses while saving (showing 5 of 20). These functions will not be directly callable after loading.\n"
     ]
    },
    {
     "name": "stdout",
     "output_type": "stream",
     "text": [
      "INFO:tensorflow:Assets written to: C:\\Users\\chris\\Christian\\3YR-UNI\\Bachelor\\IceCube\\stop_muon\\trained_models/stop_muon\\assets\n"
     ]
    },
    {
     "name": "stderr",
     "output_type": "stream",
     "text": [
      "INFO:tensorflow:Assets written to: C:\\Users\\chris\\Christian\\3YR-UNI\\Bachelor\\IceCube\\stop_muon\\trained_models/stop_muon\\assets\n"
     ]
    },
    {
     "name": "stdout",
     "output_type": "stream",
     "text": [
      "Model saved\n",
      "Epoch 26 of 100 done in 1691.33 seconds using learning rate: 1.97E-04\n",
      "Avg loss of train: 0.044503\n",
      "Avg loss of validation: 4.400403\n",
      "AUC: 0.8830449879758882\n",
      "Early stop counter: 1/5, lowest val loss was 4.392567\n"
     ]
    },
    {
     "data": {
      "application/vnd.jupyter.widget-view+json": {
       "model_id": "49db41ac00b846fd978a011cf4a79a6f",
       "version_major": 2,
       "version_minor": 0
      },
      "text/plain": [
       "HBox(children=(HTML(value=''), FloatProgress(value=0.0, max=782.0), HTML(value='')))"
      ]
     },
     "metadata": {},
     "output_type": "display_data"
    },
    {
     "name": "stdout",
     "output_type": "stream",
     "text": [
      "Epoch 27 of 100 done in 1691.92 seconds using learning rate: 1.77E-04\n",
      "Avg loss of train: 0.044188\n",
      "Avg loss of validation: 4.343545\n",
      "AUC: 0.8839732905165214\n",
      "Early stop counter: 0/5, lowest val loss was 4.343545\n"
     ]
    },
    {
     "data": {
      "application/vnd.jupyter.widget-view+json": {
       "model_id": "10de283ae3a348ac984239e0fa6a0d2b",
       "version_major": 2,
       "version_minor": 0
      },
      "text/plain": [
       "HBox(children=(HTML(value=''), FloatProgress(value=0.0, max=782.0), HTML(value='')))"
      ]
     },
     "metadata": {},
     "output_type": "display_data"
    },
    {
     "name": "stdout",
     "output_type": "stream",
     "text": [
      "Epoch 28 of 100 done in 1687.72 seconds using learning rate: 1.60E-04\n",
      "Avg loss of train: 0.044005\n",
      "Avg loss of validation: 4.338924\n",
      "AUC: 0.8843940694285269\n",
      "Early stop counter: 0/5, lowest val loss was 4.338924\n"
     ]
    },
    {
     "data": {
      "application/vnd.jupyter.widget-view+json": {
       "model_id": "9d9daaa434c343c58cafb3bb1b92d4b2",
       "version_major": 2,
       "version_minor": 0
      },
      "text/plain": [
       "HBox(children=(HTML(value=''), FloatProgress(value=0.0, max=782.0), HTML(value='')))"
      ]
     },
     "metadata": {},
     "output_type": "display_data"
    },
    {
     "name": "stdout",
     "output_type": "stream",
     "text": [
      "\n",
      "\n",
      "\n",
      "Epoch 29 of 100 done in 1729.24 seconds using learning rate: 1.44E-04\n",
      "Avg loss of train: 0.043969\n",
      "Avg loss of validation: 4.312335\n",
      "AUC: 0.8853522918049422\n",
      "Early stop counter: 0/5, lowest val loss was 4.312335\n"
     ]
    },
    {
     "data": {
      "application/vnd.jupyter.widget-view+json": {
       "model_id": "c4aa306b80ab49d8b1b5910945b5d60d",
       "version_major": 2,
       "version_minor": 0
      },
      "text/plain": [
       "HBox(children=(HTML(value=''), FloatProgress(value=0.0, max=782.0), HTML(value='')))"
      ]
     },
     "metadata": {},
     "output_type": "display_data"
    },
    {
     "name": "stdout",
     "output_type": "stream",
     "text": [
      "Epoch 30 of 100 done in 1688.04 seconds using learning rate: 1.29E-04\n",
      "Avg loss of train: 0.043661\n",
      "Avg loss of validation: 4.307004\n",
      "AUC: 0.8856128814508054\n",
      "Early stop counter: 0/5, lowest val loss was 4.307004\n"
     ]
    },
    {
     "data": {
      "application/vnd.jupyter.widget-view+json": {
       "model_id": "6bdadb399e244a8391930dc63b3e5512",
       "version_major": 2,
       "version_minor": 0
      },
      "text/plain": [
       "HBox(children=(HTML(value=''), FloatProgress(value=0.0, max=782.0), HTML(value='')))"
      ]
     },
     "metadata": {},
     "output_type": "display_data"
    },
    {
     "name": "stdout",
     "output_type": "stream",
     "text": [
      "\n",
      "\n"
     ]
    },
    {
     "name": "stderr",
     "output_type": "stream",
     "text": [
      "WARNING:absl:Found untraced functions such as FGN_0_layer_call_and_return_conditional_losses, FGN_0_layer_call_fn, FGN_1_layer_call_and_return_conditional_losses, FGN_1_layer_call_fn, FGN_2_layer_call_and_return_conditional_losses while saving (showing 5 of 20). These functions will not be directly callable after loading.\n",
      "WARNING:absl:Found untraced functions such as FGN_0_layer_call_and_return_conditional_losses, FGN_0_layer_call_fn, FGN_1_layer_call_and_return_conditional_losses, FGN_1_layer_call_fn, FGN_2_layer_call_and_return_conditional_losses while saving (showing 5 of 20). These functions will not be directly callable after loading.\n"
     ]
    },
    {
     "name": "stdout",
     "output_type": "stream",
     "text": [
      "INFO:tensorflow:Assets written to: C:\\Users\\chris\\Christian\\3YR-UNI\\Bachelor\\IceCube\\stop_muon\\trained_models/stop_muon\\assets\n"
     ]
    },
    {
     "name": "stderr",
     "output_type": "stream",
     "text": [
      "INFO:tensorflow:Assets written to: C:\\Users\\chris\\Christian\\3YR-UNI\\Bachelor\\IceCube\\stop_muon\\trained_models/stop_muon\\assets\n"
     ]
    },
    {
     "name": "stdout",
     "output_type": "stream",
     "text": [
      "Model saved\n",
      "Epoch 31 of 100 done in 1705.67 seconds using learning rate: 1.16E-04\n",
      "Avg loss of train: 0.043488\n",
      "Avg loss of validation: 4.293205\n",
      "AUC: 0.8864339654755141\n",
      "Early stop counter: 0/5, lowest val loss was 4.293205\n"
     ]
    },
    {
     "data": {
      "application/vnd.jupyter.widget-view+json": {
       "model_id": "ed852f12a13244b19fb97a81e6dfd69d",
       "version_major": 2,
       "version_minor": 0
      },
      "text/plain": [
       "HBox(children=(HTML(value=''), FloatProgress(value=0.0, max=782.0), HTML(value='')))"
      ]
     },
     "metadata": {},
     "output_type": "display_data"
    },
    {
     "name": "stdout",
     "output_type": "stream",
     "text": [
      "\n",
      "Epoch 32 of 100 done in 2414.45 seconds using learning rate: 1.05E-04\n",
      "Avg loss of train: 0.043394\n",
      "Avg loss of validation: 4.306696\n",
      "AUC: 0.8855435292603935\n",
      "Early stop counter: 1/5, lowest val loss was 4.293205\n"
     ]
    },
    {
     "data": {
      "application/vnd.jupyter.widget-view+json": {
       "model_id": "f9df8048aaf744bebbd1dd00081f7bf5",
       "version_major": 2,
       "version_minor": 0
      },
      "text/plain": [
       "HBox(children=(HTML(value=''), FloatProgress(value=0.0, max=782.0), HTML(value='')))"
      ]
     },
     "metadata": {},
     "output_type": "display_data"
    },
    {
     "name": "stdout",
     "output_type": "stream",
     "text": [
      "Epoch 33 of 100 done in 2443.84 seconds using learning rate: 9.42E-05\n",
      "Avg loss of train: 0.088576\n",
      "Avg loss of validation: 4.539249\n",
      "AUC: 0.8698401353524875\n",
      "Early stop counter: 2/5, lowest val loss was 4.293205\n"
     ]
    },
    {
     "data": {
      "application/vnd.jupyter.widget-view+json": {
       "model_id": "ffe8bd53ccf343478bfe49daa3344ec3",
       "version_major": 2,
       "version_minor": 0
      },
      "text/plain": [
       "HBox(children=(HTML(value=''), FloatProgress(value=0.0, max=782.0), HTML(value='')))"
      ]
     },
     "metadata": {},
     "output_type": "display_data"
    },
    {
     "ename": "KeyboardInterrupt",
     "evalue": "",
     "output_type": "error",
     "traceback": [
      "\u001b[1;31m---------------------------------------------------------------------------\u001b[0m",
      "\u001b[1;31mKeyboardInterrupt\u001b[0m                         Traceback (most recent call last)",
      "\u001b[1;32m<ipython-input-8-600e43a293dd>\u001b[0m in \u001b[0;36m<module>\u001b[1;34m\u001b[0m\n\u001b[0;32m     28\u001b[0m     \u001b[0mprint\u001b[0m\u001b[1;33m(\u001b[0m\u001b[1;34m'New folder for saving run '\u001b[0m\u001b[1;33m+\u001b[0m\u001b[0mwandbname\u001b[0m\u001b[1;33m)\u001b[0m\u001b[1;33m\u001b[0m\u001b[1;33m\u001b[0m\u001b[0m\n\u001b[0;32m     29\u001b[0m \u001b[0msummarylist\u001b[0m\u001b[1;33m=\u001b[0m\u001b[1;33m[\u001b[0m\u001b[1;33m]\u001b[0m\u001b[1;33m\u001b[0m\u001b[1;33m\u001b[0m\u001b[0m\n\u001b[1;32m---> 30\u001b[1;33m \u001b[1;32mfor\u001b[0m \u001b[0mbatch\u001b[0m \u001b[1;32min\u001b[0m \u001b[0mloader_train\u001b[0m\u001b[1;33m:\u001b[0m\u001b[1;33m\u001b[0m\u001b[1;33m\u001b[0m\u001b[0m\n\u001b[0m\u001b[0;32m     31\u001b[0m     \u001b[0minputs\u001b[0m\u001b[1;33m,\u001b[0m \u001b[0mtargets\u001b[0m \u001b[1;33m=\u001b[0m \u001b[0mbatch\u001b[0m\u001b[1;33m\u001b[0m\u001b[1;33m\u001b[0m\u001b[0m\n\u001b[0;32m     32\u001b[0m     \u001b[0mout\u001b[0m             \u001b[1;33m=\u001b[0m \u001b[0mtrain_step\u001b[0m\u001b[1;33m(\u001b[0m\u001b[0minputs\u001b[0m\u001b[1;33m,\u001b[0m \u001b[0mtargets\u001b[0m\u001b[1;33m)\u001b[0m\u001b[1;33m\u001b[0m\u001b[1;33m\u001b[0m\u001b[0m\n",
      "\u001b[1;32m~\\AppData\\Roaming\\Python\\Python38\\site-packages\\spektral\\data\\loaders.py\u001b[0m in \u001b[0;36m__next__\u001b[1;34m(self)\u001b[0m\n\u001b[0;32m     99\u001b[0m     \u001b[1;32mdef\u001b[0m \u001b[0m__next__\u001b[0m\u001b[1;33m(\u001b[0m\u001b[0mself\u001b[0m\u001b[1;33m)\u001b[0m\u001b[1;33m:\u001b[0m\u001b[1;33m\u001b[0m\u001b[1;33m\u001b[0m\u001b[0m\n\u001b[0;32m    100\u001b[0m         \u001b[0mnxt\u001b[0m \u001b[1;33m=\u001b[0m \u001b[0mself\u001b[0m\u001b[1;33m.\u001b[0m\u001b[0m_generator\u001b[0m\u001b[1;33m.\u001b[0m\u001b[0m__next__\u001b[0m\u001b[1;33m(\u001b[0m\u001b[1;33m)\u001b[0m\u001b[1;33m\u001b[0m\u001b[1;33m\u001b[0m\u001b[0m\n\u001b[1;32m--> 101\u001b[1;33m         \u001b[1;32mreturn\u001b[0m \u001b[0mself\u001b[0m\u001b[1;33m.\u001b[0m\u001b[0mcollate\u001b[0m\u001b[1;33m(\u001b[0m\u001b[0mnxt\u001b[0m\u001b[1;33m)\u001b[0m\u001b[1;33m\u001b[0m\u001b[1;33m\u001b[0m\u001b[0m\n\u001b[0m\u001b[0;32m    102\u001b[0m \u001b[1;33m\u001b[0m\u001b[0m\n\u001b[0;32m    103\u001b[0m     \u001b[1;32mdef\u001b[0m \u001b[0mgenerator\u001b[0m\u001b[1;33m(\u001b[0m\u001b[0mself\u001b[0m\u001b[1;33m)\u001b[0m\u001b[1;33m:\u001b[0m\u001b[1;33m\u001b[0m\u001b[1;33m\u001b[0m\u001b[0m\n",
      "\u001b[1;32m~\\AppData\\Roaming\\Python\\Python38\\site-packages\\spektral\\data\\loaders.py\u001b[0m in \u001b[0;36mcollate\u001b[1;34m(self, batch)\u001b[0m\n\u001b[0;32m    277\u001b[0m \u001b[1;33m\u001b[0m\u001b[0m\n\u001b[0;32m    278\u001b[0m     \u001b[1;32mdef\u001b[0m \u001b[0mcollate\u001b[0m\u001b[1;33m(\u001b[0m\u001b[0mself\u001b[0m\u001b[1;33m,\u001b[0m \u001b[0mbatch\u001b[0m\u001b[1;33m)\u001b[0m\u001b[1;33m:\u001b[0m\u001b[1;33m\u001b[0m\u001b[1;33m\u001b[0m\u001b[0m\n\u001b[1;32m--> 279\u001b[1;33m         \u001b[0mpacked\u001b[0m \u001b[1;33m=\u001b[0m \u001b[0mself\u001b[0m\u001b[1;33m.\u001b[0m\u001b[0mpack\u001b[0m\u001b[1;33m(\u001b[0m\u001b[0mbatch\u001b[0m\u001b[1;33m,\u001b[0m \u001b[0mreturn_dict\u001b[0m\u001b[1;33m=\u001b[0m\u001b[1;32mTrue\u001b[0m\u001b[1;33m)\u001b[0m\u001b[1;33m\u001b[0m\u001b[1;33m\u001b[0m\u001b[0m\n\u001b[0m\u001b[0;32m    280\u001b[0m         \u001b[0my\u001b[0m \u001b[1;33m=\u001b[0m \u001b[1;32mNone\u001b[0m\u001b[1;33m\u001b[0m\u001b[1;33m\u001b[0m\u001b[0m\n\u001b[0;32m    281\u001b[0m         \u001b[1;32mif\u001b[0m \u001b[1;34m'y'\u001b[0m \u001b[1;32min\u001b[0m \u001b[0mself\u001b[0m\u001b[1;33m.\u001b[0m\u001b[0mdataset\u001b[0m\u001b[1;33m.\u001b[0m\u001b[0msignature\u001b[0m\u001b[1;33m:\u001b[0m\u001b[1;33m\u001b[0m\u001b[1;33m\u001b[0m\u001b[0m\n",
      "\u001b[1;32m~\\AppData\\Roaming\\Python\\Python38\\site-packages\\spektral\\data\\loaders.py\u001b[0m in \u001b[0;36mpack\u001b[1;34m(self, batch, return_dict)\u001b[0m\n\u001b[0;32m    145\u001b[0m         \u001b[0moutput\u001b[0m \u001b[1;33m=\u001b[0m \u001b[1;33m[\u001b[0m\u001b[0mlist\u001b[0m\u001b[1;33m(\u001b[0m\u001b[0melem\u001b[0m\u001b[1;33m)\u001b[0m \u001b[1;32mfor\u001b[0m \u001b[0melem\u001b[0m \u001b[1;32min\u001b[0m \u001b[0mzip\u001b[0m\u001b[1;33m(\u001b[0m\u001b[1;33m*\u001b[0m\u001b[1;33m[\u001b[0m\u001b[0mg\u001b[0m\u001b[1;33m.\u001b[0m\u001b[0mnumpy\u001b[0m\u001b[1;33m(\u001b[0m\u001b[1;33m)\u001b[0m \u001b[1;32mfor\u001b[0m \u001b[0mg\u001b[0m \u001b[1;32min\u001b[0m \u001b[0mbatch\u001b[0m\u001b[1;33m]\u001b[0m\u001b[1;33m)\u001b[0m\u001b[1;33m]\u001b[0m\u001b[1;33m\u001b[0m\u001b[1;33m\u001b[0m\u001b[0m\n\u001b[0;32m    146\u001b[0m         \u001b[1;32mif\u001b[0m \u001b[0mreturn_dict\u001b[0m\u001b[1;33m:\u001b[0m\u001b[1;33m\u001b[0m\u001b[1;33m\u001b[0m\u001b[0m\n\u001b[1;32m--> 147\u001b[1;33m             \u001b[0mkeys\u001b[0m \u001b[1;33m=\u001b[0m \u001b[1;33m[\u001b[0m\u001b[0mk\u001b[0m \u001b[1;33m+\u001b[0m \u001b[1;34m'_list'\u001b[0m \u001b[1;32mfor\u001b[0m \u001b[0mk\u001b[0m \u001b[1;32min\u001b[0m \u001b[0mself\u001b[0m\u001b[1;33m.\u001b[0m\u001b[0mdataset\u001b[0m\u001b[1;33m.\u001b[0m\u001b[0msignature\u001b[0m\u001b[1;33m.\u001b[0m\u001b[0mkeys\u001b[0m\u001b[1;33m(\u001b[0m\u001b[1;33m)\u001b[0m\u001b[1;33m]\u001b[0m\u001b[1;33m\u001b[0m\u001b[1;33m\u001b[0m\u001b[0m\n\u001b[0m\u001b[0;32m    148\u001b[0m             \u001b[1;32mreturn\u001b[0m \u001b[1;33m{\u001b[0m\u001b[0mk\u001b[0m\u001b[1;33m:\u001b[0m \u001b[0mv\u001b[0m \u001b[1;32mfor\u001b[0m \u001b[0mk\u001b[0m\u001b[1;33m,\u001b[0m \u001b[0mv\u001b[0m \u001b[1;32min\u001b[0m \u001b[0mzip\u001b[0m\u001b[1;33m(\u001b[0m\u001b[0mkeys\u001b[0m\u001b[1;33m,\u001b[0m \u001b[0moutput\u001b[0m\u001b[1;33m)\u001b[0m\u001b[1;33m}\u001b[0m\u001b[1;33m\u001b[0m\u001b[1;33m\u001b[0m\u001b[0m\n\u001b[0;32m    149\u001b[0m         \u001b[1;32melse\u001b[0m\u001b[1;33m:\u001b[0m\u001b[1;33m\u001b[0m\u001b[1;33m\u001b[0m\u001b[0m\n",
      "\u001b[1;32m~\\AppData\\Roaming\\Python\\Python38\\site-packages\\spektral\\data\\dataset.py\u001b[0m in \u001b[0;36msignature\u001b[1;34m(self)\u001b[0m\n\u001b[0;32m    238\u001b[0m             \u001b[0msignature\u001b[0m\u001b[1;33m[\u001b[0m\u001b[1;34m'x'\u001b[0m\u001b[1;33m]\u001b[0m \u001b[1;33m=\u001b[0m \u001b[0mdict\u001b[0m\u001b[1;33m(\u001b[0m\u001b[1;33m)\u001b[0m\u001b[1;33m\u001b[0m\u001b[1;33m\u001b[0m\u001b[0m\n\u001b[0;32m    239\u001b[0m             \u001b[0msignature\u001b[0m\u001b[1;33m[\u001b[0m\u001b[1;34m'x'\u001b[0m\u001b[1;33m]\u001b[0m\u001b[1;33m[\u001b[0m\u001b[1;34m'spec'\u001b[0m\u001b[1;33m]\u001b[0m \u001b[1;33m=\u001b[0m \u001b[0mget_spec\u001b[0m\u001b[1;33m(\u001b[0m\u001b[0mgraph\u001b[0m\u001b[1;33m.\u001b[0m\u001b[0mx\u001b[0m\u001b[1;33m)\u001b[0m\u001b[1;33m\u001b[0m\u001b[1;33m\u001b[0m\u001b[0m\n\u001b[1;32m--> 240\u001b[1;33m             \u001b[0msignature\u001b[0m\u001b[1;33m[\u001b[0m\u001b[1;34m'x'\u001b[0m\u001b[1;33m]\u001b[0m\u001b[1;33m[\u001b[0m\u001b[1;34m'shape'\u001b[0m\u001b[1;33m]\u001b[0m \u001b[1;33m=\u001b[0m \u001b[1;33m(\u001b[0m\u001b[1;32mNone\u001b[0m\u001b[1;33m,\u001b[0m \u001b[0mself\u001b[0m\u001b[1;33m.\u001b[0m\u001b[0mn_node_features\u001b[0m\u001b[1;33m)\u001b[0m\u001b[1;33m\u001b[0m\u001b[1;33m\u001b[0m\u001b[0m\n\u001b[0m\u001b[0;32m    241\u001b[0m             \u001b[0msignature\u001b[0m\u001b[1;33m[\u001b[0m\u001b[1;34m'x'\u001b[0m\u001b[1;33m]\u001b[0m\u001b[1;33m[\u001b[0m\u001b[1;34m'dtype'\u001b[0m\u001b[1;33m]\u001b[0m \u001b[1;33m=\u001b[0m \u001b[0mtf\u001b[0m\u001b[1;33m.\u001b[0m\u001b[0mas_dtype\u001b[0m\u001b[1;33m(\u001b[0m\u001b[0mgraph\u001b[0m\u001b[1;33m.\u001b[0m\u001b[0mx\u001b[0m\u001b[1;33m.\u001b[0m\u001b[0mdtype\u001b[0m\u001b[1;33m)\u001b[0m\u001b[1;33m\u001b[0m\u001b[1;33m\u001b[0m\u001b[0m\n\u001b[0;32m    242\u001b[0m         \u001b[1;32mif\u001b[0m \u001b[0mgraph\u001b[0m\u001b[1;33m.\u001b[0m\u001b[0ma\u001b[0m \u001b[1;32mis\u001b[0m \u001b[1;32mnot\u001b[0m \u001b[1;32mNone\u001b[0m\u001b[1;33m:\u001b[0m\u001b[1;33m\u001b[0m\u001b[1;33m\u001b[0m\u001b[0m\n",
      "\u001b[1;32m~\\AppData\\Roaming\\Python\\Python38\\site-packages\\spektral\\data\\dataset.py\u001b[0m in \u001b[0;36mn_node_features\u001b[1;34m(self)\u001b[0m\n\u001b[0;32m    199\u001b[0m     \u001b[1;33m@\u001b[0m\u001b[0mproperty\u001b[0m\u001b[1;33m\u001b[0m\u001b[1;33m\u001b[0m\u001b[0m\n\u001b[0;32m    200\u001b[0m     \u001b[1;32mdef\u001b[0m \u001b[0mn_node_features\u001b[0m\u001b[1;33m(\u001b[0m\u001b[0mself\u001b[0m\u001b[1;33m)\u001b[0m\u001b[1;33m:\u001b[0m\u001b[1;33m\u001b[0m\u001b[1;33m\u001b[0m\u001b[0m\n\u001b[1;32m--> 201\u001b[1;33m         \u001b[1;32mif\u001b[0m \u001b[0mlen\u001b[0m\u001b[1;33m(\u001b[0m\u001b[0mself\u001b[0m\u001b[1;33m.\u001b[0m\u001b[0mgraphs\u001b[0m\u001b[1;33m)\u001b[0m \u001b[1;33m==\u001b[0m \u001b[1;36m1\u001b[0m \u001b[1;32mor\u001b[0m \u001b[0mlen\u001b[0m\u001b[1;33m(\u001b[0m\u001b[0mset\u001b[0m\u001b[1;33m(\u001b[0m\u001b[1;33m[\u001b[0m\u001b[0mg\u001b[0m\u001b[1;33m.\u001b[0m\u001b[0mn_node_features\u001b[0m \u001b[1;32mfor\u001b[0m \u001b[0mg\u001b[0m \u001b[1;32min\u001b[0m \u001b[0mself\u001b[0m\u001b[1;33m.\u001b[0m\u001b[0mgraphs\u001b[0m\u001b[1;33m]\u001b[0m\u001b[1;33m)\u001b[0m\u001b[1;33m)\u001b[0m \u001b[1;33m==\u001b[0m \u001b[1;36m1\u001b[0m\u001b[1;33m:\u001b[0m\u001b[1;33m\u001b[0m\u001b[1;33m\u001b[0m\u001b[0m\n\u001b[0m\u001b[0;32m    202\u001b[0m             \u001b[1;32mreturn\u001b[0m \u001b[0mself\u001b[0m\u001b[1;33m.\u001b[0m\u001b[0mgraphs\u001b[0m\u001b[1;33m[\u001b[0m\u001b[1;36m0\u001b[0m\u001b[1;33m]\u001b[0m\u001b[1;33m.\u001b[0m\u001b[0mn_node_features\u001b[0m\u001b[1;33m\u001b[0m\u001b[1;33m\u001b[0m\u001b[0m\n\u001b[0;32m    203\u001b[0m         \u001b[1;32melse\u001b[0m\u001b[1;33m:\u001b[0m\u001b[1;33m\u001b[0m\u001b[1;33m\u001b[0m\u001b[0m\n",
      "\u001b[1;32m~\\AppData\\Roaming\\Python\\Python38\\site-packages\\spektral\\data\\dataset.py\u001b[0m in \u001b[0;36m<listcomp>\u001b[1;34m(.0)\u001b[0m\n\u001b[0;32m    199\u001b[0m     \u001b[1;33m@\u001b[0m\u001b[0mproperty\u001b[0m\u001b[1;33m\u001b[0m\u001b[1;33m\u001b[0m\u001b[0m\n\u001b[0;32m    200\u001b[0m     \u001b[1;32mdef\u001b[0m \u001b[0mn_node_features\u001b[0m\u001b[1;33m(\u001b[0m\u001b[0mself\u001b[0m\u001b[1;33m)\u001b[0m\u001b[1;33m:\u001b[0m\u001b[1;33m\u001b[0m\u001b[1;33m\u001b[0m\u001b[0m\n\u001b[1;32m--> 201\u001b[1;33m         \u001b[1;32mif\u001b[0m \u001b[0mlen\u001b[0m\u001b[1;33m(\u001b[0m\u001b[0mself\u001b[0m\u001b[1;33m.\u001b[0m\u001b[0mgraphs\u001b[0m\u001b[1;33m)\u001b[0m \u001b[1;33m==\u001b[0m \u001b[1;36m1\u001b[0m \u001b[1;32mor\u001b[0m \u001b[0mlen\u001b[0m\u001b[1;33m(\u001b[0m\u001b[0mset\u001b[0m\u001b[1;33m(\u001b[0m\u001b[1;33m[\u001b[0m\u001b[0mg\u001b[0m\u001b[1;33m.\u001b[0m\u001b[0mn_node_features\u001b[0m \u001b[1;32mfor\u001b[0m \u001b[0mg\u001b[0m \u001b[1;32min\u001b[0m \u001b[0mself\u001b[0m\u001b[1;33m.\u001b[0m\u001b[0mgraphs\u001b[0m\u001b[1;33m]\u001b[0m\u001b[1;33m)\u001b[0m\u001b[1;33m)\u001b[0m \u001b[1;33m==\u001b[0m \u001b[1;36m1\u001b[0m\u001b[1;33m:\u001b[0m\u001b[1;33m\u001b[0m\u001b[1;33m\u001b[0m\u001b[0m\n\u001b[0m\u001b[0;32m    202\u001b[0m             \u001b[1;32mreturn\u001b[0m \u001b[0mself\u001b[0m\u001b[1;33m.\u001b[0m\u001b[0mgraphs\u001b[0m\u001b[1;33m[\u001b[0m\u001b[1;36m0\u001b[0m\u001b[1;33m]\u001b[0m\u001b[1;33m.\u001b[0m\u001b[0mn_node_features\u001b[0m\u001b[1;33m\u001b[0m\u001b[1;33m\u001b[0m\u001b[0m\n\u001b[0;32m    203\u001b[0m         \u001b[1;32melse\u001b[0m\u001b[1;33m:\u001b[0m\u001b[1;33m\u001b[0m\u001b[1;33m\u001b[0m\u001b[0m\n",
      "\u001b[1;32m~\\AppData\\Roaming\\Python\\Python38\\site-packages\\spektral\\data\\graph.py\u001b[0m in \u001b[0;36mn_node_features\u001b[1;34m(self)\u001b[0m\n\u001b[0;32m    103\u001b[0m     \u001b[1;33m@\u001b[0m\u001b[0mproperty\u001b[0m\u001b[1;33m\u001b[0m\u001b[1;33m\u001b[0m\u001b[0m\n\u001b[0;32m    104\u001b[0m     \u001b[1;32mdef\u001b[0m \u001b[0mn_node_features\u001b[0m\u001b[1;33m(\u001b[0m\u001b[0mself\u001b[0m\u001b[1;33m)\u001b[0m\u001b[1;33m:\u001b[0m\u001b[1;33m\u001b[0m\u001b[1;33m\u001b[0m\u001b[0m\n\u001b[1;32m--> 105\u001b[1;33m         \u001b[1;32mif\u001b[0m \u001b[0mself\u001b[0m\u001b[1;33m.\u001b[0m\u001b[0mx\u001b[0m \u001b[1;32mis\u001b[0m \u001b[1;32mnot\u001b[0m \u001b[1;32mNone\u001b[0m\u001b[1;33m:\u001b[0m\u001b[1;33m\u001b[0m\u001b[1;33m\u001b[0m\u001b[0m\n\u001b[0m\u001b[0;32m    106\u001b[0m             \u001b[1;32mreturn\u001b[0m \u001b[0mself\u001b[0m\u001b[1;33m.\u001b[0m\u001b[0mx\u001b[0m\u001b[1;33m.\u001b[0m\u001b[0mshape\u001b[0m\u001b[1;33m[\u001b[0m\u001b[1;33m-\u001b[0m\u001b[1;36m1\u001b[0m\u001b[1;33m]\u001b[0m\u001b[1;33m\u001b[0m\u001b[1;33m\u001b[0m\u001b[0m\n\u001b[0;32m    107\u001b[0m         \u001b[1;32melse\u001b[0m\u001b[1;33m:\u001b[0m\u001b[1;33m\u001b[0m\u001b[1;33m\u001b[0m\u001b[0m\n",
      "\u001b[1;31mKeyboardInterrupt\u001b[0m: "
     ]
    }
   ],
   "source": [
    "k=0\n",
    "if notebook:\n",
    "    k=0.2\n",
    "tot_time=0\n",
    "current_batch = 0\n",
    "current_epoch = 1\n",
    "loss          = 0\n",
    "lowest_loss   = np.inf\n",
    "early_stop    = 1\n",
    "early_stop_counter    = 0\n",
    "if notebook:\n",
    "    pbar0          = tqdm(total = epochs, position = 0, leave = True)\n",
    "    pbar0.set_description(f\"Epochbar\")\n",
    "pbar          = tqdm(total = loader_train.steps_per_epoch, position = k, leave = True)\n",
    "start_time    = time.time()\n",
    "lr_gen        = lr_schedule(initial=learning_rate)\n",
    "learning_Rate = next(lr_gen)\n",
    "cwd = osp.abspath('')\n",
    "save_path = osp.join(cwd, 'trained_models/'+scenario)\n",
    "if not osp.isdir(save_path):\n",
    "    os.makedirs(save_path)\n",
    "    print('New folder for saving '+scenario+' made')\n",
    "# Implement saving model archictecture to wandb\n",
    "if wandblog:\n",
    "    save_path = osp.join(save_path, wandbname)\n",
    "if not osp.isdir(save_path):\n",
    "    os.makedirs(save_path)\n",
    "    print('New folder for saving run '+wandbname)\n",
    "summarylist=[]\n",
    "for batch in loader_train:\n",
    "    inputs, targets = batch\n",
    "    out             = train_step(inputs, targets)\n",
    "    loss           += out\n",
    "    if current_epoch==1 and current_batch==0:\n",
    "        model.summary()\n",
    "        if wandblog:\n",
    "            summary=model.summary(print_fn=summarylist.append)\n",
    "            table=wandb.Table(columns=[\"Layers\"])\n",
    "            for s in summarylist:\n",
    "                table.add_data(s)\n",
    "            wandb.log({'Model summary': table})\n",
    "            n_params=np.sum([np.prod(v.get_shape()) for v in model.variables])\n",
    "            wandb.config['n_params']=n_params\n",
    "    current_batch  += 1\n",
    "    pbar.update(1)\n",
    "    pbar.set_description(f\"Epoch {current_epoch} / {epochs}; Avg_loss: {loss / current_batch:.6f}\")\n",
    "    \n",
    "    \n",
    "    if current_batch == loader_train.steps_per_epoch:\n",
    "        t=time.time() - start_time\n",
    "        tot_time+=t\n",
    "        print(f\"Epoch {current_epoch} of {epochs} done in {t:.2f} seconds using learning rate: {learning_rate:.2E}\")\n",
    "        print(f\"Avg loss of train: {loss / loader_train.steps_per_epoch:.6f}\")\n",
    "\n",
    "        loader_val    = DisjointLoader(dataset_val, epochs = 1,      batch_size = batch_size)\n",
    "        val_loss, auc = validation(loader_val)\n",
    "#         val_loss, val_metric = validation(loader_val)\n",
    "        if wandblog:\n",
    "            wandb.log({\"Train Loss\":      loss / loader_train.steps_per_epoch,\n",
    "                       \"Val loss\": val_loss,\n",
    "                      'AUC': auc})\n",
    "        print(f\"Avg loss of validation: {val_loss:.6f}\")\n",
    "        print(f\"AUC: {auc}\")\n",
    "        if val_loss < lowest_loss:\n",
    "            early_stop_counter = 0\n",
    "            lowest_loss        = val_loss\n",
    "        else:\n",
    "            early_stop_counter += 1\n",
    "        print(f'Early stop counter: {early_stop_counter}/{patience}, lowest val loss was {lowest_loss:.6f}')\n",
    "        if early_stop and (early_stop_counter >= patience):\n",
    "            model.save(save_path)\n",
    "            print(f\"Stopped training. No improvement was seen in {patience} epochs\")\n",
    "            break\n",
    "\n",
    "        if current_epoch != epochs:\n",
    "            pbar          = tqdm(total = loader_train.steps_per_epoch, position = k, leave = True)\n",
    "\n",
    "        learning_rate = next(lr_gen)\n",
    "        opt.learning_rate.assign(learning_rate)\n",
    "        if notebook:\n",
    "            pbar0.update(1)\n",
    "        time_avg=tot_time/current_epoch\n",
    "        delta=dt.timedelta(seconds=time_avg*(epochs-current_epoch))\n",
    "        now = dt.datetime.now()\n",
    "        then=now+delta\n",
    "        time_e = then.strftime(\"%H:%M:%S\")\n",
    "        if notebook:\n",
    "            pbar0.set_description(f\"Expect to finish at {time_e}\")\n",
    "        if current_epoch % patience == 0:\n",
    "            model.save(save_path)\n",
    "            print(\"Model saved\")\n",
    "            if wandblog:\n",
    "                loader_test = DisjointLoader(dataset_test, batch_size=batch_size, epochs=1)\n",
    "                fig, ax = performance_e_alpha(loader_test, save=True, save_path=save_path)\n",
    "                title=\"Metricsplot_\"+str(current_epoch)\n",
    "                wandb.log({title: [wandb.Image(fig, caption=title)]})\n",
    "    \n",
    "        loss            = 0\n",
    "        start_time      = time.time()\n",
    "        current_epoch  += 1\n",
    "        current_batch   = 0\n",
    "if wandblog:\n",
    "    run.finish()        \n",
    "if notebook:\n",
    "    winsound.Beep(400,300)"
   ]
  },
  {
   "cell_type": "code",
   "execution_count": 11,
   "metadata": {
    "ExecuteTime": {
     "end_time": "2021-03-22T15:33:36.160785Z",
     "start_time": "2021-03-22T15:32:41.434354Z"
    }
   },
   "outputs": [
    {
     "data": {
      "image/png": "[encoded data removed]",
      "text/plain": [
       "<Figure size 864x504 with 2 Axes>"
      ]
     },
     "metadata": {
      "needs_background": "light"
     },
     "output_type": "display_data"
    }
   ],
   "source": [
    "loader = DisjointLoader(dataset_test, batch_size=batch_size, epochs=1)\n",
    "plot_roc(loader)"
   ]
  },
  {
   "cell_type": "code",
   "execution_count": 12,
   "metadata": {
    "ExecuteTime": {
     "end_time": "2021-03-22T15:34:29.081453Z",
     "start_time": "2021-03-22T15:33:36.162780Z"
    }
   },
   "outputs": [],
   "source": [
    "loader = DisjointLoader(dataset_test, batch_size=batch_size, epochs=1)\n",
    "prediction_list, target_list = [], []\n",
    "for batch in loader:\n",
    "    inputs, targets = batch\n",
    "    predictions, targets, out = test_step(inputs, targets)\n",
    "    loss           += out\n",
    "\n",
    "    prediction_list.append(predictions)\n",
    "    target_list.append(targets)\n",
    "\n",
    "y_reco  = tf.concat(prediction_list, axis = 0)\n",
    "y_true  = tf.concat(target_list, axis = 0)\n",
    "y_true  = tf.cast(y_true, tf.float32)"
   ]
  },
  {
   "cell_type": "code",
   "execution_count": 13,
   "metadata": {
    "ExecuteTime": {
     "end_time": "2021-03-22T15:39:55.466388Z",
     "start_time": "2021-03-22T15:39:54.412640Z"
    }
   },
   "outputs": [
    {
     "data": {
      "image/png": "[encoded data removed]",
      "text/plain": [
       "<Figure size 432x288 with 1 Axes>"
      ]
     },
     "metadata": {
      "needs_background": "light"
     },
     "output_type": "display_data"
    }
   ],
   "source": [
    "plt.hist(y_reco.numpy(), bins=100);\n",
    "plt.yscale('log')"
   ]
  },
  {
   "cell_type": "code",
   "execution_count": null,
   "metadata": {
    "ExecuteTime": {
     "end_time": "2021-03-22T10:35:01.666209Z",
     "start_time": "2021-03-21T17:50:23.860Z"
    }
   },
   "outputs": [],
   "source": [
    "k=1\n",
    "# mask=np.abs(y_reco[:,k]-y_true[:,k])>np.pi\n",
    "# mask=y_reco[:,k]<0\n",
    "\n",
    "plt.hist(y_reco[:,k]%(np.pi/2), bins=50, alpha=0.4);\n",
    "# plt.hist(np.abs(y_reco[:,2])-y_true[:,2], bins=50, alpha=0.4);\n",
    "# plt.hist(np.abs(y_reco[:,k]), bins=50, alpha=0.4);\n",
    "plt.hist(np.abs(y_true[:,k]), bins=50, alpha=0.4);"
   ]
  },
  {
   "cell_type": "code",
   "execution_count": null,
   "metadata": {
    "ExecuteTime": {
     "end_time": "2021-03-22T10:35:01.667206Z",
     "start_time": "2021-03-21T17:50:23.862Z"
    }
   },
   "outputs": [],
   "source": [
    "fig3, ax3 = plt.subplots()\n",
    "ax3.hist2d(y_true[:,k], y_reco[:,k]%(np.pi/2), bins=100, range=[np.percentile(y_reco[:,k]%(np.pi/2),[1,99]),[0,2]]);"
   ]
  },
  {
   "cell_type": "code",
   "execution_count": null,
   "metadata": {
    "ExecuteTime": {
     "end_time": "2021-03-22T10:35:01.669201Z",
     "start_time": "2021-03-21T17:50:23.863Z"
    },
    "code_folding": [
     0
    ]
   },
   "outputs": [],
   "source": [
    "def test(loader):\n",
    "    loss = 0\n",
    "    prediction_list, target_list = [], []\n",
    "    for batch in loader:\n",
    "        inputs, targets = batch\n",
    "        inputs[0][:, :3] = inputs[0][:, :3] / 1000\n",
    "        predictions, targets, out = test_step(inputs, targets)\n",
    "        loss           += out\n",
    "        \n",
    "        prediction_list.append(predictions)\n",
    "        target_list.append(targets)\n",
    "\n",
    "    y_reco  = tf.concat(prediction_list, axis = 0).numpy()\n",
    "    y_true  = tf.concat(target_list, axis = 0)\n",
    "    y_true  = tf.cast(y_true, tf.float32).numpy()\n",
    "\n",
    "\n",
    "#     # Unit vects to angles\n",
    "#     reco_vects = normalize(y_reco[:, 1:])    \n",
    "#     true_vects = normalize(y_true[:, 1:])\n",
    "\n",
    "\n",
    "#     reco_azi   = np.arctan2(reco_vects[:, 1], reco_vects[:, 0])\n",
    "#     reco_zen   = np.arctan2(reco_vects[:, 2], np.sqrt((reco_vects[:, :2] ** 2).sum(1)))\n",
    "\n",
    "#     true_azi   = np.arctan2(true_vects[:, 1], true_vects[:, 0])\n",
    "#     true_zen   = np.arctan2(true_vects[:, 2], np.sqrt((true_vects[:, :2] ** 2).sum(1)))\n",
    "\n",
    "\n",
    "\n",
    "\n",
    "\n",
    "    energy = y_true[:, 0]\n",
    "    counts, bins = np.histogram(energy, bins = 10)\n",
    "\n",
    "    xs = (bins[1:] + bins[: -1]) / 2\n",
    "\n",
    "    w_energies, u_angles = [], []\n",
    "\n",
    "    for i in range(len(bins)-1):\n",
    "        idx = np.logical_and(energy > bins[i], energy < bins[i + 1])\n",
    "\n",
    "        w, u_angle = metrics(y_true[idx, :], y_reco[idx, :])\n",
    "\n",
    "        w_energies.append(w)\n",
    "        u_angles.append(u_angle)\n",
    "\n",
    "\n",
    "    fig, ax = plt.subplots(ncols = 3, nrows = 3, figsize = (12, 12))\n",
    "\n",
    "    for a in ax[0]:\n",
    "        a_ = a.twinx()\n",
    "        a_.step(xs, counts, color = \"gray\", zorder = 10, alpha = 0.7, where = \"mid\")\n",
    "        a_.set_yscale(\"log\")\n",
    "        a.set_xlabel(\"Log Energy\")\n",
    "    \n",
    "    ax_top = ax[0]\n",
    "\n",
    "    # Energy reconstruction\n",
    "    ax_top[0].scatter(xs, w_energies)\n",
    "    ax_top[0].set_title(\"Energy Performance\")\n",
    "    ax_top[0].set_ylabel(r\"$w(\\Delta log(E)$\")\n",
    "\n",
    "\n",
    "    # Angle reconstruction\n",
    "    ax_top[1].scatter(xs, u_angles)\n",
    "    ax_top[1].set_title(\"Angle Performance\")\n",
    "    ax_top[1].set_ylabel(r\"$u(\\Delta \\Omega)$\")\n",
    "\n",
    "\n",
    "    # truth - pred plots\n",
    "    ax_mid = ax[1]\n",
    "\n",
    "    # Energy\n",
    "    ax_mid[0].set_title(\"Energy\")\n",
    "    ax_mid[0].plot(y_true[:, 0], y_reco[:, 0], 'b.', alpha = 0.25)\n",
    "\n",
    "\n",
    "    # Zenith\n",
    "    ax_mid[1].set_title(\"Zenith angle\")\n",
    "    ax_mid[1].plot(true_zen, reco_zen, 'b.', alpha = 0.25)\n",
    "    \n",
    "\n",
    "    # Azimuthal\n",
    "    ax_mid[2].set_title(\"Azimuthal angle\")\n",
    "    ax_mid[2].plot(true_azi, reco_azi, 'b.', alpha = 0.25)\n",
    "\n",
    "\n",
    "\n",
    "\n",
    "\n",
    "    # Histogram of guesses\n",
    "    ax_bot = ax[2]\n",
    "\n",
    "    # Energy\n",
    "    ax_bot[0].set_title(\"Energy\")\n",
    "    ax_bot[0].hist(y_reco[:, 0] - y_true[:, 0], label = \"reco - true\", histtype = \"step\", bins = 50)\n",
    "    ax_bot[0].hist(y_reco[:, 0], label = \"reco\", histtype = \"step\", bins = 50)\n",
    "    ax_bot[0].hist(y_true[:, 0], label = \"true\", histtype = \"step\", bins = 50)\n",
    "\n",
    "    # Zenith\n",
    "    ax_bot[1].set_title(\"Zenith angle\")\n",
    "    ax_bot[1].hist(reco_zen - true_zen, label = \"reco - true\", histtype = \"step\", bins = 50)\n",
    "    ax_bot[1].hist(reco_zen, label = \"reco\", histtype = \"step\", bins = 50)\n",
    "    ax_bot[1].hist(true_zen, label = \"true\", histtype = \"step\", bins = 50)\n",
    "\n",
    "    # Azimuthal\n",
    "    ax_bot[2].set_title(\"Azimuthal angle\")\n",
    "    ax_bot[2].hist(reco_azi - true_azi, label = \"reco - true\", histtype = \"step\", bins = 50)\n",
    "    ax_bot[2].hist(reco_azi, label = \"reco\", histtype = \"step\", bins = 50)\n",
    "    ax_bot[2].hist(true_azi, label = \"true\", histtype = \"step\", bins = 50)\n",
    "    ax_bot[2].legend()\n",
    "\n",
    "    fig.tight_layout()\n",
    "\n",
    "    return fig, ax"
   ]
  },
  {
   "cell_type": "code",
   "execution_count": null,
   "metadata": {
    "ExecuteTime": {
     "end_time": "2021-03-22T10:35:01.670198Z",
     "start_time": "2021-03-21T17:50:23.864Z"
    }
   },
   "outputs": [],
   "source": [
    "test(loader_test)"
   ]
  },
  {
   "cell_type": "code",
   "execution_count": null,
   "metadata": {},
   "outputs": [],
   "source": []
  }
 ],
 "metadata": {
  "hide_input": false,
  "kernelspec": {
   "display_name": "Python 3",
   "language": "python",
   "name": "python3"
  },
  "language_info": {
   "codemirror_mode": {
    "name": "ipython",
    "version": 3
   },
   "file_extension": ".py",
   "mimetype": "text/x-python",
   "name": "python",
   "nbconvert_exporter": "python",
   "pygments_lexer": "ipython3",
   "version": "3.8.5"
  }
 },
 "nbformat": 4,
 "nbformat_minor": 4
}
