{
 "cells": [
  {
   "cell_type": "code",
   "execution_count": 1,
   "metadata": {
    "ExecuteTime": {
     "end_time": "2021-03-18T14:52:44.935695Z",
     "start_time": "2021-03-18T14:52:43.619777Z"
    }
   },
   "outputs": [],
   "source": [
    "import json, wandb\n",
    "from importlib import reload"
   ]
  },
  {
   "cell_type": "code",
   "execution_count": 2,
   "metadata": {
    "ExecuteTime": {
     "end_time": "2021-03-18T14:52:44.942308Z",
     "start_time": "2021-03-18T14:52:44.937320Z"
    }
   },
   "outputs": [],
   "source": [
    "with open('experiments/todo/0GCN.json') as file:\n",
    "        construct_dict = json.load(file)"
   ]
  },
  {
   "cell_type": "code",
   "execution_count": 3,
   "metadata": {
    "ExecuteTime": {
     "end_time": "2021-03-18T14:52:44.959297Z",
     "start_time": "2021-03-18T14:52:44.945299Z"
    }
   },
   "outputs": [
    {
     "data": {
      "text/plain": [
       "100.0"
      ]
     },
     "execution_count": 3,
     "metadata": {},
     "output_type": "execute_result"
    }
   ],
   "source": [
    "construct_dict['data_params']['n_data']"
   ]
  },
  {
   "cell_type": "code",
   "execution_count": 4,
   "metadata": {
    "ExecuteTime": {
     "end_time": "2021-03-18T14:52:44.964249Z",
     "start_time": "2021-03-18T14:52:44.961256Z"
    }
   },
   "outputs": [],
   "source": [
    "# !wandb login b5b917a9390932e56fccfcbff6f528ccd85c44bf\n",
    "# run=wandb.init(project=\"test\", entity=\"chri862z\", config=construct_dict)"
   ]
  },
  {
   "cell_type": "code",
   "execution_count": 12,
   "metadata": {
    "ExecuteTime": {
     "end_time": "2021-03-18T14:51:49.430743Z",
     "start_time": "2021-03-18T14:51:49.424721Z"
    }
   },
   "outputs": [
    {
     "data": {
      "text/plain": [
       "{'experiment': 'IceCube',\n",
       " 'group': 'GCN_nlayers',\n",
       " 'model_name': 'GCN_nlayers',\n",
       " 'angle_unitvec': 'angle',\n",
       " 'wandblog': True,\n",
       " 'run_params': {'epochs': 100,\n",
       "  'batch_size': 512,\n",
       "  'early_stop': True,\n",
       "  'patience': 20,\n",
       "  'lr_schedule': 'classic',\n",
       "  'learning_rate': 0.001,\n",
       "  'warm_up': 3,\n",
       "  'lr_decay': 0.9,\n",
       "  'val_epoch': 20,\n",
       "  'loss_func': 'abs_vonMises_angle',\n",
       "  'metrics': 'energy_angle',\n",
       "  'performance_plot': 'performance_e_alpha'},\n",
       " 'hyper_params': {'n_out': 4,\n",
       "  'hidden_states': 64,\n",
       "  'conv_layers': 0,\n",
       "  'conv_activation': 'relu',\n",
       "  'decode_layers': 3,\n",
       "  'decode_activation': 'relu',\n",
       "  'dropout': 0.1,\n",
       "  'regularization': 'l2',\n",
       "  'batch_norm': True,\n",
       "  'forward': True,\n",
       "  'edgeconv': 1},\n",
       " 'data_params': {'n_data': 1000000.0,\n",
       "  'graph_construction': 'classic',\n",
       "  'muon': True,\n",
       "  'n_neighbors': 6,\n",
       "  'data_split': [0.8, 0.1, 0.1],\n",
       "  'restart': False,\n",
       "  'transform_path': '../db_files/muongun/transformers.pkl',\n",
       "  'db_path': '../db_files/muongun/rasmus_classification_muon_3neutrino_3mio.db',\n",
       "  'features': ['dom_x',\n",
       "   'dom_y',\n",
       "   'dom_z',\n",
       "   'time',\n",
       "   'charge_log10',\n",
       "   'SRTInIcePulses'],\n",
       "  'targets': ['energy_log10', 'zenith', 'azimuth'],\n",
       "  'skip': 0,\n",
       "  'SRT': 1,\n",
       "  'database': 'MuonGun'}}"
      ]
     },
     "execution_count": 12,
     "metadata": {},
     "output_type": "execute_result"
    }
   ],
   "source": [
    "construct_dict"
   ]
  },
  {
   "cell_type": "code",
   "execution_count": 6,
   "metadata": {
    "ExecuteTime": {
     "end_time": "2021-03-18T14:49:29.998617Z",
     "start_time": "2021-03-18T14:49:26.181451Z"
    }
   },
   "outputs": [
    {
     "name": "stdout",
     "output_type": "stream",
     "text": [
      "Not notebook\n",
      "Not notebook\n"
     ]
    }
   ],
   "source": [
    "import dev.data_load as dl\n",
    "reload(dl)\n",
    "data=dl.graph_data"
   ]
  },
  {
   "cell_type": "code",
   "execution_count": 7,
   "metadata": {
    "ExecuteTime": {
     "end_time": "2021-03-18T14:49:31.481970Z",
     "start_time": "2021-03-18T14:49:30.000612Z"
    }
   },
   "outputs": [
    {
     "name": "stdout",
     "output_type": "stream",
     "text": [
      "Loading data to memory\n"
     ]
    },
    {
     "ename": "FileNotFoundError",
     "evalue": "[Errno 2] No such file or directory: 'C:\\\\Users\\\\chris\\\\Christian\\\\3YR-UNI\\\\Bachelor\\\\IceCube\\\\from_config\\\\processed/MuonGun_muon_True_n_data_1000000_type_classic\\\\data.dat'",
     "output_type": "error",
     "traceback": [
      "\u001b[1;31m---------------------------------------------------------------------------\u001b[0m",
      "\u001b[1;31mFileNotFoundError\u001b[0m                         Traceback (most recent call last)",
      "\u001b[1;32m<ipython-input-7-dc853609a8a5>\u001b[0m in \u001b[0;36m<module>\u001b[1;34m\u001b[0m\n\u001b[1;32m----> 1\u001b[1;33m \u001b[0mdata\u001b[0m\u001b[1;33m(\u001b[0m\u001b[1;33m**\u001b[0m\u001b[0mconstruct_dict\u001b[0m\u001b[1;33m[\u001b[0m\u001b[1;34m'data_params'\u001b[0m\u001b[1;33m]\u001b[0m\u001b[1;33m)\u001b[0m\u001b[1;33m\u001b[0m\u001b[1;33m\u001b[0m\u001b[0m\n\u001b[0m",
      "\u001b[1;32m~\\Christian\\3YR-UNI\\Bachelor\\IceCube\\from_config\\dev\\data_load.py\u001b[0m in \u001b[0;36m__init__\u001b[1;34m(self, n_data, features, targets, muon, skip, transform_path, db_path, n_neighbors, restart, data_split, SRT, graph_construction, database, **kwargs)\u001b[0m\n\u001b[0;32m     51\u001b[0m         \u001b[0mself\u001b[0m\u001b[1;33m.\u001b[0m\u001b[0mdatabase\u001b[0m\u001b[1;33m=\u001b[0m\u001b[0mdatabase\u001b[0m\u001b[1;33m\u001b[0m\u001b[1;33m\u001b[0m\u001b[0m\n\u001b[0;32m     52\u001b[0m         \u001b[0mself\u001b[0m\u001b[1;33m.\u001b[0m\u001b[0mk\u001b[0m\u001b[1;33m=\u001b[0m\u001b[1;36m0\u001b[0m\u001b[1;33m\u001b[0m\u001b[1;33m\u001b[0m\u001b[0m\n\u001b[1;32m---> 53\u001b[1;33m         \u001b[0msuper\u001b[0m\u001b[1;33m(\u001b[0m\u001b[1;33m)\u001b[0m\u001b[1;33m.\u001b[0m\u001b[0m__init__\u001b[0m\u001b[1;33m(\u001b[0m\u001b[1;33m**\u001b[0m\u001b[0mkwargs\u001b[0m\u001b[1;33m)\u001b[0m\u001b[1;33m\u001b[0m\u001b[1;33m\u001b[0m\u001b[0m\n\u001b[0m\u001b[0;32m     54\u001b[0m \u001b[1;33m\u001b[0m\u001b[0m\n\u001b[0;32m     55\u001b[0m     \u001b[1;33m@\u001b[0m\u001b[0mproperty\u001b[0m\u001b[1;33m\u001b[0m\u001b[1;33m\u001b[0m\u001b[0m\n",
      "\u001b[1;32m~\\AppData\\Roaming\\Python\\Python38\\site-packages\\spektral\\data\\dataset.py\u001b[0m in \u001b[0;36m__init__\u001b[1;34m(self, transforms, **kwargs)\u001b[0m\n\u001b[0;32m     96\u001b[0m \u001b[1;33m\u001b[0m\u001b[0m\n\u001b[0;32m     97\u001b[0m         \u001b[1;31m# Read graphs\u001b[0m\u001b[1;33m\u001b[0m\u001b[1;33m\u001b[0m\u001b[1;33m\u001b[0m\u001b[0m\n\u001b[1;32m---> 98\u001b[1;33m         \u001b[0mself\u001b[0m\u001b[1;33m.\u001b[0m\u001b[0mgraphs\u001b[0m \u001b[1;33m=\u001b[0m \u001b[0mself\u001b[0m\u001b[1;33m.\u001b[0m\u001b[0mread\u001b[0m\u001b[1;33m(\u001b[0m\u001b[1;33m)\u001b[0m\u001b[1;33m\u001b[0m\u001b[1;33m\u001b[0m\u001b[0m\n\u001b[0m\u001b[0;32m     99\u001b[0m         \u001b[1;32mif\u001b[0m \u001b[0mlen\u001b[0m\u001b[1;33m(\u001b[0m\u001b[0mself\u001b[0m\u001b[1;33m.\u001b[0m\u001b[0mgraphs\u001b[0m\u001b[1;33m)\u001b[0m \u001b[1;33m==\u001b[0m \u001b[1;36m0\u001b[0m\u001b[1;33m:\u001b[0m\u001b[1;33m\u001b[0m\u001b[1;33m\u001b[0m\u001b[0m\n\u001b[0;32m    100\u001b[0m             \u001b[1;32mraise\u001b[0m \u001b[0mValueError\u001b[0m\u001b[1;33m(\u001b[0m\u001b[1;34m'Datasets cannot be empty'\u001b[0m\u001b[1;33m)\u001b[0m\u001b[1;33m\u001b[0m\u001b[1;33m\u001b[0m\u001b[0m\n",
      "\u001b[1;32m~\\Christian\\3YR-UNI\\Bachelor\\IceCube\\from_config\\dev\\data_load.py\u001b[0m in \u001b[0;36mread\u001b[1;34m(self)\u001b[0m\n\u001b[0;32m    161\u001b[0m             \u001b[0mself\u001b[0m\u001b[1;33m.\u001b[0m\u001b[0mk\u001b[0m\u001b[1;33m+=\u001b[0m\u001b[1;36m1\u001b[0m\u001b[1;33m\u001b[0m\u001b[1;33m\u001b[0m\u001b[0m\n\u001b[0;32m    162\u001b[0m         \u001b[0mprint\u001b[0m\u001b[1;33m(\u001b[0m\u001b[1;34m\"Loading data to memory\"\u001b[0m\u001b[1;33m)\u001b[0m\u001b[1;33m\u001b[0m\u001b[1;33m\u001b[0m\u001b[0m\n\u001b[1;32m--> 163\u001b[1;33m         \u001b[0mdata\u001b[0m   \u001b[1;33m=\u001b[0m \u001b[0mpickle\u001b[0m\u001b[1;33m.\u001b[0m\u001b[0mload\u001b[0m\u001b[1;33m(\u001b[0m\u001b[0mopen\u001b[0m\u001b[1;33m(\u001b[0m\u001b[0mosp\u001b[0m\u001b[1;33m.\u001b[0m\u001b[0mjoin\u001b[0m\u001b[1;33m(\u001b[0m\u001b[0mself\u001b[0m\u001b[1;33m.\u001b[0m\u001b[0mpath\u001b[0m\u001b[1;33m,\u001b[0m \u001b[1;34m\"data.dat\"\u001b[0m\u001b[1;33m)\u001b[0m\u001b[1;33m,\u001b[0m \u001b[1;34m'rb'\u001b[0m\u001b[1;33m)\u001b[0m\u001b[1;33m)\u001b[0m\u001b[1;33m\u001b[0m\u001b[1;33m\u001b[0m\u001b[0m\n\u001b[0m\u001b[0;32m    164\u001b[0m \u001b[1;33m\u001b[0m\u001b[0m\n\u001b[0;32m    165\u001b[0m \u001b[1;33m\u001b[0m\u001b[0m\n",
      "\u001b[1;31mFileNotFoundError\u001b[0m: [Errno 2] No such file or directory: 'C:\\\\Users\\\\chris\\\\Christian\\\\3YR-UNI\\\\Bachelor\\\\IceCube\\\\from_config\\\\processed/MuonGun_muon_True_n_data_1000000_type_classic\\\\data.dat'"
     ]
    }
   ],
   "source": [
    "data(**construct_dict['data_params'])"
   ]
  },
  {
   "cell_type": "code",
   "execution_count": null,
   "metadata": {
    "ExecuteTime": {
     "end_time": "2021-03-18T14:49:31.482932Z",
     "start_time": "2021-03-18T14:49:24.755Z"
    }
   },
   "outputs": [],
   "source": [
    "import tensorflow as tf\n",
    "tf.math.acos(1.1)"
   ]
  },
  {
   "cell_type": "code",
   "execution_count": null,
   "metadata": {
    "ExecuteTime": {
     "end_time": "2021-03-18T14:49:31.483928Z",
     "start_time": "2021-03-18T14:49:24.756Z"
    }
   },
   "outputs": [],
   "source": [
    "eps=1\n",
    "tf.math.acos"
   ]
  },
  {
   "cell_type": "code",
   "execution_count": null,
   "metadata": {
    "ExecuteTime": {
     "start_time": "2021-03-18T15:02:23.129Z"
    }
   },
   "outputs": [
    {
     "name": "stdout",
     "output_type": "stream",
     "text": [
      "GPU detected\n",
      "Starting process with 6 experiments\n",
      "['0GCN.json', '14GCN.json', '1GCN.json', '3GCN.json', '3GCN0ECCC.json', '6GCN.json']\n",
      "No data construction required\n",
      "Starting experiment from 0GCN\n"
     ]
    },
    {
     "data": {
      "text/html": [
       "Finishing last run (ID:8oq2iz0o) before initializing another..."
      ],
      "text/plain": [
       "<IPython.core.display.HTML object>"
      ]
     },
     "metadata": {},
     "output_type": "display_data"
    },
    {
     "data": {
      "text/html": [
       "<br/>Waiting for W&B process to finish, PID 79824<br/>Program ended successfully."
      ],
      "text/plain": [
       "<IPython.core.display.HTML object>"
      ]
     },
     "metadata": {},
     "output_type": "display_data"
    },
    {
     "data": {
      "application/vnd.jupyter.widget-view+json": {
       "model_id": "",
       "version_major": 2,
       "version_minor": 0
      },
      "text/plain": [
       "VBox(children=(Label(value=' 0.06MB of 0.06MB uploaded (0.00MB deduped)\\r'), FloatProgress(value=1.0, max=1.0)…"
      ]
     },
     "metadata": {},
     "output_type": "display_data"
    },
    {
     "data": {
      "text/html": [
       "Find user logs for this run at: <code>C:\\Users\\chris\\Christian\\3YR-UNI\\Bachelor\\IceCube\\from_config\\wandb\\run-20210318_155327-8oq2iz0o\\logs\\debug.log</code>"
      ],
      "text/plain": [
       "<IPython.core.display.HTML object>"
      ]
     },
     "metadata": {},
     "output_type": "display_data"
    },
    {
     "data": {
      "text/html": [
       "Find internal logs for this run at: <code>C:\\Users\\chris\\Christian\\3YR-UNI\\Bachelor\\IceCube\\from_config\\wandb\\run-20210318_155327-8oq2iz0o\\logs\\debug-internal.log</code>"
      ],
      "text/plain": [
       "<IPython.core.display.HTML object>"
      ]
     },
     "metadata": {},
     "output_type": "display_data"
    },
    {
     "data": {
      "text/html": [
       "Synced 6 W&B file(s), 0 media file(s), 0 artifact file(s) and 1 other file(s)"
      ],
      "text/plain": [
       "<IPython.core.display.HTML object>"
      ]
     },
     "metadata": {},
     "output_type": "display_data"
    },
    {
     "data": {
      "text/html": [
       "\n",
       "                    <br/>Synced <strong style=\"color:#cdcd00\">lyric-oath-88</strong>: <a href=\"https://wandb.ai/chri862z/icecube/runs/8oq2iz0o\" target=\"_blank\">https://wandb.ai/chri862z/icecube/runs/8oq2iz0o</a><br/>\n",
       "                "
      ],
      "text/plain": [
       "<IPython.core.display.HTML object>"
      ]
     },
     "metadata": {},
     "output_type": "display_data"
    },
    {
     "data": {
      "text/html": [
       "...Successfully finished last run (ID:8oq2iz0o). Initializing new run:<br/><br/>"
      ],
      "text/plain": [
       "<IPython.core.display.HTML object>"
      ]
     },
     "metadata": {},
     "output_type": "display_data"
    },
    {
     "name": "stdout",
     "output_type": "stream",
     "text": [
      "Problem at: C:\\Users\\chris\\Christian\\3YR-UNI\\Bachelor\\IceCube\\from_config\\dev\\train_script.py 23 train_model\n"
     ]
    },
    {
     "name": "stderr",
     "output_type": "stream",
     "text": [
      "Traceback (most recent call last):\n",
      "  File \"C:\\Users\\chris\\anaconda3\\lib\\site-packages\\wandb\\sdk\\wandb_init.py\", line 743, in init\n",
      "    run = wi.init()\n",
      "  File \"C:\\Users\\chris\\anaconda3\\lib\\site-packages\\wandb\\sdk\\wandb_init.py\", line 419, in init\n",
      "    backend.ensure_launched()\n",
      "  File \"C:\\Users\\chris\\anaconda3\\lib\\site-packages\\wandb\\sdk\\backend\\backend.py\", line 125, in ensure_launched\n",
      "    self.wandb_process.start()\n",
      "  File \"C:\\Users\\chris\\anaconda3\\lib\\multiprocessing\\process.py\", line 121, in start\n",
      "    self._popen = self._Popen(self)\n",
      "  File \"C:\\Users\\chris\\anaconda3\\lib\\multiprocessing\\context.py\", line 327, in _Popen\n",
      "    return Popen(process_obj)\n",
      "  File \"C:\\Users\\chris\\anaconda3\\lib\\multiprocessing\\popen_spawn_win32.py\", line 45, in __init__\n",
      "    prep_data = spawn.get_preparation_data(process_obj._name)\n",
      "  File \"C:\\Users\\chris\\anaconda3\\lib\\multiprocessing\\spawn.py\", line 183, in get_preparation_data\n",
      "    main_mod_name = getattr(main_module.__spec__, \"name\", None)\n",
      "AttributeError: module '__main__' has no attribute '__spec__'\n"
     ]
    }
   ],
   "source": [
    "%run run_trainings.py"
   ]
  },
  {
   "cell_type": "code",
   "execution_count": null,
   "metadata": {},
   "outputs": [],
   "source": []
  }
 ],
 "metadata": {
  "hide_input": false,
  "kernelspec": {
   "display_name": "Python 3",
   "language": "python",
   "name": "python3"
  },
  "language_info": {
   "codemirror_mode": {
    "name": "ipython",
    "version": 3
   },
   "file_extension": ".py",
   "mimetype": "text/x-python",
   "name": "python",
   "nbconvert_exporter": "python",
   "pygments_lexer": "ipython3",
   "version": "3.8.5"
  }
 },
 "nbformat": 4,
 "nbformat_minor": 4
}
