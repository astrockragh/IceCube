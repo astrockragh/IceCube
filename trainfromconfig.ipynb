{
 "cells": [
  {
   "cell_type": "code",
   "execution_count": 5,
   "metadata": {
    "ExecuteTime": {
     "end_time": "2021-03-16T17:56:32.916013Z",
     "start_time": "2021-03-16T17:56:32.574381Z"
    }
   },
   "outputs": [
    {
     "name": "stdout",
     "output_type": "stream",
     "text": [
      "Notebook\n",
      "GPU detected\n"
     ]
    }
   ],
   "source": [
    "import os, sys, argparse, importlib, time, inspect\n",
    "import numpy as np\n",
    "import matplotlib.pyplot as plt\n",
    "import os.path as osp\n",
    "if hasattr(__builtins__,'__IPYTHON__'):\n",
    "    print('Notebook')\n",
    "    notebook=1\n",
    "    from tqdm.notebook import tqdm\n",
    "else:\n",
    "    print('Not notebook')\n",
    "    notebook=0\n",
    "    from tqdm import tqdm\n",
    "from tensorflow.keras import backend as K\n",
    "os.environ['TF_CPP_MIN_LOG_LEVEL'] = '2' \n",
    "import tensorflow as tf\n",
    "import tensorflow_probability as tfp\n",
    "\n",
    "gpu_devices = tf.config.list_physical_devices('GPU') \n",
    "if len(gpu_devices) > 0:\n",
    "    print(\"GPU detected\")\n",
    "    tf.config.experimental.set_memory_growth(gpu_devices[0], True)\n",
    "else:\n",
    "    print('No GPU detected')\n",
    "\n",
    "from tensorflow.keras.optimizers import Adam\n",
    "from tensorflow.keras.losses import MeanSquaredError\n",
    "from tensorflow.keras.models import load_model, Model\n",
    "import spektral\n",
    "from sklearn.preprocessing import normalize\n",
    "from spektral.data import DisjointLoader, BatchLoader, SingleLoader\n",
    "from importlib import reload\n",
    "if notebook:\n",
    "    import winsound\n",
    "import dill\n",
    "import datetime as dt\n",
    "import plotly"
   ]
  },
  {
   "cell_type": "code",
   "execution_count": null,
   "metadata": {
    "ExecuteTime": {
     "end_time": "2021-03-13T16:39:15.725423Z",
     "start_time": "2021-03-13T16:39:15.719438Z"
    }
   },
   "outputs": [],
   "source": []
  },
  {
   "cell_type": "code",
   "execution_count": 6,
   "metadata": {
    "ExecuteTime": {
     "end_time": "2021-03-16T17:56:46.473397Z",
     "start_time": "2021-03-16T17:56:33.195582Z"
    }
   },
   "outputs": [
    {
     "name": "stderr",
     "output_type": "stream",
     "text": [
      "wandb: Appending key for api.wandb.ai to your netrc file: C:\\Users\\chris/.netrc\n"
     ]
    },
    {
     "data": {
      "text/html": [
       "Finishing last run (ID:ufqmlzv0) before initializing another..."
      ],
      "text/plain": [
       "<IPython.core.display.HTML object>"
      ]
     },
     "metadata": {},
     "output_type": "display_data"
    },
    {
     "data": {
      "text/html": [
       "<br/>Waiting for W&B process to finish, PID 40760<br/>Program ended successfully."
      ],
      "text/plain": [
       "<IPython.core.display.HTML object>"
      ]
     },
     "metadata": {},
     "output_type": "display_data"
    },
    {
     "data": {
      "application/vnd.jupyter.widget-view+json": {
       "model_id": "",
       "version_major": 2,
       "version_minor": 0
      },
      "text/plain": [
       "VBox(children=(Label(value=' 0.32MB of 0.32MB uploaded (0.00MB deduped)\\r'), FloatProgress(value=1.0, max=1.0)…"
      ]
     },
     "metadata": {},
     "output_type": "display_data"
    },
    {
     "data": {
      "text/html": [
       "Find user logs for this run at: <code>C:\\Users\\chris\\Christian\\3YR-UNI\\Bachelor\\IceCube\\wandb\\run-20210315_222327-ufqmlzv0\\logs\\debug.log</code>"
      ],
      "text/plain": [
       "<IPython.core.display.HTML object>"
      ]
     },
     "metadata": {},
     "output_type": "display_data"
    },
    {
     "data": {
      "text/html": [
       "Find internal logs for this run at: <code>C:\\Users\\chris\\Christian\\3YR-UNI\\Bachelor\\IceCube\\wandb\\run-20210315_222327-ufqmlzv0\\logs\\debug-internal.log</code>"
      ],
      "text/plain": [
       "<IPython.core.display.HTML object>"
      ]
     },
     "metadata": {},
     "output_type": "display_data"
    },
    {
     "data": {
      "text/html": [
       "Synced 6 W&B file(s), 0 media file(s), 0 artifact file(s) and 1 other file(s)"
      ],
      "text/plain": [
       "<IPython.core.display.HTML object>"
      ]
     },
     "metadata": {},
     "output_type": "display_data"
    },
    {
     "data": {
      "text/html": [
       "\n",
       "                    <br/>Synced <strong style=\"color:#cdcd00\">dainty-firebrand-40</strong>: <a href=\"https://wandb.ai/chri862z/icecube/runs/ufqmlzv0\" target=\"_blank\">https://wandb.ai/chri862z/icecube/runs/ufqmlzv0</a><br/>\n",
       "                "
      ],
      "text/plain": [
       "<IPython.core.display.HTML object>"
      ]
     },
     "metadata": {},
     "output_type": "display_data"
    },
    {
     "data": {
      "text/html": [
       "...Successfully finished last run (ID:ufqmlzv0). Initializing new run:<br/><br/>"
      ],
      "text/plain": [
       "<IPython.core.display.HTML object>"
      ]
     },
     "metadata": {},
     "output_type": "display_data"
    },
    {
     "data": {
      "text/html": [
       "\n",
       "                Tracking run with wandb version 0.10.22<br/>\n",
       "                Syncing run <strong style=\"color:#cdcd00\">helpful-music-80</strong> to <a href=\"https://wandb.ai\" target=\"_blank\">Weights & Biases</a> <a href=\"https://docs.wandb.com/integrations/jupyter.html\" target=\"_blank\">(Documentation)</a>.<br/>\n",
       "                Project page: <a href=\"https://wandb.ai/chri862z/icecube\" target=\"_blank\">https://wandb.ai/chri862z/icecube</a><br/>\n",
       "                Run page: <a href=\"https://wandb.ai/chri862z/icecube/runs/449hxw85\" target=\"_blank\">https://wandb.ai/chri862z/icecube/runs/449hxw85</a><br/>\n",
       "                Run data is saved locally in <code>C:\\Users\\chris\\Christian\\3YR-UNI\\Bachelor\\IceCube\\wandb\\run-20210316_185636-449hxw85</code><br/><br/>\n",
       "            "
      ],
      "text/plain": [
       "<IPython.core.display.HTML object>"
      ]
     },
     "metadata": {},
     "output_type": "display_data"
    }
   ],
   "source": [
    "#everything here could be JSON\n",
    "import loss_funcs as lf\n",
    "################################################\n",
    "# Setup Deafult Variables                       # \n",
    "################################################\n",
    "learning_rate = 2.5e-4\n",
    "warm_up       = 4\n",
    "batch_size    = 512\n",
    "epochs        = 50\n",
    "n_data       = 1e5\n",
    "scenario    = \"n_GCN_layer\"\n",
    "patience = 20\n",
    "angleunit = 'angle'\n",
    "wandblog      = 1\n",
    "\n",
    "################################################\n",
    "# Setup Model hyperparameters                  # \n",
    "################################################\n",
    "\n",
    "#Make model.config\n",
    "\n",
    "hidden_states = 64\n",
    "forward       = True\n",
    "dropout       = 0.2\n",
    "n_GCN         = 2\n",
    "\n",
    "\n",
    "################################################\n",
    "# Setup Other Hyperparameters                   # \n",
    "################################################\n",
    "\n",
    "#add \"SRT_cleaned or not\"\n",
    "\n",
    "loss_method   = \"abs_vonMises_angle\"\n",
    "loss_func = getattr(lf, \"abs_vonMises_angle\")\n",
    "n_neighbors   = 6 # SKRIV SELV IND\n",
    "opt = Adam(learning_rate)\n",
    "\n",
    "################################################\n",
    "# Load Model and do checks                      # \n",
    "################################################\n",
    "import models.GCN_nlayers as m\n",
    "reload(m)\n",
    "model=m.model(n_out=4, hidden_states=hidden_states, n_GCN=n_GCN, dropout=dropout, regularize='l2')\n",
    "\n",
    "if wandblog:\n",
    "    import wandb\n",
    "    !wandb login b5b917a9390932e56fccfcbff6f528ccd85c44bf\n",
    "    #checks\n",
    "    run=wandb.init(project=\"icecube\", group=scenario,entity=\"chri862z\")\n",
    "\n",
    "    # Declare for log\n",
    "    wandb.config['angleunit']=angleunit\n",
    "    wandb.config['n_data'] = n_data\n",
    "    wandb.config['learning_rate'] = learning_rate\n",
    "    wandb.config['warm_up'] = warm_up\n",
    "    wandb.config['batch_size'] = batch_size\n",
    "    wandb.config['loss_func'] = loss_method\n",
    "    wandb.config['n_neighbors'] = n_neighbors\n",
    "    wandb.config['optimizer'] = 'Adam'\n",
    "    wandb.config.update(model.get_config())\n",
    "    wandb.run.name = wandb.run.id\n",
    "    wandbname=wandb.run.id"
   ]
  },
  {
   "cell_type": "code",
   "execution_count": 7,
   "metadata": {
    "ExecuteTime": {
     "end_time": "2021-03-16T17:58:35.728941Z",
     "start_time": "2021-03-16T17:56:46.476383Z"
    }
   },
   "outputs": [
    {
     "name": "stdout",
     "output_type": "stream",
     "text": [
      "Not notebook\n",
      "Not notebook\n",
      "Removed and ready to reload\n",
      "Connecting to db-file\n",
      "Loading Muons\n",
      "Reading files\n"
     ]
    },
    {
     "name": "stderr",
     "output_type": "stream",
     "text": [
      "C:\\Users\\chris\\anaconda3\\lib\\site-packages\\sklearn\\utils\\deprecation.py:143: FutureWarning: The sklearn.preprocessing.data module is  deprecated in version 0.22 and will be removed in version 0.24. The corresponding classes / functions should instead be imported from sklearn.preprocessing. Anything that cannot be imported from sklearn.preprocessing is now part of the private API.\n",
      "  warnings.warn(message, FutureWarning)\n",
      "C:\\Users\\chris\\anaconda3\\lib\\site-packages\\sklearn\\base.py:329: UserWarning: Trying to unpickle estimator RobustScaler from version 0.19.1 when using version 0.23.2. This might lead to breaking code or invalid results. Use at your own risk.\n",
      "  warnings.warn(\n"
     ]
    },
    {
     "name": "stdout",
     "output_type": "stream",
     "text": [
      "Splitting data to events\n"
     ]
    },
    {
     "name": "stderr",
     "output_type": "stream",
     "text": [
      "  0%|                                                                             | 63/100000 [00:00<02:39, 625.46it/s]"
     ]
    },
    {
     "name": "stdout",
     "output_type": "stream",
     "text": [
      "     dom_x    dom_y    dom_z      time  charge_log10\n",
      "0 -0.26890  0.35424 -0.34950  0.344943      0.444979\n",
      "1 -0.26890  0.35424 -0.48567  0.140052     -0.897229\n",
      "2 -0.34788  0.45152 -0.50262 -0.070026      0.791982\n",
      "3 -0.22409  0.47086 -0.33159 -0.155243      0.083393\n",
      "4 -0.22409  0.47086 -0.39968 -0.045943      0.508351\n",
      "   energy_log10    zenith   azimuth\n",
      "0      2.422178  0.914194  0.967663\n",
      "1      2.311812  1.155833  5.953112\n",
      "2      3.433424  1.205342  2.802480\n",
      "3      2.582473  0.518382  4.915968\n",
      "4      2.783172  0.709137  5.187095\n",
      "Generating adjacency matrices\n"
     ]
    },
    {
     "name": "stderr",
     "output_type": "stream",
     "text": [
      "100%|████████████████████████████████████████████████████████████████████████| 100000/100000 [01:16<00:00, 1299.19it/s]\n"
     ]
    },
    {
     "name": "stdout",
     "output_type": "stream",
     "text": [
      "Saving dataset\n",
      "Loading data to memory\n"
     ]
    }
   ],
   "source": [
    "################################################\n",
    "# Load data                      # \n",
    "################################################\n",
    "\n",
    "import data_load as dl\n",
    "reload(dl)\n",
    "graph_data=dl.graph_data\n",
    "dataset=graph_data(n_data=n_data, restart=1, transform=True, angle=True, unitvec=False)\n",
    "idx_lists = dataset.index_lists\n",
    "# Split data\n",
    "dataset_train = dataset[idx_lists[0]]\n",
    "dataset_val   = dataset[idx_lists[1]]\n",
    "dataset_test  = dataset[idx_lists[2]]\n",
    "loader_train = DisjointLoader(dataset_train, epochs=epochs, batch_size=batch_size) # the different loaders work very very differently, beware\n",
    "loader_test = DisjointLoader(dataset_test, batch_size=batch_size, epochs=1)\n",
    "if notebook:\n",
    "    winsound.Beep(400,300)"
   ]
  },
  {
   "cell_type": "code",
   "execution_count": 8,
   "metadata": {
    "ExecuteTime": {
     "end_time": "2021-03-16T17:58:35.738912Z",
     "start_time": "2021-03-16T17:58:35.731968Z"
    }
   },
   "outputs": [],
   "source": [
    "def metrics(y_reco, y_true):\n",
    "    energy_metric = tfp.stats.percentile(tf.math.abs(tf.subtract(y_true[:, 0], y_reco[:, 0])), [50-34, 50, 50+34]) \n",
    "    #for compariso\n",
    "    classic_stat=tfp.stats.percentile(tf.subtract(y_true[:, 0], y_reco[:, 0]), [25, 75]) \n",
    "    w_energy=tf.subtract(classic_stat[1],classic_stat[0])/1.349\n",
    "    \n",
    "    alpha= tf.math.acos(tf.math.abs(tf.math.sin(y_reco[:, 1]))*tf.math.abs(tf.math.sin(y_true[:, 1]))*tf.math.cos(tf.subtract(y_reco[:, 2],y_true[:, 2]))+tf.math.cos(y_reco[:, 1])*tf.math.cos(y_true[:, 1]))\n",
    "   \n",
    "    angle_resi = 180 / np.pi * alpha #degrees\n",
    "    angle_metric  = tfp.stats.percentile(angle_resi, [50-34,50,50+34])\n",
    "    w_angle         = tfp.stats.percentile(angle_resi, [68])\n",
    "\n",
    "    return energy_metric.numpy(), angle_metric.numpy(), [float(w_energy), float(w_angle)]\n"
   ]
  },
  {
   "cell_type": "code",
   "execution_count": 9,
   "metadata": {
    "ExecuteTime": {
     "end_time": "2021-03-16T17:58:35.752877Z",
     "start_time": "2021-03-16T17:58:35.742912Z"
    }
   },
   "outputs": [],
   "source": [
    "def metrics_zeniazi(y_reco, y_true):\n",
    "    w_zeni=180/np.pi*tfp.stats.percentile(tf.math.abs(tf.subtract(y_true[:, 1], y_reco[:, 1]%(np.pi/2))),[50-34, 50, 50+34, 68])\n",
    "    w_azi=180/np.pi*tfp.stats.percentile(tf.math.abs(tf.subtract(y_true[:, 2], y_reco[:, 2]%(np.pi*2))),[50-34, 50, 50+34, 68])\n",
    "    return w_zeni, w_azi"
   ]
  },
  {
   "cell_type": "code",
   "execution_count": 10,
   "metadata": {
    "ExecuteTime": {
     "end_time": "2021-03-16T17:58:35.762850Z",
     "start_time": "2021-03-16T17:58:35.753872Z"
    }
   },
   "outputs": [],
   "source": [
    "def alpha_from(y_reco, y_true):\n",
    "    azp = y_reco[:,2] #Azimuth prediction\n",
    "    azt = y_true[:,2] #Azimuth target\n",
    "    zep = y_reco[:,1] #Zenith prediction\n",
    "    zet = y_true[:,1] #Zenith target\n",
    "    s1 = tf.math.sin(zet + azt - azp )\n",
    "    s2 = tf.math.sin( zet - azt + azp )\n",
    "    c1 = tf.math.cos( zet - zep )\n",
    "    c2 = tf.math.cos( zet + zep )\n",
    "    cos_angle = 0.5*tf.math.abs(tf.math.sin(zep))*( s1 + s2 ) + 0.5*(c1 + c2)\n",
    "    angle=tf.math.acos(cos_angle)\n",
    "    return angle"
   ]
  },
  {
   "cell_type": "code",
   "execution_count": 11,
   "metadata": {
    "ExecuteTime": {
     "end_time": "2021-03-16T17:58:35.829671Z",
     "start_time": "2021-03-16T17:58:35.765842Z"
    }
   },
   "outputs": [],
   "source": [
    "def performance_e_alpha(loader, save=False, save_path=''):\n",
    "    '''Function to test and plot performance of Graph DL\n",
    "    input should be dom pos x,y,z , time, charge(log10)\n",
    "    target should be energy(log10),zenith angle, azimuthal angle, NOT unit vec \n",
    "    '''\n",
    "    loss = 0\n",
    "    prediction_list, target_list = [], []\n",
    "    for batch in loader:\n",
    "        inputs, targets = batch\n",
    "        predictions, targets, out = test_step(inputs, targets)\n",
    "        loss           += out\n",
    "        \n",
    "        prediction_list.append(predictions)\n",
    "        target_list.append(targets)\n",
    "\n",
    "    y_reco  = tf.concat(prediction_list, axis = 0).numpy()\n",
    "    y_true  = tf.concat(target_list, axis = 0)\n",
    "    y_true  = tf.cast(y_true, tf.float32).numpy()\n",
    "\n",
    "    energy = y_true[:, 0]\n",
    "    counts, bins = np.histogram(energy, bins = 10)\n",
    "\n",
    "    xs = (bins[1:] + bins[: -1]) / 2\n",
    "\n",
    "    w_energies, u_angles = [], []\n",
    "    e_sig, alpha_sig = [], [] \n",
    "    old_energy, old_alpha = [], []\n",
    "    zenith, azimuth = [], []\n",
    "    for i in range(len(bins)-1):\n",
    "        idx = np.logical_and(energy > bins[i], energy < bins[i + 1])\n",
    "\n",
    "        w, u_angle, old = metrics(y_reco[idx, :], y_true[idx, :])\n",
    "        old_energy.append(old[0])\n",
    "        old_alpha.append(old[1])\n",
    "        w_energies.append(w[1])\n",
    "        u_angles.append(u_angle[1])\n",
    "        e_sig.append([w[0], w[2]])\n",
    "        alpha_sig.append([u_angle[0], u_angle[2]])\n",
    "        zeni, azi=metrics_zeniazi(y_reco[idx,:], y_true[idx,:])\n",
    "        zenith.append(zeni)\n",
    "        azimuth.append(azi)\n",
    "    zenith, azimuth =  np.array(zenith), np.array(azimuth)\n",
    "    fig, ax = plt.subplots(ncols = 3, nrows = 4, figsize = (12, 20))\n",
    "    axesback=[(0,0), (0,1), (1,0), (1,1), (2,0), (3,0)]\n",
    "    for i,j in axesback:\n",
    "        a_ = ax[i][j].twinx()\n",
    "        a_.step(xs, counts, color = \"gray\", zorder = 10, alpha = 0.7, where = \"mid\")\n",
    "        a_.set_yscale(\"log\")\n",
    "        ax[i][j].set_xlabel(\"Log(E)\")\n",
    "\n",
    "    #structure: my metrics, old metrics, histogram\n",
    "    \n",
    "    # Energy reconstruction\n",
    "    ax_top = ax[0]\n",
    "\n",
    "    ax_top[0].errorbar(xs, w_energies,yerr=np.array(e_sig).T, fmt='k.',capsize=2,linewidth=1,ecolor='r',label='data')\n",
    "    ax_top[0].set_title(\"Energy Performance\")\n",
    "    ax_top[0].set_ylabel(r\"$\\Delta log(E)$\")\n",
    "\n",
    "    ax_top[1].plot(xs, old_energy, 'bo')\n",
    "    ax_top[1].set_title(\"Energy Performance (old metric)\")\n",
    "    ax_top[1].set_ylabel(r\"$w(\\Delta log(E))$\")\n",
    "\n",
    "    ax_top[2].hist2d(y_true[:,0], y_reco[:,0], bins=100,\\\n",
    "                   range=[np.percentile(y_true[:,0],[1,99]), np.percentile(y_reco[:,0],[1,99])])\n",
    "    ax_top[2].set_title(\"ML Reco/True\")\n",
    "    ax_top[2].set(xlabel=\"Truth (log(E))\", ylabel=\"ML Reco (log(E))\")\n",
    "\n",
    "\n",
    "    # Alpha reconstruction\n",
    "    ax_m=ax[1]\n",
    "\n",
    "    ax_m[0].errorbar(xs, u_angles,yerr=np.array(alpha_sig).T, fmt='k.',capsize=2,linewidth=1,ecolor='r',label=r'Median $\\pm \\sigma$')\n",
    "    ax_m[0].set_title(\"Angle Performance\")\n",
    "    ax_m[0].set_ylabel(r\"$\\Delta \\Omega$\")\n",
    "\n",
    "    ax_m[1].plot(xs, old_alpha, 'bo')\n",
    "    ax_m[1].set_title(\"Angle performance (old metric)\")\n",
    "    ax_m[1].set_ylabel(r\"$w(\\Omega)$\")\n",
    "\n",
    "    alphas=alpha_from(y_reco, y_true)\n",
    "    \n",
    "    ax_m[2].hist2d(np.abs(y_reco[:,3]), alphas, bins=100, \\\n",
    "                   range=[np.percentile(np.abs(y_reco[:,3]),[1,99]), np.percentile(alphas,[1,99])])\n",
    "    ax_m[2].set_title(\"ML Kappa correlation with angle error\")\n",
    "    ax_m[2].set(xlabel=r\"$\\kappa$\", ylabel=r\"$\\Delta \\Omega$\")\n",
    "    for axi in ax_m:\n",
    "        axi.legend()\n",
    "    #Zenith reconstruction\n",
    "    ax_z=ax[2]\n",
    "\n",
    "    ax_z[0].errorbar(xs, zenith[:,1],yerr=[zenith[:,0], zenith[:,2]], fmt='k.',capsize=2,linewidth=1,ecolor='r',label=r'Median $\\pm \\sigma$')\n",
    "    ax_z[0].set_title(\"Zenith Performance\")\n",
    "    ax_z[0].plot(xs, zenith[:,3], 'bo', label='68th')\n",
    "    ax_z[0].set_ylabel(r\"$\\Delta \\Theta$\")\n",
    "    \n",
    "    reszeni=np.abs(y_reco[:, 1]%(np.pi/2)-y_true[:,1])\n",
    "    ax_z[1].hist(reszeni, label = \"ML reco - Truth\", histtype = \"step\", bins = 50)\n",
    "    ax_z[1].hist(y_reco[:, 1]%(np.pi/2), label = \"ML reco\", histtype = \"step\", bins = 50)\n",
    "    ax_z[1].hist(y_true[:, 1], label = \"Truth\", histtype = \"step\", bins = 50)\n",
    "    \n",
    "    ax_z[1].set_title(\"Zenith Perfomance\")\n",
    "    ax_z[1].set_ylabel(r\"$\\Theta$\")\n",
    "    \n",
    "    ax_z[2].hist2d(np.abs(y_reco[:,3]), reszeni, bins=100,\\\n",
    "                  range=[np.percentile(np.abs(y_reco[:,3]),[1,99]), np.percentile(reszeni,[1,99])])\n",
    "    ax_z[2].set_title(\"ML Kappa correlation with zenith error\")\n",
    "    ax_z[2].set(xlabel=r\"$\\kappa$\", ylabel=r\"$\\Delta \\Theta$\")\n",
    "    for axi in ax_z:\n",
    "        axi.legend()\n",
    "    #Azimuth reconstruction\n",
    "    \n",
    "    ax_az=ax[3]\n",
    "\n",
    "    ax_az[0].errorbar(xs, azimuth[:,1],yerr=[azimuth[:,0], azimuth[:,2]], fmt='k.',capsize=2,linewidth=1,ecolor='r',label=r'Median $\\pm \\sigma$')\n",
    "    ax_az[0].set_title(\"Azimuth Performance\")\n",
    "    ax_az[0].plot(xs, azimuth[:,3], 'bo', label='68th')\n",
    "    ax_az[0].set_ylabel(r\"$\\Delta \\phi$\")\n",
    "    \n",
    "    resazi=np.abs(y_reco[:, 2]%(2*np.pi)-y_true[:,2])\n",
    "    ax_az[1].hist(resazi, label = \"ML reco - Truth\", histtype = \"step\", bins = 50)\n",
    "    ax_az[1].hist(y_reco[:, 2]%(2*np.pi), label = \"ML reco\", histtype = \"step\", bins = 50)\n",
    "    ax_az[1].hist(y_true[:, 2], label = \"Truth\", histtype = \"step\", bins = 50)\n",
    "    \n",
    "    ax_az[1].set_title(\"Azimuth Perfomance\")\n",
    "    ax_az[1].set_ylabel(r\"$\\phi$\")\n",
    "    \n",
    "    ax_az[2].hist2d(np.abs(y_reco[:,3]), resazi, bins=100,\\\n",
    "                  range=[np.percentile(np.abs(y_reco[:,3]),[1,99]), np.percentile(resazi,[1,99])])\n",
    "    ax_az[2].set_title(\"ML Kappa correlation with azimuth error\")\n",
    "    ax_az[2].set(xlabel=r\"$\\kappa$\", ylabel=r\"$\\Delta \\phi$\")\n",
    "    for axi in ax_az:\n",
    "        axi.legend()\n",
    "    fig.tight_layout()\n",
    "    if save:\n",
    "        fig.save(save_path)\n",
    "    return fig, ax"
   ]
  },
  {
   "cell_type": "code",
   "execution_count": 12,
   "metadata": {
    "ExecuteTime": {
     "end_time": "2021-03-16T17:58:36.105444Z",
     "start_time": "2021-03-16T17:58:35.832662Z"
    }
   },
   "outputs": [],
   "source": [
    "# ################################################\n",
    "# # Setup functions                            # \n",
    "# ################################################\n",
    "# import loss.loss_funcs as loss_funcs\n",
    "# reload(loss_funcs)\n",
    "# loss_func=loss_funcs.loss_funcangle\n",
    "\n",
    "def lr_schedule(epochs = epochs, initial = learning_rate, warm_up=warm_up, decay = 0.9):\n",
    "    n = 1\n",
    "    lr = initial\n",
    "    yield lr\n",
    "    while n < warm_up:\n",
    "        lr *= 2\n",
    "        n  += 1\n",
    "        yield lr\n",
    "    while True:\n",
    "        lr *= decay\n",
    "        n  += 1 \n",
    "        yield lr\n",
    "\n",
    "\n",
    "#make functions into tf functions\n",
    "\n",
    "@tf.function(input_signature = loader_train.tf_signature(), experimental_relax_shapes = True)\n",
    "def train_step(inputs, targets):\n",
    "    with tf.GradientTape() as tape:\n",
    "        predictions = model(inputs, training = True)\n",
    "        targets     = tf.cast(targets, tf.float32)\n",
    "        loss        = loss_func(predictions, targets)\n",
    "        loss       += sum(model.losses)\n",
    "\n",
    "    gradients = tape.gradient(loss, model.trainable_variables)\n",
    "    opt.apply_gradients(zip(gradients, model.trainable_variables))\n",
    "    return loss\n",
    "\n",
    "@tf.function(input_signature = loader_test.tf_signature(), experimental_relax_shapes = True)\n",
    "def test_step(inputs, targets):\n",
    "    predictions = model(inputs, training = False)\n",
    "    targets     = tf.cast(targets, tf.float32) \n",
    "    out         = loss_func(predictions, targets)\n",
    "\n",
    "    return predictions, targets, out\n",
    "\n",
    "\n",
    "def validation(loader):\n",
    "    loss = 0\n",
    "    prediction_list, target_list = [], []\n",
    "    for batch in loader:\n",
    "        inputs, targets = batch\n",
    "        predictions, targets, out = test_step(inputs, targets)\n",
    "        loss           += out\n",
    "        \n",
    "        prediction_list.append(predictions)\n",
    "        target_list.append(targets)\n",
    "    \n",
    "    y_reco  = tf.concat(prediction_list, axis = 0)\n",
    "    y_true  = tf.concat(target_list, axis = 0)\n",
    "    y_true  = tf.cast(y_true, tf.float32)\n",
    "\n",
    "    loss, loss_from = loss_func(y_reco, y_true, re=True)\n",
    "    \n",
    "    energy, angle, old= metrics(y_reco, y_true)\n",
    "    \n",
    "    return loss, loss_from, [energy, angle, old]"
   ]
  },
  {
   "cell_type": "code",
   "execution_count": 13,
   "metadata": {
    "ExecuteTime": {
     "end_time": "2021-03-16T18:04:35.084917Z",
     "start_time": "2021-03-16T17:58:36.110152Z"
    },
    "scrolled": false
   },
   "outputs": [
    {
     "data": {
      "application/vnd.jupyter.widget-view+json": {
       "model_id": "c847fe420b454860add6519e1d33d862",
       "version_major": 2,
       "version_minor": 0
      },
      "text/plain": [
       "HBox(children=(HTML(value=''), FloatProgress(value=0.0, max=50.0), HTML(value='')))"
      ]
     },
     "metadata": {},
     "output_type": "display_data"
    },
    {
     "data": {
      "application/vnd.jupyter.widget-view+json": {
       "model_id": "b4599928312c4d859d62a6db60b297c6",
       "version_major": 2,
       "version_minor": 0
      },
      "text/plain": [
       "HBox(children=(HTML(value=''), FloatProgress(value=0.0, max=157.0), HTML(value='')))"
      ]
     },
     "metadata": {},
     "output_type": "display_data"
    },
    {
     "name": "stdout",
     "output_type": "stream",
     "text": [
      "New folder for saving run 449hxw85\n",
      "Model: \"model_1\"\n",
      "_________________________________________________________________\n",
      "Layer (type)                 Output Shape              Param #   \n",
      "=================================================================\n",
      "leaky_re_lu_4 (LeakyReLU)    multiple                  0         \n",
      "_________________________________________________________________\n",
      "leaky_re_lu_5 (LeakyReLU)    multiple                  0         \n",
      "_________________________________________________________________\n",
      "ecc_conv_1 (ECCConv)         multiple                  29696     \n",
      "_________________________________________________________________\n",
      "gcn_conv_2 (GCNConv)         multiple                  4096      \n",
      "_________________________________________________________________\n",
      "gcn_conv_3 (GCNConv)         multiple                  8192      \n",
      "_________________________________________________________________\n",
      "global_max_pool_1 (GlobalMax multiple                  0         \n",
      "_________________________________________________________________\n",
      "global_avg_pool_1 (GlobalAvg multiple                  0         \n",
      "_________________________________________________________________\n",
      "global_sum_pool_1 (GlobalSum multiple                  0         \n",
      "_________________________________________________________________\n",
      "dense_3 (Dense)              multiple                  24640     \n",
      "_________________________________________________________________\n",
      "dense_4 (Dense)              multiple                  8320      \n",
      "_________________________________________________________________\n",
      "dropout_2 (Dropout)          multiple                  0         \n",
      "_________________________________________________________________\n",
      "dropout_3 (Dropout)          multiple                  0         \n",
      "_________________________________________________________________\n",
      "batch_normalization_2 (Batch multiple                  256       \n",
      "_________________________________________________________________\n",
      "batch_normalization_3 (Batch multiple                  512       \n",
      "_________________________________________________________________\n",
      "dense_5 (Dense)              multiple                  516       \n",
      "=================================================================\n",
      "Total params: 76,228\n",
      "Trainable params: 75,844\n",
      "Non-trainable params: 384\n",
      "_________________________________________________________________\n",
      "Epoch 1 of 50 done in 117.90 seconds using learning rate: 2.50E-04\n",
      "Avg loss of train: 5.434479\n",
      "Avg loss of validation: 2.130201\n",
      "Loss from:  Energy: 1.789644 \t Angle: 0.340557 \n",
      "Energy: bias = 1.469750 sig_range = 1.110049<->2.235426, old metric 0.530481              \n",
      " Angle: bias = 36.420269 sig_range = 19.080225<->58.477894, old metric 46.676945\n",
      "Early stop counter: 0/20, lowest val loss was 2.130201\n"
     ]
    },
    {
     "data": {
      "application/vnd.jupyter.widget-view+json": {
       "model_id": "32383b23de084b32a278d7e8a93258b1",
       "version_major": 2,
       "version_minor": 0
      },
      "text/plain": [
       "HBox(children=(HTML(value=''), FloatProgress(value=0.0, max=157.0), HTML(value='')))"
      ]
     },
     "metadata": {},
     "output_type": "display_data"
    },
    {
     "name": "stdout",
     "output_type": "stream",
     "text": [
      "Epoch 2 of 50 done in 122.46 seconds using learning rate: 5.00E-04\n",
      "Avg loss of train: 3.192142\n",
      "Avg loss of validation: 0.183298\n",
      "Loss from:  Energy: 0.262073 \t Angle: -0.078775 \n",
      "Energy: bias = 0.233565 sig_range = 0.079175<->0.434664, old metric 0.252779              \n",
      " Angle: bias = 36.212612 sig_range = 19.079659<->58.470192, old metric 46.533184\n",
      "Early stop counter: 0/20, lowest val loss was 0.183298\n"
     ]
    },
    {
     "data": {
      "application/vnd.jupyter.widget-view+json": {
       "model_id": "3cb34c08c86b48ecbc2155d242466c93",
       "version_major": 2,
       "version_minor": 0
      },
      "text/plain": [
       "HBox(children=(HTML(value=''), FloatProgress(value=0.0, max=157.0), HTML(value='')))"
      ]
     },
     "metadata": {},
     "output_type": "display_data"
    },
    {
     "ename": "KeyboardInterrupt",
     "evalue": "",
     "output_type": "error",
     "traceback": [
      "\u001b[1;31m---------------------------------------------------------------------------\u001b[0m",
      "\u001b[1;31mKeyboardInterrupt\u001b[0m                         Traceback (most recent call last)",
      "\u001b[1;32m<ipython-input-13-b741d9661ce6>\u001b[0m in \u001b[0;36m<module>\u001b[1;34m\u001b[0m\n\u001b[0;32m     27\u001b[0m     \u001b[0mprint\u001b[0m\u001b[1;33m(\u001b[0m\u001b[1;34m'New folder for saving run '\u001b[0m\u001b[1;33m+\u001b[0m\u001b[0mwandbname\u001b[0m\u001b[1;33m)\u001b[0m\u001b[1;33m\u001b[0m\u001b[1;33m\u001b[0m\u001b[0m\n\u001b[0;32m     28\u001b[0m \u001b[0msummarylist\u001b[0m\u001b[1;33m=\u001b[0m\u001b[1;33m[\u001b[0m\u001b[1;33m]\u001b[0m\u001b[1;33m\u001b[0m\u001b[1;33m\u001b[0m\u001b[0m\n\u001b[1;32m---> 29\u001b[1;33m \u001b[1;32mfor\u001b[0m \u001b[0mbatch\u001b[0m \u001b[1;32min\u001b[0m \u001b[0mloader_train\u001b[0m\u001b[1;33m:\u001b[0m\u001b[1;33m\u001b[0m\u001b[1;33m\u001b[0m\u001b[0m\n\u001b[0m\u001b[0;32m     30\u001b[0m     \u001b[0minputs\u001b[0m\u001b[1;33m,\u001b[0m \u001b[0mtargets\u001b[0m \u001b[1;33m=\u001b[0m \u001b[0mbatch\u001b[0m\u001b[1;33m\u001b[0m\u001b[1;33m\u001b[0m\u001b[0m\n\u001b[0;32m     31\u001b[0m     \u001b[0mout\u001b[0m             \u001b[1;33m=\u001b[0m \u001b[0mtrain_step\u001b[0m\u001b[1;33m(\u001b[0m\u001b[0minputs\u001b[0m\u001b[1;33m,\u001b[0m \u001b[0mtargets\u001b[0m\u001b[1;33m)\u001b[0m\u001b[1;33m\u001b[0m\u001b[1;33m\u001b[0m\u001b[0m\n",
      "\u001b[1;32m~\\AppData\\Roaming\\Python\\Python38\\site-packages\\spektral\\data\\loaders.py\u001b[0m in \u001b[0;36m__next__\u001b[1;34m(self)\u001b[0m\n\u001b[0;32m     99\u001b[0m     \u001b[1;32mdef\u001b[0m \u001b[0m__next__\u001b[0m\u001b[1;33m(\u001b[0m\u001b[0mself\u001b[0m\u001b[1;33m)\u001b[0m\u001b[1;33m:\u001b[0m\u001b[1;33m\u001b[0m\u001b[1;33m\u001b[0m\u001b[0m\n\u001b[0;32m    100\u001b[0m         \u001b[0mnxt\u001b[0m \u001b[1;33m=\u001b[0m \u001b[0mself\u001b[0m\u001b[1;33m.\u001b[0m\u001b[0m_generator\u001b[0m\u001b[1;33m.\u001b[0m\u001b[0m__next__\u001b[0m\u001b[1;33m(\u001b[0m\u001b[1;33m)\u001b[0m\u001b[1;33m\u001b[0m\u001b[1;33m\u001b[0m\u001b[0m\n\u001b[1;32m--> 101\u001b[1;33m         \u001b[1;32mreturn\u001b[0m \u001b[0mself\u001b[0m\u001b[1;33m.\u001b[0m\u001b[0mcollate\u001b[0m\u001b[1;33m(\u001b[0m\u001b[0mnxt\u001b[0m\u001b[1;33m)\u001b[0m\u001b[1;33m\u001b[0m\u001b[1;33m\u001b[0m\u001b[0m\n\u001b[0m\u001b[0;32m    102\u001b[0m \u001b[1;33m\u001b[0m\u001b[0m\n\u001b[0;32m    103\u001b[0m     \u001b[1;32mdef\u001b[0m \u001b[0mgenerator\u001b[0m\u001b[1;33m(\u001b[0m\u001b[0mself\u001b[0m\u001b[1;33m)\u001b[0m\u001b[1;33m:\u001b[0m\u001b[1;33m\u001b[0m\u001b[1;33m\u001b[0m\u001b[0m\n",
      "\u001b[1;32m~\\AppData\\Roaming\\Python\\Python38\\site-packages\\spektral\\data\\loaders.py\u001b[0m in \u001b[0;36mcollate\u001b[1;34m(self, batch)\u001b[0m\n\u001b[0;32m    283\u001b[0m             \u001b[0my\u001b[0m \u001b[1;33m=\u001b[0m \u001b[0mnp\u001b[0m\u001b[1;33m.\u001b[0m\u001b[0mvstack\u001b[0m\u001b[1;33m(\u001b[0m\u001b[0my\u001b[0m\u001b[1;33m)\u001b[0m \u001b[1;32mif\u001b[0m \u001b[0mself\u001b[0m\u001b[1;33m.\u001b[0m\u001b[0mnode_level\u001b[0m \u001b[1;32melse\u001b[0m \u001b[0mnp\u001b[0m\u001b[1;33m.\u001b[0m\u001b[0marray\u001b[0m\u001b[1;33m(\u001b[0m\u001b[0my\u001b[0m\u001b[1;33m)\u001b[0m\u001b[1;33m\u001b[0m\u001b[1;33m\u001b[0m\u001b[0m\n\u001b[0;32m    284\u001b[0m \u001b[1;33m\u001b[0m\u001b[0m\n\u001b[1;32m--> 285\u001b[1;33m         \u001b[0moutput\u001b[0m \u001b[1;33m=\u001b[0m \u001b[0mto_disjoint\u001b[0m\u001b[1;33m(\u001b[0m\u001b[1;33m**\u001b[0m\u001b[0mpacked\u001b[0m\u001b[1;33m)\u001b[0m\u001b[1;33m\u001b[0m\u001b[1;33m\u001b[0m\u001b[0m\n\u001b[0m\u001b[0;32m    286\u001b[0m         \u001b[0moutput\u001b[0m \u001b[1;33m=\u001b[0m \u001b[0mlist\u001b[0m\u001b[1;33m(\u001b[0m\u001b[0moutput\u001b[0m\u001b[1;33m)\u001b[0m\u001b[1;33m\u001b[0m\u001b[1;33m\u001b[0m\u001b[0m\n\u001b[0;32m    287\u001b[0m         \u001b[1;32mfor\u001b[0m \u001b[0mi\u001b[0m \u001b[1;32min\u001b[0m \u001b[0mrange\u001b[0m\u001b[1;33m(\u001b[0m\u001b[0mlen\u001b[0m\u001b[1;33m(\u001b[0m\u001b[0moutput\u001b[0m\u001b[1;33m)\u001b[0m\u001b[1;33m)\u001b[0m\u001b[1;33m:\u001b[0m\u001b[1;33m\u001b[0m\u001b[1;33m\u001b[0m\u001b[0m\n",
      "\u001b[1;32m~\\AppData\\Roaming\\Python\\Python38\\site-packages\\spektral\\data\\utils.py\u001b[0m in \u001b[0;36mto_disjoint\u001b[1;34m(x_list, a_list, e_list)\u001b[0m\n\u001b[0;32m     49\u001b[0m     \u001b[0ma_out\u001b[0m \u001b[1;33m=\u001b[0m \u001b[1;32mNone\u001b[0m\u001b[1;33m\u001b[0m\u001b[1;33m\u001b[0m\u001b[0m\n\u001b[0;32m     50\u001b[0m     \u001b[1;32mif\u001b[0m \u001b[0ma_list\u001b[0m \u001b[1;32mis\u001b[0m \u001b[1;32mnot\u001b[0m \u001b[1;32mNone\u001b[0m\u001b[1;33m:\u001b[0m\u001b[1;33m\u001b[0m\u001b[1;33m\u001b[0m\u001b[0m\n\u001b[1;32m---> 51\u001b[1;33m         \u001b[0ma_out\u001b[0m \u001b[1;33m=\u001b[0m \u001b[0msp\u001b[0m\u001b[1;33m.\u001b[0m\u001b[0mblock_diag\u001b[0m\u001b[1;33m(\u001b[0m\u001b[0ma_list\u001b[0m\u001b[1;33m)\u001b[0m\u001b[1;33m\u001b[0m\u001b[1;33m\u001b[0m\u001b[0m\n\u001b[0m\u001b[0;32m     52\u001b[0m \u001b[1;33m\u001b[0m\u001b[0m\n\u001b[0;32m     53\u001b[0m     \u001b[1;31m# Batch index\u001b[0m\u001b[1;33m\u001b[0m\u001b[1;33m\u001b[0m\u001b[1;33m\u001b[0m\u001b[0m\n",
      "\u001b[1;32m~\\anaconda3\\lib\\site-packages\\scipy\\sparse\\construct.py\u001b[0m in \u001b[0;36mblock_diag\u001b[1;34m(mats, format, dtype)\u001b[0m\n\u001b[0;32m    677\u001b[0m             \u001b[0mrow\u001b[0m\u001b[1;33m[\u001b[0m\u001b[0mia\u001b[0m\u001b[1;33m]\u001b[0m \u001b[1;33m=\u001b[0m \u001b[0mcoo_matrix\u001b[0m\u001b[1;33m(\u001b[0m\u001b[0ma\u001b[0m\u001b[1;33m)\u001b[0m\u001b[1;33m\u001b[0m\u001b[1;33m\u001b[0m\u001b[0m\n\u001b[0;32m    678\u001b[0m         \u001b[0mrows\u001b[0m\u001b[1;33m.\u001b[0m\u001b[0mappend\u001b[0m\u001b[1;33m(\u001b[0m\u001b[0mrow\u001b[0m\u001b[1;33m)\u001b[0m\u001b[1;33m\u001b[0m\u001b[1;33m\u001b[0m\u001b[0m\n\u001b[1;32m--> 679\u001b[1;33m     \u001b[1;32mreturn\u001b[0m \u001b[0mbmat\u001b[0m\u001b[1;33m(\u001b[0m\u001b[0mrows\u001b[0m\u001b[1;33m,\u001b[0m \u001b[0mformat\u001b[0m\u001b[1;33m=\u001b[0m\u001b[0mformat\u001b[0m\u001b[1;33m,\u001b[0m \u001b[0mdtype\u001b[0m\u001b[1;33m=\u001b[0m\u001b[0mdtype\u001b[0m\u001b[1;33m)\u001b[0m\u001b[1;33m\u001b[0m\u001b[1;33m\u001b[0m\u001b[0m\n\u001b[0m\u001b[0;32m    680\u001b[0m \u001b[1;33m\u001b[0m\u001b[0m\n\u001b[0;32m    681\u001b[0m \u001b[1;33m\u001b[0m\u001b[0m\n",
      "\u001b[1;32m~\\anaconda3\\lib\\site-packages\\scipy\\sparse\\construct.py\u001b[0m in \u001b[0;36mbmat\u001b[1;34m(blocks, format, dtype)\u001b[0m\n\u001b[0;32m    574\u001b[0m         \u001b[1;32mfor\u001b[0m \u001b[0mj\u001b[0m \u001b[1;32min\u001b[0m \u001b[0mrange\u001b[0m\u001b[1;33m(\u001b[0m\u001b[0mN\u001b[0m\u001b[1;33m)\u001b[0m\u001b[1;33m:\u001b[0m\u001b[1;33m\u001b[0m\u001b[1;33m\u001b[0m\u001b[0m\n\u001b[0;32m    575\u001b[0m             \u001b[1;32mif\u001b[0m \u001b[0mblocks\u001b[0m\u001b[1;33m[\u001b[0m\u001b[0mi\u001b[0m\u001b[1;33m,\u001b[0m\u001b[0mj\u001b[0m\u001b[1;33m]\u001b[0m \u001b[1;32mis\u001b[0m \u001b[1;32mnot\u001b[0m \u001b[1;32mNone\u001b[0m\u001b[1;33m:\u001b[0m\u001b[1;33m\u001b[0m\u001b[1;33m\u001b[0m\u001b[0m\n\u001b[1;32m--> 576\u001b[1;33m                 \u001b[0mA\u001b[0m \u001b[1;33m=\u001b[0m \u001b[0mcoo_matrix\u001b[0m\u001b[1;33m(\u001b[0m\u001b[0mblocks\u001b[0m\u001b[1;33m[\u001b[0m\u001b[0mi\u001b[0m\u001b[1;33m,\u001b[0m\u001b[0mj\u001b[0m\u001b[1;33m]\u001b[0m\u001b[1;33m)\u001b[0m\u001b[1;33m\u001b[0m\u001b[1;33m\u001b[0m\u001b[0m\n\u001b[0m\u001b[0;32m    577\u001b[0m                 \u001b[0mblocks\u001b[0m\u001b[1;33m[\u001b[0m\u001b[0mi\u001b[0m\u001b[1;33m,\u001b[0m\u001b[0mj\u001b[0m\u001b[1;33m]\u001b[0m \u001b[1;33m=\u001b[0m \u001b[0mA\u001b[0m\u001b[1;33m\u001b[0m\u001b[1;33m\u001b[0m\u001b[0m\n\u001b[0;32m    578\u001b[0m                 \u001b[0mblock_mask\u001b[0m\u001b[1;33m[\u001b[0m\u001b[0mi\u001b[0m\u001b[1;33m,\u001b[0m\u001b[0mj\u001b[0m\u001b[1;33m]\u001b[0m \u001b[1;33m=\u001b[0m \u001b[1;32mTrue\u001b[0m\u001b[1;33m\u001b[0m\u001b[1;33m\u001b[0m\u001b[0m\n",
      "\u001b[1;32m~\\anaconda3\\lib\\site-packages\\scipy\\sparse\\coo.py\u001b[0m in \u001b[0;36m__init__\u001b[1;34m(self, arg1, shape, dtype, copy)\u001b[0m\n\u001b[0;32m    194\u001b[0m             \u001b[0mself\u001b[0m\u001b[1;33m.\u001b[0m\u001b[0mdata\u001b[0m \u001b[1;33m=\u001b[0m \u001b[0mself\u001b[0m\u001b[1;33m.\u001b[0m\u001b[0mdata\u001b[0m\u001b[1;33m.\u001b[0m\u001b[0mastype\u001b[0m\u001b[1;33m(\u001b[0m\u001b[0mdtype\u001b[0m\u001b[1;33m,\u001b[0m \u001b[0mcopy\u001b[0m\u001b[1;33m=\u001b[0m\u001b[1;32mFalse\u001b[0m\u001b[1;33m)\u001b[0m\u001b[1;33m\u001b[0m\u001b[1;33m\u001b[0m\u001b[0m\n\u001b[0;32m    195\u001b[0m \u001b[1;33m\u001b[0m\u001b[0m\n\u001b[1;32m--> 196\u001b[1;33m         \u001b[0mself\u001b[0m\u001b[1;33m.\u001b[0m\u001b[0m_check\u001b[0m\u001b[1;33m(\u001b[0m\u001b[1;33m)\u001b[0m\u001b[1;33m\u001b[0m\u001b[1;33m\u001b[0m\u001b[0m\n\u001b[0m\u001b[0;32m    197\u001b[0m \u001b[1;33m\u001b[0m\u001b[0m\n\u001b[0;32m    198\u001b[0m     \u001b[1;32mdef\u001b[0m \u001b[0mreshape\u001b[0m\u001b[1;33m(\u001b[0m\u001b[0mself\u001b[0m\u001b[1;33m,\u001b[0m \u001b[1;33m*\u001b[0m\u001b[0margs\u001b[0m\u001b[1;33m,\u001b[0m \u001b[1;33m**\u001b[0m\u001b[0mkwargs\u001b[0m\u001b[1;33m)\u001b[0m\u001b[1;33m:\u001b[0m\u001b[1;33m\u001b[0m\u001b[1;33m\u001b[0m\u001b[0m\n",
      "\u001b[1;32m~\\anaconda3\\lib\\site-packages\\scipy\\sparse\\coo.py\u001b[0m in \u001b[0;36m_check\u001b[1;34m(self)\u001b[0m\n\u001b[0;32m    282\u001b[0m             \u001b[1;32mif\u001b[0m \u001b[0mself\u001b[0m\u001b[1;33m.\u001b[0m\u001b[0mrow\u001b[0m\u001b[1;33m.\u001b[0m\u001b[0mmax\u001b[0m\u001b[1;33m(\u001b[0m\u001b[1;33m)\u001b[0m \u001b[1;33m>=\u001b[0m \u001b[0mself\u001b[0m\u001b[1;33m.\u001b[0m\u001b[0mshape\u001b[0m\u001b[1;33m[\u001b[0m\u001b[1;36m0\u001b[0m\u001b[1;33m]\u001b[0m\u001b[1;33m:\u001b[0m\u001b[1;33m\u001b[0m\u001b[1;33m\u001b[0m\u001b[0m\n\u001b[0;32m    283\u001b[0m                 \u001b[1;32mraise\u001b[0m \u001b[0mValueError\u001b[0m\u001b[1;33m(\u001b[0m\u001b[1;34m'row index exceeds matrix dimensions'\u001b[0m\u001b[1;33m)\u001b[0m\u001b[1;33m\u001b[0m\u001b[1;33m\u001b[0m\u001b[0m\n\u001b[1;32m--> 284\u001b[1;33m             \u001b[1;32mif\u001b[0m \u001b[0mself\u001b[0m\u001b[1;33m.\u001b[0m\u001b[0mcol\u001b[0m\u001b[1;33m.\u001b[0m\u001b[0mmax\u001b[0m\u001b[1;33m(\u001b[0m\u001b[1;33m)\u001b[0m \u001b[1;33m>=\u001b[0m \u001b[0mself\u001b[0m\u001b[1;33m.\u001b[0m\u001b[0mshape\u001b[0m\u001b[1;33m[\u001b[0m\u001b[1;36m1\u001b[0m\u001b[1;33m]\u001b[0m\u001b[1;33m:\u001b[0m\u001b[1;33m\u001b[0m\u001b[1;33m\u001b[0m\u001b[0m\n\u001b[0m\u001b[0;32m    285\u001b[0m                 \u001b[1;32mraise\u001b[0m \u001b[0mValueError\u001b[0m\u001b[1;33m(\u001b[0m\u001b[1;34m'column index exceeds matrix dimensions'\u001b[0m\u001b[1;33m)\u001b[0m\u001b[1;33m\u001b[0m\u001b[1;33m\u001b[0m\u001b[0m\n\u001b[0;32m    286\u001b[0m             \u001b[1;32mif\u001b[0m \u001b[0mself\u001b[0m\u001b[1;33m.\u001b[0m\u001b[0mrow\u001b[0m\u001b[1;33m.\u001b[0m\u001b[0mmin\u001b[0m\u001b[1;33m(\u001b[0m\u001b[1;33m)\u001b[0m \u001b[1;33m<\u001b[0m \u001b[1;36m0\u001b[0m\u001b[1;33m:\u001b[0m\u001b[1;33m\u001b[0m\u001b[1;33m\u001b[0m\u001b[0m\n",
      "\u001b[1;32m~\\anaconda3\\lib\\site-packages\\numpy\\core\\_methods.py\u001b[0m in \u001b[0;36m_amax\u001b[1;34m(a, axis, out, keepdims, initial, where)\u001b[0m\n\u001b[0;32m     37\u001b[0m def _amax(a, axis=None, out=None, keepdims=False,\n\u001b[0;32m     38\u001b[0m           initial=_NoValue, where=True):\n\u001b[1;32m---> 39\u001b[1;33m     \u001b[1;32mreturn\u001b[0m \u001b[0mumr_maximum\u001b[0m\u001b[1;33m(\u001b[0m\u001b[0ma\u001b[0m\u001b[1;33m,\u001b[0m \u001b[0maxis\u001b[0m\u001b[1;33m,\u001b[0m \u001b[1;32mNone\u001b[0m\u001b[1;33m,\u001b[0m \u001b[0mout\u001b[0m\u001b[1;33m,\u001b[0m \u001b[0mkeepdims\u001b[0m\u001b[1;33m,\u001b[0m \u001b[0minitial\u001b[0m\u001b[1;33m,\u001b[0m \u001b[0mwhere\u001b[0m\u001b[1;33m)\u001b[0m\u001b[1;33m\u001b[0m\u001b[1;33m\u001b[0m\u001b[0m\n\u001b[0m\u001b[0;32m     40\u001b[0m \u001b[1;33m\u001b[0m\u001b[0m\n\u001b[0;32m     41\u001b[0m def _amin(a, axis=None, out=None, keepdims=False,\n",
      "\u001b[1;31mKeyboardInterrupt\u001b[0m: "
     ]
    }
   ],
   "source": [
    "k=0\n",
    "if notebook:\n",
    "    k=0.2\n",
    "tot_time=0\n",
    "current_batch = 0\n",
    "current_epoch = 1\n",
    "loss          = 0\n",
    "lowest_loss   = np.inf\n",
    "early_stop    = 1\n",
    "early_stop_counter    = 0\n",
    "if notebook:\n",
    "    pbar0          = tqdm(total = epochs, position = 0, leave = True)\n",
    "    pbar0.set_description(f\"Epochbar\")\n",
    "pbar          = tqdm(total = loader_train.steps_per_epoch, position = k, leave = True)\n",
    "start_time    = time.time()\n",
    "lr_gen        = lr_schedule(initial=learning_rate)\n",
    "learning_Rate = next(lr_gen)\n",
    "cwd = osp.abspath('')\n",
    "save_path = osp.join(cwd, 'trained_models/'+scenario)\n",
    "if not osp.isdir(save_path):\n",
    "    os.makedirs(save_path)\n",
    "    print('New folder for saving '+scenario+' made')\n",
    "# Implement saving model archictecture to wandb\n",
    "save_path = osp.join(save_path, wandbname)\n",
    "if not osp.isdir(save_path):\n",
    "    os.makedirs(save_path)\n",
    "    print('New folder for saving run '+wandbname)\n",
    "summarylist=[]\n",
    "for batch in loader_train:\n",
    "    inputs, targets = batch\n",
    "    out             = train_step(inputs, targets)\n",
    "    loss           += out\n",
    "    if current_epoch==1 and current_batch==0:\n",
    "        model.summary()\n",
    "        if wandblog:\n",
    "            summary=model.summary(print_fn=summarylist.append)\n",
    "            table=wandb.Table(columns=[\"Layers\"])\n",
    "            for s in summarylist:\n",
    "                table.add_data(s)\n",
    "            wandb.log({'Model summary': table})\n",
    "            n_params=np.sum([np.prod(v.get_shape()) for v in model.variables])\n",
    "            wandb.config['n_params']=n_params\n",
    "    current_batch  += 1\n",
    "    pbar.update(1)\n",
    "    pbar.set_description(f\"Epoch {current_epoch} / {epochs}; Avg_loss: {loss / current_batch:.6f}\")\n",
    "    \n",
    "    \n",
    "    if current_batch == loader_train.steps_per_epoch:\n",
    "        t=time.time() - start_time\n",
    "        tot_time+=t\n",
    "        print(f\"Epoch {current_epoch} of {epochs} done in {t:.2f} seconds using learning rate: {learning_rate:.2E}\")\n",
    "        print(f\"Avg loss of train: {loss / loader_train.steps_per_epoch:.6f}\")\n",
    "\n",
    "        loader_val    = DisjointLoader(dataset_val, epochs = 1,      batch_size = batch_size)\n",
    "        val_loss, val_loss_from, val_metric = validation(loader_val)\n",
    "#         val_loss, val_metric = validation(loader_val)\n",
    "        if wandblog:\n",
    "            wandb.log({\"Train Loss\":      loss / loader_train.steps_per_epoch,\n",
    "                       \"Validation Loss\": val_loss, \n",
    "                       \"Energy metric\":   val_metric[2][0],\n",
    "                       \"Energy bias\":   val_metric[0][1],\n",
    "                       \"Energy sig+1\":   val_metric[0][0],\n",
    "                       \"Energy sig-1\":   val_metric[0][2],\n",
    "                       \"Angle metric\":    val_metric[2][1],\n",
    "                       \"Angle bias\":   val_metric[1][1],\n",
    "                       \"Angle sig+1\":   val_metric[1][0],\n",
    "                       \"Angle sig-1\":   val_metric[1][2],\n",
    "                       \"Learning rate\":   learning_rate})\n",
    "\n",
    "        print(f\"Avg loss of validation: {val_loss:.6f}\")\n",
    "        print(f\"Loss from:  Energy: {val_loss_from[0]:.6f} \\t Angle: {val_loss_from[1]:.6f} \")\n",
    "        print(f\"Energy: bias = {val_metric[0][1]:.6f} sig_range = {val_metric[0][0]:.6f}<->{val_metric[0][2]:.6f}, old metric {val_metric[2][0]:.6f}\\\n",
    "              \\n Angle: bias = {val_metric[1][1]:.6f} sig_range = {val_metric[1][0]:.6f}<->{val_metric[1][2]:.6f}, old metric {val_metric[2][1]:.6f}\")\n",
    "\n",
    "        if val_loss < lowest_loss:\n",
    "            early_stop_counter = 0\n",
    "            lowest_loss        = val_loss\n",
    "        else:\n",
    "            early_stop_counter += 1\n",
    "        print(f'Early stop counter: {early_stop_counter}/{patience}, lowest val loss was {lowest_loss:.6f}')\n",
    "        if early_stop and (early_stop_counter >= patience):\n",
    "            model.save(save_path)\n",
    "            print(f\"Stopped training. No improvement was seen in {patience} epochs\")\n",
    "            break\n",
    "\n",
    "        if current_epoch != epochs:\n",
    "            pbar          = tqdm(total = loader_train.steps_per_epoch, position = k, leave = True)\n",
    "\n",
    "        learning_rate = next(lr_gen)\n",
    "        opt.learning_rate.assign(learning_rate)\n",
    "        if notebook:\n",
    "            pbar0.update(1)\n",
    "        time_avg=tot_time/current_epoch\n",
    "        delta=dt.timedelta(seconds=time_avg*(epochs-current_epoch))\n",
    "        now = dt.datetime.now()\n",
    "        then=now+delta\n",
    "        time_e = then.strftime(\"%H:%M:%S\")\n",
    "        if notebook:\n",
    "            pbar0.set_description(f\"Expect to finish at {time_e}\")\n",
    "        if current_epoch % patience == 0:\n",
    "            model.save(save_path)\n",
    "            print(\"Model saved\")\n",
    "            if wandblog:\n",
    "                loader_test = DisjointLoader(dataset_test, batch_size=batch_size, epochs=1)\n",
    "                fig, ax = performance_e_alpha(loader_test, save=True, save_path=save_path)\n",
    "                title=\"Metricsplot_\"+str(current_epoch)\n",
    "                wandb.log({title: [wandb.Image(fig, caption=title)]})\n",
    "    \n",
    "        loss            = 0\n",
    "        start_time      = time.time()\n",
    "        current_epoch  += 1\n",
    "        current_batch   = 0\n",
    "\n",
    "run.finish()        \n",
    "if notebook:\n",
    "    winsound.Beep(400,300)"
   ]
  },
  {
   "cell_type": "code",
   "execution_count": null,
   "metadata": {
    "ExecuteTime": {
     "end_time": "2021-03-13T17:03:17.492684Z",
     "start_time": "2021-03-13T17:01:32.680Z"
    }
   },
   "outputs": [],
   "source": [
    "loader_test = DisjointLoader(dataset_test, batch_size=batch_size, epochs=1)\n",
    "fig, ax = performance_e_alpha(loader_test)\n",
    "# if wandblog:\n",
    "#     fig.savefig(f\"model_tests/{scenario}_\"+wandbname\".pdf\")"
   ]
  },
  {
   "cell_type": "code",
   "execution_count": null,
   "metadata": {
    "ExecuteTime": {
     "end_time": "2021-03-13T17:03:17.493682Z",
     "start_time": "2021-03-13T17:01:32.682Z"
    }
   },
   "outputs": [],
   "source": [
    "loader = DisjointLoader(dataset_test, batch_size=batch_size, epochs=1)\n",
    "loss = 0\n",
    "prediction_list, target_list = [], []\n",
    "for batch in loader:\n",
    "    inputs, targets = batch\n",
    "#     inputs[0][:, :3] = inputs[0][:, :3] / 1000\n",
    "    predictions, targets, out = test_step(inputs, targets)\n",
    "    loss           += out\n",
    "\n",
    "    prediction_list.append(predictions)\n",
    "    target_list.append(targets)\n",
    "y_reco  = tf.concat(prediction_list, axis = 0).numpy()\n",
    "y_true  = tf.concat(target_list, axis = 0)\n",
    "y_true  = tf.cast(y_true, tf.float32).numpy()"
   ]
  },
  {
   "cell_type": "code",
   "execution_count": null,
   "metadata": {
    "ExecuteTime": {
     "end_time": "2021-03-13T17:03:17.495678Z",
     "start_time": "2021-03-13T17:01:32.685Z"
    }
   },
   "outputs": [],
   "source": [
    "res=y_reco[:,:3]-y_true"
   ]
  },
  {
   "cell_type": "code",
   "execution_count": null,
   "metadata": {
    "ExecuteTime": {
     "end_time": "2021-03-13T17:03:17.496674Z",
     "start_time": "2021-03-13T17:01:32.687Z"
    }
   },
   "outputs": [],
   "source": [
    "k=1\n",
    "# mask=np.abs(y_reco[:,k]-y_true[:,k])>np.pi\n",
    "# mask=y_reco[:,k]<0\n",
    "\n",
    "plt.hist(y_reco[:,k]%(np.pi/2), bins=50, alpha=0.4);\n",
    "# plt.hist(np.abs(y_reco[:,2])-y_true[:,2], bins=50, alpha=0.4);\n",
    "# plt.hist(np.abs(y_reco[:,k]), bins=50, alpha=0.4);\n",
    "plt.hist(np.abs(y_true[:,k]), bins=50, alpha=0.4);"
   ]
  },
  {
   "cell_type": "code",
   "execution_count": null,
   "metadata": {
    "ExecuteTime": {
     "end_time": "2021-03-13T17:03:17.498669Z",
     "start_time": "2021-03-13T17:01:32.689Z"
    }
   },
   "outputs": [],
   "source": [
    "fig3, ax3 = plt.subplots()\n",
    "ax3.hist2d(y_true[:,k], y_reco[:,k]%(np.pi/2), bins=100, range=[np.percentile(y_reco[:,k]%(np.pi/2),[1,99]),[0,2]]);"
   ]
  },
  {
   "cell_type": "code",
   "execution_count": null,
   "metadata": {
    "ExecuteTime": {
     "end_time": "2021-03-13T17:03:17.500666Z",
     "start_time": "2021-03-13T17:01:32.691Z"
    }
   },
   "outputs": [],
   "source": [
    "def test(loader):\n",
    "    loss = 0\n",
    "    prediction_list, target_list = [], []\n",
    "    for batch in loader:\n",
    "        inputs, targets = batch\n",
    "        inputs[0][:, :3] = inputs[0][:, :3] / 1000\n",
    "        predictions, targets, out = test_step(inputs, targets)\n",
    "        loss           += out\n",
    "        \n",
    "        prediction_list.append(predictions)\n",
    "        target_list.append(targets)\n",
    "\n",
    "    y_reco  = tf.concat(prediction_list, axis = 0).numpy()\n",
    "    y_true  = tf.concat(target_list, axis = 0)\n",
    "    y_true  = tf.cast(y_true, tf.float32).numpy()\n",
    "\n",
    "\n",
    "#     # Unit vects to angles\n",
    "#     reco_vects = normalize(y_reco[:, 1:])    \n",
    "#     true_vects = normalize(y_true[:, 1:])\n",
    "\n",
    "\n",
    "#     reco_azi   = np.arctan2(reco_vects[:, 1], reco_vects[:, 0])\n",
    "#     reco_zen   = np.arctan2(reco_vects[:, 2], np.sqrt((reco_vects[:, :2] ** 2).sum(1)))\n",
    "\n",
    "#     true_azi   = np.arctan2(true_vects[:, 1], true_vects[:, 0])\n",
    "#     true_zen   = np.arctan2(true_vects[:, 2], np.sqrt((true_vects[:, :2] ** 2).sum(1)))\n",
    "\n",
    "\n",
    "\n",
    "\n",
    "\n",
    "    energy = y_true[:, 0]\n",
    "    counts, bins = np.histogram(energy, bins = 10)\n",
    "\n",
    "    xs = (bins[1:] + bins[: -1]) / 2\n",
    "\n",
    "    w_energies, u_angles = [], []\n",
    "\n",
    "    for i in range(len(bins)-1):\n",
    "        idx = np.logical_and(energy > bins[i], energy < bins[i + 1])\n",
    "\n",
    "        w, u_angle = metrics(y_true[idx, :], y_reco[idx, :])\n",
    "\n",
    "        w_energies.append(w)\n",
    "        u_angles.append(u_angle)\n",
    "\n",
    "\n",
    "    fig, ax = plt.subplots(ncols = 3, nrows = 3, figsize = (12, 12))\n",
    "\n",
    "    for a in ax[0]:\n",
    "        a_ = a.twinx()\n",
    "        a_.step(xs, counts, color = \"gray\", zorder = 10, alpha = 0.7, where = \"mid\")\n",
    "        a_.set_yscale(\"log\")\n",
    "        a.set_xlabel(\"Log Energy\")\n",
    "    \n",
    "    ax_top = ax[0]\n",
    "\n",
    "    # Energy reconstruction\n",
    "    ax_top[0].scatter(xs, w_energies)\n",
    "    ax_top[0].set_title(\"Energy Performance\")\n",
    "    ax_top[0].set_ylabel(r\"$w(\\Delta log(E)$\")\n",
    "\n",
    "\n",
    "    # Angle reconstruction\n",
    "    ax_top[1].scatter(xs, u_angles)\n",
    "    ax_top[1].set_title(\"Angle Performance\")\n",
    "    ax_top[1].set_ylabel(r\"$u(\\Delta \\Omega)$\")\n",
    "\n",
    "\n",
    "    # truth - pred plots\n",
    "    ax_mid = ax[1]\n",
    "\n",
    "    # Energy\n",
    "    ax_mid[0].set_title(\"Energy\")\n",
    "    ax_mid[0].plot(y_true[:, 0], y_reco[:, 0], 'b.', alpha = 0.25)\n",
    "\n",
    "\n",
    "    # Zenith\n",
    "    ax_mid[1].set_title(\"Zenith angle\")\n",
    "    ax_mid[1].plot(true_zen, reco_zen, 'b.', alpha = 0.25)\n",
    "    \n",
    "\n",
    "    # Azimuthal\n",
    "    ax_mid[2].set_title(\"Azimuthal angle\")\n",
    "    ax_mid[2].plot(true_azi, reco_azi, 'b.', alpha = 0.25)\n",
    "\n",
    "\n",
    "\n",
    "\n",
    "\n",
    "    # Histogram of guesses\n",
    "    ax_bot = ax[2]\n",
    "\n",
    "    # Energy\n",
    "    ax_bot[0].set_title(\"Energy\")\n",
    "    ax_bot[0].hist(y_reco[:, 0] - y_true[:, 0], label = \"reco - true\", histtype = \"step\", bins = 50)\n",
    "    ax_bot[0].hist(y_reco[:, 0], label = \"reco\", histtype = \"step\", bins = 50)\n",
    "    ax_bot[0].hist(y_true[:, 0], label = \"true\", histtype = \"step\", bins = 50)\n",
    "\n",
    "    # Zenith\n",
    "    ax_bot[1].set_title(\"Zenith angle\")\n",
    "    ax_bot[1].hist(reco_zen - true_zen, label = \"reco - true\", histtype = \"step\", bins = 50)\n",
    "    ax_bot[1].hist(reco_zen, label = \"reco\", histtype = \"step\", bins = 50)\n",
    "    ax_bot[1].hist(true_zen, label = \"true\", histtype = \"step\", bins = 50)\n",
    "\n",
    "    # Azimuthal\n",
    "    ax_bot[2].set_title(\"Azimuthal angle\")\n",
    "    ax_bot[2].hist(reco_azi - true_azi, label = \"reco - true\", histtype = \"step\", bins = 50)\n",
    "    ax_bot[2].hist(reco_azi, label = \"reco\", histtype = \"step\", bins = 50)\n",
    "    ax_bot[2].hist(true_azi, label = \"true\", histtype = \"step\", bins = 50)\n",
    "    ax_bot[2].legend()\n",
    "\n",
    "    fig.tight_layout()\n",
    "\n",
    "    return fig, ax"
   ]
  },
  {
   "cell_type": "code",
   "execution_count": null,
   "metadata": {
    "ExecuteTime": {
     "end_time": "2021-03-13T17:03:17.501663Z",
     "start_time": "2021-03-13T17:01:32.694Z"
    },
    "code_folding": [
     0
    ]
   },
   "outputs": [],
   "source": [
    "def test(loader):\n",
    "    loss = 0\n",
    "    prediction_list, target_list = [], []\n",
    "    for batch in loader:\n",
    "        inputs, targets = batch\n",
    "        inputs[0][:, :3] = inputs[0][:, :3] / 1000\n",
    "        predictions, targets, out = test_step(inputs, targets)\n",
    "        loss           += out\n",
    "        \n",
    "        prediction_list.append(predictions)\n",
    "        target_list.append(targets)\n",
    "\n",
    "    y_reco  = tf.concat(prediction_list, axis = 0).numpy()\n",
    "    y_true  = tf.concat(target_list, axis = 0)\n",
    "    y_true  = tf.cast(y_true, tf.float32).numpy()\n",
    "\n",
    "\n",
    "#     # Unit vects to angles\n",
    "#     reco_vects = normalize(y_reco[:, 1:])    \n",
    "#     true_vects = normalize(y_true[:, 1:])\n",
    "\n",
    "\n",
    "#     reco_azi   = np.arctan2(reco_vects[:, 1], reco_vects[:, 0])\n",
    "#     reco_zen   = np.arctan2(reco_vects[:, 2], np.sqrt((reco_vects[:, :2] ** 2).sum(1)))\n",
    "\n",
    "#     true_azi   = np.arctan2(true_vects[:, 1], true_vects[:, 0])\n",
    "#     true_zen   = np.arctan2(true_vects[:, 2], np.sqrt((true_vects[:, :2] ** 2).sum(1)))\n",
    "\n",
    "\n",
    "\n",
    "\n",
    "\n",
    "    energy = y_true[:, 0]\n",
    "    counts, bins = np.histogram(energy, bins = 10)\n",
    "\n",
    "    xs = (bins[1:] + bins[: -1]) / 2\n",
    "\n",
    "    w_energies, u_angles = [], []\n",
    "\n",
    "    for i in range(len(bins)-1):\n",
    "        idx = np.logical_and(energy > bins[i], energy < bins[i + 1])\n",
    "\n",
    "        w, u_angle = metrics(y_true[idx, :], y_reco[idx, :])\n",
    "\n",
    "        w_energies.append(w)\n",
    "        u_angles.append(u_angle)\n",
    "\n",
    "\n",
    "    fig, ax = plt.subplots(ncols = 3, nrows = 3, figsize = (12, 12))\n",
    "\n",
    "    for a in ax[0]:\n",
    "        a_ = a.twinx()\n",
    "        a_.step(xs, counts, color = \"gray\", zorder = 10, alpha = 0.7, where = \"mid\")\n",
    "        a_.set_yscale(\"log\")\n",
    "        a.set_xlabel(\"Log Energy\")\n",
    "    \n",
    "    ax_top = ax[0]\n",
    "\n",
    "    # Energy reconstruction\n",
    "    ax_top[0].scatter(xs, w_energies)\n",
    "    ax_top[0].set_title(\"Energy Performance\")\n",
    "    ax_top[0].set_ylabel(r\"$w(\\Delta log(E)$\")\n",
    "\n",
    "\n",
    "    # Angle reconstruction\n",
    "    ax_top[1].scatter(xs, u_angles)\n",
    "    ax_top[1].set_title(\"Angle Performance\")\n",
    "    ax_top[1].set_ylabel(r\"$u(\\Delta \\Omega)$\")\n",
    "\n",
    "\n",
    "    # truth - pred plots\n",
    "    ax_mid = ax[1]\n",
    "\n",
    "    # Energy\n",
    "    ax_mid[0].set_title(\"Energy\")\n",
    "    ax_mid[0].plot(y_true[:, 0], y_reco[:, 0], 'b.', alpha = 0.25)\n",
    "\n",
    "\n",
    "    # Zenith\n",
    "    ax_mid[1].set_title(\"Zenith angle\")\n",
    "    ax_mid[1].plot(true_zen, reco_zen, 'b.', alpha = 0.25)\n",
    "    \n",
    "\n",
    "    # Azimuthal\n",
    "    ax_mid[2].set_title(\"Azimuthal angle\")\n",
    "    ax_mid[2].plot(true_azi, reco_azi, 'b.', alpha = 0.25)\n",
    "\n",
    "\n",
    "\n",
    "\n",
    "\n",
    "    # Histogram of guesses\n",
    "    ax_bot = ax[2]\n",
    "\n",
    "    # Energy\n",
    "    ax_bot[0].set_title(\"Energy\")\n",
    "    ax_bot[0].hist(y_reco[:, 0] - y_true[:, 0], label = \"reco - true\", histtype = \"step\", bins = 50)\n",
    "    ax_bot[0].hist(y_reco[:, 0], label = \"reco\", histtype = \"step\", bins = 50)\n",
    "    ax_bot[0].hist(y_true[:, 0], label = \"true\", histtype = \"step\", bins = 50)\n",
    "\n",
    "    # Zenith\n",
    "    ax_bot[1].set_title(\"Zenith angle\")\n",
    "    ax_bot[1].hist(reco_zen - true_zen, label = \"reco - true\", histtype = \"step\", bins = 50)\n",
    "    ax_bot[1].hist(reco_zen, label = \"reco\", histtype = \"step\", bins = 50)\n",
    "    ax_bot[1].hist(true_zen, label = \"true\", histtype = \"step\", bins = 50)\n",
    "\n",
    "    # Azimuthal\n",
    "    ax_bot[2].set_title(\"Azimuthal angle\")\n",
    "    ax_bot[2].hist(reco_azi - true_azi, label = \"reco - true\", histtype = \"step\", bins = 50)\n",
    "    ax_bot[2].hist(reco_azi, label = \"reco\", histtype = \"step\", bins = 50)\n",
    "    ax_bot[2].hist(true_azi, label = \"true\", histtype = \"step\", bins = 50)\n",
    "    ax_bot[2].legend()\n",
    "\n",
    "    fig.tight_layout()\n",
    "\n",
    "    return fig, ax"
   ]
  },
  {
   "cell_type": "code",
   "execution_count": null,
   "metadata": {
    "ExecuteTime": {
     "end_time": "2021-03-13T17:03:17.502669Z",
     "start_time": "2021-03-13T17:01:32.697Z"
    }
   },
   "outputs": [],
   "source": [
    "test(loader_test)"
   ]
  },
  {
   "cell_type": "code",
   "execution_count": null,
   "metadata": {},
   "outputs": [],
   "source": []
  }
 ],
 "metadata": {
  "hide_input": false,
  "kernelspec": {
   "display_name": "Python 3",
   "language": "python",
   "name": "python3"
  },
  "language_info": {
   "codemirror_mode": {
    "name": "ipython",
    "version": 3
   },
   "file_extension": ".py",
   "mimetype": "text/x-python",
   "name": "python",
   "nbconvert_exporter": "python",
   "pygments_lexer": "ipython3",
   "version": "3.8.5"
  }
 },
 "nbformat": 4,
 "nbformat_minor": 4
}
