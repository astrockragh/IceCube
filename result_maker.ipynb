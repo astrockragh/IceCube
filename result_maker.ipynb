{
 "cells": [
  {
   "cell_type": "code",
   "execution_count": 1,
   "metadata": {
    "ExecuteTime": {
     "end_time": "2021-04-22T14:07:44.011361Z",
     "start_time": "2021-04-22T14:07:42.927145Z"
    }
   },
   "outputs": [],
   "source": [
    "import pandas as pd"
   ]
  },
  {
   "cell_type": "code",
   "execution_count": 2,
   "metadata": {
    "ExecuteTime": {
     "end_time": "2021-04-22T14:07:49.042390Z",
     "start_time": "2021-04-22T14:07:48.967123Z"
    }
   },
   "outputs": [],
   "source": [
    "sets = pd.read_pickle('sets.pkl')\n",
    "train_events = sets['train']\n",
    "test_events = sets['test']"
   ]
  },
  {
   "cell_type": "code",
   "execution_count": 8,
   "metadata": {
    "ExecuteTime": {
     "end_time": "2021-04-22T14:08:53.143726Z",
     "start_time": "2021-04-22T14:08:53.131758Z"
    }
   },
   "outputs": [
    {
     "data": {
      "text/plain": [
       "(6633442, 1658362, 8291804)"
      ]
     },
     "execution_count": 8,
     "metadata": {},
     "output_type": "execute_result"
    }
   ],
   "source": [
    "len(train_events), len(test_events), len(train_events)+len(test_events) "
   ]
  }
 ],
 "metadata": {
  "hide_input": false,
  "kernelspec": {
   "display_name": "Python 3",
   "language": "python",
   "name": "python3"
  },
  "language_info": {
   "codemirror_mode": {
    "name": "ipython",
    "version": 3
   },
   "file_extension": ".py",
   "mimetype": "text/x-python",
   "name": "python",
   "nbconvert_exporter": "python",
   "pygments_lexer": "ipython3",
   "version": "3.8.5"
  }
 },
 "nbformat": 4,
 "nbformat_minor": 4
}
