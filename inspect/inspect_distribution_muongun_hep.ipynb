{
 "cells": [
  {
   "cell_type": "code",
   "execution_count": 1,
   "metadata": {
    "ExecuteTime": {
     "end_time": "2021-06-03T17:22:49.229914Z",
     "start_time": "2021-06-03T17:22:42.494819Z"
    }
   },
   "outputs": [],
   "source": [
    "import sqlite3, os, sys\n",
    "import pandas as pd\n",
    "import tensorflow as tf\n",
    "import numpy as np\n",
    "from tqdm.notebook import tqdm"
   ]
  },
  {
   "cell_type": "code",
   "execution_count": 6,
   "metadata": {},
   "outputs": [
    {
     "output_type": "execute_result",
     "data": {
      "text/plain": [
       "17.247221909961098"
      ]
     },
     "metadata": {},
     "execution_count": 6
    }
   ],
   "source": [
    "# dfjs=pd.read_csv('~/../jakobsch/predictions/jakob_predictions_0106_2.csv').sort_values(by='event_no')\n",
    "# dfjs=pd.read_csv('~/../jakobsch/predictions/jakob_predictions_0806_new.csv').sort_values(by='event_no')\n",
    "\n",
    "np.percentile(abs(dfjs['zenith']-dfjs['zenith_pred'])*180/np.pi,50)"
   ]
  },
  {
   "cell_type": "code",
   "execution_count": 6,
   "metadata": {
    "ExecuteTime": {
     "end_time": "2021-06-03T17:24:40.563344Z",
     "start_time": "2021-06-03T17:24:29.698700Z"
    }
   },
   "outputs": [
    {
     "output_type": "stream",
     "name": "stdout",
     "text": [
      "Reading sets\n"
     ]
    },
    {
     "output_type": "execute_result",
     "data": {
      "text/plain": [
       "        row   event_no  string  dom  pmt     dom_x     dom_y     dom_z  pmt_x  \\\n",
       "0  91242041  138674340       1   13    0 -1.206695 -2.036696  1.006918    0.0   \n",
       "1  91242042  138674340      59   43    0  1.879185  1.226374  0.000503    0.0   \n",
       "2  91242043  138674340      63   30    0 -0.438924  1.306133  0.428594    0.0   \n",
       "3  91242044  138674340      66   29    0  1.061076  1.552111  0.493253    0.0   \n",
       "4  91242045  138674340      66   29    0  1.061076  1.552111  0.493253    0.0   \n",
       "\n",
       "   pmt_y  pmt_z  pmt_area  pmt_type      time  charge_log10  lc  pulse_width  \\\n",
       "0    0.0   -1.0    0.0444        20 -0.902557     -0.088028   0            8   \n",
       "1    0.0   -1.0    0.0444        20 -1.099296      0.378965   0            8   \n",
       "2    0.0   -1.0    0.0444        20  0.424602      0.791982   0            8   \n",
       "3    0.0   -1.0    0.0444        20 -0.125602      1.160970   0            8   \n",
       "4    0.0   -1.0    0.0444        20 -0.114116     -1.656923   0            8   \n",
       "\n",
       "   SplitInIcePulses  SRTInIcePulses  \n",
       "0                 1               0  \n",
       "1                 1               0  \n",
       "2                 1               0  \n",
       "3                 1               0  \n",
       "4                 1               0  "
      ],
      "text/html": "<div>\n<style scoped>\n    .dataframe tbody tr th:only-of-type {\n        vertical-align: middle;\n    }\n\n    .dataframe tbody tr th {\n        vertical-align: top;\n    }\n\n    .dataframe thead th {\n        text-align: right;\n    }\n</style>\n<table border=\"1\" class=\"dataframe\">\n  <thead>\n    <tr style=\"text-align: right;\">\n      <th></th>\n      <th>row</th>\n      <th>event_no</th>\n      <th>string</th>\n      <th>dom</th>\n      <th>pmt</th>\n      <th>dom_x</th>\n      <th>dom_y</th>\n      <th>dom_z</th>\n      <th>pmt_x</th>\n      <th>pmt_y</th>\n      <th>pmt_z</th>\n      <th>pmt_area</th>\n      <th>pmt_type</th>\n      <th>time</th>\n      <th>charge_log10</th>\n      <th>lc</th>\n      <th>pulse_width</th>\n      <th>SplitInIcePulses</th>\n      <th>SRTInIcePulses</th>\n    </tr>\n  </thead>\n  <tbody>\n    <tr>\n      <th>0</th>\n      <td>91242041</td>\n      <td>138674340</td>\n      <td>1</td>\n      <td>13</td>\n      <td>0</td>\n      <td>-1.206695</td>\n      <td>-2.036696</td>\n      <td>1.006918</td>\n      <td>0.0</td>\n      <td>0.0</td>\n      <td>-1.0</td>\n      <td>0.0444</td>\n      <td>20</td>\n      <td>-0.902557</td>\n      <td>-0.088028</td>\n      <td>0</td>\n      <td>8</td>\n      <td>1</td>\n      <td>0</td>\n    </tr>\n    <tr>\n      <th>1</th>\n      <td>91242042</td>\n      <td>138674340</td>\n      <td>59</td>\n      <td>43</td>\n      <td>0</td>\n      <td>1.879185</td>\n      <td>1.226374</td>\n      <td>0.000503</td>\n      <td>0.0</td>\n      <td>0.0</td>\n      <td>-1.0</td>\n      <td>0.0444</td>\n      <td>20</td>\n      <td>-1.099296</td>\n      <td>0.378965</td>\n      <td>0</td>\n      <td>8</td>\n      <td>1</td>\n      <td>0</td>\n    </tr>\n    <tr>\n      <th>2</th>\n      <td>91242043</td>\n      <td>138674340</td>\n      <td>63</td>\n      <td>30</td>\n      <td>0</td>\n      <td>-0.438924</td>\n      <td>1.306133</td>\n      <td>0.428594</td>\n      <td>0.0</td>\n      <td>0.0</td>\n      <td>-1.0</td>\n      <td>0.0444</td>\n      <td>20</td>\n      <td>0.424602</td>\n      <td>0.791982</td>\n      <td>0</td>\n      <td>8</td>\n      <td>1</td>\n      <td>0</td>\n    </tr>\n    <tr>\n      <th>3</th>\n      <td>91242044</td>\n      <td>138674340</td>\n      <td>66</td>\n      <td>29</td>\n      <td>0</td>\n      <td>1.061076</td>\n      <td>1.552111</td>\n      <td>0.493253</td>\n      <td>0.0</td>\n      <td>0.0</td>\n      <td>-1.0</td>\n      <td>0.0444</td>\n      <td>20</td>\n      <td>-0.125602</td>\n      <td>1.160970</td>\n      <td>0</td>\n      <td>8</td>\n      <td>1</td>\n      <td>0</td>\n    </tr>\n    <tr>\n      <th>4</th>\n      <td>91242045</td>\n      <td>138674340</td>\n      <td>66</td>\n      <td>29</td>\n      <td>0</td>\n      <td>1.061076</td>\n      <td>1.552111</td>\n      <td>0.493253</td>\n      <td>0.0</td>\n      <td>0.0</td>\n      <td>-1.0</td>\n      <td>0.0444</td>\n      <td>20</td>\n      <td>-0.114116</td>\n      <td>-1.656923</td>\n      <td>0</td>\n      <td>8</td>\n      <td>1</td>\n      <td>0</td>\n    </tr>\n  </tbody>\n</table>\n</div>"
     },
     "metadata": {},
     "execution_count": 6
    }
   ],
   "source": [
    "transform_path= \"../db_files/muongun/transformers.pkl\"\n",
    "db_path=\"../db_files/muongun/rasmus_classification_muon_3neutrino_3mio.db\"\n",
    "features=   [\"event_no\", \"dom_x\", \"dom_y\", \"dom_z\", \"time\", \"charge_log10\", \"SRTInIcePulses\", \"string\", \"dom\", \"lc\", \"pulse_width\"]\n",
    "set_path= \"../db_files/muongun/sets.pkl\"\n",
    "targets=    [\"event_no\", \"energy_log10\", \"zenith\",\"azimuth\"]\n",
    "conn = sqlite3.connect(db_path)\n",
    "def get_event_no():\n",
    "        print('Reading sets')\n",
    "        sets = pd.read_pickle(set_path)\n",
    "        train_events = sets['train']\n",
    "        test_events = sets['test']\n",
    "        return train_events.to_numpy(), test_events.to_numpy()\n",
    "_, test_events=get_event_no()\n",
    "df_feat=pd.read_sql(f\"select * from features where event_no in {tuple(test_events)} limit 100\", conn)\n",
    "df_feat.head()"
   ]
  },
  {
   "cell_type": "code",
   "execution_count": 7,
   "metadata": {
    "ExecuteTime": {
     "end_time": "2021-06-03T17:22:40.023556Z",
     "start_time": "2021-06-03T17:22:39.613542Z"
    }
   },
   "outputs": [],
   "source": [
    "feature_call = \", \".join(features)\n",
    "df_feat=pd.read_sql(f\"select {feature_call} from features where event_no in {tuple(test_events)}\", conn)\n",
    "cols=df_feat.columns"
   ]
  },
  {
   "cell_type": "code",
   "execution_count": 8,
   "metadata": {
    "ExecuteTime": {
     "start_time": "2021-06-03T17:14:47.243Z"
    }
   },
   "outputs": [
    {
     "output_type": "stream",
     "name": "stderr",
     "text": [
      "/groups/hep/chri862z/anaconda3/lib/python3.8/site-packages/sklearn/base.py:329: UserWarning: Trying to unpickle estimator RobustScaler from version 0.19.1 when using version 0.23.2. This might lead to breaking code or invalid results. Use at your own risk.\n  warnings.warn(\n"
     ]
    },
    {
     "output_type": "execute_result",
     "data": {
      "text/plain": [
       "dict_keys(['dom_x', 'dom_y', 'dom_z', 'time', 'charge_log10'])"
      ]
     },
     "metadata": {},
     "execution_count": 8
    }
   ],
   "source": [
    "import pickle\n",
    "transformers = pickle.load(open(transform_path, 'rb'))\n",
    "trans_y      = transformers['features']\n",
    "trans_keys=trans_y.keys()\n",
    "trans_keys"
   ]
  },
  {
   "cell_type": "code",
   "execution_count": 9,
   "metadata": {},
   "outputs": [],
   "source": [
    "for col in list(trans_keys)[:-1]:\n",
    "    df_feat[col] = trans_y[col].inverse_transform(np.array(df_feat[col]).reshape(1, -1)).T"
   ]
  },
  {
   "cell_type": "code",
   "execution_count": 10,
   "metadata": {},
   "outputs": [],
   "source": [
    "df_feat=df_feat.sort_values(by='event_no')"
   ]
  },
  {
   "cell_type": "code",
   "execution_count": 11,
   "metadata": {},
   "outputs": [],
   "source": [
    "event_nos, counts = np.unique(df_feat['event_no'], return_counts=1)"
   ]
  },
  {
   "cell_type": "code",
   "execution_count": null,
   "metadata": {},
   "outputs": [],
   "source": [
    "# df_clean=df_feat['rqe']"
   ]
  },
  {
   "cell_type": "code",
   "execution_count": 12,
   "metadata": {},
   "outputs": [],
   "source": [
    "x_not_split=np.array(df_feat.drop('event_no', axis=1))\n",
    "xs = np.split(x_not_split, np.cumsum(counts)[:-1])"
   ]
  },
  {
   "cell_type": "code",
   "execution_count": 13,
   "metadata": {},
   "outputs": [
    {
     "output_type": "display_data",
     "data": {
      "text/plain": "HBox(children=(HTML(value=''), FloatProgress(value=0.0, max=300000.0), HTML(value='')))",
      "application/vnd.jupyter.widget-view+json": {
       "version_major": 2,
       "version_minor": 0,
       "model_id": "0b2e543e2b7c43a4b192e70f0a6527a8"
      }
     },
     "metadata": {}
    },
    {
     "output_type": "stream",
     "name": "stdout",
     "text": [
      "\n"
     ]
    }
   ],
   "source": [
    "n_strings=np.zeros(len(xs))\n",
    "n_layers=np.zeros(len(xs))\n",
    "cq=np.zeros((len(xs), 3))\n",
    "for i in tqdm(range(len(xs))):\n",
    "    _ , nlayers = np.unique(xs[i][:,2], return_counts=True)\n",
    "    # xy=[tuple(i) for i in xs[i][:,:2]]\n",
    "    _ , nstring = np.unique(xs[i][:,:2], return_counts=True, axis=0)\n",
    "    cqe=xs[i][:,5]/np.sum(xs[i][:,5])\n",
    "    cq[i]=np.sum(np.array([cqe,cqe,cqe]).T*xs[i][:,:3], axis=0)\n",
    "    n_layers[i]=len(nlayers)\n",
    "    n_strings[i]=len(nstring)"
   ]
  },
  {
   "cell_type": "code",
   "execution_count": 14,
   "metadata": {
    "ExecuteTime": {
     "end_time": "2021-04-23T14:04:13.584500Z",
     "start_time": "2021-04-23T14:04:10.238Z"
    }
   },
   "outputs": [],
   "source": [
    "n_doms=counts"
   ]
  },
  {
   "cell_type": "code",
   "execution_count": 15,
   "metadata": {},
   "outputs": [],
   "source": [
    "df_stats=pd.DataFrame(event_nos, columns=['event_no'])"
   ]
  },
  {
   "cell_type": "code",
   "execution_count": 16,
   "metadata": {},
   "outputs": [],
   "source": [
    "df_stats['n_strings']=n_strings\n",
    "df_stats['n_doms']=n_doms\n",
    "for i, x in enumerate(['x', 'y', 'z']):\n",
    "    df_stats['cq_'+x]=cq[:,i]"
   ]
  },
  {
   "cell_type": "code",
   "execution_count": 17,
   "metadata": {},
   "outputs": [
    {
     "output_type": "execute_result",
     "data": {
      "text/plain": [
       "           event_no      n_strings         n_doms           cq_x  \\\n",
       "count  3.000000e+05  300000.000000  300000.000000  300000.000000   \n",
       "mean   1.396108e+08      30.981220      69.138490       6.712554   \n",
       "std    5.407247e+05       6.532807      52.943605     259.947137   \n",
       "min    1.386743e+08       8.000000      14.000000    -570.900024   \n",
       "25%    1.391421e+08      26.000000      47.000000    -195.954180   \n",
       "50%    1.396108e+08      30.000000      59.000000      16.543605   \n",
       "75%    1.400793e+08      35.000000      76.000000     197.117273   \n",
       "max    1.405476e+08      74.000000    3535.000000     576.369995   \n",
       "\n",
       "                cq_y           cq_z  \n",
       "count  300000.000000  300000.000000  \n",
       "mean       -5.219511     -60.572678  \n",
       "std       242.956764     250.754102  \n",
       "min      -521.080017    -501.919998  \n",
       "25%      -181.594573    -307.806312  \n",
       "50%       -16.706618     -26.204460  \n",
       "75%       176.456249     158.723654  \n",
       "max       509.500000     497.626921  "
      ],
      "text/html": "<div>\n<style scoped>\n    .dataframe tbody tr th:only-of-type {\n        vertical-align: middle;\n    }\n\n    .dataframe tbody tr th {\n        vertical-align: top;\n    }\n\n    .dataframe thead th {\n        text-align: right;\n    }\n</style>\n<table border=\"1\" class=\"dataframe\">\n  <thead>\n    <tr style=\"text-align: right;\">\n      <th></th>\n      <th>event_no</th>\n      <th>n_strings</th>\n      <th>n_doms</th>\n      <th>cq_x</th>\n      <th>cq_y</th>\n      <th>cq_z</th>\n    </tr>\n  </thead>\n  <tbody>\n    <tr>\n      <th>count</th>\n      <td>3.000000e+05</td>\n      <td>300000.000000</td>\n      <td>300000.000000</td>\n      <td>300000.000000</td>\n      <td>300000.000000</td>\n      <td>300000.000000</td>\n    </tr>\n    <tr>\n      <th>mean</th>\n      <td>1.396108e+08</td>\n      <td>30.981220</td>\n      <td>69.138490</td>\n      <td>6.712554</td>\n      <td>-5.219511</td>\n      <td>-60.572678</td>\n    </tr>\n    <tr>\n      <th>std</th>\n      <td>5.407247e+05</td>\n      <td>6.532807</td>\n      <td>52.943605</td>\n      <td>259.947137</td>\n      <td>242.956764</td>\n      <td>250.754102</td>\n    </tr>\n    <tr>\n      <th>min</th>\n      <td>1.386743e+08</td>\n      <td>8.000000</td>\n      <td>14.000000</td>\n      <td>-570.900024</td>\n      <td>-521.080017</td>\n      <td>-501.919998</td>\n    </tr>\n    <tr>\n      <th>25%</th>\n      <td>1.391421e+08</td>\n      <td>26.000000</td>\n      <td>47.000000</td>\n      <td>-195.954180</td>\n      <td>-181.594573</td>\n      <td>-307.806312</td>\n    </tr>\n    <tr>\n      <th>50%</th>\n      <td>1.396108e+08</td>\n      <td>30.000000</td>\n      <td>59.000000</td>\n      <td>16.543605</td>\n      <td>-16.706618</td>\n      <td>-26.204460</td>\n    </tr>\n    <tr>\n      <th>75%</th>\n      <td>1.400793e+08</td>\n      <td>35.000000</td>\n      <td>76.000000</td>\n      <td>197.117273</td>\n      <td>176.456249</td>\n      <td>158.723654</td>\n    </tr>\n    <tr>\n      <th>max</th>\n      <td>1.405476e+08</td>\n      <td>74.000000</td>\n      <td>3535.000000</td>\n      <td>576.369995</td>\n      <td>509.500000</td>\n      <td>497.626921</td>\n    </tr>\n  </tbody>\n</table>\n</div>"
     },
     "metadata": {},
     "execution_count": 17
    }
   ],
   "source": [
    "df_stats.describe() "
   ]
  },
  {
   "cell_type": "code",
   "execution_count": 18,
   "metadata": {},
   "outputs": [],
   "source": [
    "df_feat_srt=df_feat[df_feat['SRTInIcePulses']==1]"
   ]
  },
  {
   "cell_type": "code",
   "execution_count": 20,
   "metadata": {},
   "outputs": [
    {
     "output_type": "display_data",
     "data": {
      "text/plain": "HBox(children=(HTML(value=''), FloatProgress(value=0.0, max=300000.0), HTML(value='')))",
      "application/vnd.jupyter.widget-view+json": {
       "version_major": 2,
       "version_minor": 0,
       "model_id": "f2cbfef622ed48379a25f23c199af6b8"
      }
     },
     "metadata": {}
    },
    {
     "output_type": "stream",
     "name": "stdout",
     "text": [
      "\n"
     ]
    }
   ],
   "source": [
    "event_nos, counts = np.unique(df_feat_srt['event_no'], return_counts=1)\n",
    "x_not_split=np.array(df_feat_srt.drop('event_no', axis=1))\n",
    "xs = np.split(x_not_split, np.cumsum(counts)[:-1])\n",
    "n_strings=np.zeros(len(xs))\n",
    "n_layers=np.zeros(len(xs))\n",
    "cq=np.zeros((len(xs), 3))\n",
    "for i in tqdm(range(len(xs))):\n",
    "    _ , nlayers = np.unique(xs[i][:,2], return_counts=True)\n",
    "    # xy=[tuple(i) for i in xs[i][:,:2]]\n",
    "    _ , nstring = np.unique(xs[i][:,:2], return_counts=True, axis=0)\n",
    "    cqe=xs[i][:,5]/np.sum(xs[i][:,5])\n",
    "    cq[i]=np.sum(np.array([cqe,cqe,cqe]).T*xs[i][:,:3], axis=0)\n",
    "    n_layers[i]=len(nlayers)\n",
    "    n_strings[i]=len(nstring)\n",
    "n_doms=counts\n",
    "df_stats['n_strings_SRT']=n_strings\n",
    "df_stats['n_doms_SRT']=n_doms\n",
    "for i, x in enumerate(['x', 'y', 'z']):\n",
    "    df_stats['cq_'+x+'_SRT']=cq[:,i]"
   ]
  },
  {
   "cell_type": "code",
   "execution_count": 21,
   "metadata": {},
   "outputs": [
    {
     "output_type": "execute_result",
     "data": {
      "text/plain": [
       "         event_no  n_strings  n_doms        cq_x        cq_y        cq_z  \\\n",
       "0       138674340       27.0      45 -193.186920  458.876916 -436.897693   \n",
       "1       138674343       29.0      64  119.397646  256.359412  202.360588   \n",
       "2       138674348       39.0      60  371.198826  219.410585 -340.860587   \n",
       "3       138674358       28.0      82  288.488726  433.885323  145.040213   \n",
       "4       138674364       32.0      58  -47.756428 -409.500706   50.514286   \n",
       "...           ...        ...     ...         ...         ...         ...   \n",
       "299995  140547624       41.0     157   61.821713  -50.189819 -275.323783   \n",
       "299996  140547629       26.0      58 -144.056129 -121.436773  -93.644838   \n",
       "299997  140547636       33.0      77 -157.693588   64.871281  -61.076667   \n",
       "299998  140547642       36.0      53 -201.143078 -284.856159  -59.483844   \n",
       "299999  140547646       44.0     161  100.974230 -454.287042 -213.565000   \n",
       "\n",
       "        n_strings_SRT  n_doms_SRT    cq_x_SRT    cq_y_SRT    cq_z_SRT  \n",
       "0                 4.0          13 -193.186920  458.876916 -436.897693  \n",
       "1                 4.0          17  119.397646  256.359412  202.360588  \n",
       "2                 7.0          17  371.198826  219.410585 -340.860587  \n",
       "3                 6.0          47  288.488726  433.885323  145.040213  \n",
       "4                 5.0          14  -47.756428 -409.500706   50.514286  \n",
       "...               ...         ...         ...         ...         ...  \n",
       "299995           17.0         111   61.821713  -50.189819 -275.323783  \n",
       "299996            9.0          31 -144.056129 -121.436773  -93.644838  \n",
       "299997            9.0          39 -157.693588   64.871281  -61.076667  \n",
       "299998            7.0          13 -201.143078 -284.856159  -59.483844  \n",
       "299999            6.0          78  100.974230 -454.287042 -213.565000  \n",
       "\n",
       "[300000 rows x 11 columns]"
      ],
      "text/html": "<div>\n<style scoped>\n    .dataframe tbody tr th:only-of-type {\n        vertical-align: middle;\n    }\n\n    .dataframe tbody tr th {\n        vertical-align: top;\n    }\n\n    .dataframe thead th {\n        text-align: right;\n    }\n</style>\n<table border=\"1\" class=\"dataframe\">\n  <thead>\n    <tr style=\"text-align: right;\">\n      <th></th>\n      <th>event_no</th>\n      <th>n_strings</th>\n      <th>n_doms</th>\n      <th>cq_x</th>\n      <th>cq_y</th>\n      <th>cq_z</th>\n      <th>n_strings_SRT</th>\n      <th>n_doms_SRT</th>\n      <th>cq_x_SRT</th>\n      <th>cq_y_SRT</th>\n      <th>cq_z_SRT</th>\n    </tr>\n  </thead>\n  <tbody>\n    <tr>\n      <th>0</th>\n      <td>138674340</td>\n      <td>27.0</td>\n      <td>45</td>\n      <td>-193.186920</td>\n      <td>458.876916</td>\n      <td>-436.897693</td>\n      <td>4.0</td>\n      <td>13</td>\n      <td>-193.186920</td>\n      <td>458.876916</td>\n      <td>-436.897693</td>\n    </tr>\n    <tr>\n      <th>1</th>\n      <td>138674343</td>\n      <td>29.0</td>\n      <td>64</td>\n      <td>119.397646</td>\n      <td>256.359412</td>\n      <td>202.360588</td>\n      <td>4.0</td>\n      <td>17</td>\n      <td>119.397646</td>\n      <td>256.359412</td>\n      <td>202.360588</td>\n    </tr>\n    <tr>\n      <th>2</th>\n      <td>138674348</td>\n      <td>39.0</td>\n      <td>60</td>\n      <td>371.198826</td>\n      <td>219.410585</td>\n      <td>-340.860587</td>\n      <td>7.0</td>\n      <td>17</td>\n      <td>371.198826</td>\n      <td>219.410585</td>\n      <td>-340.860587</td>\n    </tr>\n    <tr>\n      <th>3</th>\n      <td>138674358</td>\n      <td>28.0</td>\n      <td>82</td>\n      <td>288.488726</td>\n      <td>433.885323</td>\n      <td>145.040213</td>\n      <td>6.0</td>\n      <td>47</td>\n      <td>288.488726</td>\n      <td>433.885323</td>\n      <td>145.040213</td>\n    </tr>\n    <tr>\n      <th>4</th>\n      <td>138674364</td>\n      <td>32.0</td>\n      <td>58</td>\n      <td>-47.756428</td>\n      <td>-409.500706</td>\n      <td>50.514286</td>\n      <td>5.0</td>\n      <td>14</td>\n      <td>-47.756428</td>\n      <td>-409.500706</td>\n      <td>50.514286</td>\n    </tr>\n    <tr>\n      <th>...</th>\n      <td>...</td>\n      <td>...</td>\n      <td>...</td>\n      <td>...</td>\n      <td>...</td>\n      <td>...</td>\n      <td>...</td>\n      <td>...</td>\n      <td>...</td>\n      <td>...</td>\n      <td>...</td>\n    </tr>\n    <tr>\n      <th>299995</th>\n      <td>140547624</td>\n      <td>41.0</td>\n      <td>157</td>\n      <td>61.821713</td>\n      <td>-50.189819</td>\n      <td>-275.323783</td>\n      <td>17.0</td>\n      <td>111</td>\n      <td>61.821713</td>\n      <td>-50.189819</td>\n      <td>-275.323783</td>\n    </tr>\n    <tr>\n      <th>299996</th>\n      <td>140547629</td>\n      <td>26.0</td>\n      <td>58</td>\n      <td>-144.056129</td>\n      <td>-121.436773</td>\n      <td>-93.644838</td>\n      <td>9.0</td>\n      <td>31</td>\n      <td>-144.056129</td>\n      <td>-121.436773</td>\n      <td>-93.644838</td>\n    </tr>\n    <tr>\n      <th>299997</th>\n      <td>140547636</td>\n      <td>33.0</td>\n      <td>77</td>\n      <td>-157.693588</td>\n      <td>64.871281</td>\n      <td>-61.076667</td>\n      <td>9.0</td>\n      <td>39</td>\n      <td>-157.693588</td>\n      <td>64.871281</td>\n      <td>-61.076667</td>\n    </tr>\n    <tr>\n      <th>299998</th>\n      <td>140547642</td>\n      <td>36.0</td>\n      <td>53</td>\n      <td>-201.143078</td>\n      <td>-284.856159</td>\n      <td>-59.483844</td>\n      <td>7.0</td>\n      <td>13</td>\n      <td>-201.143078</td>\n      <td>-284.856159</td>\n      <td>-59.483844</td>\n    </tr>\n    <tr>\n      <th>299999</th>\n      <td>140547646</td>\n      <td>44.0</td>\n      <td>161</td>\n      <td>100.974230</td>\n      <td>-454.287042</td>\n      <td>-213.565000</td>\n      <td>6.0</td>\n      <td>78</td>\n      <td>100.974230</td>\n      <td>-454.287042</td>\n      <td>-213.565000</td>\n    </tr>\n  </tbody>\n</table>\n<p>300000 rows × 11 columns</p>\n</div>"
     },
     "metadata": {},
     "execution_count": 21
    }
   ],
   "source": [
    "df_stats"
   ]
  },
  {
   "cell_type": "code",
   "execution_count": 22,
   "metadata": {},
   "outputs": [
    {
     "output_type": "execute_result",
     "data": {
      "text/plain": [
       "           event_no         dom_x         dom_y         dom_z          time  \\\n",
       "count  1.148379e+07  1.148379e+07  1.148379e+07  1.148379e+07  1.148379e+07   \n",
       "mean   1.396108e+08  9.771001e-01 -2.851579e+00 -2.156857e+01  1.191810e+04   \n",
       "std    5.407778e+05  2.798908e+02  2.656833e+02  3.011649e+02  3.543241e+03   \n",
       "min    1.386743e+08 -5.709000e+02 -5.210800e+02 -5.128200e+02  5.713000e+03   \n",
       "25%    1.391420e+08 -2.240900e+02 -1.945000e+02 -2.935700e+02  9.004000e+03   \n",
       "50%    1.396110e+08  1.187000e+01  3.490000e+00 -2.697000e+01  1.187000e+04   \n",
       "75%    1.400792e+08  2.104700e+02  2.029800e+02  2.407200e+02  1.464100e+04   \n",
       "max    1.405476e+08  5.763700e+02  5.095000e+02  5.245600e+02  3.348600e+04   \n",
       "\n",
       "       charge_log10  SRTInIcePulses        string           dom            lc  \\\n",
       "count  1.148379e+07      11483792.0  1.148379e+07  1.148379e+07  1.148379e+07   \n",
       "mean  -1.301159e-01             0.0  4.464796e+01  3.000617e+01  2.099655e-02   \n",
       "std    7.765054e-01             0.0  2.529617e+01  1.754814e+01  1.433726e-01   \n",
       "min   -5.720069e+00             0.0  1.000000e+00  1.000000e+00  0.000000e+00   \n",
       "25%   -4.991211e-01             0.0  2.300000e+01  1.500000e+01  0.000000e+00   \n",
       "50%    0.000000e+00             0.0  4.500000e+01  3.000000e+01  0.000000e+00   \n",
       "75%    3.789646e-01             0.0  6.700000e+01  4.500000e+01  0.000000e+00   \n",
       "max    5.919837e+00             0.0  8.600000e+01  6.000000e+01  1.000000e+00   \n",
       "\n",
       "        pulse_width  \n",
       "count  1.148379e+07  \n",
       "mean   7.915011e+00  \n",
       "std    7.665295e-01  \n",
       "min    1.000000e+00  \n",
       "25%    8.000000e+00  \n",
       "50%    8.000000e+00  \n",
       "75%    8.000000e+00  \n",
       "max    8.000000e+00  "
      ],
      "text/html": "<div>\n<style scoped>\n    .dataframe tbody tr th:only-of-type {\n        vertical-align: middle;\n    }\n\n    .dataframe tbody tr th {\n        vertical-align: top;\n    }\n\n    .dataframe thead th {\n        text-align: right;\n    }\n</style>\n<table border=\"1\" class=\"dataframe\">\n  <thead>\n    <tr style=\"text-align: right;\">\n      <th></th>\n      <th>event_no</th>\n      <th>dom_x</th>\n      <th>dom_y</th>\n      <th>dom_z</th>\n      <th>time</th>\n      <th>charge_log10</th>\n      <th>SRTInIcePulses</th>\n      <th>string</th>\n      <th>dom</th>\n      <th>lc</th>\n      <th>pulse_width</th>\n    </tr>\n  </thead>\n  <tbody>\n    <tr>\n      <th>count</th>\n      <td>1.148379e+07</td>\n      <td>1.148379e+07</td>\n      <td>1.148379e+07</td>\n      <td>1.148379e+07</td>\n      <td>1.148379e+07</td>\n      <td>1.148379e+07</td>\n      <td>11483792.0</td>\n      <td>1.148379e+07</td>\n      <td>1.148379e+07</td>\n      <td>1.148379e+07</td>\n      <td>1.148379e+07</td>\n    </tr>\n    <tr>\n      <th>mean</th>\n      <td>1.396108e+08</td>\n      <td>9.771001e-01</td>\n      <td>-2.851579e+00</td>\n      <td>-2.156857e+01</td>\n      <td>1.191810e+04</td>\n      <td>-1.301159e-01</td>\n      <td>0.0</td>\n      <td>4.464796e+01</td>\n      <td>3.000617e+01</td>\n      <td>2.099655e-02</td>\n      <td>7.915011e+00</td>\n    </tr>\n    <tr>\n      <th>std</th>\n      <td>5.407778e+05</td>\n      <td>2.798908e+02</td>\n      <td>2.656833e+02</td>\n      <td>3.011649e+02</td>\n      <td>3.543241e+03</td>\n      <td>7.765054e-01</td>\n      <td>0.0</td>\n      <td>2.529617e+01</td>\n      <td>1.754814e+01</td>\n      <td>1.433726e-01</td>\n      <td>7.665295e-01</td>\n    </tr>\n    <tr>\n      <th>min</th>\n      <td>1.386743e+08</td>\n      <td>-5.709000e+02</td>\n      <td>-5.210800e+02</td>\n      <td>-5.128200e+02</td>\n      <td>5.713000e+03</td>\n      <td>-5.720069e+00</td>\n      <td>0.0</td>\n      <td>1.000000e+00</td>\n      <td>1.000000e+00</td>\n      <td>0.000000e+00</td>\n      <td>1.000000e+00</td>\n    </tr>\n    <tr>\n      <th>25%</th>\n      <td>1.391420e+08</td>\n      <td>-2.240900e+02</td>\n      <td>-1.945000e+02</td>\n      <td>-2.935700e+02</td>\n      <td>9.004000e+03</td>\n      <td>-4.991211e-01</td>\n      <td>0.0</td>\n      <td>2.300000e+01</td>\n      <td>1.500000e+01</td>\n      <td>0.000000e+00</td>\n      <td>8.000000e+00</td>\n    </tr>\n    <tr>\n      <th>50%</th>\n      <td>1.396110e+08</td>\n      <td>1.187000e+01</td>\n      <td>3.490000e+00</td>\n      <td>-2.697000e+01</td>\n      <td>1.187000e+04</td>\n      <td>0.000000e+00</td>\n      <td>0.0</td>\n      <td>4.500000e+01</td>\n      <td>3.000000e+01</td>\n      <td>0.000000e+00</td>\n      <td>8.000000e+00</td>\n    </tr>\n    <tr>\n      <th>75%</th>\n      <td>1.400792e+08</td>\n      <td>2.104700e+02</td>\n      <td>2.029800e+02</td>\n      <td>2.407200e+02</td>\n      <td>1.464100e+04</td>\n      <td>3.789646e-01</td>\n      <td>0.0</td>\n      <td>6.700000e+01</td>\n      <td>4.500000e+01</td>\n      <td>0.000000e+00</td>\n      <td>8.000000e+00</td>\n    </tr>\n    <tr>\n      <th>max</th>\n      <td>1.405476e+08</td>\n      <td>5.763700e+02</td>\n      <td>5.095000e+02</td>\n      <td>5.245600e+02</td>\n      <td>3.348600e+04</td>\n      <td>5.919837e+00</td>\n      <td>0.0</td>\n      <td>8.600000e+01</td>\n      <td>6.000000e+01</td>\n      <td>1.000000e+00</td>\n      <td>8.000000e+00</td>\n    </tr>\n  </tbody>\n</table>\n</div>"
     },
     "metadata": {},
     "execution_count": 22
    }
   ],
   "source": [
    "df_feat_nsrt=df_feat[df_feat['SRTInIcePulses']==0]\n",
    "df_feat_nsrt.describe()"
   ]
  },
  {
   "cell_type": "code",
   "execution_count": 23,
   "metadata": {},
   "outputs": [
    {
     "output_type": "execute_result",
     "data": {
      "text/plain": [
       "           event_no         dom_x         dom_y         dom_z          time  \\\n",
       "count  9.257755e+06  9.257755e+06  9.257755e+06  9.257755e+06  9.257755e+06   \n",
       "mean   1.396111e+08  1.666149e+01 -1.326632e+01 -1.179158e+02  1.122363e+04   \n",
       "std    5.412690e+05  2.381423e+02  2.243531e+02  2.720490e+02  1.276934e+03   \n",
       "min    1.386743e+08 -5.709000e+02 -5.210800e+02 -5.128200e+02  5.720000e+03   \n",
       "25%    1.391409e+08 -1.328000e+02 -1.312500e+02 -3.532400e+02  1.024200e+04   \n",
       "50%    1.396110e+08  4.160000e+01 -3.488000e+01 -1.970200e+02  1.096000e+04   \n",
       "75%    1.400794e+08  1.320300e+02  1.272000e+02  1.362200e+02  1.190000e+04   \n",
       "max    1.405476e+08  5.763700e+02  5.095000e+02  5.245600e+02  3.054100e+04   \n",
       "\n",
       "       charge_log10  SRTInIcePulses        string           dom            lc  \\\n",
       "count  9.257755e+06       9257755.0  9.257755e+06  9.257755e+06  9.257755e+06   \n",
       "mean  -1.856653e-01             1.0  4.975738e+01  3.380178e+01  7.501382e-01   \n",
       "std    9.376247e-01             0.0  2.603076e+01  1.660687e+01  4.329329e-01   \n",
       "min   -5.720069e+00             1.0  1.000000e+00  1.000000e+00  0.000000e+00   \n",
       "25%   -6.210354e-01             1.0  2.700000e+01  2.000000e+01  1.000000e+00   \n",
       "50%    0.000000e+00             1.0  4.900000e+01  3.400000e+01  1.000000e+00   \n",
       "75%    3.789646e-01             1.0  7.800000e+01  4.900000e+01  1.000000e+00   \n",
       "max    9.752296e+00             1.0  8.600000e+01  6.000000e+01  1.000000e+00   \n",
       "\n",
       "        pulse_width  \n",
       "count  9.257755e+06  \n",
       "mean   3.129374e+00  \n",
       "std    3.220280e+00  \n",
       "min    1.000000e+00  \n",
       "25%    1.000000e+00  \n",
       "50%    1.000000e+00  \n",
       "75%    8.000000e+00  \n",
       "max    8.000000e+00  "
      ],
      "text/html": "<div>\n<style scoped>\n    .dataframe tbody tr th:only-of-type {\n        vertical-align: middle;\n    }\n\n    .dataframe tbody tr th {\n        vertical-align: top;\n    }\n\n    .dataframe thead th {\n        text-align: right;\n    }\n</style>\n<table border=\"1\" class=\"dataframe\">\n  <thead>\n    <tr style=\"text-align: right;\">\n      <th></th>\n      <th>event_no</th>\n      <th>dom_x</th>\n      <th>dom_y</th>\n      <th>dom_z</th>\n      <th>time</th>\n      <th>charge_log10</th>\n      <th>SRTInIcePulses</th>\n      <th>string</th>\n      <th>dom</th>\n      <th>lc</th>\n      <th>pulse_width</th>\n    </tr>\n  </thead>\n  <tbody>\n    <tr>\n      <th>count</th>\n      <td>9.257755e+06</td>\n      <td>9.257755e+06</td>\n      <td>9.257755e+06</td>\n      <td>9.257755e+06</td>\n      <td>9.257755e+06</td>\n      <td>9.257755e+06</td>\n      <td>9257755.0</td>\n      <td>9.257755e+06</td>\n      <td>9.257755e+06</td>\n      <td>9.257755e+06</td>\n      <td>9.257755e+06</td>\n    </tr>\n    <tr>\n      <th>mean</th>\n      <td>1.396111e+08</td>\n      <td>1.666149e+01</td>\n      <td>-1.326632e+01</td>\n      <td>-1.179158e+02</td>\n      <td>1.122363e+04</td>\n      <td>-1.856653e-01</td>\n      <td>1.0</td>\n      <td>4.975738e+01</td>\n      <td>3.380178e+01</td>\n      <td>7.501382e-01</td>\n      <td>3.129374e+00</td>\n    </tr>\n    <tr>\n      <th>std</th>\n      <td>5.412690e+05</td>\n      <td>2.381423e+02</td>\n      <td>2.243531e+02</td>\n      <td>2.720490e+02</td>\n      <td>1.276934e+03</td>\n      <td>9.376247e-01</td>\n      <td>0.0</td>\n      <td>2.603076e+01</td>\n      <td>1.660687e+01</td>\n      <td>4.329329e-01</td>\n      <td>3.220280e+00</td>\n    </tr>\n    <tr>\n      <th>min</th>\n      <td>1.386743e+08</td>\n      <td>-5.709000e+02</td>\n      <td>-5.210800e+02</td>\n      <td>-5.128200e+02</td>\n      <td>5.720000e+03</td>\n      <td>-5.720069e+00</td>\n      <td>1.0</td>\n      <td>1.000000e+00</td>\n      <td>1.000000e+00</td>\n      <td>0.000000e+00</td>\n      <td>1.000000e+00</td>\n    </tr>\n    <tr>\n      <th>25%</th>\n      <td>1.391409e+08</td>\n      <td>-1.328000e+02</td>\n      <td>-1.312500e+02</td>\n      <td>-3.532400e+02</td>\n      <td>1.024200e+04</td>\n      <td>-6.210354e-01</td>\n      <td>1.0</td>\n      <td>2.700000e+01</td>\n      <td>2.000000e+01</td>\n      <td>1.000000e+00</td>\n      <td>1.000000e+00</td>\n    </tr>\n    <tr>\n      <th>50%</th>\n      <td>1.396110e+08</td>\n      <td>4.160000e+01</td>\n      <td>-3.488000e+01</td>\n      <td>-1.970200e+02</td>\n      <td>1.096000e+04</td>\n      <td>0.000000e+00</td>\n      <td>1.0</td>\n      <td>4.900000e+01</td>\n      <td>3.400000e+01</td>\n      <td>1.000000e+00</td>\n      <td>1.000000e+00</td>\n    </tr>\n    <tr>\n      <th>75%</th>\n      <td>1.400794e+08</td>\n      <td>1.320300e+02</td>\n      <td>1.272000e+02</td>\n      <td>1.362200e+02</td>\n      <td>1.190000e+04</td>\n      <td>3.789646e-01</td>\n      <td>1.0</td>\n      <td>7.800000e+01</td>\n      <td>4.900000e+01</td>\n      <td>1.000000e+00</td>\n      <td>8.000000e+00</td>\n    </tr>\n    <tr>\n      <th>max</th>\n      <td>1.405476e+08</td>\n      <td>5.763700e+02</td>\n      <td>5.095000e+02</td>\n      <td>5.245600e+02</td>\n      <td>3.054100e+04</td>\n      <td>9.752296e+00</td>\n      <td>1.0</td>\n      <td>8.600000e+01</td>\n      <td>6.000000e+01</td>\n      <td>1.000000e+00</td>\n      <td>8.000000e+00</td>\n    </tr>\n  </tbody>\n</table>\n</div>"
     },
     "metadata": {},
     "execution_count": 23
    }
   ],
   "source": [
    "df_feat_srt.describe()"
   ]
  },
  {
   "cell_type": "code",
   "execution_count": 24,
   "metadata": {},
   "outputs": [],
   "source": [
    "df_stats.to_csv('../db_files/muongun_stats.csv')"
   ]
  },
  {
   "cell_type": "code",
   "execution_count": 58,
   "metadata": {},
   "outputs": [
    {
     "output_type": "execute_result",
     "data": {
      "text/plain": [
       "(array([-131.25      , -105.51999664,  -79.5       ,  -66.59999847,\n",
       "         -60.47000122,  -10.97000027,   -9.68000031,    6.71999979,\n",
       "          27.09000015,   57.20000076,   72.37000275,  106.94000244,\n",
       "         113.19000244,  124.97000122]),\n",
       " [(-10.970000267028809, 6.71999979019165),\n",
       "  (-10.970000267028809, 6.71999979019165),\n",
       "  (-9.680000305175781, -79.5),\n",
       "  (57.20000076293945, -105.5199966430664),\n",
       "  (113.19000244140625, -60.470001220703125),\n",
       "  (113.19000244140625, -60.470001220703125),\n",
       "  (113.19000244140625, -60.470001220703125),\n",
       "  (113.19000244140625, -60.470001220703125),\n",
       "  (113.19000244140625, -60.470001220703125),\n",
       "  (106.94000244140625, 27.09000015258789),\n",
       "  (72.37000274658203, -66.5999984741211),\n",
       "  (72.37000274658203, -66.5999984741211),\n",
       "  (72.37000274658203, -66.5999984741211),\n",
       "  (124.97000122070312, -131.25),\n",
       "  (124.97000122070312, -131.25),\n",
       "  (113.19000244140625, -60.470001220703125)])"
      ]
     },
     "metadata": {},
     "execution_count": 58
    }
   ],
   "source": [
    "xy=[tuple(i) for i in xs[k][:,:2]]\n",
    "vals  = np.unique(xy)\n",
    "vals, xy"
   ]
  },
  {
   "cell_type": "code",
   "execution_count": 33,
   "metadata": {},
   "outputs": [
    {
     "ename": "NameError",
     "evalue": "name 'event_nocall' is not defined",
     "output_type": "error",
     "traceback": [
      "\u001b[0;31m---------------------------------------------------------------------------\u001b[0m",
      "\u001b[0;31mNameError\u001b[0m                                 Traceback (most recent call last)",
      "\u001b[0;32m<ipython-input-33-2ef0da7cd8eb>\u001b[0m in \u001b[0;36m<module>\u001b[0;34m\u001b[0m\n\u001b[0;32m----> 1\u001b[0;31m \u001b[0mevent_nocall\u001b[0m\u001b[0;34m\u001b[0m\u001b[0;34m\u001b[0m\u001b[0m\n\u001b[0m",
      "\u001b[0;31mNameError\u001b[0m: name 'event_nocall' is not defined"
     ]
    }
   ],
   "source": [
    "event_nocall"
   ]
  },
  {
   "cell_type": "code",
   "execution_count": null,
   "metadata": {
    "ExecuteTime": {
     "end_time": "2021-04-23T14:04:13.586495Z",
     "start_time": "2021-04-23T14:04:10.244Z"
    }
   },
   "outputs": [],
   "source": [
    "stop_id.fetchall()"
   ]
  },
  {
   "cell_type": "code",
   "execution_count": null,
   "metadata": {
    "ExecuteTime": {
     "end_time": "2021-04-23T14:04:13.587492Z",
     "start_time": "2021-04-23T14:04:10.246Z"
    }
   },
   "outputs": [],
   "source": [
    "start, stop = 0, 100000\n",
    "# start_id  = conn.execute(f\"select distinct event_no from features where pid = 13 limit \")\n",
    "event_nos = pd.read_sql(f\"select distinct event_no from features limit {stop} offset {start}\", conn)"
   ]
  },
  {
   "cell_type": "code",
   "execution_count": null,
   "metadata": {
    "ExecuteTime": {
     "end_time": "2021-04-23T14:04:13.588491Z",
     "start_time": "2021-04-23T14:04:10.247Z"
    }
   },
   "outputs": [],
   "source": [
    "event_nos"
   ]
  },
  {
   "cell_type": "code",
   "execution_count": null,
   "metadata": {
    "ExecuteTime": {
     "end_time": "2021-04-23T14:04:13.589487Z",
     "start_time": "2021-04-23T14:04:10.250Z"
    }
   },
   "outputs": [],
   "source": [
    "start, stop = 0, 100000\n",
    "select_rows = [\"dom_x\", \"dom_y\", \"dom_z\", \"time\", \"charge_log10\"]\n",
    "\n",
    "start_id = conn.execute(f\"select distinct event_no from features limit 1 offset {start}\").fetchall()[0][0]\n",
    "stop_id  = conn.execute(f\"select distinct event_no from features limit 1 offset {stop}\").fetchall()[0][0]"
   ]
  },
  {
   "cell_type": "code",
   "execution_count": null,
   "metadata": {
    "ExecuteTime": {
     "end_time": "2021-04-23T14:04:13.590484Z",
     "start_time": "2021-04-23T14:04:10.252Z"
    }
   },
   "outputs": [],
   "source": [
    "features = [\"dom_x\", \"dom_y\", \"dom_z\", \"time\", \"charge_log10\"]\n",
    "targets  = [\"energy_log10\", \"position_x\", \"position_y\", \"position_z\", \"direction_x\", \"direction_y\", \"direction_z\"]\n",
    "feature_call = \", \".join(features)\n",
    "target_call  = \", \".join(targets)\n",
    "df_event = pd.read_sql(f\"select event_no       from features where event_no >= {start_id} and event_no < {stop_id}\", conn)\n",
    "df_feat  = pd.read_sql(f\"select {feature_call} from features where event_no >= {start_id} and event_no < {stop_id}\", conn)\n",
    "df_targ  = pd.read_sql(f\"select {target_call } from truth    where event_no >= {start_id} and event_no < {stop_id}\", conn)"
   ]
  },
  {
   "cell_type": "code",
   "execution_count": null,
   "metadata": {
    "ExecuteTime": {
     "end_time": "2021-04-23T14:04:13.591481Z",
     "start_time": "2021-04-23T14:04:10.254Z"
    }
   },
   "outputs": [],
   "source": [
    "idx_list    = np.array(df_event)\n",
    "x_not_split = np.array(df_feat)"
   ]
  },
  {
   "cell_type": "code",
   "execution_count": null,
   "metadata": {
    "ExecuteTime": {
     "end_time": "2021-04-23T14:04:13.592479Z",
     "start_time": "2021-04-23T14:04:10.257Z"
    },
    "scrolled": true
   },
   "outputs": [],
   "source": [
    "np.shape(idx_list)"
   ]
  },
  {
   "cell_type": "code",
   "execution_count": null,
   "metadata": {
    "ExecuteTime": {
     "end_time": "2021-04-23T14:04:13.593476Z",
     "start_time": "2021-04-23T14:04:10.259Z"
    }
   },
   "outputs": [],
   "source": [
    "ids, idx, counts = np.unique(idx_list.flatten(), return_index = True, return_counts = True) "
   ]
  },
  {
   "cell_type": "code",
   "execution_count": null,
   "metadata": {
    "ExecuteTime": {
     "end_time": "2021-04-23T14:04:13.594474Z",
     "start_time": "2021-04-23T14:04:10.261Z"
    }
   },
   "outputs": [],
   "source": [
    "np.sum(counts)"
   ]
  },
  {
   "cell_type": "code",
   "execution_count": null,
   "metadata": {
    "ExecuteTime": {
     "end_time": "2021-04-23T14:04:13.595472Z",
     "start_time": "2021-04-23T14:04:10.263Z"
    }
   },
   "outputs": [],
   "source": [
    "x_not_split.shape"
   ]
  },
  {
   "cell_type": "code",
   "execution_count": null,
   "metadata": {
    "ExecuteTime": {
     "end_time": "2021-04-23T14:04:13.596504Z",
     "start_time": "2021-04-23T14:04:10.266Z"
    }
   },
   "outputs": [],
   "source": [
    "xs = np.split(x_not_split, np.cumsum(counts))"
   ]
  },
  {
   "cell_type": "code",
   "execution_count": null,
   "metadata": {
    "ExecuteTime": {
     "end_time": "2021-04-23T14:04:13.597466Z",
     "start_time": "2021-04-23T14:04:10.267Z"
    }
   },
   "outputs": [],
   "source": [
    "ys = np.array(df_targ)"
   ]
  },
  {
   "cell_type": "code",
   "execution_count": null,
   "metadata": {
    "ExecuteTime": {
     "end_time": "2021-04-23T14:04:13.599462Z",
     "start_time": "2021-04-23T14:04:10.268Z"
    }
   },
   "outputs": [],
   "source": [
    "np.shape(xs)"
   ]
  },
  {
   "cell_type": "code",
   "execution_count": null,
   "metadata": {
    "ExecuteTime": {
     "end_time": "2021-04-23T14:04:13.600457Z",
     "start_time": "2021-04-23T14:04:10.270Z"
    }
   },
   "outputs": [],
   "source": [
    "for x, y in zip(xs, ys):\n",
    "    print(x, y)\n",
    "    break"
   ]
  },
  {
   "cell_type": "code",
   "execution_count": null,
   "metadata": {
    "ExecuteTime": {
     "end_time": "2021-04-23T14:04:13.601455Z",
     "start_time": "2021-04-23T14:04:10.272Z"
    },
    "scrolled": true
   },
   "outputs": [],
   "source": [
    "from sklearn.neighbors import kneighbors_graph as knn\n",
    "from spektral.data import Graph\n",
    "neighbors=6"
   ]
  },
  {
   "cell_type": "code",
   "execution_count": null,
   "metadata": {
    "ExecuteTime": {
     "end_time": "2021-04-23T14:04:13.602452Z",
     "start_time": "2021-04-23T14:04:10.273Z"
    }
   },
   "outputs": [],
   "source": [
    "print(\"Generating adjacency matrices\")\n",
    "graph_list = []\n",
    "for x, y in tqdm(zip(xs, ys), total = len(xs)):\n",
    "    a = knn(x[:, :3], neighbors)\n",
    "\n",
    "\n",
    "\n",
    "    graph_list.append(Graph(x = x, a = a, y = y))\n",
    "\n",
    "graph_list = np.array(graph_list, dtype = object)"
   ]
  },
  {
   "cell_type": "code",
   "execution_count": null,
   "metadata": {
    "ExecuteTime": {
     "end_time": "2021-04-23T14:04:13.603450Z",
     "start_time": "2021-04-23T14:04:10.275Z"
    }
   },
   "outputs": [],
   "source": [
    "s = [x.shape[0] for x in xs]"
   ]
  },
  {
   "cell_type": "code",
   "execution_count": null,
   "metadata": {
    "ExecuteTime": {
     "end_time": "2021-04-23T14:04:13.604447Z",
     "start_time": "2021-04-23T14:04:10.276Z"
    }
   },
   "outputs": [],
   "source": [
    "xs = np.array(xs, dtype = object)[np.argsort(s)]"
   ]
  },
  {
   "cell_type": "code",
   "execution_count": null,
   "metadata": {
    "ExecuteTime": {
     "end_time": "2021-04-23T14:04:13.605444Z",
     "start_time": "2021-04-23T14:04:10.277Z"
    }
   },
   "outputs": [],
   "source": [
    "size, idx = np.unique(np.sort(s), return_index = True)"
   ]
  },
  {
   "cell_type": "code",
   "execution_count": null,
   "metadata": {
    "ExecuteTime": {
     "end_time": "2021-04-23T14:04:13.606444Z",
     "start_time": "2021-04-23T14:04:10.278Z"
    }
   },
   "outputs": [],
   "source": [
    "preprocess(list(xs[4: 9]))"
   ]
  },
  {
   "cell_type": "code",
   "execution_count": null,
   "metadata": {
    "ExecuteTime": {
     "end_time": "2021-04-23T14:04:13.607439Z",
     "start_time": "2021-04-23T14:04:10.280Z"
    }
   },
   "outputs": [],
   "source": [
    "np.sort(s)"
   ]
  },
  {
   "cell_type": "code",
   "execution_count": null,
   "metadata": {
    "ExecuteTime": {
     "end_time": "2021-04-23T14:04:13.608438Z",
     "start_time": "2021-04-23T14:04:10.282Z"
    }
   },
   "outputs": [],
   "source": [
    "idx"
   ]
  },
  {
   "cell_type": "code",
   "execution_count": null,
   "metadata": {
    "ExecuteTime": {
     "end_time": "2021-04-23T14:04:13.609433Z",
     "start_time": "2021-04-23T14:04:10.283Z"
    }
   },
   "outputs": [],
   "source": [
    "import pickle\n",
    "transformers = pickle.load(open('../db_files/muongun/transformers.pkl', 'rb'))\n",
    "trans_x      = transformers['features']\n",
    "trans_y      = transformers['truth']"
   ]
  },
  {
   "cell_type": "code",
   "execution_count": 15,
   "metadata": {
    "ExecuteTime": {
     "end_time": "2021-04-23T14:29:14.598852Z",
     "start_time": "2021-04-23T14:29:14.586886Z"
    }
   },
   "outputs": [],
   "source": [
    "diff={'hyper_params':{'hidden_states': [128,64,32],\n",
    "     'dropout': [0,0.05],\n",
    "     'conv_layers': [1,2,3],\n",
    "     'decode_layers': [2,4]},\n",
    "     'run_params':{'batch_size':[512,1024,2048]}}"
   ]
  },
  {
   "cell_type": "code",
   "execution_count": 23,
   "metadata": {
    "ExecuteTime": {
     "end_time": "2021-04-23T14:35:19.650581Z",
     "start_time": "2021-04-23T14:35:19.638646Z"
    }
   },
   "outputs": [],
   "source": [
    "diff={'hidden_states': [128,64,32],\n",
    "     'dropout': [0,0.05],\n",
    "     'conv_layers': [1,2,3],\n",
    "     'decode_layers': [2,4],\n",
    "     'batch_size':[512,1024,2048]}"
   ]
  },
  {
   "cell_type": "code",
   "execution_count": 42,
   "metadata": {
    "ExecuteTime": {
     "end_time": "2021-04-23T15:12:30.307532Z",
     "start_time": "2021-04-23T15:12:30.299553Z"
    }
   },
   "outputs": [],
   "source": [
    "def perms(diffs):\n",
    "    from itertools import product\n",
    "    keys=list(diffs.keys())\n",
    "    val=list(diffs.values())\n",
    "    for i, s in enumerate(val):\n",
    "        if i==0:\n",
    "            a=val[0]\n",
    "        else:\n",
    "            a=product(a, val[i])\n",
    "    bs=[]\n",
    "    for b in a:\n",
    "        bs.append(b)\n",
    "    output=[]\n",
    "    def removeNestings(l):\n",
    "        for i in l:\n",
    "            if type(i) == tuple:\n",
    "                removeNestings(i)\n",
    "            else:\n",
    "                output.append(i)\n",
    "    removeNestings(bs)\n",
    "    perms=np.array(output)\n",
    "#     perms=[int(num) if float(num).is_integer() else num for num in perms]\n",
    "    return perms.reshape(-1, len(keys))"
   ]
  },
  {
   "cell_type": "code",
   "execution_count": 47,
   "metadata": {
    "ExecuteTime": {
     "end_time": "2021-04-23T15:13:46.923586Z",
     "start_time": "2021-04-23T15:13:46.909623Z"
    }
   },
   "outputs": [
    {
     "name": "stdout",
     "output_type": "stream",
     "text": [
      "<class 'int'>\n",
      "<class 'float'>\n",
      "<class 'int'>\n",
      "<class 'int'>\n"
     ]
    }
   ],
   "source": [
    "keys=list(diff.keys())\n",
    "for j, key in enumerate(keys):\n",
    "    if key in base['run_params']:\n",
    "        base['run_params'][key]=p[0][j]\n",
    "    elif key in base['hyper_params']:\n",
    "        typ=type(base['hyper_params'][key])\n",
    "        base['hyper_params'][key]=typ(p[0][j])\n",
    "    elif key in base['data_params']:\n",
    "        base['data_params'][key]=p[0][j]"
   ]
  },
  {
   "cell_type": "code",
   "execution_count": 44,
   "metadata": {
    "ExecuteTime": {
     "end_time": "2021-04-23T15:12:30.930201Z",
     "start_time": "2021-04-23T15:12:30.920228Z"
    }
   },
   "outputs": [],
   "source": [
    "p=perms(diff)"
   ]
  },
  {
   "cell_type": "code",
   "execution_count": 38,
   "metadata": {
    "ExecuteTime": {
     "end_time": "2021-04-23T15:06:12.358843Z",
     "start_time": "2021-04-23T15:06:12.338895Z"
    }
   },
   "outputs": [
    {
     "data": {
      "text/plain": [
       "array([[1.280e+02, 0.000e+00, 1.000e+00, 2.000e+00, 5.120e+02],\n",
       "       [1.280e+02, 0.000e+00, 1.000e+00, 2.000e+00, 1.024e+03],\n",
       "       [1.280e+02, 0.000e+00, 1.000e+00, 2.000e+00, 2.048e+03],\n",
       "       [1.280e+02, 0.000e+00, 1.000e+00, 4.000e+00, 5.120e+02],\n",
       "       [1.280e+02, 0.000e+00, 1.000e+00, 4.000e+00, 1.024e+03],\n",
       "       [1.280e+02, 0.000e+00, 1.000e+00, 4.000e+00, 2.048e+03],\n",
       "       [1.280e+02, 0.000e+00, 2.000e+00, 2.000e+00, 5.120e+02],\n",
       "       [1.280e+02, 0.000e+00, 2.000e+00, 2.000e+00, 1.024e+03],\n",
       "       [1.280e+02, 0.000e+00, 2.000e+00, 2.000e+00, 2.048e+03],\n",
       "       [1.280e+02, 0.000e+00, 2.000e+00, 4.000e+00, 5.120e+02],\n",
       "       [1.280e+02, 0.000e+00, 2.000e+00, 4.000e+00, 1.024e+03],\n",
       "       [1.280e+02, 0.000e+00, 2.000e+00, 4.000e+00, 2.048e+03],\n",
       "       [1.280e+02, 0.000e+00, 3.000e+00, 2.000e+00, 5.120e+02],\n",
       "       [1.280e+02, 0.000e+00, 3.000e+00, 2.000e+00, 1.024e+03],\n",
       "       [1.280e+02, 0.000e+00, 3.000e+00, 2.000e+00, 2.048e+03],\n",
       "       [1.280e+02, 0.000e+00, 3.000e+00, 4.000e+00, 5.120e+02],\n",
       "       [1.280e+02, 0.000e+00, 3.000e+00, 4.000e+00, 1.024e+03],\n",
       "       [1.280e+02, 0.000e+00, 3.000e+00, 4.000e+00, 2.048e+03],\n",
       "       [1.280e+02, 5.000e-02, 1.000e+00, 2.000e+00, 5.120e+02],\n",
       "       [1.280e+02, 5.000e-02, 1.000e+00, 2.000e+00, 1.024e+03],\n",
       "       [1.280e+02, 5.000e-02, 1.000e+00, 2.000e+00, 2.048e+03],\n",
       "       [1.280e+02, 5.000e-02, 1.000e+00, 4.000e+00, 5.120e+02],\n",
       "       [1.280e+02, 5.000e-02, 1.000e+00, 4.000e+00, 1.024e+03],\n",
       "       [1.280e+02, 5.000e-02, 1.000e+00, 4.000e+00, 2.048e+03],\n",
       "       [1.280e+02, 5.000e-02, 2.000e+00, 2.000e+00, 5.120e+02],\n",
       "       [1.280e+02, 5.000e-02, 2.000e+00, 2.000e+00, 1.024e+03],\n",
       "       [1.280e+02, 5.000e-02, 2.000e+00, 2.000e+00, 2.048e+03],\n",
       "       [1.280e+02, 5.000e-02, 2.000e+00, 4.000e+00, 5.120e+02],\n",
       "       [1.280e+02, 5.000e-02, 2.000e+00, 4.000e+00, 1.024e+03],\n",
       "       [1.280e+02, 5.000e-02, 2.000e+00, 4.000e+00, 2.048e+03],\n",
       "       [1.280e+02, 5.000e-02, 3.000e+00, 2.000e+00, 5.120e+02],\n",
       "       [1.280e+02, 5.000e-02, 3.000e+00, 2.000e+00, 1.024e+03],\n",
       "       [1.280e+02, 5.000e-02, 3.000e+00, 2.000e+00, 2.048e+03],\n",
       "       [1.280e+02, 5.000e-02, 3.000e+00, 4.000e+00, 5.120e+02],\n",
       "       [1.280e+02, 5.000e-02, 3.000e+00, 4.000e+00, 1.024e+03],\n",
       "       [1.280e+02, 5.000e-02, 3.000e+00, 4.000e+00, 2.048e+03],\n",
       "       [6.400e+01, 0.000e+00, 1.000e+00, 2.000e+00, 5.120e+02],\n",
       "       [6.400e+01, 0.000e+00, 1.000e+00, 2.000e+00, 1.024e+03],\n",
       "       [6.400e+01, 0.000e+00, 1.000e+00, 2.000e+00, 2.048e+03],\n",
       "       [6.400e+01, 0.000e+00, 1.000e+00, 4.000e+00, 5.120e+02],\n",
       "       [6.400e+01, 0.000e+00, 1.000e+00, 4.000e+00, 1.024e+03],\n",
       "       [6.400e+01, 0.000e+00, 1.000e+00, 4.000e+00, 2.048e+03],\n",
       "       [6.400e+01, 0.000e+00, 2.000e+00, 2.000e+00, 5.120e+02],\n",
       "       [6.400e+01, 0.000e+00, 2.000e+00, 2.000e+00, 1.024e+03],\n",
       "       [6.400e+01, 0.000e+00, 2.000e+00, 2.000e+00, 2.048e+03],\n",
       "       [6.400e+01, 0.000e+00, 2.000e+00, 4.000e+00, 5.120e+02],\n",
       "       [6.400e+01, 0.000e+00, 2.000e+00, 4.000e+00, 1.024e+03],\n",
       "       [6.400e+01, 0.000e+00, 2.000e+00, 4.000e+00, 2.048e+03],\n",
       "       [6.400e+01, 0.000e+00, 3.000e+00, 2.000e+00, 5.120e+02],\n",
       "       [6.400e+01, 0.000e+00, 3.000e+00, 2.000e+00, 1.024e+03],\n",
       "       [6.400e+01, 0.000e+00, 3.000e+00, 2.000e+00, 2.048e+03],\n",
       "       [6.400e+01, 0.000e+00, 3.000e+00, 4.000e+00, 5.120e+02],\n",
       "       [6.400e+01, 0.000e+00, 3.000e+00, 4.000e+00, 1.024e+03],\n",
       "       [6.400e+01, 0.000e+00, 3.000e+00, 4.000e+00, 2.048e+03],\n",
       "       [6.400e+01, 5.000e-02, 1.000e+00, 2.000e+00, 5.120e+02],\n",
       "       [6.400e+01, 5.000e-02, 1.000e+00, 2.000e+00, 1.024e+03],\n",
       "       [6.400e+01, 5.000e-02, 1.000e+00, 2.000e+00, 2.048e+03],\n",
       "       [6.400e+01, 5.000e-02, 1.000e+00, 4.000e+00, 5.120e+02],\n",
       "       [6.400e+01, 5.000e-02, 1.000e+00, 4.000e+00, 1.024e+03],\n",
       "       [6.400e+01, 5.000e-02, 1.000e+00, 4.000e+00, 2.048e+03],\n",
       "       [6.400e+01, 5.000e-02, 2.000e+00, 2.000e+00, 5.120e+02],\n",
       "       [6.400e+01, 5.000e-02, 2.000e+00, 2.000e+00, 1.024e+03],\n",
       "       [6.400e+01, 5.000e-02, 2.000e+00, 2.000e+00, 2.048e+03],\n",
       "       [6.400e+01, 5.000e-02, 2.000e+00, 4.000e+00, 5.120e+02],\n",
       "       [6.400e+01, 5.000e-02, 2.000e+00, 4.000e+00, 1.024e+03],\n",
       "       [6.400e+01, 5.000e-02, 2.000e+00, 4.000e+00, 2.048e+03],\n",
       "       [6.400e+01, 5.000e-02, 3.000e+00, 2.000e+00, 5.120e+02],\n",
       "       [6.400e+01, 5.000e-02, 3.000e+00, 2.000e+00, 1.024e+03],\n",
       "       [6.400e+01, 5.000e-02, 3.000e+00, 2.000e+00, 2.048e+03],\n",
       "       [6.400e+01, 5.000e-02, 3.000e+00, 4.000e+00, 5.120e+02],\n",
       "       [6.400e+01, 5.000e-02, 3.000e+00, 4.000e+00, 1.024e+03],\n",
       "       [6.400e+01, 5.000e-02, 3.000e+00, 4.000e+00, 2.048e+03],\n",
       "       [3.200e+01, 0.000e+00, 1.000e+00, 2.000e+00, 5.120e+02],\n",
       "       [3.200e+01, 0.000e+00, 1.000e+00, 2.000e+00, 1.024e+03],\n",
       "       [3.200e+01, 0.000e+00, 1.000e+00, 2.000e+00, 2.048e+03],\n",
       "       [3.200e+01, 0.000e+00, 1.000e+00, 4.000e+00, 5.120e+02],\n",
       "       [3.200e+01, 0.000e+00, 1.000e+00, 4.000e+00, 1.024e+03],\n",
       "       [3.200e+01, 0.000e+00, 1.000e+00, 4.000e+00, 2.048e+03],\n",
       "       [3.200e+01, 0.000e+00, 2.000e+00, 2.000e+00, 5.120e+02],\n",
       "       [3.200e+01, 0.000e+00, 2.000e+00, 2.000e+00, 1.024e+03],\n",
       "       [3.200e+01, 0.000e+00, 2.000e+00, 2.000e+00, 2.048e+03],\n",
       "       [3.200e+01, 0.000e+00, 2.000e+00, 4.000e+00, 5.120e+02],\n",
       "       [3.200e+01, 0.000e+00, 2.000e+00, 4.000e+00, 1.024e+03],\n",
       "       [3.200e+01, 0.000e+00, 2.000e+00, 4.000e+00, 2.048e+03],\n",
       "       [3.200e+01, 0.000e+00, 3.000e+00, 2.000e+00, 5.120e+02],\n",
       "       [3.200e+01, 0.000e+00, 3.000e+00, 2.000e+00, 1.024e+03],\n",
       "       [3.200e+01, 0.000e+00, 3.000e+00, 2.000e+00, 2.048e+03],\n",
       "       [3.200e+01, 0.000e+00, 3.000e+00, 4.000e+00, 5.120e+02],\n",
       "       [3.200e+01, 0.000e+00, 3.000e+00, 4.000e+00, 1.024e+03],\n",
       "       [3.200e+01, 0.000e+00, 3.000e+00, 4.000e+00, 2.048e+03],\n",
       "       [3.200e+01, 5.000e-02, 1.000e+00, 2.000e+00, 5.120e+02],\n",
       "       [3.200e+01, 5.000e-02, 1.000e+00, 2.000e+00, 1.024e+03],\n",
       "       [3.200e+01, 5.000e-02, 1.000e+00, 2.000e+00, 2.048e+03],\n",
       "       [3.200e+01, 5.000e-02, 1.000e+00, 4.000e+00, 5.120e+02],\n",
       "       [3.200e+01, 5.000e-02, 1.000e+00, 4.000e+00, 1.024e+03],\n",
       "       [3.200e+01, 5.000e-02, 1.000e+00, 4.000e+00, 2.048e+03],\n",
       "       [3.200e+01, 5.000e-02, 2.000e+00, 2.000e+00, 5.120e+02],\n",
       "       [3.200e+01, 5.000e-02, 2.000e+00, 2.000e+00, 1.024e+03],\n",
       "       [3.200e+01, 5.000e-02, 2.000e+00, 2.000e+00, 2.048e+03],\n",
       "       [3.200e+01, 5.000e-02, 2.000e+00, 4.000e+00, 5.120e+02],\n",
       "       [3.200e+01, 5.000e-02, 2.000e+00, 4.000e+00, 1.024e+03],\n",
       "       [3.200e+01, 5.000e-02, 2.000e+00, 4.000e+00, 2.048e+03],\n",
       "       [3.200e+01, 5.000e-02, 3.000e+00, 2.000e+00, 5.120e+02],\n",
       "       [3.200e+01, 5.000e-02, 3.000e+00, 2.000e+00, 1.024e+03],\n",
       "       [3.200e+01, 5.000e-02, 3.000e+00, 2.000e+00, 2.048e+03],\n",
       "       [3.200e+01, 5.000e-02, 3.000e+00, 4.000e+00, 5.120e+02],\n",
       "       [3.200e+01, 5.000e-02, 3.000e+00, 4.000e+00, 1.024e+03],\n",
       "       [3.200e+01, 5.000e-02, 3.000e+00, 4.000e+00, 2.048e+03]])"
      ]
     },
     "execution_count": 38,
     "metadata": {},
     "output_type": "execute_result"
    }
   ],
   "source": [
    "p"
   ]
  },
  {
   "cell_type": "code",
   "execution_count": 31,
   "metadata": {
    "ExecuteTime": {
     "end_time": "2021-04-23T15:04:28.228702Z",
     "start_time": "2021-04-23T15:04:28.200776Z"
    }
   },
   "outputs": [
    {
     "ename": "TypeError",
     "evalue": "only size-1 arrays can be converted to Python scalars",
     "output_type": "error",
     "traceback": [
      "\u001b[1;31m---------------------------------------------------------------------------\u001b[0m",
      "\u001b[1;31mTypeError\u001b[0m                                 Traceback (most recent call last)",
      "\u001b[1;32m<ipython-input-31-445d97782e52>\u001b[0m in \u001b[0;36m<module>\u001b[1;34m\u001b[0m\n\u001b[1;32m----> 1\u001b[1;33m \u001b[0mprint\u001b[0m\u001b[1;33m(\u001b[0m\u001b[1;33m[\u001b[0m\u001b[0mint\u001b[0m\u001b[1;33m(\u001b[0m\u001b[0mnum\u001b[0m\u001b[1;33m)\u001b[0m \u001b[1;32mif\u001b[0m \u001b[0mfloat\u001b[0m\u001b[1;33m(\u001b[0m\u001b[0mnum\u001b[0m\u001b[1;33m)\u001b[0m\u001b[1;33m.\u001b[0m\u001b[0mis_integer\u001b[0m\u001b[1;33m(\u001b[0m\u001b[1;33m)\u001b[0m \u001b[1;32melse\u001b[0m \u001b[0mnum\u001b[0m \u001b[1;32mfor\u001b[0m \u001b[0mnum\u001b[0m \u001b[1;32min\u001b[0m \u001b[0mp\u001b[0m\u001b[1;33m]\u001b[0m\u001b[1;33m)\u001b[0m\u001b[1;33m\u001b[0m\u001b[1;33m\u001b[0m\u001b[0m\n\u001b[0m",
      "\u001b[1;32m<ipython-input-31-445d97782e52>\u001b[0m in \u001b[0;36m<listcomp>\u001b[1;34m(.0)\u001b[0m\n\u001b[1;32m----> 1\u001b[1;33m \u001b[0mprint\u001b[0m\u001b[1;33m(\u001b[0m\u001b[1;33m[\u001b[0m\u001b[0mint\u001b[0m\u001b[1;33m(\u001b[0m\u001b[0mnum\u001b[0m\u001b[1;33m)\u001b[0m \u001b[1;32mif\u001b[0m \u001b[0mfloat\u001b[0m\u001b[1;33m(\u001b[0m\u001b[0mnum\u001b[0m\u001b[1;33m)\u001b[0m\u001b[1;33m.\u001b[0m\u001b[0mis_integer\u001b[0m\u001b[1;33m(\u001b[0m\u001b[1;33m)\u001b[0m \u001b[1;32melse\u001b[0m \u001b[0mnum\u001b[0m \u001b[1;32mfor\u001b[0m \u001b[0mnum\u001b[0m \u001b[1;32min\u001b[0m \u001b[0mp\u001b[0m\u001b[1;33m]\u001b[0m\u001b[1;33m)\u001b[0m\u001b[1;33m\u001b[0m\u001b[1;33m\u001b[0m\u001b[0m\n\u001b[0m",
      "\u001b[1;31mTypeError\u001b[0m: only size-1 arrays can be converted to Python scalars"
     ]
    }
   ],
   "source": [
    "print([int(num) if float(num).is_integer() else num for num in p])"
   ]
  },
  {
   "cell_type": "code",
   "execution_count": 46,
   "metadata": {
    "ExecuteTime": {
     "end_time": "2021-04-23T15:13:43.909072Z",
     "start_time": "2021-04-23T15:13:43.902056Z"
    },
    "code_folding": []
   },
   "outputs": [],
   "source": [
    "true, false=1,0\n",
    "base={\n",
    "    \"experiment\": \"IceCube\",\n",
    "    \"group\":  \"compare\", \n",
    "\n",
    "    \"model_name\":  \"Sage\",\n",
    "    \"angle_unitvec\": \"angle\",\n",
    "    \"wandblog\": true,\n",
    "\n",
    "    \"run_params\":{\n",
    "    \"epochs\":     20,\n",
    "    \"batch_size\": 512,\n",
    "    \"early_stop\": true,\n",
    "    \"zeniazi_metric\":true,\n",
    "    \"patience\":   5,\n",
    "    \"lr_schedule\": \"classic\",\n",
    "    \"learning_rate\":   1e-3,\n",
    "    \"warm_up\": 3,\n",
    "    \"lr_decay\": 0.9,\n",
    "    \"val_epoch\":   10,\n",
    "    \"loss_func\": \"abs_vonMises2D_angle\",\n",
    "    \"metrics\": \"energy_angle_zeniazi\",\n",
    "    \"performance_plot\": \"performance_vM2D\"\n",
    "},\n",
    "\n",
    "    \"hyper_params\": {\n",
    "        \"n_out\":           3,\n",
    "        \"n_sigs\":          2,\n",
    "        \"hidden_states\":   64,\n",
    "        \"glob\": true,\n",
    "        \"conv_layers\":   2,\n",
    "        \"conv_activation\": \"relu\",\n",
    "        \"decode_layers\":   3,\n",
    "        \"decode_activation\": 1,\n",
    "        \"dropout\":         0.05,\n",
    "        \"regularization\": \"l2\", \n",
    "        \"batch_norm\":      true,\n",
    "        \"forward\":  true,\n",
    "        \"edgeconv\": 0,\n",
    "        \"edgenorm\":0\n",
    "    },\n",
    "\n",
    "   \"data_params\":{ \n",
    "    \"n_data\": 2e4,\n",
    "    \"graph_construction\":       \"classic\",\n",
    "    \"muon\":             true,\n",
    "    \"n_neighbors\":       6,\n",
    "    \"data_split\":      [0.8, 0.1, 0.1],\n",
    "    \"restart\":   false,\n",
    "    \"transform_path\": \"../db_files/muongun/transformers.pkl\",\n",
    "    \"db_path\": \"../db_files/muongun/rasmus_classification_muon_3neutrino_3mio.db\",\n",
    "    \"features\":   [\"dom_x\", \"dom_y\", \"dom_z\", \"time\", \"charge_log10\", \"SRTInIcePulses\", \"lc\"],\n",
    "    \"targets\":    [\"energy_log10\", \"zenith\",\"azimuth\"],\n",
    "    \"skip\": 0,\n",
    "    \"SRT\": 0,\n",
    "    \"database\": \"MuonGun\"\n",
    "}\n",
    "}"
   ]
  },
  {
   "cell_type": "code",
   "execution_count": null,
   "metadata": {
    "ExecuteTime": {
     "end_time": "2021-04-23T14:04:13.617415Z",
     "start_time": "2021-04-23T14:04:10.295Z"
    }
   },
   "outputs": [],
   "source": [
    "l=bs\n",
    "outp\n",
    "  \n",
    "# Driver code\n",
    "print ('The original list: ', l)\n",
    "removeNestings(l)\n",
    "print ('The list after removing nesting: ', output)"
   ]
  },
  {
   "cell_type": "code",
   "execution_count": null,
   "metadata": {
    "ExecuteTime": {
     "end_time": "2021-04-23T14:04:13.619408Z",
     "start_time": "2021-04-23T14:04:10.297Z"
    }
   },
   "outputs": [],
   "source": [
    "perms=np.array(output)\n",
    "perms.reshape(-1, len(keys))"
   ]
  },
  {
   "cell_type": "code",
   "execution_count": null,
   "metadata": {
    "ExecuteTime": {
     "end_time": "2021-04-23T14:04:13.622400Z",
     "start_time": "2021-04-23T14:04:10.298Z"
    }
   },
   "outputs": [],
   "source": [
    "bs=np.array(bs)"
   ]
  },
  {
   "cell_type": "code",
   "execution_count": null,
   "metadata": {
    "ExecuteTime": {
     "end_time": "2021-04-23T14:04:13.624422Z",
     "start_time": "2021-04-23T14:04:10.300Z"
    }
   },
   "outputs": [],
   "source": [
    "bs.reshape(len(keys), len(bs))"
   ]
  }
 ],
 "metadata": {
  "hide_input": false,
  "kernelspec": {
   "name": "python385jvsc74a57bd0ee7ae0cce42568ffbe792829a147e8b26e32fc5929320da4cac6b0f8a68675f6",
   "display_name": "Python 3.8.5 64-bit ('base': conda)"
  },
  "metadata": {
   "interpreter": {
    "hash": "ee7ae0cce42568ffbe792829a147e8b26e32fc5929320da4cac6b0f8a68675f6"
   }
  }
 },
 "nbformat": 4,
 "nbformat_minor": 4
}