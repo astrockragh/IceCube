{
 "cells": [
  {
   "cell_type": "code",
   "execution_count": 1,
   "metadata": {
    "ExecuteTime": {
     "end_time": "2021-03-26T10:30:46.353140Z",
     "start_time": "2021-03-26T10:30:39.103578Z"
    }
   },
   "outputs": [],
   "source": [
    "import sqlite3, os, sys\n",
    "import pandas as pd\n",
    "import tensorflow as tf\n",
    "import numpy as np\n",
    "from tqdm.notebook import tqdm"
   ]
  },
  {
   "cell_type": "code",
   "execution_count": 2,
   "metadata": {
    "ExecuteTime": {
     "end_time": "2021-03-26T10:30:46.358067Z",
     "start_time": "2021-03-26T10:30:46.354076Z"
    }
   },
   "outputs": [],
   "source": [
    "db_path = \"../db_files/dev_level7_mu_e_tau_oscweight_000/dev_level7_mu_e_tau_oscweight_000.db\""
   ]
  },
  {
   "cell_type": "code",
   "execution_count": 3,
   "metadata": {
    "ExecuteTime": {
     "end_time": "2021-03-26T10:30:46.403193Z",
     "start_time": "2021-03-26T10:30:46.359064Z"
    }
   },
   "outputs": [],
   "source": [
    "conn = sqlite3.connect(db_path)"
   ]
  },
  {
   "cell_type": "code",
   "execution_count": 4,
   "metadata": {
    "ExecuteTime": {
     "end_time": "2021-03-26T10:30:46.408969Z",
     "start_time": "2021-03-26T10:30:46.404940Z"
    }
   },
   "outputs": [],
   "source": [
    "cursor = conn.cursor()"
   ]
  },
  {
   "cell_type": "code",
   "execution_count": 5,
   "metadata": {
    "ExecuteTime": {
     "end_time": "2021-03-26T10:30:46.426894Z",
     "start_time": "2021-03-26T10:30:46.410954Z"
    }
   },
   "outputs": [
    {
     "data": {
      "text/plain": [
       "<sqlite3.Cursor at 0x26c94c00260>"
      ]
     },
     "execution_count": 5,
     "metadata": {},
     "output_type": "execute_result"
    }
   ],
   "source": [
    "cursor.execute(f\"SELECT name FROM sqlite_master WHERE type='table';\")"
   ]
  },
  {
   "cell_type": "code",
   "execution_count": 6,
   "metadata": {
    "ExecuteTime": {
     "end_time": "2021-03-22T16:06:55.260026Z",
     "start_time": "2021-03-22T16:06:55.252051Z"
    }
   },
   "outputs": [
    {
     "name": "stdout",
     "output_type": "stream",
     "text": [
      "[]\n"
     ]
    }
   ],
   "source": [
    "print(cursor.fetchall())"
   ]
  },
  {
   "cell_type": "code",
   "execution_count": 8,
   "metadata": {
    "ExecuteTime": {
     "end_time": "2021-03-22T16:07:09.383251Z",
     "start_time": "2021-03-22T16:07:09.344976Z"
    },
    "scrolled": true
   },
   "outputs": [
    {
     "data": {
      "text/html": [
       "<div>\n",
       "<style scoped>\n",
       "    .dataframe tbody tr th:only-of-type {\n",
       "        vertical-align: middle;\n",
       "    }\n",
       "\n",
       "    .dataframe tbody tr th {\n",
       "        vertical-align: top;\n",
       "    }\n",
       "\n",
       "    .dataframe thead th {\n",
       "        text-align: right;\n",
       "    }\n",
       "</style>\n",
       "<table border=\"1\" class=\"dataframe\">\n",
       "  <thead>\n",
       "    <tr style=\"text-align: right;\">\n",
       "      <th></th>\n",
       "      <th>event_no</th>\n",
       "      <th>charge_log10</th>\n",
       "      <th>dom_time</th>\n",
       "      <th>dom_x</th>\n",
       "      <th>dom_y</th>\n",
       "      <th>dom_z</th>\n",
       "    </tr>\n",
       "  </thead>\n",
       "  <tbody>\n",
       "    <tr>\n",
       "      <th>0</th>\n",
       "      <td>111145172</td>\n",
       "      <td>-0.583333</td>\n",
       "      <td>2.405660</td>\n",
       "      <td>0.000000</td>\n",
       "      <td>0.255849</td>\n",
       "      <td>-0.936072</td>\n",
       "    </tr>\n",
       "    <tr>\n",
       "      <th>1</th>\n",
       "      <td>111145172</td>\n",
       "      <td>0.583333</td>\n",
       "      <td>5.239623</td>\n",
       "      <td>-2.468251</td>\n",
       "      <td>1.038192</td>\n",
       "      <td>-1.074582</td>\n",
       "    </tr>\n",
       "    <tr>\n",
       "      <th>2</th>\n",
       "      <td>111145172</td>\n",
       "      <td>0.083333</td>\n",
       "      <td>0.096226</td>\n",
       "      <td>-0.965874</td>\n",
       "      <td>1.228854</td>\n",
       "      <td>-0.290742</td>\n",
       "    </tr>\n",
       "    <tr>\n",
       "      <th>3</th>\n",
       "      <td>111145172</td>\n",
       "      <td>-0.666667</td>\n",
       "      <td>1.420755</td>\n",
       "      <td>-0.965874</td>\n",
       "      <td>1.228854</td>\n",
       "      <td>-0.290742</td>\n",
       "    </tr>\n",
       "    <tr>\n",
       "      <th>4</th>\n",
       "      <td>111145172</td>\n",
       "      <td>0.083333</td>\n",
       "      <td>-0.371698</td>\n",
       "      <td>-0.965874</td>\n",
       "      <td>1.228854</td>\n",
       "      <td>-0.428203</td>\n",
       "    </tr>\n",
       "    <tr>\n",
       "      <th>...</th>\n",
       "      <td>...</td>\n",
       "      <td>...</td>\n",
       "      <td>...</td>\n",
       "      <td>...</td>\n",
       "      <td>...</td>\n",
       "      <td>...</td>\n",
       "    </tr>\n",
       "    <tr>\n",
       "      <th>95</th>\n",
       "      <td>111145175</td>\n",
       "      <td>0.916667</td>\n",
       "      <td>0.666038</td>\n",
       "      <td>0.317855</td>\n",
       "      <td>-0.061288</td>\n",
       "      <td>0.033740</td>\n",
       "    </tr>\n",
       "    <tr>\n",
       "      <th>96</th>\n",
       "      <td>111145175</td>\n",
       "      <td>0.583333</td>\n",
       "      <td>1.926415</td>\n",
       "      <td>0.317855</td>\n",
       "      <td>-0.061288</td>\n",
       "      <td>-0.192590</td>\n",
       "    </tr>\n",
       "    <tr>\n",
       "      <th>97</th>\n",
       "      <td>111145175</td>\n",
       "      <td>-0.916667</td>\n",
       "      <td>1.984906</td>\n",
       "      <td>0.317855</td>\n",
       "      <td>-0.061288</td>\n",
       "      <td>-0.192590</td>\n",
       "    </tr>\n",
       "    <tr>\n",
       "      <th>98</th>\n",
       "      <td>111145175</td>\n",
       "      <td>0.500000</td>\n",
       "      <td>0.660377</td>\n",
       "      <td>-0.057160</td>\n",
       "      <td>0.959408</td>\n",
       "      <td>0.728146</td>\n",
       "    </tr>\n",
       "    <tr>\n",
       "      <th>99</th>\n",
       "      <td>111145175</td>\n",
       "      <td>0.500000</td>\n",
       "      <td>-0.032075</td>\n",
       "      <td>-0.057160</td>\n",
       "      <td>0.959408</td>\n",
       "      <td>0.388732</td>\n",
       "    </tr>\n",
       "  </tbody>\n",
       "</table>\n",
       "<p>100 rows × 6 columns</p>\n",
       "</div>"
      ],
      "text/plain": [
       "     event_no  charge_log10  dom_time     dom_x     dom_y     dom_z\n",
       "0   111145172     -0.583333  2.405660  0.000000  0.255849 -0.936072\n",
       "1   111145172      0.583333  5.239623 -2.468251  1.038192 -1.074582\n",
       "2   111145172      0.083333  0.096226 -0.965874  1.228854 -0.290742\n",
       "3   111145172     -0.666667  1.420755 -0.965874  1.228854 -0.290742\n",
       "4   111145172      0.083333 -0.371698 -0.965874  1.228854 -0.428203\n",
       "..        ...           ...       ...       ...       ...       ...\n",
       "95  111145175      0.916667  0.666038  0.317855 -0.061288  0.033740\n",
       "96  111145175      0.583333  1.926415  0.317855 -0.061288 -0.192590\n",
       "97  111145175     -0.916667  1.984906  0.317855 -0.061288 -0.192590\n",
       "98  111145175      0.500000  0.660377 -0.057160  0.959408  0.728146\n",
       "99  111145175      0.500000 -0.032075 -0.057160  0.959408  0.388732\n",
       "\n",
       "[100 rows x 6 columns]"
      ]
     },
     "execution_count": 8,
     "metadata": {},
     "output_type": "execute_result"
    }
   ],
   "source": [
    "df_feat=pd.read_sql(\"select * from features limit 100\", conn)"
   ]
  },
  {
   "cell_type": "code",
   "execution_count": 11,
   "metadata": {
    "ExecuteTime": {
     "end_time": "2021-03-22T16:07:43.008898Z",
     "start_time": "2021-03-22T16:07:31.267976Z"
    }
   },
   "outputs": [],
   "source": [
    "df_truth=pd.read_sql(\"select * from truth limit 1000000\", conn)"
   ]
  },
  {
   "cell_type": "code",
   "execution_count": 13,
   "metadata": {
    "ExecuteTime": {
     "end_time": "2021-03-22T16:18:03.318858Z",
     "start_time": "2021-03-22T16:17:57.845564Z"
    }
   },
   "outputs": [],
   "source": [
    "n_data = 100\n",
    "start_id = conn.execute(f\"select distinct event_no from truth where pid = 13\")\n",
    "stop_id  = conn.execute(f\"select distinct event_no from truth where pid = 13 limit 1 offset {n_data}\")"
   ]
  },
  {
   "cell_type": "code",
   "execution_count": null,
   "metadata": {},
   "outputs": [],
   "source": []
  },
  {
   "cell_type": "code",
   "execution_count": 15,
   "metadata": {
    "ExecuteTime": {
     "end_time": "2021-03-22T16:18:15.086841Z",
     "start_time": "2021-03-22T16:18:15.080821Z"
    }
   },
   "outputs": [
    {
     "data": {
      "text/plain": [
       "[]"
      ]
     },
     "execution_count": 15,
     "metadata": {},
     "output_type": "execute_result"
    }
   ],
   "source": [
    "start_id.fetchall()"
   ]
  },
  {
   "cell_type": "code",
   "execution_count": 12,
   "metadata": {
    "ExecuteTime": {
     "end_time": "2021-02-11T10:29:06.515780Z",
     "start_time": "2021-02-11T10:29:06.510882Z"
    }
   },
   "outputs": [
    {
     "data": {
      "text/plain": [
       "[(138674472,)]"
      ]
     },
     "execution_count": 12,
     "metadata": {},
     "output_type": "execute_result"
    }
   ],
   "source": [
    "stop_id.fetchall()"
   ]
  },
  {
   "cell_type": "code",
   "execution_count": 16,
   "metadata": {
    "ExecuteTime": {
     "end_time": "2021-02-11T10:30:15.588700Z",
     "start_time": "2021-02-11T10:30:14.865989Z"
    }
   },
   "outputs": [],
   "source": [
    "start, stop = 0, 100000\n",
    "# start_id  = conn.execute(f\"select distinct event_no from features where pid = 13 limit \")\n",
    "event_nos = pd.read_sql(f\"select distinct event_no from features limit {stop} offset {start}\", conn)"
   ]
  },
  {
   "cell_type": "code",
   "execution_count": 17,
   "metadata": {
    "ExecuteTime": {
     "end_time": "2021-02-11T10:30:15.948441Z",
     "start_time": "2021-02-11T10:30:15.936474Z"
    }
   },
   "outputs": [
    {
     "data": {
      "text/html": [
       "<div>\n",
       "<style scoped>\n",
       "    .dataframe tbody tr th:only-of-type {\n",
       "        vertical-align: middle;\n",
       "    }\n",
       "\n",
       "    .dataframe tbody tr th {\n",
       "        vertical-align: top;\n",
       "    }\n",
       "\n",
       "    .dataframe thead th {\n",
       "        text-align: right;\n",
       "    }\n",
       "</style>\n",
       "<table border=\"1\" class=\"dataframe\">\n",
       "  <thead>\n",
       "    <tr style=\"text-align: right;\">\n",
       "      <th></th>\n",
       "      <th>event_no</th>\n",
       "    </tr>\n",
       "  </thead>\n",
       "  <tbody>\n",
       "    <tr>\n",
       "      <th>0</th>\n",
       "      <td>120102888</td>\n",
       "    </tr>\n",
       "    <tr>\n",
       "      <th>1</th>\n",
       "      <td>120102889</td>\n",
       "    </tr>\n",
       "    <tr>\n",
       "      <th>2</th>\n",
       "      <td>120102890</td>\n",
       "    </tr>\n",
       "    <tr>\n",
       "      <th>3</th>\n",
       "      <td>120102891</td>\n",
       "    </tr>\n",
       "    <tr>\n",
       "      <th>4</th>\n",
       "      <td>120102892</td>\n",
       "    </tr>\n",
       "    <tr>\n",
       "      <th>...</th>\n",
       "      <td>...</td>\n",
       "    </tr>\n",
       "    <tr>\n",
       "      <th>99995</th>\n",
       "      <td>120228027</td>\n",
       "    </tr>\n",
       "    <tr>\n",
       "      <th>99996</th>\n",
       "      <td>120228028</td>\n",
       "    </tr>\n",
       "    <tr>\n",
       "      <th>99997</th>\n",
       "      <td>120228029</td>\n",
       "    </tr>\n",
       "    <tr>\n",
       "      <th>99998</th>\n",
       "      <td>120228030</td>\n",
       "    </tr>\n",
       "    <tr>\n",
       "      <th>99999</th>\n",
       "      <td>120228031</td>\n",
       "    </tr>\n",
       "  </tbody>\n",
       "</table>\n",
       "<p>100000 rows × 1 columns</p>\n",
       "</div>"
      ],
      "text/plain": [
       "        event_no\n",
       "0      120102888\n",
       "1      120102889\n",
       "2      120102890\n",
       "3      120102891\n",
       "4      120102892\n",
       "...          ...\n",
       "99995  120228027\n",
       "99996  120228028\n",
       "99997  120228029\n",
       "99998  120228030\n",
       "99999  120228031\n",
       "\n",
       "[100000 rows x 1 columns]"
      ]
     },
     "execution_count": 17,
     "metadata": {},
     "output_type": "execute_result"
    }
   ],
   "source": [
    "event_nos"
   ]
  },
  {
   "cell_type": "code",
   "execution_count": 23,
   "metadata": {
    "ExecuteTime": {
     "end_time": "2021-02-11T10:35:48.540991Z",
     "start_time": "2021-02-11T10:35:47.953466Z"
    }
   },
   "outputs": [],
   "source": [
    "start, stop = 0, 100000\n",
    "select_rows = [\"dom_x\", \"dom_y\", \"dom_z\", \"time\", \"charge_log10\"]\n",
    "\n",
    "start_id = conn.execute(f\"select distinct event_no from features limit 1 offset {start}\").fetchall()[0][0]\n",
    "stop_id  = conn.execute(f\"select distinct event_no from features limit 1 offset {stop}\").fetchall()[0][0]"
   ]
  },
  {
   "cell_type": "code",
   "execution_count": 24,
   "metadata": {
    "ExecuteTime": {
     "end_time": "2021-02-11T10:36:14.081151Z",
     "start_time": "2021-02-11T10:35:49.278321Z"
    }
   },
   "outputs": [],
   "source": [
    "features = [\"dom_x\", \"dom_y\", \"dom_z\", \"time\", \"charge_log10\"]\n",
    "targets  = [\"energy_log10\", \"position_x\", \"position_y\", \"position_z\", \"direction_x\", \"direction_y\", \"direction_z\"]\n",
    "feature_call = \", \".join(features)\n",
    "target_call  = \", \".join(targets)\n",
    "df_event = pd.read_sql(f\"select event_no       from features where event_no >= {start_id} and event_no < {stop_id}\", conn)\n",
    "df_feat  = pd.read_sql(f\"select {feature_call} from features where event_no >= {start_id} and event_no < {stop_id}\", conn)\n",
    "df_targ  = pd.read_sql(f\"select {target_call } from truth    where event_no >= {start_id} and event_no < {stop_id}\", conn)"
   ]
  },
  {
   "cell_type": "code",
   "execution_count": 25,
   "metadata": {
    "ExecuteTime": {
     "end_time": "2021-02-11T10:37:08.845902Z",
     "start_time": "2021-02-11T10:37:08.682753Z"
    }
   },
   "outputs": [],
   "source": [
    "idx_list    = np.array(df_event)\n",
    "x_not_split = np.array(df_feat)"
   ]
  },
  {
   "cell_type": "code",
   "execution_count": 30,
   "metadata": {
    "ExecuteTime": {
     "end_time": "2021-02-11T10:38:13.500803Z",
     "start_time": "2021-02-11T10:38:13.495817Z"
    },
    "scrolled": true
   },
   "outputs": [
    {
     "data": {
      "text/plain": [
       "(5965924, 1)"
      ]
     },
     "execution_count": 30,
     "metadata": {},
     "output_type": "execute_result"
    }
   ],
   "source": [
    "np.shape(idx_list)"
   ]
  },
  {
   "cell_type": "code",
   "execution_count": 31,
   "metadata": {
    "ExecuteTime": {
     "end_time": "2021-02-11T10:38:55.189836Z",
     "start_time": "2021-02-11T10:38:55.043164Z"
    }
   },
   "outputs": [],
   "source": [
    "ids, idx, counts = np.unique(idx_list.flatten(), return_index = True, return_counts = True) "
   ]
  },
  {
   "cell_type": "code",
   "execution_count": 29,
   "metadata": {
    "ExecuteTime": {
     "end_time": "2021-02-11T10:37:53.852888Z",
     "start_time": "2021-02-11T10:37:53.845919Z"
    }
   },
   "outputs": [
    {
     "data": {
      "text/plain": [
       "5965924"
      ]
     },
     "execution_count": 29,
     "metadata": {},
     "output_type": "execute_result"
    }
   ],
   "source": [
    "np.sum(counts)"
   ]
  },
  {
   "cell_type": "code",
   "execution_count": 34,
   "metadata": {
    "ExecuteTime": {
     "end_time": "2021-02-11T10:39:35.480990Z",
     "start_time": "2021-02-11T10:39:35.477447Z"
    }
   },
   "outputs": [
    {
     "data": {
      "text/plain": [
       "(5965924, 5)"
      ]
     },
     "execution_count": 34,
     "metadata": {},
     "output_type": "execute_result"
    }
   ],
   "source": [
    "x_not_split.shape"
   ]
  },
  {
   "cell_type": "code",
   "execution_count": 35,
   "metadata": {
    "ExecuteTime": {
     "end_time": "2021-02-11T10:39:44.839981Z",
     "start_time": "2021-02-11T10:39:44.668681Z"
    }
   },
   "outputs": [],
   "source": [
    "xs = np.split(x_not_split, np.cumsum(counts))"
   ]
  },
  {
   "cell_type": "code",
   "execution_count": 61,
   "metadata": {
    "ExecuteTime": {
     "end_time": "2021-02-11T11:04:25.074555Z",
     "start_time": "2021-02-11T11:04:25.067575Z"
    }
   },
   "outputs": [],
   "source": [
    "ys = np.array(df_targ)"
   ]
  },
  {
   "cell_type": "code",
   "execution_count": 43,
   "metadata": {
    "ExecuteTime": {
     "end_time": "2021-02-11T10:41:51.796793Z",
     "start_time": "2021-02-11T10:41:51.777278Z"
    }
   },
   "outputs": [
    {
     "name": "stderr",
     "output_type": "stream",
     "text": [
      "C:\\Users\\chris\\anaconda3\\lib\\site-packages\\numpy\\core\\_asarray.py:83: VisibleDeprecationWarning: Creating an ndarray from ragged nested sequences (which is a list-or-tuple of lists-or-tuples-or ndarrays with different lengths or shapes) is deprecated. If you meant to do this, you must specify 'dtype=object' when creating the ndarray\n",
      "  return array(a, dtype, copy=False, order=order)\n"
     ]
    },
    {
     "data": {
      "text/plain": [
       "(100001,)"
      ]
     },
     "execution_count": 43,
     "metadata": {},
     "output_type": "execute_result"
    }
   ],
   "source": [
    "np.shape(xs)"
   ]
  },
  {
   "cell_type": "code",
   "execution_count": 24,
   "metadata": {
    "ExecuteTime": {
     "end_time": "2021-01-12T17:27:04.902891Z",
     "start_time": "2021-01-12T17:27:04.897115Z"
    }
   },
   "outputs": [
    {
     "name": "stdout",
     "output_type": "stream",
     "text": [
      "[[-1.84428951 -1.22482404  0.39792449 -1.56428307  0.16261479]\n",
      " [-0.2078301  -0.18691354 -0.44418075 -1.68247499 -1.92155384]\n",
      " [ 0.06322446 -0.29591152 -0.46829432 -0.05335309 -0.38592265]\n",
      " [ 0.06322446 -0.29591152 -0.14411839  0.90848462  0.23806267]\n",
      " [ 0.06322446 -0.29591152 -0.14411839 -1.41830308  1.49374495]\n",
      " [ 0.06322446 -0.29591152 -0.08772599 -0.02074843 -1.65692291]\n",
      " [ 0.06322446 -0.29591152 -0.08772599 -0.03223416  0.44497857]\n",
      " [ 0.          0.29478052 -0.12298133  0.44979622 -0.38592265]\n",
      " [-0.04194698 -0.15939176 -0.25229772 -0.30048166  0.        ]\n",
      " [-0.04194698 -0.15939176 -0.23821973 -0.30085217  0.89259397]\n",
      " [-0.04194698 -0.15939176 -0.2241216  -0.29529455 -1.0557719 ]\n",
      " [-0.04194698 -0.15939176 -0.1818273  -0.26083735 -0.62103541]\n",
      " [-0.07899002  2.28041226  1.09275381  1.07373101  0.50835111]\n",
      " [ 0.74159036  1.95723031  0.97476017  1.00629863  0.68454405]\n",
      " [-0.25763961  1.79339814  0.32990768  0.42645424  0.31007972]\n",
      " [-0.25763961  1.79339814  0.32990768 -1.44942571  0.08339316]\n",
      " [ 1.57315399  1.61653821 -0.30774491  1.49796221  0.        ]\n",
      " [-0.93855879  1.22444714 -0.21468941 -0.86958133 -1.65692291]\n",
      " [-1.84428951 -1.22482404  0.2952356   1.43682845 -0.08802844]\n",
      " [-1.84428951 -1.22482404  0.2952356   1.44831419 -1.23196479]\n",
      " [ 1.15607526 -0.72968336  0.22442329  0.1852538   0.56928578]\n",
      " [ 1.63025862 -0.66831435 -0.38927661  1.73879215  0.31007972]\n",
      " [-2.16434302 -0.81802952 -0.42762903  1.10522416 -1.65692291]\n",
      " [ 0.62182865  0.67221013  0.98435329  0.6146721   0.08339316]\n",
      " [-0.2078301  -0.18691354 -0.50055305 -0.50537236 -0.08802844]\n",
      " [ 1.74454889  0.68188676  0.33887737 -0.80214894 -0.28027669]\n",
      " [ 1.87918454  1.22637405  0.41127847 -0.87736199  1.52674827]\n",
      " [ 1.87918454  1.22637405  0.41127847  0.36643201 -1.65692291]\n",
      " [ 1.87918454  1.22637405  0.30858958 -0.59429418  0.37896459]\n",
      " [ 1.87918454  1.22637405  0.30858958  0.80622453  0.23806267]\n",
      " [-1.93985576  1.0584786   0.12784826  1.74768433 -1.43023626]\n",
      " [-1.43957205  1.14075072  0.16153488  0.73138199 -0.28027669]\n",
      " [-2.12045071  0.57083614 -0.55513547 -0.90366803 -0.28027669]\n",
      " [-0.21305828  0.17426274 -0.33260259 -0.1170804   0.        ]] [-1.71554419 -0.01561767 -0.22638297 -0.12290451 -0.41149176  0.89830744\n",
      " -0.03652089]\n"
     ]
    }
   ],
   "source": [
    "for x, y in zip(xs, ys):\n",
    "    print(x, y)\n",
    "    break"
   ]
  },
  {
   "cell_type": "code",
   "execution_count": 63,
   "metadata": {
    "ExecuteTime": {
     "end_time": "2021-02-11T11:04:41.032354Z",
     "start_time": "2021-02-11T11:04:41.025373Z"
    },
    "scrolled": true
   },
   "outputs": [],
   "source": [
    "from sklearn.neighbors import kneighbors_graph as knn\n",
    "from spektral.data import Graph\n",
    "neighbors=6"
   ]
  },
  {
   "cell_type": "code",
   "execution_count": 65,
   "metadata": {
    "ExecuteTime": {
     "end_time": "2021-02-11T11:05:59.373607Z",
     "start_time": "2021-02-11T11:04:47.104414Z"
    }
   },
   "outputs": [
    {
     "name": "stdout",
     "output_type": "stream",
     "text": [
      "Generating adjacency matrices\n"
     ]
    },
    {
     "data": {
      "application/vnd.jupyter.widget-view+json": {
       "model_id": "52af4ecfb6e940098cec778148b0219f",
       "version_major": 2,
       "version_minor": 0
      },
      "text/plain": [
       "HBox(children=(HTML(value=''), FloatProgress(value=0.0, max=100001.0), HTML(value='')))"
      ]
     },
     "metadata": {},
     "output_type": "display_data"
    },
    {
     "name": "stdout",
     "output_type": "stream",
     "text": [
      "\n"
     ]
    }
   ],
   "source": [
    "print(\"Generating adjacency matrices\")\n",
    "graph_list = []\n",
    "for x, y in tqdm(zip(xs, ys), total = len(xs)):\n",
    "    a = knn(x[:, :3], neighbors)\n",
    "\n",
    "\n",
    "\n",
    "    graph_list.append(Graph(x = x, a = a, y = y))\n",
    "\n",
    "graph_list = np.array(graph_list, dtype = object)"
   ]
  },
  {
   "cell_type": "code",
   "execution_count": 51,
   "metadata": {
    "ExecuteTime": {
     "end_time": "2021-02-11T10:55:15.341459Z",
     "start_time": "2021-02-11T10:55:15.323608Z"
    }
   },
   "outputs": [],
   "source": [
    "s = [x.shape[0] for x in xs]"
   ]
  },
  {
   "cell_type": "code",
   "execution_count": null,
   "metadata": {
    "ExecuteTime": {
     "end_time": "2021-01-11T20:06:59.901875Z",
     "start_time": "2021-01-11T20:06:26.638Z"
    }
   },
   "outputs": [],
   "source": [
    "xs = np.array(xs, dtype = object)[np.argsort(s)]"
   ]
  },
  {
   "cell_type": "code",
   "execution_count": 57,
   "metadata": {
    "ExecuteTime": {
     "end_time": "2021-02-11T10:57:53.546464Z",
     "start_time": "2021-02-11T10:57:53.528591Z"
    }
   },
   "outputs": [],
   "source": [
    "size, idx = np.unique(np.sort(s), return_index = True)"
   ]
  },
  {
   "cell_type": "code",
   "execution_count": null,
   "metadata": {
    "ExecuteTime": {
     "end_time": "2021-01-11T20:06:59.904343Z",
     "start_time": "2021-01-11T20:06:26.689Z"
    }
   },
   "outputs": [],
   "source": [
    "preprocess(list(xs[4: 9]))"
   ]
  },
  {
   "cell_type": "code",
   "execution_count": 53,
   "metadata": {
    "ExecuteTime": {
     "end_time": "2021-01-08T22:27:39.553971Z",
     "start_time": "2021-01-08T22:27:39.537771Z"
    }
   },
   "outputs": [
    {
     "data": {
      "text/plain": [
       "array([ 14,  19,  19, ..., 822, 876, 913])"
      ]
     },
     "execution_count": 53,
     "metadata": {},
     "output_type": "execute_result"
    }
   ],
   "source": [
    "np.sort(s)"
   ]
  },
  {
   "cell_type": "code",
   "execution_count": 46,
   "metadata": {
    "ExecuteTime": {
     "end_time": "2021-01-08T22:26:06.346051Z",
     "start_time": "2021-01-08T22:26:06.337818Z"
    }
   },
   "outputs": [
    {
     "data": {
      "text/plain": [
       "array([    0,     1,     4,     9,    21,    45,    85,   143,   244,\n",
       "         401,   652,  1016,  1483,  2097,  2924,  4001,  5282,  6731,\n",
       "        8466, 10599, 13093, 15805, 18756, 21801, 24937, 28170, 31567,\n",
       "       34857, 38137, 41355, 44535, 47573, 50422, 53228, 55770, 58086,\n",
       "       60383, 62484, 64403, 66274, 67917, 69509, 70992, 72361, 73664,\n",
       "       74887, 75978, 76999, 77932, 78771, 79617, 80384, 81125, 81818,\n",
       "       82484, 83089, 83658, 84237, 84756, 85227, 85712, 86149, 86570,\n",
       "       86957, 87318, 87719, 88092, 88425, 88746, 89059, 89334, 89610,\n",
       "       89868, 90105, 90354, 90606, 90834, 91059, 91268, 91484, 91711,\n",
       "       91916, 92108, 92283, 92486, 92656, 92805, 92975, 93132, 93295,\n",
       "       93449, 93584, 93732, 93878, 94005, 94124, 94236, 94346, 94449,\n",
       "       94538, 94645, 94733, 94844, 94928, 95026, 95123, 95213, 95306,\n",
       "       95396, 95483, 95584, 95668, 95763, 95835, 95906, 95966, 96052,\n",
       "       96127, 96195, 96259, 96320, 96387, 96454, 96511, 96563, 96613,\n",
       "       96675, 96739, 96798, 96853, 96905, 96948, 96997, 97039, 97085,\n",
       "       97128, 97175, 97215, 97260, 97293, 97332, 97368, 97403, 97445,\n",
       "       97485, 97516, 97552, 97585, 97624, 97667, 97699, 97728, 97765,\n",
       "       97789, 97823, 97853, 97883, 97908, 97937, 97974, 98011, 98039,\n",
       "       98070, 98095, 98114, 98133, 98156, 98179, 98212, 98242, 98262,\n",
       "       98287, 98317, 98334, 98356, 98380, 98396, 98415, 98441, 98463,\n",
       "       98485, 98505, 98527, 98551, 98566, 98588, 98613, 98635, 98652,\n",
       "       98674, 98692, 98705, 98726, 98750, 98768, 98784, 98799, 98812,\n",
       "       98826, 98842, 98854, 98867, 98882, 98896, 98906, 98921, 98933,\n",
       "       98951, 98958, 98972, 98986, 99001, 99015, 99028, 99038, 99052,\n",
       "       99066, 99081, 99091, 99105, 99117, 99124, 99139, 99148, 99156,\n",
       "       99166, 99175, 99186, 99191, 99206, 99218, 99231, 99245, 99252,\n",
       "       99257, 99270, 99285, 99294, 99300, 99310, 99316, 99327, 99335,\n",
       "       99344, 99356, 99361, 99369, 99379, 99390, 99396, 99405, 99411,\n",
       "       99424, 99432, 99444, 99451, 99462, 99471, 99478, 99483, 99487,\n",
       "       99491, 99496, 99502, 99509, 99521, 99523, 99526, 99530, 99537,\n",
       "       99542, 99545, 99552, 99558, 99561, 99567, 99572, 99577, 99583,\n",
       "       99589, 99593, 99600, 99601, 99603, 99611, 99617, 99624, 99629,\n",
       "       99633, 99641, 99650, 99655, 99661, 99663, 99667, 99671, 99678,\n",
       "       99684, 99686, 99692, 99696, 99699, 99703, 99708, 99709, 99711,\n",
       "       99719, 99722, 99725, 99733, 99736, 99741, 99744, 99747, 99749,\n",
       "       99753, 99755, 99757, 99762, 99766, 99770, 99775, 99777, 99780,\n",
       "       99782, 99786, 99789, 99790, 99791, 99794, 99797, 99799, 99805,\n",
       "       99806, 99811, 99813, 99815, 99818, 99821, 99824, 99826, 99827,\n",
       "       99829, 99831, 99834, 99837, 99838, 99841, 99843, 99844, 99846,\n",
       "       99847, 99849, 99851, 99852, 99854, 99855, 99856, 99857, 99862,\n",
       "       99866, 99872, 99873, 99876, 99878, 99880, 99882, 99884, 99885,\n",
       "       99888, 99889, 99890, 99891, 99893, 99894, 99896, 99898, 99900,\n",
       "       99903, 99904, 99906, 99907, 99908, 99910, 99911, 99913, 99914,\n",
       "       99915, 99917, 99919, 99920, 99921, 99922, 99924, 99925, 99926,\n",
       "       99927, 99928, 99930, 99931, 99932, 99933, 99935, 99937, 99938,\n",
       "       99939, 99940, 99941, 99943, 99944, 99946, 99947, 99948, 99950,\n",
       "       99953, 99954, 99956, 99957, 99958, 99959, 99960, 99961, 99962,\n",
       "       99964, 99965, 99966, 99967, 99968, 99969, 99970, 99973, 99974,\n",
       "       99975, 99976, 99977, 99979, 99980, 99982, 99983, 99984, 99985,\n",
       "       99986, 99987, 99988, 99989, 99990, 99991, 99992, 99993, 99994,\n",
       "       99995, 99996, 99997, 99998, 99999])"
      ]
     },
     "execution_count": 46,
     "metadata": {},
     "output_type": "execute_result"
    }
   ],
   "source": [
    "idx"
   ]
  },
  {
   "cell_type": "code",
   "execution_count": 9,
   "metadata": {
    "ExecuteTime": {
     "end_time": "2021-03-26T10:35:29.362538Z",
     "start_time": "2021-03-26T10:35:27.793989Z"
    }
   },
   "outputs": [
    {
     "name": "stderr",
     "output_type": "stream",
     "text": [
      "C:\\Users\\chris\\anaconda3\\lib\\site-packages\\sklearn\\utils\\deprecation.py:143: FutureWarning: The sklearn.preprocessing.data module is  deprecated in version 0.22 and will be removed in version 0.24. The corresponding classes / functions should instead be imported from sklearn.preprocessing. Anything that cannot be imported from sklearn.preprocessing is now part of the private API.\n",
      "  warnings.warn(message, FutureWarning)\n",
      "C:\\Users\\chris\\anaconda3\\lib\\site-packages\\sklearn\\base.py:329: UserWarning: Trying to unpickle estimator RobustScaler from version 0.19.1 when using version 0.23.2. This might lead to breaking code or invalid results. Use at your own risk.\n",
      "  warnings.warn(\n"
     ]
    }
   ],
   "source": [
    "import pickle\n",
    "transformers = pickle.load(open('../db_files/muongun/transformers.pkl', 'rb'))\n",
    "trans_x      = transformers['features']\n",
    "trans_y      = transformers['truth']"
   ]
  },
  {
   "cell_type": "code",
   "execution_count": 12,
   "metadata": {
    "ExecuteTime": {
     "end_time": "2021-03-26T10:45:16.454190Z",
     "start_time": "2021-03-26T10:45:16.446185Z"
    }
   },
   "outputs": [
    {
     "name": "stdout",
     "output_type": "stream",
     "text": [
      "Help on RobustScaler in module sklearn.preprocessing._data object:\n",
      "\n",
      "class RobustScaler(sklearn.base.TransformerMixin, sklearn.base.BaseEstimator)\n",
      " |  RobustScaler(*, with_centering=True, with_scaling=True, quantile_range=(25.0, 75.0), copy=True)\n",
      " |  \n",
      " |  Scale features using statistics that are robust to outliers.\n",
      " |  \n",
      " |  This Scaler removes the median and scales the data according to\n",
      " |  the quantile range (defaults to IQR: Interquartile Range).\n",
      " |  The IQR is the range between the 1st quartile (25th quantile)\n",
      " |  and the 3rd quartile (75th quantile).\n",
      " |  \n",
      " |  Centering and scaling happen independently on each feature by\n",
      " |  computing the relevant statistics on the samples in the training\n",
      " |  set. Median and interquartile range are then stored to be used on\n",
      " |  later data using the ``transform`` method.\n",
      " |  \n",
      " |  Standardization of a dataset is a common requirement for many\n",
      " |  machine learning estimators. Typically this is done by removing the mean\n",
      " |  and scaling to unit variance. However, outliers can often influence the\n",
      " |  sample mean / variance in a negative way. In such cases, the median and\n",
      " |  the interquartile range often give better results.\n",
      " |  \n",
      " |  .. versionadded:: 0.17\n",
      " |  \n",
      " |  Read more in the :ref:`User Guide <preprocessing_scaler>`.\n",
      " |  \n",
      " |  Parameters\n",
      " |  ----------\n",
      " |  with_centering : boolean, True by default\n",
      " |      If True, center the data before scaling.\n",
      " |      This will cause ``transform`` to raise an exception when attempted on\n",
      " |      sparse matrices, because centering them entails building a dense\n",
      " |      matrix which in common use cases is likely to be too large to fit in\n",
      " |      memory.\n",
      " |  \n",
      " |  with_scaling : boolean, True by default\n",
      " |      If True, scale the data to interquartile range.\n",
      " |  \n",
      " |  quantile_range : tuple (q_min, q_max), 0.0 < q_min < q_max < 100.0\n",
      " |      Default: (25.0, 75.0) = (1st quantile, 3rd quantile) = IQR\n",
      " |      Quantile range used to calculate ``scale_``.\n",
      " |  \n",
      " |      .. versionadded:: 0.18\n",
      " |  \n",
      " |  copy : boolean, optional, default is True\n",
      " |      If False, try to avoid a copy and do inplace scaling instead.\n",
      " |      This is not guaranteed to always work inplace; e.g. if the data is\n",
      " |      not a NumPy array or scipy.sparse CSR matrix, a copy may still be\n",
      " |      returned.\n",
      " |  \n",
      " |  Attributes\n",
      " |  ----------\n",
      " |  center_ : array of floats\n",
      " |      The median value for each feature in the training set.\n",
      " |  \n",
      " |  scale_ : array of floats\n",
      " |      The (scaled) interquartile range for each feature in the training set.\n",
      " |  \n",
      " |      .. versionadded:: 0.17\n",
      " |         *scale_* attribute.\n",
      " |  \n",
      " |  Examples\n",
      " |  --------\n",
      " |  >>> from sklearn.preprocessing import RobustScaler\n",
      " |  >>> X = [[ 1., -2.,  2.],\n",
      " |  ...      [ -2.,  1.,  3.],\n",
      " |  ...      [ 4.,  1., -2.]]\n",
      " |  >>> transformer = RobustScaler().fit(X)\n",
      " |  >>> transformer\n",
      " |  RobustScaler()\n",
      " |  >>> transformer.transform(X)\n",
      " |  array([[ 0. , -2. ,  0. ],\n",
      " |         [-1. ,  0. ,  0.4],\n",
      " |         [ 1. ,  0. , -1.6]])\n",
      " |  \n",
      " |  See also\n",
      " |  --------\n",
      " |  robust_scale: Equivalent function without the estimator API.\n",
      " |  \n",
      " |  :class:`sklearn.decomposition.PCA`\n",
      " |      Further removes the linear correlation across features with\n",
      " |      'whiten=True'.\n",
      " |  \n",
      " |  Notes\n",
      " |  -----\n",
      " |  For a comparison of the different scalers, transformers, and normalizers,\n",
      " |  see :ref:`examples/preprocessing/plot_all_scaling.py\n",
      " |  <sphx_glr_auto_examples_preprocessing_plot_all_scaling.py>`.\n",
      " |  \n",
      " |  https://en.wikipedia.org/wiki/Median\n",
      " |  https://en.wikipedia.org/wiki/Interquartile_range\n",
      " |  \n",
      " |  Method resolution order:\n",
      " |      RobustScaler\n",
      " |      sklearn.base.TransformerMixin\n",
      " |      sklearn.base.BaseEstimator\n",
      " |      builtins.object\n",
      " |  \n",
      " |  Methods defined here:\n",
      " |  \n",
      " |  __init__(self, *, with_centering=True, with_scaling=True, quantile_range=(25.0, 75.0), copy=True)\n",
      " |      Initialize self.  See help(type(self)) for accurate signature.\n",
      " |  \n",
      " |  fit(self, X, y=None)\n",
      " |      Compute the median and quantiles to be used for scaling.\n",
      " |      \n",
      " |      Parameters\n",
      " |      ----------\n",
      " |      X : array-like, shape [n_samples, n_features]\n",
      " |          The data used to compute the median and quantiles\n",
      " |          used for later scaling along the features axis.\n",
      " |  \n",
      " |  inverse_transform(self, X)\n",
      " |      Scale back the data to the original representation\n",
      " |      \n",
      " |      Parameters\n",
      " |      ----------\n",
      " |      X : array-like\n",
      " |          The data used to scale along the specified axis.\n",
      " |  \n",
      " |  transform(self, X)\n",
      " |      Center and scale the data.\n",
      " |      \n",
      " |      Parameters\n",
      " |      ----------\n",
      " |      X : {array-like, sparse matrix}\n",
      " |          The data used to scale along the specified axis.\n",
      " |  \n",
      " |  ----------------------------------------------------------------------\n",
      " |  Methods inherited from sklearn.base.TransformerMixin:\n",
      " |  \n",
      " |  fit_transform(self, X, y=None, **fit_params)\n",
      " |      Fit to data, then transform it.\n",
      " |      \n",
      " |      Fits transformer to X and y with optional parameters fit_params\n",
      " |      and returns a transformed version of X.\n",
      " |      \n",
      " |      Parameters\n",
      " |      ----------\n",
      " |      X : {array-like, sparse matrix, dataframe} of shape                 (n_samples, n_features)\n",
      " |      \n",
      " |      y : ndarray of shape (n_samples,), default=None\n",
      " |          Target values.\n",
      " |      \n",
      " |      **fit_params : dict\n",
      " |          Additional fit parameters.\n",
      " |      \n",
      " |      Returns\n",
      " |      -------\n",
      " |      X_new : ndarray array of shape (n_samples, n_features_new)\n",
      " |          Transformed array.\n",
      " |  \n",
      " |  ----------------------------------------------------------------------\n",
      " |  Data descriptors inherited from sklearn.base.TransformerMixin:\n",
      " |  \n",
      " |  __dict__\n",
      " |      dictionary for instance variables (if defined)\n",
      " |  \n",
      " |  __weakref__\n",
      " |      list of weak references to the object (if defined)\n",
      " |  \n",
      " |  ----------------------------------------------------------------------\n",
      " |  Methods inherited from sklearn.base.BaseEstimator:\n",
      " |  \n",
      " |  __getstate__(self)\n",
      " |  \n",
      " |  __repr__(self, N_CHAR_MAX=700)\n",
      " |      Return repr(self).\n",
      " |  \n",
      " |  __setstate__(self, state)\n",
      " |  \n",
      " |  get_params(self, deep=True)\n",
      " |      Get parameters for this estimator.\n",
      " |      \n",
      " |      Parameters\n",
      " |      ----------\n",
      " |      deep : bool, default=True\n",
      " |          If True, will return the parameters for this estimator and\n",
      " |          contained subobjects that are estimators.\n",
      " |      \n",
      " |      Returns\n",
      " |      -------\n",
      " |      params : mapping of string to any\n",
      " |          Parameter names mapped to their values.\n",
      " |  \n",
      " |  set_params(self, **params)\n",
      " |      Set the parameters of this estimator.\n",
      " |      \n",
      " |      The method works on simple estimators as well as on nested objects\n",
      " |      (such as pipelines). The latter have parameters of the form\n",
      " |      ``<component>__<parameter>`` so that it's possible to update each\n",
      " |      component of a nested object.\n",
      " |      \n",
      " |      Parameters\n",
      " |      ----------\n",
      " |      **params : dict\n",
      " |          Estimator parameters.\n",
      " |      \n",
      " |      Returns\n",
      " |      -------\n",
      " |      self : object\n",
      " |          Estimator instance.\n",
      "\n"
     ]
    }
   ],
   "source": [
    "help(transformers['features']['dom_x'])"
   ]
  }
 ],
 "metadata": {
  "hide_input": false,
  "kernelspec": {
   "display_name": "Python 3",
   "language": "python",
   "name": "python3"
  },
  "language_info": {
   "codemirror_mode": {
    "name": "ipython",
    "version": 3
   },
   "file_extension": ".py",
   "mimetype": "text/x-python",
   "name": "python",
   "nbconvert_exporter": "python",
   "pygments_lexer": "ipython3",
   "version": "3.8.5"
  }
 },
 "nbformat": 4,
 "nbformat_minor": 4
}
