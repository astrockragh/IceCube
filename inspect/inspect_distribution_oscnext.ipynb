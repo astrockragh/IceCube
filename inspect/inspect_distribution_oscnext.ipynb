{
 "cells": [
  {
   "cell_type": "code",
   "execution_count": 1,
   "metadata": {
    "ExecuteTime": {
     "end_time": "2021-06-01T13:42:10.830536Z",
     "start_time": "2021-06-01T13:42:07.869323Z"
    }
   },
   "outputs": [],
   "source": [
    "import sqlite3, os, sys, pickle\n",
    "import pandas as pd\n",
    "import tensorflow as tf\n",
    "import numpy as np\n",
    "from tqdm.notebook import tqdm\n",
    "import matplotlib.pyplot as plt"
   ]
  },
  {
   "cell_type": "code",
   "execution_count": 2,
   "metadata": {
    "ExecuteTime": {
     "end_time": "2021-06-01T13:42:10.846170Z",
     "start_time": "2021-06-01T13:42:10.830536Z"
    }
   },
   "outputs": [],
   "source": [
    "transform_path='../db_files/dev_lvl7/transformers.pkl'\n",
    "db_path= '../db_files/dev_lvl7/dev_lvl7_mu_nu_e_classification_v003.db'"
   ]
  },
  {
   "cell_type": "code",
   "execution_count": 3,
   "metadata": {
    "ExecuteTime": {
     "end_time": "2021-06-01T13:42:10.876087Z",
     "start_time": "2021-06-01T13:42:10.849160Z"
    }
   },
   "outputs": [],
   "source": [
    "conn = sqlite3.connect(db_path)"
   ]
  },
  {
   "cell_type": "code",
   "execution_count": 4,
   "metadata": {
    "ExecuteTime": {
     "end_time": "2021-06-01T13:42:10.892106Z",
     "start_time": "2021-06-01T13:42:10.878119Z"
    }
   },
   "outputs": [],
   "source": [
    "cursor = conn.cursor()"
   ]
  },
  {
   "cell_type": "code",
   "execution_count": 5,
   "metadata": {
    "ExecuteTime": {
     "end_time": "2021-06-01T13:42:10.908003Z",
     "start_time": "2021-06-01T13:42:10.894041Z"
    }
   },
   "outputs": [
    {
     "data": {
      "text/plain": [
       "<sqlite3.Cursor at 0x1c2113de570>"
      ]
     },
     "execution_count": 5,
     "metadata": {},
     "output_type": "execute_result"
    }
   ],
   "source": [
    "cursor.execute(f\"SELECT name FROM sqlite_master WHERE type='table';\")"
   ]
  },
  {
   "cell_type": "code",
   "execution_count": 6,
   "metadata": {
    "ExecuteTime": {
     "end_time": "2021-06-01T13:42:10.923994Z",
     "start_time": "2021-06-01T13:42:10.909998Z"
    }
   },
   "outputs": [
    {
     "name": "stdout",
     "output_type": "stream",
     "text": [
      "[('truth',), ('features',)]\n"
     ]
    }
   ],
   "source": [
    "print(cursor.fetchall())"
   ]
  },
  {
   "cell_type": "code",
   "execution_count": 7,
   "metadata": {
    "ExecuteTime": {
     "end_time": "2021-06-01T13:42:11.113450Z",
     "start_time": "2021-06-01T13:42:10.926952Z"
    },
    "scrolled": false
   },
   "outputs": [
    {
     "data": {
      "text/html": [
       "<div>\n",
       "<style scoped>\n",
       "    .dataframe tbody tr th:only-of-type {\n",
       "        vertical-align: middle;\n",
       "    }\n",
       "\n",
       "    .dataframe tbody tr th {\n",
       "        vertical-align: top;\n",
       "    }\n",
       "\n",
       "    .dataframe thead th {\n",
       "        text-align: right;\n",
       "    }\n",
       "</style>\n",
       "<table border=\"1\" class=\"dataframe\">\n",
       "  <thead>\n",
       "    <tr style=\"text-align: right;\">\n",
       "      <th></th>\n",
       "      <th>event_no</th>\n",
       "      <th>charge_log10</th>\n",
       "      <th>dom_time</th>\n",
       "      <th>dom_x</th>\n",
       "      <th>dom_y</th>\n",
       "      <th>dom_z</th>\n",
       "      <th>width</th>\n",
       "      <th>pmt_area</th>\n",
       "      <th>rqe</th>\n",
       "    </tr>\n",
       "  </thead>\n",
       "  <tbody>\n",
       "    <tr>\n",
       "      <th>0</th>\n",
       "      <td>890000</td>\n",
       "      <td>-0.166667</td>\n",
       "      <td>-0.228464</td>\n",
       "      <td>1.804387</td>\n",
       "      <td>0.295441</td>\n",
       "      <td>-0.091291</td>\n",
       "      <td>0.0</td>\n",
       "      <td>0.0</td>\n",
       "      <td>-0.35</td>\n",
       "    </tr>\n",
       "    <tr>\n",
       "      <th>1</th>\n",
       "      <td>890000</td>\n",
       "      <td>-1.250000</td>\n",
       "      <td>-0.421348</td>\n",
       "      <td>1.804387</td>\n",
       "      <td>0.295441</td>\n",
       "      <td>-0.228671</td>\n",
       "      <td>0.0</td>\n",
       "      <td>0.0</td>\n",
       "      <td>-0.35</td>\n",
       "    </tr>\n",
       "    <tr>\n",
       "      <th>2</th>\n",
       "      <td>890000</td>\n",
       "      <td>0.583333</td>\n",
       "      <td>-0.387640</td>\n",
       "      <td>1.804387</td>\n",
       "      <td>0.295441</td>\n",
       "      <td>-0.228671</td>\n",
       "      <td>0.0</td>\n",
       "      <td>0.0</td>\n",
       "      <td>-0.35</td>\n",
       "    </tr>\n",
       "    <tr>\n",
       "      <th>3</th>\n",
       "      <td>890000</td>\n",
       "      <td>-0.583333</td>\n",
       "      <td>-0.501873</td>\n",
       "      <td>1.804387</td>\n",
       "      <td>0.295441</td>\n",
       "      <td>-0.366131</td>\n",
       "      <td>0.0</td>\n",
       "      <td>0.0</td>\n",
       "      <td>-0.35</td>\n",
       "    </tr>\n",
       "    <tr>\n",
       "      <th>4</th>\n",
       "      <td>890000</td>\n",
       "      <td>-0.083333</td>\n",
       "      <td>-0.492509</td>\n",
       "      <td>1.804387</td>\n",
       "      <td>0.295441</td>\n",
       "      <td>-0.366131</td>\n",
       "      <td>0.0</td>\n",
       "      <td>0.0</td>\n",
       "      <td>-0.35</td>\n",
       "    </tr>\n",
       "    <tr>\n",
       "      <th>...</th>\n",
       "      <td>...</td>\n",
       "      <td>...</td>\n",
       "      <td>...</td>\n",
       "      <td>...</td>\n",
       "      <td>...</td>\n",
       "      <td>...</td>\n",
       "      <td>...</td>\n",
       "      <td>...</td>\n",
       "      <td>...</td>\n",
       "    </tr>\n",
       "    <tr>\n",
       "      <th>95</th>\n",
       "      <td>890004</td>\n",
       "      <td>0.000000</td>\n",
       "      <td>0.900749</td>\n",
       "      <td>0.739183</td>\n",
       "      <td>0.875425</td>\n",
       "      <td>0.530551</td>\n",
       "      <td>1.0</td>\n",
       "      <td>0.0</td>\n",
       "      <td>0.00</td>\n",
       "    </tr>\n",
       "    <tr>\n",
       "      <th>96</th>\n",
       "      <td>890004</td>\n",
       "      <td>0.916667</td>\n",
       "      <td>0.947566</td>\n",
       "      <td>-0.682145</td>\n",
       "      <td>-0.190262</td>\n",
       "      <td>-0.113165</td>\n",
       "      <td>1.0</td>\n",
       "      <td>0.0</td>\n",
       "      <td>0.00</td>\n",
       "    </tr>\n",
       "    <tr>\n",
       "      <th>97</th>\n",
       "      <td>890004</td>\n",
       "      <td>-0.916667</td>\n",
       "      <td>0.007491</td>\n",
       "      <td>-0.682145</td>\n",
       "      <td>-0.190262</td>\n",
       "      <td>-1.018323</td>\n",
       "      <td>1.0</td>\n",
       "      <td>0.0</td>\n",
       "      <td>0.00</td>\n",
       "    </tr>\n",
       "    <tr>\n",
       "      <th>98</th>\n",
       "      <td>890004</td>\n",
       "      <td>-0.583333</td>\n",
       "      <td>-0.039326</td>\n",
       "      <td>-0.697867</td>\n",
       "      <td>0.671766</td>\n",
       "      <td>0.730648</td>\n",
       "      <td>1.0</td>\n",
       "      <td>0.0</td>\n",
       "      <td>0.00</td>\n",
       "    </tr>\n",
       "    <tr>\n",
       "      <th>99</th>\n",
       "      <td>890004</td>\n",
       "      <td>0.000000</td>\n",
       "      <td>-0.151685</td>\n",
       "      <td>-0.697867</td>\n",
       "      <td>0.671766</td>\n",
       "      <td>0.504399</td>\n",
       "      <td>0.0</td>\n",
       "      <td>0.0</td>\n",
       "      <td>0.00</td>\n",
       "    </tr>\n",
       "  </tbody>\n",
       "</table>\n",
       "<p>100 rows × 9 columns</p>\n",
       "</div>"
      ],
      "text/plain": [
       "    event_no  charge_log10  dom_time     dom_x     dom_y     dom_z  width  \\\n",
       "0     890000     -0.166667 -0.228464  1.804387  0.295441 -0.091291    0.0   \n",
       "1     890000     -1.250000 -0.421348  1.804387  0.295441 -0.228671    0.0   \n",
       "2     890000      0.583333 -0.387640  1.804387  0.295441 -0.228671    0.0   \n",
       "3     890000     -0.583333 -0.501873  1.804387  0.295441 -0.366131    0.0   \n",
       "4     890000     -0.083333 -0.492509  1.804387  0.295441 -0.366131    0.0   \n",
       "..       ...           ...       ...       ...       ...       ...    ...   \n",
       "95    890004      0.000000  0.900749  0.739183  0.875425  0.530551    1.0   \n",
       "96    890004      0.916667  0.947566 -0.682145 -0.190262 -0.113165    1.0   \n",
       "97    890004     -0.916667  0.007491 -0.682145 -0.190262 -1.018323    1.0   \n",
       "98    890004     -0.583333 -0.039326 -0.697867  0.671766  0.730648    1.0   \n",
       "99    890004      0.000000 -0.151685 -0.697867  0.671766  0.504399    0.0   \n",
       "\n",
       "    pmt_area   rqe  \n",
       "0        0.0 -0.35  \n",
       "1        0.0 -0.35  \n",
       "2        0.0 -0.35  \n",
       "3        0.0 -0.35  \n",
       "4        0.0 -0.35  \n",
       "..       ...   ...  \n",
       "95       0.0  0.00  \n",
       "96       0.0  0.00  \n",
       "97       0.0  0.00  \n",
       "98       0.0  0.00  \n",
       "99       0.0  0.00  \n",
       "\n",
       "[100 rows x 9 columns]"
      ]
     },
     "execution_count": 7,
     "metadata": {},
     "output_type": "execute_result"
    }
   ],
   "source": [
    "feat=[\"dom_x\", \"dom_y\", \"dom_z\", \"dom_time\", \"charge_log10\", \"width\", \"rqe\"]\n",
    "df_feat=pd.read_sql(\"select * from features limit 100\", conn)\n",
    "df_feat"
   ]
  },
  {
   "cell_type": "code",
   "execution_count": 8,
   "metadata": {
    "ExecuteTime": {
     "end_time": "2021-06-01T13:42:11.457655Z",
     "start_time": "2021-06-01T13:42:11.116443Z"
    }
   },
   "outputs": [
    {
     "name": "stdout",
     "output_type": "stream",
     "text": [
      "Reading sets\n"
     ]
    }
   ],
   "source": [
    "import pandas as pd\n",
    "def get_event_no():\n",
    "        print('Reading sets')\n",
    "        sets = pd.read_pickle('../db_files/dev_lvl7/sets.pkl')\n",
    "        train_events = sets['train']\n",
    "        test_events = sets['test']\n",
    "        return train_events['event_no'].to_numpy(), test_events['event_no'].to_numpy()\n",
    "train_events, test_events=get_event_no()"
   ]
  },
  {
   "cell_type": "code",
   "execution_count": 9,
   "metadata": {
    "ExecuteTime": {
     "end_time": "2021-06-01T13:42:12.412189Z",
     "start_time": "2021-06-01T13:42:12.397200Z"
    }
   },
   "outputs": [],
   "source": [
    "# targets= [\"energy_log10\", \"zenith\",\"azimuth\"]\n",
    "# target_call  = \", \".join(targets)\n",
    "# df_truth=pd.read_sql(f\"select {target_call}, event_no,pid from truth\", conn)\n",
    "# df_truth"
   ]
  },
  {
   "cell_type": "code",
   "execution_count": 15,
   "metadata": {
    "ExecuteTime": {
     "end_time": "2021-06-01T13:44:20.058456Z",
     "start_time": "2021-06-01T13:43:31.758353Z"
    }
   },
   "outputs": [
    {
     "data": {
      "text/html": [
       "<div>\n",
       "<style scoped>\n",
       "    .dataframe tbody tr th:only-of-type {\n",
       "        vertical-align: middle;\n",
       "    }\n",
       "\n",
       "    .dataframe tbody tr th {\n",
       "        vertical-align: top;\n",
       "    }\n",
       "\n",
       "    .dataframe thead th {\n",
       "        text-align: right;\n",
       "    }\n",
       "</style>\n",
       "<table border=\"1\" class=\"dataframe\">\n",
       "  <thead>\n",
       "    <tr style=\"text-align: right;\">\n",
       "      <th></th>\n",
       "      <th>event_no</th>\n",
       "      <th>energy_log10</th>\n",
       "      <th>position_x</th>\n",
       "      <th>position_y</th>\n",
       "      <th>position_z</th>\n",
       "      <th>azimuth</th>\n",
       "      <th>zenith</th>\n",
       "      <th>pid</th>\n",
       "      <th>event_time</th>\n",
       "      <th>sim_type</th>\n",
       "      <th>...</th>\n",
       "      <th>position_y_sigma</th>\n",
       "      <th>position_z_sigma</th>\n",
       "      <th>time_sigma</th>\n",
       "      <th>zenith_sigma</th>\n",
       "      <th>energy_log10_sigma</th>\n",
       "      <th>osc_weight</th>\n",
       "      <th>interaction_type</th>\n",
       "      <th>elasticity</th>\n",
       "      <th>lvl7_probnu</th>\n",
       "      <th>lvl4_probnu</th>\n",
       "    </tr>\n",
       "  </thead>\n",
       "  <tbody>\n",
       "    <tr>\n",
       "      <th>0</th>\n",
       "      <td>890001</td>\n",
       "      <td>-0.441437</td>\n",
       "      <td>0.643839</td>\n",
       "      <td>-0.141157</td>\n",
       "      <td>-0.453423</td>\n",
       "      <td>-0.200505</td>\n",
       "      <td>-0.941708</td>\n",
       "      <td>-14</td>\n",
       "      <td>1.087909e+17</td>\n",
       "      <td>genie</td>\n",
       "      <td>...</td>\n",
       "      <td>2.105354</td>\n",
       "      <td>0.888275</td>\n",
       "      <td>9.478516</td>\n",
       "      <td>0.100220</td>\n",
       "      <td>0.775002</td>\n",
       "      <td>5.170306e-07</td>\n",
       "      <td>1</td>\n",
       "      <td>-0.512261</td>\n",
       "      <td>0.279743</td>\n",
       "      <td>0.239842</td>\n",
       "    </tr>\n",
       "    <tr>\n",
       "      <th>1</th>\n",
       "      <td>890002</td>\n",
       "      <td>-0.003176</td>\n",
       "      <td>1.119062</td>\n",
       "      <td>-0.412751</td>\n",
       "      <td>-0.177144</td>\n",
       "      <td>-0.905742</td>\n",
       "      <td>-0.044677</td>\n",
       "      <td>-14</td>\n",
       "      <td>1.087909e+17</td>\n",
       "      <td>genie</td>\n",
       "      <td>...</td>\n",
       "      <td>6.747589</td>\n",
       "      <td>3.964355</td>\n",
       "      <td>14.840820</td>\n",
       "      <td>0.277464</td>\n",
       "      <td>2.979291</td>\n",
       "      <td>9.270373e-07</td>\n",
       "      <td>1</td>\n",
       "      <td>-0.406939</td>\n",
       "      <td>0.188015</td>\n",
       "      <td>-0.093930</td>\n",
       "    </tr>\n",
       "    <tr>\n",
       "      <th>2</th>\n",
       "      <td>890005</td>\n",
       "      <td>0.125159</td>\n",
       "      <td>-0.732908</td>\n",
       "      <td>-0.414327</td>\n",
       "      <td>-0.897714</td>\n",
       "      <td>0.129592</td>\n",
       "      <td>0.955679</td>\n",
       "      <td>-14</td>\n",
       "      <td>1.087909e+17</td>\n",
       "      <td>genie</td>\n",
       "      <td>...</td>\n",
       "      <td>0.321205</td>\n",
       "      <td>1.276001</td>\n",
       "      <td>14.208008</td>\n",
       "      <td>0.026136</td>\n",
       "      <td>0.543346</td>\n",
       "      <td>4.593662e-08</td>\n",
       "      <td>1</td>\n",
       "      <td>-0.216734</td>\n",
       "      <td>0.463988</td>\n",
       "      <td>0.416724</td>\n",
       "    </tr>\n",
       "    <tr>\n",
       "      <th>3</th>\n",
       "      <td>890008</td>\n",
       "      <td>0.185702</td>\n",
       "      <td>0.412762</td>\n",
       "      <td>-1.269014</td>\n",
       "      <td>1.050416</td>\n",
       "      <td>0.419824</td>\n",
       "      <td>-0.435551</td>\n",
       "      <td>14</td>\n",
       "      <td>1.087909e+17</td>\n",
       "      <td>genie</td>\n",
       "      <td>...</td>\n",
       "      <td>11.383873</td>\n",
       "      <td>4.692078</td>\n",
       "      <td>12.465820</td>\n",
       "      <td>0.128765</td>\n",
       "      <td>0.698667</td>\n",
       "      <td>7.431805e-07</td>\n",
       "      <td>1</td>\n",
       "      <td>-0.561419</td>\n",
       "      <td>-1.032259</td>\n",
       "      <td>-1.420656</td>\n",
       "    </tr>\n",
       "    <tr>\n",
       "      <th>4</th>\n",
       "      <td>890011</td>\n",
       "      <td>0.120804</td>\n",
       "      <td>0.372697</td>\n",
       "      <td>1.911024</td>\n",
       "      <td>-0.573592</td>\n",
       "      <td>-0.362099</td>\n",
       "      <td>-0.450052</td>\n",
       "      <td>14</td>\n",
       "      <td>1.087909e+17</td>\n",
       "      <td>genie</td>\n",
       "      <td>...</td>\n",
       "      <td>31.229164</td>\n",
       "      <td>15.577087</td>\n",
       "      <td>153.835938</td>\n",
       "      <td>0.201630</td>\n",
       "      <td>5.655249</td>\n",
       "      <td>7.357052e-07</td>\n",
       "      <td>1</td>\n",
       "      <td>-0.319579</td>\n",
       "      <td>-1.020791</td>\n",
       "      <td>-0.554056</td>\n",
       "    </tr>\n",
       "    <tr>\n",
       "      <th>...</th>\n",
       "      <td>...</td>\n",
       "      <td>...</td>\n",
       "      <td>...</td>\n",
       "      <td>...</td>\n",
       "      <td>...</td>\n",
       "      <td>...</td>\n",
       "      <td>...</td>\n",
       "      <td>...</td>\n",
       "      <td>...</td>\n",
       "      <td>...</td>\n",
       "      <td>...</td>\n",
       "      <td>...</td>\n",
       "      <td>...</td>\n",
       "      <td>...</td>\n",
       "      <td>...</td>\n",
       "      <td>...</td>\n",
       "      <td>...</td>\n",
       "      <td>...</td>\n",
       "      <td>...</td>\n",
       "      <td>...</td>\n",
       "      <td>...</td>\n",
       "    </tr>\n",
       "    <tr>\n",
       "      <th>1658357</th>\n",
       "      <td>7635127</td>\n",
       "      <td>-0.172270</td>\n",
       "      <td>0.423944</td>\n",
       "      <td>0.914388</td>\n",
       "      <td>0.431136</td>\n",
       "      <td>-0.227972</td>\n",
       "      <td>-0.052455</td>\n",
       "      <td>12</td>\n",
       "      <td>1.087909e+17</td>\n",
       "      <td>genie</td>\n",
       "      <td>...</td>\n",
       "      <td>20.276513</td>\n",
       "      <td>7.205688</td>\n",
       "      <td>73.976562</td>\n",
       "      <td>0.528542</td>\n",
       "      <td>3.580770</td>\n",
       "      <td>3.598772e-07</td>\n",
       "      <td>1</td>\n",
       "      <td>1.386665</td>\n",
       "      <td>-1.956711</td>\n",
       "      <td>-1.288728</td>\n",
       "    </tr>\n",
       "    <tr>\n",
       "      <th>1658358</th>\n",
       "      <td>7635128</td>\n",
       "      <td>0.508978</td>\n",
       "      <td>-0.496556</td>\n",
       "      <td>-0.913474</td>\n",
       "      <td>0.152495</td>\n",
       "      <td>0.017271</td>\n",
       "      <td>0.877638</td>\n",
       "      <td>-12</td>\n",
       "      <td>1.087909e+17</td>\n",
       "      <td>genie</td>\n",
       "      <td>...</td>\n",
       "      <td>3.832886</td>\n",
       "      <td>1.567505</td>\n",
       "      <td>8.981445</td>\n",
       "      <td>0.178427</td>\n",
       "      <td>1.800573</td>\n",
       "      <td>3.693625e-08</td>\n",
       "      <td>1</td>\n",
       "      <td>0.441571</td>\n",
       "      <td>-1.467892</td>\n",
       "      <td>-2.519628</td>\n",
       "    </tr>\n",
       "    <tr>\n",
       "      <th>1658359</th>\n",
       "      <td>7635132</td>\n",
       "      <td>0.113620</td>\n",
       "      <td>0.403041</td>\n",
       "      <td>0.459651</td>\n",
       "      <td>0.190319</td>\n",
       "      <td>0.407929</td>\n",
       "      <td>0.055036</td>\n",
       "      <td>12</td>\n",
       "      <td>1.087909e+17</td>\n",
       "      <td>genie</td>\n",
       "      <td>...</td>\n",
       "      <td>7.209063</td>\n",
       "      <td>8.768372</td>\n",
       "      <td>23.276367</td>\n",
       "      <td>0.232988</td>\n",
       "      <td>1.569021</td>\n",
       "      <td>2.035631e-07</td>\n",
       "      <td>1</td>\n",
       "      <td>-0.603479</td>\n",
       "      <td>-0.111391</td>\n",
       "      <td>-0.085523</td>\n",
       "    </tr>\n",
       "    <tr>\n",
       "      <th>1658360</th>\n",
       "      <td>7635137</td>\n",
       "      <td>-0.169711</td>\n",
       "      <td>-0.269738</td>\n",
       "      <td>-0.250571</td>\n",
       "      <td>0.058395</td>\n",
       "      <td>0.285293</td>\n",
       "      <td>-0.168473</td>\n",
       "      <td>-12</td>\n",
       "      <td>1.087909e+17</td>\n",
       "      <td>genie</td>\n",
       "      <td>...</td>\n",
       "      <td>4.154953</td>\n",
       "      <td>4.116791</td>\n",
       "      <td>11.160156</td>\n",
       "      <td>0.240992</td>\n",
       "      <td>2.925443</td>\n",
       "      <td>3.811419e-07</td>\n",
       "      <td>1</td>\n",
       "      <td>0.153087</td>\n",
       "      <td>0.426465</td>\n",
       "      <td>-0.363308</td>\n",
       "    </tr>\n",
       "    <tr>\n",
       "      <th>1658361</th>\n",
       "      <td>7635138</td>\n",
       "      <td>0.143748</td>\n",
       "      <td>0.673729</td>\n",
       "      <td>1.191673</td>\n",
       "      <td>0.926401</td>\n",
       "      <td>-0.994639</td>\n",
       "      <td>0.388320</td>\n",
       "      <td>-12</td>\n",
       "      <td>1.087909e+17</td>\n",
       "      <td>genie</td>\n",
       "      <td>...</td>\n",
       "      <td>11.808540</td>\n",
       "      <td>6.232849</td>\n",
       "      <td>32.654297</td>\n",
       "      <td>0.303684</td>\n",
       "      <td>7.789894</td>\n",
       "      <td>7.734388e-08</td>\n",
       "      <td>1</td>\n",
       "      <td>-0.063839</td>\n",
       "      <td>-1.963504</td>\n",
       "      <td>-0.811034</td>\n",
       "    </tr>\n",
       "  </tbody>\n",
       "</table>\n",
       "<p>1658362 rows × 29 columns</p>\n",
       "</div>"
      ],
      "text/plain": [
       "         event_no  energy_log10  position_x  position_y  position_z   azimuth  \\\n",
       "0          890001     -0.441437    0.643839   -0.141157   -0.453423 -0.200505   \n",
       "1          890002     -0.003176    1.119062   -0.412751   -0.177144 -0.905742   \n",
       "2          890005      0.125159   -0.732908   -0.414327   -0.897714  0.129592   \n",
       "3          890008      0.185702    0.412762   -1.269014    1.050416  0.419824   \n",
       "4          890011      0.120804    0.372697    1.911024   -0.573592 -0.362099   \n",
       "...           ...           ...         ...         ...         ...       ...   \n",
       "1658357   7635127     -0.172270    0.423944    0.914388    0.431136 -0.227972   \n",
       "1658358   7635128      0.508978   -0.496556   -0.913474    0.152495  0.017271   \n",
       "1658359   7635132      0.113620    0.403041    0.459651    0.190319  0.407929   \n",
       "1658360   7635137     -0.169711   -0.269738   -0.250571    0.058395  0.285293   \n",
       "1658361   7635138      0.143748    0.673729    1.191673    0.926401 -0.994639   \n",
       "\n",
       "           zenith  pid    event_time sim_type  ...  position_y_sigma  \\\n",
       "0       -0.941708  -14  1.087909e+17    genie  ...          2.105354   \n",
       "1       -0.044677  -14  1.087909e+17    genie  ...          6.747589   \n",
       "2        0.955679  -14  1.087909e+17    genie  ...          0.321205   \n",
       "3       -0.435551   14  1.087909e+17    genie  ...         11.383873   \n",
       "4       -0.450052   14  1.087909e+17    genie  ...         31.229164   \n",
       "...           ...  ...           ...      ...  ...               ...   \n",
       "1658357 -0.052455   12  1.087909e+17    genie  ...         20.276513   \n",
       "1658358  0.877638  -12  1.087909e+17    genie  ...          3.832886   \n",
       "1658359  0.055036   12  1.087909e+17    genie  ...          7.209063   \n",
       "1658360 -0.168473  -12  1.087909e+17    genie  ...          4.154953   \n",
       "1658361  0.388320  -12  1.087909e+17    genie  ...         11.808540   \n",
       "\n",
       "         position_z_sigma  time_sigma  zenith_sigma  energy_log10_sigma  \\\n",
       "0                0.888275    9.478516      0.100220            0.775002   \n",
       "1                3.964355   14.840820      0.277464            2.979291   \n",
       "2                1.276001   14.208008      0.026136            0.543346   \n",
       "3                4.692078   12.465820      0.128765            0.698667   \n",
       "4               15.577087  153.835938      0.201630            5.655249   \n",
       "...                   ...         ...           ...                 ...   \n",
       "1658357          7.205688   73.976562      0.528542            3.580770   \n",
       "1658358          1.567505    8.981445      0.178427            1.800573   \n",
       "1658359          8.768372   23.276367      0.232988            1.569021   \n",
       "1658360          4.116791   11.160156      0.240992            2.925443   \n",
       "1658361          6.232849   32.654297      0.303684            7.789894   \n",
       "\n",
       "           osc_weight  interaction_type  elasticity  lvl7_probnu  lvl4_probnu  \n",
       "0        5.170306e-07                 1   -0.512261     0.279743     0.239842  \n",
       "1        9.270373e-07                 1   -0.406939     0.188015    -0.093930  \n",
       "2        4.593662e-08                 1   -0.216734     0.463988     0.416724  \n",
       "3        7.431805e-07                 1   -0.561419    -1.032259    -1.420656  \n",
       "4        7.357052e-07                 1   -0.319579    -1.020791    -0.554056  \n",
       "...               ...               ...         ...          ...          ...  \n",
       "1658357  3.598772e-07                 1    1.386665    -1.956711    -1.288728  \n",
       "1658358  3.693625e-08                 1    0.441571    -1.467892    -2.519628  \n",
       "1658359  2.035631e-07                 1   -0.603479    -0.111391    -0.085523  \n",
       "1658360  3.811419e-07                 1    0.153087     0.426465    -0.363308  \n",
       "1658361  7.734388e-08                 1   -0.063839    -1.963504    -0.811034  \n",
       "\n",
       "[1658362 rows x 29 columns]"
      ]
     },
     "execution_count": 15,
     "metadata": {},
     "output_type": "execute_result"
    }
   ],
   "source": [
    "df_truth=pd.read_sql(f\"select * from truth where event_no in {tuple(test_events)}\", conn)\n",
    "cols=df_truth.columns"
   ]
  },
  {
   "cell_type": "code",
   "execution_count": 16,
   "metadata": {
    "ExecuteTime": {
     "end_time": "2021-06-01T13:44:50.426914Z",
     "start_time": "2021-06-01T13:44:49.624655Z"
    }
   },
   "outputs": [
    {
     "data": {
      "text/html": [
       "<div>\n",
       "<style scoped>\n",
       "    .dataframe tbody tr th:only-of-type {\n",
       "        vertical-align: middle;\n",
       "    }\n",
       "\n",
       "    .dataframe tbody tr th {\n",
       "        vertical-align: top;\n",
       "    }\n",
       "\n",
       "    .dataframe thead th {\n",
       "        text-align: right;\n",
       "    }\n",
       "</style>\n",
       "<table border=\"1\" class=\"dataframe\">\n",
       "  <thead>\n",
       "    <tr style=\"text-align: right;\">\n",
       "      <th></th>\n",
       "      <th>event_no</th>\n",
       "      <th>energy_log10</th>\n",
       "      <th>position_x</th>\n",
       "      <th>position_y</th>\n",
       "      <th>position_z</th>\n",
       "      <th>azimuth</th>\n",
       "      <th>zenith</th>\n",
       "      <th>pid</th>\n",
       "      <th>event_time</th>\n",
       "      <th>sim_type</th>\n",
       "      <th>...</th>\n",
       "      <th>position_y_sigma</th>\n",
       "      <th>position_z_sigma</th>\n",
       "      <th>time_sigma</th>\n",
       "      <th>zenith_sigma</th>\n",
       "      <th>energy_log10_sigma</th>\n",
       "      <th>osc_weight</th>\n",
       "      <th>interaction_type</th>\n",
       "      <th>elasticity</th>\n",
       "      <th>lvl7_probnu</th>\n",
       "      <th>lvl4_probnu</th>\n",
       "    </tr>\n",
       "  </thead>\n",
       "  <tbody>\n",
       "    <tr>\n",
       "      <th>758122</th>\n",
       "      <td>8</td>\n",
       "      <td>-1.344412</td>\n",
       "      <td>-0.809322</td>\n",
       "      <td>-0.541318</td>\n",
       "      <td>-0.009227</td>\n",
       "      <td>0.208109</td>\n",
       "      <td>-0.243922</td>\n",
       "      <td>-14</td>\n",
       "      <td>1.087909e+17</td>\n",
       "      <td>genie</td>\n",
       "      <td>...</td>\n",
       "      <td>6.952522</td>\n",
       "      <td>3.564056</td>\n",
       "      <td>34.441406</td>\n",
       "      <td>0.333950</td>\n",
       "      <td>2.176493</td>\n",
       "      <td>8.048285e-07</td>\n",
       "      <td>1</td>\n",
       "      <td>-0.209022</td>\n",
       "      <td>0.250243</td>\n",
       "      <td>0.319580</td>\n",
       "    </tr>\n",
       "    <tr>\n",
       "      <th>758123</th>\n",
       "      <td>10</td>\n",
       "      <td>-1.168419</td>\n",
       "      <td>0.910491</td>\n",
       "      <td>-0.382250</td>\n",
       "      <td>-0.150077</td>\n",
       "      <td>0.797508</td>\n",
       "      <td>0.631721</td>\n",
       "      <td>14</td>\n",
       "      <td>1.087909e+17</td>\n",
       "      <td>genie</td>\n",
       "      <td>...</td>\n",
       "      <td>10.989208</td>\n",
       "      <td>8.070496</td>\n",
       "      <td>37.034180</td>\n",
       "      <td>0.234389</td>\n",
       "      <td>0.976629</td>\n",
       "      <td>2.249167e-07</td>\n",
       "      <td>1</td>\n",
       "      <td>-0.653041</td>\n",
       "      <td>0.275743</td>\n",
       "      <td>0.453825</td>\n",
       "    </tr>\n",
       "    <tr>\n",
       "      <th>758124</th>\n",
       "      <td>15</td>\n",
       "      <td>-1.290292</td>\n",
       "      <td>-0.019227</td>\n",
       "      <td>0.883341</td>\n",
       "      <td>0.199310</td>\n",
       "      <td>-0.596888</td>\n",
       "      <td>-0.035944</td>\n",
       "      <td>14</td>\n",
       "      <td>1.087909e+17</td>\n",
       "      <td>genie</td>\n",
       "      <td>...</td>\n",
       "      <td>6.814346</td>\n",
       "      <td>3.320587</td>\n",
       "      <td>37.824219</td>\n",
       "      <td>0.103806</td>\n",
       "      <td>1.587005</td>\n",
       "      <td>3.752565e-08</td>\n",
       "      <td>1</td>\n",
       "      <td>-0.115829</td>\n",
       "      <td>0.238741</td>\n",
       "      <td>0.332233</td>\n",
       "    </tr>\n",
       "    <tr>\n",
       "      <th>758125</th>\n",
       "      <td>29</td>\n",
       "      <td>-1.647346</td>\n",
       "      <td>0.851119</td>\n",
       "      <td>-0.257713</td>\n",
       "      <td>-0.532190</td>\n",
       "      <td>-0.933608</td>\n",
       "      <td>1.118101</td>\n",
       "      <td>-14</td>\n",
       "      <td>1.087909e+17</td>\n",
       "      <td>genie</td>\n",
       "      <td>...</td>\n",
       "      <td>11.710121</td>\n",
       "      <td>2.305054</td>\n",
       "      <td>30.969727</td>\n",
       "      <td>0.289428</td>\n",
       "      <td>1.336768</td>\n",
       "      <td>4.494020e-07</td>\n",
       "      <td>1</td>\n",
       "      <td>1.027427</td>\n",
       "      <td>0.074667</td>\n",
       "      <td>0.470918</td>\n",
       "    </tr>\n",
       "    <tr>\n",
       "      <th>758126</th>\n",
       "      <td>32</td>\n",
       "      <td>-1.165012</td>\n",
       "      <td>-0.892836</td>\n",
       "      <td>-0.492865</td>\n",
       "      <td>0.261180</td>\n",
       "      <td>0.298791</td>\n",
       "      <td>0.206168</td>\n",
       "      <td>14</td>\n",
       "      <td>1.087909e+17</td>\n",
       "      <td>genie</td>\n",
       "      <td>...</td>\n",
       "      <td>6.501472</td>\n",
       "      <td>1.657043</td>\n",
       "      <td>16.234375</td>\n",
       "      <td>0.112817</td>\n",
       "      <td>0.781923</td>\n",
       "      <td>5.318767e-07</td>\n",
       "      <td>1</td>\n",
       "      <td>-0.453342</td>\n",
       "      <td>0.137343</td>\n",
       "      <td>0.431267</td>\n",
       "    </tr>\n",
       "    <tr>\n",
       "      <th>...</th>\n",
       "      <td>...</td>\n",
       "      <td>...</td>\n",
       "      <td>...</td>\n",
       "      <td>...</td>\n",
       "      <td>...</td>\n",
       "      <td>...</td>\n",
       "      <td>...</td>\n",
       "      <td>...</td>\n",
       "      <td>...</td>\n",
       "      <td>...</td>\n",
       "      <td>...</td>\n",
       "      <td>...</td>\n",
       "      <td>...</td>\n",
       "      <td>...</td>\n",
       "      <td>...</td>\n",
       "      <td>...</td>\n",
       "      <td>...</td>\n",
       "      <td>...</td>\n",
       "      <td>...</td>\n",
       "      <td>...</td>\n",
       "      <td>...</td>\n",
       "    </tr>\n",
       "    <tr>\n",
       "      <th>1237455</th>\n",
       "      <td>117104746</td>\n",
       "      <td>1.622408</td>\n",
       "      <td>8.430828</td>\n",
       "      <td>-0.691152</td>\n",
       "      <td>4.682264</td>\n",
       "      <td>0.913645</td>\n",
       "      <td>-0.717201</td>\n",
       "      <td>13</td>\n",
       "      <td>1.087909e+17</td>\n",
       "      <td>muongun</td>\n",
       "      <td>...</td>\n",
       "      <td>7.082050</td>\n",
       "      <td>7.532394</td>\n",
       "      <td>20.564453</td>\n",
       "      <td>0.129756</td>\n",
       "      <td>2.571375</td>\n",
       "      <td>1.002863e-04</td>\n",
       "      <td>-1</td>\n",
       "      <td>-2.781719</td>\n",
       "      <td>-2.189187</td>\n",
       "      <td>-2.607205</td>\n",
       "    </tr>\n",
       "    <tr>\n",
       "      <th>1237456</th>\n",
       "      <td>117104747</td>\n",
       "      <td>1.531709</td>\n",
       "      <td>4.393672</td>\n",
       "      <td>-6.200667</td>\n",
       "      <td>1.037356</td>\n",
       "      <td>0.673102</td>\n",
       "      <td>-0.622303</td>\n",
       "      <td>13</td>\n",
       "      <td>1.087909e+17</td>\n",
       "      <td>muongun</td>\n",
       "      <td>...</td>\n",
       "      <td>30.981434</td>\n",
       "      <td>21.288361</td>\n",
       "      <td>161.875977</td>\n",
       "      <td>0.366958</td>\n",
       "      <td>13.713753</td>\n",
       "      <td>3.080043e-05</td>\n",
       "      <td>-1</td>\n",
       "      <td>-2.781719</td>\n",
       "      <td>-0.494526</td>\n",
       "      <td>-2.899090</td>\n",
       "    </tr>\n",
       "    <tr>\n",
       "      <th>1237457</th>\n",
       "      <td>117104750</td>\n",
       "      <td>1.572207</td>\n",
       "      <td>-3.597107</td>\n",
       "      <td>-7.007972</td>\n",
       "      <td>4.113646</td>\n",
       "      <td>0.396452</td>\n",
       "      <td>-0.795468</td>\n",
       "      <td>13</td>\n",
       "      <td>1.087909e+17</td>\n",
       "      <td>muongun</td>\n",
       "      <td>...</td>\n",
       "      <td>15.737572</td>\n",
       "      <td>14.672882</td>\n",
       "      <td>109.399414</td>\n",
       "      <td>0.670685</td>\n",
       "      <td>7.252653</td>\n",
       "      <td>8.596824e-05</td>\n",
       "      <td>-1</td>\n",
       "      <td>-2.781719</td>\n",
       "      <td>-1.000318</td>\n",
       "      <td>-0.505629</td>\n",
       "    </tr>\n",
       "    <tr>\n",
       "      <th>1237458</th>\n",
       "      <td>117104752</td>\n",
       "      <td>1.608613</td>\n",
       "      <td>0.108767</td>\n",
       "      <td>8.264797</td>\n",
       "      <td>5.181057</td>\n",
       "      <td>-0.492953</td>\n",
       "      <td>-0.760775</td>\n",
       "      <td>13</td>\n",
       "      <td>1.087909e+17</td>\n",
       "      <td>muongun</td>\n",
       "      <td>...</td>\n",
       "      <td>6.459644</td>\n",
       "      <td>6.711639</td>\n",
       "      <td>19.122070</td>\n",
       "      <td>0.842007</td>\n",
       "      <td>5.029810</td>\n",
       "      <td>1.089017e-04</td>\n",
       "      <td>-1</td>\n",
       "      <td>-2.781719</td>\n",
       "      <td>-1.968466</td>\n",
       "      <td>-2.327189</td>\n",
       "    </tr>\n",
       "    <tr>\n",
       "      <th>1237459</th>\n",
       "      <td>117104758</td>\n",
       "      <td>1.553296</td>\n",
       "      <td>-1.173825</td>\n",
       "      <td>-7.451467</td>\n",
       "      <td>4.239304</td>\n",
       "      <td>0.475439</td>\n",
       "      <td>-0.829303</td>\n",
       "      <td>13</td>\n",
       "      <td>1.087909e+17</td>\n",
       "      <td>muongun</td>\n",
       "      <td>...</td>\n",
       "      <td>10.323013</td>\n",
       "      <td>5.528412</td>\n",
       "      <td>42.530273</td>\n",
       "      <td>0.103102</td>\n",
       "      <td>2.064669</td>\n",
       "      <td>1.066805e-04</td>\n",
       "      <td>-1</td>\n",
       "      <td>-2.781719</td>\n",
       "      <td>-2.018860</td>\n",
       "      <td>-2.860460</td>\n",
       "    </tr>\n",
       "  </tbody>\n",
       "</table>\n",
       "<p>1658362 rows × 29 columns</p>\n",
       "</div>"
      ],
      "text/plain": [
       "          event_no  energy_log10  position_x  position_y  position_z  \\\n",
       "758122           8     -1.344412   -0.809322   -0.541318   -0.009227   \n",
       "758123          10     -1.168419    0.910491   -0.382250   -0.150077   \n",
       "758124          15     -1.290292   -0.019227    0.883341    0.199310   \n",
       "758125          29     -1.647346    0.851119   -0.257713   -0.532190   \n",
       "758126          32     -1.165012   -0.892836   -0.492865    0.261180   \n",
       "...            ...           ...         ...         ...         ...   \n",
       "1237455  117104746      1.622408    8.430828   -0.691152    4.682264   \n",
       "1237456  117104747      1.531709    4.393672   -6.200667    1.037356   \n",
       "1237457  117104750      1.572207   -3.597107   -7.007972    4.113646   \n",
       "1237458  117104752      1.608613    0.108767    8.264797    5.181057   \n",
       "1237459  117104758      1.553296   -1.173825   -7.451467    4.239304   \n",
       "\n",
       "          azimuth    zenith  pid    event_time sim_type  ...  \\\n",
       "758122   0.208109 -0.243922  -14  1.087909e+17    genie  ...   \n",
       "758123   0.797508  0.631721   14  1.087909e+17    genie  ...   \n",
       "758124  -0.596888 -0.035944   14  1.087909e+17    genie  ...   \n",
       "758125  -0.933608  1.118101  -14  1.087909e+17    genie  ...   \n",
       "758126   0.298791  0.206168   14  1.087909e+17    genie  ...   \n",
       "...           ...       ...  ...           ...      ...  ...   \n",
       "1237455  0.913645 -0.717201   13  1.087909e+17  muongun  ...   \n",
       "1237456  0.673102 -0.622303   13  1.087909e+17  muongun  ...   \n",
       "1237457  0.396452 -0.795468   13  1.087909e+17  muongun  ...   \n",
       "1237458 -0.492953 -0.760775   13  1.087909e+17  muongun  ...   \n",
       "1237459  0.475439 -0.829303   13  1.087909e+17  muongun  ...   \n",
       "\n",
       "         position_y_sigma  position_z_sigma  time_sigma  zenith_sigma  \\\n",
       "758122           6.952522          3.564056   34.441406      0.333950   \n",
       "758123          10.989208          8.070496   37.034180      0.234389   \n",
       "758124           6.814346          3.320587   37.824219      0.103806   \n",
       "758125          11.710121          2.305054   30.969727      0.289428   \n",
       "758126           6.501472          1.657043   16.234375      0.112817   \n",
       "...                   ...               ...         ...           ...   \n",
       "1237455          7.082050          7.532394   20.564453      0.129756   \n",
       "1237456         30.981434         21.288361  161.875977      0.366958   \n",
       "1237457         15.737572         14.672882  109.399414      0.670685   \n",
       "1237458          6.459644          6.711639   19.122070      0.842007   \n",
       "1237459         10.323013          5.528412   42.530273      0.103102   \n",
       "\n",
       "         energy_log10_sigma    osc_weight  interaction_type  elasticity  \\\n",
       "758122             2.176493  8.048285e-07                 1   -0.209022   \n",
       "758123             0.976629  2.249167e-07                 1   -0.653041   \n",
       "758124             1.587005  3.752565e-08                 1   -0.115829   \n",
       "758125             1.336768  4.494020e-07                 1    1.027427   \n",
       "758126             0.781923  5.318767e-07                 1   -0.453342   \n",
       "...                     ...           ...               ...         ...   \n",
       "1237455            2.571375  1.002863e-04                -1   -2.781719   \n",
       "1237456           13.713753  3.080043e-05                -1   -2.781719   \n",
       "1237457            7.252653  8.596824e-05                -1   -2.781719   \n",
       "1237458            5.029810  1.089017e-04                -1   -2.781719   \n",
       "1237459            2.064669  1.066805e-04                -1   -2.781719   \n",
       "\n",
       "         lvl7_probnu  lvl4_probnu  \n",
       "758122      0.250243     0.319580  \n",
       "758123      0.275743     0.453825  \n",
       "758124      0.238741     0.332233  \n",
       "758125      0.074667     0.470918  \n",
       "758126      0.137343     0.431267  \n",
       "...              ...          ...  \n",
       "1237455    -2.189187    -2.607205  \n",
       "1237456    -0.494526    -2.899090  \n",
       "1237457    -1.000318    -0.505629  \n",
       "1237458    -1.968466    -2.327189  \n",
       "1237459    -2.018860    -2.860460  \n",
       "\n",
       "[1658362 rows x 29 columns]"
      ]
     },
     "execution_count": 16,
     "metadata": {},
     "output_type": "execute_result"
    }
   ],
   "source": [
    "df_truth.sort_values(by='event_no')"
   ]
  },
  {
   "cell_type": "code",
   "execution_count": 18,
   "metadata": {
    "ExecuteTime": {
     "end_time": "2021-06-01T13:45:45.135392Z",
     "start_time": "2021-06-01T13:45:44.455253Z"
    }
   },
   "outputs": [
    {
     "data": {
      "text/html": [
       "<div>\n",
       "<style scoped>\n",
       "    .dataframe tbody tr th:only-of-type {\n",
       "        vertical-align: middle;\n",
       "    }\n",
       "\n",
       "    .dataframe tbody tr th {\n",
       "        vertical-align: top;\n",
       "    }\n",
       "\n",
       "    .dataframe thead th {\n",
       "        text-align: right;\n",
       "    }\n",
       "</style>\n",
       "<table border=\"1\" class=\"dataframe\">\n",
       "  <thead>\n",
       "    <tr style=\"text-align: right;\">\n",
       "      <th></th>\n",
       "      <th>event_no</th>\n",
       "      <th>energy_log10</th>\n",
       "      <th>position_y</th>\n",
       "      <th>position_z</th>\n",
       "      <th>azimuth</th>\n",
       "      <th>zenith</th>\n",
       "      <th>pid</th>\n",
       "      <th>event_time</th>\n",
       "      <th>sim_type</th>\n",
       "      <th>azimuth_retro</th>\n",
       "      <th>...</th>\n",
       "      <th>position_y_sigma</th>\n",
       "      <th>position_z_sigma</th>\n",
       "      <th>time_sigma</th>\n",
       "      <th>zenith_sigma</th>\n",
       "      <th>energy_log10_sigma</th>\n",
       "      <th>osc_weight</th>\n",
       "      <th>interaction_type</th>\n",
       "      <th>elasticity</th>\n",
       "      <th>lvl7_probnu</th>\n",
       "      <th>lvl4_probnu</th>\n",
       "    </tr>\n",
       "  </thead>\n",
       "  <tbody>\n",
       "    <tr>\n",
       "      <th>0</th>\n",
       "      <td>890001</td>\n",
       "      <td>-0.441437</td>\n",
       "      <td>-0.141157</td>\n",
       "      <td>-0.453423</td>\n",
       "      <td>-0.200505</td>\n",
       "      <td>-0.941708</td>\n",
       "      <td>-14</td>\n",
       "      <td>1.087909e+17</td>\n",
       "      <td>genie</td>\n",
       "      <td>3.745607</td>\n",
       "      <td>...</td>\n",
       "      <td>2.105354</td>\n",
       "      <td>0.888275</td>\n",
       "      <td>9.478516</td>\n",
       "      <td>0.100220</td>\n",
       "      <td>0.775002</td>\n",
       "      <td>5.170306e-07</td>\n",
       "      <td>1</td>\n",
       "      <td>-0.512261</td>\n",
       "      <td>0.279743</td>\n",
       "      <td>0.239842</td>\n",
       "    </tr>\n",
       "    <tr>\n",
       "      <th>1</th>\n",
       "      <td>890002</td>\n",
       "      <td>-0.003176</td>\n",
       "      <td>-0.412751</td>\n",
       "      <td>-0.177144</td>\n",
       "      <td>-0.905742</td>\n",
       "      <td>-0.044677</td>\n",
       "      <td>-14</td>\n",
       "      <td>1.087909e+17</td>\n",
       "      <td>genie</td>\n",
       "      <td>6.164294</td>\n",
       "      <td>...</td>\n",
       "      <td>6.747589</td>\n",
       "      <td>3.964355</td>\n",
       "      <td>14.840820</td>\n",
       "      <td>0.277464</td>\n",
       "      <td>2.979291</td>\n",
       "      <td>9.270373e-07</td>\n",
       "      <td>1</td>\n",
       "      <td>-0.406939</td>\n",
       "      <td>0.188015</td>\n",
       "      <td>-0.093930</td>\n",
       "    </tr>\n",
       "    <tr>\n",
       "      <th>2</th>\n",
       "      <td>890005</td>\n",
       "      <td>0.125159</td>\n",
       "      <td>-0.414327</td>\n",
       "      <td>-0.897714</td>\n",
       "      <td>0.129592</td>\n",
       "      <td>0.955679</td>\n",
       "      <td>-14</td>\n",
       "      <td>1.087909e+17</td>\n",
       "      <td>genie</td>\n",
       "      <td>3.689882</td>\n",
       "      <td>...</td>\n",
       "      <td>0.321205</td>\n",
       "      <td>1.276001</td>\n",
       "      <td>14.208008</td>\n",
       "      <td>0.026136</td>\n",
       "      <td>0.543346</td>\n",
       "      <td>4.593662e-08</td>\n",
       "      <td>1</td>\n",
       "      <td>-0.216734</td>\n",
       "      <td>0.463988</td>\n",
       "      <td>0.416724</td>\n",
       "    </tr>\n",
       "    <tr>\n",
       "      <th>3</th>\n",
       "      <td>890008</td>\n",
       "      <td>0.185702</td>\n",
       "      <td>-1.269014</td>\n",
       "      <td>1.050416</td>\n",
       "      <td>0.419824</td>\n",
       "      <td>-0.435551</td>\n",
       "      <td>14</td>\n",
       "      <td>1.087909e+17</td>\n",
       "      <td>genie</td>\n",
       "      <td>3.301483</td>\n",
       "      <td>...</td>\n",
       "      <td>11.383873</td>\n",
       "      <td>4.692078</td>\n",
       "      <td>12.465820</td>\n",
       "      <td>0.128765</td>\n",
       "      <td>0.698667</td>\n",
       "      <td>7.431805e-07</td>\n",
       "      <td>1</td>\n",
       "      <td>-0.561419</td>\n",
       "      <td>-1.032259</td>\n",
       "      <td>-1.420656</td>\n",
       "    </tr>\n",
       "    <tr>\n",
       "      <th>4</th>\n",
       "      <td>890011</td>\n",
       "      <td>0.120804</td>\n",
       "      <td>1.911024</td>\n",
       "      <td>-0.573592</td>\n",
       "      <td>-0.362099</td>\n",
       "      <td>-0.450052</td>\n",
       "      <td>14</td>\n",
       "      <td>1.087909e+17</td>\n",
       "      <td>genie</td>\n",
       "      <td>1.953374</td>\n",
       "      <td>...</td>\n",
       "      <td>31.229164</td>\n",
       "      <td>15.577087</td>\n",
       "      <td>153.835938</td>\n",
       "      <td>0.201630</td>\n",
       "      <td>5.655249</td>\n",
       "      <td>7.357052e-07</td>\n",
       "      <td>1</td>\n",
       "      <td>-0.319579</td>\n",
       "      <td>-1.020791</td>\n",
       "      <td>-0.554056</td>\n",
       "    </tr>\n",
       "    <tr>\n",
       "      <th>...</th>\n",
       "      <td>...</td>\n",
       "      <td>...</td>\n",
       "      <td>...</td>\n",
       "      <td>...</td>\n",
       "      <td>...</td>\n",
       "      <td>...</td>\n",
       "      <td>...</td>\n",
       "      <td>...</td>\n",
       "      <td>...</td>\n",
       "      <td>...</td>\n",
       "      <td>...</td>\n",
       "      <td>...</td>\n",
       "      <td>...</td>\n",
       "      <td>...</td>\n",
       "      <td>...</td>\n",
       "      <td>...</td>\n",
       "      <td>...</td>\n",
       "      <td>...</td>\n",
       "      <td>...</td>\n",
       "      <td>...</td>\n",
       "      <td>...</td>\n",
       "    </tr>\n",
       "    <tr>\n",
       "      <th>1658357</th>\n",
       "      <td>7635127</td>\n",
       "      <td>-0.172270</td>\n",
       "      <td>0.914388</td>\n",
       "      <td>0.431136</td>\n",
       "      <td>-0.227972</td>\n",
       "      <td>-0.052455</td>\n",
       "      <td>12</td>\n",
       "      <td>1.087909e+17</td>\n",
       "      <td>genie</td>\n",
       "      <td>0.137806</td>\n",
       "      <td>...</td>\n",
       "      <td>20.276513</td>\n",
       "      <td>7.205688</td>\n",
       "      <td>73.976562</td>\n",
       "      <td>0.528542</td>\n",
       "      <td>3.580770</td>\n",
       "      <td>3.598772e-07</td>\n",
       "      <td>1</td>\n",
       "      <td>1.386665</td>\n",
       "      <td>-1.956711</td>\n",
       "      <td>-1.288728</td>\n",
       "    </tr>\n",
       "    <tr>\n",
       "      <th>1658358</th>\n",
       "      <td>7635128</td>\n",
       "      <td>0.508978</td>\n",
       "      <td>-0.913474</td>\n",
       "      <td>0.152495</td>\n",
       "      <td>0.017271</td>\n",
       "      <td>0.877638</td>\n",
       "      <td>-12</td>\n",
       "      <td>1.087909e+17</td>\n",
       "      <td>genie</td>\n",
       "      <td>2.804597</td>\n",
       "      <td>...</td>\n",
       "      <td>3.832886</td>\n",
       "      <td>1.567505</td>\n",
       "      <td>8.981445</td>\n",
       "      <td>0.178427</td>\n",
       "      <td>1.800573</td>\n",
       "      <td>3.693625e-08</td>\n",
       "      <td>1</td>\n",
       "      <td>0.441571</td>\n",
       "      <td>-1.467892</td>\n",
       "      <td>-2.519628</td>\n",
       "    </tr>\n",
       "    <tr>\n",
       "      <th>1658359</th>\n",
       "      <td>7635132</td>\n",
       "      <td>0.113620</td>\n",
       "      <td>0.459651</td>\n",
       "      <td>0.190319</td>\n",
       "      <td>0.407929</td>\n",
       "      <td>0.055036</td>\n",
       "      <td>12</td>\n",
       "      <td>1.087909e+17</td>\n",
       "      <td>genie</td>\n",
       "      <td>4.251538</td>\n",
       "      <td>...</td>\n",
       "      <td>7.209063</td>\n",
       "      <td>8.768372</td>\n",
       "      <td>23.276367</td>\n",
       "      <td>0.232988</td>\n",
       "      <td>1.569021</td>\n",
       "      <td>2.035631e-07</td>\n",
       "      <td>1</td>\n",
       "      <td>-0.603479</td>\n",
       "      <td>-0.111391</td>\n",
       "      <td>-0.085523</td>\n",
       "    </tr>\n",
       "    <tr>\n",
       "      <th>1658360</th>\n",
       "      <td>7635137</td>\n",
       "      <td>-0.169711</td>\n",
       "      <td>-0.250571</td>\n",
       "      <td>0.058395</td>\n",
       "      <td>0.285293</td>\n",
       "      <td>-0.168473</td>\n",
       "      <td>-12</td>\n",
       "      <td>1.087909e+17</td>\n",
       "      <td>genie</td>\n",
       "      <td>3.770832</td>\n",
       "      <td>...</td>\n",
       "      <td>4.154953</td>\n",
       "      <td>4.116791</td>\n",
       "      <td>11.160156</td>\n",
       "      <td>0.240992</td>\n",
       "      <td>2.925443</td>\n",
       "      <td>3.811419e-07</td>\n",
       "      <td>1</td>\n",
       "      <td>0.153087</td>\n",
       "      <td>0.426465</td>\n",
       "      <td>-0.363308</td>\n",
       "    </tr>\n",
       "    <tr>\n",
       "      <th>1658361</th>\n",
       "      <td>7635138</td>\n",
       "      <td>0.143748</td>\n",
       "      <td>1.191673</td>\n",
       "      <td>0.926401</td>\n",
       "      <td>-0.994639</td>\n",
       "      <td>0.388320</td>\n",
       "      <td>-12</td>\n",
       "      <td>1.087909e+17</td>\n",
       "      <td>genie</td>\n",
       "      <td>1.918647</td>\n",
       "      <td>...</td>\n",
       "      <td>11.808540</td>\n",
       "      <td>6.232849</td>\n",
       "      <td>32.654297</td>\n",
       "      <td>0.303684</td>\n",
       "      <td>7.789894</td>\n",
       "      <td>7.734388e-08</td>\n",
       "      <td>1</td>\n",
       "      <td>-0.063839</td>\n",
       "      <td>-1.963504</td>\n",
       "      <td>-0.811034</td>\n",
       "    </tr>\n",
       "  </tbody>\n",
       "</table>\n",
       "<p>1658362 rows × 28 columns</p>\n",
       "</div>"
      ],
      "text/plain": [
       "         event_no  energy_log10  position_y  position_z   azimuth    zenith  \\\n",
       "0          890001     -0.441437   -0.141157   -0.453423 -0.200505 -0.941708   \n",
       "1          890002     -0.003176   -0.412751   -0.177144 -0.905742 -0.044677   \n",
       "2          890005      0.125159   -0.414327   -0.897714  0.129592  0.955679   \n",
       "3          890008      0.185702   -1.269014    1.050416  0.419824 -0.435551   \n",
       "4          890011      0.120804    1.911024   -0.573592 -0.362099 -0.450052   \n",
       "...           ...           ...         ...         ...       ...       ...   \n",
       "1658357   7635127     -0.172270    0.914388    0.431136 -0.227972 -0.052455   \n",
       "1658358   7635128      0.508978   -0.913474    0.152495  0.017271  0.877638   \n",
       "1658359   7635132      0.113620    0.459651    0.190319  0.407929  0.055036   \n",
       "1658360   7635137     -0.169711   -0.250571    0.058395  0.285293 -0.168473   \n",
       "1658361   7635138      0.143748    1.191673    0.926401 -0.994639  0.388320   \n",
       "\n",
       "         pid    event_time sim_type  azimuth_retro  ...  position_y_sigma  \\\n",
       "0        -14  1.087909e+17    genie       3.745607  ...          2.105354   \n",
       "1        -14  1.087909e+17    genie       6.164294  ...          6.747589   \n",
       "2        -14  1.087909e+17    genie       3.689882  ...          0.321205   \n",
       "3         14  1.087909e+17    genie       3.301483  ...         11.383873   \n",
       "4         14  1.087909e+17    genie       1.953374  ...         31.229164   \n",
       "...      ...           ...      ...            ...  ...               ...   \n",
       "1658357   12  1.087909e+17    genie       0.137806  ...         20.276513   \n",
       "1658358  -12  1.087909e+17    genie       2.804597  ...          3.832886   \n",
       "1658359   12  1.087909e+17    genie       4.251538  ...          7.209063   \n",
       "1658360  -12  1.087909e+17    genie       3.770832  ...          4.154953   \n",
       "1658361  -12  1.087909e+17    genie       1.918647  ...         11.808540   \n",
       "\n",
       "         position_z_sigma  time_sigma  zenith_sigma  energy_log10_sigma  \\\n",
       "0                0.888275    9.478516      0.100220            0.775002   \n",
       "1                3.964355   14.840820      0.277464            2.979291   \n",
       "2                1.276001   14.208008      0.026136            0.543346   \n",
       "3                4.692078   12.465820      0.128765            0.698667   \n",
       "4               15.577087  153.835938      0.201630            5.655249   \n",
       "...                   ...         ...           ...                 ...   \n",
       "1658357          7.205688   73.976562      0.528542            3.580770   \n",
       "1658358          1.567505    8.981445      0.178427            1.800573   \n",
       "1658359          8.768372   23.276367      0.232988            1.569021   \n",
       "1658360          4.116791   11.160156      0.240992            2.925443   \n",
       "1658361          6.232849   32.654297      0.303684            7.789894   \n",
       "\n",
       "           osc_weight  interaction_type  elasticity  lvl7_probnu  lvl4_probnu  \n",
       "0        5.170306e-07                 1   -0.512261     0.279743     0.239842  \n",
       "1        9.270373e-07                 1   -0.406939     0.188015    -0.093930  \n",
       "2        4.593662e-08                 1   -0.216734     0.463988     0.416724  \n",
       "3        7.431805e-07                 1   -0.561419    -1.032259    -1.420656  \n",
       "4        7.357052e-07                 1   -0.319579    -1.020791    -0.554056  \n",
       "...               ...               ...         ...          ...          ...  \n",
       "1658357  3.598772e-07                 1    1.386665    -1.956711    -1.288728  \n",
       "1658358  3.693625e-08                 1    0.441571    -1.467892    -2.519628  \n",
       "1658359  2.035631e-07                 1   -0.603479    -0.111391    -0.085523  \n",
       "1658360  3.811419e-07                 1    0.153087     0.426465    -0.363308  \n",
       "1658361  7.734388e-08                 1   -0.063839    -1.963504    -0.811034  \n",
       "\n",
       "[1658362 rows x 28 columns]"
      ]
     },
     "execution_count": 18,
     "metadata": {},
     "output_type": "execute_result"
    }
   ],
   "source": [
    "df_truth.drop('position_x', axis=1)"
   ]
  },
  {
   "cell_type": "code",
   "execution_count": 77,
   "metadata": {
    "ExecuteTime": {
     "end_time": "2021-05-16T20:48:02.022731Z",
     "start_time": "2021-05-16T20:48:01.815530Z"
    }
   },
   "outputs": [
    {
     "data": {
      "text/plain": [
       "array([[1.       , 0.0800872],\n",
       "       [0.0800872, 1.       ]])"
      ]
     },
     "execution_count": 77,
     "metadata": {},
     "output_type": "execute_result"
    }
   ],
   "source": [
    "np.corrcoef(df_truth['event_no'], df_truth['pid'])"
   ]
  },
  {
   "cell_type": "code",
   "execution_count": 79,
   "metadata": {
    "ExecuteTime": {
     "end_time": "2021-05-16T20:48:48.225024Z",
     "start_time": "2021-05-16T20:48:36.375620Z"
    }
   },
   "outputs": [
    {
     "data": {
      "text/plain": [
       "[<matplotlib.lines.Line2D at 0x24e841b9640>]"
      ]
     },
     "execution_count": 79,
     "metadata": {},
     "output_type": "execute_result"
    },
    {
     "data": {
      "image/png": "[encoded data removed]",
      "text/plain": [
       "<Figure size 432x288 with 1 Axes>"
      ]
     },
     "metadata": {
      "needs_background": "light"
     },
     "output_type": "display_data"
    }
   ],
   "source": [
    "plt.plot(df_truth['event_no'], df_truth['pid'], 'bo')"
   ]
  },
  {
   "cell_type": "code",
   "execution_count": 37,
   "metadata": {
    "ExecuteTime": {
     "end_time": "2021-05-16T15:54:28.736328Z",
     "start_time": "2021-05-16T15:54:28.693047Z"
    }
   },
   "outputs": [],
   "source": [
    "x=np.array(df_truth.event_no.to_numpy())\n",
    "id_test="
   ]
  },
  {
   "cell_type": "code",
   "execution_count": 47,
   "metadata": {
    "ExecuteTime": {
     "end_time": "2021-05-16T15:56:30.858575Z",
     "start_time": "2021-05-16T15:56:30.609712Z"
    }
   },
   "outputs": [],
   "source": [
    "vals, counts=np.unique(x, return_counts=True)"
   ]
  },
  {
   "cell_type": "code",
   "execution_count": 21,
   "metadata": {
    "ExecuteTime": {
     "end_time": "2021-05-16T15:47:34.032285Z",
     "start_time": "2021-05-16T15:47:33.673185Z"
    }
   },
   "outputs": [],
   "source": [
    "transformers = pickle.load(open(transform_path, 'rb'))\n",
    "trans_x      = transformers['features']\n",
    "trans_y      = transformers['truth']\n",
    "\n",
    "for col in targets:\n",
    "    df_truth[col] = trans_y[col].inverse_transform(np.array(df_truth[col]).reshape(1, -1)).T"
   ]
  },
  {
   "cell_type": "code",
   "execution_count": 98,
   "metadata": {
    "ExecuteTime": {
     "end_time": "2021-05-16T21:02:05.552768Z",
     "start_time": "2021-05-16T21:02:02.821185Z"
    }
   },
   "outputs": [],
   "source": [
    "df_sort=df_truth.sort_values('event_no')\n",
    "df_sort=df_sort.reset_index(drop=True)\n",
    "df_test=df_sort[df_sort['event_no'].isin(test_events)]\n",
    "df_train=df_sort[df_sort['event_no'].isin(train_events)]\n",
    "testid, trainid=df_test.index.to_numpy(), df_train.index.to_numpy()"
   ]
  },
  {
   "cell_type": "code",
   "execution_count": 82,
   "metadata": {
    "ExecuteTime": {
     "end_time": "2021-05-16T20:55:10.088882Z",
     "start_time": "2021-05-16T20:55:09.924557Z"
    }
   },
   "outputs": [],
   "source": [
    "splits=np.array_split(np.sort(df_truth['event_no'].to_numpy()),10)\n",
    "start_ids, stop_ids=[],[]\n",
    "for i in range(10):\n",
    "    start_ids.append(splits[i][0])\n",
    "    stop_ids.append(splits[i][-1])"
   ]
  },
  {
   "cell_type": "code",
   "execution_count": 84,
   "metadata": {
    "ExecuteTime": {
     "end_time": "2021-05-16T20:55:38.566182Z",
     "start_time": "2021-05-16T20:55:38.552182Z"
    }
   },
   "outputs": [
    {
     "data": {
      "text/plain": [
       "([0,\n",
       "  829181,\n",
       "  3049862,\n",
       "  3879043,\n",
       "  6101874,\n",
       "  6931054,\n",
       "  9113884,\n",
       "  9943064,\n",
       "  10772244,\n",
       "  12520047],\n",
       " [829180,\n",
       "  3049861,\n",
       "  3879042,\n",
       "  6101873,\n",
       "  6931053,\n",
       "  9113883,\n",
       "  9943063,\n",
       "  10772243,\n",
       "  12520046,\n",
       "  117104763])"
      ]
     },
     "execution_count": 84,
     "metadata": {},
     "output_type": "execute_result"
    }
   ],
   "source": [
    "start_ids, stop_ids"
   ]
  },
  {
   "cell_type": "code",
   "execution_count": 22,
   "metadata": {
    "ExecuteTime": {
     "end_time": "2021-05-16T15:47:40.576010Z",
     "start_time": "2021-05-16T15:47:40.253888Z"
    }
   },
   "outputs": [
    {
     "data": {
      "image/png": "[encoded data removed]",
      "text/plain": [
       "<Figure size 432x288 with 1 Axes>"
      ]
     },
     "metadata": {
      "needs_background": "light"
     },
     "output_type": "display_data"
    }
   ],
   "source": [
    "plt.hist(df_truth.zenith, bins=50);"
   ]
  },
  {
   "cell_type": "code",
   "execution_count": 23,
   "metadata": {
    "ExecuteTime": {
     "end_time": "2021-05-16T15:47:43.356296Z",
     "start_time": "2021-05-16T15:47:43.023090Z"
    }
   },
   "outputs": [
    {
     "data": {
      "image/png": "[encoded data removed]",
      "text/plain": [
       "<Figure size 432x288 with 1 Axes>"
      ]
     },
     "metadata": {
      "needs_background": "light"
     },
     "output_type": "display_data"
    }
   ],
   "source": [
    "plt.hist(df_truth.azimuth, bins=50);"
   ]
  },
  {
   "cell_type": "code",
   "execution_count": 13,
   "metadata": {
    "ExecuteTime": {
     "end_time": "2021-03-22T16:18:03.318858Z",
     "start_time": "2021-03-22T16:17:57.845564Z"
    }
   },
   "outputs": [],
   "source": [
    "n_data = 100\n",
    "start_id = conn.execute(f\"select distinct event_no from truth where pid = 13\")\n",
    "stop_id  = conn.execute(f\"select distinct event_no from truth where pid = 13 limit 1 offset {n_data}\")"
   ]
  },
  {
   "cell_type": "code",
   "execution_count": null,
   "metadata": {},
   "outputs": [],
   "source": []
  },
  {
   "cell_type": "code",
   "execution_count": 15,
   "metadata": {
    "ExecuteTime": {
     "end_time": "2021-03-22T16:18:15.086841Z",
     "start_time": "2021-03-22T16:18:15.080821Z"
    }
   },
   "outputs": [
    {
     "data": {
      "text/plain": [
       "[]"
      ]
     },
     "execution_count": 15,
     "metadata": {},
     "output_type": "execute_result"
    }
   ],
   "source": [
    "start_id.fetchall()"
   ]
  },
  {
   "cell_type": "code",
   "execution_count": 12,
   "metadata": {
    "ExecuteTime": {
     "end_time": "2021-02-11T10:29:06.515780Z",
     "start_time": "2021-02-11T10:29:06.510882Z"
    }
   },
   "outputs": [
    {
     "data": {
      "text/plain": [
       "[(138674472,)]"
      ]
     },
     "execution_count": 12,
     "metadata": {},
     "output_type": "execute_result"
    }
   ],
   "source": [
    "stop_id.fetchall()"
   ]
  },
  {
   "cell_type": "code",
   "execution_count": 16,
   "metadata": {
    "ExecuteTime": {
     "end_time": "2021-02-11T10:30:15.588700Z",
     "start_time": "2021-02-11T10:30:14.865989Z"
    }
   },
   "outputs": [],
   "source": [
    "start, stop = 0, 100000\n",
    "# start_id  = conn.execute(f\"select distinct event_no from features where pid = 13 limit \")\n",
    "event_nos = pd.read_sql(f\"select distinct event_no from features limit {stop} offset {start}\", conn)"
   ]
  },
  {
   "cell_type": "code",
   "execution_count": 17,
   "metadata": {
    "ExecuteTime": {
     "end_time": "2021-02-11T10:30:15.948441Z",
     "start_time": "2021-02-11T10:30:15.936474Z"
    }
   },
   "outputs": [
    {
     "data": {
      "text/html": [
       "<div>\n",
       "<style scoped>\n",
       "    .dataframe tbody tr th:only-of-type {\n",
       "        vertical-align: middle;\n",
       "    }\n",
       "\n",
       "    .dataframe tbody tr th {\n",
       "        vertical-align: top;\n",
       "    }\n",
       "\n",
       "    .dataframe thead th {\n",
       "        text-align: right;\n",
       "    }\n",
       "</style>\n",
       "<table border=\"1\" class=\"dataframe\">\n",
       "  <thead>\n",
       "    <tr style=\"text-align: right;\">\n",
       "      <th></th>\n",
       "      <th>event_no</th>\n",
       "    </tr>\n",
       "  </thead>\n",
       "  <tbody>\n",
       "    <tr>\n",
       "      <th>0</th>\n",
       "      <td>120102888</td>\n",
       "    </tr>\n",
       "    <tr>\n",
       "      <th>1</th>\n",
       "      <td>120102889</td>\n",
       "    </tr>\n",
       "    <tr>\n",
       "      <th>2</th>\n",
       "      <td>120102890</td>\n",
       "    </tr>\n",
       "    <tr>\n",
       "      <th>3</th>\n",
       "      <td>120102891</td>\n",
       "    </tr>\n",
       "    <tr>\n",
       "      <th>4</th>\n",
       "      <td>120102892</td>\n",
       "    </tr>\n",
       "    <tr>\n",
       "      <th>...</th>\n",
       "      <td>...</td>\n",
       "    </tr>\n",
       "    <tr>\n",
       "      <th>99995</th>\n",
       "      <td>120228027</td>\n",
       "    </tr>\n",
       "    <tr>\n",
       "      <th>99996</th>\n",
       "      <td>120228028</td>\n",
       "    </tr>\n",
       "    <tr>\n",
       "      <th>99997</th>\n",
       "      <td>120228029</td>\n",
       "    </tr>\n",
       "    <tr>\n",
       "      <th>99998</th>\n",
       "      <td>120228030</td>\n",
       "    </tr>\n",
       "    <tr>\n",
       "      <th>99999</th>\n",
       "      <td>120228031</td>\n",
       "    </tr>\n",
       "  </tbody>\n",
       "</table>\n",
       "<p>100000 rows × 1 columns</p>\n",
       "</div>"
      ],
      "text/plain": [
       "        event_no\n",
       "0      120102888\n",
       "1      120102889\n",
       "2      120102890\n",
       "3      120102891\n",
       "4      120102892\n",
       "...          ...\n",
       "99995  120228027\n",
       "99996  120228028\n",
       "99997  120228029\n",
       "99998  120228030\n",
       "99999  120228031\n",
       "\n",
       "[100000 rows x 1 columns]"
      ]
     },
     "execution_count": 17,
     "metadata": {},
     "output_type": "execute_result"
    }
   ],
   "source": [
    "event_nos"
   ]
  },
  {
   "cell_type": "code",
   "execution_count": 23,
   "metadata": {
    "ExecuteTime": {
     "end_time": "2021-02-11T10:35:48.540991Z",
     "start_time": "2021-02-11T10:35:47.953466Z"
    }
   },
   "outputs": [],
   "source": [
    "start, stop = 0, 100000\n",
    "select_rows = [\"dom_x\", \"dom_y\", \"dom_z\", \"time\", \"charge_log10\"]\n",
    "\n",
    "start_id = conn.execute(f\"select distinct event_no from features limit 1 offset {start}\").fetchall()[0][0]\n",
    "stop_id  = conn.execute(f\"select distinct event_no from features limit 1 offset {stop}\").fetchall()[0][0]"
   ]
  },
  {
   "cell_type": "code",
   "execution_count": 24,
   "metadata": {
    "ExecuteTime": {
     "end_time": "2021-02-11T10:36:14.081151Z",
     "start_time": "2021-02-11T10:35:49.278321Z"
    }
   },
   "outputs": [],
   "source": [
    "features = [\"dom_x\", \"dom_y\", \"dom_z\", \"time\", \"charge_log10\"]\n",
    "targets  = [\"energy_log10\", \"position_x\", \"position_y\", \"position_z\", \"direction_x\", \"direction_y\", \"direction_z\"]\n",
    "feature_call = \", \".join(features)\n",
    "target_call  = \", \".join(targets)\n",
    "df_event = pd.read_sql(f\"select event_no       from features where event_no >= {start_id} and event_no < {stop_id}\", conn)\n",
    "df_feat  = pd.read_sql(f\"select {feature_call} from features where event_no >= {start_id} and event_no < {stop_id}\", conn)\n",
    "df_targ  = pd.read_sql(f\"select {target_call } from truth    where event_no >= {start_id} and event_no < {stop_id}\", conn)"
   ]
  },
  {
   "cell_type": "code",
   "execution_count": 25,
   "metadata": {
    "ExecuteTime": {
     "end_time": "2021-02-11T10:37:08.845902Z",
     "start_time": "2021-02-11T10:37:08.682753Z"
    }
   },
   "outputs": [],
   "source": [
    "idx_list    = np.array(df_event)\n",
    "x_not_split = np.array(df_feat)"
   ]
  },
  {
   "cell_type": "code",
   "execution_count": 30,
   "metadata": {
    "ExecuteTime": {
     "end_time": "2021-02-11T10:38:13.500803Z",
     "start_time": "2021-02-11T10:38:13.495817Z"
    },
    "scrolled": true
   },
   "outputs": [
    {
     "data": {
      "text/plain": [
       "(5965924, 1)"
      ]
     },
     "execution_count": 30,
     "metadata": {},
     "output_type": "execute_result"
    }
   ],
   "source": [
    "np.shape(idx_list)"
   ]
  },
  {
   "cell_type": "code",
   "execution_count": 31,
   "metadata": {
    "ExecuteTime": {
     "end_time": "2021-02-11T10:38:55.189836Z",
     "start_time": "2021-02-11T10:38:55.043164Z"
    }
   },
   "outputs": [],
   "source": [
    "ids, idx, counts = np.unique(idx_list.flatten(), return_index = True, return_counts = True) "
   ]
  },
  {
   "cell_type": "code",
   "execution_count": 29,
   "metadata": {
    "ExecuteTime": {
     "end_time": "2021-02-11T10:37:53.852888Z",
     "start_time": "2021-02-11T10:37:53.845919Z"
    }
   },
   "outputs": [
    {
     "data": {
      "text/plain": [
       "5965924"
      ]
     },
     "execution_count": 29,
     "metadata": {},
     "output_type": "execute_result"
    }
   ],
   "source": [
    "np.sum(counts)"
   ]
  },
  {
   "cell_type": "code",
   "execution_count": 34,
   "metadata": {
    "ExecuteTime": {
     "end_time": "2021-02-11T10:39:35.480990Z",
     "start_time": "2021-02-11T10:39:35.477447Z"
    }
   },
   "outputs": [
    {
     "data": {
      "text/plain": [
       "(5965924, 5)"
      ]
     },
     "execution_count": 34,
     "metadata": {},
     "output_type": "execute_result"
    }
   ],
   "source": [
    "x_not_split.shape"
   ]
  },
  {
   "cell_type": "code",
   "execution_count": 35,
   "metadata": {
    "ExecuteTime": {
     "end_time": "2021-02-11T10:39:44.839981Z",
     "start_time": "2021-02-11T10:39:44.668681Z"
    }
   },
   "outputs": [],
   "source": [
    "xs = np.split(x_not_split, np.cumsum(counts))"
   ]
  },
  {
   "cell_type": "code",
   "execution_count": 61,
   "metadata": {
    "ExecuteTime": {
     "end_time": "2021-02-11T11:04:25.074555Z",
     "start_time": "2021-02-11T11:04:25.067575Z"
    }
   },
   "outputs": [],
   "source": [
    "ys = np.array(df_targ)"
   ]
  },
  {
   "cell_type": "code",
   "execution_count": 43,
   "metadata": {
    "ExecuteTime": {
     "end_time": "2021-02-11T10:41:51.796793Z",
     "start_time": "2021-02-11T10:41:51.777278Z"
    }
   },
   "outputs": [
    {
     "name": "stderr",
     "output_type": "stream",
     "text": [
      "C:\\Users\\chris\\anaconda3\\lib\\site-packages\\numpy\\core\\_asarray.py:83: VisibleDeprecationWarning: Creating an ndarray from ragged nested sequences (which is a list-or-tuple of lists-or-tuples-or ndarrays with different lengths or shapes) is deprecated. If you meant to do this, you must specify 'dtype=object' when creating the ndarray\n",
      "  return array(a, dtype, copy=False, order=order)\n"
     ]
    },
    {
     "data": {
      "text/plain": [
       "(100001,)"
      ]
     },
     "execution_count": 43,
     "metadata": {},
     "output_type": "execute_result"
    }
   ],
   "source": [
    "np.shape(xs)"
   ]
  },
  {
   "cell_type": "code",
   "execution_count": 24,
   "metadata": {
    "ExecuteTime": {
     "end_time": "2021-01-12T17:27:04.902891Z",
     "start_time": "2021-01-12T17:27:04.897115Z"
    }
   },
   "outputs": [
    {
     "name": "stdout",
     "output_type": "stream",
     "text": [
      "[[-1.84428951 -1.22482404  0.39792449 -1.56428307  0.16261479]\n",
      " [-0.2078301  -0.18691354 -0.44418075 -1.68247499 -1.92155384]\n",
      " [ 0.06322446 -0.29591152 -0.46829432 -0.05335309 -0.38592265]\n",
      " [ 0.06322446 -0.29591152 -0.14411839  0.90848462  0.23806267]\n",
      " [ 0.06322446 -0.29591152 -0.14411839 -1.41830308  1.49374495]\n",
      " [ 0.06322446 -0.29591152 -0.08772599 -0.02074843 -1.65692291]\n",
      " [ 0.06322446 -0.29591152 -0.08772599 -0.03223416  0.44497857]\n",
      " [ 0.          0.29478052 -0.12298133  0.44979622 -0.38592265]\n",
      " [-0.04194698 -0.15939176 -0.25229772 -0.30048166  0.        ]\n",
      " [-0.04194698 -0.15939176 -0.23821973 -0.30085217  0.89259397]\n",
      " [-0.04194698 -0.15939176 -0.2241216  -0.29529455 -1.0557719 ]\n",
      " [-0.04194698 -0.15939176 -0.1818273  -0.26083735 -0.62103541]\n",
      " [-0.07899002  2.28041226  1.09275381  1.07373101  0.50835111]\n",
      " [ 0.74159036  1.95723031  0.97476017  1.00629863  0.68454405]\n",
      " [-0.25763961  1.79339814  0.32990768  0.42645424  0.31007972]\n",
      " [-0.25763961  1.79339814  0.32990768 -1.44942571  0.08339316]\n",
      " [ 1.57315399  1.61653821 -0.30774491  1.49796221  0.        ]\n",
      " [-0.93855879  1.22444714 -0.21468941 -0.86958133 -1.65692291]\n",
      " [-1.84428951 -1.22482404  0.2952356   1.43682845 -0.08802844]\n",
      " [-1.84428951 -1.22482404  0.2952356   1.44831419 -1.23196479]\n",
      " [ 1.15607526 -0.72968336  0.22442329  0.1852538   0.56928578]\n",
      " [ 1.63025862 -0.66831435 -0.38927661  1.73879215  0.31007972]\n",
      " [-2.16434302 -0.81802952 -0.42762903  1.10522416 -1.65692291]\n",
      " [ 0.62182865  0.67221013  0.98435329  0.6146721   0.08339316]\n",
      " [-0.2078301  -0.18691354 -0.50055305 -0.50537236 -0.08802844]\n",
      " [ 1.74454889  0.68188676  0.33887737 -0.80214894 -0.28027669]\n",
      " [ 1.87918454  1.22637405  0.41127847 -0.87736199  1.52674827]\n",
      " [ 1.87918454  1.22637405  0.41127847  0.36643201 -1.65692291]\n",
      " [ 1.87918454  1.22637405  0.30858958 -0.59429418  0.37896459]\n",
      " [ 1.87918454  1.22637405  0.30858958  0.80622453  0.23806267]\n",
      " [-1.93985576  1.0584786   0.12784826  1.74768433 -1.43023626]\n",
      " [-1.43957205  1.14075072  0.16153488  0.73138199 -0.28027669]\n",
      " [-2.12045071  0.57083614 -0.55513547 -0.90366803 -0.28027669]\n",
      " [-0.21305828  0.17426274 -0.33260259 -0.1170804   0.        ]] [-1.71554419 -0.01561767 -0.22638297 -0.12290451 -0.41149176  0.89830744\n",
      " -0.03652089]\n"
     ]
    }
   ],
   "source": [
    "for x, y in zip(xs, ys):\n",
    "    print(x, y)\n",
    "    break"
   ]
  },
  {
   "cell_type": "code",
   "execution_count": 63,
   "metadata": {
    "ExecuteTime": {
     "end_time": "2021-02-11T11:04:41.032354Z",
     "start_time": "2021-02-11T11:04:41.025373Z"
    },
    "scrolled": true
   },
   "outputs": [],
   "source": [
    "from sklearn.neighbors import kneighbors_graph as knn\n",
    "from spektral.data import Graph\n",
    "neighbors=6"
   ]
  },
  {
   "cell_type": "code",
   "execution_count": 65,
   "metadata": {
    "ExecuteTime": {
     "end_time": "2021-02-11T11:05:59.373607Z",
     "start_time": "2021-02-11T11:04:47.104414Z"
    }
   },
   "outputs": [
    {
     "name": "stdout",
     "output_type": "stream",
     "text": [
      "Generating adjacency matrices\n"
     ]
    },
    {
     "data": {
      "application/vnd.jupyter.widget-view+json": {
       "model_id": "52af4ecfb6e940098cec778148b0219f",
       "version_major": 2,
       "version_minor": 0
      },
      "text/plain": [
       "HBox(children=(HTML(value=''), FloatProgress(value=0.0, max=100001.0), HTML(value='')))"
      ]
     },
     "metadata": {},
     "output_type": "display_data"
    },
    {
     "name": "stdout",
     "output_type": "stream",
     "text": [
      "\n"
     ]
    }
   ],
   "source": [
    "print(\"Generating adjacency matrices\")\n",
    "graph_list = []\n",
    "for x, y in tqdm(zip(xs, ys), total = len(xs)):\n",
    "    a = knn(x[:, :3], neighbors)\n",
    "\n",
    "\n",
    "\n",
    "    graph_list.append(Graph(x = x, a = a, y = y))\n",
    "\n",
    "graph_list = np.array(graph_list, dtype = object)"
   ]
  },
  {
   "cell_type": "code",
   "execution_count": 51,
   "metadata": {
    "ExecuteTime": {
     "end_time": "2021-02-11T10:55:15.341459Z",
     "start_time": "2021-02-11T10:55:15.323608Z"
    }
   },
   "outputs": [],
   "source": [
    "s = [x.shape[0] for x in xs]"
   ]
  },
  {
   "cell_type": "code",
   "execution_count": null,
   "metadata": {
    "ExecuteTime": {
     "end_time": "2021-01-11T20:06:59.901875Z",
     "start_time": "2021-01-11T20:06:26.638Z"
    }
   },
   "outputs": [],
   "source": [
    "xs = np.array(xs, dtype = object)[np.argsort(s)]"
   ]
  },
  {
   "cell_type": "code",
   "execution_count": 57,
   "metadata": {
    "ExecuteTime": {
     "end_time": "2021-02-11T10:57:53.546464Z",
     "start_time": "2021-02-11T10:57:53.528591Z"
    }
   },
   "outputs": [],
   "source": [
    "size, idx = np.unique(np.sort(s), return_index = True)"
   ]
  },
  {
   "cell_type": "code",
   "execution_count": null,
   "metadata": {
    "ExecuteTime": {
     "end_time": "2021-01-11T20:06:59.904343Z",
     "start_time": "2021-01-11T20:06:26.689Z"
    }
   },
   "outputs": [],
   "source": [
    "preprocess(list(xs[4: 9]))"
   ]
  },
  {
   "cell_type": "code",
   "execution_count": 53,
   "metadata": {
    "ExecuteTime": {
     "end_time": "2021-01-08T22:27:39.553971Z",
     "start_time": "2021-01-08T22:27:39.537771Z"
    }
   },
   "outputs": [
    {
     "data": {
      "text/plain": [
       "array([ 14,  19,  19, ..., 822, 876, 913])"
      ]
     },
     "execution_count": 53,
     "metadata": {},
     "output_type": "execute_result"
    }
   ],
   "source": [
    "np.sort(s)"
   ]
  },
  {
   "cell_type": "code",
   "execution_count": 46,
   "metadata": {
    "ExecuteTime": {
     "end_time": "2021-01-08T22:26:06.346051Z",
     "start_time": "2021-01-08T22:26:06.337818Z"
    }
   },
   "outputs": [
    {
     "data": {
      "text/plain": [
       "array([    0,     1,     4,     9,    21,    45,    85,   143,   244,\n",
       "         401,   652,  1016,  1483,  2097,  2924,  4001,  5282,  6731,\n",
       "        8466, 10599, 13093, 15805, 18756, 21801, 24937, 28170, 31567,\n",
       "       34857, 38137, 41355, 44535, 47573, 50422, 53228, 55770, 58086,\n",
       "       60383, 62484, 64403, 66274, 67917, 69509, 70992, 72361, 73664,\n",
       "       74887, 75978, 76999, 77932, 78771, 79617, 80384, 81125, 81818,\n",
       "       82484, 83089, 83658, 84237, 84756, 85227, 85712, 86149, 86570,\n",
       "       86957, 87318, 87719, 88092, 88425, 88746, 89059, 89334, 89610,\n",
       "       89868, 90105, 90354, 90606, 90834, 91059, 91268, 91484, 91711,\n",
       "       91916, 92108, 92283, 92486, 92656, 92805, 92975, 93132, 93295,\n",
       "       93449, 93584, 93732, 93878, 94005, 94124, 94236, 94346, 94449,\n",
       "       94538, 94645, 94733, 94844, 94928, 95026, 95123, 95213, 95306,\n",
       "       95396, 95483, 95584, 95668, 95763, 95835, 95906, 95966, 96052,\n",
       "       96127, 96195, 96259, 96320, 96387, 96454, 96511, 96563, 96613,\n",
       "       96675, 96739, 96798, 96853, 96905, 96948, 96997, 97039, 97085,\n",
       "       97128, 97175, 97215, 97260, 97293, 97332, 97368, 97403, 97445,\n",
       "       97485, 97516, 97552, 97585, 97624, 97667, 97699, 97728, 97765,\n",
       "       97789, 97823, 97853, 97883, 97908, 97937, 97974, 98011, 98039,\n",
       "       98070, 98095, 98114, 98133, 98156, 98179, 98212, 98242, 98262,\n",
       "       98287, 98317, 98334, 98356, 98380, 98396, 98415, 98441, 98463,\n",
       "       98485, 98505, 98527, 98551, 98566, 98588, 98613, 98635, 98652,\n",
       "       98674, 98692, 98705, 98726, 98750, 98768, 98784, 98799, 98812,\n",
       "       98826, 98842, 98854, 98867, 98882, 98896, 98906, 98921, 98933,\n",
       "       98951, 98958, 98972, 98986, 99001, 99015, 99028, 99038, 99052,\n",
       "       99066, 99081, 99091, 99105, 99117, 99124, 99139, 99148, 99156,\n",
       "       99166, 99175, 99186, 99191, 99206, 99218, 99231, 99245, 99252,\n",
       "       99257, 99270, 99285, 99294, 99300, 99310, 99316, 99327, 99335,\n",
       "       99344, 99356, 99361, 99369, 99379, 99390, 99396, 99405, 99411,\n",
       "       99424, 99432, 99444, 99451, 99462, 99471, 99478, 99483, 99487,\n",
       "       99491, 99496, 99502, 99509, 99521, 99523, 99526, 99530, 99537,\n",
       "       99542, 99545, 99552, 99558, 99561, 99567, 99572, 99577, 99583,\n",
       "       99589, 99593, 99600, 99601, 99603, 99611, 99617, 99624, 99629,\n",
       "       99633, 99641, 99650, 99655, 99661, 99663, 99667, 99671, 99678,\n",
       "       99684, 99686, 99692, 99696, 99699, 99703, 99708, 99709, 99711,\n",
       "       99719, 99722, 99725, 99733, 99736, 99741, 99744, 99747, 99749,\n",
       "       99753, 99755, 99757, 99762, 99766, 99770, 99775, 99777, 99780,\n",
       "       99782, 99786, 99789, 99790, 99791, 99794, 99797, 99799, 99805,\n",
       "       99806, 99811, 99813, 99815, 99818, 99821, 99824, 99826, 99827,\n",
       "       99829, 99831, 99834, 99837, 99838, 99841, 99843, 99844, 99846,\n",
       "       99847, 99849, 99851, 99852, 99854, 99855, 99856, 99857, 99862,\n",
       "       99866, 99872, 99873, 99876, 99878, 99880, 99882, 99884, 99885,\n",
       "       99888, 99889, 99890, 99891, 99893, 99894, 99896, 99898, 99900,\n",
       "       99903, 99904, 99906, 99907, 99908, 99910, 99911, 99913, 99914,\n",
       "       99915, 99917, 99919, 99920, 99921, 99922, 99924, 99925, 99926,\n",
       "       99927, 99928, 99930, 99931, 99932, 99933, 99935, 99937, 99938,\n",
       "       99939, 99940, 99941, 99943, 99944, 99946, 99947, 99948, 99950,\n",
       "       99953, 99954, 99956, 99957, 99958, 99959, 99960, 99961, 99962,\n",
       "       99964, 99965, 99966, 99967, 99968, 99969, 99970, 99973, 99974,\n",
       "       99975, 99976, 99977, 99979, 99980, 99982, 99983, 99984, 99985,\n",
       "       99986, 99987, 99988, 99989, 99990, 99991, 99992, 99993, 99994,\n",
       "       99995, 99996, 99997, 99998, 99999])"
      ]
     },
     "execution_count": 46,
     "metadata": {},
     "output_type": "execute_result"
    }
   ],
   "source": [
    "idx"
   ]
  },
  {
   "cell_type": "code",
   "execution_count": 9,
   "metadata": {
    "ExecuteTime": {
     "end_time": "2021-03-26T10:35:29.362538Z",
     "start_time": "2021-03-26T10:35:27.793989Z"
    }
   },
   "outputs": [
    {
     "name": "stderr",
     "output_type": "stream",
     "text": [
      "C:\\Users\\chris\\anaconda3\\lib\\site-packages\\sklearn\\utils\\deprecation.py:143: FutureWarning: The sklearn.preprocessing.data module is  deprecated in version 0.22 and will be removed in version 0.24. The corresponding classes / functions should instead be imported from sklearn.preprocessing. Anything that cannot be imported from sklearn.preprocessing is now part of the private API.\n",
      "  warnings.warn(message, FutureWarning)\n",
      "C:\\Users\\chris\\anaconda3\\lib\\site-packages\\sklearn\\base.py:329: UserWarning: Trying to unpickle estimator RobustScaler from version 0.19.1 when using version 0.23.2. This might lead to breaking code or invalid results. Use at your own risk.\n",
      "  warnings.warn(\n"
     ]
    }
   ],
   "source": [
    "import pickle\n",
    "transformers = pickle.load(open('../db_files/muongun/transformers.pkl', 'rb'))\n",
    "trans_x      = transformers['features']\n",
    "trans_y      = transformers['truth']"
   ]
  },
  {
   "cell_type": "code",
   "execution_count": 12,
   "metadata": {
    "ExecuteTime": {
     "end_time": "2021-03-26T10:45:16.454190Z",
     "start_time": "2021-03-26T10:45:16.446185Z"
    }
   },
   "outputs": [
    {
     "name": "stdout",
     "output_type": "stream",
     "text": [
      "Help on RobustScaler in module sklearn.preprocessing._data object:\n",
      "\n",
      "class RobustScaler(sklearn.base.TransformerMixin, sklearn.base.BaseEstimator)\n",
      " |  RobustScaler(*, with_centering=True, with_scaling=True, quantile_range=(25.0, 75.0), copy=True)\n",
      " |  \n",
      " |  Scale features using statistics that are robust to outliers.\n",
      " |  \n",
      " |  This Scaler removes the median and scales the data according to\n",
      " |  the quantile range (defaults to IQR: Interquartile Range).\n",
      " |  The IQR is the range between the 1st quartile (25th quantile)\n",
      " |  and the 3rd quartile (75th quantile).\n",
      " |  \n",
      " |  Centering and scaling happen independently on each feature by\n",
      " |  computing the relevant statistics on the samples in the training\n",
      " |  set. Median and interquartile range are then stored to be used on\n",
      " |  later data using the ``transform`` method.\n",
      " |  \n",
      " |  Standardization of a dataset is a common requirement for many\n",
      " |  machine learning estimators. Typically this is done by removing the mean\n",
      " |  and scaling to unit variance. However, outliers can often influence the\n",
      " |  sample mean / variance in a negative way. In such cases, the median and\n",
      " |  the interquartile range often give better results.\n",
      " |  \n",
      " |  .. versionadded:: 0.17\n",
      " |  \n",
      " |  Read more in the :ref:`User Guide <preprocessing_scaler>`.\n",
      " |  \n",
      " |  Parameters\n",
      " |  ----------\n",
      " |  with_centering : boolean, True by default\n",
      " |      If True, center the data before scaling.\n",
      " |      This will cause ``transform`` to raise an exception when attempted on\n",
      " |      sparse matrices, because centering them entails building a dense\n",
      " |      matrix which in common use cases is likely to be too large to fit in\n",
      " |      memory.\n",
      " |  \n",
      " |  with_scaling : boolean, True by default\n",
      " |      If True, scale the data to interquartile range.\n",
      " |  \n",
      " |  quantile_range : tuple (q_min, q_max), 0.0 < q_min < q_max < 100.0\n",
      " |      Default: (25.0, 75.0) = (1st quantile, 3rd quantile) = IQR\n",
      " |      Quantile range used to calculate ``scale_``.\n",
      " |  \n",
      " |      .. versionadded:: 0.18\n",
      " |  \n",
      " |  copy : boolean, optional, default is True\n",
      " |      If False, try to avoid a copy and do inplace scaling instead.\n",
      " |      This is not guaranteed to always work inplace; e.g. if the data is\n",
      " |      not a NumPy array or scipy.sparse CSR matrix, a copy may still be\n",
      " |      returned.\n",
      " |  \n",
      " |  Attributes\n",
      " |  ----------\n",
      " |  center_ : array of floats\n",
      " |      The median value for each feature in the training set.\n",
      " |  \n",
      " |  scale_ : array of floats\n",
      " |      The (scaled) interquartile range for each feature in the training set.\n",
      " |  \n",
      " |      .. versionadded:: 0.17\n",
      " |         *scale_* attribute.\n",
      " |  \n",
      " |  Examples\n",
      " |  --------\n",
      " |  >>> from sklearn.preprocessing import RobustScaler\n",
      " |  >>> X = [[ 1., -2.,  2.],\n",
      " |  ...      [ -2.,  1.,  3.],\n",
      " |  ...      [ 4.,  1., -2.]]\n",
      " |  >>> transformer = RobustScaler().fit(X)\n",
      " |  >>> transformer\n",
      " |  RobustScaler()\n",
      " |  >>> transformer.transform(X)\n",
      " |  array([[ 0. , -2. ,  0. ],\n",
      " |         [-1. ,  0. ,  0.4],\n",
      " |         [ 1. ,  0. , -1.6]])\n",
      " |  \n",
      " |  See also\n",
      " |  --------\n",
      " |  robust_scale: Equivalent function without the estimator API.\n",
      " |  \n",
      " |  :class:`sklearn.decomposition.PCA`\n",
      " |      Further removes the linear correlation across features with\n",
      " |      'whiten=True'.\n",
      " |  \n",
      " |  Notes\n",
      " |  -----\n",
      " |  For a comparison of the different scalers, transformers, and normalizers,\n",
      " |  see :ref:`examples/preprocessing/plot_all_scaling.py\n",
      " |  <sphx_glr_auto_examples_preprocessing_plot_all_scaling.py>`.\n",
      " |  \n",
      " |  https://en.wikipedia.org/wiki/Median\n",
      " |  https://en.wikipedia.org/wiki/Interquartile_range\n",
      " |  \n",
      " |  Method resolution order:\n",
      " |      RobustScaler\n",
      " |      sklearn.base.TransformerMixin\n",
      " |      sklearn.base.BaseEstimator\n",
      " |      builtins.object\n",
      " |  \n",
      " |  Methods defined here:\n",
      " |  \n",
      " |  __init__(self, *, with_centering=True, with_scaling=True, quantile_range=(25.0, 75.0), copy=True)\n",
      " |      Initialize self.  See help(type(self)) for accurate signature.\n",
      " |  \n",
      " |  fit(self, X, y=None)\n",
      " |      Compute the median and quantiles to be used for scaling.\n",
      " |      \n",
      " |      Parameters\n",
      " |      ----------\n",
      " |      X : array-like, shape [n_samples, n_features]\n",
      " |          The data used to compute the median and quantiles\n",
      " |          used for later scaling along the features axis.\n",
      " |  \n",
      " |  inverse_transform(self, X)\n",
      " |      Scale back the data to the original representation\n",
      " |      \n",
      " |      Parameters\n",
      " |      ----------\n",
      " |      X : array-like\n",
      " |          The data used to scale along the specified axis.\n",
      " |  \n",
      " |  transform(self, X)\n",
      " |      Center and scale the data.\n",
      " |      \n",
      " |      Parameters\n",
      " |      ----------\n",
      " |      X : {array-like, sparse matrix}\n",
      " |          The data used to scale along the specified axis.\n",
      " |  \n",
      " |  ----------------------------------------------------------------------\n",
      " |  Methods inherited from sklearn.base.TransformerMixin:\n",
      " |  \n",
      " |  fit_transform(self, X, y=None, **fit_params)\n",
      " |      Fit to data, then transform it.\n",
      " |      \n",
      " |      Fits transformer to X and y with optional parameters fit_params\n",
      " |      and returns a transformed version of X.\n",
      " |      \n",
      " |      Parameters\n",
      " |      ----------\n",
      " |      X : {array-like, sparse matrix, dataframe} of shape                 (n_samples, n_features)\n",
      " |      \n",
      " |      y : ndarray of shape (n_samples,), default=None\n",
      " |          Target values.\n",
      " |      \n",
      " |      **fit_params : dict\n",
      " |          Additional fit parameters.\n",
      " |      \n",
      " |      Returns\n",
      " |      -------\n",
      " |      X_new : ndarray array of shape (n_samples, n_features_new)\n",
      " |          Transformed array.\n",
      " |  \n",
      " |  ----------------------------------------------------------------------\n",
      " |  Data descriptors inherited from sklearn.base.TransformerMixin:\n",
      " |  \n",
      " |  __dict__\n",
      " |      dictionary for instance variables (if defined)\n",
      " |  \n",
      " |  __weakref__\n",
      " |      list of weak references to the object (if defined)\n",
      " |  \n",
      " |  ----------------------------------------------------------------------\n",
      " |  Methods inherited from sklearn.base.BaseEstimator:\n",
      " |  \n",
      " |  __getstate__(self)\n",
      " |  \n",
      " |  __repr__(self, N_CHAR_MAX=700)\n",
      " |      Return repr(self).\n",
      " |  \n",
      " |  __setstate__(self, state)\n",
      " |  \n",
      " |  get_params(self, deep=True)\n",
      " |      Get parameters for this estimator.\n",
      " |      \n",
      " |      Parameters\n",
      " |      ----------\n",
      " |      deep : bool, default=True\n",
      " |          If True, will return the parameters for this estimator and\n",
      " |          contained subobjects that are estimators.\n",
      " |      \n",
      " |      Returns\n",
      " |      -------\n",
      " |      params : mapping of string to any\n",
      " |          Parameter names mapped to their values.\n",
      " |  \n",
      " |  set_params(self, **params)\n",
      " |      Set the parameters of this estimator.\n",
      " |      \n",
      " |      The method works on simple estimators as well as on nested objects\n",
      " |      (such as pipelines). The latter have parameters of the form\n",
      " |      ``<component>__<parameter>`` so that it's possible to update each\n",
      " |      component of a nested object.\n",
      " |      \n",
      " |      Parameters\n",
      " |      ----------\n",
      " |      **params : dict\n",
      " |          Estimator parameters.\n",
      " |      \n",
      " |      Returns\n",
      " |      -------\n",
      " |      self : object\n",
      " |          Estimator instance.\n",
      "\n"
     ]
    }
   ],
   "source": [
    "help(transformers['features']['dom_x'])"
   ]
  }
 ],
 "metadata": {
  "hide_input": false,
  "kernelspec": {
   "display_name": "Python 3",
   "language": "python",
   "name": "python3"
  },
  "language_info": {
   "codemirror_mode": {
    "name": "ipython",
    "version": 3
   },
   "file_extension": ".py",
   "mimetype": "text/x-python",
   "name": "python",
   "nbconvert_exporter": "python",
   "pygments_lexer": "ipython3",
   "version": "3.8.5"
  }
 },
 "nbformat": 4,
 "nbformat_minor": 4
}
