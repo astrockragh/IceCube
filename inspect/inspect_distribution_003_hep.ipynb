{
 "cells": [
  {
   "cell_type": "code",
   "execution_count": 1,
   "metadata": {
    "ExecuteTime": {
     "end_time": "2021-06-03T17:22:49.229914Z",
     "start_time": "2021-06-03T17:22:42.494819Z"
    }
   },
   "outputs": [],
   "source": [
    "import sqlite3, os, sys\n",
    "import pandas as pd\n",
    "import tensorflow as tf\n",
    "import numpy as np\n",
    "from tqdm.notebook import tqdm"
   ]
  },
  {
   "cell_type": "code",
   "execution_count": 2,
   "metadata": {
    "ExecuteTime": {
     "end_time": "2021-06-03T17:22:49.244864Z",
     "start_time": "2021-06-03T17:22:49.231898Z"
    }
   },
   "outputs": [
    {
     "output_type": "stream",
     "name": "stdout",
     "text": [
      "../../../../pcs557/databases/dev_lvl7_mu_nu_e_classification_v003/data/dev_lvl7_mu_nu_e_classification_v003.db ../../../../pcs557/databases/dev_lvl7_mu_nu_e_classification_v003/meta/transformers.pkl\n"
     ]
    }
   ],
   "source": [
    "# name='IC8611_oscNext_003_final'\n",
    "name='dev_lvl7_mu_nu_e_classification_v003'\n",
    "db_path = f\"../../../../pcs557/databases/{name}/data/{name}.db\"\n",
    "transform_path=f\"../../../../pcs557/databases/{name}/meta/transformers.pkl\"\n",
    "print(db_path, transform_path)"
   ]
  },
  {
   "cell_type": "code",
   "execution_count": 3,
   "metadata": {
    "ExecuteTime": {
     "end_time": "2021-06-03T17:24:40.563344Z",
     "start_time": "2021-06-03T17:24:29.698700Z"
    }
   },
   "outputs": [
    {
     "output_type": "stream",
     "name": "stdout",
     "text": [
      "Reading sets\n"
     ]
    },
    {
     "output_type": "execute_result",
     "data": {
      "text/plain": [
       "   event_no  charge_log10  dom_time     dom_x     dom_y     dom_z  width  \\\n",
       "0    890001      0.416667  0.250936  0.958927 -0.707658 -0.999919    1.0   \n",
       "1    890001      0.666667  1.254682  0.000000  0.255849 -0.666075    1.0   \n",
       "2    890001      0.333333  1.956929  0.538696  1.427914 -0.935265    1.0   \n",
       "3    890001      0.000000  2.271536 -0.057160  0.959408 -0.577771    0.0   \n",
       "4    890001     -0.166667  1.559925 -0.057160  0.959408 -0.690855    0.0   \n",
       "\n",
       "   pmt_area   rqe  \n",
       "0       0.0 -0.35  \n",
       "1       0.0  0.00  \n",
       "2       0.0 -0.35  \n",
       "3       0.0  0.00  \n",
       "4       0.0  0.00  "
      ],
      "text/html": "<div>\n<style scoped>\n    .dataframe tbody tr th:only-of-type {\n        vertical-align: middle;\n    }\n\n    .dataframe tbody tr th {\n        vertical-align: top;\n    }\n\n    .dataframe thead th {\n        text-align: right;\n    }\n</style>\n<table border=\"1\" class=\"dataframe\">\n  <thead>\n    <tr style=\"text-align: right;\">\n      <th></th>\n      <th>event_no</th>\n      <th>charge_log10</th>\n      <th>dom_time</th>\n      <th>dom_x</th>\n      <th>dom_y</th>\n      <th>dom_z</th>\n      <th>width</th>\n      <th>pmt_area</th>\n      <th>rqe</th>\n    </tr>\n  </thead>\n  <tbody>\n    <tr>\n      <th>0</th>\n      <td>890001</td>\n      <td>0.416667</td>\n      <td>0.250936</td>\n      <td>0.958927</td>\n      <td>-0.707658</td>\n      <td>-0.999919</td>\n      <td>1.0</td>\n      <td>0.0</td>\n      <td>-0.35</td>\n    </tr>\n    <tr>\n      <th>1</th>\n      <td>890001</td>\n      <td>0.666667</td>\n      <td>1.254682</td>\n      <td>0.000000</td>\n      <td>0.255849</td>\n      <td>-0.666075</td>\n      <td>1.0</td>\n      <td>0.0</td>\n      <td>0.00</td>\n    </tr>\n    <tr>\n      <th>2</th>\n      <td>890001</td>\n      <td>0.333333</td>\n      <td>1.956929</td>\n      <td>0.538696</td>\n      <td>1.427914</td>\n      <td>-0.935265</td>\n      <td>1.0</td>\n      <td>0.0</td>\n      <td>-0.35</td>\n    </tr>\n    <tr>\n      <th>3</th>\n      <td>890001</td>\n      <td>0.000000</td>\n      <td>2.271536</td>\n      <td>-0.057160</td>\n      <td>0.959408</td>\n      <td>-0.577771</td>\n      <td>0.0</td>\n      <td>0.0</td>\n      <td>0.00</td>\n    </tr>\n    <tr>\n      <th>4</th>\n      <td>890001</td>\n      <td>-0.166667</td>\n      <td>1.559925</td>\n      <td>-0.057160</td>\n      <td>0.959408</td>\n      <td>-0.690855</td>\n      <td>0.0</td>\n      <td>0.0</td>\n      <td>0.00</td>\n    </tr>\n  </tbody>\n</table>\n</div>"
     },
     "metadata": {},
     "execution_count": 3
    }
   ],
   "source": [
    "transform_path='../db_files/dev_lvl7/transformers.pkl'\n",
    "db_path= '../db_files/dev_lvl7/dev_lvl7_mu_nu_e_classification_v003.db'\n",
    "conn = sqlite3.connect(db_path)\n",
    "def get_event_no():\n",
    "        print('Reading sets')\n",
    "        sets = pd.read_pickle('../db_files/dev_lvl7/sets.pkl')\n",
    "        train_events = sets['train']\n",
    "        test_events = sets['test']\n",
    "        return train_events['event_no'].to_numpy(), test_events['event_no'].to_numpy()\n",
    "_, test_events=get_event_no()\n",
    "df_feat=pd.read_sql(f\"select * from features where event_no in {tuple(test_events)} limit 100\", conn)\n",
    "df_feat.head()"
   ]
  },
  {
   "cell_type": "code",
   "execution_count": 4,
   "metadata": {
    "ExecuteTime": {
     "end_time": "2021-06-03T17:22:40.023556Z",
     "start_time": "2021-06-03T17:22:39.613542Z"
    }
   },
   "outputs": [],
   "source": [
    "features =[\"event_no\", \"dom_x\", \"dom_y\", \"dom_z\", \"dom_time\", \"charge_log10\", \"width\", \"rqe\"]\n",
    "feature_call = \", \".join(features)\n",
    "df_feat=pd.read_sql(f\"select {feature_call} from features where event_no in {tuple(test_events)}\", conn)\n",
    "cols=df_feat.columns"
   ]
  },
  {
   "cell_type": "code",
   "execution_count": 5,
   "metadata": {
    "ExecuteTime": {
     "start_time": "2021-06-03T17:14:47.243Z"
    }
   },
   "outputs": [
    {
     "output_type": "execute_result",
     "data": {
      "text/plain": [
       "dict_keys(['charge_log10', 'width', 'rqe', 'dom_x', 'dom_y', 'dom_z', 'dom_time', 'pmt_area'])"
      ]
     },
     "metadata": {},
     "execution_count": 5
    }
   ],
   "source": [
    "import pickle\n",
    "transformers = pickle.load(open(transform_path, 'rb'))\n",
    "trans_y      = transformers['features']\n",
    "trans_keys=trans_y.keys()\n",
    "trans_keys"
   ]
  },
  {
   "cell_type": "code",
   "execution_count": 6,
   "metadata": {},
   "outputs": [],
   "source": [
    "for col in list(trans_keys)[:-1]:\n",
    "    df_feat[col] = trans_y[col].inverse_transform(np.array(df_feat[col]).reshape(1, -1)).T"
   ]
  },
  {
   "cell_type": "code",
   "execution_count": 7,
   "metadata": {},
   "outputs": [],
   "source": [
    "df_feat=df_feat.sort_values(by='event_no')"
   ]
  },
  {
   "cell_type": "code",
   "execution_count": 8,
   "metadata": {},
   "outputs": [],
   "source": [
    "event_nos, counts = np.unique(df_feat['event_no'], return_counts=1)"
   ]
  },
  {
   "cell_type": "code",
   "execution_count": 9,
   "metadata": {},
   "outputs": [],
   "source": [
    "# df_clean=df_feat['rqe']"
   ]
  },
  {
   "cell_type": "code",
   "execution_count": 10,
   "metadata": {},
   "outputs": [],
   "source": [
    "x_not_split=np.array(df_feat.drop('event_no', axis=1))\n",
    "xs = np.split(x_not_split, np.cumsum(counts)[:-1])"
   ]
  },
  {
   "cell_type": "code",
   "execution_count": 61,
   "metadata": {},
   "outputs": [
    {
     "output_type": "display_data",
     "data": {
      "text/plain": "HBox(children=(HTML(value=''), FloatProgress(value=0.0, max=1658362.0), HTML(value='')))",
      "application/vnd.jupyter.widget-view+json": {
       "version_major": 2,
       "version_minor": 0,
       "model_id": "3b63bb1ba39e43abafd0dcfb4f9c24d3"
      }
     },
     "metadata": {}
    },
    {
     "output_type": "stream",
     "name": "stdout",
     "text": [
      "\n"
     ]
    }
   ],
   "source": [
    "n_strings=np.zeros(len(xs))\n",
    "n_layers=np.zeros(len(xs))\n",
    "cq=np.zeros((len(xs), 3))\n",
    "for i in tqdm(range(len(xs))):\n",
    "    _ , nlayers = np.unique(xs[i][:,2], return_counts=True)\n",
    "    # xy=[tuple(i) for i in xs[i][:,:2]]\n",
    "    _ , nstring = np.unique(xs[i][:,:2], return_counts=True, axis=0)\n",
    "    cqe=xs[i][:,5]/np.sum(xs[i][:,5])\n",
    "    cq[i]=np.sum(np.array([cqe,cqe,cqe]).T*xs[i][:,:3], axis=0)\n",
    "    n_layers[i]=len(nlayers)\n",
    "    n_strings[i]=len(nstring)"
   ]
  },
  {
   "cell_type": "code",
   "execution_count": 62,
   "metadata": {
    "ExecuteTime": {
     "end_time": "2021-04-23T14:04:13.584500Z",
     "start_time": "2021-04-23T14:04:10.238Z"
    }
   },
   "outputs": [],
   "source": [
    "n_doms=counts"
   ]
  },
  {
   "cell_type": "code",
   "execution_count": 63,
   "metadata": {},
   "outputs": [],
   "source": [
    "df_stats=pd.DataFrame(event_nos, columns=['event_no'])"
   ]
  },
  {
   "cell_type": "code",
   "execution_count": 64,
   "metadata": {},
   "outputs": [],
   "source": [
    "df_stats['n_strings']=n_strings\n",
    "df_stats['n_doms']=n_doms\n",
    "for i, x in enumerate(['x', 'y', 'z']):\n",
    "    df_stats['cq_'+x]=cq[:,i]"
   ]
  },
  {
   "cell_type": "code",
   "execution_count": 67,
   "metadata": {},
   "outputs": [
    {
     "output_type": "execute_result",
     "data": {
      "text/plain": [
       "           event_no     n_strings        n_doms          cq_x          cq_y  \\\n",
       "count  1.658362e+06  1.658362e+06  1.658362e+06  1.658362e+06  1.658362e+06   \n",
       "mean   7.829285e+06  6.295752e+00  2.623494e+01  4.843068e+01 -3.722182e+01   \n",
       "std    9.971316e+06  2.794635e+00  2.957779e+01  3.304789e+01  3.918282e+01   \n",
       "min    8.000000e+00  1.000000e+00  8.000000e+00 -2.626905e+02 -3.029873e+02   \n",
       "25%    3.465256e+06  4.000000e+00  1.200000e+01  2.638882e+01 -6.819535e+01   \n",
       "50%    6.930758e+06  6.000000e+00  1.700000e+01  4.855275e+01 -4.370115e+01   \n",
       "75%    1.035765e+07  8.000000e+00  2.800000e+01  7.056690e+01 -7.250909e+00   \n",
       "max    1.171048e+08  3.000000e+01  1.067000e+03  3.297478e+02  2.488866e+02   \n",
       "\n",
       "               cq_z  \n",
       "count  1.658362e+06  \n",
       "mean  -3.495128e+02  \n",
       "std    6.716445e+01  \n",
       "min   -5.022790e+02  \n",
       "25%   -4.049835e+02  \n",
       "50%   -3.459186e+02  \n",
       "75%   -3.028737e+02  \n",
       "max    1.446069e+02  "
      ],
      "text/html": "<div>\n<style scoped>\n    .dataframe tbody tr th:only-of-type {\n        vertical-align: middle;\n    }\n\n    .dataframe tbody tr th {\n        vertical-align: top;\n    }\n\n    .dataframe thead th {\n        text-align: right;\n    }\n</style>\n<table border=\"1\" class=\"dataframe\">\n  <thead>\n    <tr style=\"text-align: right;\">\n      <th></th>\n      <th>event_no</th>\n      <th>n_strings</th>\n      <th>n_doms</th>\n      <th>cq_x</th>\n      <th>cq_y</th>\n      <th>cq_z</th>\n    </tr>\n  </thead>\n  <tbody>\n    <tr>\n      <th>count</th>\n      <td>1.658362e+06</td>\n      <td>1.658362e+06</td>\n      <td>1.658362e+06</td>\n      <td>1.658362e+06</td>\n      <td>1.658362e+06</td>\n      <td>1.658362e+06</td>\n    </tr>\n    <tr>\n      <th>mean</th>\n      <td>7.829285e+06</td>\n      <td>6.295752e+00</td>\n      <td>2.623494e+01</td>\n      <td>4.843068e+01</td>\n      <td>-3.722182e+01</td>\n      <td>-3.495128e+02</td>\n    </tr>\n    <tr>\n      <th>std</th>\n      <td>9.971316e+06</td>\n      <td>2.794635e+00</td>\n      <td>2.957779e+01</td>\n      <td>3.304789e+01</td>\n      <td>3.918282e+01</td>\n      <td>6.716445e+01</td>\n    </tr>\n    <tr>\n      <th>min</th>\n      <td>8.000000e+00</td>\n      <td>1.000000e+00</td>\n      <td>8.000000e+00</td>\n      <td>-2.626905e+02</td>\n      <td>-3.029873e+02</td>\n      <td>-5.022790e+02</td>\n    </tr>\n    <tr>\n      <th>25%</th>\n      <td>3.465256e+06</td>\n      <td>4.000000e+00</td>\n      <td>1.200000e+01</td>\n      <td>2.638882e+01</td>\n      <td>-6.819535e+01</td>\n      <td>-4.049835e+02</td>\n    </tr>\n    <tr>\n      <th>50%</th>\n      <td>6.930758e+06</td>\n      <td>6.000000e+00</td>\n      <td>1.700000e+01</td>\n      <td>4.855275e+01</td>\n      <td>-4.370115e+01</td>\n      <td>-3.459186e+02</td>\n    </tr>\n    <tr>\n      <th>75%</th>\n      <td>1.035765e+07</td>\n      <td>8.000000e+00</td>\n      <td>2.800000e+01</td>\n      <td>7.056690e+01</td>\n      <td>-7.250909e+00</td>\n      <td>-3.028737e+02</td>\n    </tr>\n    <tr>\n      <th>max</th>\n      <td>1.171048e+08</td>\n      <td>3.000000e+01</td>\n      <td>1.067000e+03</td>\n      <td>3.297478e+02</td>\n      <td>2.488866e+02</td>\n      <td>1.446069e+02</td>\n    </tr>\n  </tbody>\n</table>\n</div>"
     },
     "metadata": {},
     "execution_count": 67
    }
   ],
   "source": [
    "df_stats.describe() "
   ]
  },
  {
   "cell_type": "code",
   "execution_count": 69,
   "metadata": {},
   "outputs": [],
   "source": [
    "df_stats.to_csv('../db_files/stats.csv')"
   ]
  },
  {
   "cell_type": "code",
   "execution_count": 58,
   "metadata": {},
   "outputs": [
    {
     "output_type": "execute_result",
     "data": {
      "text/plain": [
       "(array([-131.25      , -105.51999664,  -79.5       ,  -66.59999847,\n",
       "         -60.47000122,  -10.97000027,   -9.68000031,    6.71999979,\n",
       "          27.09000015,   57.20000076,   72.37000275,  106.94000244,\n",
       "         113.19000244,  124.97000122]),\n",
       " [(-10.970000267028809, 6.71999979019165),\n",
       "  (-10.970000267028809, 6.71999979019165),\n",
       "  (-9.680000305175781, -79.5),\n",
       "  (57.20000076293945, -105.5199966430664),\n",
       "  (113.19000244140625, -60.470001220703125),\n",
       "  (113.19000244140625, -60.470001220703125),\n",
       "  (113.19000244140625, -60.470001220703125),\n",
       "  (113.19000244140625, -60.470001220703125),\n",
       "  (113.19000244140625, -60.470001220703125),\n",
       "  (106.94000244140625, 27.09000015258789),\n",
       "  (72.37000274658203, -66.5999984741211),\n",
       "  (72.37000274658203, -66.5999984741211),\n",
       "  (72.37000274658203, -66.5999984741211),\n",
       "  (124.97000122070312, -131.25),\n",
       "  (124.97000122070312, -131.25),\n",
       "  (113.19000244140625, -60.470001220703125)])"
      ]
     },
     "metadata": {},
     "execution_count": 58
    }
   ],
   "source": [
    "xy=[tuple(i) for i in xs[k][:,:2]]\n",
    "vals  = np.unique(xy)\n",
    "vals, xy"
   ]
  },
  {
   "cell_type": "code",
   "execution_count": 33,
   "metadata": {},
   "outputs": [
    {
     "ename": "NameError",
     "evalue": "name 'event_nocall' is not defined",
     "output_type": "error",
     "traceback": [
      "\u001b[0;31m---------------------------------------------------------------------------\u001b[0m",
      "\u001b[0;31mNameError\u001b[0m                                 Traceback (most recent call last)",
      "\u001b[0;32m<ipython-input-33-2ef0da7cd8eb>\u001b[0m in \u001b[0;36m<module>\u001b[0;34m\u001b[0m\n\u001b[0;32m----> 1\u001b[0;31m \u001b[0mevent_nocall\u001b[0m\u001b[0;34m\u001b[0m\u001b[0;34m\u001b[0m\u001b[0m\n\u001b[0m",
      "\u001b[0;31mNameError\u001b[0m: name 'event_nocall' is not defined"
     ]
    }
   ],
   "source": [
    "event_nocall"
   ]
  },
  {
   "cell_type": "code",
   "execution_count": null,
   "metadata": {
    "ExecuteTime": {
     "end_time": "2021-04-23T14:04:13.586495Z",
     "start_time": "2021-04-23T14:04:10.244Z"
    }
   },
   "outputs": [],
   "source": [
    "stop_id.fetchall()"
   ]
  },
  {
   "cell_type": "code",
   "execution_count": null,
   "metadata": {
    "ExecuteTime": {
     "end_time": "2021-04-23T14:04:13.587492Z",
     "start_time": "2021-04-23T14:04:10.246Z"
    }
   },
   "outputs": [],
   "source": [
    "start, stop = 0, 100000\n",
    "# start_id  = conn.execute(f\"select distinct event_no from features where pid = 13 limit \")\n",
    "event_nos = pd.read_sql(f\"select distinct event_no from features limit {stop} offset {start}\", conn)"
   ]
  },
  {
   "cell_type": "code",
   "execution_count": null,
   "metadata": {
    "ExecuteTime": {
     "end_time": "2021-04-23T14:04:13.588491Z",
     "start_time": "2021-04-23T14:04:10.247Z"
    }
   },
   "outputs": [],
   "source": [
    "event_nos"
   ]
  },
  {
   "cell_type": "code",
   "execution_count": null,
   "metadata": {
    "ExecuteTime": {
     "end_time": "2021-04-23T14:04:13.589487Z",
     "start_time": "2021-04-23T14:04:10.250Z"
    }
   },
   "outputs": [],
   "source": [
    "start, stop = 0, 100000\n",
    "select_rows = [\"dom_x\", \"dom_y\", \"dom_z\", \"time\", \"charge_log10\"]\n",
    "\n",
    "start_id = conn.execute(f\"select distinct event_no from features limit 1 offset {start}\").fetchall()[0][0]\n",
    "stop_id  = conn.execute(f\"select distinct event_no from features limit 1 offset {stop}\").fetchall()[0][0]"
   ]
  },
  {
   "cell_type": "code",
   "execution_count": null,
   "metadata": {
    "ExecuteTime": {
     "end_time": "2021-04-23T14:04:13.590484Z",
     "start_time": "2021-04-23T14:04:10.252Z"
    }
   },
   "outputs": [],
   "source": [
    "features = [\"dom_x\", \"dom_y\", \"dom_z\", \"time\", \"charge_log10\"]\n",
    "targets  = [\"energy_log10\", \"position_x\", \"position_y\", \"position_z\", \"direction_x\", \"direction_y\", \"direction_z\"]\n",
    "feature_call = \", \".join(features)\n",
    "target_call  = \", \".join(targets)\n",
    "df_event = pd.read_sql(f\"select event_no       from features where event_no >= {start_id} and event_no < {stop_id}\", conn)\n",
    "df_feat  = pd.read_sql(f\"select {feature_call} from features where event_no >= {start_id} and event_no < {stop_id}\", conn)\n",
    "df_targ  = pd.read_sql(f\"select {target_call } from truth    where event_no >= {start_id} and event_no < {stop_id}\", conn)"
   ]
  },
  {
   "cell_type": "code",
   "execution_count": null,
   "metadata": {
    "ExecuteTime": {
     "end_time": "2021-04-23T14:04:13.591481Z",
     "start_time": "2021-04-23T14:04:10.254Z"
    }
   },
   "outputs": [],
   "source": [
    "idx_list    = np.array(df_event)\n",
    "x_not_split = np.array(df_feat)"
   ]
  },
  {
   "cell_type": "code",
   "execution_count": null,
   "metadata": {
    "ExecuteTime": {
     "end_time": "2021-04-23T14:04:13.592479Z",
     "start_time": "2021-04-23T14:04:10.257Z"
    },
    "scrolled": true
   },
   "outputs": [],
   "source": [
    "np.shape(idx_list)"
   ]
  },
  {
   "cell_type": "code",
   "execution_count": null,
   "metadata": {
    "ExecuteTime": {
     "end_time": "2021-04-23T14:04:13.593476Z",
     "start_time": "2021-04-23T14:04:10.259Z"
    }
   },
   "outputs": [],
   "source": [
    "ids, idx, counts = np.unique(idx_list.flatten(), return_index = True, return_counts = True) "
   ]
  },
  {
   "cell_type": "code",
   "execution_count": null,
   "metadata": {
    "ExecuteTime": {
     "end_time": "2021-04-23T14:04:13.594474Z",
     "start_time": "2021-04-23T14:04:10.261Z"
    }
   },
   "outputs": [],
   "source": [
    "np.sum(counts)"
   ]
  },
  {
   "cell_type": "code",
   "execution_count": null,
   "metadata": {
    "ExecuteTime": {
     "end_time": "2021-04-23T14:04:13.595472Z",
     "start_time": "2021-04-23T14:04:10.263Z"
    }
   },
   "outputs": [],
   "source": [
    "x_not_split.shape"
   ]
  },
  {
   "cell_type": "code",
   "execution_count": null,
   "metadata": {
    "ExecuteTime": {
     "end_time": "2021-04-23T14:04:13.596504Z",
     "start_time": "2021-04-23T14:04:10.266Z"
    }
   },
   "outputs": [],
   "source": [
    "xs = np.split(x_not_split, np.cumsum(counts))"
   ]
  },
  {
   "cell_type": "code",
   "execution_count": null,
   "metadata": {
    "ExecuteTime": {
     "end_time": "2021-04-23T14:04:13.597466Z",
     "start_time": "2021-04-23T14:04:10.267Z"
    }
   },
   "outputs": [],
   "source": [
    "ys = np.array(df_targ)"
   ]
  },
  {
   "cell_type": "code",
   "execution_count": null,
   "metadata": {
    "ExecuteTime": {
     "end_time": "2021-04-23T14:04:13.599462Z",
     "start_time": "2021-04-23T14:04:10.268Z"
    }
   },
   "outputs": [],
   "source": [
    "np.shape(xs)"
   ]
  },
  {
   "cell_type": "code",
   "execution_count": null,
   "metadata": {
    "ExecuteTime": {
     "end_time": "2021-04-23T14:04:13.600457Z",
     "start_time": "2021-04-23T14:04:10.270Z"
    }
   },
   "outputs": [],
   "source": [
    "for x, y in zip(xs, ys):\n",
    "    print(x, y)\n",
    "    break"
   ]
  },
  {
   "cell_type": "code",
   "execution_count": null,
   "metadata": {
    "ExecuteTime": {
     "end_time": "2021-04-23T14:04:13.601455Z",
     "start_time": "2021-04-23T14:04:10.272Z"
    },
    "scrolled": true
   },
   "outputs": [],
   "source": [
    "from sklearn.neighbors import kneighbors_graph as knn\n",
    "from spektral.data import Graph\n",
    "neighbors=6"
   ]
  },
  {
   "cell_type": "code",
   "execution_count": null,
   "metadata": {
    "ExecuteTime": {
     "end_time": "2021-04-23T14:04:13.602452Z",
     "start_time": "2021-04-23T14:04:10.273Z"
    }
   },
   "outputs": [],
   "source": [
    "print(\"Generating adjacency matrices\")\n",
    "graph_list = []\n",
    "for x, y in tqdm(zip(xs, ys), total = len(xs)):\n",
    "    a = knn(x[:, :3], neighbors)\n",
    "\n",
    "\n",
    "\n",
    "    graph_list.append(Graph(x = x, a = a, y = y))\n",
    "\n",
    "graph_list = np.array(graph_list, dtype = object)"
   ]
  },
  {
   "cell_type": "code",
   "execution_count": null,
   "metadata": {
    "ExecuteTime": {
     "end_time": "2021-04-23T14:04:13.603450Z",
     "start_time": "2021-04-23T14:04:10.275Z"
    }
   },
   "outputs": [],
   "source": [
    "s = [x.shape[0] for x in xs]"
   ]
  },
  {
   "cell_type": "code",
   "execution_count": null,
   "metadata": {
    "ExecuteTime": {
     "end_time": "2021-04-23T14:04:13.604447Z",
     "start_time": "2021-04-23T14:04:10.276Z"
    }
   },
   "outputs": [],
   "source": [
    "xs = np.array(xs, dtype = object)[np.argsort(s)]"
   ]
  },
  {
   "cell_type": "code",
   "execution_count": null,
   "metadata": {
    "ExecuteTime": {
     "end_time": "2021-04-23T14:04:13.605444Z",
     "start_time": "2021-04-23T14:04:10.277Z"
    }
   },
   "outputs": [],
   "source": [
    "size, idx = np.unique(np.sort(s), return_index = True)"
   ]
  },
  {
   "cell_type": "code",
   "execution_count": null,
   "metadata": {
    "ExecuteTime": {
     "end_time": "2021-04-23T14:04:13.606444Z",
     "start_time": "2021-04-23T14:04:10.278Z"
    }
   },
   "outputs": [],
   "source": [
    "preprocess(list(xs[4: 9]))"
   ]
  },
  {
   "cell_type": "code",
   "execution_count": null,
   "metadata": {
    "ExecuteTime": {
     "end_time": "2021-04-23T14:04:13.607439Z",
     "start_time": "2021-04-23T14:04:10.280Z"
    }
   },
   "outputs": [],
   "source": [
    "np.sort(s)"
   ]
  },
  {
   "cell_type": "code",
   "execution_count": null,
   "metadata": {
    "ExecuteTime": {
     "end_time": "2021-04-23T14:04:13.608438Z",
     "start_time": "2021-04-23T14:04:10.282Z"
    }
   },
   "outputs": [],
   "source": [
    "idx"
   ]
  },
  {
   "cell_type": "code",
   "execution_count": null,
   "metadata": {
    "ExecuteTime": {
     "end_time": "2021-04-23T14:04:13.609433Z",
     "start_time": "2021-04-23T14:04:10.283Z"
    }
   },
   "outputs": [],
   "source": [
    "import pickle\n",
    "transformers = pickle.load(open('../db_files/muongun/transformers.pkl', 'rb'))\n",
    "trans_x      = transformers['features']\n",
    "trans_y      = transformers['truth']"
   ]
  },
  {
   "cell_type": "code",
   "execution_count": 15,
   "metadata": {
    "ExecuteTime": {
     "end_time": "2021-04-23T14:29:14.598852Z",
     "start_time": "2021-04-23T14:29:14.586886Z"
    }
   },
   "outputs": [],
   "source": [
    "diff={'hyper_params':{'hidden_states': [128,64,32],\n",
    "     'dropout': [0,0.05],\n",
    "     'conv_layers': [1,2,3],\n",
    "     'decode_layers': [2,4]},\n",
    "     'run_params':{'batch_size':[512,1024,2048]}}"
   ]
  },
  {
   "cell_type": "code",
   "execution_count": 23,
   "metadata": {
    "ExecuteTime": {
     "end_time": "2021-04-23T14:35:19.650581Z",
     "start_time": "2021-04-23T14:35:19.638646Z"
    }
   },
   "outputs": [],
   "source": [
    "diff={'hidden_states': [128,64,32],\n",
    "     'dropout': [0,0.05],\n",
    "     'conv_layers': [1,2,3],\n",
    "     'decode_layers': [2,4],\n",
    "     'batch_size':[512,1024,2048]}"
   ]
  },
  {
   "cell_type": "code",
   "execution_count": 42,
   "metadata": {
    "ExecuteTime": {
     "end_time": "2021-04-23T15:12:30.307532Z",
     "start_time": "2021-04-23T15:12:30.299553Z"
    }
   },
   "outputs": [],
   "source": [
    "def perms(diffs):\n",
    "    from itertools import product\n",
    "    keys=list(diffs.keys())\n",
    "    val=list(diffs.values())\n",
    "    for i, s in enumerate(val):\n",
    "        if i==0:\n",
    "            a=val[0]\n",
    "        else:\n",
    "            a=product(a, val[i])\n",
    "    bs=[]\n",
    "    for b in a:\n",
    "        bs.append(b)\n",
    "    output=[]\n",
    "    def removeNestings(l):\n",
    "        for i in l:\n",
    "            if type(i) == tuple:\n",
    "                removeNestings(i)\n",
    "            else:\n",
    "                output.append(i)\n",
    "    removeNestings(bs)\n",
    "    perms=np.array(output)\n",
    "#     perms=[int(num) if float(num).is_integer() else num for num in perms]\n",
    "    return perms.reshape(-1, len(keys))"
   ]
  },
  {
   "cell_type": "code",
   "execution_count": 47,
   "metadata": {
    "ExecuteTime": {
     "end_time": "2021-04-23T15:13:46.923586Z",
     "start_time": "2021-04-23T15:13:46.909623Z"
    }
   },
   "outputs": [
    {
     "name": "stdout",
     "output_type": "stream",
     "text": [
      "<class 'int'>\n",
      "<class 'float'>\n",
      "<class 'int'>\n",
      "<class 'int'>\n"
     ]
    }
   ],
   "source": [
    "keys=list(diff.keys())\n",
    "for j, key in enumerate(keys):\n",
    "    if key in base['run_params']:\n",
    "        base['run_params'][key]=p[0][j]\n",
    "    elif key in base['hyper_params']:\n",
    "        typ=type(base['hyper_params'][key])\n",
    "        base['hyper_params'][key]=typ(p[0][j])\n",
    "    elif key in base['data_params']:\n",
    "        base['data_params'][key]=p[0][j]"
   ]
  },
  {
   "cell_type": "code",
   "execution_count": 44,
   "metadata": {
    "ExecuteTime": {
     "end_time": "2021-04-23T15:12:30.930201Z",
     "start_time": "2021-04-23T15:12:30.920228Z"
    }
   },
   "outputs": [],
   "source": [
    "p=perms(diff)"
   ]
  },
  {
   "cell_type": "code",
   "execution_count": 38,
   "metadata": {
    "ExecuteTime": {
     "end_time": "2021-04-23T15:06:12.358843Z",
     "start_time": "2021-04-23T15:06:12.338895Z"
    }
   },
   "outputs": [
    {
     "data": {
      "text/plain": [
       "array([[1.280e+02, 0.000e+00, 1.000e+00, 2.000e+00, 5.120e+02],\n",
       "       [1.280e+02, 0.000e+00, 1.000e+00, 2.000e+00, 1.024e+03],\n",
       "       [1.280e+02, 0.000e+00, 1.000e+00, 2.000e+00, 2.048e+03],\n",
       "       [1.280e+02, 0.000e+00, 1.000e+00, 4.000e+00, 5.120e+02],\n",
       "       [1.280e+02, 0.000e+00, 1.000e+00, 4.000e+00, 1.024e+03],\n",
       "       [1.280e+02, 0.000e+00, 1.000e+00, 4.000e+00, 2.048e+03],\n",
       "       [1.280e+02, 0.000e+00, 2.000e+00, 2.000e+00, 5.120e+02],\n",
       "       [1.280e+02, 0.000e+00, 2.000e+00, 2.000e+00, 1.024e+03],\n",
       "       [1.280e+02, 0.000e+00, 2.000e+00, 2.000e+00, 2.048e+03],\n",
       "       [1.280e+02, 0.000e+00, 2.000e+00, 4.000e+00, 5.120e+02],\n",
       "       [1.280e+02, 0.000e+00, 2.000e+00, 4.000e+00, 1.024e+03],\n",
       "       [1.280e+02, 0.000e+00, 2.000e+00, 4.000e+00, 2.048e+03],\n",
       "       [1.280e+02, 0.000e+00, 3.000e+00, 2.000e+00, 5.120e+02],\n",
       "       [1.280e+02, 0.000e+00, 3.000e+00, 2.000e+00, 1.024e+03],\n",
       "       [1.280e+02, 0.000e+00, 3.000e+00, 2.000e+00, 2.048e+03],\n",
       "       [1.280e+02, 0.000e+00, 3.000e+00, 4.000e+00, 5.120e+02],\n",
       "       [1.280e+02, 0.000e+00, 3.000e+00, 4.000e+00, 1.024e+03],\n",
       "       [1.280e+02, 0.000e+00, 3.000e+00, 4.000e+00, 2.048e+03],\n",
       "       [1.280e+02, 5.000e-02, 1.000e+00, 2.000e+00, 5.120e+02],\n",
       "       [1.280e+02, 5.000e-02, 1.000e+00, 2.000e+00, 1.024e+03],\n",
       "       [1.280e+02, 5.000e-02, 1.000e+00, 2.000e+00, 2.048e+03],\n",
       "       [1.280e+02, 5.000e-02, 1.000e+00, 4.000e+00, 5.120e+02],\n",
       "       [1.280e+02, 5.000e-02, 1.000e+00, 4.000e+00, 1.024e+03],\n",
       "       [1.280e+02, 5.000e-02, 1.000e+00, 4.000e+00, 2.048e+03],\n",
       "       [1.280e+02, 5.000e-02, 2.000e+00, 2.000e+00, 5.120e+02],\n",
       "       [1.280e+02, 5.000e-02, 2.000e+00, 2.000e+00, 1.024e+03],\n",
       "       [1.280e+02, 5.000e-02, 2.000e+00, 2.000e+00, 2.048e+03],\n",
       "       [1.280e+02, 5.000e-02, 2.000e+00, 4.000e+00, 5.120e+02],\n",
       "       [1.280e+02, 5.000e-02, 2.000e+00, 4.000e+00, 1.024e+03],\n",
       "       [1.280e+02, 5.000e-02, 2.000e+00, 4.000e+00, 2.048e+03],\n",
       "       [1.280e+02, 5.000e-02, 3.000e+00, 2.000e+00, 5.120e+02],\n",
       "       [1.280e+02, 5.000e-02, 3.000e+00, 2.000e+00, 1.024e+03],\n",
       "       [1.280e+02, 5.000e-02, 3.000e+00, 2.000e+00, 2.048e+03],\n",
       "       [1.280e+02, 5.000e-02, 3.000e+00, 4.000e+00, 5.120e+02],\n",
       "       [1.280e+02, 5.000e-02, 3.000e+00, 4.000e+00, 1.024e+03],\n",
       "       [1.280e+02, 5.000e-02, 3.000e+00, 4.000e+00, 2.048e+03],\n",
       "       [6.400e+01, 0.000e+00, 1.000e+00, 2.000e+00, 5.120e+02],\n",
       "       [6.400e+01, 0.000e+00, 1.000e+00, 2.000e+00, 1.024e+03],\n",
       "       [6.400e+01, 0.000e+00, 1.000e+00, 2.000e+00, 2.048e+03],\n",
       "       [6.400e+01, 0.000e+00, 1.000e+00, 4.000e+00, 5.120e+02],\n",
       "       [6.400e+01, 0.000e+00, 1.000e+00, 4.000e+00, 1.024e+03],\n",
       "       [6.400e+01, 0.000e+00, 1.000e+00, 4.000e+00, 2.048e+03],\n",
       "       [6.400e+01, 0.000e+00, 2.000e+00, 2.000e+00, 5.120e+02],\n",
       "       [6.400e+01, 0.000e+00, 2.000e+00, 2.000e+00, 1.024e+03],\n",
       "       [6.400e+01, 0.000e+00, 2.000e+00, 2.000e+00, 2.048e+03],\n",
       "       [6.400e+01, 0.000e+00, 2.000e+00, 4.000e+00, 5.120e+02],\n",
       "       [6.400e+01, 0.000e+00, 2.000e+00, 4.000e+00, 1.024e+03],\n",
       "       [6.400e+01, 0.000e+00, 2.000e+00, 4.000e+00, 2.048e+03],\n",
       "       [6.400e+01, 0.000e+00, 3.000e+00, 2.000e+00, 5.120e+02],\n",
       "       [6.400e+01, 0.000e+00, 3.000e+00, 2.000e+00, 1.024e+03],\n",
       "       [6.400e+01, 0.000e+00, 3.000e+00, 2.000e+00, 2.048e+03],\n",
       "       [6.400e+01, 0.000e+00, 3.000e+00, 4.000e+00, 5.120e+02],\n",
       "       [6.400e+01, 0.000e+00, 3.000e+00, 4.000e+00, 1.024e+03],\n",
       "       [6.400e+01, 0.000e+00, 3.000e+00, 4.000e+00, 2.048e+03],\n",
       "       [6.400e+01, 5.000e-02, 1.000e+00, 2.000e+00, 5.120e+02],\n",
       "       [6.400e+01, 5.000e-02, 1.000e+00, 2.000e+00, 1.024e+03],\n",
       "       [6.400e+01, 5.000e-02, 1.000e+00, 2.000e+00, 2.048e+03],\n",
       "       [6.400e+01, 5.000e-02, 1.000e+00, 4.000e+00, 5.120e+02],\n",
       "       [6.400e+01, 5.000e-02, 1.000e+00, 4.000e+00, 1.024e+03],\n",
       "       [6.400e+01, 5.000e-02, 1.000e+00, 4.000e+00, 2.048e+03],\n",
       "       [6.400e+01, 5.000e-02, 2.000e+00, 2.000e+00, 5.120e+02],\n",
       "       [6.400e+01, 5.000e-02, 2.000e+00, 2.000e+00, 1.024e+03],\n",
       "       [6.400e+01, 5.000e-02, 2.000e+00, 2.000e+00, 2.048e+03],\n",
       "       [6.400e+01, 5.000e-02, 2.000e+00, 4.000e+00, 5.120e+02],\n",
       "       [6.400e+01, 5.000e-02, 2.000e+00, 4.000e+00, 1.024e+03],\n",
       "       [6.400e+01, 5.000e-02, 2.000e+00, 4.000e+00, 2.048e+03],\n",
       "       [6.400e+01, 5.000e-02, 3.000e+00, 2.000e+00, 5.120e+02],\n",
       "       [6.400e+01, 5.000e-02, 3.000e+00, 2.000e+00, 1.024e+03],\n",
       "       [6.400e+01, 5.000e-02, 3.000e+00, 2.000e+00, 2.048e+03],\n",
       "       [6.400e+01, 5.000e-02, 3.000e+00, 4.000e+00, 5.120e+02],\n",
       "       [6.400e+01, 5.000e-02, 3.000e+00, 4.000e+00, 1.024e+03],\n",
       "       [6.400e+01, 5.000e-02, 3.000e+00, 4.000e+00, 2.048e+03],\n",
       "       [3.200e+01, 0.000e+00, 1.000e+00, 2.000e+00, 5.120e+02],\n",
       "       [3.200e+01, 0.000e+00, 1.000e+00, 2.000e+00, 1.024e+03],\n",
       "       [3.200e+01, 0.000e+00, 1.000e+00, 2.000e+00, 2.048e+03],\n",
       "       [3.200e+01, 0.000e+00, 1.000e+00, 4.000e+00, 5.120e+02],\n",
       "       [3.200e+01, 0.000e+00, 1.000e+00, 4.000e+00, 1.024e+03],\n",
       "       [3.200e+01, 0.000e+00, 1.000e+00, 4.000e+00, 2.048e+03],\n",
       "       [3.200e+01, 0.000e+00, 2.000e+00, 2.000e+00, 5.120e+02],\n",
       "       [3.200e+01, 0.000e+00, 2.000e+00, 2.000e+00, 1.024e+03],\n",
       "       [3.200e+01, 0.000e+00, 2.000e+00, 2.000e+00, 2.048e+03],\n",
       "       [3.200e+01, 0.000e+00, 2.000e+00, 4.000e+00, 5.120e+02],\n",
       "       [3.200e+01, 0.000e+00, 2.000e+00, 4.000e+00, 1.024e+03],\n",
       "       [3.200e+01, 0.000e+00, 2.000e+00, 4.000e+00, 2.048e+03],\n",
       "       [3.200e+01, 0.000e+00, 3.000e+00, 2.000e+00, 5.120e+02],\n",
       "       [3.200e+01, 0.000e+00, 3.000e+00, 2.000e+00, 1.024e+03],\n",
       "       [3.200e+01, 0.000e+00, 3.000e+00, 2.000e+00, 2.048e+03],\n",
       "       [3.200e+01, 0.000e+00, 3.000e+00, 4.000e+00, 5.120e+02],\n",
       "       [3.200e+01, 0.000e+00, 3.000e+00, 4.000e+00, 1.024e+03],\n",
       "       [3.200e+01, 0.000e+00, 3.000e+00, 4.000e+00, 2.048e+03],\n",
       "       [3.200e+01, 5.000e-02, 1.000e+00, 2.000e+00, 5.120e+02],\n",
       "       [3.200e+01, 5.000e-02, 1.000e+00, 2.000e+00, 1.024e+03],\n",
       "       [3.200e+01, 5.000e-02, 1.000e+00, 2.000e+00, 2.048e+03],\n",
       "       [3.200e+01, 5.000e-02, 1.000e+00, 4.000e+00, 5.120e+02],\n",
       "       [3.200e+01, 5.000e-02, 1.000e+00, 4.000e+00, 1.024e+03],\n",
       "       [3.200e+01, 5.000e-02, 1.000e+00, 4.000e+00, 2.048e+03],\n",
       "       [3.200e+01, 5.000e-02, 2.000e+00, 2.000e+00, 5.120e+02],\n",
       "       [3.200e+01, 5.000e-02, 2.000e+00, 2.000e+00, 1.024e+03],\n",
       "       [3.200e+01, 5.000e-02, 2.000e+00, 2.000e+00, 2.048e+03],\n",
       "       [3.200e+01, 5.000e-02, 2.000e+00, 4.000e+00, 5.120e+02],\n",
       "       [3.200e+01, 5.000e-02, 2.000e+00, 4.000e+00, 1.024e+03],\n",
       "       [3.200e+01, 5.000e-02, 2.000e+00, 4.000e+00, 2.048e+03],\n",
       "       [3.200e+01, 5.000e-02, 3.000e+00, 2.000e+00, 5.120e+02],\n",
       "       [3.200e+01, 5.000e-02, 3.000e+00, 2.000e+00, 1.024e+03],\n",
       "       [3.200e+01, 5.000e-02, 3.000e+00, 2.000e+00, 2.048e+03],\n",
       "       [3.200e+01, 5.000e-02, 3.000e+00, 4.000e+00, 5.120e+02],\n",
       "       [3.200e+01, 5.000e-02, 3.000e+00, 4.000e+00, 1.024e+03],\n",
       "       [3.200e+01, 5.000e-02, 3.000e+00, 4.000e+00, 2.048e+03]])"
      ]
     },
     "execution_count": 38,
     "metadata": {},
     "output_type": "execute_result"
    }
   ],
   "source": [
    "p"
   ]
  },
  {
   "cell_type": "code",
   "execution_count": 31,
   "metadata": {
    "ExecuteTime": {
     "end_time": "2021-04-23T15:04:28.228702Z",
     "start_time": "2021-04-23T15:04:28.200776Z"
    }
   },
   "outputs": [
    {
     "ename": "TypeError",
     "evalue": "only size-1 arrays can be converted to Python scalars",
     "output_type": "error",
     "traceback": [
      "\u001b[1;31m---------------------------------------------------------------------------\u001b[0m",
      "\u001b[1;31mTypeError\u001b[0m                                 Traceback (most recent call last)",
      "\u001b[1;32m<ipython-input-31-445d97782e52>\u001b[0m in \u001b[0;36m<module>\u001b[1;34m\u001b[0m\n\u001b[1;32m----> 1\u001b[1;33m \u001b[0mprint\u001b[0m\u001b[1;33m(\u001b[0m\u001b[1;33m[\u001b[0m\u001b[0mint\u001b[0m\u001b[1;33m(\u001b[0m\u001b[0mnum\u001b[0m\u001b[1;33m)\u001b[0m \u001b[1;32mif\u001b[0m \u001b[0mfloat\u001b[0m\u001b[1;33m(\u001b[0m\u001b[0mnum\u001b[0m\u001b[1;33m)\u001b[0m\u001b[1;33m.\u001b[0m\u001b[0mis_integer\u001b[0m\u001b[1;33m(\u001b[0m\u001b[1;33m)\u001b[0m \u001b[1;32melse\u001b[0m \u001b[0mnum\u001b[0m \u001b[1;32mfor\u001b[0m \u001b[0mnum\u001b[0m \u001b[1;32min\u001b[0m \u001b[0mp\u001b[0m\u001b[1;33m]\u001b[0m\u001b[1;33m)\u001b[0m\u001b[1;33m\u001b[0m\u001b[1;33m\u001b[0m\u001b[0m\n\u001b[0m",
      "\u001b[1;32m<ipython-input-31-445d97782e52>\u001b[0m in \u001b[0;36m<listcomp>\u001b[1;34m(.0)\u001b[0m\n\u001b[1;32m----> 1\u001b[1;33m \u001b[0mprint\u001b[0m\u001b[1;33m(\u001b[0m\u001b[1;33m[\u001b[0m\u001b[0mint\u001b[0m\u001b[1;33m(\u001b[0m\u001b[0mnum\u001b[0m\u001b[1;33m)\u001b[0m \u001b[1;32mif\u001b[0m \u001b[0mfloat\u001b[0m\u001b[1;33m(\u001b[0m\u001b[0mnum\u001b[0m\u001b[1;33m)\u001b[0m\u001b[1;33m.\u001b[0m\u001b[0mis_integer\u001b[0m\u001b[1;33m(\u001b[0m\u001b[1;33m)\u001b[0m \u001b[1;32melse\u001b[0m \u001b[0mnum\u001b[0m \u001b[1;32mfor\u001b[0m \u001b[0mnum\u001b[0m \u001b[1;32min\u001b[0m \u001b[0mp\u001b[0m\u001b[1;33m]\u001b[0m\u001b[1;33m)\u001b[0m\u001b[1;33m\u001b[0m\u001b[1;33m\u001b[0m\u001b[0m\n\u001b[0m",
      "\u001b[1;31mTypeError\u001b[0m: only size-1 arrays can be converted to Python scalars"
     ]
    }
   ],
   "source": [
    "print([int(num) if float(num).is_integer() else num for num in p])"
   ]
  },
  {
   "cell_type": "code",
   "execution_count": 46,
   "metadata": {
    "ExecuteTime": {
     "end_time": "2021-04-23T15:13:43.909072Z",
     "start_time": "2021-04-23T15:13:43.902056Z"
    },
    "code_folding": []
   },
   "outputs": [],
   "source": [
    "true, false=1,0\n",
    "base={\n",
    "    \"experiment\": \"IceCube\",\n",
    "    \"group\":  \"compare\", \n",
    "\n",
    "    \"model_name\":  \"Sage\",\n",
    "    \"angle_unitvec\": \"angle\",\n",
    "    \"wandblog\": true,\n",
    "\n",
    "    \"run_params\":{\n",
    "    \"epochs\":     20,\n",
    "    \"batch_size\": 512,\n",
    "    \"early_stop\": true,\n",
    "    \"zeniazi_metric\":true,\n",
    "    \"patience\":   5,\n",
    "    \"lr_schedule\": \"classic\",\n",
    "    \"learning_rate\":   1e-3,\n",
    "    \"warm_up\": 3,\n",
    "    \"lr_decay\": 0.9,\n",
    "    \"val_epoch\":   10,\n",
    "    \"loss_func\": \"abs_vonMises2D_angle\",\n",
    "    \"metrics\": \"energy_angle_zeniazi\",\n",
    "    \"performance_plot\": \"performance_vM2D\"\n",
    "},\n",
    "\n",
    "    \"hyper_params\": {\n",
    "        \"n_out\":           3,\n",
    "        \"n_sigs\":          2,\n",
    "        \"hidden_states\":   64,\n",
    "        \"glob\": true,\n",
    "        \"conv_layers\":   2,\n",
    "        \"conv_activation\": \"relu\",\n",
    "        \"decode_layers\":   3,\n",
    "        \"decode_activation\": 1,\n",
    "        \"dropout\":         0.05,\n",
    "        \"regularization\": \"l2\", \n",
    "        \"batch_norm\":      true,\n",
    "        \"forward\":  true,\n",
    "        \"edgeconv\": 0,\n",
    "        \"edgenorm\":0\n",
    "    },\n",
    "\n",
    "   \"data_params\":{ \n",
    "    \"n_data\": 2e4,\n",
    "    \"graph_construction\":       \"classic\",\n",
    "    \"muon\":             true,\n",
    "    \"n_neighbors\":       6,\n",
    "    \"data_split\":      [0.8, 0.1, 0.1],\n",
    "    \"restart\":   false,\n",
    "    \"transform_path\": \"../db_files/muongun/transformers.pkl\",\n",
    "    \"db_path\": \"../db_files/muongun/rasmus_classification_muon_3neutrino_3mio.db\",\n",
    "    \"features\":   [\"dom_x\", \"dom_y\", \"dom_z\", \"time\", \"charge_log10\", \"SRTInIcePulses\", \"lc\"],\n",
    "    \"targets\":    [\"energy_log10\", \"zenith\",\"azimuth\"],\n",
    "    \"skip\": 0,\n",
    "    \"SRT\": 0,\n",
    "    \"database\": \"MuonGun\"\n",
    "}\n",
    "}"
   ]
  },
  {
   "cell_type": "code",
   "execution_count": null,
   "metadata": {
    "ExecuteTime": {
     "end_time": "2021-04-23T14:04:13.617415Z",
     "start_time": "2021-04-23T14:04:10.295Z"
    }
   },
   "outputs": [],
   "source": [
    "l=bs\n",
    "outp\n",
    "  \n",
    "# Driver code\n",
    "print ('The original list: ', l)\n",
    "removeNestings(l)\n",
    "print ('The list after removing nesting: ', output)"
   ]
  },
  {
   "cell_type": "code",
   "execution_count": null,
   "metadata": {
    "ExecuteTime": {
     "end_time": "2021-04-23T14:04:13.619408Z",
     "start_time": "2021-04-23T14:04:10.297Z"
    }
   },
   "outputs": [],
   "source": [
    "perms=np.array(output)\n",
    "perms.reshape(-1, len(keys))"
   ]
  },
  {
   "cell_type": "code",
   "execution_count": null,
   "metadata": {
    "ExecuteTime": {
     "end_time": "2021-04-23T14:04:13.622400Z",
     "start_time": "2021-04-23T14:04:10.298Z"
    }
   },
   "outputs": [],
   "source": [
    "bs=np.array(bs)"
   ]
  },
  {
   "cell_type": "code",
   "execution_count": null,
   "metadata": {
    "ExecuteTime": {
     "end_time": "2021-04-23T14:04:13.624422Z",
     "start_time": "2021-04-23T14:04:10.300Z"
    }
   },
   "outputs": [],
   "source": [
    "bs.reshape(len(keys), len(bs))"
   ]
  }
 ],
 "metadata": {
  "hide_input": false,
  "kernelspec": {
   "name": "python385jvsc74a57bd0ee7ae0cce42568ffbe792829a147e8b26e32fc5929320da4cac6b0f8a68675f6",
   "display_name": "Python 3.8.5 64-bit ('base': conda)"
  },
  "metadata": {
   "interpreter": {
    "hash": "ee7ae0cce42568ffbe792829a147e8b26e32fc5929320da4cac6b0f8a68675f6"
   }
  }
 },
 "nbformat": 4,
 "nbformat_minor": 4
}