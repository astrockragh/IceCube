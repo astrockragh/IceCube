{
 "cells": [
  {
   "cell_type": "code",
   "execution_count": 2,
   "metadata": {
    "ExecuteTime": {
     "end_time": "2021-04-23T14:04:19.399616Z",
     "start_time": "2021-04-23T14:04:15.752810Z"
    }
   },
   "outputs": [],
   "source": [
    "import sqlite3, os, sys\n",
    "import pandas as pd\n",
    "import tensorflow as tf\n",
    "import numpy as np\n",
    "from tqdm.notebook import tqdm"
   ]
  },
  {
   "cell_type": "code",
   "execution_count": null,
   "metadata": {
    "ExecuteTime": {
     "end_time": "2021-04-23T14:04:13.575523Z",
     "start_time": "2021-04-23T14:04:10.215Z"
    }
   },
   "outputs": [],
   "source": [
    "db_path = \"../db_files/dev_lvl7_mu_nu_e_classification_v003/dev_lvl7_mu_nu_e_classification_v003.db\""
   ]
  },
  {
   "cell_type": "code",
   "execution_count": null,
   "metadata": {
    "ExecuteTime": {
     "end_time": "2021-04-23T14:04:13.577519Z",
     "start_time": "2021-04-23T14:04:10.218Z"
    }
   },
   "outputs": [],
   "source": [
    "conn = sqlite3.connect(db_path)"
   ]
  },
  {
   "cell_type": "code",
   "execution_count": null,
   "metadata": {
    "ExecuteTime": {
     "end_time": "2021-04-23T14:04:13.578516Z",
     "start_time": "2021-04-23T14:04:10.220Z"
    }
   },
   "outputs": [],
   "source": [
    "cursor = conn.cursor()"
   ]
  },
  {
   "cell_type": "code",
   "execution_count": null,
   "metadata": {
    "ExecuteTime": {
     "end_time": "2021-04-23T14:04:13.579513Z",
     "start_time": "2021-04-23T14:04:10.224Z"
    }
   },
   "outputs": [],
   "source": [
    "cursor.execute(f\"SELECT name FROM sqlite_master WHERE type='table';\")"
   ]
  },
  {
   "cell_type": "code",
   "execution_count": null,
   "metadata": {
    "ExecuteTime": {
     "end_time": "2021-04-23T14:04:13.580511Z",
     "start_time": "2021-04-23T14:04:10.227Z"
    }
   },
   "outputs": [],
   "source": [
    "print(cursor.fetchall())"
   ]
  },
  {
   "cell_type": "code",
   "execution_count": null,
   "metadata": {
    "ExecuteTime": {
     "end_time": "2021-04-23T14:04:13.581509Z",
     "start_time": "2021-04-23T14:04:10.232Z"
    },
    "scrolled": true
   },
   "outputs": [],
   "source": [
    "df_feat=pd.read_sql(\"select * from features limit 10000000\", conn)\n",
    "df_feat.describe()"
   ]
  },
  {
   "cell_type": "code",
   "execution_count": null,
   "metadata": {
    "ExecuteTime": {
     "end_time": "2021-04-23T14:04:13.583504Z",
     "start_time": "2021-04-23T14:04:10.236Z"
    }
   },
   "outputs": [],
   "source": [
    "df_truth=pd.read_sql(\"select * from truth limit 1000\", conn)\n",
    "df_truth.describe()"
   ]
  },
  {
   "cell_type": "code",
   "execution_count": null,
   "metadata": {
    "ExecuteTime": {
     "end_time": "2021-04-23T14:04:13.584500Z",
     "start_time": "2021-04-23T14:04:10.238Z"
    }
   },
   "outputs": [],
   "source": [
    "n_data = 100\n",
    "start_id = conn.execute(f\"select distinct event_no from truth where pid = 13\")\n",
    "stop_id  = conn.execute(f\"select distinct event_no from truth where pid = 13 limit 1 offset {n_data}\")"
   ]
  },
  {
   "cell_type": "code",
   "execution_count": null,
   "metadata": {},
   "outputs": [],
   "source": []
  },
  {
   "cell_type": "code",
   "execution_count": null,
   "metadata": {
    "ExecuteTime": {
     "end_time": "2021-04-23T14:04:13.585498Z",
     "start_time": "2021-04-23T14:04:10.241Z"
    }
   },
   "outputs": [],
   "source": [
    "start_id.fetchall()"
   ]
  },
  {
   "cell_type": "code",
   "execution_count": null,
   "metadata": {
    "ExecuteTime": {
     "end_time": "2021-04-23T14:04:13.586495Z",
     "start_time": "2021-04-23T14:04:10.244Z"
    }
   },
   "outputs": [],
   "source": [
    "stop_id.fetchall()"
   ]
  },
  {
   "cell_type": "code",
   "execution_count": null,
   "metadata": {
    "ExecuteTime": {
     "end_time": "2021-04-23T14:04:13.587492Z",
     "start_time": "2021-04-23T14:04:10.246Z"
    }
   },
   "outputs": [],
   "source": [
    "start, stop = 0, 100000\n",
    "# start_id  = conn.execute(f\"select distinct event_no from features where pid = 13 limit \")\n",
    "event_nos = pd.read_sql(f\"select distinct event_no from features limit {stop} offset {start}\", conn)"
   ]
  },
  {
   "cell_type": "code",
   "execution_count": null,
   "metadata": {
    "ExecuteTime": {
     "end_time": "2021-04-23T14:04:13.588491Z",
     "start_time": "2021-04-23T14:04:10.247Z"
    }
   },
   "outputs": [],
   "source": [
    "event_nos"
   ]
  },
  {
   "cell_type": "code",
   "execution_count": null,
   "metadata": {
    "ExecuteTime": {
     "end_time": "2021-04-23T14:04:13.589487Z",
     "start_time": "2021-04-23T14:04:10.250Z"
    }
   },
   "outputs": [],
   "source": [
    "start, stop = 0, 100000\n",
    "select_rows = [\"dom_x\", \"dom_y\", \"dom_z\", \"time\", \"charge_log10\"]\n",
    "\n",
    "start_id = conn.execute(f\"select distinct event_no from features limit 1 offset {start}\").fetchall()[0][0]\n",
    "stop_id  = conn.execute(f\"select distinct event_no from features limit 1 offset {stop}\").fetchall()[0][0]"
   ]
  },
  {
   "cell_type": "code",
   "execution_count": null,
   "metadata": {
    "ExecuteTime": {
     "end_time": "2021-04-23T14:04:13.590484Z",
     "start_time": "2021-04-23T14:04:10.252Z"
    }
   },
   "outputs": [],
   "source": [
    "features = [\"dom_x\", \"dom_y\", \"dom_z\", \"time\", \"charge_log10\"]\n",
    "targets  = [\"energy_log10\", \"position_x\", \"position_y\", \"position_z\", \"direction_x\", \"direction_y\", \"direction_z\"]\n",
    "feature_call = \", \".join(features)\n",
    "target_call  = \", \".join(targets)\n",
    "df_event = pd.read_sql(f\"select event_no       from features where event_no >= {start_id} and event_no < {stop_id}\", conn)\n",
    "df_feat  = pd.read_sql(f\"select {feature_call} from features where event_no >= {start_id} and event_no < {stop_id}\", conn)\n",
    "df_targ  = pd.read_sql(f\"select {target_call } from truth    where event_no >= {start_id} and event_no < {stop_id}\", conn)"
   ]
  },
  {
   "cell_type": "code",
   "execution_count": null,
   "metadata": {
    "ExecuteTime": {
     "end_time": "2021-04-23T14:04:13.591481Z",
     "start_time": "2021-04-23T14:04:10.254Z"
    }
   },
   "outputs": [],
   "source": [
    "idx_list    = np.array(df_event)\n",
    "x_not_split = np.array(df_feat)"
   ]
  },
  {
   "cell_type": "code",
   "execution_count": null,
   "metadata": {
    "ExecuteTime": {
     "end_time": "2021-04-23T14:04:13.592479Z",
     "start_time": "2021-04-23T14:04:10.257Z"
    },
    "scrolled": true
   },
   "outputs": [],
   "source": [
    "np.shape(idx_list)"
   ]
  },
  {
   "cell_type": "code",
   "execution_count": null,
   "metadata": {
    "ExecuteTime": {
     "end_time": "2021-04-23T14:04:13.593476Z",
     "start_time": "2021-04-23T14:04:10.259Z"
    }
   },
   "outputs": [],
   "source": [
    "ids, idx, counts = np.unique(idx_list.flatten(), return_index = True, return_counts = True) "
   ]
  },
  {
   "cell_type": "code",
   "execution_count": null,
   "metadata": {
    "ExecuteTime": {
     "end_time": "2021-04-23T14:04:13.594474Z",
     "start_time": "2021-04-23T14:04:10.261Z"
    }
   },
   "outputs": [],
   "source": [
    "np.sum(counts)"
   ]
  },
  {
   "cell_type": "code",
   "execution_count": null,
   "metadata": {
    "ExecuteTime": {
     "end_time": "2021-04-23T14:04:13.595472Z",
     "start_time": "2021-04-23T14:04:10.263Z"
    }
   },
   "outputs": [],
   "source": [
    "x_not_split.shape"
   ]
  },
  {
   "cell_type": "code",
   "execution_count": null,
   "metadata": {
    "ExecuteTime": {
     "end_time": "2021-04-23T14:04:13.596504Z",
     "start_time": "2021-04-23T14:04:10.266Z"
    }
   },
   "outputs": [],
   "source": [
    "xs = np.split(x_not_split, np.cumsum(counts))"
   ]
  },
  {
   "cell_type": "code",
   "execution_count": null,
   "metadata": {
    "ExecuteTime": {
     "end_time": "2021-04-23T14:04:13.597466Z",
     "start_time": "2021-04-23T14:04:10.267Z"
    }
   },
   "outputs": [],
   "source": [
    "ys = np.array(df_targ)"
   ]
  },
  {
   "cell_type": "code",
   "execution_count": null,
   "metadata": {
    "ExecuteTime": {
     "end_time": "2021-04-23T14:04:13.599462Z",
     "start_time": "2021-04-23T14:04:10.268Z"
    }
   },
   "outputs": [],
   "source": [
    "np.shape(xs)"
   ]
  },
  {
   "cell_type": "code",
   "execution_count": null,
   "metadata": {
    "ExecuteTime": {
     "end_time": "2021-04-23T14:04:13.600457Z",
     "start_time": "2021-04-23T14:04:10.270Z"
    }
   },
   "outputs": [],
   "source": [
    "for x, y in zip(xs, ys):\n",
    "    print(x, y)\n",
    "    break"
   ]
  },
  {
   "cell_type": "code",
   "execution_count": null,
   "metadata": {
    "ExecuteTime": {
     "end_time": "2021-04-23T14:04:13.601455Z",
     "start_time": "2021-04-23T14:04:10.272Z"
    },
    "scrolled": true
   },
   "outputs": [],
   "source": [
    "from sklearn.neighbors import kneighbors_graph as knn\n",
    "from spektral.data import Graph\n",
    "neighbors=6"
   ]
  },
  {
   "cell_type": "code",
   "execution_count": null,
   "metadata": {
    "ExecuteTime": {
     "end_time": "2021-04-23T14:04:13.602452Z",
     "start_time": "2021-04-23T14:04:10.273Z"
    }
   },
   "outputs": [],
   "source": [
    "print(\"Generating adjacency matrices\")\n",
    "graph_list = []\n",
    "for x, y in tqdm(zip(xs, ys), total = len(xs)):\n",
    "    a = knn(x[:, :3], neighbors)\n",
    "\n",
    "\n",
    "\n",
    "    graph_list.append(Graph(x = x, a = a, y = y))\n",
    "\n",
    "graph_list = np.array(graph_list, dtype = object)"
   ]
  },
  {
   "cell_type": "code",
   "execution_count": null,
   "metadata": {
    "ExecuteTime": {
     "end_time": "2021-04-23T14:04:13.603450Z",
     "start_time": "2021-04-23T14:04:10.275Z"
    }
   },
   "outputs": [],
   "source": [
    "s = [x.shape[0] for x in xs]"
   ]
  },
  {
   "cell_type": "code",
   "execution_count": null,
   "metadata": {
    "ExecuteTime": {
     "end_time": "2021-04-23T14:04:13.604447Z",
     "start_time": "2021-04-23T14:04:10.276Z"
    }
   },
   "outputs": [],
   "source": [
    "xs = np.array(xs, dtype = object)[np.argsort(s)]"
   ]
  },
  {
   "cell_type": "code",
   "execution_count": null,
   "metadata": {
    "ExecuteTime": {
     "end_time": "2021-04-23T14:04:13.605444Z",
     "start_time": "2021-04-23T14:04:10.277Z"
    }
   },
   "outputs": [],
   "source": [
    "size, idx = np.unique(np.sort(s), return_index = True)"
   ]
  },
  {
   "cell_type": "code",
   "execution_count": null,
   "metadata": {
    "ExecuteTime": {
     "end_time": "2021-04-23T14:04:13.606444Z",
     "start_time": "2021-04-23T14:04:10.278Z"
    }
   },
   "outputs": [],
   "source": [
    "preprocess(list(xs[4: 9]))"
   ]
  },
  {
   "cell_type": "code",
   "execution_count": null,
   "metadata": {
    "ExecuteTime": {
     "end_time": "2021-04-23T14:04:13.607439Z",
     "start_time": "2021-04-23T14:04:10.280Z"
    }
   },
   "outputs": [],
   "source": [
    "np.sort(s)"
   ]
  },
  {
   "cell_type": "code",
   "execution_count": null,
   "metadata": {
    "ExecuteTime": {
     "end_time": "2021-04-23T14:04:13.608438Z",
     "start_time": "2021-04-23T14:04:10.282Z"
    }
   },
   "outputs": [],
   "source": [
    "idx"
   ]
  },
  {
   "cell_type": "code",
   "execution_count": null,
   "metadata": {
    "ExecuteTime": {
     "end_time": "2021-04-23T14:04:13.609433Z",
     "start_time": "2021-04-23T14:04:10.283Z"
    }
   },
   "outputs": [],
   "source": [
    "import pickle\n",
    "transformers = pickle.load(open('../db_files/muongun/transformers.pkl', 'rb'))\n",
    "trans_x      = transformers['features']\n",
    "trans_y      = transformers['truth']"
   ]
  },
  {
   "cell_type": "code",
   "execution_count": 15,
   "metadata": {
    "ExecuteTime": {
     "end_time": "2021-04-23T14:29:14.598852Z",
     "start_time": "2021-04-23T14:29:14.586886Z"
    }
   },
   "outputs": [],
   "source": [
    "diff={'hyper_params':{'hidden_states': [128,64,32],\n",
    "     'dropout': [0,0.05],\n",
    "     'conv_layers': [1,2,3],\n",
    "     'decode_layers': [2,4]},\n",
    "     'run_params':{'batch_size':[512,1024,2048]}}"
   ]
  },
  {
   "cell_type": "code",
   "execution_count": 23,
   "metadata": {
    "ExecuteTime": {
     "end_time": "2021-04-23T14:35:19.650581Z",
     "start_time": "2021-04-23T14:35:19.638646Z"
    }
   },
   "outputs": [],
   "source": [
    "diff={'hidden_states': [128,64,32],\n",
    "     'dropout': [0,0.05],\n",
    "     'conv_layers': [1,2,3],\n",
    "     'decode_layers': [2,4],\n",
    "     'batch_size':[512,1024,2048]}"
   ]
  },
  {
   "cell_type": "code",
   "execution_count": 42,
   "metadata": {
    "ExecuteTime": {
     "end_time": "2021-04-23T15:12:30.307532Z",
     "start_time": "2021-04-23T15:12:30.299553Z"
    }
   },
   "outputs": [],
   "source": [
    "def perms(diffs):\n",
    "    from itertools import product\n",
    "    keys=list(diffs.keys())\n",
    "    val=list(diffs.values())\n",
    "    for i, s in enumerate(val):\n",
    "        if i==0:\n",
    "            a=val[0]\n",
    "        else:\n",
    "            a=product(a, val[i])\n",
    "    bs=[]\n",
    "    for b in a:\n",
    "        bs.append(b)\n",
    "    output=[]\n",
    "    def removeNestings(l):\n",
    "        for i in l:\n",
    "            if type(i) == tuple:\n",
    "                removeNestings(i)\n",
    "            else:\n",
    "                output.append(i)\n",
    "    removeNestings(bs)\n",
    "    perms=np.array(output)\n",
    "#     perms=[int(num) if float(num).is_integer() else num for num in perms]\n",
    "    return perms.reshape(-1, len(keys))"
   ]
  },
  {
   "cell_type": "code",
   "execution_count": 47,
   "metadata": {
    "ExecuteTime": {
     "end_time": "2021-04-23T15:13:46.923586Z",
     "start_time": "2021-04-23T15:13:46.909623Z"
    }
   },
   "outputs": [
    {
     "name": "stdout",
     "output_type": "stream",
     "text": [
      "<class 'int'>\n",
      "<class 'float'>\n",
      "<class 'int'>\n",
      "<class 'int'>\n"
     ]
    }
   ],
   "source": [
    "keys=list(diff.keys())\n",
    "for j, key in enumerate(keys):\n",
    "    if key in base['run_params']:\n",
    "        base['run_params'][key]=p[0][j]\n",
    "    elif key in base['hyper_params']:\n",
    "        typ=type(base['hyper_params'][key])\n",
    "        base['hyper_params'][key]=typ(p[0][j])\n",
    "    elif key in base['data_params']:\n",
    "        base['data_params'][key]=p[0][j]"
   ]
  },
  {
   "cell_type": "code",
   "execution_count": 44,
   "metadata": {
    "ExecuteTime": {
     "end_time": "2021-04-23T15:12:30.930201Z",
     "start_time": "2021-04-23T15:12:30.920228Z"
    }
   },
   "outputs": [],
   "source": [
    "p=perms(diff)"
   ]
  },
  {
   "cell_type": "code",
   "execution_count": 38,
   "metadata": {
    "ExecuteTime": {
     "end_time": "2021-04-23T15:06:12.358843Z",
     "start_time": "2021-04-23T15:06:12.338895Z"
    }
   },
   "outputs": [
    {
     "data": {
      "text/plain": [
       "array([[1.280e+02, 0.000e+00, 1.000e+00, 2.000e+00, 5.120e+02],\n",
       "       [1.280e+02, 0.000e+00, 1.000e+00, 2.000e+00, 1.024e+03],\n",
       "       [1.280e+02, 0.000e+00, 1.000e+00, 2.000e+00, 2.048e+03],\n",
       "       [1.280e+02, 0.000e+00, 1.000e+00, 4.000e+00, 5.120e+02],\n",
       "       [1.280e+02, 0.000e+00, 1.000e+00, 4.000e+00, 1.024e+03],\n",
       "       [1.280e+02, 0.000e+00, 1.000e+00, 4.000e+00, 2.048e+03],\n",
       "       [1.280e+02, 0.000e+00, 2.000e+00, 2.000e+00, 5.120e+02],\n",
       "       [1.280e+02, 0.000e+00, 2.000e+00, 2.000e+00, 1.024e+03],\n",
       "       [1.280e+02, 0.000e+00, 2.000e+00, 2.000e+00, 2.048e+03],\n",
       "       [1.280e+02, 0.000e+00, 2.000e+00, 4.000e+00, 5.120e+02],\n",
       "       [1.280e+02, 0.000e+00, 2.000e+00, 4.000e+00, 1.024e+03],\n",
       "       [1.280e+02, 0.000e+00, 2.000e+00, 4.000e+00, 2.048e+03],\n",
       "       [1.280e+02, 0.000e+00, 3.000e+00, 2.000e+00, 5.120e+02],\n",
       "       [1.280e+02, 0.000e+00, 3.000e+00, 2.000e+00, 1.024e+03],\n",
       "       [1.280e+02, 0.000e+00, 3.000e+00, 2.000e+00, 2.048e+03],\n",
       "       [1.280e+02, 0.000e+00, 3.000e+00, 4.000e+00, 5.120e+02],\n",
       "       [1.280e+02, 0.000e+00, 3.000e+00, 4.000e+00, 1.024e+03],\n",
       "       [1.280e+02, 0.000e+00, 3.000e+00, 4.000e+00, 2.048e+03],\n",
       "       [1.280e+02, 5.000e-02, 1.000e+00, 2.000e+00, 5.120e+02],\n",
       "       [1.280e+02, 5.000e-02, 1.000e+00, 2.000e+00, 1.024e+03],\n",
       "       [1.280e+02, 5.000e-02, 1.000e+00, 2.000e+00, 2.048e+03],\n",
       "       [1.280e+02, 5.000e-02, 1.000e+00, 4.000e+00, 5.120e+02],\n",
       "       [1.280e+02, 5.000e-02, 1.000e+00, 4.000e+00, 1.024e+03],\n",
       "       [1.280e+02, 5.000e-02, 1.000e+00, 4.000e+00, 2.048e+03],\n",
       "       [1.280e+02, 5.000e-02, 2.000e+00, 2.000e+00, 5.120e+02],\n",
       "       [1.280e+02, 5.000e-02, 2.000e+00, 2.000e+00, 1.024e+03],\n",
       "       [1.280e+02, 5.000e-02, 2.000e+00, 2.000e+00, 2.048e+03],\n",
       "       [1.280e+02, 5.000e-02, 2.000e+00, 4.000e+00, 5.120e+02],\n",
       "       [1.280e+02, 5.000e-02, 2.000e+00, 4.000e+00, 1.024e+03],\n",
       "       [1.280e+02, 5.000e-02, 2.000e+00, 4.000e+00, 2.048e+03],\n",
       "       [1.280e+02, 5.000e-02, 3.000e+00, 2.000e+00, 5.120e+02],\n",
       "       [1.280e+02, 5.000e-02, 3.000e+00, 2.000e+00, 1.024e+03],\n",
       "       [1.280e+02, 5.000e-02, 3.000e+00, 2.000e+00, 2.048e+03],\n",
       "       [1.280e+02, 5.000e-02, 3.000e+00, 4.000e+00, 5.120e+02],\n",
       "       [1.280e+02, 5.000e-02, 3.000e+00, 4.000e+00, 1.024e+03],\n",
       "       [1.280e+02, 5.000e-02, 3.000e+00, 4.000e+00, 2.048e+03],\n",
       "       [6.400e+01, 0.000e+00, 1.000e+00, 2.000e+00, 5.120e+02],\n",
       "       [6.400e+01, 0.000e+00, 1.000e+00, 2.000e+00, 1.024e+03],\n",
       "       [6.400e+01, 0.000e+00, 1.000e+00, 2.000e+00, 2.048e+03],\n",
       "       [6.400e+01, 0.000e+00, 1.000e+00, 4.000e+00, 5.120e+02],\n",
       "       [6.400e+01, 0.000e+00, 1.000e+00, 4.000e+00, 1.024e+03],\n",
       "       [6.400e+01, 0.000e+00, 1.000e+00, 4.000e+00, 2.048e+03],\n",
       "       [6.400e+01, 0.000e+00, 2.000e+00, 2.000e+00, 5.120e+02],\n",
       "       [6.400e+01, 0.000e+00, 2.000e+00, 2.000e+00, 1.024e+03],\n",
       "       [6.400e+01, 0.000e+00, 2.000e+00, 2.000e+00, 2.048e+03],\n",
       "       [6.400e+01, 0.000e+00, 2.000e+00, 4.000e+00, 5.120e+02],\n",
       "       [6.400e+01, 0.000e+00, 2.000e+00, 4.000e+00, 1.024e+03],\n",
       "       [6.400e+01, 0.000e+00, 2.000e+00, 4.000e+00, 2.048e+03],\n",
       "       [6.400e+01, 0.000e+00, 3.000e+00, 2.000e+00, 5.120e+02],\n",
       "       [6.400e+01, 0.000e+00, 3.000e+00, 2.000e+00, 1.024e+03],\n",
       "       [6.400e+01, 0.000e+00, 3.000e+00, 2.000e+00, 2.048e+03],\n",
       "       [6.400e+01, 0.000e+00, 3.000e+00, 4.000e+00, 5.120e+02],\n",
       "       [6.400e+01, 0.000e+00, 3.000e+00, 4.000e+00, 1.024e+03],\n",
       "       [6.400e+01, 0.000e+00, 3.000e+00, 4.000e+00, 2.048e+03],\n",
       "       [6.400e+01, 5.000e-02, 1.000e+00, 2.000e+00, 5.120e+02],\n",
       "       [6.400e+01, 5.000e-02, 1.000e+00, 2.000e+00, 1.024e+03],\n",
       "       [6.400e+01, 5.000e-02, 1.000e+00, 2.000e+00, 2.048e+03],\n",
       "       [6.400e+01, 5.000e-02, 1.000e+00, 4.000e+00, 5.120e+02],\n",
       "       [6.400e+01, 5.000e-02, 1.000e+00, 4.000e+00, 1.024e+03],\n",
       "       [6.400e+01, 5.000e-02, 1.000e+00, 4.000e+00, 2.048e+03],\n",
       "       [6.400e+01, 5.000e-02, 2.000e+00, 2.000e+00, 5.120e+02],\n",
       "       [6.400e+01, 5.000e-02, 2.000e+00, 2.000e+00, 1.024e+03],\n",
       "       [6.400e+01, 5.000e-02, 2.000e+00, 2.000e+00, 2.048e+03],\n",
       "       [6.400e+01, 5.000e-02, 2.000e+00, 4.000e+00, 5.120e+02],\n",
       "       [6.400e+01, 5.000e-02, 2.000e+00, 4.000e+00, 1.024e+03],\n",
       "       [6.400e+01, 5.000e-02, 2.000e+00, 4.000e+00, 2.048e+03],\n",
       "       [6.400e+01, 5.000e-02, 3.000e+00, 2.000e+00, 5.120e+02],\n",
       "       [6.400e+01, 5.000e-02, 3.000e+00, 2.000e+00, 1.024e+03],\n",
       "       [6.400e+01, 5.000e-02, 3.000e+00, 2.000e+00, 2.048e+03],\n",
       "       [6.400e+01, 5.000e-02, 3.000e+00, 4.000e+00, 5.120e+02],\n",
       "       [6.400e+01, 5.000e-02, 3.000e+00, 4.000e+00, 1.024e+03],\n",
       "       [6.400e+01, 5.000e-02, 3.000e+00, 4.000e+00, 2.048e+03],\n",
       "       [3.200e+01, 0.000e+00, 1.000e+00, 2.000e+00, 5.120e+02],\n",
       "       [3.200e+01, 0.000e+00, 1.000e+00, 2.000e+00, 1.024e+03],\n",
       "       [3.200e+01, 0.000e+00, 1.000e+00, 2.000e+00, 2.048e+03],\n",
       "       [3.200e+01, 0.000e+00, 1.000e+00, 4.000e+00, 5.120e+02],\n",
       "       [3.200e+01, 0.000e+00, 1.000e+00, 4.000e+00, 1.024e+03],\n",
       "       [3.200e+01, 0.000e+00, 1.000e+00, 4.000e+00, 2.048e+03],\n",
       "       [3.200e+01, 0.000e+00, 2.000e+00, 2.000e+00, 5.120e+02],\n",
       "       [3.200e+01, 0.000e+00, 2.000e+00, 2.000e+00, 1.024e+03],\n",
       "       [3.200e+01, 0.000e+00, 2.000e+00, 2.000e+00, 2.048e+03],\n",
       "       [3.200e+01, 0.000e+00, 2.000e+00, 4.000e+00, 5.120e+02],\n",
       "       [3.200e+01, 0.000e+00, 2.000e+00, 4.000e+00, 1.024e+03],\n",
       "       [3.200e+01, 0.000e+00, 2.000e+00, 4.000e+00, 2.048e+03],\n",
       "       [3.200e+01, 0.000e+00, 3.000e+00, 2.000e+00, 5.120e+02],\n",
       "       [3.200e+01, 0.000e+00, 3.000e+00, 2.000e+00, 1.024e+03],\n",
       "       [3.200e+01, 0.000e+00, 3.000e+00, 2.000e+00, 2.048e+03],\n",
       "       [3.200e+01, 0.000e+00, 3.000e+00, 4.000e+00, 5.120e+02],\n",
       "       [3.200e+01, 0.000e+00, 3.000e+00, 4.000e+00, 1.024e+03],\n",
       "       [3.200e+01, 0.000e+00, 3.000e+00, 4.000e+00, 2.048e+03],\n",
       "       [3.200e+01, 5.000e-02, 1.000e+00, 2.000e+00, 5.120e+02],\n",
       "       [3.200e+01, 5.000e-02, 1.000e+00, 2.000e+00, 1.024e+03],\n",
       "       [3.200e+01, 5.000e-02, 1.000e+00, 2.000e+00, 2.048e+03],\n",
       "       [3.200e+01, 5.000e-02, 1.000e+00, 4.000e+00, 5.120e+02],\n",
       "       [3.200e+01, 5.000e-02, 1.000e+00, 4.000e+00, 1.024e+03],\n",
       "       [3.200e+01, 5.000e-02, 1.000e+00, 4.000e+00, 2.048e+03],\n",
       "       [3.200e+01, 5.000e-02, 2.000e+00, 2.000e+00, 5.120e+02],\n",
       "       [3.200e+01, 5.000e-02, 2.000e+00, 2.000e+00, 1.024e+03],\n",
       "       [3.200e+01, 5.000e-02, 2.000e+00, 2.000e+00, 2.048e+03],\n",
       "       [3.200e+01, 5.000e-02, 2.000e+00, 4.000e+00, 5.120e+02],\n",
       "       [3.200e+01, 5.000e-02, 2.000e+00, 4.000e+00, 1.024e+03],\n",
       "       [3.200e+01, 5.000e-02, 2.000e+00, 4.000e+00, 2.048e+03],\n",
       "       [3.200e+01, 5.000e-02, 3.000e+00, 2.000e+00, 5.120e+02],\n",
       "       [3.200e+01, 5.000e-02, 3.000e+00, 2.000e+00, 1.024e+03],\n",
       "       [3.200e+01, 5.000e-02, 3.000e+00, 2.000e+00, 2.048e+03],\n",
       "       [3.200e+01, 5.000e-02, 3.000e+00, 4.000e+00, 5.120e+02],\n",
       "       [3.200e+01, 5.000e-02, 3.000e+00, 4.000e+00, 1.024e+03],\n",
       "       [3.200e+01, 5.000e-02, 3.000e+00, 4.000e+00, 2.048e+03]])"
      ]
     },
     "execution_count": 38,
     "metadata": {},
     "output_type": "execute_result"
    }
   ],
   "source": [
    "p"
   ]
  },
  {
   "cell_type": "code",
   "execution_count": 31,
   "metadata": {
    "ExecuteTime": {
     "end_time": "2021-04-23T15:04:28.228702Z",
     "start_time": "2021-04-23T15:04:28.200776Z"
    }
   },
   "outputs": [
    {
     "ename": "TypeError",
     "evalue": "only size-1 arrays can be converted to Python scalars",
     "output_type": "error",
     "traceback": [
      "\u001b[1;31m---------------------------------------------------------------------------\u001b[0m",
      "\u001b[1;31mTypeError\u001b[0m                                 Traceback (most recent call last)",
      "\u001b[1;32m<ipython-input-31-445d97782e52>\u001b[0m in \u001b[0;36m<module>\u001b[1;34m\u001b[0m\n\u001b[1;32m----> 1\u001b[1;33m \u001b[0mprint\u001b[0m\u001b[1;33m(\u001b[0m\u001b[1;33m[\u001b[0m\u001b[0mint\u001b[0m\u001b[1;33m(\u001b[0m\u001b[0mnum\u001b[0m\u001b[1;33m)\u001b[0m \u001b[1;32mif\u001b[0m \u001b[0mfloat\u001b[0m\u001b[1;33m(\u001b[0m\u001b[0mnum\u001b[0m\u001b[1;33m)\u001b[0m\u001b[1;33m.\u001b[0m\u001b[0mis_integer\u001b[0m\u001b[1;33m(\u001b[0m\u001b[1;33m)\u001b[0m \u001b[1;32melse\u001b[0m \u001b[0mnum\u001b[0m \u001b[1;32mfor\u001b[0m \u001b[0mnum\u001b[0m \u001b[1;32min\u001b[0m \u001b[0mp\u001b[0m\u001b[1;33m]\u001b[0m\u001b[1;33m)\u001b[0m\u001b[1;33m\u001b[0m\u001b[1;33m\u001b[0m\u001b[0m\n\u001b[0m",
      "\u001b[1;32m<ipython-input-31-445d97782e52>\u001b[0m in \u001b[0;36m<listcomp>\u001b[1;34m(.0)\u001b[0m\n\u001b[1;32m----> 1\u001b[1;33m \u001b[0mprint\u001b[0m\u001b[1;33m(\u001b[0m\u001b[1;33m[\u001b[0m\u001b[0mint\u001b[0m\u001b[1;33m(\u001b[0m\u001b[0mnum\u001b[0m\u001b[1;33m)\u001b[0m \u001b[1;32mif\u001b[0m \u001b[0mfloat\u001b[0m\u001b[1;33m(\u001b[0m\u001b[0mnum\u001b[0m\u001b[1;33m)\u001b[0m\u001b[1;33m.\u001b[0m\u001b[0mis_integer\u001b[0m\u001b[1;33m(\u001b[0m\u001b[1;33m)\u001b[0m \u001b[1;32melse\u001b[0m \u001b[0mnum\u001b[0m \u001b[1;32mfor\u001b[0m \u001b[0mnum\u001b[0m \u001b[1;32min\u001b[0m \u001b[0mp\u001b[0m\u001b[1;33m]\u001b[0m\u001b[1;33m)\u001b[0m\u001b[1;33m\u001b[0m\u001b[1;33m\u001b[0m\u001b[0m\n\u001b[0m",
      "\u001b[1;31mTypeError\u001b[0m: only size-1 arrays can be converted to Python scalars"
     ]
    }
   ],
   "source": [
    "print([int(num) if float(num).is_integer() else num for num in p])"
   ]
  },
  {
   "cell_type": "code",
   "execution_count": 46,
   "metadata": {
    "ExecuteTime": {
     "end_time": "2021-04-23T15:13:43.909072Z",
     "start_time": "2021-04-23T15:13:43.902056Z"
    },
    "code_folding": []
   },
   "outputs": [],
   "source": [
    "true, false=1,0\n",
    "base={\n",
    "    \"experiment\": \"IceCube\",\n",
    "    \"group\":  \"compare\", \n",
    "\n",
    "    \"model_name\":  \"Sage\",\n",
    "    \"angle_unitvec\": \"angle\",\n",
    "    \"wandblog\": true,\n",
    "\n",
    "    \"run_params\":{\n",
    "    \"epochs\":     20,\n",
    "    \"batch_size\": 512,\n",
    "    \"early_stop\": true,\n",
    "    \"zeniazi_metric\":true,\n",
    "    \"patience\":   5,\n",
    "    \"lr_schedule\": \"classic\",\n",
    "    \"learning_rate\":   1e-3,\n",
    "    \"warm_up\": 3,\n",
    "    \"lr_decay\": 0.9,\n",
    "    \"val_epoch\":   10,\n",
    "    \"loss_func\": \"abs_vonMises2D_angle\",\n",
    "    \"metrics\": \"energy_angle_zeniazi\",\n",
    "    \"performance_plot\": \"performance_vM2D\"\n",
    "},\n",
    "\n",
    "    \"hyper_params\": {\n",
    "        \"n_out\":           3,\n",
    "        \"n_sigs\":          2,\n",
    "        \"hidden_states\":   64,\n",
    "        \"glob\": true,\n",
    "        \"conv_layers\":   2,\n",
    "        \"conv_activation\": \"relu\",\n",
    "        \"decode_layers\":   3,\n",
    "        \"decode_activation\": 1,\n",
    "        \"dropout\":         0.05,\n",
    "        \"regularization\": \"l2\", \n",
    "        \"batch_norm\":      true,\n",
    "        \"forward\":  true,\n",
    "        \"edgeconv\": 0,\n",
    "        \"edgenorm\":0\n",
    "    },\n",
    "\n",
    "   \"data_params\":{ \n",
    "    \"n_data\": 2e4,\n",
    "    \"graph_construction\":       \"classic\",\n",
    "    \"muon\":             true,\n",
    "    \"n_neighbors\":       6,\n",
    "    \"data_split\":      [0.8, 0.1, 0.1],\n",
    "    \"restart\":   false,\n",
    "    \"transform_path\": \"../db_files/muongun/transformers.pkl\",\n",
    "    \"db_path\": \"../db_files/muongun/rasmus_classification_muon_3neutrino_3mio.db\",\n",
    "    \"features\":   [\"dom_x\", \"dom_y\", \"dom_z\", \"time\", \"charge_log10\", \"SRTInIcePulses\", \"lc\"],\n",
    "    \"targets\":    [\"energy_log10\", \"zenith\",\"azimuth\"],\n",
    "    \"skip\": 0,\n",
    "    \"SRT\": 0,\n",
    "    \"database\": \"MuonGun\"\n",
    "}\n",
    "}"
   ]
  },
  {
   "cell_type": "code",
   "execution_count": null,
   "metadata": {
    "ExecuteTime": {
     "end_time": "2021-04-23T14:04:13.617415Z",
     "start_time": "2021-04-23T14:04:10.295Z"
    }
   },
   "outputs": [],
   "source": [
    "l=bs\n",
    "outp\n",
    "  \n",
    "# Driver code\n",
    "print ('The original list: ', l)\n",
    "removeNestings(l)\n",
    "print ('The list after removing nesting: ', output)"
   ]
  },
  {
   "cell_type": "code",
   "execution_count": null,
   "metadata": {
    "ExecuteTime": {
     "end_time": "2021-04-23T14:04:13.619408Z",
     "start_time": "2021-04-23T14:04:10.297Z"
    }
   },
   "outputs": [],
   "source": [
    "perms=np.array(output)\n",
    "perms.reshape(-1, len(keys))"
   ]
  },
  {
   "cell_type": "code",
   "execution_count": null,
   "metadata": {
    "ExecuteTime": {
     "end_time": "2021-04-23T14:04:13.622400Z",
     "start_time": "2021-04-23T14:04:10.298Z"
    }
   },
   "outputs": [],
   "source": [
    "bs=np.array(bs)"
   ]
  },
  {
   "cell_type": "code",
   "execution_count": null,
   "metadata": {
    "ExecuteTime": {
     "end_time": "2021-04-23T14:04:13.624422Z",
     "start_time": "2021-04-23T14:04:10.300Z"
    }
   },
   "outputs": [],
   "source": [
    "bs.reshape(len(keys), len(bs))"
   ]
  }
 ],
 "metadata": {
  "hide_input": false,
  "kernelspec": {
   "display_name": "Python 3",
   "language": "python",
   "name": "python3"
  },
  "language_info": {
   "codemirror_mode": {
    "name": "ipython",
    "version": 3
   },
   "file_extension": ".py",
   "mimetype": "text/x-python",
   "name": "python",
   "nbconvert_exporter": "python",
   "pygments_lexer": "ipython3",
   "version": "3.8.5"
  }
 },
 "nbformat": 4,
 "nbformat_minor": 4
}
