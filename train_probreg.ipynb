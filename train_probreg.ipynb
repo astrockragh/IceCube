{
 "cells": [
  {
   "cell_type": "code",
   "execution_count": 1,
   "metadata": {
    "ExecuteTime": {
     "end_time": "2021-03-19T13:11:36.778591Z",
     "start_time": "2021-03-19T13:11:32.110009Z"
    }
   },
   "outputs": [
    {
     "name": "stdout",
     "output_type": "stream",
     "text": [
      "Notebook\n",
      "GPU detected\n"
     ]
    }
   ],
   "source": [
    "import os, sys, argparse, importlib, time, inspect\n",
    "import numpy as np\n",
    "import matplotlib.pyplot as plt\n",
    "import os.path as osp\n",
    "if hasattr(__builtins__,'__IPYTHON__'):\n",
    "    print('Notebook')\n",
    "    notebook=1\n",
    "    from tqdm.notebook import tqdm\n",
    "else:\n",
    "    print('Not notebook')\n",
    "    notebook=0\n",
    "    from tqdm import tqdm\n",
    "from tensorflow.keras import backend as K\n",
    "os.environ['TF_CPP_MIN_LOG_LEVEL'] = '2' \n",
    "import tensorflow as tf\n",
    "import tensorflow_probability as tfp\n",
    "\n",
    "gpu_devices = tf.config.list_physical_devices('GPU') \n",
    "if len(gpu_devices) > 0:\n",
    "    print(\"GPU detected\")\n",
    "    tf.config.experimental.set_memory_growth(gpu_devices[0], True)\n",
    "else:\n",
    "    print('No GPU detected')\n",
    "\n",
    "from tensorflow.keras.optimizers import Adam\n",
    "from tensorflow.keras.losses import MeanSquaredError\n",
    "from tensorflow.keras.models import load_model, Model\n",
    "import spektral\n",
    "from sklearn.preprocessing import normalize\n",
    "from spektral.data import DisjointLoader, BatchLoader, SingleLoader\n",
    "from importlib import reload\n",
    "if notebook:\n",
    "    import winsound\n",
    "import dill\n",
    "import datetime as dt\n",
    "import plotly"
   ]
  },
  {
   "cell_type": "code",
   "execution_count": 30,
   "metadata": {
    "ExecuteTime": {
     "end_time": "2021-03-12T21:47:59.656927Z",
     "start_time": "2021-03-12T21:47:59.644823Z"
    }
   },
   "outputs": [
    {
     "data": {
      "text/plain": [
       "('2.4.1', '1.0.3')"
      ]
     },
     "execution_count": 30,
     "metadata": {},
     "output_type": "execute_result"
    }
   ],
   "source": [
    "tf.__version__, spektral.__version__"
   ]
  },
  {
   "cell_type": "code",
   "execution_count": 31,
   "metadata": {
    "ExecuteTime": {
     "end_time": "2021-03-12T21:48:16.283902Z",
     "start_time": "2021-03-12T21:48:04.057998Z"
    }
   },
   "outputs": [
    {
     "name": "stderr",
     "output_type": "stream",
     "text": [
      "wandb: Appending key for api.wandb.ai to your netrc file: C:\\Users\\chris/.netrc\n"
     ]
    },
    {
     "data": {
      "text/html": [
       "Finishing last run (ID:2kkpbflh) before initializing another..."
      ],
      "text/plain": [
       "<IPython.core.display.HTML object>"
      ]
     },
     "metadata": {},
     "output_type": "display_data"
    },
    {
     "data": {
      "text/html": [
       "<br/>Waiting for W&B process to finish, PID 194816<br/>Program ended successfully."
      ],
      "text/plain": [
       "<IPython.core.display.HTML object>"
      ]
     },
     "metadata": {},
     "output_type": "display_data"
    },
    {
     "data": {
      "application/vnd.jupyter.widget-view+json": {
       "model_id": "",
       "version_major": 2,
       "version_minor": 0
      },
      "text/plain": [
       "VBox(children=(Label(value=' 0.53MB of 0.53MB uploaded (0.00MB deduped)\\r'), FloatProgress(value=1.0, max=1.0)…"
      ]
     },
     "metadata": {},
     "output_type": "display_data"
    },
    {
     "data": {
      "text/html": [
       "Find user logs for this run at: <code>C:\\Users\\chris\\Christian\\3YR-UNI\\Bachelor\\IceCube\\wandb\\run-20210312_220326-2kkpbflh\\logs\\debug.log</code>"
      ],
      "text/plain": [
       "<IPython.core.display.HTML object>"
      ]
     },
     "metadata": {},
     "output_type": "display_data"
    },
    {
     "data": {
      "text/html": [
       "Find internal logs for this run at: <code>C:\\Users\\chris\\Christian\\3YR-UNI\\Bachelor\\IceCube\\wandb\\run-20210312_220326-2kkpbflh\\logs\\debug-internal.log</code>"
      ],
      "text/plain": [
       "<IPython.core.display.HTML object>"
      ]
     },
     "metadata": {},
     "output_type": "display_data"
    },
    {
     "data": {
      "text/html": [
       "<h3>Run summary:</h3><br/><style>\n",
       "    table.wandb td:nth-child(1) { padding: 0 10px; text-align: right }\n",
       "    </style><table class=\"wandb\">\n",
       "<tr><td>_runtime</td><td>2328</td></tr><tr><td>_timestamp</td><td>1615585335</td></tr><tr><td>_step</td><td>31</td></tr><tr><td>Train Loss</td><td>-0.23889</td></tr><tr><td>Validation Loss</td><td>-0.20564</td></tr><tr><td>Energy metric</td><td>0.23488</td></tr><tr><td>Energy bias</td><td>0.14823</td></tr><tr><td>Energy sig+1</td><td>0.04229</td></tr><tr><td>Energy sig-1</td><td>0.37434</td></tr><tr><td>Angle metric</td><td>47.44897</td></tr><tr><td>Angle bias</td><td>36.84243</td></tr><tr><td>Angle sig+1</td><td>18.68764</td></tr><tr><td>Angle sig-1</td><td>58.89655</td></tr><tr><td>Learning rate</td><td>0.0024</td></tr></table>"
      ],
      "text/plain": [
       "<IPython.core.display.HTML object>"
      ]
     },
     "metadata": {},
     "output_type": "display_data"
    },
    {
     "data": {
      "text/html": [
       "<h3>Run history:</h3><br/><style>\n",
       "    table.wandb td:nth-child(1) { padding: 0 10px; text-align: right }\n",
       "    </style><table class=\"wandb\">\n",
       "<tr><td>_runtime</td><td>▁▁▁▂▂▂▃▃▃▃▄▄▄▄▄▅▅▅▅▅▆▆▆▆▇▇▇▇▇███</td></tr><tr><td>_timestamp</td><td>▁▁▁▂▂▂▃▃▃▃▄▄▄▄▄▅▅▅▅▅▆▆▆▆▇▇▇▇▇███</td></tr><tr><td>_step</td><td>▁▁▁▂▂▂▂▃▃▃▃▃▄▄▄▄▅▅▅▅▆▆▆▆▆▇▇▇▇███</td></tr><tr><td>Train Loss</td><td>█▆▂▁▁▃▂▂▂▂▂▂▂▂▂▂▂▂▂▂▂▂▂▁▁</td></tr><tr><td>Validation Loss</td><td>█▃▂▂▂▄▂▂▃▃▂▂▁▂▂▁▁▁▁▁▁▁▁▁▁</td></tr><tr><td>Energy metric</td><td>▅▃▃▂▁█▁▃▂▃▁▁▁▂▁▁▁▁▂▁▁▁▁▁▁</td></tr><tr><td>Energy bias</td><td>█▃▂▁▁▄▂▁▁▂▁▁▁▂▁▁▁▁▁▁▁▁▁▁▁</td></tr><tr><td>Energy sig+1</td><td>█▃▂▁▁▂▂▁▁▁▁▁▁▂▁▁▁▁▁▁▁▁▁▁▁</td></tr><tr><td>Energy sig-1</td><td>█▄▂▁▁▅▂▁▁▂▁▁▁▃▁▁▁▁▁▁▁▁▁▁▁</td></tr><tr><td>Angle metric</td><td>▂▂▂▃█▂▁▄▅▃▂▂▂▁▂▁▁▁▁▁▁▁▁▁▁</td></tr><tr><td>Angle bias</td><td>▄▂▃▃█▄▂▅▇▅▃▄▃▂▄▁▁▁▁▁▁▁▁▁▁</td></tr><tr><td>Angle sig+1</td><td>▇▃▁▃▅▆▃▇▇█▃▅▄▂▄▁▂▁▂▂▂▂▁▁▁</td></tr><tr><td>Angle sig-1</td><td>▂▂▂▄█▂▂▃▄▃▂▂▂▁▂▁▁▁▁▁▁▁▁▁▁</td></tr><tr><td>Learning rate</td><td>▁▁▁▂▂▂▃▄█▇▇▆▆▅▅▄▄▄▃▃▃▃▂▂▂</td></tr></table><br/>"
      ],
      "text/plain": [
       "<IPython.core.display.HTML object>"
      ]
     },
     "metadata": {},
     "output_type": "display_data"
    },
    {
     "data": {
      "text/html": [
       "Synced 6 W&B file(s), 7 media file(s), 0 artifact file(s) and 1 other file(s)"
      ],
      "text/plain": [
       "<IPython.core.display.HTML object>"
      ]
     },
     "metadata": {},
     "output_type": "display_data"
    },
    {
     "data": {
      "text/html": [
       "\n",
       "                    <br/>Synced <strong style=\"color:#cdcd00\">skilled-waterfall-29</strong>: <a href=\"https://wandb.ai/chri862z/icecube/runs/2kkpbflh\" target=\"_blank\">https://wandb.ai/chri862z/icecube/runs/2kkpbflh</a><br/>\n",
       "                "
      ],
      "text/plain": [
       "<IPython.core.display.HTML object>"
      ]
     },
     "metadata": {},
     "output_type": "display_data"
    },
    {
     "data": {
      "text/html": [
       "...Successfully finished last run (ID:2kkpbflh). Initializing new run:<br/><br/>"
      ],
      "text/plain": [
       "<IPython.core.display.HTML object>"
      ]
     },
     "metadata": {},
     "output_type": "display_data"
    },
    {
     "name": "stderr",
     "output_type": "stream",
     "text": [
      "wandb: wandb version 0.10.22 is available!  To upgrade, please run:\n",
      "wandb:  $ pip install wandb --upgrade\n"
     ]
    },
    {
     "data": {
      "text/html": [
       "\n",
       "                Tracking run with wandb version 0.10.19<br/>\n",
       "                Syncing run <strong style=\"color:#cdcd00\">magic-dragon-30</strong> to <a href=\"https://wandb.ai\" target=\"_blank\">Weights & Biases</a> <a href=\"https://docs.wandb.com/integrations/jupyter.html\" target=\"_blank\">(Documentation)</a>.<br/>\n",
       "                Project page: <a href=\"https://wandb.ai/chri862z/icecube\" target=\"_blank\">https://wandb.ai/chri862z/icecube</a><br/>\n",
       "                Run page: <a href=\"https://wandb.ai/chri862z/icecube/runs/o9hov3lt\" target=\"_blank\">https://wandb.ai/chri862z/icecube/runs/o9hov3lt</a><br/>\n",
       "                Run data is saved locally in <code>C:\\Users\\chris\\Christian\\3YR-UNI\\Bachelor\\IceCube\\wandb\\run-20210312_224806-o9hov3lt</code><br/><br/>\n",
       "            "
      ],
      "text/plain": [
       "<IPython.core.display.HTML object>"
      ]
     },
     "metadata": {},
     "output_type": "display_data"
    }
   ],
   "source": [
    "#everything here could be JSON\n",
    "\n",
    "################################################\n",
    "# Setup Deafult Variables                       # \n",
    "################################################\n",
    "learning_rate = 2.5e-4\n",
    "warm_up       = 4\n",
    "batch_size    = 512\n",
    "epochs        = 20\n",
    "n_data       = 1e4\n",
    "scenario    = \"probreg_test\"\n",
    "patience = 5\n",
    "angleunit = 'angle'\n",
    "\n",
    "################################################\n",
    "# Setup Model hyperparameters                  # \n",
    "################################################\n",
    "\n",
    "#Make model.config\n",
    "\n",
    "hidden_states = 'N/A'\n",
    "forward       = False\n",
    "dropout       = 'None'\n",
    "\n",
    "################################################\n",
    "# Setup Other Hyperparameters                   # \n",
    "################################################\n",
    "\n",
    "#add \"SRT_cleaned or not\"\n",
    "\n",
    "loss_method   = \"von Mises\"\n",
    "n_neighbors   = 6 # SKRIV SELV IND\n",
    "wandblog      = 1\n",
    "opt = Adam(learning_rate)\n",
    "\n",
    "if wandblog:\n",
    "    import wandb\n",
    "    !wandb login b5b917a9390932e56fccfcbff6f528ccd85c44bf\n",
    "    #checks\n",
    "    wandb.init(project=\"icecube\", group=scenario,entity=\"chri862z\")\n",
    "\n",
    "    # Declare for log\n",
    "    wandb.config.angleunit=angleunit\n",
    "    wandb.config.hidden_states = hidden_states\n",
    "    wandb.config.n_data = n_data\n",
    "    wandb.config.forward = forward\n",
    "    wandb.config.dropout = dropout\n",
    "    wandb.config.learning_rate = learning_rate\n",
    "    wandb.config.warm_up = warm_up\n",
    "    wandb.config.batch_size = batch_size\n",
    "    wandb.config.loss_func = loss_method\n",
    "    wandb.config.n_neighbors = n_neighbors\n",
    "    wandb.config.optimizer = 'Adam'\n",
    "    wandb.run.name = wandb.run.id\n",
    "    wandbname=wandb.run.id"
   ]
  },
  {
   "cell_type": "code",
   "execution_count": 32,
   "metadata": {
    "ExecuteTime": {
     "end_time": "2021-03-12T21:48:18.400843Z",
     "start_time": "2021-03-12T21:48:16.285898Z"
    }
   },
   "outputs": [
    {
     "name": "stdout",
     "output_type": "stream",
     "text": [
      "Not notebook\n",
      "Loading data to memory\n"
     ]
    }
   ],
   "source": [
    "################################################\n",
    "# Load data                      # \n",
    "################################################\n",
    "\n",
    "import data_load as dl\n",
    "reload(dl)\n",
    "graph_data=dl.graph_data\n",
    "dataset=graph_data(n_data=n_data, restart=0, transform=True, angle=True, unitvec=False)\n",
    "idx_lists = dataset.index_lists\n",
    "# Split data\n",
    "dataset_train = dataset[idx_lists[0]]\n",
    "dataset_val   = dataset[idx_lists[1]]\n",
    "dataset_test  = dataset[idx_lists[2]]\n",
    "\n",
    "loader_train = DisjointLoader(dataset_train, epochs=epochs, batch_size=batch_size) # the different loaders work very very differently, beware\n",
    "loader_test = DisjointLoader(dataset_test, batch_size=batch_size, epochs=1)\n",
    "if notebook:\n",
    "    winsound.Beep(400,300)"
   ]
  },
  {
   "cell_type": "code",
   "execution_count": 33,
   "metadata": {
    "ExecuteTime": {
     "end_time": "2021-03-12T21:48:18.419792Z",
     "start_time": "2021-03-12T21:48:18.403835Z"
    }
   },
   "outputs": [],
   "source": [
    "def metrics(y_reco, y_true):\n",
    "    energy_metric = tfp.stats.percentile(tf.math.abs(tf.subtract(y_true[:, 0], y_reco[:, 0])), [50-34, 50, 50+34]) \n",
    "    #for compariso\n",
    "    classic_stat=tfp.stats.percentile(tf.subtract(y_true[:, 0], y_reco[:, 0]), [25, 75]) \n",
    "    w_energy=tf.subtract(classic_stat[1],classic_stat[0])/1.349\n",
    "    \n",
    "    alpha= tf.math.acos(tf.math.sin(y_reco[:, 1])*tf.math.sin(y_true[:, 1])*tf.math.cos(tf.subtract(y_reco[:, 2],y_true[:, 2]))+tf.math.cos(y_reco[:, 1])*tf.math.cos(y_true[:, 1]))\n",
    "   \n",
    "    angle_resi = 180 / np.pi * alpha #degrees\n",
    "    angle_metric  = tfp.stats.percentile(angle_resi, [50-34,50,50+34])\n",
    "    w_angle         = tfp.stats.percentile(angle_resi, [68])\n",
    "\n",
    "    return energy_metric.numpy(), angle_metric.numpy(), [float(w_energy), float(w_angle)]\n"
   ]
  },
  {
   "cell_type": "code",
   "execution_count": 34,
   "metadata": {
    "ExecuteTime": {
     "end_time": "2021-03-12T21:48:18.434267Z",
     "start_time": "2021-03-12T21:48:18.422785Z"
    }
   },
   "outputs": [],
   "source": [
    "def metrics_zeniazi(y_reco, y_true):\n",
    "    w_zeni=180/np.pi*tfp.stats.percentile(tf.math.abs(tf.subtract(y_true[:, 1], y_reco[:, 1]%(np.pi/2))),[50-34, 50, 50+34, 68])\n",
    "    w_azi=180/np.pi*tfp.stats.percentile(tf.math.abs(tf.subtract(y_true[:, 2], y_reco[:, 2]%(np.pi*2))),[50-34, 50, 50+34, 68])\n",
    "    return w_zeni, w_azi"
   ]
  },
  {
   "cell_type": "code",
   "execution_count": 35,
   "metadata": {
    "ExecuteTime": {
     "end_time": "2021-03-12T21:48:18.450225Z",
     "start_time": "2021-03-12T21:48:18.437260Z"
    }
   },
   "outputs": [],
   "source": [
    "def loss_func(y_reco, y_true, re=False):\n",
    "    loss_energy = tf.reduce_mean((tf.subtract(y_reco[:,0], y_true[:,0]))**2)\n",
    "    kappa=tf.math.abs(y_reco[:,3])\n",
    "#     tf.print(tf.reduce_mean(kappa))\n",
    "    zep = y_reco[:,1] #Zenith prediction\n",
    "    zet = y_true[:,1] #Zenith target\n",
    "    azp = y_reco[:,2] #Azimuth prediction\n",
    "    azt = y_true[:,2] #Azimuth target\n",
    "    s1 = tf.math.sin(zet + azt - azp )\n",
    "    s2 = tf.math.sin( zet - azt + azp )\n",
    "    c1 = tf.math.cos( zet - zep )\n",
    "    c2 = tf.math.cos( zet + zep )\n",
    "    cos_angle = 0.5*tf.math.abs(tf.math.sin(zep))*( s1 + s2 ) + 0.5*(c1 + c2)\n",
    "    nlogC = - tf.math.log(kappa) + kappa + tf.math.log( 1 - tf.math.exp( - 2 * kappa) )\n",
    "\n",
    "    loss_angle = tf.reduce_mean( - kappa*cos_angle + nlogC )\n",
    "    if not re:\n",
    "        return loss_angle+loss_energy\n",
    "    if re:\n",
    "        return float(loss_angle+loss_energy), [float(loss_energy), float(loss_angle)]"
   ]
  },
  {
   "cell_type": "code",
   "execution_count": 36,
   "metadata": {
    "ExecuteTime": {
     "end_time": "2021-03-12T21:48:18.465263Z",
     "start_time": "2021-03-12T21:48:18.453218Z"
    }
   },
   "outputs": [],
   "source": [
    "def alpha_from(y_reco, y_true):\n",
    "    \n",
    "    azp = y_reco[:,2] #Azimuth prediction\n",
    "    azt = y_true[:,2] #Azimuth target\n",
    "    zep = y_reco[:,1] #Zenith prediction\n",
    "    zet = y_true[:,1] #Zenith target\n",
    "    s1 = tf.math.sin(zet + azt - azp )\n",
    "    s2 = tf.math.sin( zet - azt + azp )\n",
    "    c1 = tf.math.cos( zet - zep )\n",
    "    c2 = tf.math.cos( zet + zep )\n",
    "    cos_angle = 0.5*tf.math.abs(tf.math.sin(zep))*( s1 + s2 ) + 0.5*(c1 + c2)\n",
    "    angle=tf.math.acos(cos_angle)\n",
    "    return angle"
   ]
  },
  {
   "cell_type": "code",
   "execution_count": 37,
   "metadata": {
    "ExecuteTime": {
     "end_time": "2021-03-12T21:48:18.514132Z",
     "start_time": "2021-03-12T21:48:18.468255Z"
    }
   },
   "outputs": [],
   "source": [
    "################################################\n",
    "# Load Model and do checks                      # \n",
    "################################################\n",
    "import models.GCS as m\n",
    "reload(m)\n",
    "# model=m.GCN0(6)\n",
    "model=m.model(n_out=4)\n",
    "# model.compile('adam', 'categorical_crossentropy') ## this is a basic setup with predetermined optimizers and so on"
   ]
  },
  {
   "cell_type": "code",
   "execution_count": null,
   "metadata": {
    "ExecuteTime": {
     "end_time": "2021-03-12T21:56:03.633938Z",
     "start_time": "2021-03-12T21:55:34.330Z"
    }
   },
   "outputs": [],
   "source": [
    "def performance_e_alpha(loader, save=False, save_path=''):\n",
    "    '''Function to test and plot performance of Graph DL\n",
    "    input should be dom pos x,y,z , time, charge(log10)\n",
    "    target should be energy(log10),zenith angle, azimuthal angle, NOT unit vec \n",
    "    '''\n",
    "    loss = 0\n",
    "    prediction_list, target_list = [], []\n",
    "    for batch in loader:\n",
    "        inputs, targets = batch\n",
    "        predictions, targets, out = test_step(inputs, targets)\n",
    "        loss           += out\n",
    "        \n",
    "        prediction_list.append(predictions)\n",
    "        target_list.append(targets)\n",
    "\n",
    "    y_reco  = tf.concat(prediction_list, axis = 0).numpy()\n",
    "    y_true  = tf.concat(target_list, axis = 0)\n",
    "    y_true  = tf.cast(y_true, tf.float32).numpy()\n",
    "\n",
    "    energy = y_true[:, 0]\n",
    "    counts, bins = np.histogram(energy, bins = 10)\n",
    "\n",
    "    xs = (bins[1:] + bins[: -1]) / 2\n",
    "\n",
    "    w_energies, u_angles = [], []\n",
    "    e_sig, alpha_sig = [], [] \n",
    "    old_energy, old_alpha = [], []\n",
    "    zenith, azimuth = [], []\n",
    "    for i in range(len(bins)-1):\n",
    "        idx = np.logical_and(energy > bins[i], energy < bins[i + 1])\n",
    "\n",
    "        w, u_angle, old = metrics(y_reco[idx, :], y_true[idx, :])\n",
    "        old_energy.append(old[0])\n",
    "        old_alpha.append(old[1])\n",
    "        w_energies.append(w[1])\n",
    "        u_angles.append(u_angle[1])\n",
    "        e_sig.append([w[0], w[2]])\n",
    "        alpha_sig.append([u_angle[0], u_angle[2]])\n",
    "        zeni, azi=metrics_zeniazi(y_reco[idx,:], y_true[idx,:])\n",
    "        zenith.append(zeni)\n",
    "        azimuth.append(azi)\n",
    "    zenith, azimuth =  np.array(zenith), np.array(azimuth)\n",
    "    fig, ax = plt.subplots(ncols = 3, nrows = 4, figsize = (12, 20))\n",
    "    axesback=[(0,0), (0,1), (1,0), (1,1), (2,0), (3,0)]\n",
    "    for i,j in axesback:\n",
    "        a_ = ax[i][j].twinx()\n",
    "        a_.step(xs, counts, color = \"gray\", zorder = 10, alpha = 0.7, where = \"mid\")\n",
    "        a_.set_yscale(\"log\")\n",
    "        ax[i][j].set_xlabel(\"Log(E)\")\n",
    "\n",
    "    #structure: my metrics, old metrics, histogram\n",
    "    \n",
    "    # Energy reconstruction\n",
    "    ax_top = ax[0]\n",
    "\n",
    "    ax_top[0].errorbar(xs, w_energies,yerr=np.array(e_sig).T, fmt='k.',capsize=2,linewidth=1,ecolor='r',label='data')\n",
    "    ax_top[0].set_title(\"Energy Performance\")\n",
    "    ax_top[0].set_ylabel(r\"$\\Delta log(E)$\")\n",
    "\n",
    "    ax_top[1].plot(xs, old_energy, 'bo')\n",
    "    ax_top[1].set_title(\"Energy Performance (old metric)\")\n",
    "    ax_top[1].set_ylabel(r\"$w(\\Delta log(E))$\")\n",
    "\n",
    "    ax_top[2].hist2d(y_true[:,0], y_reco[:,0], bins=100,\\\n",
    "                   range=[np.percentile(y_true[:,0],[1,99]), np.percentile(y_reco[:,0],[1,99])])\n",
    "    ax_top[2].set_title(\"ML Reco/True\")\n",
    "    ax_top[2].set(xlabel=\"Truth (log(E))\", ylabel=\"ML Reco (log(E))\")\n",
    "\n",
    "\n",
    "    # Alpha reconstruction\n",
    "    ax_m=ax[1]\n",
    "\n",
    "    ax_m[0].errorbar(xs, u_angles,yerr=np.array(alpha_sig).T, fmt='k.',capsize=2,linewidth=1,ecolor='r',label=r'Median $\\pm \\sigma$')\n",
    "    ax_m[0].set_title(\"Angle Performance\")\n",
    "    ax_m[0].set_ylabel(r\"$\\Delta \\Omega$\")\n",
    "\n",
    "    ax_m[1].plot(xs, old_alpha, 'bo')\n",
    "    ax_m[1].set_title(\"Angle performance (old metric)\")\n",
    "    ax_m[1].set_ylabel(r\"$w(\\Omega)$\")\n",
    "\n",
    "    alphas=alpha_from(y_reco, y_true)\n",
    "    \n",
    "    ax_m[2].hist2d(np.abs(y_reco[:,3]), alphas, bins=100, \\\n",
    "                   range=[np.percentile(np.abs(y_reco[:,3]),[1,99]), np.percentile(alphas,[1,99])])\n",
    "    ax_m[2].set_title(\"ML Kappa correlation with angle error\")\n",
    "    ax_m[2].set(xlabel=r\"$\\kappa$\", ylabel=r\"$\\Delta \\Omega$\")\n",
    "    for axi in ax_m:\n",
    "        axi.legend()\n",
    "    #Zenith reconstruction\n",
    "    ax_z=ax[2]\n",
    "\n",
    "    ax_z[0].errorbar(xs, zenith[:,1],yerr=[zenith[:,0], zenith[:,2]], fmt='k.',capsize=2,linewidth=1,ecolor='r',label=r'Median $\\pm \\sigma$')\n",
    "    ax_z[0].set_title(\"Zenith Performance\")\n",
    "    ax_z[0].plot(xs, zenith[:,3], 'bo', label='68th')\n",
    "    ax_z[0].set_ylabel(r\"$\\Delta \\Theta$\")\n",
    "    \n",
    "    reszeni=np.abs(y_reco[:, 1]%(np.pi/2)-y_true[:,1])\n",
    "    ax_z[1].hist(reszeni, label = \"ML reco - Truth\", histtype = \"step\", bins = 50)\n",
    "    ax_z[1].hist(y_reco[:, 1]%(np.pi/2), label = \"ML reco\", histtype = \"step\", bins = 50)\n",
    "    ax_z[1].hist(y_true[:, 1], label = \"Truth\", histtype = \"step\", bins = 50)\n",
    "    \n",
    "    ax_z[1].set_title(\"Zenith Perfomance\")\n",
    "    ax_z[1].set_ylabel(r\"$\\Theta$\")\n",
    "    \n",
    "    ax_z[2].hist2d(np.abs(y_reco[:,3]), reszeni, bins=100,\\\n",
    "                  range=[np.percentile(np.abs(y_reco[:,3]),[1,99]), np.percentile(reszeni,[1,99])])\n",
    "    ax_z[2].set_title(\"ML Kappa correlation with zenith error\")\n",
    "    ax_z[2].set(xlabel=r\"$\\kappa$\", ylabel=r\"$\\Delta \\Theta$\")\n",
    "    for axi in ax_z:\n",
    "        axi.legend()\n",
    "    #Azimuth reconstruction\n",
    "    \n",
    "    ax_az=ax[3]\n",
    "\n",
    "    ax_az[0].errorbar(xs, azimuth[:,1],yerr=[azimuth[:,0], azimuth[:,2]], fmt='k.',capsize=2,linewidth=1,ecolor='r',label=r'Median $\\pm \\sigma$')\n",
    "    ax_az[0].set_title(\"Azimuth Performance\")\n",
    "    ax_az[0].plot(xs, azimuth[:,3], 'bo', label='68th')\n",
    "    ax_az[0].set_ylabel(r\"$\\Delta \\phi$\")\n",
    "    \n",
    "    resazi=np.abs(y_reco[:, 2]%(2*np.pi)-y_true[:,2])\n",
    "    ax_az[1].hist(resazi, label = \"ML reco - Truth\", histtype = \"step\", bins = 50)\n",
    "    ax_az[1].hist(y_reco[:, 2]%(2*np.pi), label = \"ML reco\", histtype = \"step\", bins = 50)\n",
    "    ax_az[1].hist(y_true[:, 2], label = \"Truth\", histtype = \"step\", bins = 50)\n",
    "    \n",
    "    ax_az[1].set_title(\"Azimuth Perfomance\")\n",
    "    ax_az[1].set_ylabel(r\"$\\phi$\")\n",
    "    \n",
    "    ax_az[2].hist2d(np.abs(y_reco[:,3]), resazi, bins=100,\\\n",
    "                  range=[np.percentile(np.abs(y_reco[:,3]),[1,99]), np.percentile(resazi,[1,99])])\n",
    "    ax_az[2].set_title(\"ML Kappa correlation with azimuth error\")\n",
    "    ax_az[2].set(xlabel=r\"$\\kappa$\", ylabel=r\"$\\Delta \\phi$\")\n",
    "    for axi in ax_az:\n",
    "        axi.legend()\n",
    "    fig.tight_layout()\n",
    "    if save:\n",
    "        fig.save(save_path)\n",
    "    return fig, ax"
   ]
  },
  {
   "cell_type": "code",
   "execution_count": 39,
   "metadata": {
    "ExecuteTime": {
     "end_time": "2021-03-12T21:48:18.734634Z",
     "start_time": "2021-03-12T21:48:18.566992Z"
    }
   },
   "outputs": [],
   "source": [
    "# ################################################\n",
    "# # Setup functions                            # \n",
    "# ################################################\n",
    "# import loss.loss_funcs as loss_funcs\n",
    "# reload(loss_funcs)\n",
    "# loss_func=loss_funcs.loss_funcangle\n",
    "\n",
    "def lr_schedule(epochs = epochs, initial = learning_rate, warm_up=warm_up, decay = 0.9):\n",
    "    n = 1\n",
    "    lr = initial\n",
    "    yield lr\n",
    "    while n < warm_up:\n",
    "        lr *= 2\n",
    "        n  += 1\n",
    "        yield lr\n",
    "    while True:\n",
    "        lr *= decay\n",
    "        n  += 1 \n",
    "        yield lr\n",
    "\n",
    "\n",
    "#make functions into tf functions\n",
    "\n",
    "@tf.function(input_signature = loader_train.tf_signature(), experimental_relax_shapes = True)\n",
    "def train_step(inputs, targets):\n",
    "    with tf.GradientTape() as tape:\n",
    "        predictions = model(inputs, training = True)\n",
    "        targets     = tf.cast(targets, tf.float32)\n",
    "        loss        = loss_func(predictions, targets)\n",
    "        loss       += sum(model.losses)\n",
    "\n",
    "    gradients = tape.gradient(loss, model.trainable_variables)\n",
    "    opt.apply_gradients(zip(gradients, model.trainable_variables))\n",
    "    return loss\n",
    "\n",
    "@tf.function(input_signature = loader_test.tf_signature(), experimental_relax_shapes = True)\n",
    "def test_step(inputs, targets):\n",
    "    predictions = model(inputs, training = False)\n",
    "    targets     = tf.cast(targets, tf.float32) \n",
    "    out         = loss_func(predictions, targets)\n",
    "\n",
    "    return predictions, targets, out\n",
    "\n",
    "\n",
    "def validation(loader):\n",
    "    loss = 0\n",
    "    prediction_list, target_list = [], []\n",
    "    for batch in loader:\n",
    "        inputs, targets = batch\n",
    "        predictions, targets, out = test_step(inputs, targets)\n",
    "        loss           += out\n",
    "        \n",
    "        prediction_list.append(predictions)\n",
    "        target_list.append(targets)\n",
    "    \n",
    "    y_reco  = tf.concat(prediction_list, axis = 0)\n",
    "    y_true  = tf.concat(target_list, axis = 0)\n",
    "    y_true  = tf.cast(y_true, tf.float32)\n",
    "\n",
    "    loss, loss_from = loss_func(y_reco, y_true, re=True)\n",
    "    \n",
    "    energy, angle, old= metrics(y_reco, y_true)\n",
    "    \n",
    "    return loss, loss_from, [energy, angle, old]"
   ]
  },
  {
   "cell_type": "code",
   "execution_count": 40,
   "metadata": {
    "ExecuteTime": {
     "end_time": "2021-03-12T21:56:03.630945Z",
     "start_time": "2021-03-12T21:48:18.735625Z"
    },
    "scrolled": false
   },
   "outputs": [
    {
     "data": {
      "application/vnd.jupyter.widget-view+json": {
       "model_id": "d5ba094667a04a3bbeaca04ca053fb3b",
       "version_major": 2,
       "version_minor": 0
      },
      "text/plain": [
       "HBox(children=(HTML(value=''), FloatProgress(value=0.0, max=20.0), HTML(value='')))"
      ]
     },
     "metadata": {},
     "output_type": "display_data"
    },
    {
     "data": {
      "application/vnd.jupyter.widget-view+json": {
       "model_id": "756fdcf6ed674665bcf1da50dfd43866",
       "version_major": 2,
       "version_minor": 0
      },
      "text/plain": [
       "HBox(children=(HTML(value=''), FloatProgress(value=0.0, max=79.0), HTML(value='')))"
      ]
     },
     "metadata": {},
     "output_type": "display_data"
    },
    {
     "name": "stdout",
     "output_type": "stream",
     "text": [
      "New folder for saving probreg_test made\n",
      "New folder for saving run o9hov3lt\n",
      "Model: \"model_3\"\n",
      "_________________________________________________________________\n",
      "Layer (type)                 Output Shape              Param #   \n",
      "=================================================================\n",
      "ecc_conv_3 (ECCConv)         multiple                  29696     \n",
      "_________________________________________________________________\n",
      "gcs_conv_12 (GCSConv)        multiple                  8192      \n",
      "_________________________________________________________________\n",
      "gcs_conv_13 (GCSConv)        multiple                  16384     \n",
      "_________________________________________________________________\n",
      "gcs_conv_14 (GCSConv)        multiple                  65536     \n",
      "_________________________________________________________________\n",
      "gcs_conv_15 (GCSConv)        multiple                  262144    \n",
      "_________________________________________________________________\n",
      "global_max_pool_3 (GlobalMax multiple                  0         \n",
      "_________________________________________________________________\n",
      "global_avg_pool_3 (GlobalAvg multiple                  0         \n",
      "_________________________________________________________________\n",
      "global_sum_pool_3 (GlobalSum multiple                  0         \n",
      "_________________________________________________________________\n",
      "dense_18 (Dense)             multiple                  1573888   \n",
      "_________________________________________________________________\n",
      "dense_19 (Dense)             multiple                  524800    \n",
      "_________________________________________________________________\n",
      "dense_20 (Dense)             multiple                  131328    \n",
      "_________________________________________________________________\n",
      "dense_21 (Dense)             multiple                  32896     \n",
      "_________________________________________________________________\n",
      "dense_22 (Dense)             multiple                  16512     \n",
      "_________________________________________________________________\n",
      "batch_normalization_15 (Batc multiple                  4096      \n",
      "_________________________________________________________________\n",
      "batch_normalization_16 (Batc multiple                  2048      \n",
      "_________________________________________________________________\n",
      "batch_normalization_17 (Batc multiple                  1024      \n",
      "_________________________________________________________________\n",
      "batch_normalization_18 (Batc multiple                  512       \n",
      "_________________________________________________________________\n",
      "batch_normalization_19 (Batc multiple                  512       \n",
      "_________________________________________________________________\n",
      "dense_23 (Dense)             multiple                  516       \n",
      "=================================================================\n",
      "Total params: 2,670,084\n",
      "Trainable params: 2,665,988\n",
      "Non-trainable params: 4,096\n",
      "_________________________________________________________________\n",
      "Epoch 1 of 20 done in 53.96 seconds using learning rate: 2.50E-04\n",
      "Avg loss of train: 6.270809\n"
     ]
    },
    {
     "name": "stderr",
     "output_type": "stream",
     "text": [
      "Exception ignored in: <function tqdm.__del__ at 0x000002B2A5E6C790>\n",
      "Traceback (most recent call last):\n",
      "  File \"C:\\Users\\chris\\anaconda3\\lib\\site-packages\\tqdm\\std.py\", line 1122, in __del__\n",
      "    self.close()\n",
      "  File \"C:\\Users\\chris\\anaconda3\\lib\\site-packages\\tqdm\\notebook.py\", line 257, in close\n",
      "    super(tqdm_notebook, self).close(*args, **kwargs)\n",
      "  File \"C:\\Users\\chris\\anaconda3\\lib\\site-packages\\tqdm\\std.py\", line 1323, in close\n",
      "    fp_write('')\n",
      "  File \"C:\\Users\\chris\\anaconda3\\lib\\site-packages\\tqdm\\std.py\", line 1320, in fp_write\n",
      "    self.fp.write(_unicode(s))\n",
      "  File \"C:\\Users\\chris\\anaconda3\\lib\\site-packages\\tqdm\\utils.py\", line 223, in inner\n",
      "    return func(*args, **kwargs)\n",
      "  File \"C:\\Users\\chris\\anaconda3\\lib\\site-packages\\wandb\\sdk\\lib\\redirect.py\", line 100, in new_write\n",
      "    cb(name, data)\n",
      "  File \"C:\\Users\\chris\\anaconda3\\lib\\site-packages\\wandb\\sdk\\wandb_run.py\", line 729, in _console_callback\n",
      "    self._backend.interface.publish_output(name, data)\n",
      "  File \"C:\\Users\\chris\\anaconda3\\lib\\site-packages\\wandb\\sdk\\interface\\interface.py\", line 186, in publish_output\n",
      "    self._publish_output(o)\n",
      "  File \"C:\\Users\\chris\\anaconda3\\lib\\site-packages\\wandb\\sdk\\interface\\interface.py\", line 191, in _publish_output\n",
      "    self._publish(rec)\n",
      "  File \"C:\\Users\\chris\\anaconda3\\lib\\site-packages\\wandb\\sdk\\interface\\interface.py\", line 511, in _publish\n",
      "    raise Exception(\"The wandb backend process has shutdown\")\n",
      "Exception: The wandb backend process has shutdown\n",
      "Exception ignored in: <function tqdm.__del__ at 0x000002B2A5E6C790>\n",
      "Traceback (most recent call last):\n",
      "  File \"C:\\Users\\chris\\anaconda3\\lib\\site-packages\\tqdm\\std.py\", line 1122, in __del__\n",
      "    self.close()\n",
      "  File \"C:\\Users\\chris\\anaconda3\\lib\\site-packages\\tqdm\\notebook.py\", line 257, in close\n",
      "    super(tqdm_notebook, self).close(*args, **kwargs)\n",
      "  File \"C:\\Users\\chris\\anaconda3\\lib\\site-packages\\tqdm\\std.py\", line 1323, in close\n",
      "    fp_write('')\n",
      "  File \"C:\\Users\\chris\\anaconda3\\lib\\site-packages\\tqdm\\std.py\", line 1320, in fp_write\n",
      "    self.fp.write(_unicode(s))\n",
      "  File \"C:\\Users\\chris\\anaconda3\\lib\\site-packages\\tqdm\\utils.py\", line 223, in inner\n",
      "    return func(*args, **kwargs)\n",
      "  File \"C:\\Users\\chris\\anaconda3\\lib\\site-packages\\wandb\\sdk\\lib\\redirect.py\", line 100, in new_write\n",
      "    cb(name, data)\n",
      "  File \"C:\\Users\\chris\\anaconda3\\lib\\site-packages\\wandb\\sdk\\wandb_run.py\", line 729, in _console_callback\n",
      "    self._backend.interface.publish_output(name, data)\n",
      "  File \"C:\\Users\\chris\\anaconda3\\lib\\site-packages\\wandb\\sdk\\interface\\interface.py\", line 186, in publish_output\n",
      "    self._publish_output(o)\n",
      "  File \"C:\\Users\\chris\\anaconda3\\lib\\site-packages\\wandb\\sdk\\interface\\interface.py\", line 191, in _publish_output\n",
      "    self._publish(rec)\n",
      "  File \"C:\\Users\\chris\\anaconda3\\lib\\site-packages\\wandb\\sdk\\interface\\interface.py\", line 511, in _publish\n",
      "    raise Exception(\"The wandb backend process has shutdown\")\n",
      "Exception: The wandb backend process has shutdown\n"
     ]
    },
    {
     "name": "stdout",
     "output_type": "stream",
     "text": [
      "Avg loss of validation: 5.074457\n",
      "Loss from:  Energy: 4.918980 \t Angle: 0.155477 \n",
      "Energy: bias = 2.173562 sig_range = 1.951960<->2.446016, old metric 0.235410              \n",
      " Angle: bias = 38.357491 sig_range = 19.978601<->60.162724, old metric 49.022152\n",
      "Early stop counter: 0/5, lowest loss was 5.074457\n"
     ]
    },
    {
     "data": {
      "application/vnd.jupyter.widget-view+json": {
       "model_id": "5ecbc90b71544b389c61fc3caa9e7e02",
       "version_major": 2,
       "version_minor": 0
      },
      "text/plain": [
       "HBox(children=(HTML(value=''), FloatProgress(value=0.0, max=79.0), HTML(value='')))"
      ]
     },
     "metadata": {},
     "output_type": "display_data"
    },
    {
     "name": "stdout",
     "output_type": "stream",
     "text": [
      "Epoch 2 of 20 done in 64.79 seconds using learning rate: 5.00E-04\n",
      "Avg loss of train: 3.692489\n",
      "Avg loss of validation: 1.955406\n",
      "Loss from:  Energy: 2.201766 \t Angle: -0.246360 \n",
      "Energy: bias = 1.409678 sig_range = 1.116566<->1.758685, old metric 0.339229              \n",
      " Angle: bias = 39.221363 sig_range = 19.977003<->62.500549, old metric 50.530319\n",
      "Early stop counter: 0/5, lowest loss was 1.955406\n"
     ]
    },
    {
     "data": {
      "application/vnd.jupyter.widget-view+json": {
       "model_id": "47b69383b0da4e2fa2b3ed0127b50c3b",
       "version_major": 2,
       "version_minor": 0
      },
      "text/plain": [
       "HBox(children=(HTML(value=''), FloatProgress(value=0.0, max=79.0), HTML(value='')))"
      ]
     },
     "metadata": {},
     "output_type": "display_data"
    },
    {
     "name": "stdout",
     "output_type": "stream",
     "text": [
      "Epoch 3 of 20 done in 72.69 seconds using learning rate: 1.00E-03\n",
      "Avg loss of train: 0.228836\n",
      "Avg loss of validation: -0.241801\n",
      "Loss from:  Energy: 0.192121 \t Angle: -0.433922 \n",
      "Energy: bias = 0.278430 sig_range = 0.088640<->0.557182, old metric 0.378684              \n",
      " Angle: bias = 40.137802 sig_range = 19.909241<->69.640442, old metric 54.683090\n",
      "Early stop counter: 0/5, lowest loss was -0.241801\n"
     ]
    },
    {
     "data": {
      "application/vnd.jupyter.widget-view+json": {
       "model_id": "fa09c00ba09a4aa3a5f3dbc16d4ea35e",
       "version_major": 2,
       "version_minor": 0
      },
      "text/plain": [
       "HBox(children=(HTML(value=''), FloatProgress(value=0.0, max=79.0), HTML(value='')))"
      ]
     },
     "metadata": {},
     "output_type": "display_data"
    },
    {
     "name": "stdout",
     "output_type": "stream",
     "text": [
      "Epoch 4 of 20 done in 74.27 seconds using learning rate: 2.00E-03\n",
      "Avg loss of train: -0.397967\n",
      "Avg loss of validation: 0.213920\n",
      "Loss from:  Energy: 0.104214 \t Angle: 0.109707 \n",
      "Energy: bias = 0.189499 sig_range = 0.056885<->0.418907, old metric 0.273602              \n",
      " Angle: bias = 48.461571 sig_range = 25.385033<->77.767967, old metric 61.895531\n",
      "Early stop counter: 1/5, lowest loss was -0.241801\n"
     ]
    },
    {
     "data": {
      "application/vnd.jupyter.widget-view+json": {
       "model_id": "78ef4549db894b8285b6e60055dfb805",
       "version_major": 2,
       "version_minor": 0
      },
      "text/plain": [
       "HBox(children=(HTML(value=''), FloatProgress(value=0.0, max=79.0), HTML(value='')))"
      ]
     },
     "metadata": {},
     "output_type": "display_data"
    },
    {
     "name": "stdout",
     "output_type": "stream",
     "text": [
      "Epoch 5 of 20 done in 74.99 seconds using learning rate: 1.80E-03\n",
      "Avg loss of train: -0.517771\n",
      "Avg loss of validation: -0.060241\n",
      "Loss from:  Energy: 0.239150 \t Angle: -0.299390 \n",
      "Energy: bias = 0.291384 sig_range = 0.089525<->0.631008, old metric 0.417911              \n",
      " Angle: bias = 50.892967 sig_range = 24.311090<->82.372696, old metric 66.166977\n",
      "Early stop counter: 2/5, lowest loss was -0.241801\n"
     ]
    },
    {
     "data": {
      "application/vnd.jupyter.widget-view+json": {
       "model_id": "fe7834136e914157a7f808a1f3c6c9f3",
       "version_major": 2,
       "version_minor": 0
      },
      "text/plain": [
       "HBox(children=(HTML(value=''), FloatProgress(value=0.0, max=79.0), HTML(value='')))"
      ]
     },
     "metadata": {},
     "output_type": "display_data"
    },
    {
     "name": "stdout",
     "output_type": "stream",
     "text": [
      "\n",
      "\n",
      "\n",
      "\n",
      "\n"
     ]
    },
    {
     "name": "stderr",
     "output_type": "stream",
     "text": [
      "WARNING:absl:Found untraced functions such as FGN_0_layer_call_fn, FGN_0_layer_call_and_return_conditional_losses, FGN_1_layer_call_fn, FGN_1_layer_call_and_return_conditional_losses, FGN_2_layer_call_fn while saving (showing 5 of 20). These functions will not be directly callable after loading.\n",
      "WARNING:absl:Found untraced functions such as FGN_0_layer_call_fn, FGN_0_layer_call_and_return_conditional_losses, FGN_1_layer_call_fn, FGN_1_layer_call_and_return_conditional_losses, FGN_2_layer_call_fn while saving (showing 5 of 20). These functions will not be directly callable after loading.\n"
     ]
    },
    {
     "name": "stdout",
     "output_type": "stream",
     "text": [
      "INFO:tensorflow:Assets written to: C:\\Users\\chris\\Christian\\3YR-UNI\\Bachelor\\IceCube\\trained_models/probreg_test\\o9hov3lt\\assets\n"
     ]
    },
    {
     "name": "stderr",
     "output_type": "stream",
     "text": [
      "INFO:tensorflow:Assets written to: C:\\Users\\chris\\Christian\\3YR-UNI\\Bachelor\\IceCube\\trained_models/probreg_test\\o9hov3lt\\assets\n"
     ]
    },
    {
     "name": "stdout",
     "output_type": "stream",
     "text": [
      "Model saved\n"
     ]
    },
    {
     "name": "stderr",
     "output_type": "stream",
     "text": [
      "WARNING:matplotlib.legend:No handles with labels found to put in legend.\n",
      "WARNING:matplotlib.legend:No handles with labels found to put in legend.\n",
      "WARNING:matplotlib.legend:No handles with labels found to put in legend.\n",
      "WARNING:matplotlib.legend:No handles with labels found to put in legend.\n"
     ]
    },
    {
     "name": "stdout",
     "output_type": "stream",
     "text": [
      "Epoch 6 of 20 done in 72.84 seconds using learning rate: 1.62E-03\n",
      "Avg loss of train: -0.646662\n",
      "Avg loss of validation: -0.458905\n",
      "Loss from:  Energy: 0.135699 \t Angle: -0.594604 \n",
      "Energy: bias = 0.261622 sig_range = 0.086367<->0.506003, old metric 0.380288              \n",
      " Angle: bias = 49.035133 sig_range = 21.518719<->87.124458, old metric 68.316986\n",
      "Early stop counter: 0/5, lowest loss was -0.458905\n"
     ]
    },
    {
     "data": {
      "application/vnd.jupyter.widget-view+json": {
       "model_id": "82eda7e48f6e4101815e0bc2b450a935",
       "version_major": 2,
       "version_minor": 0
      },
      "text/plain": [
       "HBox(children=(HTML(value=''), FloatProgress(value=0.0, max=79.0), HTML(value='')))"
      ]
     },
     "metadata": {},
     "output_type": "display_data"
    },
    {
     "ename": "KeyboardInterrupt",
     "evalue": "",
     "output_type": "error",
     "traceback": [
      "\u001b[1;31m---------------------------------------------------------------------------\u001b[0m",
      "\u001b[1;31mKeyboardInterrupt\u001b[0m                         Traceback (most recent call last)",
      "\u001b[1;32m<ipython-input-40-8d0ccf356d1f>\u001b[0m in \u001b[0;36m<module>\u001b[1;34m\u001b[0m\n\u001b[0;32m     26\u001b[0m \u001b[1;32mfor\u001b[0m \u001b[0mbatch\u001b[0m \u001b[1;32min\u001b[0m \u001b[0mloader_train\u001b[0m\u001b[1;33m:\u001b[0m\u001b[1;33m\u001b[0m\u001b[1;33m\u001b[0m\u001b[0m\n\u001b[0;32m     27\u001b[0m     \u001b[0minputs\u001b[0m\u001b[1;33m,\u001b[0m \u001b[0mtargets\u001b[0m \u001b[1;33m=\u001b[0m \u001b[0mbatch\u001b[0m\u001b[1;33m\u001b[0m\u001b[1;33m\u001b[0m\u001b[0m\n\u001b[1;32m---> 28\u001b[1;33m     \u001b[0mout\u001b[0m             \u001b[1;33m=\u001b[0m \u001b[0mtrain_step\u001b[0m\u001b[1;33m(\u001b[0m\u001b[0minputs\u001b[0m\u001b[1;33m,\u001b[0m \u001b[0mtargets\u001b[0m\u001b[1;33m)\u001b[0m\u001b[1;33m\u001b[0m\u001b[1;33m\u001b[0m\u001b[0m\n\u001b[0m\u001b[0;32m     29\u001b[0m     \u001b[0mloss\u001b[0m           \u001b[1;33m+=\u001b[0m \u001b[0mout\u001b[0m\u001b[1;33m\u001b[0m\u001b[1;33m\u001b[0m\u001b[0m\n\u001b[0;32m     30\u001b[0m     \u001b[1;32mif\u001b[0m \u001b[0mcurrent_epoch\u001b[0m\u001b[1;33m==\u001b[0m\u001b[1;36m1\u001b[0m \u001b[1;32mand\u001b[0m \u001b[0mcurrent_batch\u001b[0m\u001b[1;33m==\u001b[0m\u001b[1;36m0\u001b[0m\u001b[1;33m:\u001b[0m\u001b[1;33m\u001b[0m\u001b[1;33m\u001b[0m\u001b[0m\n",
      "\u001b[1;32m~\\AppData\\Roaming\\Python\\Python38\\site-packages\\tensorflow\\python\\eager\\def_function.py\u001b[0m in \u001b[0;36m__call__\u001b[1;34m(self, *args, **kwds)\u001b[0m\n\u001b[0;32m    826\u001b[0m     \u001b[0mtracing_count\u001b[0m \u001b[1;33m=\u001b[0m \u001b[0mself\u001b[0m\u001b[1;33m.\u001b[0m\u001b[0mexperimental_get_tracing_count\u001b[0m\u001b[1;33m(\u001b[0m\u001b[1;33m)\u001b[0m\u001b[1;33m\u001b[0m\u001b[1;33m\u001b[0m\u001b[0m\n\u001b[0;32m    827\u001b[0m     \u001b[1;32mwith\u001b[0m \u001b[0mtrace\u001b[0m\u001b[1;33m.\u001b[0m\u001b[0mTrace\u001b[0m\u001b[1;33m(\u001b[0m\u001b[0mself\u001b[0m\u001b[1;33m.\u001b[0m\u001b[0m_name\u001b[0m\u001b[1;33m)\u001b[0m \u001b[1;32mas\u001b[0m \u001b[0mtm\u001b[0m\u001b[1;33m:\u001b[0m\u001b[1;33m\u001b[0m\u001b[1;33m\u001b[0m\u001b[0m\n\u001b[1;32m--> 828\u001b[1;33m       \u001b[0mresult\u001b[0m \u001b[1;33m=\u001b[0m \u001b[0mself\u001b[0m\u001b[1;33m.\u001b[0m\u001b[0m_call\u001b[0m\u001b[1;33m(\u001b[0m\u001b[1;33m*\u001b[0m\u001b[0margs\u001b[0m\u001b[1;33m,\u001b[0m \u001b[1;33m**\u001b[0m\u001b[0mkwds\u001b[0m\u001b[1;33m)\u001b[0m\u001b[1;33m\u001b[0m\u001b[1;33m\u001b[0m\u001b[0m\n\u001b[0m\u001b[0;32m    829\u001b[0m       \u001b[0mcompiler\u001b[0m \u001b[1;33m=\u001b[0m \u001b[1;34m\"xla\"\u001b[0m \u001b[1;32mif\u001b[0m \u001b[0mself\u001b[0m\u001b[1;33m.\u001b[0m\u001b[0m_experimental_compile\u001b[0m \u001b[1;32melse\u001b[0m \u001b[1;34m\"nonXla\"\u001b[0m\u001b[1;33m\u001b[0m\u001b[1;33m\u001b[0m\u001b[0m\n\u001b[0;32m    830\u001b[0m       \u001b[0mnew_tracing_count\u001b[0m \u001b[1;33m=\u001b[0m \u001b[0mself\u001b[0m\u001b[1;33m.\u001b[0m\u001b[0mexperimental_get_tracing_count\u001b[0m\u001b[1;33m(\u001b[0m\u001b[1;33m)\u001b[0m\u001b[1;33m\u001b[0m\u001b[1;33m\u001b[0m\u001b[0m\n",
      "\u001b[1;32m~\\AppData\\Roaming\\Python\\Python38\\site-packages\\tensorflow\\python\\eager\\def_function.py\u001b[0m in \u001b[0;36m_call\u001b[1;34m(self, *args, **kwds)\u001b[0m\n\u001b[0;32m    853\u001b[0m       \u001b[1;31m# In this case we have created variables on the first call, so we run the\u001b[0m\u001b[1;33m\u001b[0m\u001b[1;33m\u001b[0m\u001b[1;33m\u001b[0m\u001b[0m\n\u001b[0;32m    854\u001b[0m       \u001b[1;31m# defunned version which is guaranteed to never create variables.\u001b[0m\u001b[1;33m\u001b[0m\u001b[1;33m\u001b[0m\u001b[1;33m\u001b[0m\u001b[0m\n\u001b[1;32m--> 855\u001b[1;33m       \u001b[1;32mreturn\u001b[0m \u001b[0mself\u001b[0m\u001b[1;33m.\u001b[0m\u001b[0m_stateless_fn\u001b[0m\u001b[1;33m(\u001b[0m\u001b[1;33m*\u001b[0m\u001b[0margs\u001b[0m\u001b[1;33m,\u001b[0m \u001b[1;33m**\u001b[0m\u001b[0mkwds\u001b[0m\u001b[1;33m)\u001b[0m  \u001b[1;31m# pylint: disable=not-callable\u001b[0m\u001b[1;33m\u001b[0m\u001b[1;33m\u001b[0m\u001b[0m\n\u001b[0m\u001b[0;32m    856\u001b[0m     \u001b[1;32melif\u001b[0m \u001b[0mself\u001b[0m\u001b[1;33m.\u001b[0m\u001b[0m_stateful_fn\u001b[0m \u001b[1;32mis\u001b[0m \u001b[1;32mnot\u001b[0m \u001b[1;32mNone\u001b[0m\u001b[1;33m:\u001b[0m\u001b[1;33m\u001b[0m\u001b[1;33m\u001b[0m\u001b[0m\n\u001b[0;32m    857\u001b[0m       \u001b[1;31m# Release the lock early so that multiple threads can perform the call\u001b[0m\u001b[1;33m\u001b[0m\u001b[1;33m\u001b[0m\u001b[1;33m\u001b[0m\u001b[0m\n",
      "\u001b[1;32m~\\AppData\\Roaming\\Python\\Python38\\site-packages\\tensorflow\\python\\eager\\function.py\u001b[0m in \u001b[0;36m__call__\u001b[1;34m(self, *args, **kwargs)\u001b[0m\n\u001b[0;32m   2940\u001b[0m       (graph_function,\n\u001b[0;32m   2941\u001b[0m        filtered_flat_args) = self._maybe_define_function(args, kwargs)\n\u001b[1;32m-> 2942\u001b[1;33m     return graph_function._call_flat(\n\u001b[0m\u001b[0;32m   2943\u001b[0m         filtered_flat_args, captured_inputs=graph_function.captured_inputs)  # pylint: disable=protected-access\n\u001b[0;32m   2944\u001b[0m \u001b[1;33m\u001b[0m\u001b[0m\n",
      "\u001b[1;32m~\\AppData\\Roaming\\Python\\Python38\\site-packages\\tensorflow\\python\\eager\\function.py\u001b[0m in \u001b[0;36m_call_flat\u001b[1;34m(self, args, captured_inputs, cancellation_manager)\u001b[0m\n\u001b[0;32m   1916\u001b[0m         and executing_eagerly):\n\u001b[0;32m   1917\u001b[0m       \u001b[1;31m# No tape is watching; skip to running the function.\u001b[0m\u001b[1;33m\u001b[0m\u001b[1;33m\u001b[0m\u001b[1;33m\u001b[0m\u001b[0m\n\u001b[1;32m-> 1918\u001b[1;33m       return self._build_call_outputs(self._inference_function.call(\n\u001b[0m\u001b[0;32m   1919\u001b[0m           ctx, args, cancellation_manager=cancellation_manager))\n\u001b[0;32m   1920\u001b[0m     forward_backward = self._select_forward_and_backward_functions(\n",
      "\u001b[1;32m~\\AppData\\Roaming\\Python\\Python38\\site-packages\\tensorflow\\python\\eager\\function.py\u001b[0m in \u001b[0;36mcall\u001b[1;34m(self, ctx, args, cancellation_manager)\u001b[0m\n\u001b[0;32m    553\u001b[0m       \u001b[1;32mwith\u001b[0m \u001b[0m_InterpolateFunctionError\u001b[0m\u001b[1;33m(\u001b[0m\u001b[0mself\u001b[0m\u001b[1;33m)\u001b[0m\u001b[1;33m:\u001b[0m\u001b[1;33m\u001b[0m\u001b[1;33m\u001b[0m\u001b[0m\n\u001b[0;32m    554\u001b[0m         \u001b[1;32mif\u001b[0m \u001b[0mcancellation_manager\u001b[0m \u001b[1;32mis\u001b[0m \u001b[1;32mNone\u001b[0m\u001b[1;33m:\u001b[0m\u001b[1;33m\u001b[0m\u001b[1;33m\u001b[0m\u001b[0m\n\u001b[1;32m--> 555\u001b[1;33m           outputs = execute.execute(\n\u001b[0m\u001b[0;32m    556\u001b[0m               \u001b[0mstr\u001b[0m\u001b[1;33m(\u001b[0m\u001b[0mself\u001b[0m\u001b[1;33m.\u001b[0m\u001b[0msignature\u001b[0m\u001b[1;33m.\u001b[0m\u001b[0mname\u001b[0m\u001b[1;33m)\u001b[0m\u001b[1;33m,\u001b[0m\u001b[1;33m\u001b[0m\u001b[1;33m\u001b[0m\u001b[0m\n\u001b[0;32m    557\u001b[0m               \u001b[0mnum_outputs\u001b[0m\u001b[1;33m=\u001b[0m\u001b[0mself\u001b[0m\u001b[1;33m.\u001b[0m\u001b[0m_num_outputs\u001b[0m\u001b[1;33m,\u001b[0m\u001b[1;33m\u001b[0m\u001b[1;33m\u001b[0m\u001b[0m\n",
      "\u001b[1;32m~\\AppData\\Roaming\\Python\\Python38\\site-packages\\tensorflow\\python\\eager\\execute.py\u001b[0m in \u001b[0;36mquick_execute\u001b[1;34m(op_name, num_outputs, inputs, attrs, ctx, name)\u001b[0m\n\u001b[0;32m     57\u001b[0m   \u001b[1;32mtry\u001b[0m\u001b[1;33m:\u001b[0m\u001b[1;33m\u001b[0m\u001b[1;33m\u001b[0m\u001b[0m\n\u001b[0;32m     58\u001b[0m     \u001b[0mctx\u001b[0m\u001b[1;33m.\u001b[0m\u001b[0mensure_initialized\u001b[0m\u001b[1;33m(\u001b[0m\u001b[1;33m)\u001b[0m\u001b[1;33m\u001b[0m\u001b[1;33m\u001b[0m\u001b[0m\n\u001b[1;32m---> 59\u001b[1;33m     tensors = pywrap_tfe.TFE_Py_Execute(ctx._handle, device_name, op_name,\n\u001b[0m\u001b[0;32m     60\u001b[0m                                         inputs, attrs, num_outputs)\n\u001b[0;32m     61\u001b[0m   \u001b[1;32mexcept\u001b[0m \u001b[0mcore\u001b[0m\u001b[1;33m.\u001b[0m\u001b[0m_NotOkStatusException\u001b[0m \u001b[1;32mas\u001b[0m \u001b[0me\u001b[0m\u001b[1;33m:\u001b[0m\u001b[1;33m\u001b[0m\u001b[1;33m\u001b[0m\u001b[0m\n",
      "\u001b[1;31mKeyboardInterrupt\u001b[0m: "
     ]
    },
    {
     "data": {
      "image/png": "[encoded data removed]",
      "text/plain": [
       "<Figure size 864x1440 with 18 Axes>"
      ]
     },
     "metadata": {
      "needs_background": "light"
     },
     "output_type": "display_data"
    }
   ],
   "source": [
    "k=0\n",
    "if notebook:\n",
    "    k=0.2\n",
    "tot_time=0\n",
    "current_batch = 0\n",
    "current_epoch = 1\n",
    "loss          = 0\n",
    "lowest_loss   = np.inf\n",
    "early_stop    = 1\n",
    "early_stop_counter    = 0\n",
    "if notebook:\n",
    "    pbar0          = tqdm(total = epochs, position = 0, leave = True)\n",
    "    pbar0.set_description(f\"Epochbar\")\n",
    "pbar          = tqdm(total = loader_train.steps_per_epoch, position = k, leave = True)\n",
    "start_time    = time.time()\n",
    "lr_gen        = lr_schedule(initial=learning_rate)\n",
    "learning_Rate = next(lr_gen)\n",
    "cwd = osp.abspath('')\n",
    "save_path = osp.join(cwd, 'trained_models/'+scenario)\n",
    "if not osp.isdir(save_path):\n",
    "    os.makedirs(save_path)\n",
    "    print('New folder for saving '+scenario+' made')\n",
    "# Implement saving model archictecture to wandb\n",
    "save_path = osp.join(save_path, wandbname)\n",
    "if not osp.isdir(save_path):\n",
    "    os.makedirs(save_path)\n",
    "    print('New folder for saving run '+wandbname)\n",
    "summarylist=[]\n",
    "for batch in loader_train:\n",
    "    inputs, targets = batch\n",
    "    out             = train_step(inputs, targets)\n",
    "    loss           += out\n",
    "    if current_epoch==1 and current_batch==0:\n",
    "        model.summary()\n",
    "        if wandblog:\n",
    "            summary=model.summary(print_fn=summarylist.append)\n",
    "            table=wandb.Table(columns=[\"Layers\"])\n",
    "            for s in summarylist:\n",
    "                table.add_data(s)\n",
    "            wandb.log({'Model summary': table})\n",
    "            n_params=np.sum([np.prod(v.get_shape()) for v in model.variables])\n",
    "            wandb.config.n_params=n_params\n",
    "    current_batch  += 1\n",
    "    pbar.update(1)\n",
    "    pbar.set_description(f\"Epoch {current_epoch} / {epochs}; Avg_loss: {loss / current_batch:.6f}\")\n",
    "    \n",
    "    \n",
    "    if current_batch == loader_train.steps_per_epoch:\n",
    "        t=time.time() - start_time\n",
    "        tot_time+=t\n",
    "        print(f\"Epoch {current_epoch} of {epochs} done in {t:.2f} seconds using learning rate: {learning_rate:.2E}\")\n",
    "        print(f\"Avg loss of train: {loss / loader_train.steps_per_epoch:.6f}\")\n",
    "\n",
    "        loader_val    = DisjointLoader(dataset_val, epochs = 1,      batch_size = batch_size)\n",
    "        val_loss, val_loss_from, val_metric = validation(loader_val)\n",
    "#         val_loss, val_metric = validation(loader_val)\n",
    "        if wandblog:\n",
    "            wandb.log({\"Train Loss\":      loss / loader_train.steps_per_epoch,\n",
    "                       \"Validation Loss\": val_loss, \n",
    "                       \"Energy metric\":   val_metric[2][0],\n",
    "                       \"Energy bias\":   val_metric[0][1],\n",
    "                       \"Energy sig+1\":   val_metric[0][0],\n",
    "                       \"Energy sig-1\":   val_metric[0][2],\n",
    "                       \"Angle metric\":    val_metric[2][1],\n",
    "                       \"Angle bias\":   val_metric[1][1],\n",
    "                       \"Angle sig+1\":   val_metric[1][0],\n",
    "                       \"Angle sig-1\":   val_metric[1][2],\n",
    "                       \"Learning rate\":   learning_rate})\n",
    "\n",
    "        print(f\"Avg loss of validation: {val_loss:.6f}\")\n",
    "        print(f\"Loss from:  Energy: {val_loss_from[0]:.6f} \\t Angle: {val_loss_from[1]:.6f} \")\n",
    "        print(f\"Energy: bias = {val_metric[0][1]:.6f} sig_range = {val_metric[0][0]:.6f}<->{val_metric[0][2]:.6f}, old metric {val_metric[2][0]:.6f}\\\n",
    "              \\n Angle: bias = {val_metric[1][1]:.6f} sig_range = {val_metric[1][0]:.6f}<->{val_metric[1][2]:.6f}, old metric {val_metric[2][1]:.6f}\")\n",
    "\n",
    "        if val_loss < lowest_loss:\n",
    "            early_stop_counter = 0\n",
    "            lowest_loss        = val_loss\n",
    "        else:\n",
    "            early_stop_counter += 1\n",
    "        print(f'Early stop counter: {early_stop_counter}/{patience}, lowest val loss was {lowest_loss:.6f}')\n",
    "        if early_stop and (early_stop_counter >= patience):\n",
    "            model.save(save_path)\n",
    "            print(f\"Stopped training. No improvement was seen in {patience} epochs\")\n",
    "            break\n",
    "\n",
    "        if current_epoch != epochs:\n",
    "            pbar          = tqdm(total = loader_train.steps_per_epoch, position = k, leave = True)\n",
    "\n",
    "        learning_rate = next(lr_gen)\n",
    "        opt.learning_rate.assign(learning_rate)\n",
    "        if notebook:\n",
    "            pbar0.update(1)\n",
    "        time_avg=tot_time/current_epoch\n",
    "        delta=dt.timedelta(seconds=time_avg*(epochs-current_epoch))\n",
    "        now = dt.datetime.now()\n",
    "        then=now+delta\n",
    "        time_e = then.strftime(\"%H:%M:%S\")\n",
    "        if notebook:\n",
    "            pbar0.set_description(f\"Expect to finish at {time_e}\")\n",
    "        if current_epoch % patience == 0:\n",
    "            model.save(save_path)\n",
    "            print(\"Model saved\")\n",
    "            if wandblog:\n",
    "                loader_test = DisjointLoader(dataset_test, batch_size=batch_size, epochs=1)\n",
    "                fig, ax = performance_e_alpha(loader_test, save=True, save_path=save_path)\n",
    "                title=\"Metricsplot_\"+str(current_epoch)\n",
    "                wandb.log({title: [wandb.Image(fig, caption=title)]})\n",
    "    \n",
    "        loss            = 0\n",
    "        start_time      = time.time()\n",
    "        current_epoch  += 1\n",
    "        current_batch   = 0\n",
    "if notebook:\n",
    "    winsound.Beep(400,300)"
   ]
  },
  {
   "cell_type": "code",
   "execution_count": null,
   "metadata": {
    "ExecuteTime": {
     "end_time": "2021-03-12T21:14:51.376702Z",
     "start_time": "2021-03-12T21:14:51.101Z"
    }
   },
   "outputs": [],
   "source": [
    "loader_test = DisjointLoader(dataset_test, batch_size=batch_size, epochs=1)\n",
    "fig, ax = performance_e_alpha(loader_test)\n",
    "# if wandblog:\n",
    "#     fig.savefig(f\"model_tests/{scenario}_\"+wandbname\".pdf\")"
   ]
  },
  {
   "cell_type": "code",
   "execution_count": null,
   "metadata": {
    "ExecuteTime": {
     "end_time": "2021-03-12T21:10:12.136837Z",
     "start_time": "2021-03-12T21:03:18.559Z"
    },
    "code_folding": [
     0
    ]
   },
   "outputs": [],
   "source": [
    "def performance_e_alpha(loader, save=False):\n",
    "    '''Function to test and plot performance of Graph DL\n",
    "    input should be dom pos x,y,z , time, charge(log10)\n",
    "    target should be energy(log10),zenith angle, azimuthal angle, NOT unit vec \n",
    "    '''\n",
    "    loss = 0\n",
    "    prediction_list, target_list = [], []\n",
    "    for batch in loader:\n",
    "        inputs, targets = batch\n",
    "        predictions, targets, out = test_step(inputs, targets)\n",
    "        loss           += out\n",
    "        \n",
    "        prediction_list.append(predictions)\n",
    "        target_list.append(targets)\n",
    "\n",
    "    y_reco  = tf.concat(prediction_list, axis = 0).numpy()\n",
    "    y_true  = tf.concat(target_list, axis = 0)\n",
    "    y_true  = tf.cast(y_true, tf.float32).numpy()\n",
    "\n",
    "    energy = y_true[:, 0]\n",
    "    counts, bins = np.histogram(energy, bins = 10)\n",
    "\n",
    "    xs = (bins[1:] + bins[: -1]) / 2\n",
    "\n",
    "    w_energies, u_angles = [], []\n",
    "    e_sig, alpha_sig = [], [] \n",
    "    old_energy, old_alpha = [], []\n",
    "    zenith, azimuth = [], []\n",
    "    for i in range(len(bins)-1):\n",
    "        idx = np.logical_and(energy > bins[i], energy < bins[i + 1])\n",
    "\n",
    "        w, u_angle, old = metrics(y_reco[idx, :], y_true[idx, :])\n",
    "        old_energy.append(old[0])\n",
    "        old_alpha.append(old[1])\n",
    "        w_energies.append(w[1])\n",
    "        u_angles.append(u_angle[1])\n",
    "        e_sig.append([w[0], w[2]])\n",
    "        alpha_sig.append([u_angle[0], u_angle[2]])\n",
    "        zeni, azi=metrics_zeniazi(y_reco, y_true)\n",
    "        zenith.append(zeni)\n",
    "        azimuth.append(azi)\n",
    "    zenith, azimuth =  np.array(zenith), np.array(azimuth)\n",
    "    fig, ax = plt.subplots(ncols = 3, nrows = 4, figsize = (12, 20))\n",
    "    axesback=[(0,0), (0,1), (1,0), (1,1), (2,0), (3,0)]\n",
    "    for i,j in axesback:\n",
    "        a_ = ax[i][j].twinx()\n",
    "        a_.step(xs, counts, color = \"gray\", zorder = 10, alpha = 0.7, where = \"mid\")\n",
    "        a_.set_yscale(\"log\")\n",
    "        ax[i][j].set_xlabel(\"Log(E)\")\n",
    "\n",
    "    #structure: my metrics, old metrics, histogram\n",
    "    \n",
    "    # Energy reconstruction\n",
    "    ax_top = ax[0]\n",
    "\n",
    "    ax_top[0].errorbar(xs, w_energies,yerr=np.array(e_sig).T, fmt='k.',capsize=2,linewidth=1,ecolor='r',label='data')\n",
    "    ax_top[0].set_title(\"Energy Performance\")\n",
    "    ax_top[0].set_ylabel(r\"$\\Delta log(E)$\")\n",
    "\n",
    "    ax_top[1].plot(xs, old_energy, 'bo')\n",
    "    ax_top[1].set_title(\"Energy Performance (old metric)\")\n",
    "    ax_top[1].set_ylabel(r\"$w(\\Delta log(E))$\")\n",
    "\n",
    "    ax_top[2].hist2d(y_true[:,0], y_reco[:,0], bins=100,\\\n",
    "                   range=[np.percentile(y_true[:,0],[1,99]), np.percentile(y_reco[:,0],[1,99])])\n",
    "    ax_top[2].set_title(\"ML Reco/True\")\n",
    "    ax_top[2].set(xlabel=\"Truth (log(E))\", ylabel=\"ML Reco (log(E))\")\n",
    "\n",
    "\n",
    "    # Alpha reconstruction\n",
    "    ax_m=ax[1]\n",
    "\n",
    "    ax_m[0].errorbar(xs, u_angles,yerr=np.array(alpha_sig).T, fmt='k.',capsize=2,linewidth=1,ecolor='r',label=r'Median $\\pm \\sigma$')\n",
    "    ax_m[0].set_title(\"Angle Performance\")\n",
    "    ax_m[0].set_ylabel(r\"$\\Delta \\Omega$\")\n",
    "\n",
    "    ax_m[1].plot(xs, old_alpha, 'bo')\n",
    "    ax_m[1].set_title(\"Angle performance (old metric)\")\n",
    "    ax_m[1].set_ylabel(r\"$w(\\Omega)$\")\n",
    "\n",
    "    alphas=alpha_from(y_reco, y_true)\n",
    "    \n",
    "    ax_m[2].hist2d(np.abs(y_reco[:,3]), alphas, bins=100, \\\n",
    "                   range=[np.percentile(np.abs(y_reco[:,3]),[1,99]), np.percentile(alphas,[1,99])])\n",
    "    ax_m[2].set_title(\"ML Kappa correlation with angle error\")\n",
    "    ax_m[2].set(xlabel=r\"$\\kappa$\", ylabel=r\"$\\Delta \\Omega$\")\n",
    "    for axi in ax_m:\n",
    "        axi.legend()\n",
    "    #Zenith reconstruction\n",
    "    ax_z=ax[2]\n",
    "\n",
    "    ax_z[0].errorbar(xs, zenith[:,1],yerr=[zenith[:,0], zenith[:,2]], fmt='k.',capsize=2,linewidth=1,ecolor='r',label=r'Median $\\pm \\sigma$')\n",
    "    ax_z[0].set_title(\"Zenith Performance\")\n",
    "    ax_z[0].plot(xs, zenith[:,3], 'bo', label='68th')\n",
    "    ax_z[0].set_ylabel(r\"$\\Delta \\Theta$\")\n",
    "    \n",
    "    reszeni=np.abs(y_reco[:, 1]%(np.pi/2)-y_true[:,1])\n",
    "    ax_z[1].hist(reszeni, label = \"ML reco - Truth\", histtype = \"step\", bins = 50)\n",
    "    ax_z[1].hist(y_reco[:, 1]%(np.pi/2), label = \"ML reco\", histtype = \"step\", bins = 50)\n",
    "    ax_z[1].hist(y_true[:, 1], label = \"Truth\", histtype = \"step\", bins = 50)\n",
    "    \n",
    "    ax_z[1].set_title(\"Zenith Perfomance\")\n",
    "    ax_z[1].set_ylabel(r\"$\\Theta$\")\n",
    "    \n",
    "    ax_z[2].hist2d(np.abs(y_reco[:,3]), reszeni, bins=100,\\\n",
    "                  range=[np.percentile(np.abs(y_reco[:,3]),[1,99]), np.percentile(reszeni,[1,99])])\n",
    "    ax_z[2].set_title(\"ML Kappa correlation with zenith error\")\n",
    "    ax_z[2].set(xlabel=r\"$\\kappa$\", ylabel=r\"$\\Delta \\Theta$\")\n",
    "    for axi in ax_z:\n",
    "        axi.legend()\n",
    "    #Azimuth reconstruction\n",
    "    \n",
    "    ax_az=ax[3]\n",
    "\n",
    "    ax_az[0].errorbar(xs, azimuth[:,1],yerr=[azimuth[:,0], azimuth[:,2]], fmt='k.',capsize=2,linewidth=1,ecolor='r',label=r'Median $\\pm \\sigma$')\n",
    "    ax_az[0].set_title(\"Azimuth Performance\")\n",
    "    ax_az[0].plot(xs, azimuth[:,3], 'bo', label='68th')\n",
    "    ax_az[0].set_ylabel(r\"$\\Delta \\phi$\")\n",
    "    \n",
    "    resazi=np.abs(y_reco[:, 2]%(2*np.pi)-y_true[:,2])\n",
    "    ax_az[1].hist(resazi, label = \"ML reco - Truth\", histtype = \"step\", bins = 50)\n",
    "    ax_az[1].hist(y_reco[:, 2]%(2*np.pi), label = \"ML reco\", histtype = \"step\", bins = 50)\n",
    "    ax_az[1].hist(y_true[:, 2], label = \"Truth\", histtype = \"step\", bins = 50)\n",
    "    \n",
    "    ax_az[1].set_title(\"Azimuth Perfomance\")\n",
    "    ax_az[1].set_ylabel(r\"$\\phi$\")\n",
    "    \n",
    "    ax_az[2].hist2d(np.abs(y_reco[:,3]), resazi, bins=100,\\\n",
    "                  range=[np.percentile(np.abs(y_reco[:,3]),[1,99]), np.percentile(resazi,[1,99])])\n",
    "    ax_az[2].set_title(\"ML Kappa correlation with azimuth error\")\n",
    "    ax_az[2].set(xlabel=r\"$\\kappa$\", ylabel=r\"$\\Delta \\phi$\")\n",
    "    for axi in ax_az:\n",
    "        axi.legend()\n",
    "    fig.tight_layout()\n",
    "    return fig, ax"
   ]
  },
  {
   "cell_type": "code",
   "execution_count": null,
   "metadata": {
    "ExecuteTime": {
     "end_time": "2021-03-12T21:10:12.137834Z",
     "start_time": "2021-03-12T21:03:18.561Z"
    }
   },
   "outputs": [],
   "source": [
    "loader = DisjointLoader(dataset_test, batch_size=batch_size, epochs=1)\n",
    "loss = 0\n",
    "prediction_list, target_list = [], []\n",
    "for batch in loader:\n",
    "    inputs, targets = batch\n",
    "#     inputs[0][:, :3] = inputs[0][:, :3] / 1000\n",
    "    predictions, targets, out = test_step(inputs, targets)\n",
    "    loss           += out\n",
    "\n",
    "    prediction_list.append(predictions)\n",
    "    target_list.append(targets)\n",
    "y_reco  = tf.concat(prediction_list, axis = 0).numpy()\n",
    "y_true  = tf.concat(target_list, axis = 0)\n",
    "y_true  = tf.cast(y_true, tf.float32).numpy()"
   ]
  },
  {
   "cell_type": "code",
   "execution_count": null,
   "metadata": {
    "ExecuteTime": {
     "end_time": "2021-03-12T21:10:12.139829Z",
     "start_time": "2021-03-12T21:03:18.563Z"
    }
   },
   "outputs": [],
   "source": [
    "res=y_reco[:,:3]-y_true"
   ]
  },
  {
   "cell_type": "code",
   "execution_count": null,
   "metadata": {
    "ExecuteTime": {
     "end_time": "2021-03-12T21:10:12.141824Z",
     "start_time": "2021-03-12T21:03:18.565Z"
    }
   },
   "outputs": [],
   "source": [
    "k=1\n",
    "# mask=np.abs(y_reco[:,k]-y_true[:,k])>np.pi\n",
    "# mask=y_reco[:,k]<0\n",
    "\n",
    "plt.hist(y_reco[:,k]%(np.pi/2), bins=50, alpha=0.4);\n",
    "# plt.hist(np.abs(y_reco[:,2])-y_true[:,2], bins=50, alpha=0.4);\n",
    "# plt.hist(np.abs(y_reco[:,k]), bins=50, alpha=0.4);\n",
    "plt.hist(np.abs(y_true[:,k]), bins=50, alpha=0.4);"
   ]
  },
  {
   "cell_type": "code",
   "execution_count": null,
   "metadata": {
    "ExecuteTime": {
     "end_time": "2021-03-12T21:10:12.143818Z",
     "start_time": "2021-03-12T21:03:18.567Z"
    }
   },
   "outputs": [],
   "source": [
    "fig3, ax3 = plt.subplots()\n",
    "ax3.hist2d(y_true[:,k], y_reco[:,k]%(np.pi/2), bins=100, range=[np.percentile(y_reco[:,k]%(np.pi/2),[1,99]),[0,2]]);"
   ]
  },
  {
   "cell_type": "code",
   "execution_count": null,
   "metadata": {
    "ExecuteTime": {
     "end_time": "2021-03-12T21:10:12.145813Z",
     "start_time": "2021-03-12T21:03:18.568Z"
    }
   },
   "outputs": [],
   "source": [
    "def test(loader):\n",
    "    loss = 0\n",
    "    prediction_list, target_list = [], []\n",
    "    for batch in loader:\n",
    "        inputs, targets = batch\n",
    "        inputs[0][:, :3] = inputs[0][:, :3] / 1000\n",
    "        predictions, targets, out = test_step(inputs, targets)\n",
    "        loss           += out\n",
    "        \n",
    "        prediction_list.append(predictions)\n",
    "        target_list.append(targets)\n",
    "\n",
    "    y_reco  = tf.concat(prediction_list, axis = 0).numpy()\n",
    "    y_true  = tf.concat(target_list, axis = 0)\n",
    "    y_true  = tf.cast(y_true, tf.float32).numpy()\n",
    "\n",
    "\n",
    "#     # Unit vects to angles\n",
    "#     reco_vects = normalize(y_reco[:, 1:])    \n",
    "#     true_vects = normalize(y_true[:, 1:])\n",
    "\n",
    "\n",
    "#     reco_azi   = np.arctan2(reco_vects[:, 1], reco_vects[:, 0])\n",
    "#     reco_zen   = np.arctan2(reco_vects[:, 2], np.sqrt((reco_vects[:, :2] ** 2).sum(1)))\n",
    "\n",
    "#     true_azi   = np.arctan2(true_vects[:, 1], true_vects[:, 0])\n",
    "#     true_zen   = np.arctan2(true_vects[:, 2], np.sqrt((true_vects[:, :2] ** 2).sum(1)))\n",
    "\n",
    "\n",
    "\n",
    "\n",
    "\n",
    "    energy = y_true[:, 0]\n",
    "    counts, bins = np.histogram(energy, bins = 10)\n",
    "\n",
    "    xs = (bins[1:] + bins[: -1]) / 2\n",
    "\n",
    "    w_energies, u_angles = [], []\n",
    "\n",
    "    for i in range(len(bins)-1):\n",
    "        idx = np.logical_and(energy > bins[i], energy < bins[i + 1])\n",
    "\n",
    "        w, u_angle = metrics(y_true[idx, :], y_reco[idx, :])\n",
    "\n",
    "        w_energies.append(w)\n",
    "        u_angles.append(u_angle)\n",
    "\n",
    "\n",
    "    fig, ax = plt.subplots(ncols = 3, nrows = 3, figsize = (12, 12))\n",
    "\n",
    "    for a in ax[0]:\n",
    "        a_ = a.twinx()\n",
    "        a_.step(xs, counts, color = \"gray\", zorder = 10, alpha = 0.7, where = \"mid\")\n",
    "        a_.set_yscale(\"log\")\n",
    "        a.set_xlabel(\"Log Energy\")\n",
    "    \n",
    "    ax_top = ax[0]\n",
    "\n",
    "    # Energy reconstruction\n",
    "    ax_top[0].scatter(xs, w_energies)\n",
    "    ax_top[0].set_title(\"Energy Performance\")\n",
    "    ax_top[0].set_ylabel(r\"$w(\\Delta log(E)$\")\n",
    "\n",
    "\n",
    "    # Angle reconstruction\n",
    "    ax_top[1].scatter(xs, u_angles)\n",
    "    ax_top[1].set_title(\"Angle Performance\")\n",
    "    ax_top[1].set_ylabel(r\"$u(\\Delta \\Omega)$\")\n",
    "\n",
    "\n",
    "    # truth - pred plots\n",
    "    ax_mid = ax[1]\n",
    "\n",
    "    # Energy\n",
    "    ax_mid[0].set_title(\"Energy\")\n",
    "    ax_mid[0].plot(y_true[:, 0], y_reco[:, 0], 'b.', alpha = 0.25)\n",
    "\n",
    "\n",
    "    # Zenith\n",
    "    ax_mid[1].set_title(\"Zenith angle\")\n",
    "    ax_mid[1].plot(true_zen, reco_zen, 'b.', alpha = 0.25)\n",
    "    \n",
    "\n",
    "    # Azimuthal\n",
    "    ax_mid[2].set_title(\"Azimuthal angle\")\n",
    "    ax_mid[2].plot(true_azi, reco_azi, 'b.', alpha = 0.25)\n",
    "\n",
    "\n",
    "\n",
    "\n",
    "\n",
    "    # Histogram of guesses\n",
    "    ax_bot = ax[2]\n",
    "\n",
    "    # Energy\n",
    "    ax_bot[0].set_title(\"Energy\")\n",
    "    ax_bot[0].hist(y_reco[:, 0] - y_true[:, 0], label = \"reco - true\", histtype = \"step\", bins = 50)\n",
    "    ax_bot[0].hist(y_reco[:, 0], label = \"reco\", histtype = \"step\", bins = 50)\n",
    "    ax_bot[0].hist(y_true[:, 0], label = \"true\", histtype = \"step\", bins = 50)\n",
    "\n",
    "    # Zenith\n",
    "    ax_bot[1].set_title(\"Zenith angle\")\n",
    "    ax_bot[1].hist(reco_zen - true_zen, label = \"reco - true\", histtype = \"step\", bins = 50)\n",
    "    ax_bot[1].hist(reco_zen, label = \"reco\", histtype = \"step\", bins = 50)\n",
    "    ax_bot[1].hist(true_zen, label = \"true\", histtype = \"step\", bins = 50)\n",
    "\n",
    "    # Azimuthal\n",
    "    ax_bot[2].set_title(\"Azimuthal angle\")\n",
    "    ax_bot[2].hist(reco_azi - true_azi, label = \"reco - true\", histtype = \"step\", bins = 50)\n",
    "    ax_bot[2].hist(reco_azi, label = \"reco\", histtype = \"step\", bins = 50)\n",
    "    ax_bot[2].hist(true_azi, label = \"true\", histtype = \"step\", bins = 50)\n",
    "    ax_bot[2].legend()\n",
    "\n",
    "    fig.tight_layout()\n",
    "\n",
    "    return fig, ax"
   ]
  },
  {
   "cell_type": "code",
   "execution_count": null,
   "metadata": {
    "ExecuteTime": {
     "end_time": "2021-03-12T21:10:12.146810Z",
     "start_time": "2021-03-12T21:03:18.570Z"
    },
    "code_folding": [
     0
    ]
   },
   "outputs": [],
   "source": [
    "def test(loader):\n",
    "    loss = 0\n",
    "    prediction_list, target_list = [], []\n",
    "    for batch in loader:\n",
    "        inputs, targets = batch\n",
    "        inputs[0][:, :3] = inputs[0][:, :3] / 1000\n",
    "        predictions, targets, out = test_step(inputs, targets)\n",
    "        loss           += out\n",
    "        \n",
    "        prediction_list.append(predictions)\n",
    "        target_list.append(targets)\n",
    "\n",
    "    y_reco  = tf.concat(prediction_list, axis = 0).numpy()\n",
    "    y_true  = tf.concat(target_list, axis = 0)\n",
    "    y_true  = tf.cast(y_true, tf.float32).numpy()\n",
    "\n",
    "\n",
    "#     # Unit vects to angles\n",
    "#     reco_vects = normalize(y_reco[:, 1:])    \n",
    "#     true_vects = normalize(y_true[:, 1:])\n",
    "\n",
    "\n",
    "#     reco_azi   = np.arctan2(reco_vects[:, 1], reco_vects[:, 0])\n",
    "#     reco_zen   = np.arctan2(reco_vects[:, 2], np.sqrt((reco_vects[:, :2] ** 2).sum(1)))\n",
    "\n",
    "#     true_azi   = np.arctan2(true_vects[:, 1], true_vects[:, 0])\n",
    "#     true_zen   = np.arctan2(true_vects[:, 2], np.sqrt((true_vects[:, :2] ** 2).sum(1)))\n",
    "\n",
    "\n",
    "\n",
    "\n",
    "\n",
    "    energy = y_true[:, 0]\n",
    "    counts, bins = np.histogram(energy, bins = 10)\n",
    "\n",
    "    xs = (bins[1:] + bins[: -1]) / 2\n",
    "\n",
    "    w_energies, u_angles = [], []\n",
    "\n",
    "    for i in range(len(bins)-1):\n",
    "        idx = np.logical_and(energy > bins[i], energy < bins[i + 1])\n",
    "\n",
    "        w, u_angle = metrics(y_true[idx, :], y_reco[idx, :])\n",
    "\n",
    "        w_energies.append(w)\n",
    "        u_angles.append(u_angle)\n",
    "\n",
    "\n",
    "    fig, ax = plt.subplots(ncols = 3, nrows = 3, figsize = (12, 12))\n",
    "\n",
    "    for a in ax[0]:\n",
    "        a_ = a.twinx()\n",
    "        a_.step(xs, counts, color = \"gray\", zorder = 10, alpha = 0.7, where = \"mid\")\n",
    "        a_.set_yscale(\"log\")\n",
    "        a.set_xlabel(\"Log Energy\")\n",
    "    \n",
    "    ax_top = ax[0]\n",
    "\n",
    "    # Energy reconstruction\n",
    "    ax_top[0].scatter(xs, w_energies)\n",
    "    ax_top[0].set_title(\"Energy Performance\")\n",
    "    ax_top[0].set_ylabel(r\"$w(\\Delta log(E)$\")\n",
    "\n",
    "\n",
    "    # Angle reconstruction\n",
    "    ax_top[1].scatter(xs, u_angles)\n",
    "    ax_top[1].set_title(\"Angle Performance\")\n",
    "    ax_top[1].set_ylabel(r\"$u(\\Delta \\Omega)$\")\n",
    "\n",
    "\n",
    "    # truth - pred plots\n",
    "    ax_mid = ax[1]\n",
    "\n",
    "    # Energy\n",
    "    ax_mid[0].set_title(\"Energy\")\n",
    "    ax_mid[0].plot(y_true[:, 0], y_reco[:, 0], 'b.', alpha = 0.25)\n",
    "\n",
    "\n",
    "    # Zenith\n",
    "    ax_mid[1].set_title(\"Zenith angle\")\n",
    "    ax_mid[1].plot(true_zen, reco_zen, 'b.', alpha = 0.25)\n",
    "    \n",
    "\n",
    "    # Azimuthal\n",
    "    ax_mid[2].set_title(\"Azimuthal angle\")\n",
    "    ax_mid[2].plot(true_azi, reco_azi, 'b.', alpha = 0.25)\n",
    "\n",
    "\n",
    "\n",
    "\n",
    "\n",
    "    # Histogram of guesses\n",
    "    ax_bot = ax[2]\n",
    "\n",
    "    # Energy\n",
    "    ax_bot[0].set_title(\"Energy\")\n",
    "    ax_bot[0].hist(y_reco[:, 0] - y_true[:, 0], label = \"reco - true\", histtype = \"step\", bins = 50)\n",
    "    ax_bot[0].hist(y_reco[:, 0], label = \"reco\", histtype = \"step\", bins = 50)\n",
    "    ax_bot[0].hist(y_true[:, 0], label = \"true\", histtype = \"step\", bins = 50)\n",
    "\n",
    "    # Zenith\n",
    "    ax_bot[1].set_title(\"Zenith angle\")\n",
    "    ax_bot[1].hist(reco_zen - true_zen, label = \"reco - true\", histtype = \"step\", bins = 50)\n",
    "    ax_bot[1].hist(reco_zen, label = \"reco\", histtype = \"step\", bins = 50)\n",
    "    ax_bot[1].hist(true_zen, label = \"true\", histtype = \"step\", bins = 50)\n",
    "\n",
    "    # Azimuthal\n",
    "    ax_bot[2].set_title(\"Azimuthal angle\")\n",
    "    ax_bot[2].hist(reco_azi - true_azi, label = \"reco - true\", histtype = \"step\", bins = 50)\n",
    "    ax_bot[2].hist(reco_azi, label = \"reco\", histtype = \"step\", bins = 50)\n",
    "    ax_bot[2].hist(true_azi, label = \"true\", histtype = \"step\", bins = 50)\n",
    "    ax_bot[2].legend()\n",
    "\n",
    "    fig.tight_layout()\n",
    "\n",
    "    return fig, ax"
   ]
  },
  {
   "cell_type": "code",
   "execution_count": null,
   "metadata": {
    "ExecuteTime": {
     "end_time": "2021-03-12T21:10:12.148804Z",
     "start_time": "2021-03-12T21:03:18.571Z"
    }
   },
   "outputs": [],
   "source": [
    "test(loader_test)"
   ]
  },
  {
   "cell_type": "code",
   "execution_count": null,
   "metadata": {},
   "outputs": [],
   "source": []
  }
 ],
 "metadata": {
  "hide_input": false,
  "kernelspec": {
   "display_name": "Python 3",
   "language": "python",
   "name": "python3"
  },
  "language_info": {
   "codemirror_mode": {
    "name": "ipython",
    "version": 3
   },
   "file_extension": ".py",
   "mimetype": "text/x-python",
   "name": "python",
   "nbconvert_exporter": "python",
   "pygments_lexer": "ipython3",
   "version": "3.8.5"
  }
 },
 "nbformat": 4,
 "nbformat_minor": 4
}
