{
 "cells": [
  {
   "cell_type": "code",
   "execution_count": 14,
   "metadata": {
    "ExecuteTime": {
     "end_time": "2021-03-17T13:18:03.390183Z",
     "start_time": "2021-03-17T13:18:03.365251Z"
    }
   },
   "outputs": [],
   "source": [
    "import sqlite3, os, sys, pickle\n",
    "import pandas as pd\n",
    "import tensorflow as tf\n",
    "import numpy as np\n",
    "import matplotlib.pyplot as plt\n",
    "from tqdm.notebook import tqdm"
   ]
  },
  {
   "cell_type": "markdown",
   "metadata": {},
   "source": [
    "### First let's inspect the data and how to interact with the sql db file"
   ]
  },
  {
   "cell_type": "code",
   "execution_count": 15,
   "metadata": {
    "ExecuteTime": {
     "end_time": "2021-03-17T13:18:04.098722Z",
     "start_time": "2021-03-17T13:18:04.029579Z"
    },
    "scrolled": true
   },
   "outputs": [],
   "source": [
    "\n",
    "db_path = \"../db_files/dev_level7_mu_e_tau_oscweight_000/data/dev_level7_mu_e_tau_oscweight_000.db\"\n",
    "conn = sqlite3.connect(db_path) # this simply connects everything to the .db file. Can be used withs pandas read_sql\n",
    "cursor = conn.cursor() # used as a cursor from where we can execute commands and interact more directly with the db\n",
    "## for example ##\n",
    "# cursor.execute(f\"SELECT name FROM sqlite_master WHERE type='table';\")\n",
    "## General syntax is select feature from tablefile (features/truth) where condition limit x offset start\n",
    "\n",
    "## e.g. \"select distinct event_no from truth where pid = 13 limit 1 offset {n_data}\""
   ]
  },
  {
   "cell_type": "code",
   "execution_count": 16,
   "metadata": {
    "ExecuteTime": {
     "end_time": "2021-03-17T13:18:17.940409Z",
     "start_time": "2021-03-17T13:18:06.422529Z"
    }
   },
   "outputs": [],
   "source": [
    "lim=int(1e2)\n",
    "# getting truth for all events (there are 3 milllion so you can turn it down with limit)\n",
    "df_true=pd.read_sql(f'select * from truth ORDER BY RANDOM() limit {lim}', conn)\n",
    "stop=df_true.iloc[-1]['event_no']"
   ]
  },
  {
   "cell_type": "code",
   "execution_count": 17,
   "metadata": {
    "ExecuteTime": {
     "end_time": "2021-03-17T13:18:17.954335Z",
     "start_time": "2021-03-17T13:18:17.942366Z"
    }
   },
   "outputs": [],
   "source": [
    "# min(np.unique(df_all.loc[df_all['pid']==13]['event_no']))"
   ]
  },
  {
   "cell_type": "code",
   "execution_count": 18,
   "metadata": {
    "ExecuteTime": {
     "end_time": "2021-03-17T13:18:22.630688Z",
     "start_time": "2021-03-17T13:18:22.086281Z"
    }
   },
   "outputs": [
    {
     "data": {
      "application/vnd.jupyter.widget-view+json": {
       "model_id": "f859ac314dff411db3cd695bbdee6c8a",
       "version_major": 2,
       "version_minor": 0
      },
      "text/plain": [
       "HBox(children=(HTML(value=''), FloatProgress(value=0.0, max=99.0), HTML(value='')))"
      ]
     },
     "metadata": {},
     "output_type": "display_data"
    },
    {
     "name": "stdout",
     "output_type": "stream",
     "text": [
      "\n"
     ]
    }
   ],
   "source": [
    "#you should only do this if you really want some randomized data it takes forever but not a lot of memory\n",
    "ids=df_true['event_no'].to_numpy()\n",
    "ids=[str(idd) for idd in ids]\n",
    "df_features=pd.read_sql(f'select * from features where event_no is {str(ids[0])}', conn)\n",
    "for i in tqdm(range(1,len(ids))):\n",
    "    df0=pd.read_sql(f'select * from features where event_no is {str(ids[i])}', conn)\n",
    "    df_features.append(df0, ignore_index=1)"
   ]
  },
  {
   "cell_type": "code",
   "execution_count": 7,
   "metadata": {
    "ExecuteTime": {
     "end_time": "2021-03-16T15:16:56.139303Z",
     "start_time": "2021-03-16T15:16:56.115367Z"
    }
   },
   "outputs": [],
   "source": [
    "id0=tuple(df_true['event_no'])\n",
    "df_features1=pd.read_sql(f'select * from features WHERE event_no IN {id0}', conn)"
   ]
  },
  {
   "cell_type": "code",
   "execution_count": 8,
   "metadata": {
    "ExecuteTime": {
     "end_time": "2021-03-16T15:16:59.236831Z",
     "start_time": "2021-03-16T15:16:59.232841Z"
    }
   },
   "outputs": [],
   "source": [
    "#if not random\n",
    "# df_features=pd.read_sql(f'select * from features where event_no<={stop}', conn)"
   ]
  },
  {
   "cell_type": "code",
   "execution_count": 9,
   "metadata": {
    "ExecuteTime": {
     "end_time": "2021-03-16T15:17:00.956106Z",
     "start_time": "2021-03-16T15:17:00.361854Z"
    }
   },
   "outputs": [
    {
     "data": {
      "image/png": "[encoded data removed]",
      "text/plain": [
       "<Figure size 720x576 with 1 Axes>"
      ]
     },
     "metadata": {
      "needs_background": "light"
     },
     "output_type": "display_data"
    }
   ],
   "source": [
    "#investigating particle types, pid is particle identification, - indicates antiparticle\n",
    "#12=electron neutrino, 13=muon, 14=muon neutrino, 16=tau neutrino\n",
    "pids=df_true['pid'].to_numpy()\n",
    "ptypes, counts = np.unique(pids, return_counts=True)\n",
    "fig, ax=plt.subplots(figsize=(10,8))\n",
    "ax.plot(ptypes, counts, 'bo')\n",
    "ax.set(yscale='log');\n",
    "#by far the largest part is pure muons."
   ]
  },
  {
   "cell_type": "code",
   "execution_count": 21,
   "metadata": {
    "ExecuteTime": {
     "end_time": "2021-03-17T13:19:33.361777Z",
     "start_time": "2021-03-17T13:19:31.527843Z"
    }
   },
   "outputs": [],
   "source": [
    "transformers = pd.read_pickle(\"../db_files/dev_level7_mu_e_tau_oscweight_000/data/meta/transformers.pkl\")\n",
    "trans_x      = transformers['features']\n",
    "trans_y      = transformers['truth']\n",
    "\n",
    "\n",
    "for col in transformers['features'].keys():\n",
    "    df_features[col] = trans_x[col].inverse_transform(np.array(df_features[col]).reshape(1, -1)).T\n",
    "\n",
    "for col in transformers['truth'].keys():\n",
    "    df_true[col] = trans_y[col].inverse_transform(np.array(df_true[col]).reshape(1, -1)).T"
   ]
  },
  {
   "cell_type": "markdown",
   "metadata": {},
   "source": [
    "Taking a look a the different distributions for truth and features\n",
    "\n",
    "1. truth \n",
    "2. features"
   ]
  },
  {
   "cell_type": "code",
   "execution_count": null,
   "metadata": {
    "ExecuteTime": {
     "end_time": "2021-03-16T15:16:17.257761Z",
     "start_time": "2021-03-16T15:16:16.492Z"
    },
    "scrolled": false
   },
   "outputs": [],
   "source": [
    "# note that so far we have worked on scaled stuff, not it's scaled to the real values!\n",
    "fig, ax=plt.subplots(ncols=3,nrows=4, figsize=(15,20))\n",
    "ax=ax.flatten()\n",
    "for i, col in enumerate(df_true.columns):\n",
    "    if i!=0 and i<=12:\n",
    "        ax[i-1].hist(df_true[col], label=col)\n",
    "        ax[i-1].set(title=col, xlabel=col, ylabel='N')\n",
    "        \n",
    "fig.tight_layout()"
   ]
  },
  {
   "cell_type": "code",
   "execution_count": null,
   "metadata": {
    "ExecuteTime": {
     "end_time": "2021-03-16T15:16:17.258727Z",
     "start_time": "2021-03-16T15:16:16.493Z"
    }
   },
   "outputs": [],
   "source": [
    "df_true.describe()"
   ]
  },
  {
   "cell_type": "code",
   "execution_count": null,
   "metadata": {
    "ExecuteTime": {
     "end_time": "2021-03-16T15:16:17.259724Z",
     "start_time": "2021-03-16T15:16:16.494Z"
    },
    "scrolled": false
   },
   "outputs": [],
   "source": [
    "# only select the good stuff\n",
    "in_feat=['dom', 'dom_x', 'dom_y', 'dom_z','time',\n",
    "       'charge_log10', 'lc', 'pulse_width', 'SplitInIcePulses',\n",
    "       'SRTInIcePulses']\n",
    "fig, ax=plt.subplots(ncols=5,nrows=2, figsize=(15,8))\n",
    "ax=ax.flatten()\n",
    "for i, col in enumerate(in_feat):\n",
    "    ax[i].hist(df_features[col], label=col, histtype='step')\n",
    "    ax[i].set(title=col, xlabel=col, ylabel='N', yscale='log')\n",
    "        \n",
    "fig.tight_layout()"
   ]
  },
  {
   "cell_type": "code",
   "execution_count": null,
   "metadata": {
    "ExecuteTime": {
     "end_time": "2021-03-16T15:16:17.260722Z",
     "start_time": "2021-03-16T15:16:16.496Z"
    }
   },
   "outputs": [],
   "source": [
    "df_features.describe()"
   ]
  },
  {
   "cell_type": "code",
   "execution_count": null,
   "metadata": {},
   "outputs": [],
   "source": []
  },
  {
   "cell_type": "markdown",
   "metadata": {},
   "source": [
    "## We can also take a look at some of the distributions Mads Ehrhorn had already made"
   ]
  },
  {
   "cell_type": "code",
   "execution_count": null,
   "metadata": {
    "ExecuteTime": {
     "end_time": "2021-03-16T15:16:17.262717Z",
     "start_time": "2021-03-16T15:16:16.498Z"
    }
   },
   "outputs": [],
   "source": [
    "distributions = pd.read_pickle(\"data/distributions.pkl\")"
   ]
  }
 ],
 "metadata": {
  "hide_input": false,
  "kernelspec": {
   "display_name": "Python 3",
   "language": "python",
   "name": "python3"
  },
  "language_info": {
   "codemirror_mode": {
    "name": "ipython",
    "version": 3
   },
   "file_extension": ".py",
   "mimetype": "text/x-python",
   "name": "python",
   "nbconvert_exporter": "python",
   "pygments_lexer": "ipython3",
   "version": "3.8.5"
  }
 },
 "nbformat": 4,
 "nbformat_minor": 4
}
