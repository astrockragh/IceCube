{
 "cells": [
  {
   "cell_type": "markdown",
   "metadata": {},
   "source": [
    "# Notebook to play around with visualization of graphs (airport data)\n",
    "\n",
    "https://analyticfreaks.com/networkx-import-manipulate-visualize-network-python/\n",
    "\n",
    "https://networkx.org/\n",
    "\n",
    "### First we are getting the airports (nodes)"
   ]
  },
  {
   "cell_type": "code",
   "execution_count": 5,
   "metadata": {
    "ExecuteTime": {
     "end_time": "2021-02-03T10:55:16.617079Z",
     "start_time": "2021-02-03T10:55:16.421344Z"
    }
   },
   "outputs": [],
   "source": [
    "import urllib.request\n",
    "\n",
    "url = \"https://raw.githubusercontent.com/jpatokal/openflights/master/data/airports.dat\"\n",
    "response = urllib.request.urlopen(url)\n",
    "data = response.read()"
   ]
  },
  {
   "cell_type": "code",
   "execution_count": 8,
   "metadata": {
    "ExecuteTime": {
     "end_time": "2021-02-03T10:55:34.767642Z",
     "start_time": "2021-02-03T10:55:34.761624Z"
    }
   },
   "outputs": [],
   "source": [
    "file = open(\"../data/airports_db.dat\", \"wb\")\n",
    "file.write(data)\n",
    "file.close()"
   ]
  },
  {
   "cell_type": "code",
   "execution_count": 9,
   "metadata": {
    "ExecuteTime": {
     "end_time": "2021-02-03T10:55:35.258081Z",
     "start_time": "2021-02-03T10:55:35.192257Z"
    }
   },
   "outputs": [
    {
     "name": "stdout",
     "output_type": "stream",
     "text": [
      "Total Airport Imported :  7345 # of Errors :  353\n"
     ]
    }
   ],
   "source": [
    "import csv\n",
    "\n",
    "f = open(\"../data/airports_db.dat\", encoding = \"utf8\")\n",
    "airport_db = [] #main arrar for airport\n",
    "errors = 0\n",
    "for airport in csv.reader(f, delimiter = ','):\n",
    "    current_record = []\n",
    "    try:\n",
    "        #each slots containing information about an airport\n",
    "        current_record.append(int(airport[0])) #airport ID\n",
    "        current_record.append(airport[1]) \n",
    "        current_record.append(airport[2])\n",
    "        current_record.append(airport[3])\n",
    "        current_record.append(airport[4])\n",
    "        current_record.append(airport[5])\n",
    "        current_record.append(float(airport[6]))\n",
    "        current_record.append(float(airport[7]))\n",
    "        current_record.append(float(airport[8]))\n",
    "        current_record.append(float(airport[9]))\n",
    "        current_record.append(airport[10])\n",
    "        current_record.append(airport[11])\n",
    "        current_record.append(airport[12])\n",
    "        current_record.append(airport[13])\n",
    "    except : \n",
    "        errors += 1\n",
    "    else:\n",
    "        airport_db.append(current_record)\n",
    "print(\"Total Airport Imported : \", len(airport_db), \"# of Errors : \", errors)"
   ]
  },
  {
   "cell_type": "markdown",
   "metadata": {},
   "source": [
    "### Now we are getting the edges (routes flown)"
   ]
  },
  {
   "cell_type": "code",
   "execution_count": 11,
   "metadata": {
    "ExecuteTime": {
     "end_time": "2021-02-03T10:57:28.654661Z",
     "start_time": "2021-02-03T10:57:28.366285Z"
    }
   },
   "outputs": [],
   "source": [
    "url = \"https://raw.githubusercontent.com/jpatokal/openflights/master/data/routes.dat\"\n",
    "response= \"\"\n",
    "data = \"\"\n",
    "response = urllib.request.urlopen(url)\n",
    "data = response.read()\n",
    "\n",
    "file = open(\"../data/routes_db.dat\", \"wb\")\n",
    "file.write(data)\n",
    "file.close()"
   ]
  },
  {
   "cell_type": "code",
   "execution_count": 12,
   "metadata": {
    "ExecuteTime": {
     "end_time": "2021-02-03T10:57:28.897015Z",
     "start_time": "2021-02-03T10:57:28.656656Z"
    }
   },
   "outputs": [
    {
     "name": "stdout",
     "output_type": "stream",
     "text": [
      "Total Routes Imported :  66765 # of Errors :  898\n"
     ]
    }
   ],
   "source": [
    "f = open(\"../data/routes_db.dat\", encoding = \"utf8\")\n",
    "route_db = []\n",
    "errors = 0\n",
    "for route in csv.reader(f, delimiter = ','):\n",
    "    current_record = []\n",
    "    try:\n",
    "        current_record.append(route[0]) \n",
    "        current_record.append(int(route[1]))\n",
    "        current_record.append(int(route[3]))\n",
    "        current_record.append(int(route[5]))\n",
    "        current_record.append(int(route[7]))\n",
    "        current_record.append(route[8])\n",
    "  \n",
    "    except : \n",
    "        errors += 1\n",
    "    else:\n",
    "        route_db.append(current_record)\n",
    "print(\"Total Routes Imported : \", len(route_db), \"# of Errors : \", errors)"
   ]
  },
  {
   "cell_type": "code",
   "execution_count": 18,
   "metadata": {
    "ExecuteTime": {
     "end_time": "2021-02-03T11:04:40.253732Z",
     "start_time": "2021-02-03T11:04:40.232821Z"
    }
   },
   "outputs": [
    {
     "data": {
      "text/plain": [
       "['2B', 410, 2965, 2990, 0, 'CR2']"
      ]
     },
     "execution_count": 18,
     "metadata": {},
     "output_type": "execute_result"
    }
   ],
   "source": [
    "route_db[0]"
   ]
  },
  {
   "cell_type": "markdown",
   "metadata": {},
   "source": [
    "## Now let's do the network itself"
   ]
  },
  {
   "cell_type": "code",
   "execution_count": 14,
   "metadata": {
    "ExecuteTime": {
     "end_time": "2021-02-03T10:59:59.189002Z",
     "start_time": "2021-02-03T10:59:57.703901Z"
    }
   },
   "outputs": [],
   "source": [
    "import networkx as nx"
   ]
  },
  {
   "cell_type": "code",
   "execution_count": 16,
   "metadata": {
    "ExecuteTime": {
     "end_time": "2021-02-03T11:00:31.618040Z",
     "start_time": "2021-02-03T11:00:31.612061Z"
    }
   },
   "outputs": [],
   "source": [
    "network=nx.Graph() # empty network"
   ]
  },
  {
   "cell_type": "code",
   "execution_count": 17,
   "metadata": {
    "ExecuteTime": {
     "end_time": "2021-02-03T11:03:53.821099Z",
     "start_time": "2021-02-03T11:03:53.803146Z"
    }
   },
   "outputs": [],
   "source": [
    "for airport in airport_db:\n",
    "    network.add_node(airport[0], id=airport[0])"
   ]
  }
 ],
 "metadata": {
  "hide_input": false,
  "kernelspec": {
   "display_name": "Python 3",
   "language": "python",
   "name": "python3"
  },
  "language_info": {
   "codemirror_mode": {
    "name": "ipython",
    "version": 3
   },
   "file_extension": ".py",
   "mimetype": "text/x-python",
   "name": "python",
   "nbconvert_exporter": "python",
   "pygments_lexer": "ipython3",
   "version": "3.8.5"
  }
 },
 "nbformat": 4,
 "nbformat_minor": 4
}
