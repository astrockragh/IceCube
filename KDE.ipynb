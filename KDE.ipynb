{
 "cells": [
  {
   "cell_type": "code",
   "execution_count": 1,
   "metadata": {
    "ExecuteTime": {
     "end_time": "2021-05-06T10:04:20.731237Z",
     "start_time": "2021-05-06T10:04:07.272819Z"
    }
   },
   "outputs": [
    {
     "name": "stdout",
     "output_type": "stream",
     "text": [
      "Notebook\n",
      "GPU detected\n",
      "Not notebook\n"
     ]
    }
   ],
   "source": [
    "import os, sys, argparse, importlib, time, inspect\n",
    "import numpy as np\n",
    "import matplotlib.pyplot as plt\n",
    "import os.path as osp\n",
    "if hasattr(__builtins__,'__IPYTHON__'):\n",
    "    print('Notebook')\n",
    "    from tqdm.notebook import tqdm\n",
    "else:\n",
    "    print('Not notebook')\n",
    "    from tqdm import tqdm\n",
    "from tensorflow.keras import backend as K\n",
    "os.environ['TF_CPP_MIN_LOG_LEVEL'] = '2' \n",
    "import tensorflow as tf\n",
    "import tensorflow_probability as tfp\n",
    "\n",
    "gpu_devices = tf.config.list_physical_devices('GPU') \n",
    "if len(gpu_devices) > 0:\n",
    "    print(\"GPU detected\")\n",
    "    tf.config.experimental.set_memory_growth(gpu_devices[0], True)\n",
    "else:\n",
    "    print('No GPU detected')\n",
    "\n",
    "from tensorflow.keras.optimizers import Adam\n",
    "from tensorflow.keras.losses import MeanSquaredError\n",
    "from tensorflow.keras.models import load_model, Model\n",
    "import spektral\n",
    "from sklearn.preprocessing import normalize\n",
    "from spektral.data import DisjointLoader, BatchLoader, SingleLoader\n",
    "from importlib import reload\n",
    "import winsound\n",
    "import dill\n",
    "import datetime as dt\n",
    "import from_config.dev.data_load as dl\n",
    "import wandb\n",
    "graph_data=dl.graph_data"
   ]
  },
  {
   "cell_type": "code",
   "execution_count": 2,
   "metadata": {
    "ExecuteTime": {
     "end_time": "2021-05-06T10:09:30.999290Z",
     "start_time": "2021-05-06T10:04:30.148703Z"
    }
   },
   "outputs": [
    {
     "name": "stdout",
     "output_type": "stream",
     "text": [
      "WARNING:tensorflow:No training configuration found in save file, so the model was *not* compiled. Compile it manually.\n",
      "Connecting to db-file\n",
      "Loading Muons\n",
      "Reading files\n"
     ]
    },
    {
     "name": "stderr",
     "output_type": "stream",
     "text": [
      "C:\\Users\\chris\\anaconda3\\lib\\site-packages\\sklearn\\utils\\deprecation.py:143: FutureWarning: The sklearn.preprocessing.data module is  deprecated in version 0.22 and will be removed in version 0.24. The corresponding classes / functions should instead be imported from sklearn.preprocessing. Anything that cannot be imported from sklearn.preprocessing is now part of the private API.\n",
      "  warnings.warn(message, FutureWarning)\n",
      "C:\\Users\\chris\\anaconda3\\lib\\site-packages\\sklearn\\base.py:329: UserWarning: Trying to unpickle estimator RobustScaler from version 0.19.1 when using version 0.23.2. This might lead to breaking code or invalid results. Use at your own risk.\n",
      "  warnings.warn(\n"
     ]
    },
    {
     "name": "stdout",
     "output_type": "stream",
     "text": [
      "Splitting data to events\n"
     ]
    },
    {
     "name": "stderr",
     "output_type": "stream",
     "text": [
      "  0%|                                                                           | 119/100000 [00:00<01:24, 1178.74it/s]"
     ]
    },
    {
     "name": "stdout",
     "output_type": "stream",
     "text": [
      "     dom_x    dom_y    dom_z      time  charge_log10  SRTInIcePulses\n",
      "0  0.11439 -0.46199 -0.14812  1.622453     -0.621035               0\n",
      "1  0.13203  0.20298  0.12828 -0.060393     -1.921554               1\n",
      "2  0.13203  0.20298  0.11126 -0.000741     -1.656923               1\n",
      "3  0.38235  0.23890 -0.38653 -0.212301     -0.280277               0\n",
      "4  0.50527  0.25788 -0.37884 -1.727306      0.162615               0\n",
      "   energy_log10    zenith   azimuth\n",
      "0      2.437721  0.661937  1.697274\n",
      "1      2.584876  0.205041  4.291144\n",
      "2      2.476674  0.661661  1.374715\n",
      "3      2.409273  0.390813  2.876407\n",
      "4      2.356129  0.889406  2.381056\n",
      "Generating adjacency matrices\n"
     ]
    },
    {
     "name": "stderr",
     "output_type": "stream",
     "text": [
      "100%|████████████████████████████████████████████████████████████████████████| 100000/100000 [01:17<00:00, 1292.32it/s]\n"
     ]
    },
    {
     "name": "stdout",
     "output_type": "stream",
     "text": [
      "Saving dataset\n",
      "Removed and ready to reload\n",
      "Connecting to db-file\n",
      "Loading Muons\n",
      "Reading files\n"
     ]
    },
    {
     "name": "stderr",
     "output_type": "stream",
     "text": [
      "C:\\Users\\chris\\anaconda3\\lib\\site-packages\\sklearn\\base.py:329: UserWarning: Trying to unpickle estimator RobustScaler from version 0.19.1 when using version 0.23.2. This might lead to breaking code or invalid results. Use at your own risk.\n",
      "  warnings.warn(\n"
     ]
    },
    {
     "name": "stdout",
     "output_type": "stream",
     "text": [
      "Splitting data to events\n"
     ]
    },
    {
     "name": "stderr",
     "output_type": "stream",
     "text": [
      "  0%|▏                                                                          | 253/100000 [00:00<01:18, 1278.50it/s]"
     ]
    },
    {
     "name": "stdout",
     "output_type": "stream",
     "text": [
      "     dom_x    dom_y    dom_z      time  charge_log10  SRTInIcePulses\n",
      "0  0.11439 -0.46199 -0.14812  1.622453     -0.621035               0\n",
      "1  0.13203  0.20298  0.12828 -0.060393     -1.921554               1\n",
      "2  0.13203  0.20298  0.11126 -0.000741     -1.656923               1\n",
      "3  0.38235  0.23890 -0.38653 -0.212301     -0.280277               0\n",
      "4  0.50527  0.25788 -0.37884 -1.727306      0.162615               0\n",
      "   energy_log10    zenith   azimuth\n",
      "0      2.437721  0.661937  1.697274\n",
      "1      2.584876  0.205041  4.291144\n",
      "2      2.476674  0.661661  1.374715\n",
      "3      2.409273  0.390813  2.876407\n",
      "4      2.356129  0.889406  2.381056\n",
      "Generating adjacency matrices\n"
     ]
    },
    {
     "name": "stderr",
     "output_type": "stream",
     "text": [
      "100%|████████████████████████████████████████████████████████████████████████| 100000/100000 [01:22<00:00, 1213.13it/s]\n"
     ]
    },
    {
     "name": "stdout",
     "output_type": "stream",
     "text": [
      "Saving dataset\n",
      "Loading data to memory\n"
     ]
    }
   ],
   "source": [
    "# with tf.device('/cpu:0'): # if on the cpu\n",
    "batch_size=512\n",
    "dataset=graph_data(n_data=100000,         transform_path='db_files/muongun/transformers.pkl',\\\n",
    "             db_path= 'db_files/muongun/rasmus_classification_muon_3neutrino_3mio.db', n_neighbors=10, skip=int(1.4e6-1), restart=1)\n",
    "loader = DisjointLoader(dataset, batch_size=batch_size, epochs=1)"
   ]
  },
  {
   "cell_type": "code",
   "execution_count": 2,
   "metadata": {
    "ExecuteTime": {
     "end_time": "2021-05-07T14:02:57.947545Z",
     "start_time": "2021-05-07T14:02:57.901669Z"
    },
    "code_folding": [
     134,
     186
    ]
   },
   "outputs": [
    {
     "name": "stdout",
     "output_type": "stream",
     "text": [
      "loading model\n"
     ]
    }
   ],
   "source": [
    "\n",
    "\n",
    "from spektral.layers import GraphSageConv, MessagePassing\n",
    "from spektral.layers.pooling.global_pool import GlobalMaxPool, GlobalAvgPool, GlobalSumPool\n",
    "\n",
    "from tensorflow.keras import Model, Input, Sequential\n",
    "from tensorflow.keras.layers import Dense, LeakyReLU, BatchNormalization, Dropout, multiply\n",
    "from tensorflow.keras.activations import tanh, sigmoid\n",
    "from tensorflow.sparse import SparseTensor\n",
    "\n",
    "eps=1e-5\n",
    "\n",
    "print('loading model')\n",
    "\n",
    "d_act=LeakyReLU(alpha=0.15)\n",
    "\n",
    "def no_norm(x, training):\n",
    "  return x\n",
    "\n",
    "class KHist(Model):\n",
    "    def __init__(self,hist, n_out = 3, n_sigs=2, K=[1,2], agg_method='min', hidden_states=40, glob=True, conv_layers=2, conv_activation='relu', decode_layers=2, decode_activation=1, regularization=None, dropout=0.2, batch_norm=True, forward=True):\n",
    "        super().__init__()\n",
    "        self.hist=hist\n",
    "        self.n_out=n_out\n",
    "        self.n_sigs=n_sigs\n",
    "        self.hidden_states=hidden_states\n",
    "        self.conv_activation=conv_activation\n",
    "        self.forward=forward\n",
    "        self.dropout=dropout\n",
    "        self.glob=glob\n",
    "        self.Ks=K\n",
    "        self.agg_method=agg_method\n",
    "        self.conv_layers=conv_layers\n",
    "        self.regularize=regularization\n",
    "        if type(decode_activation)==str:\n",
    "          self.decode_activation=tf.keras.activations.get(decode_activation)\n",
    "        else:\n",
    "          self.decode_activation=d_act\n",
    "        self.batch_norm=batch_norm\n",
    "        # Define layers of the model\n",
    "\n",
    "        self.MPs      = [SGConv(hidden_states, hidden_states, K=K, agg_method=self.agg_method, dropout = dropout) for K in self.Ks]\n",
    "\n",
    "        self.GCNs    = [GraphSageConv(hidden_states*int(i), activation=self.conv_activation, kernel_regularizer=self.regularize) for i in 2*2**np.arange(self.conv_layers)]\n",
    "\n",
    "        self.Pool1   = GlobalMaxPool()\n",
    "        self.Pool2   = GlobalAvgPool()\n",
    "        self.Pool3   = GlobalSumPool()\n",
    "\n",
    "        self.decode  = [Dense(i * hidden_states) for i in  2*2**np.arange(decode_layers+1,1,-1)]\n",
    "        self.dropout_layers  = [Dropout(dropout) for i in range(len(self.decode))]\n",
    "        if self.batch_norm:\n",
    "          self.norm_layers  = [BatchNormalization() for i in range(len(self.decode))]\n",
    "        else:\n",
    "          self.norm_layers =  [no_norm for i in range(len(self.decode))]\n",
    "        \n",
    "        self.loge     = [Dense(hidden_states) for _ in range(2)]\n",
    "        self.loge_out = Dense(1)\n",
    "        self.angles     = [Dense(hidden_states) for _ in range(2)]\n",
    "        self.angles_out = Dense(2)\n",
    "        self.angle_scale= Dense(2)\n",
    "        if n_sigs > 0:\n",
    "          self.sigs      = [Dense(hidden_states) for i in range(2)]\n",
    "          self.sigs_out  = Dense(n_sigs)\n",
    "\n",
    "    def call(self, inputs, training = False):\n",
    "        x, a, i = inputs\n",
    "        glob_avg=tf.math.segment_mean(x,i)\n",
    "        glob_var=abs(tf.math.subtract(tf.math.segment_mean(multiply([x,x]),i),multiply([glob_avg, glob_avg])))\n",
    "        glob_max=tf.math.segment_max(x,i)\n",
    "        glob_min=tf.math.segment_min(x,i)\n",
    "        xglob=tf.concat([glob_avg, glob_var, glob_max, glob_min], axis=1)\n",
    "        a, e    = self.generate_edge_features(x, a)\n",
    "        for MP in self.MPs:\n",
    "          x = MP([x, a, e])\n",
    "        for conv in self.GCNs:\n",
    "          x=conv([x,a])\n",
    "        x1 = self.Pool1([x, i])\n",
    "        x2 = self.Pool2([x, i])\n",
    "        x3 = self.Pool3([x, i])\n",
    "        x = tf.concat([x1, x2, x3], axis = 1)\n",
    "        x=tf.concat([x, xglob], axis=1)\n",
    "        for decode_layer, dropout_layer, norm_layer in zip(self.decode, self.dropout_layers, self.norm_layers):\n",
    "          x = dropout_layer(x, training = training)\n",
    "          x = self.decode_activation(decode_layer(x))\n",
    "          x = norm_layer(x, training = training)\n",
    "                \n",
    "        x_loge = self.loge[0](x)\n",
    "        x_loge = self.loge[1](x_loge)\n",
    "        x_loge = self.loge_out(x_loge)\n",
    "\n",
    "        x_angles = self.angles[0](x)\n",
    "        x_angles = self.angles[1](x_angles)\n",
    "        x_angles = self.angles_out(x_angles)\n",
    "        zeniazi=sigmoid(self.angle_scale(x_angles))\n",
    "\n",
    "        if self.n_sigs > 0:\n",
    "          x_sigs  = self.sigs[0](x)\n",
    "          x_sigs  = self.sigs[1](x_sigs)\n",
    "          x_sigs  = tf.abs(self.sigs_out(x_sigs)) + eps\n",
    "        #could add correlation here \n",
    "        xs=tf.stack([x_loge[:,0], zeniazi[:,0]*np.pi, zeniazi[:,1]*2*np.pi], axis = 1)\n",
    "        if self.n_sigs > 0:\n",
    "          return tf.concat([xs, x_sigs], axis=1)\n",
    "        else:\n",
    "          return xs\n",
    "\n",
    "\n",
    "    def generate_edge_features(self, x, a):\n",
    "      send    = a.indices[:, 0]\n",
    "      receive = a.indices[:, 1]\n",
    "      \n",
    "      if self.forward == True:\n",
    "        forwards  = tf.gather(x[:, 3], send) <= tf.gather(x[:, 3], receive)\n",
    "\n",
    "        send    = tf.cast(send[forwards], tf.int64)\n",
    "        receive = tf.cast(receive[forwards], tf.int64)\n",
    "\n",
    "        a       = SparseTensor(indices = tf.stack([send, receive], axis = 1), values = tf.ones(tf.shape(send), dtype = tf.float32), dense_shape = tf.cast(tf.shape(a), tf.int64))\n",
    "\n",
    "      diff_x  = tf.subtract(tf.gather(x, receive), tf.gather(x, send))\n",
    "\n",
    "      dists   = tf.sqrt(\n",
    "        tf.reduce_sum(\n",
    "          tf.square(\n",
    "            diff_x[:, :3]\n",
    "          ), axis = 1\n",
    "        ))\n",
    "\n",
    "      vects = tf.math.divide_no_nan(diff_x[:, :3], tf.expand_dims(dists, axis = -1))\n",
    "\n",
    "      e = tf.concat([diff_x[:, 3:], tf.expand_dims(dists, -1), vects], axis = 1)\n",
    "\n",
    "      return a, e\n",
    "\n",
    "class SGConv(MessagePassing):\n",
    "    # note that the D^-1/2 norm is not implemented since it is irrelevant for us \n",
    "    def __init__(self, n_out, hidden_states, K=2, agg_method='sum', dropout = 0):\n",
    "\n",
    "        \"\"\"Agg_method supports \"sum\": scatter_sum,\n",
    "          \"mean\": scatter_mean,\n",
    "          \"max\": scatter_max,\n",
    "          \"min\": scatter_min,\n",
    "          \"prod\": scatter_prod\"\"\"\n",
    "        super().__init__()\n",
    "        self.n_out = n_out\n",
    "        self.agg_method=agg_method\n",
    "        self.K=K\n",
    "        self.hidden_states = hidden_states\n",
    "        self.message_mlps = [MLP(hidden_states, hidden = hidden_states * 2, layers = 2, dropout = dropout) for _ in range(self.K)]\n",
    "        self.update_mlp  = MLP(hidden_states, hidden = hidden_states, layers = 2, dropout = dropout)\n",
    "\n",
    "\n",
    "    ##inverted structure since tf requires output func to be propagate\n",
    "    def prop_khop(self, x, a, k, e=None, training = False, **kwargs):\n",
    "        self.n_nodes = tf.shape(x)[0]\n",
    "        self.index_i = a.indices[:, 1]\n",
    "        self.index_j = a.indices[:, 0]\n",
    "\n",
    "        # Message\n",
    "        # print(x, a, e)\n",
    "        # msg_kwargs = self.get_kwargs(x, a, e, self.msg_signature, kwargs)\n",
    "        messages = self.message(x, a, k, e, training = training)\n",
    "\n",
    "        # Aggregate\n",
    "        # agg_kwargs = self.get_kwargs(x, a, e, self.agg_signature, kwargs)\n",
    "\n",
    "        ##  make own aggregate\n",
    "        embeddings = self.aggregate(messages, training = training)\n",
    "\n",
    "        return embeddings\n",
    "\n",
    "    def propagate(self, x, a, e, training=False):\n",
    "        for hop in range(self.K):\n",
    "          x=self.prop_khop(x,a, hop, e, training = training)\n",
    "        return self.update(x, training = training)\n",
    "\n",
    "    def message(self, x, a, k, e, training = False):\n",
    "        # print([self.get_i(x), self.get_j(x), e])\n",
    "        out = tf.concat([self.get_i(x), self.get_j(x), e], axis = 1)\n",
    "        out = self.message_mlps[k](out, training = training)\n",
    "        return out\n",
    "    \n",
    "    def update(self, embeddings, training = False):\n",
    "        out = self.update_mlp(embeddings, training = training)\n",
    "        return out\n",
    "    \n",
    "class MLP(Model):\n",
    "    def __init__(self, output, hidden=256, layers=2, batch_norm=True,\n",
    "                 dropout=0.0, activation='relu', final_activation=None):\n",
    "        super().__init__()\n",
    "        self.batch_norm = batch_norm\n",
    "        self.dropout_rate = dropout\n",
    "\n",
    "        self.mlp = Sequential()\n",
    "        for i in range(layers):\n",
    "            # Linear\n",
    "            self.mlp.add(Dense(hidden if i < layers - 1 else output, activation = activation))\n",
    "            if dropout > 0:\n",
    "                self.mlp.add(Dropout(dropout))\n",
    "\n",
    "\n",
    "    def call(self, inputs, training = False):\n",
    "        return self.mlp(inputs, training = training)"
   ]
  },
  {
   "cell_type": "code",
   "execution_count": 3,
   "metadata": {
    "ExecuteTime": {
     "end_time": "2021-05-07T14:03:13.126125Z",
     "start_time": "2021-05-07T14:03:11.684729Z"
    }
   },
   "outputs": [],
   "source": [
    "model=KHist(hist=1)"
   ]
  },
  {
   "cell_type": "code",
   "execution_count": 4,
   "metadata": {
    "ExecuteTime": {
     "end_time": "2021-05-07T14:03:22.349859Z",
     "start_time": "2021-05-07T14:03:21.484055Z"
    }
   },
   "outputs": [
    {
     "ename": "NameError",
     "evalue": "name 'loader' is not defined",
     "output_type": "error",
     "traceback": [
      "\u001b[1;31m---------------------------------------------------------------------------\u001b[0m",
      "\u001b[1;31mNameError\u001b[0m                                 Traceback (most recent call last)",
      "\u001b[1;32m<ipython-input-4-4b1131a90f4b>\u001b[0m in \u001b[0;36m<module>\u001b[1;34m\u001b[0m\n\u001b[1;32m----> 1\u001b[1;33m \u001b[1;33m@\u001b[0m\u001b[0mtf\u001b[0m\u001b[1;33m.\u001b[0m\u001b[0mfunction\u001b[0m\u001b[1;33m(\u001b[0m\u001b[0minput_signature\u001b[0m \u001b[1;33m=\u001b[0m \u001b[0mloader\u001b[0m\u001b[1;33m.\u001b[0m\u001b[0mtf_signature\u001b[0m\u001b[1;33m(\u001b[0m\u001b[1;33m)\u001b[0m\u001b[1;33m,\u001b[0m \u001b[0mexperimental_relax_shapes\u001b[0m \u001b[1;33m=\u001b[0m \u001b[1;32mTrue\u001b[0m\u001b[1;33m)\u001b[0m\u001b[1;33m\u001b[0m\u001b[1;33m\u001b[0m\u001b[0m\n\u001b[0m\u001b[0;32m      2\u001b[0m \u001b[1;32mdef\u001b[0m \u001b[0mtest_step\u001b[0m\u001b[1;33m(\u001b[0m\u001b[0minputs\u001b[0m\u001b[1;33m,\u001b[0m \u001b[0mtargets\u001b[0m\u001b[1;33m)\u001b[0m\u001b[1;33m:\u001b[0m\u001b[1;33m\u001b[0m\u001b[1;33m\u001b[0m\u001b[0m\n\u001b[0;32m      3\u001b[0m     \u001b[0mpredictions\u001b[0m \u001b[1;33m=\u001b[0m \u001b[0mmodel\u001b[0m\u001b[1;33m(\u001b[0m\u001b[0minputs\u001b[0m\u001b[1;33m,\u001b[0m \u001b[0mtraining\u001b[0m \u001b[1;33m=\u001b[0m \u001b[1;32mFalse\u001b[0m\u001b[1;33m)\u001b[0m\u001b[1;33m\u001b[0m\u001b[1;33m\u001b[0m\u001b[0m\n\u001b[0;32m      4\u001b[0m     \u001b[0mtargets\u001b[0m     \u001b[1;33m=\u001b[0m \u001b[0mtf\u001b[0m\u001b[1;33m.\u001b[0m\u001b[0mcast\u001b[0m\u001b[1;33m(\u001b[0m\u001b[0mtargets\u001b[0m\u001b[1;33m,\u001b[0m \u001b[0mtf\u001b[0m\u001b[1;33m.\u001b[0m\u001b[0mfloat32\u001b[0m\u001b[1;33m)\u001b[0m\u001b[1;33m\u001b[0m\u001b[1;33m\u001b[0m\u001b[0m\n\u001b[0;32m      5\u001b[0m \u001b[1;33m\u001b[0m\u001b[0m\n",
      "\u001b[1;31mNameError\u001b[0m: name 'loader' is not defined"
     ]
    }
   ],
   "source": [
    "@tf.function(input_signature = loader.tf_signature(), experimental_relax_shapes = True)\n",
    "def test_step(inputs, targets):\n",
    "    predictions = model(inputs, training = False)\n",
    "    targets     = tf.cast(targets, tf.float32) \n",
    "\n",
    "    return predictions, targets\n",
    "\n",
    "def predict(loader):\n",
    "    prediction_list, target_list = [], []\n",
    "    for batch in loader:\n",
    "        inputs, targets = batch\n",
    "        predictions, targets = test_step(inputs, targets)\n",
    "\n",
    "        prediction_list.append(predictions.numpy())\n",
    "        target_list.append(targets.numpy())\n",
    "        y_reco  = tf.concat(prediction_list, axis = 0).numpy()\n",
    "        y_true  = tf.concat(target_list, axis = 0)\n",
    "        y_true  = tf.cast(y_true, tf.float32).numpy()\n",
    "    return y_reco, y_true"
   ]
  },
  {
   "cell_type": "code",
   "execution_count": null,
   "metadata": {},
   "outputs": [],
   "source": [
    "# def predictTF(loader):\n",
    "#     prediction_list, target_list = [], []\n",
    "#     for batch in loader:\n",
    "#         inputs, targets = batch\n",
    "#         predictions, targets = test_step(inputs, targets)\n",
    "\n",
    "#         prediction_list.append(predictions.numpy())\n",
    "#         target_list.append(targets.numpy())\n",
    "#         y_reco  = tf.concat(prediction_list, axis = 0).numpy()\n",
    "#         y_true  = tf.concat(target_list, axis = 0)\n",
    "#         y_true  = tf.cast(y_true, tf.float32).numpy()\n",
    "#     return y_reco, y_true"
   ]
  },
  {
   "cell_type": "code",
   "execution_count": 4,
   "metadata": {
    "ExecuteTime": {
     "end_time": "2021-05-06T10:12:49.294653Z",
     "start_time": "2021-05-06T10:09:31.184492Z"
    }
   },
   "outputs": [],
   "source": [
    "reco, true=predict(loader)"
   ]
  },
  {
   "cell_type": "code",
   "execution_count": 5,
   "metadata": {
    "ExecuteTime": {
     "end_time": "2021-05-06T10:17:10.227403Z",
     "start_time": "2021-05-06T10:17:10.213441Z"
    }
   },
   "outputs": [],
   "source": [
    "from sklearn.neighbors import KernelDensity"
   ]
  },
  {
   "cell_type": "code",
   "execution_count": 26,
   "metadata": {
    "ExecuteTime": {
     "end_time": "2021-05-06T10:28:24.462238Z",
     "start_time": "2021-05-06T10:28:23.756703Z"
    }
   },
   "outputs": [
    {
     "data": {
      "text/plain": [
       "[<matplotlib.lines.Line2D at 0x20e7ff5d940>]"
      ]
     },
     "execution_count": 26,
     "metadata": {},
     "output_type": "execute_result"
    },
    {
     "data": {
      "image/png": "[encoded data removed]",
      "text/plain": [
       "<Figure size 432x288 with 1 Axes>"
      ]
     },
     "metadata": {
      "needs_background": "light"
     },
     "output_type": "display_data"
    }
   ],
   "source": [
    "k=1\n",
    "X=np.array(true[:,1]).reshape(-1,1)\n",
    "Xr=np.array(reco[:,1]).reshape(-1,1)\n",
    "kde=KernelDensity(kernel='gaussian', bandwidth=0.05).fit(X)\n",
    "vals, bins, _=plt.hist(X, bins=40, density=1, alpha=0.4)\n",
    "_, _, _=plt.hist(Xr, bins=40, density=1, alpha=0.4)\n",
    "score=np.exp(kde.score_samples(bins.reshape(-1,1)))\n",
    "plt.plot(bins, score)"
   ]
  },
  {
   "cell_type": "code",
   "execution_count": 18,
   "metadata": {
    "ExecuteTime": {
     "end_time": "2021-05-06T10:26:46.481272Z",
     "start_time": "2021-05-06T10:26:46.162312Z"
    }
   },
   "outputs": [],
   "source": [
    "score=np.exp(kde.score_samples(bins.reshape(-1,1)))"
   ]
  },
  {
   "cell_type": "code",
   "execution_count": 17,
   "metadata": {
    "ExecuteTime": {
     "end_time": "2021-05-06T10:25:53.017293Z",
     "start_time": "2021-05-06T10:25:53.005325Z"
    }
   },
   "outputs": [
    {
     "data": {
      "text/plain": [
       "array([1.7130042, 1.7701238, 1.8272434, 1.884363 , 1.9414827, 1.9986023,\n",
       "       2.0557218, 2.1128414, 2.169961 , 2.2270806, 2.2842002, 2.3413198,\n",
       "       2.3984394, 2.455559 , 2.5126786, 2.5697982, 2.6269178, 2.6840374,\n",
       "       2.741157 , 2.7982767, 2.8553963, 2.9125159, 2.9696355, 3.026755 ,\n",
       "       3.0838747, 3.1409943, 3.198114 , 3.2552333, 3.312353 , 3.3694725,\n",
       "       3.426592 , 3.4837117, 3.5408313, 3.597951 , 3.6550705, 3.7121902,\n",
       "       3.7693098, 3.8264294, 3.883549 , 3.9406686, 3.9977882],\n",
       "      dtype=float32)"
      ]
     },
     "execution_count": 17,
     "metadata": {},
     "output_type": "execute_result"
    }
   ],
   "source": [
    "bins"
   ]
  },
  {
   "cell_type": "code",
   "execution_count": 90,
   "metadata": {
    "ExecuteTime": {
     "end_time": "2021-05-06T11:41:17.066600Z",
     "start_time": "2021-05-06T11:41:17.043659Z"
    }
   },
   "outputs": [],
   "source": [
    "def loss_dist(reco, true):\n",
    "    xs=np.linspace(0,np.pi/2,100)\n",
    "    yr = kdp.FFTKDE(kernel=\"gaussian\", bw=\"silverman\").fit(reco[:,1]).evaluate(xs)\n",
    "    yt = kdp.FFTKDE(kernel=\"gaussian\", bw=\"silverman\").fit(true[:,1]).evaluate(xs)\n",
    "    return np.trapz((yr-yt)**2/np.std(yr-yt)**2, xs)"
   ]
  },
  {
   "cell_type": "code",
   "execution_count": 91,
   "metadata": {
    "ExecuteTime": {
     "end_time": "2021-05-06T11:41:28.578017Z",
     "start_time": "2021-05-06T11:41:28.455264Z"
    }
   },
   "outputs": [
    {
     "data": {
      "text/plain": [
       "1.5856983291402553"
      ]
     },
     "execution_count": 91,
     "metadata": {},
     "output_type": "execute_result"
    }
   ],
   "source": [
    "loss_dist(reco, true)"
   ]
  },
  {
   "cell_type": "code",
   "execution_count": 150,
   "metadata": {
    "ExecuteTime": {
     "end_time": "2021-05-06T12:59:47.879896Z",
     "start_time": "2021-05-06T12:59:47.870920Z"
    }
   },
   "outputs": [],
   "source": [
    "# loss_dist(predictions, targets)"
   ]
  },
  {
   "cell_type": "code",
   "execution_count": 148,
   "metadata": {
    "ExecuteTime": {
     "end_time": "2021-05-06T12:59:41.613548Z",
     "start_time": "2021-05-06T12:59:41.600583Z"
    }
   },
   "outputs": [],
   "source": [
    "# for batch in next(loader:\n",
    "#         inputs, targets = batch\n",
    "#         predictions, targets = test_step(inputs, targets)\n"
   ]
  },
  {
   "cell_type": "code",
   "execution_count": 149,
   "metadata": {
    "ExecuteTime": {
     "end_time": "2021-05-06T12:59:45.647913Z",
     "start_time": "2021-05-06T12:59:43.545723Z"
    }
   },
   "outputs": [],
   "source": [
    "inputs, targets = next(loader)\n",
    "predictions, targets = test_step(inputs, targets)"
   ]
  },
  {
   "cell_type": "code",
   "execution_count": 120,
   "metadata": {
    "ExecuteTime": {
     "end_time": "2021-05-06T12:01:37.716144Z",
     "start_time": "2021-05-06T12:01:37.698158Z"
    }
   },
   "outputs": [
    {
     "data": {
      "text/plain": [
       "1.586384519857432"
      ]
     },
     "execution_count": 120,
     "metadata": {},
     "output_type": "execute_result"
    }
   ],
   "source": [
    "def loss_distTF(reco, true):\n",
    "    xs=np.linspace(0,np.pi/2,100)\n",
    "    reco  = tf.cast(reco, tf.float32).numpy()\n",
    "    true  = tf.cast(true, tf.float32).numpy()\n",
    "    yr = kdp.FFTKDE(kernel=\"gaussian\", bw=\"silverman\").fit(reco[:,1]).evaluate(xs)\n",
    "    yt = kdp.FFTKDE(kernel=\"gaussian\", bw=\"silverman\").fit(true[:,1]).evaluate(xs)\n",
    "    return np.trapz((yr-yt)**2/np.std(yr-yt)**2, xs)\n",
    "\n",
    "loss_distTF(predictions, targets)"
   ]
  },
  {
   "cell_type": "code",
   "execution_count": 237,
   "metadata": {
    "ExecuteTime": {
     "end_time": "2021-05-06T14:47:33.355224Z",
     "start_time": "2021-05-06T14:47:33.340229Z"
    },
    "code_folding": []
   },
   "outputs": [],
   "source": [
    "import tensorflow as tf\n",
    "import tensorflow_probability as tfp\n",
    "tfd = tfp.distributions\n",
    "def KDE_gauss(x, sig=0.05):\n",
    "    f = lambda x: tfd.Independent(tfd.Normal(\n",
    "    loc=x, scale=sig))\n",
    "    n = x.shape[0]\n",
    "    kde = tfd.MixtureSameFamily(\n",
    "    mixture_distribution=tfd.Categorical(\n",
    "    probs=[1 / n] * n),\n",
    "    components_distribution=f(x))\n",
    "    return kde"
   ]
  },
  {
   "cell_type": "code",
   "execution_count": null,
   "metadata": {},
   "outputs": [],
   "source": []
  },
  {
   "cell_type": "code",
   "execution_count": 298,
   "metadata": {
    "ExecuteTime": {
     "end_time": "2021-05-06T15:23:28.160021Z",
     "start_time": "2021-05-06T15:23:28.146058Z"
    }
   },
   "outputs": [],
   "source": [
    "batch_size, sig=1024, 0.04\n",
    "\n",
    "bins=40\n",
    "loader = DisjointLoader(dataset, batch_size=batch_size, epochs=1)"
   ]
  },
  {
   "cell_type": "code",
   "execution_count": 299,
   "metadata": {
    "ExecuteTime": {
     "end_time": "2021-05-06T15:23:31.856249Z",
     "start_time": "2021-05-06T15:23:28.417699Z"
    }
   },
   "outputs": [],
   "source": [
    "inputs, targets = next(loader)\n",
    "predictions, targets = test_step(inputs, targets)\n",
    "xs=np.linspace(0,np.pi/2,20)\n",
    "kdet=KDE_gauss(targets[:,1], sig=sig)\n",
    "kder=KDE_gauss(predictions[:,1], sig=sig)\n",
    "tdist=kdet.prob(xs)\n",
    "rdist=kder.prob(xs)"
   ]
  },
  {
   "cell_type": "code",
   "execution_count": 300,
   "metadata": {
    "ExecuteTime": {
     "end_time": "2021-05-06T15:23:32.167862Z",
     "start_time": "2021-05-06T15:23:31.860860Z"
    }
   },
   "outputs": [
    {
     "data": {
      "image/png": "[encoded data removed]",
      "text/plain": [
       "<Figure size 432x288 with 1 Axes>"
      ]
     },
     "metadata": {
      "needs_background": "light"
     },
     "output_type": "display_data"
    }
   ],
   "source": [
    "plt.plot(xs, rdist, label='reco')\n",
    "plt.plot(xs, tdist, label='true')\n",
    "plt.hist(targets[:,1].numpy(), bins=bins, density=1, alpha=0.4)\n",
    "plt.hist(predictions[:,1].numpy(), bins=bins, density=1, alpha=0.4);"
   ]
  },
  {
   "cell_type": "code",
   "execution_count": 304,
   "metadata": {
    "ExecuteTime": {
     "end_time": "2021-05-06T15:33:36.647490Z",
     "start_time": "2021-05-06T15:33:36.629538Z"
    }
   },
   "outputs": [],
   "source": [
    "mix = 0.3\n",
    "bimix = tfd.Mixture(\n",
    "  cat=tfd.Categorical(probs=[mix, 1.-mix]),\n",
    "  components=[\n",
    "    kder,\n",
    "    kdet,\n",
    "])\n"
   ]
  },
  {
   "cell_type": "code",
   "execution_count": 310,
   "metadata": {
    "ExecuteTime": {
     "end_time": "2021-05-06T16:02:44.672663Z",
     "start_time": "2021-05-06T16:02:44.630626Z"
    }
   },
   "outputs": [
    {
     "ename": "NotImplementedError",
     "evalue": "No KL(distribution_a || distribution_b) registered for distribution_a type MixtureSameFamily and distribution_b type MixtureSameFamily",
     "output_type": "error",
     "traceback": [
      "\u001b[1;31m---------------------------------------------------------------------------\u001b[0m",
      "\u001b[1;31mNotImplementedError\u001b[0m                       Traceback (most recent call last)",
      "\u001b[1;32m<ipython-input-310-a812f274a522>\u001b[0m in \u001b[0;36m<module>\u001b[1;34m\u001b[0m\n\u001b[0;32m      1\u001b[0m \u001b[0mKL\u001b[0m\u001b[1;33m=\u001b[0m\u001b[0mtf\u001b[0m\u001b[1;33m.\u001b[0m\u001b[0mmath\u001b[0m\u001b[1;33m.\u001b[0m\u001b[0mreduce_sum\u001b[0m\u001b[1;33m(\u001b[0m\u001b[0mtdist\u001b[0m\u001b[1;33m*\u001b[0m\u001b[0mtf\u001b[0m\u001b[1;33m.\u001b[0m\u001b[0mmath\u001b[0m\u001b[1;33m.\u001b[0m\u001b[0mlog\u001b[0m\u001b[1;33m(\u001b[0m\u001b[0mrdist\u001b[0m\u001b[1;33m/\u001b[0m\u001b[0mtdist\u001b[0m\u001b[1;33m)\u001b[0m\u001b[1;33m)\u001b[0m\u001b[1;33m\u001b[0m\u001b[1;33m\u001b[0m\u001b[0m\n\u001b[1;32m----> 2\u001b[1;33m \u001b[0mtfd\u001b[0m\u001b[1;33m.\u001b[0m\u001b[0mkl_divergence\u001b[0m\u001b[1;33m(\u001b[0m\u001b[0mkdet\u001b[0m\u001b[1;33m,\u001b[0m \u001b[0mkder\u001b[0m\u001b[1;33m)\u001b[0m\u001b[1;33m\u001b[0m\u001b[1;33m\u001b[0m\u001b[0m\n\u001b[0m",
      "\u001b[1;32m~\\anaconda3\\lib\\site-packages\\tensorflow_probability\\python\\distributions\\kullback_leibler.py\u001b[0m in \u001b[0;36mkl_divergence\u001b[1;34m(distribution_a, distribution_b, allow_nan_stats, name)\u001b[0m\n\u001b[0;32m     89\u001b[0m   \u001b[0mkl_fn\u001b[0m \u001b[1;33m=\u001b[0m \u001b[0m_registered_kl\u001b[0m\u001b[1;33m(\u001b[0m\u001b[0mtype\u001b[0m\u001b[1;33m(\u001b[0m\u001b[0mdistribution_a\u001b[0m\u001b[1;33m)\u001b[0m\u001b[1;33m,\u001b[0m \u001b[0mtype\u001b[0m\u001b[1;33m(\u001b[0m\u001b[0mdistribution_b\u001b[0m\u001b[1;33m)\u001b[0m\u001b[1;33m)\u001b[0m\u001b[1;33m\u001b[0m\u001b[1;33m\u001b[0m\u001b[0m\n\u001b[0;32m     90\u001b[0m   \u001b[1;32mif\u001b[0m \u001b[0mkl_fn\u001b[0m \u001b[1;32mis\u001b[0m \u001b[1;32mNone\u001b[0m\u001b[1;33m:\u001b[0m\u001b[1;33m\u001b[0m\u001b[1;33m\u001b[0m\u001b[0m\n\u001b[1;32m---> 91\u001b[1;33m     raise NotImplementedError(\n\u001b[0m\u001b[0;32m     92\u001b[0m         \u001b[1;34m\"No KL(distribution_a || distribution_b) registered for distribution_a \"\u001b[0m\u001b[1;33m\u001b[0m\u001b[1;33m\u001b[0m\u001b[0m\n\u001b[0;32m     93\u001b[0m         \"type {} and distribution_b type {}\".format(\n",
      "\u001b[1;31mNotImplementedError\u001b[0m: No KL(distribution_a || distribution_b) registered for distribution_a type MixtureSameFamily and distribution_b type MixtureSameFamily"
     ]
    }
   ],
   "source": [
    "KL=tf.math.reduce_sum(tdist*tf.math.log(rdist/tdist))\n",
    "tfd.kl_divergence(kdet, kder)"
   ]
  },
  {
   "cell_type": "code",
   "execution_count": 306,
   "metadata": {
    "ExecuteTime": {
     "end_time": "2021-05-06T15:34:43.616743Z",
     "start_time": "2021-05-06T15:34:43.434709Z"
    }
   },
   "outputs": [
    {
     "data": {
      "text/plain": [
       "0.9984774142311947"
      ]
     },
     "execution_count": 306,
     "metadata": {},
     "output_type": "execute_result"
    },
    {
     "data": {
      "image/png": "[encoded data removed]",
      "text/plain": [
       "<Figure size 432x288 with 1 Axes>"
      ]
     },
     "metadata": {
      "needs_background": "light"
     },
     "output_type": "display_data"
    }
   ],
   "source": [
    "plt.plot(xs, bimix.prob(xs))\n",
    "np.trapz(bimix.prob(xs), xs)"
   ]
  },
  {
   "cell_type": "code",
   "execution_count": 28,
   "metadata": {
    "ExecuteTime": {
     "end_time": "2021-05-06T10:34:32.099109Z",
     "start_time": "2021-05-06T10:34:31.982668Z"
    }
   },
   "outputs": [],
   "source": [
    "import KDEpy as kdp"
   ]
  },
  {
   "cell_type": "code",
   "execution_count": 30,
   "metadata": {
    "ExecuteTime": {
     "end_time": "2021-05-06T10:34:53.395087Z",
     "start_time": "2021-05-06T10:34:53.234428Z"
    }
   },
   "outputs": [
    {
     "data": {
      "text/plain": [
       "[<matplotlib.lines.Line2D at 0x20e07e18940>]"
      ]
     },
     "execution_count": 30,
     "metadata": {},
     "output_type": "execute_result"
    },
    {
     "data": {
      "image/png": "[encoded data removed]",
      "text/plain": [
       "<Figure size 432x288 with 1 Axes>"
      ]
     },
     "metadata": {
      "needs_background": "light"
     },
     "output_type": "display_data"
    }
   ],
   "source": [
    "customer_ages = [40, 56, 20, 35, 27, 24, 29, 37, 39, 46]\n",
    "\n",
    "# Distribution of customers\n",
    "x, y = kdp.FFTKDE(kernel=\"gaussian\", bw=\"silverman\").fit(customer_ages).evaluate()\n",
    "plt.plot(x, y)\n",
    "\n",
    "# Distribution of customer income (weight each customer by their income)\n",
    "customer_income = [152, 64, 24, 140, 88, 64, 103, 148, 150, 132]\n",
    "\n",
    "# The `bw` parameter can be manually set, e.g. `bw=5`\n",
    "x, y = kdp.FFTKDE(bw=\"silverman\").fit(customer_ages, weights=customer_income).evaluate()\n",
    "plt.plot(x, y)"
   ]
  },
  {
   "cell_type": "code",
   "execution_count": 160,
   "metadata": {
    "ExecuteTime": {
     "end_time": "2021-05-06T13:11:33.660585Z",
     "start_time": "2021-05-06T13:11:33.351334Z"
    }
   },
   "outputs": [
    {
     "data": {
      "text/plain": [
       "[<matplotlib.lines.Line2D at 0x20e114a9e20>]"
      ]
     },
     "execution_count": 160,
     "metadata": {},
     "output_type": "execute_result"
    },
    {
     "data": {
      "image/png": "[encoded data removed]",
      "text/plain": [
       "<Figure size 432x288 with 1 Axes>"
      ]
     },
     "metadata": {
      "needs_background": "light"
     },
     "output_type": "display_data"
    }
   ],
   "source": [
    "# Distribution of zenith\n",
    "zeni=reco[:,1]\n",
    "azi=reco[:,2]\n",
    "zk=reco[:,3]\n",
    "azk=reco[:,4]\n",
    "x0, y0 = kdp.FFTKDE(kernel=\"gaussian\", bw=\"silverman\").fit(zeni).evaluate()\n",
    "plt.plot(x0, y0)\n",
    "\n",
    "# Distribution of customer income (weight each customer by their income)\n",
    "invkap = 1/np.sqrt(zk)\n",
    "\n",
    "# The `bw` parameter can be manually set, e.g. `bw=5`\n",
    "x, y = kdp.FFTKDE(kernel='gaussian', bw=\"silverman\").fit(zeni, weights=invkap).evaluate()\n",
    "plt.plot(x, y)\n",
    "# plt.hist(zeni, bins=40, density=1, alpha=.4);\n",
    "# plt.hist(true[:,1], bins=40, density=1, alpha=.2);"
   ]
  },
  {
   "cell_type": "code",
   "execution_count": 40,
   "metadata": {
    "ExecuteTime": {
     "end_time": "2021-05-06T10:43:59.083950Z",
     "start_time": "2021-05-06T10:43:58.656264Z"
    }
   },
   "outputs": [
    {
     "data": {
      "image/png": "[encoded data removed]",
      "text/plain": [
       "<Figure size 432x288 with 1 Axes>"
      ]
     },
     "metadata": {
      "needs_background": "light"
     },
     "output_type": "display_data"
    }
   ],
   "source": [
    "x, y = kdp.FFTKDE(kernel=\"gaussian\", bw=\"silverman\").fit(azi).evaluate()\n",
    "plt.plot(x, y)\n",
    "\n",
    "# Distribution of customer income (weight each customer by their income)\n",
    "invkap = 1/np.sqrt(azk)\n",
    "\n",
    "# The `bw` parameter can be manually set, e.g. `bw=5`\n",
    "x, y = kdp.FFTKDE(kernel='gaussian', bw=\"silverman\").fit(azi, weights=invkap).evaluate()\n",
    "plt.plot(x, y)\n",
    "plt.hist(azi, bins=100, density=1, alpha=.4);\n",
    "plt.hist(true[:,2], bins=100, density=1, alpha=.2);"
   ]
  },
  {
   "cell_type": "code",
   "execution_count": 43,
   "metadata": {
    "ExecuteTime": {
     "end_time": "2021-05-06T10:46:53.634754Z",
     "start_time": "2021-05-06T10:46:53.629764Z"
    }
   },
   "outputs": [
    {
     "data": {
      "text/plain": [
       "(1024,)"
      ]
     },
     "execution_count": 43,
     "metadata": {},
     "output_type": "execute_result"
    }
   ],
   "source": [
    "np.shape(y)"
   ]
  },
  {
   "cell_type": "code",
   "execution_count": 55,
   "metadata": {
    "ExecuteTime": {
     "end_time": "2021-05-06T10:52:43.597500Z",
     "start_time": "2021-05-06T10:52:43.423844Z"
    }
   },
   "outputs": [
    {
     "data": {
      "text/plain": [
       "[<matplotlib.lines.Line2D at 0x20e0a0a1e80>]"
      ]
     },
     "execution_count": 55,
     "metadata": {},
     "output_type": "execute_result"
    },
    {
     "data": {
      "image/png": "[encoded data removed]",
      "text/plain": [
       "<Figure size 432x288 with 1 Axes>"
      ]
     },
     "metadata": {
      "needs_background": "light"
     },
     "output_type": "display_data"
    }
   ],
   "source": [
    "xs=np.linspace(0,np.pi/2,100)\n",
    "yr = kdp.FFTKDE(kernel=\"gaussian\", bw=\"silverman\").fit(zeni).evaluate(xs)\n",
    "yt = kdp.FFTKDE(kernel=\"gaussian\", bw=\"silverman\").fit(true[:,1]).evaluate(xs)\n",
    "plt.plot(xs, yr)\n",
    "plt.plot(xs, yt)"
   ]
  },
  {
   "cell_type": "code",
   "execution_count": 57,
   "metadata": {
    "ExecuteTime": {
     "end_time": "2021-05-06T10:52:51.144096Z",
     "start_time": "2021-05-06T10:52:51.124149Z"
    }
   },
   "outputs": [
    {
     "data": {
      "text/plain": [
       "(0.9999592503646962, 0.9993037112212729)"
      ]
     },
     "execution_count": 57,
     "metadata": {},
     "output_type": "execute_result"
    }
   ],
   "source": [
    "np.trapz(yr, xs), np.trapz(yt, xs)"
   ]
  },
  {
   "cell_type": "code",
   "execution_count": 166,
   "metadata": {
    "ExecuteTime": {
     "end_time": "2021-05-06T13:23:41.546773Z",
     "start_time": "2021-05-06T13:23:41.378184Z"
    }
   },
   "outputs": [
    {
     "data": {
      "text/plain": [
       "[<matplotlib.lines.Line2D at 0x20e0ae68910>]"
      ]
     },
     "execution_count": 166,
     "metadata": {},
     "output_type": "execute_result"
    },
    {
     "data": {
      "image/png": "[encoded data removed]",
      "text/plain": [
       "<Figure size 432x288 with 1 Axes>"
      ]
     },
     "metadata": {
      "needs_background": "light"
     },
     "output_type": "display_data"
    }
   ],
   "source": [
    "plt.plot(xs, (yr-yt)**2/np.std(yr-yt)**2)"
   ]
  },
  {
   "cell_type": "code",
   "execution_count": 61,
   "metadata": {
    "ExecuteTime": {
     "end_time": "2021-05-06T10:57:05.087110Z",
     "start_time": "2021-05-06T10:57:05.077102Z"
    }
   },
   "outputs": [
    {
     "data": {
      "text/plain": [
       "1.5856983291402553"
      ]
     },
     "execution_count": 61,
     "metadata": {},
     "output_type": "execute_result"
    }
   ],
   "source": [
    "np.trapz(np.abs(yr-yt)**2/np.std(yr-yt)**2, xs)"
   ]
  },
  {
   "cell_type": "code",
   "execution_count": 88,
   "metadata": {
    "ExecuteTime": {
     "end_time": "2021-05-06T11:37:59.520137Z",
     "start_time": "2021-05-06T11:37:59.381475Z"
    }
   },
   "outputs": [],
   "source": [
    "import from_config.dev.eval_model as evals\n",
    "performance_plot = evals.performance_vM2D\n",
    "\n",
    "import from_config.dev.metrics as met\n",
    "metrics=met.energy_angle_zeniazi\n",
    "\n",
    "import from_config.dev.models as models\n",
    "model = models.KHop()\n",
    "\n",
    "import from_config.dev.loss_funcs as lf\n",
    "loss_func=lf.abs_vonMises2D_angle"
   ]
  },
  {
   "cell_type": "code",
   "execution_count": 85,
   "metadata": {
    "ExecuteTime": {
     "end_time": "2021-05-06T11:35:14.142807Z",
     "start_time": "2021-05-06T11:34:40.390167Z"
    }
   },
   "outputs": [
    {
     "name": "stdout",
     "output_type": "stream",
     "text": [
      "Loading data to memory\n"
     ]
    }
   ],
   "source": [
    "import os, sys, time, wandb\n",
    "from tqdm import tqdm\n",
    "import tensorflow as tf\n",
    "import numpy as np\n",
    "\n",
    "import os.path as osp\n",
    "\n",
    "from tensorflow.keras.optimizers import Adam\n",
    "from spektral.data import DisjointLoader\n",
    "from importlib import __import__\n",
    "\n",
    "cwd = osp.abspath('')\n",
    "\n",
    "# wandblog=True\n",
    "# batch_size=512\n",
    "# # Setup Log \n",
    "# run = wandb.init(project = 'newloss', entity = \"chri862z\", group='KDEtest',\\\n",
    "#                  reinit=True)\n",
    "\n",
    "################################################\n",
    "#   Load dataset                              #\n",
    "################################################\n",
    "from from_config.dev.data_load import graph_data\n",
    "#load dataset\n",
    "epochs      = 20\n",
    "batch_size  = 512\n",
    "\n",
    "dataset=graph_data(n_data=2e5,transform_path='db_files/muongun/transformers.pkl',\\\n",
    "             db_path= 'db_files/muongun/rasmus_classification_muon_3neutrino_3mio.db', n_neighbors=14, restart=0)\n",
    "\n",
    "idx_lists = dataset.index_lists\n",
    "# Split data\n",
    "dataset_train = dataset[idx_lists[0]]\n",
    "dataset_val   = dataset[idx_lists[1]]\n",
    "dataset_test  = dataset[idx_lists[2]]\n",
    "\n",
    "loader_train = DisjointLoader(dataset_train, epochs=epochs, batch_size=batch_size)\n",
    "loader_test = DisjointLoader(dataset_test, batch_size=batch_size, epochs=1)\n",
    "\n",
    "\n",
    " ###############################################\n",
    "#   Setup other run params                     #\n",
    "################################################\n",
    "\n",
    "early_stop  = 5\n",
    "patience    = 5\n",
    "val_epoch = 10\n",
    "\n",
    "# print('check')\n",
    "################################################\n",
    "#   Setup model, loss, lr schedule and metrics #\n",
    "################################################\n",
    "\n",
    "# Get model, metrics, lr_schedule and loss function\n",
    "\n",
    "def classic(lr, warm_up = 3, decay = 0.9):\n",
    "\n",
    "    def lr_schedule():\n",
    "        # Intial value\n",
    "        factor = lr * 1 / 2 ** warm_up\n",
    "        yield factor\n",
    "        \n",
    "        # Multiply with 2 first few round\n",
    "        for i in range(warm_up):\n",
    "            factor *= 2\n",
    "            yield factor\n",
    "\n",
    "        # Make an exponential decay\n",
    "        while True:\n",
    "            factor *= decay\n",
    "            yield factor\n",
    "\n",
    "    return lr_schedule\n",
    "\n",
    "lr_schedule=classic(1e-3)()\n",
    "\n",
    "# save_path=osp.join(model_path,wandb.run.name)\n",
    "\n",
    "# if not osp.isdir(save_path):\n",
    "#     os.makedirs(save_path)\n",
    "#     print('New folder for saving run made')\n",
    "\n",
    "# Learning rate and optimizer\n",
    "learning_rate            = next(lr_schedule)\n",
    "opt           = Adam(learning_rate)"
   ]
  },
  {
   "cell_type": "code",
   "execution_count": 100,
   "metadata": {
    "ExecuteTime": {
     "end_time": "2021-05-06T11:50:17.706896Z",
     "start_time": "2021-05-06T11:50:17.683956Z"
    }
   },
   "outputs": [],
   "source": [
    "def loss_distTF(reco, true):\n",
    "    xs=np.linspace(0,np.pi/2,100)\n",
    "    reco  = tf.cast(reco, tf.float32).numpy()\n",
    "    true  = tf.cast(true, tf.float32).numpy()\n",
    "    yr = kdp.FFTKDE(kernel=\"gaussian\", bw=\"silverman\").fit(reco[:,1]).evaluate(xs)\n",
    "    yt = kdp.FFTKDE(kernel=\"gaussian\", bw=\"silverman\").fit(true[:,1]).evaluate(xs)\n",
    "    return np.trapz((yr-yt)**2/np.std(yr-yt)**2, xs)"
   ]
  },
  {
   "cell_type": "code",
   "execution_count": 102,
   "metadata": {
    "ExecuteTime": {
     "end_time": "2021-05-06T11:50:49.812439Z",
     "start_time": "2021-05-06T11:50:44.066536Z"
    },
    "code_folding": [
     105
    ]
   },
   "outputs": [
    {
     "name": "stderr",
     "output_type": "stream",
     "text": [
      "  0%|                                                                                          | 0/313 [14:27<?, ?it/s]\n",
      "Epoch 1 / 20; Avg_loss: 5.163241:  17%|███████▊                                     | 54/313 [12:44<1:01:06, 14.16s/it]\n",
      "  0%|                                                                                          | 0/313 [00:20<?, ?it/s]\n"
     ]
    },
    {
     "ename": "AttributeError",
     "evalue": "in user code:\n\n    <ipython-input-102-a72224c3e38c>:14 train_step  *\n        loss       +=loss_distTF(predictions, targets)\n    <ipython-input-100-8ef078adaeb6>:3 loss_distTF  *\n        reco  = tf.cast(reco, tf.float32).numpy()\n\n    AttributeError: 'Tensor' object has no attribute 'numpy'\n",
     "output_type": "error",
     "traceback": [
      "\u001b[1;31m---------------------------------------------------------------------------\u001b[0m",
      "\u001b[1;31mAttributeError\u001b[0m                            Traceback (most recent call last)",
      "\u001b[1;32m<ipython-input-102-a72224c3e38c>\u001b[0m in \u001b[0;36m<module>\u001b[1;34m\u001b[0m\n\u001b[0;32m     65\u001b[0m \u001b[1;32mfor\u001b[0m \u001b[0mbatch\u001b[0m \u001b[1;32min\u001b[0m \u001b[0mloader_train\u001b[0m\u001b[1;33m:\u001b[0m\u001b[1;33m\u001b[0m\u001b[1;33m\u001b[0m\u001b[0m\n\u001b[0;32m     66\u001b[0m     \u001b[0minputs\u001b[0m\u001b[1;33m,\u001b[0m \u001b[0mtargets\u001b[0m \u001b[1;33m=\u001b[0m \u001b[0mbatch\u001b[0m\u001b[1;33m\u001b[0m\u001b[1;33m\u001b[0m\u001b[0m\n\u001b[1;32m---> 67\u001b[1;33m     \u001b[0mout\u001b[0m             \u001b[1;33m=\u001b[0m \u001b[0mtrain_step\u001b[0m\u001b[1;33m(\u001b[0m\u001b[0minputs\u001b[0m\u001b[1;33m,\u001b[0m \u001b[0mtargets\u001b[0m\u001b[1;33m)\u001b[0m\u001b[1;33m\u001b[0m\u001b[1;33m\u001b[0m\u001b[0m\n\u001b[0m\u001b[0;32m     68\u001b[0m     \u001b[0mloss\u001b[0m           \u001b[1;33m+=\u001b[0m \u001b[0mout\u001b[0m\u001b[1;33m\u001b[0m\u001b[1;33m\u001b[0m\u001b[0m\n\u001b[0;32m     69\u001b[0m     \u001b[1;32mif\u001b[0m \u001b[0mcurrent_epoch\u001b[0m\u001b[1;33m==\u001b[0m\u001b[1;36m1\u001b[0m \u001b[1;32mand\u001b[0m \u001b[0mcurrent_batch\u001b[0m\u001b[1;33m==\u001b[0m\u001b[1;36m0\u001b[0m\u001b[1;33m:\u001b[0m\u001b[1;33m\u001b[0m\u001b[1;33m\u001b[0m\u001b[0m\n",
      "\u001b[1;32m~\\AppData\\Roaming\\Python\\Python38\\site-packages\\tensorflow\\python\\eager\\def_function.py\u001b[0m in \u001b[0;36m__call__\u001b[1;34m(self, *args, **kwds)\u001b[0m\n\u001b[0;32m    826\u001b[0m     \u001b[0mtracing_count\u001b[0m \u001b[1;33m=\u001b[0m \u001b[0mself\u001b[0m\u001b[1;33m.\u001b[0m\u001b[0mexperimental_get_tracing_count\u001b[0m\u001b[1;33m(\u001b[0m\u001b[1;33m)\u001b[0m\u001b[1;33m\u001b[0m\u001b[1;33m\u001b[0m\u001b[0m\n\u001b[0;32m    827\u001b[0m     \u001b[1;32mwith\u001b[0m \u001b[0mtrace\u001b[0m\u001b[1;33m.\u001b[0m\u001b[0mTrace\u001b[0m\u001b[1;33m(\u001b[0m\u001b[0mself\u001b[0m\u001b[1;33m.\u001b[0m\u001b[0m_name\u001b[0m\u001b[1;33m)\u001b[0m \u001b[1;32mas\u001b[0m \u001b[0mtm\u001b[0m\u001b[1;33m:\u001b[0m\u001b[1;33m\u001b[0m\u001b[1;33m\u001b[0m\u001b[0m\n\u001b[1;32m--> 828\u001b[1;33m       \u001b[0mresult\u001b[0m \u001b[1;33m=\u001b[0m \u001b[0mself\u001b[0m\u001b[1;33m.\u001b[0m\u001b[0m_call\u001b[0m\u001b[1;33m(\u001b[0m\u001b[1;33m*\u001b[0m\u001b[0margs\u001b[0m\u001b[1;33m,\u001b[0m \u001b[1;33m**\u001b[0m\u001b[0mkwds\u001b[0m\u001b[1;33m)\u001b[0m\u001b[1;33m\u001b[0m\u001b[1;33m\u001b[0m\u001b[0m\n\u001b[0m\u001b[0;32m    829\u001b[0m       \u001b[0mcompiler\u001b[0m \u001b[1;33m=\u001b[0m \u001b[1;34m\"xla\"\u001b[0m \u001b[1;32mif\u001b[0m \u001b[0mself\u001b[0m\u001b[1;33m.\u001b[0m\u001b[0m_experimental_compile\u001b[0m \u001b[1;32melse\u001b[0m \u001b[1;34m\"nonXla\"\u001b[0m\u001b[1;33m\u001b[0m\u001b[1;33m\u001b[0m\u001b[0m\n\u001b[0;32m    830\u001b[0m       \u001b[0mnew_tracing_count\u001b[0m \u001b[1;33m=\u001b[0m \u001b[0mself\u001b[0m\u001b[1;33m.\u001b[0m\u001b[0mexperimental_get_tracing_count\u001b[0m\u001b[1;33m(\u001b[0m\u001b[1;33m)\u001b[0m\u001b[1;33m\u001b[0m\u001b[1;33m\u001b[0m\u001b[0m\n",
      "\u001b[1;32m~\\AppData\\Roaming\\Python\\Python38\\site-packages\\tensorflow\\python\\eager\\def_function.py\u001b[0m in \u001b[0;36m_call\u001b[1;34m(self, *args, **kwds)\u001b[0m\n\u001b[0;32m    869\u001b[0m       \u001b[1;31m# This is the first call of __call__, so we have to initialize.\u001b[0m\u001b[1;33m\u001b[0m\u001b[1;33m\u001b[0m\u001b[1;33m\u001b[0m\u001b[0m\n\u001b[0;32m    870\u001b[0m       \u001b[0minitializers\u001b[0m \u001b[1;33m=\u001b[0m \u001b[1;33m[\u001b[0m\u001b[1;33m]\u001b[0m\u001b[1;33m\u001b[0m\u001b[1;33m\u001b[0m\u001b[0m\n\u001b[1;32m--> 871\u001b[1;33m       \u001b[0mself\u001b[0m\u001b[1;33m.\u001b[0m\u001b[0m_initialize\u001b[0m\u001b[1;33m(\u001b[0m\u001b[0margs\u001b[0m\u001b[1;33m,\u001b[0m \u001b[0mkwds\u001b[0m\u001b[1;33m,\u001b[0m \u001b[0madd_initializers_to\u001b[0m\u001b[1;33m=\u001b[0m\u001b[0minitializers\u001b[0m\u001b[1;33m)\u001b[0m\u001b[1;33m\u001b[0m\u001b[1;33m\u001b[0m\u001b[0m\n\u001b[0m\u001b[0;32m    872\u001b[0m     \u001b[1;32mfinally\u001b[0m\u001b[1;33m:\u001b[0m\u001b[1;33m\u001b[0m\u001b[1;33m\u001b[0m\u001b[0m\n\u001b[0;32m    873\u001b[0m       \u001b[1;31m# At this point we know that the initialization is complete (or less\u001b[0m\u001b[1;33m\u001b[0m\u001b[1;33m\u001b[0m\u001b[1;33m\u001b[0m\u001b[0m\n",
      "\u001b[1;32m~\\AppData\\Roaming\\Python\\Python38\\site-packages\\tensorflow\\python\\eager\\def_function.py\u001b[0m in \u001b[0;36m_initialize\u001b[1;34m(self, args, kwds, add_initializers_to)\u001b[0m\n\u001b[0;32m    723\u001b[0m     \u001b[0mself\u001b[0m\u001b[1;33m.\u001b[0m\u001b[0m_graph_deleter\u001b[0m \u001b[1;33m=\u001b[0m \u001b[0mFunctionDeleter\u001b[0m\u001b[1;33m(\u001b[0m\u001b[0mself\u001b[0m\u001b[1;33m.\u001b[0m\u001b[0m_lifted_initializer_graph\u001b[0m\u001b[1;33m)\u001b[0m\u001b[1;33m\u001b[0m\u001b[1;33m\u001b[0m\u001b[0m\n\u001b[0;32m    724\u001b[0m     self._concrete_stateful_fn = (\n\u001b[1;32m--> 725\u001b[1;33m         self._stateful_fn._get_concrete_function_internal_garbage_collected(  # pylint: disable=protected-access\n\u001b[0m\u001b[0;32m    726\u001b[0m             *args, **kwds))\n\u001b[0;32m    727\u001b[0m \u001b[1;33m\u001b[0m\u001b[0m\n",
      "\u001b[1;32m~\\AppData\\Roaming\\Python\\Python38\\site-packages\\tensorflow\\python\\eager\\function.py\u001b[0m in \u001b[0;36m_get_concrete_function_internal_garbage_collected\u001b[1;34m(self, *args, **kwargs)\u001b[0m\n\u001b[0;32m   2967\u001b[0m       \u001b[0margs\u001b[0m\u001b[1;33m,\u001b[0m \u001b[0mkwargs\u001b[0m \u001b[1;33m=\u001b[0m \u001b[1;32mNone\u001b[0m\u001b[1;33m,\u001b[0m \u001b[1;32mNone\u001b[0m\u001b[1;33m\u001b[0m\u001b[1;33m\u001b[0m\u001b[0m\n\u001b[0;32m   2968\u001b[0m     \u001b[1;32mwith\u001b[0m \u001b[0mself\u001b[0m\u001b[1;33m.\u001b[0m\u001b[0m_lock\u001b[0m\u001b[1;33m:\u001b[0m\u001b[1;33m\u001b[0m\u001b[1;33m\u001b[0m\u001b[0m\n\u001b[1;32m-> 2969\u001b[1;33m       \u001b[0mgraph_function\u001b[0m\u001b[1;33m,\u001b[0m \u001b[0m_\u001b[0m \u001b[1;33m=\u001b[0m \u001b[0mself\u001b[0m\u001b[1;33m.\u001b[0m\u001b[0m_maybe_define_function\u001b[0m\u001b[1;33m(\u001b[0m\u001b[0margs\u001b[0m\u001b[1;33m,\u001b[0m \u001b[0mkwargs\u001b[0m\u001b[1;33m)\u001b[0m\u001b[1;33m\u001b[0m\u001b[1;33m\u001b[0m\u001b[0m\n\u001b[0m\u001b[0;32m   2970\u001b[0m     \u001b[1;32mreturn\u001b[0m \u001b[0mgraph_function\u001b[0m\u001b[1;33m\u001b[0m\u001b[1;33m\u001b[0m\u001b[0m\n\u001b[0;32m   2971\u001b[0m \u001b[1;33m\u001b[0m\u001b[0m\n",
      "\u001b[1;32m~\\AppData\\Roaming\\Python\\Python38\\site-packages\\tensorflow\\python\\eager\\function.py\u001b[0m in \u001b[0;36m_maybe_define_function\u001b[1;34m(self, args, kwargs)\u001b[0m\n\u001b[0;32m   3359\u001b[0m \u001b[1;33m\u001b[0m\u001b[0m\n\u001b[0;32m   3360\u001b[0m           \u001b[0mself\u001b[0m\u001b[1;33m.\u001b[0m\u001b[0m_function_cache\u001b[0m\u001b[1;33m.\u001b[0m\u001b[0mmissed\u001b[0m\u001b[1;33m.\u001b[0m\u001b[0madd\u001b[0m\u001b[1;33m(\u001b[0m\u001b[0mcall_context_key\u001b[0m\u001b[1;33m)\u001b[0m\u001b[1;33m\u001b[0m\u001b[1;33m\u001b[0m\u001b[0m\n\u001b[1;32m-> 3361\u001b[1;33m           \u001b[0mgraph_function\u001b[0m \u001b[1;33m=\u001b[0m \u001b[0mself\u001b[0m\u001b[1;33m.\u001b[0m\u001b[0m_create_graph_function\u001b[0m\u001b[1;33m(\u001b[0m\u001b[0margs\u001b[0m\u001b[1;33m,\u001b[0m \u001b[0mkwargs\u001b[0m\u001b[1;33m)\u001b[0m\u001b[1;33m\u001b[0m\u001b[1;33m\u001b[0m\u001b[0m\n\u001b[0m\u001b[0;32m   3362\u001b[0m           \u001b[0mself\u001b[0m\u001b[1;33m.\u001b[0m\u001b[0m_function_cache\u001b[0m\u001b[1;33m.\u001b[0m\u001b[0mprimary\u001b[0m\u001b[1;33m[\u001b[0m\u001b[0mcache_key\u001b[0m\u001b[1;33m]\u001b[0m \u001b[1;33m=\u001b[0m \u001b[0mgraph_function\u001b[0m\u001b[1;33m\u001b[0m\u001b[1;33m\u001b[0m\u001b[0m\n\u001b[0;32m   3363\u001b[0m \u001b[1;33m\u001b[0m\u001b[0m\n",
      "\u001b[1;32m~\\AppData\\Roaming\\Python\\Python38\\site-packages\\tensorflow\\python\\eager\\function.py\u001b[0m in \u001b[0;36m_create_graph_function\u001b[1;34m(self, args, kwargs, override_flat_arg_shapes)\u001b[0m\n\u001b[0;32m   3194\u001b[0m     \u001b[0marg_names\u001b[0m \u001b[1;33m=\u001b[0m \u001b[0mbase_arg_names\u001b[0m \u001b[1;33m+\u001b[0m \u001b[0mmissing_arg_names\u001b[0m\u001b[1;33m\u001b[0m\u001b[1;33m\u001b[0m\u001b[0m\n\u001b[0;32m   3195\u001b[0m     graph_function = ConcreteFunction(\n\u001b[1;32m-> 3196\u001b[1;33m         func_graph_module.func_graph_from_py_func(\n\u001b[0m\u001b[0;32m   3197\u001b[0m             \u001b[0mself\u001b[0m\u001b[1;33m.\u001b[0m\u001b[0m_name\u001b[0m\u001b[1;33m,\u001b[0m\u001b[1;33m\u001b[0m\u001b[1;33m\u001b[0m\u001b[0m\n\u001b[0;32m   3198\u001b[0m             \u001b[0mself\u001b[0m\u001b[1;33m.\u001b[0m\u001b[0m_python_function\u001b[0m\u001b[1;33m,\u001b[0m\u001b[1;33m\u001b[0m\u001b[1;33m\u001b[0m\u001b[0m\n",
      "\u001b[1;32m~\\AppData\\Roaming\\Python\\Python38\\site-packages\\tensorflow\\python\\framework\\func_graph.py\u001b[0m in \u001b[0;36mfunc_graph_from_py_func\u001b[1;34m(name, python_func, args, kwargs, signature, func_graph, autograph, autograph_options, add_control_dependencies, arg_names, op_return_value, collections, capture_by_value, override_flat_arg_shapes)\u001b[0m\n\u001b[0;32m    988\u001b[0m         \u001b[0m_\u001b[0m\u001b[1;33m,\u001b[0m \u001b[0moriginal_func\u001b[0m \u001b[1;33m=\u001b[0m \u001b[0mtf_decorator\u001b[0m\u001b[1;33m.\u001b[0m\u001b[0munwrap\u001b[0m\u001b[1;33m(\u001b[0m\u001b[0mpython_func\u001b[0m\u001b[1;33m)\u001b[0m\u001b[1;33m\u001b[0m\u001b[1;33m\u001b[0m\u001b[0m\n\u001b[0;32m    989\u001b[0m \u001b[1;33m\u001b[0m\u001b[0m\n\u001b[1;32m--> 990\u001b[1;33m       \u001b[0mfunc_outputs\u001b[0m \u001b[1;33m=\u001b[0m \u001b[0mpython_func\u001b[0m\u001b[1;33m(\u001b[0m\u001b[1;33m*\u001b[0m\u001b[0mfunc_args\u001b[0m\u001b[1;33m,\u001b[0m \u001b[1;33m**\u001b[0m\u001b[0mfunc_kwargs\u001b[0m\u001b[1;33m)\u001b[0m\u001b[1;33m\u001b[0m\u001b[1;33m\u001b[0m\u001b[0m\n\u001b[0m\u001b[0;32m    991\u001b[0m \u001b[1;33m\u001b[0m\u001b[0m\n\u001b[0;32m    992\u001b[0m       \u001b[1;31m# invariant: `func_outputs` contains only Tensors, CompositeTensors,\u001b[0m\u001b[1;33m\u001b[0m\u001b[1;33m\u001b[0m\u001b[1;33m\u001b[0m\u001b[0m\n",
      "\u001b[1;32m~\\AppData\\Roaming\\Python\\Python38\\site-packages\\tensorflow\\python\\eager\\def_function.py\u001b[0m in \u001b[0;36mwrapped_fn\u001b[1;34m(*args, **kwds)\u001b[0m\n\u001b[0;32m    632\u001b[0m             \u001b[0mxla_context\u001b[0m\u001b[1;33m.\u001b[0m\u001b[0mExit\u001b[0m\u001b[1;33m(\u001b[0m\u001b[1;33m)\u001b[0m\u001b[1;33m\u001b[0m\u001b[1;33m\u001b[0m\u001b[0m\n\u001b[0;32m    633\u001b[0m         \u001b[1;32melse\u001b[0m\u001b[1;33m:\u001b[0m\u001b[1;33m\u001b[0m\u001b[1;33m\u001b[0m\u001b[0m\n\u001b[1;32m--> 634\u001b[1;33m           \u001b[0mout\u001b[0m \u001b[1;33m=\u001b[0m \u001b[0mweak_wrapped_fn\u001b[0m\u001b[1;33m(\u001b[0m\u001b[1;33m)\u001b[0m\u001b[1;33m.\u001b[0m\u001b[0m__wrapped__\u001b[0m\u001b[1;33m(\u001b[0m\u001b[1;33m*\u001b[0m\u001b[0margs\u001b[0m\u001b[1;33m,\u001b[0m \u001b[1;33m**\u001b[0m\u001b[0mkwds\u001b[0m\u001b[1;33m)\u001b[0m\u001b[1;33m\u001b[0m\u001b[1;33m\u001b[0m\u001b[0m\n\u001b[0m\u001b[0;32m    635\u001b[0m         \u001b[1;32mreturn\u001b[0m \u001b[0mout\u001b[0m\u001b[1;33m\u001b[0m\u001b[1;33m\u001b[0m\u001b[0m\n\u001b[0;32m    636\u001b[0m \u001b[1;33m\u001b[0m\u001b[0m\n",
      "\u001b[1;32m~\\AppData\\Roaming\\Python\\Python38\\site-packages\\tensorflow\\python\\framework\\func_graph.py\u001b[0m in \u001b[0;36mwrapper\u001b[1;34m(*args, **kwargs)\u001b[0m\n\u001b[0;32m    975\u001b[0m           \u001b[1;32mexcept\u001b[0m \u001b[0mException\u001b[0m \u001b[1;32mas\u001b[0m \u001b[0me\u001b[0m\u001b[1;33m:\u001b[0m  \u001b[1;31m# pylint:disable=broad-except\u001b[0m\u001b[1;33m\u001b[0m\u001b[1;33m\u001b[0m\u001b[0m\n\u001b[0;32m    976\u001b[0m             \u001b[1;32mif\u001b[0m \u001b[0mhasattr\u001b[0m\u001b[1;33m(\u001b[0m\u001b[0me\u001b[0m\u001b[1;33m,\u001b[0m \u001b[1;34m\"ag_error_metadata\"\u001b[0m\u001b[1;33m)\u001b[0m\u001b[1;33m:\u001b[0m\u001b[1;33m\u001b[0m\u001b[1;33m\u001b[0m\u001b[0m\n\u001b[1;32m--> 977\u001b[1;33m               \u001b[1;32mraise\u001b[0m \u001b[0me\u001b[0m\u001b[1;33m.\u001b[0m\u001b[0mag_error_metadata\u001b[0m\u001b[1;33m.\u001b[0m\u001b[0mto_exception\u001b[0m\u001b[1;33m(\u001b[0m\u001b[0me\u001b[0m\u001b[1;33m)\u001b[0m\u001b[1;33m\u001b[0m\u001b[1;33m\u001b[0m\u001b[0m\n\u001b[0m\u001b[0;32m    978\u001b[0m             \u001b[1;32melse\u001b[0m\u001b[1;33m:\u001b[0m\u001b[1;33m\u001b[0m\u001b[1;33m\u001b[0m\u001b[0m\n\u001b[0;32m    979\u001b[0m               \u001b[1;32mraise\u001b[0m\u001b[1;33m\u001b[0m\u001b[1;33m\u001b[0m\u001b[0m\n",
      "\u001b[1;31mAttributeError\u001b[0m: in user code:\n\n    <ipython-input-102-a72224c3e38c>:14 train_step  *\n        loss       +=loss_distTF(predictions, targets)\n    <ipython-input-100-8ef078adaeb6>:3 loss_distTF  *\n        reco  = tf.cast(reco, tf.float32).numpy()\n\n    AttributeError: 'Tensor' object has no attribute 'numpy'\n"
     ]
    }
   ],
   "source": [
    "\n",
    "\n",
    "################################################\n",
    "#   Set up TF functions and validation step   #\n",
    "################################################\n",
    "\n",
    "\n",
    "# Define training function\n",
    "@tf.function(input_signature = loader_train.tf_signature(), experimental_relax_shapes = True)\n",
    "def train_step(inputs, targets):\n",
    "    with tf.GradientTape() as tape:\n",
    "        predictions = model(inputs, training = True)\n",
    "        targets     = tf.cast(targets, tf.float32)\n",
    "        loss        = loss_func(predictions, targets)\n",
    "        loss       += sum(model.losses)\n",
    "        loss       +=loss_distTF(predictions, targets)\n",
    "\n",
    "    gradients = tape.gradient(loss, model.trainable_variables)\n",
    "    opt.apply_gradients(zip(gradients, model.trainable_variables))\n",
    "    return loss\n",
    "\n",
    "@tf.function(input_signature = loader_test.tf_signature(), experimental_relax_shapes = True)\n",
    "def test_step(inputs, targets):\n",
    "    predictions = model(inputs, training = False)\n",
    "    targets     = tf.cast(targets, tf.float32) \n",
    "\n",
    "    return predictions, targets, out\n",
    "\n",
    "\n",
    "def validation(loader):\n",
    "    loss = 0\n",
    "    prediction_list, target_list = [], []\n",
    "    for batch in loader:\n",
    "        inputs, targets = batch\n",
    "        predictions, targets, out = test_step(inputs, targets)\n",
    "        loss           += out\n",
    "\n",
    "        prediction_list.append(predictions)\n",
    "        target_list.append(targets)\n",
    "\n",
    "    y_reco  = tf.concat(prediction_list, axis = 0)\n",
    "    y_true  = tf.concat(target_list, axis = 0)\n",
    "    y_true  = tf.cast(y_true, tf.float32)\n",
    "\n",
    "    loss, loss_from = loss_func(y_reco, y_true, re=True)\n",
    "\n",
    "    energy, e_old, alpha, zeni, azi= metrics(y_reco, y_true)\n",
    "\n",
    "    return loss, loss_from, [energy, e_old, alpha, zeni, azi]\n",
    "\n",
    "\n",
    "\n",
    "################################################\n",
    "#  Train Model                                 #      \n",
    "################################################\n",
    "\n",
    "tot_time=0\n",
    "current_batch = 0\n",
    "current_epoch = 1\n",
    "loss          = 0\n",
    "lowest_loss   = np.inf\n",
    "early_stop    = 1\n",
    "early_stop_counter    = 0\n",
    "pbar          = tqdm(total = loader_train.steps_per_epoch, position=0, leave = True)\n",
    "start_time    = time.time()\n",
    "summarylist=[]\n",
    "for batch in loader_train:\n",
    "    inputs, targets = batch\n",
    "    out             = train_step(inputs, targets)\n",
    "    loss           += out\n",
    "    if current_epoch==1 and current_batch==0:\n",
    "        model.summary()\n",
    "        if wandblog:\n",
    "            summary=model.summary(print_fn=summarylist.append)\n",
    "            table=wandb.Table(columns=[\"Layers\"])\n",
    "            for s in summarylist:\n",
    "                table.add_data(s)\n",
    "            wandb.log({'Model summary': table})\n",
    "    current_batch  += 1\n",
    "    pbar.update(1)\n",
    "    pbar.set_description(f\"Epoch {current_epoch} / {epochs}; Avg_loss: {loss / current_batch:.6f}\")\n",
    "\n",
    "    if current_batch == loader_train.steps_per_epoch:\n",
    "        t=time.time() - start_time\n",
    "        tot_time+=t\n",
    "        print(f\"Epoch {current_epoch} of {epochs} done in {t:.2f} seconds using learning rate: {learning_rate:.2E}\")\n",
    "        print(f\"Avg loss of train: {loss / loader_train.steps_per_epoch:.6f}\")\n",
    "\n",
    "        loader_val    = DisjointLoader(dataset_val, epochs = 1,      batch_size = batch_size)\n",
    "        val_loss, val_loss_from, val_metric = validation(loader_val)\n",
    "        if wandblog:\n",
    "            wandb.log({\"Train Loss\":      loss / loader_train.steps_per_epoch,\n",
    "                    \"Validation Loss\": val_loss, \n",
    "                    \"w(log(E))\":   val_metric[1],\n",
    "                    \"Energy bias\":   val_metric[0][1],\n",
    "                    \"Energy sig-1\":   val_metric[0][0],\n",
    "                    \"Energy sig+1\":   val_metric[0][2],\n",
    "                    \"Solid angle 68th\":    val_metric[2][3],\n",
    "                    \"Angle bias\":   val_metric[2][1],\n",
    "                    \"Angle sig-1\":   val_metric[2][0],\n",
    "                    \"Angle sig+1\":   val_metric[2][2],\n",
    "                    \"zenith 68th\":    val_metric[3][3],\n",
    "                    \"zenith bias\":   val_metric[3][1],\n",
    "                    \"zenith sig-1\":   val_metric[3][0],\n",
    "                    \"zenith sig+1\":   val_metric[3][2],\n",
    "                    \"azimuth 68th\":    val_metric[4][3],\n",
    "                    \"azimuth bias\":   val_metric[4][1],\n",
    "                    \"azimuth sig-1\":   val_metric[4][0],\n",
    "                    \"azimuth sig+1\":   val_metric[4][2],\n",
    "                    \"Learning rate\":   learning_rate})\n",
    "        print(\"\\n\")\n",
    "        if not construct_dict['run_params']['zeniazi_metric']:\n",
    "            print(f\"Avg loss of validation: {val_loss:.6f}\")\n",
    "            print(f\"Loss from:  Energy: {val_loss_from[0]:.6f} \\t Angle: {val_loss_from[1]:.6f} \")\n",
    "            print(f\"Energy: bias = {val_metric[0][1]:.6f} sig_range = {val_metric[0][0]:.6f}<->{val_metric[0][2]:.6f}, old metric {val_metric[1]:.6f}\\\n",
    "                \\n Angle: bias = {val_metric[2][1]:.6f} sig_range = {val_metric[2][0]:.6f}<->{val_metric[2][2]:.6f}, old metric {val_metric[2][3]:.6f}\")\n",
    "        else:\n",
    "            print(f\"Avg loss of validation: {val_loss:.6f}\")\n",
    "            print(f\"Loss from:  Energy: {val_loss_from[0]:.6f} \\t Angle: {val_loss_from[1]:.6f} \")\n",
    "            print(f\"Energy: bias = {val_metric[0][1]:.6f} sig_range = {val_metric[0][0]:.6f}<->{val_metric[0][2]:.6f}, old metric {val_metric[1]:.6f}\\\n",
    "                \\n Angle: bias = {val_metric[2][1]:.6f} sig_range = {val_metric[2][0]:.6f}<->{val_metric[2][2]:.6f}, old metric {val_metric[2][3]:.6f}\\\n",
    "                \\n Zenith: bias = {val_metric[3][1]:.6f} sig_range = {val_metric[3][0]:.6f}<->{val_metric[3][2]:.6f}, old metric {val_metric[3][3]:.6f}\\\n",
    "                \\n Azimuth: bias = {val_metric[4][1]:.6f} sig_range = {val_metric[4][0]:.6f}<->{val_metric[4][2]:.6f}, old metric {val_metric[4][3]:.6f}\")\n",
    "\n",
    "        if val_loss < lowest_loss:\n",
    "            early_stop_counter = 0\n",
    "            lowest_loss        = val_loss\n",
    "        else:\n",
    "            early_stop_counter += 1\n",
    "        print(f'Early stop counter: {early_stop_counter}/{patience}, lowest val loss was {lowest_loss:.6f}')\n",
    "        if early_stop and (early_stop_counter >= patience):\n",
    "            print(f\"Stopped training. No improvement was seen in {patience} epochs\")\n",
    "\n",
    "        if current_epoch != epochs:\n",
    "            pbar          = tqdm(total = loader_train.steps_per_epoch, position=0, leave = True)\n",
    "\n",
    "        learning_rate = next(lr_schedule)\n",
    "        opt.learning_rate.assign(learning_rate)\n",
    "\n",
    "        time_avg=tot_time/current_epoch\n",
    "        if current_epoch % val_epoch == 0:\n",
    "            model.save(save_path)\n",
    "            print(\"Model saved\")\n",
    "            if wandblog:\n",
    "                loader_test = DisjointLoader(dataset_test, batch_size=batch_size, epochs=1)\n",
    "                fig, _ = performance_plot(loader_test, test_step, metrics, save=True, save_path=save_path)\n",
    "                title=\"performanceplot_\"+str(current_epoch)\n",
    "                wandb.log({title: [wandb.Image(fig, caption=title)]})\n",
    "\n",
    "        loss            = 0\n",
    "        start_time      = time.time()\n",
    "        current_epoch  += 1\n",
    "        current_batch   = 0\n"
   ]
  },
  {
   "cell_type": "code",
   "execution_count": 68,
   "metadata": {
    "ExecuteTime": {
     "end_time": "2021-05-06T11:12:19.649445Z",
     "start_time": "2021-05-06T11:12:19.638476Z"
    }
   },
   "outputs": [],
   "source": []
  },
  {
   "cell_type": "code",
   "execution_count": null,
   "metadata": {},
   "outputs": [],
   "source": []
  },
  {
   "cell_type": "code",
   "execution_count": null,
   "metadata": {},
   "outputs": [],
   "source": []
  }
 ],
 "metadata": {
  "hide_input": false,
  "kernelspec": {
   "display_name": "Python 3",
   "language": "python",
   "name": "python3"
  },
  "language_info": {
   "codemirror_mode": {
    "name": "ipython",
    "version": 3
   },
   "file_extension": ".py",
   "mimetype": "text/x-python",
   "name": "python",
   "nbconvert_exporter": "python",
   "pygments_lexer": "ipython3",
   "version": "3.8.5"
  }
 },
 "nbformat": 4,
 "nbformat_minor": 4
}
